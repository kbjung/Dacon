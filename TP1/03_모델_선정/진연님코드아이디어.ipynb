{
 "cells": [
  {
   "cell_type": "code",
   "execution_count": null,
   "metadata": {},
   "outputs": [],
   "source": [
    "for i in tqdm(range(1, 384)):\n",
    "    target = stocks[i]\n",
    "    target_data = target_days[stocks[0:i+1]]\n",
    "    stock_reg = setup(data = target_data, target = target, train_size = 0.9, session_id=123, use_gpu=True, silent=True)\n",
    "    tuned_model = tune_model(compare_models(sort='MAPE', n_select=1))\n",
    "    finalized = finalize_model(tuned_model)\n",
    "    final_prediction = predict_model(finalized, data=sub[stocks[0:i]])\n",
    "    sub[target] = final_prediction.Label"
   ]
  }
 ],
 "metadata": {
  "language_info": {
   "name": "python"
  },
  "orig_nbformat": 4
 },
 "nbformat": 4,
 "nbformat_minor": 2
}
