{
 "cells": [
  {
   "cell_type": "code",
   "execution_count": 29,
   "id": "3983e536",
   "metadata": {},
   "outputs": [],
   "source": [
    "import os\n",
    "import FinanceDataReader as fdr\n",
    "from tqdm import tqdm\n",
    "import pandas as pd"
   ]
  },
  {
   "cell_type": "markdown",
   "id": "40ca9d27",
   "metadata": {},
   "source": [
    "# Pycaret 이용"
   ]
  },
  {
   "cell_type": "markdown",
   "id": "f5758f04",
   "metadata": {},
   "source": [
    "## 모든 종목 예측"
   ]
  },
  {
   "cell_type": "markdown",
   "id": "aff14d9d",
   "metadata": {},
   "source": [
    "* 종가와 상관계수 높은 특성 : KOSDAQ(0.87), KOSPI(0.79), DOW(0.58), NASDAQ(0.50), S&P500(0.56)\n",
    "* 예측 순서(종가와 상관계수 높은 특성 먼저 예측)\n",
    "    * weekday, weeknumdm로 KOSDAQ 예측(종가와 상관계수 0.87)\n",
    "    * weekday, weeknum, KOSDAQ으로 NASDAQ 예측(KOSDAQ과 상관계수 0.68)\n",
    "    * weekday, weeknum, KOSDAQ, NASDAQ으로 S&P500 예측(NASDAQ과 상관계수 0.93)\n",
    "    * weekday, weeknum, KOSDAQ, NASDAQ, S&P500으로 DOW 예측(S&P500과 상관계수 0.95)\n",
    "    * weekday, weeknum, KOSDAQ, NASDAQ, S&P500, DOW로 KOSPI 예측\n",
    "    * weekday, weeknum, KOSDAQ, NASDAQ, S&P500, DOW, KOSPI로 다른 종가 예측 "
   ]
  },
  {
   "cell_type": "code",
   "execution_count": 30,
   "id": "4249df98",
   "metadata": {},
   "outputs": [],
   "source": [
    "# 제출 점수 :"
   ]
  },
  {
   "cell_type": "code",
   "execution_count": 31,
   "id": "2ea038f6",
   "metadata": {},
   "outputs": [],
   "source": [
    "from pycaret.regression import *"
   ]
  },
  {
   "cell_type": "markdown",
   "metadata": {},
   "source": [
    "# 데이터 불러오기"
   ]
  },
  {
   "cell_type": "markdown",
   "metadata": {},
   "source": [
    "## 외부 데이터 가져오기"
   ]
  },
  {
   "cell_type": "code",
   "execution_count": 32,
   "id": "b8040856",
   "metadata": {
    "scrolled": true
   },
   "outputs": [
    {
     "data": {
      "text/html": [
       "<div>\n",
       "<style scoped>\n",
       "    .dataframe tbody tr th:only-of-type {\n",
       "        vertical-align: middle;\n",
       "    }\n",
       "\n",
       "    .dataframe tbody tr th {\n",
       "        vertical-align: top;\n",
       "    }\n",
       "\n",
       "    .dataframe thead th {\n",
       "        text-align: right;\n",
       "    }\n",
       "</style>\n",
       "<table border=\"1\" class=\"dataframe\">\n",
       "  <thead>\n",
       "    <tr style=\"text-align: right;\">\n",
       "      <th></th>\n",
       "      <th>Date</th>\n",
       "      <th>exchange_rate</th>\n",
       "      <th>kospi</th>\n",
       "      <th>kosdaq</th>\n",
       "      <th>kospi100</th>\n",
       "      <th>dow</th>\n",
       "      <th>nasdaq</th>\n",
       "      <th>sp500</th>\n",
       "      <th>미국채10년-2년</th>\n",
       "      <th>BTC</th>\n",
       "      <th>Gold</th>\n",
       "      <th>Oil</th>\n",
       "      <th>US10Y</th>\n",
       "      <th>US2Y</th>\n",
       "    </tr>\n",
       "  </thead>\n",
       "  <tbody>\n",
       "    <tr>\n",
       "      <th>0</th>\n",
       "      <td>2021-01-04</td>\n",
       "      <td>1086.48</td>\n",
       "      <td>2944.45</td>\n",
       "      <td>977.62</td>\n",
       "      <td>3052.74</td>\n",
       "      <td>30223.89</td>\n",
       "      <td>12698.4</td>\n",
       "      <td>3700.65</td>\n",
       "      <td>0.8009</td>\n",
       "      <td>36499000.0</td>\n",
       "      <td>37.10</td>\n",
       "      <td>32.38</td>\n",
       "      <td>0.918</td>\n",
       "      <td>0.1171</td>\n",
       "    </tr>\n",
       "    <tr>\n",
       "      <th>1</th>\n",
       "      <td>2021-01-05</td>\n",
       "      <td>1086.42</td>\n",
       "      <td>2990.57</td>\n",
       "      <td>985.76</td>\n",
       "      <td>3099.42</td>\n",
       "      <td>30391.60</td>\n",
       "      <td>12819.0</td>\n",
       "      <td>3726.86</td>\n",
       "      <td>0.8320</td>\n",
       "      <td>37962000.0</td>\n",
       "      <td>37.18</td>\n",
       "      <td>33.94</td>\n",
       "      <td>0.955</td>\n",
       "      <td>0.1230</td>\n",
       "    </tr>\n",
       "    <tr>\n",
       "      <th>2</th>\n",
       "      <td>2021-01-06</td>\n",
       "      <td>1087.93</td>\n",
       "      <td>2968.21</td>\n",
       "      <td>981.39</td>\n",
       "      <td>3070.05</td>\n",
       "      <td>30829.40</td>\n",
       "      <td>12740.8</td>\n",
       "      <td>3748.14</td>\n",
       "      <td>0.9002</td>\n",
       "      <td>40731000.0</td>\n",
       "      <td>36.60</td>\n",
       "      <td>34.11</td>\n",
       "      <td>1.039</td>\n",
       "      <td>0.1388</td>\n",
       "    </tr>\n",
       "    <tr>\n",
       "      <th>3</th>\n",
       "      <td>2021-01-07</td>\n",
       "      <td>1094.28</td>\n",
       "      <td>3031.68</td>\n",
       "      <td>988.86</td>\n",
       "      <td>3139.48</td>\n",
       "      <td>31041.13</td>\n",
       "      <td>13067.5</td>\n",
       "      <td>3803.79</td>\n",
       "      <td>0.9402</td>\n",
       "      <td>44575000.0</td>\n",
       "      <td>36.48</td>\n",
       "      <td>34.53</td>\n",
       "      <td>1.081</td>\n",
       "      <td>0.1408</td>\n",
       "    </tr>\n",
       "    <tr>\n",
       "      <th>4</th>\n",
       "      <td>2021-01-08</td>\n",
       "      <td>1092.93</td>\n",
       "      <td>3152.18</td>\n",
       "      <td>987.79</td>\n",
       "      <td>3293.96</td>\n",
       "      <td>31097.97</td>\n",
       "      <td>13202.0</td>\n",
       "      <td>3824.68</td>\n",
       "      <td>0.9821</td>\n",
       "      <td>47241000.0</td>\n",
       "      <td>35.26</td>\n",
       "      <td>35.43</td>\n",
       "      <td>1.119</td>\n",
       "      <td>0.1369</td>\n",
       "    </tr>\n",
       "  </tbody>\n",
       "</table>\n",
       "</div>"
      ],
      "text/plain": [
       "         Date  exchange_rate    kospi  kosdaq  kospi100       dow   nasdaq  \\\n",
       "0  2021-01-04        1086.48  2944.45  977.62   3052.74  30223.89  12698.4   \n",
       "1  2021-01-05        1086.42  2990.57  985.76   3099.42  30391.60  12819.0   \n",
       "2  2021-01-06        1087.93  2968.21  981.39   3070.05  30829.40  12740.8   \n",
       "3  2021-01-07        1094.28  3031.68  988.86   3139.48  31041.13  13067.5   \n",
       "4  2021-01-08        1092.93  3152.18  987.79   3293.96  31097.97  13202.0   \n",
       "\n",
       "     sp500  미국채10년-2년         BTC   Gold    Oil  US10Y    US2Y  \n",
       "0  3700.65     0.8009  36499000.0  37.10  32.38  0.918  0.1171  \n",
       "1  3726.86     0.8320  37962000.0  37.18  33.94  0.955  0.1230  \n",
       "2  3748.14     0.9002  40731000.0  36.60  34.11  1.039  0.1388  \n",
       "3  3803.79     0.9402  44575000.0  36.48  34.53  1.081  0.1408  \n",
       "4  3824.68     0.9821  47241000.0  35.26  35.43  1.119  0.1369  "
      ]
     },
     "execution_count": 32,
     "metadata": {},
     "output_type": "execute_result"
    }
   ],
   "source": [
    "# 외부 데이터 가져오기\n",
    "df = pd.read_csv('../data/20210104_20211119_data_interpolate.csv')\n",
    "df.head()"
   ]
  },
  {
   "cell_type": "code",
   "execution_count": 33,
   "id": "11a9f7cf",
   "metadata": {},
   "outputs": [
    {
     "name": "stdout",
     "output_type": "stream",
     "text": [
      "<class 'pandas.core.frame.DataFrame'>\n",
      "RangeIndex: 230 entries, 0 to 229\n",
      "Data columns (total 14 columns):\n",
      " #   Column         Non-Null Count  Dtype  \n",
      "---  ------         --------------  -----  \n",
      " 0   Date           230 non-null    object \n",
      " 1   exchange_rate  230 non-null    float64\n",
      " 2   kospi          230 non-null    float64\n",
      " 3   kosdaq         230 non-null    float64\n",
      " 4   kospi100       230 non-null    float64\n",
      " 5   dow            230 non-null    float64\n",
      " 6   nasdaq         230 non-null    float64\n",
      " 7   sp500          230 non-null    float64\n",
      " 8   미국채10년-2년      230 non-null    float64\n",
      " 9   BTC            230 non-null    float64\n",
      " 10  Gold           230 non-null    float64\n",
      " 11  Oil            230 non-null    float64\n",
      " 12  US10Y          230 non-null    float64\n",
      " 13  US2Y           230 non-null    float64\n",
      "dtypes: float64(13), object(1)\n",
      "memory usage: 25.3+ KB\n"
     ]
    }
   ],
   "source": [
    "df.info()"
   ]
  },
  {
   "cell_type": "code",
   "execution_count": 34,
   "id": "e2bb45f8",
   "metadata": {},
   "outputs": [
    {
     "data": {
      "text/plain": [
       "Index(['Date', 'exchange_rate', 'kospi', 'kosdaq', 'kospi100', 'dow', 'nasdaq',\n",
       "       'sp500', '미국채10년-2년', 'BTC', 'Gold', 'Oil', 'US10Y', 'US2Y'],\n",
       "      dtype='object')"
      ]
     },
     "execution_count": 34,
     "metadata": {},
     "output_type": "execute_result"
    }
   ],
   "source": [
    "df.columns"
   ]
  },
  {
   "cell_type": "markdown",
   "id": "2c26792f",
   "metadata": {},
   "source": [
    "### 필요한 특성만 추출"
   ]
  },
  {
   "cell_type": "code",
   "execution_count": 35,
   "id": "e9c5e72e",
   "metadata": {},
   "outputs": [
    {
     "data": {
      "text/html": [
       "<div>\n",
       "<style scoped>\n",
       "    .dataframe tbody tr th:only-of-type {\n",
       "        vertical-align: middle;\n",
       "    }\n",
       "\n",
       "    .dataframe tbody tr th {\n",
       "        vertical-align: top;\n",
       "    }\n",
       "\n",
       "    .dataframe thead th {\n",
       "        text-align: right;\n",
       "    }\n",
       "</style>\n",
       "<table border=\"1\" class=\"dataframe\">\n",
       "  <thead>\n",
       "    <tr style=\"text-align: right;\">\n",
       "      <th></th>\n",
       "      <th>Date</th>\n",
       "      <th>kosdaq</th>\n",
       "      <th>nasdaq</th>\n",
       "      <th>sp500</th>\n",
       "      <th>dow</th>\n",
       "      <th>kospi</th>\n",
       "    </tr>\n",
       "  </thead>\n",
       "  <tbody>\n",
       "    <tr>\n",
       "      <th>0</th>\n",
       "      <td>2021-01-04</td>\n",
       "      <td>977.62</td>\n",
       "      <td>12698.4</td>\n",
       "      <td>3700.65</td>\n",
       "      <td>30223.89</td>\n",
       "      <td>2944.45</td>\n",
       "    </tr>\n",
       "    <tr>\n",
       "      <th>1</th>\n",
       "      <td>2021-01-05</td>\n",
       "      <td>985.76</td>\n",
       "      <td>12819.0</td>\n",
       "      <td>3726.86</td>\n",
       "      <td>30391.60</td>\n",
       "      <td>2990.57</td>\n",
       "    </tr>\n",
       "    <tr>\n",
       "      <th>2</th>\n",
       "      <td>2021-01-06</td>\n",
       "      <td>981.39</td>\n",
       "      <td>12740.8</td>\n",
       "      <td>3748.14</td>\n",
       "      <td>30829.40</td>\n",
       "      <td>2968.21</td>\n",
       "    </tr>\n",
       "    <tr>\n",
       "      <th>3</th>\n",
       "      <td>2021-01-07</td>\n",
       "      <td>988.86</td>\n",
       "      <td>13067.5</td>\n",
       "      <td>3803.79</td>\n",
       "      <td>31041.13</td>\n",
       "      <td>3031.68</td>\n",
       "    </tr>\n",
       "    <tr>\n",
       "      <th>4</th>\n",
       "      <td>2021-01-08</td>\n",
       "      <td>987.79</td>\n",
       "      <td>13202.0</td>\n",
       "      <td>3824.68</td>\n",
       "      <td>31097.97</td>\n",
       "      <td>3152.18</td>\n",
       "    </tr>\n",
       "  </tbody>\n",
       "</table>\n",
       "</div>"
      ],
      "text/plain": [
       "         Date  kosdaq   nasdaq    sp500       dow    kospi\n",
       "0  2021-01-04  977.62  12698.4  3700.65  30223.89  2944.45\n",
       "1  2021-01-05  985.76  12819.0  3726.86  30391.60  2990.57\n",
       "2  2021-01-06  981.39  12740.8  3748.14  30829.40  2968.21\n",
       "3  2021-01-07  988.86  13067.5  3803.79  31041.13  3031.68\n",
       "4  2021-01-08  987.79  13202.0  3824.68  31097.97  3152.18"
      ]
     },
     "execution_count": 35,
     "metadata": {},
     "output_type": "execute_result"
    }
   ],
   "source": [
    "df = df[['Date','kosdaq','nasdaq','sp500','dow','kospi']]\n",
    "df.head()"
   ]
  },
  {
   "cell_type": "code",
   "execution_count": 36,
   "id": "09e3d654",
   "metadata": {},
   "outputs": [],
   "source": [
    "# 요일 번호와 주 번호 지정하여 열로 추가하기\n",
    "df['Date'] = pd.to_datetime(df['Date'])\n",
    "df['weekday'] = df['Date'].apply(lambda x : x.weekday())\n",
    "df['weeknum'] = df['Date'].apply(lambda x : x.strftime('%V'))"
   ]
  },
  {
   "cell_type": "code",
   "execution_count": 37,
   "id": "aaf4f851",
   "metadata": {},
   "outputs": [
    {
     "name": "stdout",
     "output_type": "stream",
     "text": [
      "<class 'pandas.core.frame.DataFrame'>\n",
      "RangeIndex: 230 entries, 0 to 229\n",
      "Data columns (total 8 columns):\n",
      " #   Column   Non-Null Count  Dtype         \n",
      "---  ------   --------------  -----         \n",
      " 0   Date     230 non-null    datetime64[ns]\n",
      " 1   kosdaq   230 non-null    float64       \n",
      " 2   nasdaq   230 non-null    float64       \n",
      " 3   sp500    230 non-null    float64       \n",
      " 4   dow      230 non-null    float64       \n",
      " 5   kospi    230 non-null    float64       \n",
      " 6   weekday  230 non-null    int64         \n",
      " 7   weeknum  230 non-null    object        \n",
      "dtypes: datetime64[ns](1), float64(5), int64(1), object(1)\n",
      "memory usage: 14.5+ KB\n"
     ]
    }
   ],
   "source": [
    "df.info()"
   ]
  },
  {
   "cell_type": "code",
   "execution_count": 38,
   "id": "5ab63075",
   "metadata": {},
   "outputs": [
    {
     "data": {
      "text/plain": [
       "Index(['Date', 'kosdaq', 'nasdaq', 'sp500', 'dow', 'kospi', 'weekday',\n",
       "       'weeknum'],\n",
       "      dtype='object')"
      ]
     },
     "execution_count": 38,
     "metadata": {},
     "output_type": "execute_result"
    }
   ],
   "source": [
    "df.columns"
   ]
  },
  {
   "cell_type": "code",
   "execution_count": 39,
   "id": "66a5b880",
   "metadata": {},
   "outputs": [
    {
     "data": {
      "text/html": [
       "<div>\n",
       "<style scoped>\n",
       "    .dataframe tbody tr th:only-of-type {\n",
       "        vertical-align: middle;\n",
       "    }\n",
       "\n",
       "    .dataframe tbody tr th {\n",
       "        vertical-align: top;\n",
       "    }\n",
       "\n",
       "    .dataframe thead th {\n",
       "        text-align: right;\n",
       "    }\n",
       "</style>\n",
       "<table border=\"1\" class=\"dataframe\">\n",
       "  <thead>\n",
       "    <tr style=\"text-align: right;\">\n",
       "      <th></th>\n",
       "      <th>Date</th>\n",
       "      <th>weekday</th>\n",
       "      <th>weeknum</th>\n",
       "      <th>kosdaq</th>\n",
       "      <th>nasdaq</th>\n",
       "      <th>sp500</th>\n",
       "      <th>dow</th>\n",
       "      <th>kospi</th>\n",
       "    </tr>\n",
       "  </thead>\n",
       "  <tbody>\n",
       "    <tr>\n",
       "      <th>0</th>\n",
       "      <td>2021-01-04</td>\n",
       "      <td>0</td>\n",
       "      <td>01</td>\n",
       "      <td>977.62</td>\n",
       "      <td>12698.4</td>\n",
       "      <td>3700.65</td>\n",
       "      <td>30223.89</td>\n",
       "      <td>2944.45</td>\n",
       "    </tr>\n",
       "    <tr>\n",
       "      <th>1</th>\n",
       "      <td>2021-01-05</td>\n",
       "      <td>1</td>\n",
       "      <td>01</td>\n",
       "      <td>985.76</td>\n",
       "      <td>12819.0</td>\n",
       "      <td>3726.86</td>\n",
       "      <td>30391.60</td>\n",
       "      <td>2990.57</td>\n",
       "    </tr>\n",
       "    <tr>\n",
       "      <th>2</th>\n",
       "      <td>2021-01-06</td>\n",
       "      <td>2</td>\n",
       "      <td>01</td>\n",
       "      <td>981.39</td>\n",
       "      <td>12740.8</td>\n",
       "      <td>3748.14</td>\n",
       "      <td>30829.40</td>\n",
       "      <td>2968.21</td>\n",
       "    </tr>\n",
       "    <tr>\n",
       "      <th>3</th>\n",
       "      <td>2021-01-07</td>\n",
       "      <td>3</td>\n",
       "      <td>01</td>\n",
       "      <td>988.86</td>\n",
       "      <td>13067.5</td>\n",
       "      <td>3803.79</td>\n",
       "      <td>31041.13</td>\n",
       "      <td>3031.68</td>\n",
       "    </tr>\n",
       "    <tr>\n",
       "      <th>4</th>\n",
       "      <td>2021-01-08</td>\n",
       "      <td>4</td>\n",
       "      <td>01</td>\n",
       "      <td>987.79</td>\n",
       "      <td>13202.0</td>\n",
       "      <td>3824.68</td>\n",
       "      <td>31097.97</td>\n",
       "      <td>3152.18</td>\n",
       "    </tr>\n",
       "  </tbody>\n",
       "</table>\n",
       "</div>"
      ],
      "text/plain": [
       "        Date  weekday weeknum  kosdaq   nasdaq    sp500       dow    kospi\n",
       "0 2021-01-04        0      01  977.62  12698.4  3700.65  30223.89  2944.45\n",
       "1 2021-01-05        1      01  985.76  12819.0  3726.86  30391.60  2990.57\n",
       "2 2021-01-06        2      01  981.39  12740.8  3748.14  30829.40  2968.21\n",
       "3 2021-01-07        3      01  988.86  13067.5  3803.79  31041.13  3031.68\n",
       "4 2021-01-08        4      01  987.79  13202.0  3824.68  31097.97  3152.18"
      ]
     },
     "execution_count": 39,
     "metadata": {},
     "output_type": "execute_result"
    }
   ],
   "source": [
    "df = df[['Date', 'weekday', 'weeknum','kosdaq', 'nasdaq', 'sp500', 'dow', 'kospi']]\n",
    "df.head()"
   ]
  },
  {
   "cell_type": "markdown",
   "metadata": {},
   "source": [
    "### 훈련, 테스트 셋 나누기"
   ]
  },
  {
   "cell_type": "code",
   "execution_count": 72,
   "metadata": {},
   "outputs": [],
   "source": [
    "start_date = '2021-01-04'\n",
    "end_date = '2021-10-29'"
   ]
  },
  {
   "cell_type": "code",
   "execution_count": 73,
   "id": "b347c57a",
   "metadata": {},
   "outputs": [],
   "source": [
    "train = df[(df['Date'] <= end_date) & (df['Date'] >= start_date)]\n",
    "test =  df[(df['Date'] <= '2021-11-05') & (df['Date'] >= '2021-11-01')]"
   ]
  },
  {
   "cell_type": "code",
   "execution_count": 74,
   "id": "e5651bc9",
   "metadata": {},
   "outputs": [
    {
     "data": {
      "text/plain": [
       "((215, 8), (5, 8))"
      ]
     },
     "execution_count": 74,
     "metadata": {},
     "output_type": "execute_result"
    }
   ],
   "source": [
    "train.shape, test.shape"
   ]
  },
  {
   "cell_type": "code",
   "execution_count": 75,
   "id": "d65ca4e7",
   "metadata": {},
   "outputs": [
    {
     "data": {
      "text/html": [
       "<div>\n",
       "<style scoped>\n",
       "    .dataframe tbody tr th:only-of-type {\n",
       "        vertical-align: middle;\n",
       "    }\n",
       "\n",
       "    .dataframe tbody tr th {\n",
       "        vertical-align: top;\n",
       "    }\n",
       "\n",
       "    .dataframe thead th {\n",
       "        text-align: right;\n",
       "    }\n",
       "</style>\n",
       "<table border=\"1\" class=\"dataframe\">\n",
       "  <thead>\n",
       "    <tr style=\"text-align: right;\">\n",
       "      <th></th>\n",
       "      <th>Date</th>\n",
       "      <th>weekday</th>\n",
       "      <th>weeknum</th>\n",
       "      <th>kosdaq</th>\n",
       "      <th>nasdaq</th>\n",
       "      <th>sp500</th>\n",
       "      <th>dow</th>\n",
       "      <th>kospi</th>\n",
       "    </tr>\n",
       "  </thead>\n",
       "  <tbody>\n",
       "    <tr>\n",
       "      <th>0</th>\n",
       "      <td>2021-01-04</td>\n",
       "      <td>0</td>\n",
       "      <td>01</td>\n",
       "      <td>977.62</td>\n",
       "      <td>12698.4</td>\n",
       "      <td>3700.65</td>\n",
       "      <td>30223.89</td>\n",
       "      <td>2944.45</td>\n",
       "    </tr>\n",
       "    <tr>\n",
       "      <th>1</th>\n",
       "      <td>2021-01-05</td>\n",
       "      <td>1</td>\n",
       "      <td>01</td>\n",
       "      <td>985.76</td>\n",
       "      <td>12819.0</td>\n",
       "      <td>3726.86</td>\n",
       "      <td>30391.60</td>\n",
       "      <td>2990.57</td>\n",
       "    </tr>\n",
       "    <tr>\n",
       "      <th>2</th>\n",
       "      <td>2021-01-06</td>\n",
       "      <td>2</td>\n",
       "      <td>01</td>\n",
       "      <td>981.39</td>\n",
       "      <td>12740.8</td>\n",
       "      <td>3748.14</td>\n",
       "      <td>30829.40</td>\n",
       "      <td>2968.21</td>\n",
       "    </tr>\n",
       "    <tr>\n",
       "      <th>3</th>\n",
       "      <td>2021-01-07</td>\n",
       "      <td>3</td>\n",
       "      <td>01</td>\n",
       "      <td>988.86</td>\n",
       "      <td>13067.5</td>\n",
       "      <td>3803.79</td>\n",
       "      <td>31041.13</td>\n",
       "      <td>3031.68</td>\n",
       "    </tr>\n",
       "    <tr>\n",
       "      <th>4</th>\n",
       "      <td>2021-01-08</td>\n",
       "      <td>4</td>\n",
       "      <td>01</td>\n",
       "      <td>987.79</td>\n",
       "      <td>13202.0</td>\n",
       "      <td>3824.68</td>\n",
       "      <td>31097.97</td>\n",
       "      <td>3152.18</td>\n",
       "    </tr>\n",
       "    <tr>\n",
       "      <th>...</th>\n",
       "      <td>...</td>\n",
       "      <td>...</td>\n",
       "      <td>...</td>\n",
       "      <td>...</td>\n",
       "      <td>...</td>\n",
       "      <td>...</td>\n",
       "      <td>...</td>\n",
       "      <td>...</td>\n",
       "    </tr>\n",
       "    <tr>\n",
       "      <th>210</th>\n",
       "      <td>2021-10-25</td>\n",
       "      <td>0</td>\n",
       "      <td>43</td>\n",
       "      <td>994.31</td>\n",
       "      <td>15226.7</td>\n",
       "      <td>4566.48</td>\n",
       "      <td>35743.78</td>\n",
       "      <td>3020.54</td>\n",
       "    </tr>\n",
       "    <tr>\n",
       "      <th>211</th>\n",
       "      <td>2021-10-26</td>\n",
       "      <td>1</td>\n",
       "      <td>43</td>\n",
       "      <td>1011.76</td>\n",
       "      <td>15235.7</td>\n",
       "      <td>4574.79</td>\n",
       "      <td>35755.83</td>\n",
       "      <td>3049.08</td>\n",
       "    </tr>\n",
       "    <tr>\n",
       "      <th>212</th>\n",
       "      <td>2021-10-27</td>\n",
       "      <td>2</td>\n",
       "      <td>43</td>\n",
       "      <td>1008.95</td>\n",
       "      <td>15235.8</td>\n",
       "      <td>4551.68</td>\n",
       "      <td>35491.48</td>\n",
       "      <td>3025.49</td>\n",
       "    </tr>\n",
       "    <tr>\n",
       "      <th>213</th>\n",
       "      <td>2021-10-28</td>\n",
       "      <td>3</td>\n",
       "      <td>43</td>\n",
       "      <td>1000.13</td>\n",
       "      <td>15448.1</td>\n",
       "      <td>4596.42</td>\n",
       "      <td>35729.89</td>\n",
       "      <td>3009.55</td>\n",
       "    </tr>\n",
       "    <tr>\n",
       "      <th>214</th>\n",
       "      <td>2021-10-29</td>\n",
       "      <td>4</td>\n",
       "      <td>43</td>\n",
       "      <td>992.33</td>\n",
       "      <td>15498.4</td>\n",
       "      <td>4605.38</td>\n",
       "      <td>35819.59</td>\n",
       "      <td>2970.68</td>\n",
       "    </tr>\n",
       "  </tbody>\n",
       "</table>\n",
       "<p>215 rows × 8 columns</p>\n",
       "</div>"
      ],
      "text/plain": [
       "          Date  weekday weeknum   kosdaq   nasdaq    sp500       dow    kospi\n",
       "0   2021-01-04        0      01   977.62  12698.4  3700.65  30223.89  2944.45\n",
       "1   2021-01-05        1      01   985.76  12819.0  3726.86  30391.60  2990.57\n",
       "2   2021-01-06        2      01   981.39  12740.8  3748.14  30829.40  2968.21\n",
       "3   2021-01-07        3      01   988.86  13067.5  3803.79  31041.13  3031.68\n",
       "4   2021-01-08        4      01   987.79  13202.0  3824.68  31097.97  3152.18\n",
       "..         ...      ...     ...      ...      ...      ...       ...      ...\n",
       "210 2021-10-25        0      43   994.31  15226.7  4566.48  35743.78  3020.54\n",
       "211 2021-10-26        1      43  1011.76  15235.7  4574.79  35755.83  3049.08\n",
       "212 2021-10-27        2      43  1008.95  15235.8  4551.68  35491.48  3025.49\n",
       "213 2021-10-28        3      43  1000.13  15448.1  4596.42  35729.89  3009.55\n",
       "214 2021-10-29        4      43   992.33  15498.4  4605.38  35819.59  2970.68\n",
       "\n",
       "[215 rows x 8 columns]"
      ]
     },
     "execution_count": 75,
     "metadata": {},
     "output_type": "execute_result"
    }
   ],
   "source": [
    "train"
   ]
  },
  {
   "cell_type": "code",
   "execution_count": 76,
   "id": "8f3545b5",
   "metadata": {},
   "outputs": [
    {
     "data": {
      "text/html": [
       "<div>\n",
       "<style scoped>\n",
       "    .dataframe tbody tr th:only-of-type {\n",
       "        vertical-align: middle;\n",
       "    }\n",
       "\n",
       "    .dataframe tbody tr th {\n",
       "        vertical-align: top;\n",
       "    }\n",
       "\n",
       "    .dataframe thead th {\n",
       "        text-align: right;\n",
       "    }\n",
       "</style>\n",
       "<table border=\"1\" class=\"dataframe\">\n",
       "  <thead>\n",
       "    <tr style=\"text-align: right;\">\n",
       "      <th></th>\n",
       "      <th>Date</th>\n",
       "      <th>weekday</th>\n",
       "      <th>weeknum</th>\n",
       "      <th>kosdaq</th>\n",
       "      <th>nasdaq</th>\n",
       "      <th>sp500</th>\n",
       "      <th>dow</th>\n",
       "      <th>kospi</th>\n",
       "    </tr>\n",
       "  </thead>\n",
       "  <tbody>\n",
       "    <tr>\n",
       "      <th>215</th>\n",
       "      <td>2021-11-01</td>\n",
       "      <td>0</td>\n",
       "      <td>44</td>\n",
       "      <td>998.57</td>\n",
       "      <td>15595.9</td>\n",
       "      <td>4613.67</td>\n",
       "      <td>35913.68</td>\n",
       "      <td>2978.94</td>\n",
       "    </tr>\n",
       "    <tr>\n",
       "      <th>216</th>\n",
       "      <td>2021-11-02</td>\n",
       "      <td>1</td>\n",
       "      <td>44</td>\n",
       "      <td>1009.44</td>\n",
       "      <td>15649.6</td>\n",
       "      <td>4630.65</td>\n",
       "      <td>36053.09</td>\n",
       "      <td>3013.49</td>\n",
       "    </tr>\n",
       "    <tr>\n",
       "      <th>217</th>\n",
       "      <td>2021-11-03</td>\n",
       "      <td>2</td>\n",
       "      <td>44</td>\n",
       "      <td>1005.00</td>\n",
       "      <td>15811.6</td>\n",
       "      <td>4660.57</td>\n",
       "      <td>36157.02</td>\n",
       "      <td>2975.71</td>\n",
       "    </tr>\n",
       "    <tr>\n",
       "      <th>218</th>\n",
       "      <td>2021-11-04</td>\n",
       "      <td>3</td>\n",
       "      <td>44</td>\n",
       "      <td>1001.43</td>\n",
       "      <td>15940.3</td>\n",
       "      <td>4680.06</td>\n",
       "      <td>36124.66</td>\n",
       "      <td>2983.22</td>\n",
       "    </tr>\n",
       "    <tr>\n",
       "      <th>219</th>\n",
       "      <td>2021-11-05</td>\n",
       "      <td>4</td>\n",
       "      <td>44</td>\n",
       "      <td>1001.35</td>\n",
       "      <td>15971.6</td>\n",
       "      <td>4697.53</td>\n",
       "      <td>36329.07</td>\n",
       "      <td>2969.27</td>\n",
       "    </tr>\n",
       "  </tbody>\n",
       "</table>\n",
       "</div>"
      ],
      "text/plain": [
       "          Date  weekday weeknum   kosdaq   nasdaq    sp500       dow    kospi\n",
       "215 2021-11-01        0      44   998.57  15595.9  4613.67  35913.68  2978.94\n",
       "216 2021-11-02        1      44  1009.44  15649.6  4630.65  36053.09  3013.49\n",
       "217 2021-11-03        2      44  1005.00  15811.6  4660.57  36157.02  2975.71\n",
       "218 2021-11-04        3      44  1001.43  15940.3  4680.06  36124.66  2983.22\n",
       "219 2021-11-05        4      44  1001.35  15971.6  4697.53  36329.07  2969.27"
      ]
     },
     "execution_count": 76,
     "metadata": {},
     "output_type": "execute_result"
    }
   ],
   "source": [
    "test.head()"
   ]
  },
  {
   "cell_type": "code",
   "execution_count": 77,
   "id": "08a1d1e8",
   "metadata": {},
   "outputs": [
    {
     "data": {
      "text/html": [
       "<div>\n",
       "<style scoped>\n",
       "    .dataframe tbody tr th:only-of-type {\n",
       "        vertical-align: middle;\n",
       "    }\n",
       "\n",
       "    .dataframe tbody tr th {\n",
       "        vertical-align: top;\n",
       "    }\n",
       "\n",
       "    .dataframe thead th {\n",
       "        text-align: right;\n",
       "    }\n",
       "</style>\n",
       "<table border=\"1\" class=\"dataframe\">\n",
       "  <thead>\n",
       "    <tr style=\"text-align: right;\">\n",
       "      <th></th>\n",
       "      <th>Date</th>\n",
       "      <th>weekday</th>\n",
       "      <th>weeknum</th>\n",
       "    </tr>\n",
       "  </thead>\n",
       "  <tbody>\n",
       "    <tr>\n",
       "      <th>215</th>\n",
       "      <td>2021-11-01</td>\n",
       "      <td>0</td>\n",
       "      <td>44</td>\n",
       "    </tr>\n",
       "    <tr>\n",
       "      <th>216</th>\n",
       "      <td>2021-11-02</td>\n",
       "      <td>1</td>\n",
       "      <td>44</td>\n",
       "    </tr>\n",
       "    <tr>\n",
       "      <th>217</th>\n",
       "      <td>2021-11-03</td>\n",
       "      <td>2</td>\n",
       "      <td>44</td>\n",
       "    </tr>\n",
       "    <tr>\n",
       "      <th>218</th>\n",
       "      <td>2021-11-04</td>\n",
       "      <td>3</td>\n",
       "      <td>44</td>\n",
       "    </tr>\n",
       "    <tr>\n",
       "      <th>219</th>\n",
       "      <td>2021-11-05</td>\n",
       "      <td>4</td>\n",
       "      <td>44</td>\n",
       "    </tr>\n",
       "  </tbody>\n",
       "</table>\n",
       "</div>"
      ],
      "text/plain": [
       "          Date  weekday weeknum\n",
       "215 2021-11-01        0      44\n",
       "216 2021-11-02        1      44\n",
       "217 2021-11-03        2      44\n",
       "218 2021-11-04        3      44\n",
       "219 2021-11-05        4      44"
      ]
     },
     "execution_count": 77,
     "metadata": {},
     "output_type": "execute_result"
    }
   ],
   "source": [
    "test = test[['Date', 'weekday', 'weeknum']]\n",
    "test"
   ]
  },
  {
   "cell_type": "markdown",
   "metadata": {},
   "source": [
    "## 종목 정보 가져오기"
   ]
  },
  {
   "cell_type": "code",
   "execution_count": 78,
   "id": "1dda3c7c",
   "metadata": {},
   "outputs": [
    {
     "data": {
      "text/html": [
       "<div>\n",
       "<style scoped>\n",
       "    .dataframe tbody tr th:only-of-type {\n",
       "        vertical-align: middle;\n",
       "    }\n",
       "\n",
       "    .dataframe tbody tr th {\n",
       "        vertical-align: top;\n",
       "    }\n",
       "\n",
       "    .dataframe thead th {\n",
       "        text-align: right;\n",
       "    }\n",
       "</style>\n",
       "<table border=\"1\" class=\"dataframe\">\n",
       "  <thead>\n",
       "    <tr style=\"text-align: right;\">\n",
       "      <th></th>\n",
       "      <th>종목명</th>\n",
       "      <th>종목코드</th>\n",
       "      <th>상장시장</th>\n",
       "    </tr>\n",
       "  </thead>\n",
       "  <tbody>\n",
       "    <tr>\n",
       "      <th>0</th>\n",
       "      <td>삼성전자</td>\n",
       "      <td>5930</td>\n",
       "      <td>KOSPI</td>\n",
       "    </tr>\n",
       "    <tr>\n",
       "      <th>1</th>\n",
       "      <td>SK하이닉스</td>\n",
       "      <td>660</td>\n",
       "      <td>KOSPI</td>\n",
       "    </tr>\n",
       "    <tr>\n",
       "      <th>2</th>\n",
       "      <td>NAVER</td>\n",
       "      <td>35420</td>\n",
       "      <td>KOSPI</td>\n",
       "    </tr>\n",
       "    <tr>\n",
       "      <th>3</th>\n",
       "      <td>카카오</td>\n",
       "      <td>35720</td>\n",
       "      <td>KOSPI</td>\n",
       "    </tr>\n",
       "    <tr>\n",
       "      <th>4</th>\n",
       "      <td>삼성바이오로직스</td>\n",
       "      <td>207940</td>\n",
       "      <td>KOSPI</td>\n",
       "    </tr>\n",
       "  </tbody>\n",
       "</table>\n",
       "</div>"
      ],
      "text/plain": [
       "        종목명    종목코드   상장시장\n",
       "0      삼성전자    5930  KOSPI\n",
       "1    SK하이닉스     660  KOSPI\n",
       "2     NAVER   35420  KOSPI\n",
       "3       카카오   35720  KOSPI\n",
       "4  삼성바이오로직스  207940  KOSPI"
      ]
     },
     "execution_count": 78,
     "metadata": {},
     "output_type": "execute_result"
    }
   ],
   "source": [
    "# 종목 정보 가져오기\n",
    "path = '../data'\n",
    "list_name = 'Stock_List.csv'\n",
    "stock_list = pd.read_csv(os.path.join(path,list_name))\n",
    "stock_list.head()"
   ]
  },
  {
   "cell_type": "code",
   "execution_count": 79,
   "id": "6b9b448c",
   "metadata": {},
   "outputs": [
    {
     "name": "stdout",
     "output_type": "stream",
     "text": [
      "<class 'pandas.core.frame.DataFrame'>\n",
      "RangeIndex: 370 entries, 0 to 369\n",
      "Data columns (total 3 columns):\n",
      " #   Column  Non-Null Count  Dtype \n",
      "---  ------  --------------  ----- \n",
      " 0   종목명     370 non-null    object\n",
      " 1   종목코드    370 non-null    int64 \n",
      " 2   상장시장    370 non-null    object\n",
      "dtypes: int64(1), object(2)\n",
      "memory usage: 8.8+ KB\n"
     ]
    }
   ],
   "source": [
    "stock_list.info()"
   ]
  },
  {
   "cell_type": "code",
   "execution_count": 80,
   "id": "966246d5",
   "metadata": {
    "scrolled": false
   },
   "outputs": [
    {
     "data": {
      "text/html": [
       "<div>\n",
       "<style scoped>\n",
       "    .dataframe tbody tr th:only-of-type {\n",
       "        vertical-align: middle;\n",
       "    }\n",
       "\n",
       "    .dataframe tbody tr th {\n",
       "        vertical-align: top;\n",
       "    }\n",
       "\n",
       "    .dataframe thead th {\n",
       "        text-align: right;\n",
       "    }\n",
       "</style>\n",
       "<table border=\"1\" class=\"dataframe\">\n",
       "  <thead>\n",
       "    <tr style=\"text-align: right;\">\n",
       "      <th></th>\n",
       "      <th>종목명</th>\n",
       "      <th>종목코드</th>\n",
       "      <th>상장시장</th>\n",
       "    </tr>\n",
       "  </thead>\n",
       "  <tbody>\n",
       "    <tr>\n",
       "      <th>0</th>\n",
       "      <td>삼성전자</td>\n",
       "      <td>005930</td>\n",
       "      <td>KOSPI</td>\n",
       "    </tr>\n",
       "    <tr>\n",
       "      <th>1</th>\n",
       "      <td>SK하이닉스</td>\n",
       "      <td>000660</td>\n",
       "      <td>KOSPI</td>\n",
       "    </tr>\n",
       "    <tr>\n",
       "      <th>2</th>\n",
       "      <td>NAVER</td>\n",
       "      <td>035420</td>\n",
       "      <td>KOSPI</td>\n",
       "    </tr>\n",
       "    <tr>\n",
       "      <th>3</th>\n",
       "      <td>카카오</td>\n",
       "      <td>035720</td>\n",
       "      <td>KOSPI</td>\n",
       "    </tr>\n",
       "    <tr>\n",
       "      <th>4</th>\n",
       "      <td>삼성바이오로직스</td>\n",
       "      <td>207940</td>\n",
       "      <td>KOSPI</td>\n",
       "    </tr>\n",
       "  </tbody>\n",
       "</table>\n",
       "</div>"
      ],
      "text/plain": [
       "        종목명    종목코드   상장시장\n",
       "0      삼성전자  005930  KOSPI\n",
       "1    SK하이닉스  000660  KOSPI\n",
       "2     NAVER  035420  KOSPI\n",
       "3       카카오  035720  KOSPI\n",
       "4  삼성바이오로직스  207940  KOSPI"
      ]
     },
     "execution_count": 80,
     "metadata": {},
     "output_type": "execute_result"
    }
   ],
   "source": [
    "# 종목 코드 6자리로 맞추기\n",
    "stock_list['종목코드'] = stock_list[\"종목코드\"].astype(str).str.zfill(6)\n",
    "stock_list.head()"
   ]
  },
  {
   "cell_type": "markdown",
   "id": "b3758670",
   "metadata": {},
   "source": [
    "# 종가 예측"
   ]
  },
  {
   "cell_type": "markdown",
   "id": "f78d928f",
   "metadata": {},
   "source": [
    "* 1. kosdaq 예측\n",
    "* 2. nasdaq\n",
    "* 3. sp500\n",
    "* 4. dow\n",
    "* 5. kospi\n",
    "* 6. 종가"
   ]
  },
  {
   "cell_type": "code",
   "execution_count": 81,
   "id": "2b719356",
   "metadata": {},
   "outputs": [
    {
     "data": {
      "text/html": [
       "<div>\n",
       "<style scoped>\n",
       "    .dataframe tbody tr th:only-of-type {\n",
       "        vertical-align: middle;\n",
       "    }\n",
       "\n",
       "    .dataframe tbody tr th {\n",
       "        vertical-align: top;\n",
       "    }\n",
       "\n",
       "    .dataframe thead th {\n",
       "        text-align: right;\n",
       "    }\n",
       "</style>\n",
       "<table border=\"1\" class=\"dataframe\">\n",
       "  <thead>\n",
       "    <tr style=\"text-align: right;\">\n",
       "      <th></th>\n",
       "      <th>Date</th>\n",
       "      <th>weekday</th>\n",
       "      <th>weeknum</th>\n",
       "      <th>kosdaq</th>\n",
       "      <th>nasdaq</th>\n",
       "      <th>sp500</th>\n",
       "      <th>dow</th>\n",
       "      <th>kospi</th>\n",
       "    </tr>\n",
       "  </thead>\n",
       "  <tbody>\n",
       "    <tr>\n",
       "      <th>0</th>\n",
       "      <td>2021-01-04</td>\n",
       "      <td>0</td>\n",
       "      <td>01</td>\n",
       "      <td>977.62</td>\n",
       "      <td>12698.4</td>\n",
       "      <td>3700.65</td>\n",
       "      <td>30223.89</td>\n",
       "      <td>2944.45</td>\n",
       "    </tr>\n",
       "    <tr>\n",
       "      <th>1</th>\n",
       "      <td>2021-01-05</td>\n",
       "      <td>1</td>\n",
       "      <td>01</td>\n",
       "      <td>985.76</td>\n",
       "      <td>12819.0</td>\n",
       "      <td>3726.86</td>\n",
       "      <td>30391.60</td>\n",
       "      <td>2990.57</td>\n",
       "    </tr>\n",
       "    <tr>\n",
       "      <th>2</th>\n",
       "      <td>2021-01-06</td>\n",
       "      <td>2</td>\n",
       "      <td>01</td>\n",
       "      <td>981.39</td>\n",
       "      <td>12740.8</td>\n",
       "      <td>3748.14</td>\n",
       "      <td>30829.40</td>\n",
       "      <td>2968.21</td>\n",
       "    </tr>\n",
       "    <tr>\n",
       "      <th>3</th>\n",
       "      <td>2021-01-07</td>\n",
       "      <td>3</td>\n",
       "      <td>01</td>\n",
       "      <td>988.86</td>\n",
       "      <td>13067.5</td>\n",
       "      <td>3803.79</td>\n",
       "      <td>31041.13</td>\n",
       "      <td>3031.68</td>\n",
       "    </tr>\n",
       "    <tr>\n",
       "      <th>4</th>\n",
       "      <td>2021-01-08</td>\n",
       "      <td>4</td>\n",
       "      <td>01</td>\n",
       "      <td>987.79</td>\n",
       "      <td>13202.0</td>\n",
       "      <td>3824.68</td>\n",
       "      <td>31097.97</td>\n",
       "      <td>3152.18</td>\n",
       "    </tr>\n",
       "  </tbody>\n",
       "</table>\n",
       "</div>"
      ],
      "text/plain": [
       "        Date  weekday weeknum  kosdaq   nasdaq    sp500       dow    kospi\n",
       "0 2021-01-04        0      01  977.62  12698.4  3700.65  30223.89  2944.45\n",
       "1 2021-01-05        1      01  985.76  12819.0  3726.86  30391.60  2990.57\n",
       "2 2021-01-06        2      01  981.39  12740.8  3748.14  30829.40  2968.21\n",
       "3 2021-01-07        3      01  988.86  13067.5  3803.79  31041.13  3031.68\n",
       "4 2021-01-08        4      01  987.79  13202.0  3824.68  31097.97  3152.18"
      ]
     },
     "execution_count": 81,
     "metadata": {},
     "output_type": "execute_result"
    }
   ],
   "source": [
    "train.head()"
   ]
  },
  {
   "cell_type": "code",
   "execution_count": 82,
   "id": "5b7a61a2",
   "metadata": {},
   "outputs": [
    {
     "data": {
      "text/html": [
       "<div>\n",
       "<style scoped>\n",
       "    .dataframe tbody tr th:only-of-type {\n",
       "        vertical-align: middle;\n",
       "    }\n",
       "\n",
       "    .dataframe tbody tr th {\n",
       "        vertical-align: top;\n",
       "    }\n",
       "\n",
       "    .dataframe thead th {\n",
       "        text-align: right;\n",
       "    }\n",
       "</style>\n",
       "<table border=\"1\" class=\"dataframe\">\n",
       "  <thead>\n",
       "    <tr style=\"text-align: right;\">\n",
       "      <th></th>\n",
       "      <th>Date</th>\n",
       "      <th>weekday</th>\n",
       "      <th>weeknum</th>\n",
       "    </tr>\n",
       "  </thead>\n",
       "  <tbody>\n",
       "    <tr>\n",
       "      <th>215</th>\n",
       "      <td>2021-11-01</td>\n",
       "      <td>0</td>\n",
       "      <td>44</td>\n",
       "    </tr>\n",
       "    <tr>\n",
       "      <th>216</th>\n",
       "      <td>2021-11-02</td>\n",
       "      <td>1</td>\n",
       "      <td>44</td>\n",
       "    </tr>\n",
       "    <tr>\n",
       "      <th>217</th>\n",
       "      <td>2021-11-03</td>\n",
       "      <td>2</td>\n",
       "      <td>44</td>\n",
       "    </tr>\n",
       "    <tr>\n",
       "      <th>218</th>\n",
       "      <td>2021-11-04</td>\n",
       "      <td>3</td>\n",
       "      <td>44</td>\n",
       "    </tr>\n",
       "    <tr>\n",
       "      <th>219</th>\n",
       "      <td>2021-11-05</td>\n",
       "      <td>4</td>\n",
       "      <td>44</td>\n",
       "    </tr>\n",
       "  </tbody>\n",
       "</table>\n",
       "</div>"
      ],
      "text/plain": [
       "          Date  weekday weeknum\n",
       "215 2021-11-01        0      44\n",
       "216 2021-11-02        1      44\n",
       "217 2021-11-03        2      44\n",
       "218 2021-11-04        3      44\n",
       "219 2021-11-05        4      44"
      ]
     },
     "execution_count": 82,
     "metadata": {},
     "output_type": "execute_result"
    }
   ],
   "source": [
    "test"
   ]
  },
  {
   "cell_type": "markdown",
   "id": "a7b562fb",
   "metadata": {},
   "source": [
    "### 테스트셋의 5가지 특성 예측 하기"
   ]
  },
  {
   "cell_type": "code",
   "execution_count": 83,
   "id": "d6f1c17c",
   "metadata": {},
   "outputs": [
    {
     "data": {
      "text/html": [
       "<style  type=\"text/css\" >\n",
       "#T_333f2_row3_col0,#T_333f2_row3_col1,#T_333f2_row3_col2,#T_333f2_row3_col3,#T_333f2_row3_col4,#T_333f2_row3_col5{\n",
       "            background:  yellow;\n",
       "        }</style><table id=\"T_333f2_\" ><thead>    <tr>        <th class=\"blank level0\" ></th>        <th class=\"col_heading level0 col0\" >MAE</th>        <th class=\"col_heading level0 col1\" >MSE</th>        <th class=\"col_heading level0 col2\" >RMSE</th>        <th class=\"col_heading level0 col3\" >R2</th>        <th class=\"col_heading level0 col4\" >RMSLE</th>        <th class=\"col_heading level0 col5\" >MAPE</th>    </tr></thead><tbody>\n",
       "                <tr>\n",
       "                        <th id=\"T_333f2_level0_row0\" class=\"row_heading level0 row0\" >0</th>\n",
       "                        <td id=\"T_333f2_row0_col0\" class=\"data row0 col0\" >16.5338</td>\n",
       "                        <td id=\"T_333f2_row0_col1\" class=\"data row0 col1\" >421.3691</td>\n",
       "                        <td id=\"T_333f2_row0_col2\" class=\"data row0 col2\" >20.5273</td>\n",
       "                        <td id=\"T_333f2_row0_col3\" class=\"data row0 col3\" >0.9357</td>\n",
       "                        <td id=\"T_333f2_row0_col4\" class=\"data row0 col4\" >0.0065</td>\n",
       "                        <td id=\"T_333f2_row0_col5\" class=\"data row0 col5\" >0.0052</td>\n",
       "            </tr>\n",
       "            <tr>\n",
       "                        <th id=\"T_333f2_level0_row1\" class=\"row_heading level0 row1\" >1</th>\n",
       "                        <td id=\"T_333f2_row1_col0\" class=\"data row1 col0\" >24.6391</td>\n",
       "                        <td id=\"T_333f2_row1_col1\" class=\"data row1 col1\" >1052.7833</td>\n",
       "                        <td id=\"T_333f2_row1_col2\" class=\"data row1 col2\" >32.4466</td>\n",
       "                        <td id=\"T_333f2_row1_col3\" class=\"data row1 col3\" >0.8658</td>\n",
       "                        <td id=\"T_333f2_row1_col4\" class=\"data row1 col4\" >0.0105</td>\n",
       "                        <td id=\"T_333f2_row1_col5\" class=\"data row1 col5\" >0.0080</td>\n",
       "            </tr>\n",
       "            <tr>\n",
       "                        <th id=\"T_333f2_level0_row2\" class=\"row_heading level0 row2\" >2</th>\n",
       "                        <td id=\"T_333f2_row2_col0\" class=\"data row2 col0\" >23.9168</td>\n",
       "                        <td id=\"T_333f2_row2_col1\" class=\"data row2 col1\" >1065.3026</td>\n",
       "                        <td id=\"T_333f2_row2_col2\" class=\"data row2 col2\" >32.6390</td>\n",
       "                        <td id=\"T_333f2_row2_col3\" class=\"data row2 col3\" >0.8799</td>\n",
       "                        <td id=\"T_333f2_row2_col4\" class=\"data row2 col4\" >0.0105</td>\n",
       "                        <td id=\"T_333f2_row2_col5\" class=\"data row2 col5\" >0.0077</td>\n",
       "            </tr>\n",
       "            <tr>\n",
       "                        <th id=\"T_333f2_level0_row3\" class=\"row_heading level0 row3\" >Mean</th>\n",
       "                        <td id=\"T_333f2_row3_col0\" class=\"data row3 col0\" >21.6966</td>\n",
       "                        <td id=\"T_333f2_row3_col1\" class=\"data row3 col1\" >846.4850</td>\n",
       "                        <td id=\"T_333f2_row3_col2\" class=\"data row3 col2\" >28.5376</td>\n",
       "                        <td id=\"T_333f2_row3_col3\" class=\"data row3 col3\" >0.8938</td>\n",
       "                        <td id=\"T_333f2_row3_col4\" class=\"data row3 col4\" >0.0092</td>\n",
       "                        <td id=\"T_333f2_row3_col5\" class=\"data row3 col5\" >0.0070</td>\n",
       "            </tr>\n",
       "            <tr>\n",
       "                        <th id=\"T_333f2_level0_row4\" class=\"row_heading level0 row4\" >SD</th>\n",
       "                        <td id=\"T_333f2_row4_col0\" class=\"data row4 col0\" >3.6625</td>\n",
       "                        <td id=\"T_333f2_row4_col1\" class=\"data row4 col1\" >300.6458</td>\n",
       "                        <td id=\"T_333f2_row4_col2\" class=\"data row4 col2\" >5.6647</td>\n",
       "                        <td id=\"T_333f2_row4_col3\" class=\"data row4 col3\" >0.0302</td>\n",
       "                        <td id=\"T_333f2_row4_col4\" class=\"data row4 col4\" >0.0019</td>\n",
       "                        <td id=\"T_333f2_row4_col5\" class=\"data row4 col5\" >0.0012</td>\n",
       "            </tr>\n",
       "    </tbody></table>"
      ],
      "text/plain": [
       "<pandas.io.formats.style.Styler at 0x1de8e175d30>"
      ]
     },
     "metadata": {},
     "output_type": "display_data"
    }
   ],
   "source": [
    "features = ['Date', 'weekday', 'weeknum','kosdaq', 'nasdaq', 'sp500', 'dow', 'kospi']\n",
    "for i in range(5):\n",
    "    model = setup(train, target = features[i+3], ignore_features = features[i+4:], fold=3, fold_shuffle=True, silent=True)\n",
    "    tuned_model = tune_model(compare_models(sort='MAPE', n_select=1))\n",
    "    final_model = finalize_model(tuned_model)\n",
    "    end_features = features[:i+3]\n",
    "    pred = predict_model(final_model, test)\n",
    "    test[features[i+3]] = pred['Label']"
   ]
  },
  {
   "cell_type": "code",
   "execution_count": 85,
   "metadata": {},
   "outputs": [
    {
     "data": {
      "text/html": [
       "<div>\n",
       "<style scoped>\n",
       "    .dataframe tbody tr th:only-of-type {\n",
       "        vertical-align: middle;\n",
       "    }\n",
       "\n",
       "    .dataframe tbody tr th {\n",
       "        vertical-align: top;\n",
       "    }\n",
       "\n",
       "    .dataframe thead th {\n",
       "        text-align: right;\n",
       "    }\n",
       "</style>\n",
       "<table border=\"1\" class=\"dataframe\">\n",
       "  <thead>\n",
       "    <tr style=\"text-align: right;\">\n",
       "      <th></th>\n",
       "      <th>Date</th>\n",
       "      <th>weekday</th>\n",
       "      <th>weeknum</th>\n",
       "      <th>kosdaq</th>\n",
       "      <th>nasdaq</th>\n",
       "      <th>sp500</th>\n",
       "      <th>dow</th>\n",
       "      <th>kospi</th>\n",
       "    </tr>\n",
       "  </thead>\n",
       "  <tbody>\n",
       "    <tr>\n",
       "      <th>215</th>\n",
       "      <td>2021-11-01</td>\n",
       "      <td>0</td>\n",
       "      <td>44</td>\n",
       "      <td>1006.418941</td>\n",
       "      <td>14737.349456</td>\n",
       "      <td>4407.581144</td>\n",
       "      <td>33977.187500</td>\n",
       "      <td>3062.021995</td>\n",
       "    </tr>\n",
       "    <tr>\n",
       "      <th>216</th>\n",
       "      <td>2021-11-02</td>\n",
       "      <td>1</td>\n",
       "      <td>44</td>\n",
       "      <td>1007.549998</td>\n",
       "      <td>14770.291740</td>\n",
       "      <td>4428.330825</td>\n",
       "      <td>34165.136719</td>\n",
       "      <td>3064.841639</td>\n",
       "    </tr>\n",
       "    <tr>\n",
       "      <th>217</th>\n",
       "      <td>2021-11-03</td>\n",
       "      <td>2</td>\n",
       "      <td>44</td>\n",
       "      <td>1006.637302</td>\n",
       "      <td>14768.971554</td>\n",
       "      <td>4428.732729</td>\n",
       "      <td>34169.476562</td>\n",
       "      <td>3062.021995</td>\n",
       "    </tr>\n",
       "    <tr>\n",
       "      <th>218</th>\n",
       "      <td>2021-11-04</td>\n",
       "      <td>3</td>\n",
       "      <td>44</td>\n",
       "      <td>1007.108948</td>\n",
       "      <td>14793.617235</td>\n",
       "      <td>4452.543789</td>\n",
       "      <td>34432.042969</td>\n",
       "      <td>3059.876766</td>\n",
       "    </tr>\n",
       "    <tr>\n",
       "      <th>219</th>\n",
       "      <td>2021-11-05</td>\n",
       "      <td>4</td>\n",
       "      <td>44</td>\n",
       "      <td>1007.500128</td>\n",
       "      <td>14834.681366</td>\n",
       "      <td>4457.262093</td>\n",
       "      <td>34424.101562</td>\n",
       "      <td>3058.086760</td>\n",
       "    </tr>\n",
       "  </tbody>\n",
       "</table>\n",
       "</div>"
      ],
      "text/plain": [
       "          Date  weekday weeknum       kosdaq        nasdaq        sp500  \\\n",
       "215 2021-11-01        0      44  1006.418941  14737.349456  4407.581144   \n",
       "216 2021-11-02        1      44  1007.549998  14770.291740  4428.330825   \n",
       "217 2021-11-03        2      44  1006.637302  14768.971554  4428.732729   \n",
       "218 2021-11-04        3      44  1007.108948  14793.617235  4452.543789   \n",
       "219 2021-11-05        4      44  1007.500128  14834.681366  4457.262093   \n",
       "\n",
       "              dow        kospi  \n",
       "215  33977.187500  3062.021995  \n",
       "216  34165.136719  3064.841639  \n",
       "217  34169.476562  3062.021995  \n",
       "218  34432.042969  3059.876766  \n",
       "219  34424.101562  3058.086760  "
      ]
     },
     "execution_count": 85,
     "metadata": {},
     "output_type": "execute_result"
    }
   ],
   "source": [
    "test"
   ]
  },
  {
   "cell_type": "code",
   "execution_count": 84,
   "metadata": {},
   "outputs": [],
   "source": [
    "test.to_csv('20210104_1029_pred_1101_05_test.csv', index=False)"
   ]
  },
  {
   "cell_type": "code",
   "execution_count": 86,
   "metadata": {},
   "outputs": [
    {
     "data": {
      "text/html": [
       "<div>\n",
       "<style scoped>\n",
       "    .dataframe tbody tr th:only-of-type {\n",
       "        vertical-align: middle;\n",
       "    }\n",
       "\n",
       "    .dataframe tbody tr th {\n",
       "        vertical-align: top;\n",
       "    }\n",
       "\n",
       "    .dataframe thead th {\n",
       "        text-align: right;\n",
       "    }\n",
       "</style>\n",
       "<table border=\"1\" class=\"dataframe\">\n",
       "  <thead>\n",
       "    <tr style=\"text-align: right;\">\n",
       "      <th></th>\n",
       "      <th>Date</th>\n",
       "      <th>weekday</th>\n",
       "      <th>weeknum</th>\n",
       "      <th>kosdaq</th>\n",
       "      <th>nasdaq</th>\n",
       "      <th>sp500</th>\n",
       "      <th>dow</th>\n",
       "      <th>kospi</th>\n",
       "    </tr>\n",
       "  </thead>\n",
       "  <tbody>\n",
       "    <tr>\n",
       "      <th>0</th>\n",
       "      <td>2021-11-01</td>\n",
       "      <td>0</td>\n",
       "      <td>44</td>\n",
       "      <td>1006.418941</td>\n",
       "      <td>14737.349456</td>\n",
       "      <td>4407.581144</td>\n",
       "      <td>33977.188</td>\n",
       "      <td>3062.021995</td>\n",
       "    </tr>\n",
       "    <tr>\n",
       "      <th>1</th>\n",
       "      <td>2021-11-02</td>\n",
       "      <td>1</td>\n",
       "      <td>44</td>\n",
       "      <td>1007.549998</td>\n",
       "      <td>14770.291740</td>\n",
       "      <td>4428.330825</td>\n",
       "      <td>34165.137</td>\n",
       "      <td>3064.841639</td>\n",
       "    </tr>\n",
       "    <tr>\n",
       "      <th>2</th>\n",
       "      <td>2021-11-03</td>\n",
       "      <td>2</td>\n",
       "      <td>44</td>\n",
       "      <td>1006.637302</td>\n",
       "      <td>14768.971554</td>\n",
       "      <td>4428.732729</td>\n",
       "      <td>34169.477</td>\n",
       "      <td>3062.021995</td>\n",
       "    </tr>\n",
       "    <tr>\n",
       "      <th>3</th>\n",
       "      <td>2021-11-04</td>\n",
       "      <td>3</td>\n",
       "      <td>44</td>\n",
       "      <td>1007.108948</td>\n",
       "      <td>14793.617235</td>\n",
       "      <td>4452.543789</td>\n",
       "      <td>34432.043</td>\n",
       "      <td>3059.876766</td>\n",
       "    </tr>\n",
       "    <tr>\n",
       "      <th>4</th>\n",
       "      <td>2021-11-05</td>\n",
       "      <td>4</td>\n",
       "      <td>44</td>\n",
       "      <td>1007.500128</td>\n",
       "      <td>14834.681366</td>\n",
       "      <td>4457.262093</td>\n",
       "      <td>34424.100</td>\n",
       "      <td>3058.086760</td>\n",
       "    </tr>\n",
       "  </tbody>\n",
       "</table>\n",
       "</div>"
      ],
      "text/plain": [
       "         Date  weekday  weeknum       kosdaq        nasdaq        sp500  \\\n",
       "0  2021-11-01        0       44  1006.418941  14737.349456  4407.581144   \n",
       "1  2021-11-02        1       44  1007.549998  14770.291740  4428.330825   \n",
       "2  2021-11-03        2       44  1006.637302  14768.971554  4428.732729   \n",
       "3  2021-11-04        3       44  1007.108948  14793.617235  4452.543789   \n",
       "4  2021-11-05        4       44  1007.500128  14834.681366  4457.262093   \n",
       "\n",
       "         dow        kospi  \n",
       "0  33977.188  3062.021995  \n",
       "1  34165.137  3064.841639  \n",
       "2  34169.477  3062.021995  \n",
       "3  34432.043  3059.876766  \n",
       "4  34424.100  3058.086760  "
      ]
     },
     "execution_count": 86,
     "metadata": {},
     "output_type": "execute_result"
    }
   ],
   "source": [
    "test = pd.read_csv('20210104_1029_pred_1101_05_test.csv')\n",
    "test"
   ]
  },
  {
   "cell_type": "markdown",
   "metadata": {},
   "source": [
    "## 8가지 특성으로 종목별 종가 예측"
   ]
  },
  {
   "cell_type": "code",
   "execution_count": 71,
   "id": "0425cd8f",
   "metadata": {
    "scrolled": true
   },
   "outputs": [
    {
     "name": "stderr",
     "output_type": "stream",
     "text": [
      "  0%|          | 0/370 [00:00<?, ?it/s]"
     ]
    },
    {
     "data": {
      "application/vnd.jupyter.widget-view+json": {
       "model_id": "08689b99e94142819b2437d41e97e83a",
       "version_major": 2,
       "version_minor": 0
      },
      "text/plain": [
       "IntProgress(value=0, description='Processing: ', max=3)"
      ]
     },
     "metadata": {},
     "output_type": "display_data"
    },
    {
     "data": {
      "text/html": [
       "<div>\n",
       "<style scoped>\n",
       "    .dataframe tbody tr th:only-of-type {\n",
       "        vertical-align: middle;\n",
       "    }\n",
       "\n",
       "    .dataframe tbody tr th {\n",
       "        vertical-align: top;\n",
       "    }\n",
       "\n",
       "    .dataframe thead th {\n",
       "        text-align: right;\n",
       "    }\n",
       "</style>\n",
       "<table border=\"1\" class=\"dataframe\">\n",
       "  <thead>\n",
       "    <tr style=\"text-align: right;\">\n",
       "      <th></th>\n",
       "      <th></th>\n",
       "      <th></th>\n",
       "    </tr>\n",
       "    <tr>\n",
       "      <th></th>\n",
       "      <th></th>\n",
       "      <th></th>\n",
       "    </tr>\n",
       "  </thead>\n",
       "  <tbody>\n",
       "    <tr>\n",
       "      <th>Initiated</th>\n",
       "      <td>. . . . . . . . . . . . . . . . . .</td>\n",
       "      <td>11:11:31</td>\n",
       "    </tr>\n",
       "    <tr>\n",
       "      <th>Status</th>\n",
       "      <td>. . . . . . . . . . . . . . . . . .</td>\n",
       "      <td>Loading Dependencies</td>\n",
       "    </tr>\n",
       "  </tbody>\n",
       "</table>\n",
       "</div>"
      ],
      "text/plain": [
       "                                                                    \n",
       "                                                                    \n",
       "Initiated  . . . . . . . . . . . . . . . . . .              11:11:31\n",
       "Status     . . . . . . . . . . . . . . . . . .  Loading Dependencies"
      ]
     },
     "metadata": {},
     "output_type": "display_data"
    },
    {
     "name": "stderr",
     "output_type": "stream",
     "text": [
      "  0%|          | 0/370 [00:00<?, ?it/s]\n"
     ]
    },
    {
     "ename": "KeyError",
     "evalue": "'Close'",
     "output_type": "error",
     "traceback": [
      "\u001b[1;31m---------------------------------------------------------------------------\u001b[0m",
      "\u001b[1;31mKeyError\u001b[0m                                  Traceback (most recent call last)",
      "\u001b[1;32m~\\anaconda3\\lib\\site-packages\\pandas\\core\\indexes\\base.py\u001b[0m in \u001b[0;36mget_loc\u001b[1;34m(self, key, method, tolerance)\u001b[0m\n\u001b[0;32m   3079\u001b[0m             \u001b[1;32mtry\u001b[0m\u001b[1;33m:\u001b[0m\u001b[1;33m\u001b[0m\u001b[1;33m\u001b[0m\u001b[0m\n\u001b[1;32m-> 3080\u001b[1;33m                 \u001b[1;32mreturn\u001b[0m \u001b[0mself\u001b[0m\u001b[1;33m.\u001b[0m\u001b[0m_engine\u001b[0m\u001b[1;33m.\u001b[0m\u001b[0mget_loc\u001b[0m\u001b[1;33m(\u001b[0m\u001b[0mcasted_key\u001b[0m\u001b[1;33m)\u001b[0m\u001b[1;33m\u001b[0m\u001b[1;33m\u001b[0m\u001b[0m\n\u001b[0m\u001b[0;32m   3081\u001b[0m             \u001b[1;32mexcept\u001b[0m \u001b[0mKeyError\u001b[0m \u001b[1;32mas\u001b[0m \u001b[0merr\u001b[0m\u001b[1;33m:\u001b[0m\u001b[1;33m\u001b[0m\u001b[1;33m\u001b[0m\u001b[0m\n",
      "\u001b[1;32mpandas\\_libs\\index.pyx\u001b[0m in \u001b[0;36mpandas._libs.index.IndexEngine.get_loc\u001b[1;34m()\u001b[0m\n",
      "\u001b[1;32mpandas\\_libs\\index.pyx\u001b[0m in \u001b[0;36mpandas._libs.index.IndexEngine.get_loc\u001b[1;34m()\u001b[0m\n",
      "\u001b[1;32mpandas\\_libs\\hashtable_class_helper.pxi\u001b[0m in \u001b[0;36mpandas._libs.hashtable.PyObjectHashTable.get_item\u001b[1;34m()\u001b[0m\n",
      "\u001b[1;32mpandas\\_libs\\hashtable_class_helper.pxi\u001b[0m in \u001b[0;36mpandas._libs.hashtable.PyObjectHashTable.get_item\u001b[1;34m()\u001b[0m\n",
      "\u001b[1;31mKeyError\u001b[0m: 'Close'",
      "\nThe above exception was the direct cause of the following exception:\n",
      "\u001b[1;31mKeyError\u001b[0m                                  Traceback (most recent call last)",
      "\u001b[1;32m<ipython-input-71-53e907f9256f>\u001b[0m in \u001b[0;36m<module>\u001b[1;34m\u001b[0m\n\u001b[0;32m      6\u001b[0m     \u001b[0mtrain\u001b[0m\u001b[1;33m[\u001b[0m\u001b[1;34m'Close'\u001b[0m\u001b[1;33m]\u001b[0m \u001b[1;33m=\u001b[0m \u001b[0mcode_data\u001b[0m\u001b[1;33m[\u001b[0m\u001b[1;34m'Close'\u001b[0m\u001b[1;33m]\u001b[0m\u001b[1;33m\u001b[0m\u001b[1;33m\u001b[0m\u001b[0m\n\u001b[0;32m      7\u001b[0m \u001b[1;33m\u001b[0m\u001b[0m\n\u001b[1;32m----> 8\u001b[1;33m     \u001b[0mmodel\u001b[0m\u001b[1;33m=\u001b[0m\u001b[0msetup\u001b[0m\u001b[1;33m(\u001b[0m\u001b[0mtrain\u001b[0m\u001b[1;33m,\u001b[0m \u001b[0mtarget\u001b[0m \u001b[1;33m=\u001b[0m \u001b[1;34m'Close'\u001b[0m\u001b[1;33m,\u001b[0m \u001b[0msilent\u001b[0m\u001b[1;33m=\u001b[0m\u001b[1;32mTrue\u001b[0m\u001b[1;33m,\u001b[0m \u001b[0mfold\u001b[0m\u001b[1;33m=\u001b[0m\u001b[1;36m3\u001b[0m\u001b[1;33m,\u001b[0m \u001b[0mfold_shuffle\u001b[0m\u001b[1;33m=\u001b[0m\u001b[1;32mTrue\u001b[0m\u001b[1;33m)\u001b[0m\u001b[1;33m\u001b[0m\u001b[1;33m\u001b[0m\u001b[0m\n\u001b[0m\u001b[0;32m      9\u001b[0m     \u001b[0mtuned_model\u001b[0m \u001b[1;33m=\u001b[0m \u001b[0mtune_model\u001b[0m\u001b[1;33m(\u001b[0m\u001b[0mcompare_models\u001b[0m\u001b[1;33m(\u001b[0m\u001b[0msort\u001b[0m\u001b[1;33m=\u001b[0m\u001b[1;34m'MAPE'\u001b[0m\u001b[1;33m,\u001b[0m \u001b[0mn_select\u001b[0m\u001b[1;33m=\u001b[0m\u001b[1;36m1\u001b[0m\u001b[1;33m)\u001b[0m\u001b[1;33m)\u001b[0m\u001b[1;33m\u001b[0m\u001b[1;33m\u001b[0m\u001b[0m\n\u001b[0;32m     10\u001b[0m     \u001b[0mtuned_model_\u001b[0m \u001b[1;33m=\u001b[0m \u001b[0mfinalize_model\u001b[0m\u001b[1;33m(\u001b[0m\u001b[0mtuned_model\u001b[0m\u001b[1;33m)\u001b[0m\u001b[1;33m\u001b[0m\u001b[1;33m\u001b[0m\u001b[0m\n",
      "\u001b[1;32m~\\anaconda3\\lib\\site-packages\\pycaret\\regression.py\u001b[0m in \u001b[0;36msetup\u001b[1;34m(data, target, train_size, test_data, preprocess, imputation_type, iterative_imputation_iters, categorical_features, categorical_imputation, categorical_iterative_imputer, ordinal_features, high_cardinality_features, high_cardinality_method, numeric_features, numeric_imputation, numeric_iterative_imputer, date_features, ignore_features, normalize, normalize_method, transformation, transformation_method, handle_unknown_categorical, unknown_categorical_method, pca, pca_method, pca_components, ignore_low_variance, combine_rare_levels, rare_level_threshold, bin_numeric_features, remove_outliers, outliers_threshold, remove_multicollinearity, multicollinearity_threshold, remove_perfect_collinearity, create_clusters, cluster_iter, polynomial_features, polynomial_degree, trigonometry_features, polynomial_threshold, group_features, group_names, feature_selection, feature_selection_threshold, feature_selection_method, feature_interaction, feature_ratio, interaction_threshold, transform_target, transform_target_method, data_split_shuffle, data_split_stratify, fold_strategy, fold, fold_shuffle, fold_groups, n_jobs, use_gpu, custom_pipeline, html, session_id, log_experiment, experiment_name, log_plots, log_profile, log_data, silent, verbose, profile, profile_kwargs)\u001b[0m\n\u001b[0;32m    571\u001b[0m         \u001b[0mlog_plots\u001b[0m \u001b[1;33m=\u001b[0m \u001b[1;33m[\u001b[0m\u001b[1;34m\"residuals\"\u001b[0m\u001b[1;33m,\u001b[0m \u001b[1;34m\"error\"\u001b[0m\u001b[1;33m,\u001b[0m \u001b[1;34m\"feature\"\u001b[0m\u001b[1;33m]\u001b[0m\u001b[1;33m\u001b[0m\u001b[1;33m\u001b[0m\u001b[0m\n\u001b[0;32m    572\u001b[0m \u001b[1;33m\u001b[0m\u001b[0m\n\u001b[1;32m--> 573\u001b[1;33m     return pycaret.internal.tabular.setup(\n\u001b[0m\u001b[0;32m    574\u001b[0m         \u001b[0mml_usecase\u001b[0m\u001b[1;33m=\u001b[0m\u001b[1;34m\"regression\"\u001b[0m\u001b[1;33m,\u001b[0m\u001b[1;33m\u001b[0m\u001b[1;33m\u001b[0m\u001b[0m\n\u001b[0;32m    575\u001b[0m         \u001b[0mavailable_plots\u001b[0m\u001b[1;33m=\u001b[0m\u001b[0mavailable_plots\u001b[0m\u001b[1;33m,\u001b[0m\u001b[1;33m\u001b[0m\u001b[1;33m\u001b[0m\u001b[0m\n",
      "\u001b[1;32m~\\anaconda3\\lib\\site-packages\\pycaret\\internal\\tabular.py\u001b[0m in \u001b[0;36msetup\u001b[1;34m(data, target, ml_usecase, available_plots, train_size, test_data, preprocess, imputation_type, iterative_imputation_iters, categorical_features, categorical_imputation, categorical_iterative_imputer, ordinal_features, high_cardinality_features, high_cardinality_method, numeric_features, numeric_imputation, numeric_iterative_imputer, date_features, ignore_features, normalize, normalize_method, transformation, transformation_method, handle_unknown_categorical, unknown_categorical_method, pca, pca_method, pca_components, ignore_low_variance, combine_rare_levels, rare_level_threshold, bin_numeric_features, remove_outliers, outliers_threshold, remove_multicollinearity, multicollinearity_threshold, remove_perfect_collinearity, create_clusters, cluster_iter, polynomial_features, polynomial_degree, trigonometry_features, polynomial_threshold, group_features, group_names, feature_selection, feature_selection_threshold, feature_selection_method, feature_interaction, feature_ratio, interaction_threshold, fix_imbalance, fix_imbalance_method, transform_target, transform_target_method, data_split_shuffle, data_split_stratify, fold_strategy, fold, fold_shuffle, fold_groups, n_jobs, use_gpu, custom_pipeline, html, session_id, log_experiment, experiment_name, log_plots, log_profile, log_data, silent, verbose, profile, profile_kwargs, display)\u001b[0m\n\u001b[0;32m   1328\u001b[0m             \u001b[0mtest_data\u001b[0m \u001b[1;33m=\u001b[0m \u001b[0mpd\u001b[0m\u001b[1;33m.\u001b[0m\u001b[0mconcat\u001b[0m\u001b[1;33m(\u001b[0m\u001b[1;33m[\u001b[0m\u001b[0mX_test\u001b[0m\u001b[1;33m,\u001b[0m \u001b[0my_test\u001b[0m\u001b[1;33m]\u001b[0m\u001b[1;33m,\u001b[0m \u001b[0maxis\u001b[0m\u001b[1;33m=\u001b[0m\u001b[1;36m1\u001b[0m\u001b[1;33m)\u001b[0m\u001b[1;33m\u001b[0m\u001b[1;33m\u001b[0m\u001b[0m\n\u001b[0;32m   1329\u001b[0m \u001b[1;33m\u001b[0m\u001b[0m\n\u001b[1;32m-> 1330\u001b[1;33m         \u001b[0mtrain_data\u001b[0m \u001b[1;33m=\u001b[0m \u001b[0mprep_pipe\u001b[0m\u001b[1;33m.\u001b[0m\u001b[0mfit_transform\u001b[0m\u001b[1;33m(\u001b[0m\u001b[0mtrain_data\u001b[0m\u001b[1;33m)\u001b[0m\u001b[1;33m\u001b[0m\u001b[1;33m\u001b[0m\u001b[0m\n\u001b[0m\u001b[0;32m   1331\u001b[0m         \u001b[1;31m# workaround to also transform target\u001b[0m\u001b[1;33m\u001b[0m\u001b[1;33m\u001b[0m\u001b[1;33m\u001b[0m\u001b[0m\n\u001b[0;32m   1332\u001b[0m         \u001b[0mdtypes\u001b[0m\u001b[1;33m.\u001b[0m\u001b[0mfinal_training_columns\u001b[0m\u001b[1;33m.\u001b[0m\u001b[0mappend\u001b[0m\u001b[1;33m(\u001b[0m\u001b[0mtarget\u001b[0m\u001b[1;33m)\u001b[0m\u001b[1;33m\u001b[0m\u001b[1;33m\u001b[0m\u001b[0m\n",
      "\u001b[1;32m~\\anaconda3\\lib\\site-packages\\sklearn\\pipeline.py\u001b[0m in \u001b[0;36mfit_transform\u001b[1;34m(self, X, y, **fit_params)\u001b[0m\n\u001b[0;32m    365\u001b[0m         \"\"\"\n\u001b[0;32m    366\u001b[0m         \u001b[0mfit_params_steps\u001b[0m \u001b[1;33m=\u001b[0m \u001b[0mself\u001b[0m\u001b[1;33m.\u001b[0m\u001b[0m_check_fit_params\u001b[0m\u001b[1;33m(\u001b[0m\u001b[1;33m**\u001b[0m\u001b[0mfit_params\u001b[0m\u001b[1;33m)\u001b[0m\u001b[1;33m\u001b[0m\u001b[1;33m\u001b[0m\u001b[0m\n\u001b[1;32m--> 367\u001b[1;33m         \u001b[0mXt\u001b[0m \u001b[1;33m=\u001b[0m \u001b[0mself\u001b[0m\u001b[1;33m.\u001b[0m\u001b[0m_fit\u001b[0m\u001b[1;33m(\u001b[0m\u001b[0mX\u001b[0m\u001b[1;33m,\u001b[0m \u001b[0my\u001b[0m\u001b[1;33m,\u001b[0m \u001b[1;33m**\u001b[0m\u001b[0mfit_params_steps\u001b[0m\u001b[1;33m)\u001b[0m\u001b[1;33m\u001b[0m\u001b[1;33m\u001b[0m\u001b[0m\n\u001b[0m\u001b[0;32m    368\u001b[0m \u001b[1;33m\u001b[0m\u001b[0m\n\u001b[0;32m    369\u001b[0m         \u001b[0mlast_step\u001b[0m \u001b[1;33m=\u001b[0m \u001b[0mself\u001b[0m\u001b[1;33m.\u001b[0m\u001b[0m_final_estimator\u001b[0m\u001b[1;33m\u001b[0m\u001b[1;33m\u001b[0m\u001b[0m\n",
      "\u001b[1;32m~\\anaconda3\\lib\\site-packages\\sklearn\\pipeline.py\u001b[0m in \u001b[0;36m_fit\u001b[1;34m(self, X, y, **fit_params_steps)\u001b[0m\n\u001b[0;32m    290\u001b[0m                 \u001b[0mcloned_transformer\u001b[0m \u001b[1;33m=\u001b[0m \u001b[0mclone\u001b[0m\u001b[1;33m(\u001b[0m\u001b[0mtransformer\u001b[0m\u001b[1;33m)\u001b[0m\u001b[1;33m\u001b[0m\u001b[1;33m\u001b[0m\u001b[0m\n\u001b[0;32m    291\u001b[0m             \u001b[1;31m# Fit or load from cache the current transformer\u001b[0m\u001b[1;33m\u001b[0m\u001b[1;33m\u001b[0m\u001b[1;33m\u001b[0m\u001b[0m\n\u001b[1;32m--> 292\u001b[1;33m             X, fitted_transformer = fit_transform_one_cached(\n\u001b[0m\u001b[0;32m    293\u001b[0m                 \u001b[0mcloned_transformer\u001b[0m\u001b[1;33m,\u001b[0m \u001b[0mX\u001b[0m\u001b[1;33m,\u001b[0m \u001b[0my\u001b[0m\u001b[1;33m,\u001b[0m \u001b[1;32mNone\u001b[0m\u001b[1;33m,\u001b[0m\u001b[1;33m\u001b[0m\u001b[1;33m\u001b[0m\u001b[0m\n\u001b[0;32m    294\u001b[0m                 \u001b[0mmessage_clsname\u001b[0m\u001b[1;33m=\u001b[0m\u001b[1;34m'Pipeline'\u001b[0m\u001b[1;33m,\u001b[0m\u001b[1;33m\u001b[0m\u001b[1;33m\u001b[0m\u001b[0m\n",
      "\u001b[1;32m~\\anaconda3\\lib\\site-packages\\joblib\\memory.py\u001b[0m in \u001b[0;36m__call__\u001b[1;34m(self, *args, **kwargs)\u001b[0m\n\u001b[0;32m    350\u001b[0m \u001b[1;33m\u001b[0m\u001b[0m\n\u001b[0;32m    351\u001b[0m     \u001b[1;32mdef\u001b[0m \u001b[0m__call__\u001b[0m\u001b[1;33m(\u001b[0m\u001b[0mself\u001b[0m\u001b[1;33m,\u001b[0m \u001b[1;33m*\u001b[0m\u001b[0margs\u001b[0m\u001b[1;33m,\u001b[0m \u001b[1;33m**\u001b[0m\u001b[0mkwargs\u001b[0m\u001b[1;33m)\u001b[0m\u001b[1;33m:\u001b[0m\u001b[1;33m\u001b[0m\u001b[1;33m\u001b[0m\u001b[0m\n\u001b[1;32m--> 352\u001b[1;33m         \u001b[1;32mreturn\u001b[0m \u001b[0mself\u001b[0m\u001b[1;33m.\u001b[0m\u001b[0mfunc\u001b[0m\u001b[1;33m(\u001b[0m\u001b[1;33m*\u001b[0m\u001b[0margs\u001b[0m\u001b[1;33m,\u001b[0m \u001b[1;33m**\u001b[0m\u001b[0mkwargs\u001b[0m\u001b[1;33m)\u001b[0m\u001b[1;33m\u001b[0m\u001b[1;33m\u001b[0m\u001b[0m\n\u001b[0m\u001b[0;32m    353\u001b[0m \u001b[1;33m\u001b[0m\u001b[0m\n\u001b[0;32m    354\u001b[0m     \u001b[1;32mdef\u001b[0m \u001b[0mcall_and_shelve\u001b[0m\u001b[1;33m(\u001b[0m\u001b[0mself\u001b[0m\u001b[1;33m,\u001b[0m \u001b[1;33m*\u001b[0m\u001b[0margs\u001b[0m\u001b[1;33m,\u001b[0m \u001b[1;33m**\u001b[0m\u001b[0mkwargs\u001b[0m\u001b[1;33m)\u001b[0m\u001b[1;33m:\u001b[0m\u001b[1;33m\u001b[0m\u001b[1;33m\u001b[0m\u001b[0m\n",
      "\u001b[1;32m~\\anaconda3\\lib\\site-packages\\sklearn\\pipeline.py\u001b[0m in \u001b[0;36m_fit_transform_one\u001b[1;34m(transformer, X, y, weight, message_clsname, message, **fit_params)\u001b[0m\n\u001b[0;32m    738\u001b[0m     \u001b[1;32mwith\u001b[0m \u001b[0m_print_elapsed_time\u001b[0m\u001b[1;33m(\u001b[0m\u001b[0mmessage_clsname\u001b[0m\u001b[1;33m,\u001b[0m \u001b[0mmessage\u001b[0m\u001b[1;33m)\u001b[0m\u001b[1;33m:\u001b[0m\u001b[1;33m\u001b[0m\u001b[1;33m\u001b[0m\u001b[0m\n\u001b[0;32m    739\u001b[0m         \u001b[1;32mif\u001b[0m \u001b[0mhasattr\u001b[0m\u001b[1;33m(\u001b[0m\u001b[0mtransformer\u001b[0m\u001b[1;33m,\u001b[0m \u001b[1;34m'fit_transform'\u001b[0m\u001b[1;33m)\u001b[0m\u001b[1;33m:\u001b[0m\u001b[1;33m\u001b[0m\u001b[1;33m\u001b[0m\u001b[0m\n\u001b[1;32m--> 740\u001b[1;33m             \u001b[0mres\u001b[0m \u001b[1;33m=\u001b[0m \u001b[0mtransformer\u001b[0m\u001b[1;33m.\u001b[0m\u001b[0mfit_transform\u001b[0m\u001b[1;33m(\u001b[0m\u001b[0mX\u001b[0m\u001b[1;33m,\u001b[0m \u001b[0my\u001b[0m\u001b[1;33m,\u001b[0m \u001b[1;33m**\u001b[0m\u001b[0mfit_params\u001b[0m\u001b[1;33m)\u001b[0m\u001b[1;33m\u001b[0m\u001b[1;33m\u001b[0m\u001b[0m\n\u001b[0m\u001b[0;32m    741\u001b[0m         \u001b[1;32melse\u001b[0m\u001b[1;33m:\u001b[0m\u001b[1;33m\u001b[0m\u001b[1;33m\u001b[0m\u001b[0m\n\u001b[0;32m    742\u001b[0m             \u001b[0mres\u001b[0m \u001b[1;33m=\u001b[0m \u001b[0mtransformer\u001b[0m\u001b[1;33m.\u001b[0m\u001b[0mfit\u001b[0m\u001b[1;33m(\u001b[0m\u001b[0mX\u001b[0m\u001b[1;33m,\u001b[0m \u001b[0my\u001b[0m\u001b[1;33m,\u001b[0m \u001b[1;33m**\u001b[0m\u001b[0mfit_params\u001b[0m\u001b[1;33m)\u001b[0m\u001b[1;33m.\u001b[0m\u001b[0mtransform\u001b[0m\u001b[1;33m(\u001b[0m\u001b[0mX\u001b[0m\u001b[1;33m)\u001b[0m\u001b[1;33m\u001b[0m\u001b[1;33m\u001b[0m\u001b[0m\n",
      "\u001b[1;32m~\\anaconda3\\lib\\site-packages\\pycaret\\internal\\preprocess.py\u001b[0m in \u001b[0;36mfit_transform\u001b[1;34m(self, dataset, y)\u001b[0m\n\u001b[0;32m    424\u001b[0m         \u001b[1;31m# for ml use ase\u001b[0m\u001b[1;33m\u001b[0m\u001b[1;33m\u001b[0m\u001b[1;33m\u001b[0m\u001b[0m\n\u001b[0;32m    425\u001b[0m         if (self.ml_usecase == \"classification\") & (\n\u001b[1;32m--> 426\u001b[1;33m             \u001b[0mdata\u001b[0m\u001b[1;33m[\u001b[0m\u001b[0mself\u001b[0m\u001b[1;33m.\u001b[0m\u001b[0mtarget\u001b[0m\u001b[1;33m]\u001b[0m\u001b[1;33m.\u001b[0m\u001b[0mdtype\u001b[0m \u001b[1;33m==\u001b[0m \u001b[1;34m\"object\"\u001b[0m\u001b[1;33m\u001b[0m\u001b[1;33m\u001b[0m\u001b[0m\n\u001b[0m\u001b[0;32m    427\u001b[0m         ):\n\u001b[0;32m    428\u001b[0m             \u001b[0mself\u001b[0m\u001b[1;33m.\u001b[0m\u001b[0mle\u001b[0m \u001b[1;33m=\u001b[0m \u001b[0mLabelEncoder\u001b[0m\u001b[1;33m(\u001b[0m\u001b[1;33m)\u001b[0m\u001b[1;33m\u001b[0m\u001b[1;33m\u001b[0m\u001b[0m\n",
      "\u001b[1;32m~\\anaconda3\\lib\\site-packages\\pandas\\core\\frame.py\u001b[0m in \u001b[0;36m__getitem__\u001b[1;34m(self, key)\u001b[0m\n\u001b[0;32m   3022\u001b[0m             \u001b[1;32mif\u001b[0m \u001b[0mself\u001b[0m\u001b[1;33m.\u001b[0m\u001b[0mcolumns\u001b[0m\u001b[1;33m.\u001b[0m\u001b[0mnlevels\u001b[0m \u001b[1;33m>\u001b[0m \u001b[1;36m1\u001b[0m\u001b[1;33m:\u001b[0m\u001b[1;33m\u001b[0m\u001b[1;33m\u001b[0m\u001b[0m\n\u001b[0;32m   3023\u001b[0m                 \u001b[1;32mreturn\u001b[0m \u001b[0mself\u001b[0m\u001b[1;33m.\u001b[0m\u001b[0m_getitem_multilevel\u001b[0m\u001b[1;33m(\u001b[0m\u001b[0mkey\u001b[0m\u001b[1;33m)\u001b[0m\u001b[1;33m\u001b[0m\u001b[1;33m\u001b[0m\u001b[0m\n\u001b[1;32m-> 3024\u001b[1;33m             \u001b[0mindexer\u001b[0m \u001b[1;33m=\u001b[0m \u001b[0mself\u001b[0m\u001b[1;33m.\u001b[0m\u001b[0mcolumns\u001b[0m\u001b[1;33m.\u001b[0m\u001b[0mget_loc\u001b[0m\u001b[1;33m(\u001b[0m\u001b[0mkey\u001b[0m\u001b[1;33m)\u001b[0m\u001b[1;33m\u001b[0m\u001b[1;33m\u001b[0m\u001b[0m\n\u001b[0m\u001b[0;32m   3025\u001b[0m             \u001b[1;32mif\u001b[0m \u001b[0mis_integer\u001b[0m\u001b[1;33m(\u001b[0m\u001b[0mindexer\u001b[0m\u001b[1;33m)\u001b[0m\u001b[1;33m:\u001b[0m\u001b[1;33m\u001b[0m\u001b[1;33m\u001b[0m\u001b[0m\n\u001b[0;32m   3026\u001b[0m                 \u001b[0mindexer\u001b[0m \u001b[1;33m=\u001b[0m \u001b[1;33m[\u001b[0m\u001b[0mindexer\u001b[0m\u001b[1;33m]\u001b[0m\u001b[1;33m\u001b[0m\u001b[1;33m\u001b[0m\u001b[0m\n",
      "\u001b[1;32m~\\anaconda3\\lib\\site-packages\\pandas\\core\\indexes\\base.py\u001b[0m in \u001b[0;36mget_loc\u001b[1;34m(self, key, method, tolerance)\u001b[0m\n\u001b[0;32m   3080\u001b[0m                 \u001b[1;32mreturn\u001b[0m \u001b[0mself\u001b[0m\u001b[1;33m.\u001b[0m\u001b[0m_engine\u001b[0m\u001b[1;33m.\u001b[0m\u001b[0mget_loc\u001b[0m\u001b[1;33m(\u001b[0m\u001b[0mcasted_key\u001b[0m\u001b[1;33m)\u001b[0m\u001b[1;33m\u001b[0m\u001b[1;33m\u001b[0m\u001b[0m\n\u001b[0;32m   3081\u001b[0m             \u001b[1;32mexcept\u001b[0m \u001b[0mKeyError\u001b[0m \u001b[1;32mas\u001b[0m \u001b[0merr\u001b[0m\u001b[1;33m:\u001b[0m\u001b[1;33m\u001b[0m\u001b[1;33m\u001b[0m\u001b[0m\n\u001b[1;32m-> 3082\u001b[1;33m                 \u001b[1;32mraise\u001b[0m \u001b[0mKeyError\u001b[0m\u001b[1;33m(\u001b[0m\u001b[0mkey\u001b[0m\u001b[1;33m)\u001b[0m \u001b[1;32mfrom\u001b[0m \u001b[0merr\u001b[0m\u001b[1;33m\u001b[0m\u001b[1;33m\u001b[0m\u001b[0m\n\u001b[0m\u001b[0;32m   3083\u001b[0m \u001b[1;33m\u001b[0m\u001b[0m\n\u001b[0;32m   3084\u001b[0m         \u001b[1;32mif\u001b[0m \u001b[0mtolerance\u001b[0m \u001b[1;32mis\u001b[0m \u001b[1;32mnot\u001b[0m \u001b[1;32mNone\u001b[0m\u001b[1;33m:\u001b[0m\u001b[1;33m\u001b[0m\u001b[1;33m\u001b[0m\u001b[0m\n",
      "\u001b[1;31mKeyError\u001b[0m: 'Close'"
     ]
    }
   ],
   "source": [
    "stock_pred_dict = {}\n",
    "Business_days = pd.DataFrame(pd.date_range(start_date,end_date,freq='B'), columns = ['Date'])\n",
    "for code in tqdm(stock_list['종목코드'].values):\n",
    "    code_data = fdr.DataReader(code, start = start_date, end = end_date)[['Close']].reset_index()\n",
    "    code_data = pd.merge(Business_days, code_data, how = 'outer')\n",
    "    train['Close'] = code_data['Close']\n",
    "\n",
    "    model=setup(train, target = 'Close', silent=True, fold=3, fold_shuffle=True)\n",
    "    tuned_model = tune_model(compare_models(sort='MAPE', n_select=1))\n",
    "    tuned_model_ = finalize_model(tuned_model)\n",
    "    pred = predict_model(tuned_model_, test)\n",
    "    stock_pred_dict[code] = pred['Label']"
   ]
  },
  {
   "cell_type": "code",
   "execution_count": null,
   "id": "51c79d64",
   "metadata": {},
   "outputs": [
    {
     "data": {
      "text/plain": [
       "3"
      ]
     },
     "metadata": {},
     "output_type": "display_data"
    }
   ],
   "source": [
    "len(stock_pred_dict)"
   ]
  },
  {
   "cell_type": "code",
   "execution_count": null,
   "id": "27cda60d",
   "metadata": {
    "scrolled": true
   },
   "outputs": [],
   "source": [
    "stock_pred = pd.DataFrame(stock_pred_dict)\n",
    "stock_pred"
   ]
  },
  {
   "cell_type": "code",
   "execution_count": null,
   "id": "92d31979",
   "metadata": {},
   "outputs": [],
   "source": [
    "stock_pred.columns"
   ]
  },
  {
   "cell_type": "code",
   "execution_count": null,
   "id": "43444a40",
   "metadata": {
    "scrolled": true
   },
   "outputs": [],
   "source": [
    "stock_pred * 2"
   ]
  },
  {
   "cell_type": "code",
   "execution_count": null,
   "id": "f9255cc6",
   "metadata": {},
   "outputs": [],
   "source": [
    "type(stock_pred['005930'])"
   ]
  },
  {
   "cell_type": "code",
   "execution_count": null,
   "id": "e5cb46ed",
   "metadata": {
    "scrolled": false
   },
   "outputs": [],
   "source": [
    "final_stock_pred = pd.concat([stock_pred, stock_pred])\n",
    "final_stock_pred"
   ]
  },
  {
   "cell_type": "code",
   "execution_count": null,
   "id": "9ec7beb5",
   "metadata": {
    "scrolled": false
   },
   "outputs": [],
   "source": [
    "final_stock_pred = final_stock_pred.reset_index()\n",
    "final_stock_pred"
   ]
  },
  {
   "cell_type": "code",
   "execution_count": null,
   "id": "f421f5a3",
   "metadata": {
    "scrolled": false
   },
   "outputs": [],
   "source": [
    "final_stock_pred = final_stock_pred.drop('index',axis=1)\n",
    "final_stock_pred"
   ]
  },
  {
   "cell_type": "code",
   "execution_count": null,
   "id": "e86139c7",
   "metadata": {},
   "outputs": [],
   "source": [
    "final_stock_pred.columns"
   ]
  },
  {
   "cell_type": "markdown",
   "id": "8b485952",
   "metadata": {},
   "source": [
    "# 제출 파일 만들기"
   ]
  },
  {
   "cell_type": "code",
   "execution_count": null,
   "id": "962298e9",
   "metadata": {
    "scrolled": false
   },
   "outputs": [],
   "source": [
    "sample_name = 'sample_submission.csv'\n",
    "sub = pd.read_csv(os.path.join(path,sample_name))\n",
    "sub"
   ]
  },
  {
   "cell_type": "code",
   "execution_count": null,
   "id": "52d1299f",
   "metadata": {},
   "outputs": [],
   "source": [
    "for code in final_stock_pred.columns:\n",
    "    sub[code] = final_stock_pred[code]"
   ]
  },
  {
   "cell_type": "code",
   "execution_count": null,
   "id": "49b29c8b",
   "metadata": {},
   "outputs": [],
   "source": [
    "sub"
   ]
  },
  {
   "cell_type": "code",
   "execution_count": null,
   "id": "0f056096",
   "metadata": {},
   "outputs": [],
   "source": [
    "sub.to_csv('sub01_cat01.csv', index=False)"
   ]
  }
 ],
 "metadata": {
  "interpreter": {
   "hash": "8ae3dcd19c82398a5ce067019491007897b01e5b53746170904cf60dcf0d8fb4"
  },
  "kernelspec": {
   "display_name": "Python 3",
   "language": "python",
   "name": "python3"
  },
  "language_info": {
   "codemirror_mode": {
    "name": "ipython",
    "version": 3
   },
   "file_extension": ".py",
   "mimetype": "text/x-python",
   "name": "python",
   "nbconvert_exporter": "python",
   "pygments_lexer": "ipython3",
   "version": "3.8.8"
  }
 },
 "nbformat": 4,
 "nbformat_minor": 2
}
