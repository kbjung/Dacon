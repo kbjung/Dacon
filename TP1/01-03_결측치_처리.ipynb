{
 "cells": [
  {
   "cell_type": "code",
   "execution_count": 1,
   "id": "93cc69ee",
   "metadata": {},
   "outputs": [],
   "source": [
    "import pandas as pd"
   ]
  },
  {
   "cell_type": "code",
   "execution_count": 2,
   "id": "90baf288",
   "metadata": {},
   "outputs": [],
   "source": [
    "df = pd.read_csv('20210104_20211119_data.csv')"
   ]
  },
  {
   "cell_type": "code",
   "execution_count": 3,
   "id": "53232b0d",
   "metadata": {},
   "outputs": [
    {
     "name": "stdout",
     "output_type": "stream",
     "text": [
      "<class 'pandas.core.frame.DataFrame'>\n",
      "RangeIndex: 230 entries, 0 to 229\n",
      "Data columns (total 14 columns):\n",
      " #   Column         Non-Null Count  Dtype  \n",
      "---  ------         --------------  -----  \n",
      " 0   Date           230 non-null    object \n",
      " 1   exchange_rate  230 non-null    float64\n",
      " 2   kospi          219 non-null    float64\n",
      " 3   kosdaq         219 non-null    float64\n",
      " 4   kospi100       219 non-null    float64\n",
      " 5   dow            224 non-null    float64\n",
      " 6   nasdaq         224 non-null    float64\n",
      " 7   sp500          224 non-null    float64\n",
      " 8   미국채10년-2년      230 non-null    float64\n",
      " 9   BTC            219 non-null    float64\n",
      " 10  Gold           213 non-null    float64\n",
      " 11  Oil            213 non-null    float64\n",
      " 12  US10Y          219 non-null    float64\n",
      " 13  US2Y           219 non-null    float64\n",
      "dtypes: float64(13), object(1)\n",
      "memory usage: 25.3+ KB\n"
     ]
    }
   ],
   "source": [
    "df.info()"
   ]
  },
  {
   "cell_type": "code",
   "execution_count": 4,
   "id": "99a3de6e",
   "metadata": {},
   "outputs": [],
   "source": [
    "df = df.interpolate()"
   ]
  },
  {
   "cell_type": "code",
   "execution_count": 6,
   "id": "95f5aaac",
   "metadata": {},
   "outputs": [
    {
     "name": "stdout",
     "output_type": "stream",
     "text": [
      "<class 'pandas.core.frame.DataFrame'>\n",
      "RangeIndex: 230 entries, 0 to 229\n",
      "Data columns (total 14 columns):\n",
      " #   Column         Non-Null Count  Dtype  \n",
      "---  ------         --------------  -----  \n",
      " 0   Date           230 non-null    object \n",
      " 1   exchange_rate  230 non-null    float64\n",
      " 2   kospi          230 non-null    float64\n",
      " 3   kosdaq         230 non-null    float64\n",
      " 4   kospi100       230 non-null    float64\n",
      " 5   dow            230 non-null    float64\n",
      " 6   nasdaq         230 non-null    float64\n",
      " 7   sp500          230 non-null    float64\n",
      " 8   미국채10년-2년      230 non-null    float64\n",
      " 9   BTC            230 non-null    float64\n",
      " 10  Gold           230 non-null    float64\n",
      " 11  Oil            230 non-null    float64\n",
      " 12  US10Y          230 non-null    float64\n",
      " 13  US2Y           230 non-null    float64\n",
      "dtypes: float64(13), object(1)\n",
      "memory usage: 25.3+ KB\n"
     ]
    }
   ],
   "source": [
    "df.info()"
   ]
  },
  {
   "cell_type": "code",
   "execution_count": 7,
   "id": "518eaf27",
   "metadata": {},
   "outputs": [],
   "source": [
    "df.to_csv('20210104_20211119_data_interpolate.csv', index=False)"
   ]
  },
  {
   "cell_type": "code",
   "execution_count": null,
   "id": "4ea19ff9",
   "metadata": {},
   "outputs": [],
   "source": []
  }
 ],
 "metadata": {
  "kernelspec": {
   "display_name": "Python 3",
   "language": "python",
   "name": "python3"
  },
  "language_info": {
   "codemirror_mode": {
    "name": "ipython",
    "version": 3
   },
   "file_extension": ".py",
   "mimetype": "text/x-python",
   "name": "python",
   "nbconvert_exporter": "python",
   "pygments_lexer": "ipython3",
   "version": "3.8.8"
  }
 },
 "nbformat": 4,
 "nbformat_minor": 5
}
