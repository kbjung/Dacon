{
 "cells": [
  {
   "cell_type": "markdown",
   "id": "ca3bf6bb",
   "metadata": {},
   "source": [
    "# 주가 지수, 종목 코드, 종가 데이터 셋 만들기\n",
    "* 주가 지수 셋에 종목 코드, 상장시장, 종가 열 추가"
   ]
  },
  {
   "cell_type": "markdown",
   "id": "f172f612",
   "metadata": {},
   "source": [
    "## 주가 지수 데이터 수집"
   ]
  },
  {
   "cell_type": "code",
   "execution_count": 46,
   "id": "d40a486a",
   "metadata": {},
   "outputs": [],
   "source": [
    "import pandas as pd\n",
    "import os\n",
    "import FinanceDataReader as fdr\n",
    "from tqdm import tqdm"
   ]
  },
  {
   "cell_type": "markdown",
   "id": "9e2eaa45",
   "metadata": {},
   "source": [
    "### 시작과 끝 날짜 지정"
   ]
  },
  {
   "cell_type": "code",
   "execution_count": 47,
   "id": "2694d0db",
   "metadata": {},
   "outputs": [],
   "source": [
    "start_date = '2021-01-04'\n",
    "end_date = '2021-11-26'"
   ]
  },
  {
   "cell_type": "markdown",
   "id": "5909d624",
   "metadata": {},
   "source": [
    "### KOSDAQ"
   ]
  },
  {
   "cell_type": "code",
   "execution_count": 48,
   "id": "f3f7538a",
   "metadata": {
    "scrolled": true
   },
   "outputs": [
    {
     "data": {
      "text/plain": [
       "Date\n",
       "2021-01-04     977.62\n",
       "2021-01-05     985.76\n",
       "2021-01-06     981.39\n",
       "2021-01-07     988.86\n",
       "2021-01-08     987.79\n",
       "               ...   \n",
       "2021-11-22    1032.31\n",
       "2021-11-23    1013.72\n",
       "2021-11-24    1020.13\n",
       "2021-11-25    1015.66\n",
       "2021-11-26    1005.89\n",
       "Name: kosdaq, Length: 224, dtype: float64"
      ]
     },
     "execution_count": 48,
     "metadata": {},
     "output_type": "execute_result"
    }
   ],
   "source": [
    "# KOSDAQ\n",
    "kosdaq = fdr.DataReader('KQ11', start = start_date, end = end_date)\n",
    "kosdaq = kosdaq['Close']\n",
    "kosdaq.name= 'kosdaq'\n",
    "kosdaq"
   ]
  },
  {
   "cell_type": "markdown",
   "id": "cc270ec6",
   "metadata": {},
   "source": [
    "### NASDAQ"
   ]
  },
  {
   "cell_type": "code",
   "execution_count": 49,
   "id": "51670a02",
   "metadata": {
    "scrolled": true
   },
   "outputs": [
    {
     "data": {
      "text/plain": [
       "Date\n",
       "2021-01-04    12698.4\n",
       "2021-01-05    12819.0\n",
       "2021-01-06    12740.8\n",
       "2021-01-07    13067.5\n",
       "2021-01-08    13202.0\n",
       "               ...   \n",
       "2021-11-19    16057.4\n",
       "2021-11-22    15854.8\n",
       "2021-11-23    15775.1\n",
       "2021-11-24    15845.2\n",
       "2021-11-26    15491.7\n",
       "Name: nasdaq, Length: 228, dtype: float64"
      ]
     },
     "execution_count": 49,
     "metadata": {},
     "output_type": "execute_result"
    }
   ],
   "source": [
    "# 나스닥\n",
    "nasdaq = fdr.DataReader('IXIC', start = start_date, end = end_date)\n",
    "nasdaq = nasdaq['Close']\n",
    "nasdaq.name= 'nasdaq'\n",
    "nasdaq"
   ]
  },
  {
   "cell_type": "markdown",
   "id": "e966010c",
   "metadata": {},
   "source": [
    "### DOW"
   ]
  },
  {
   "cell_type": "code",
   "execution_count": 50,
   "id": "ae2192ce",
   "metadata": {
    "scrolled": true
   },
   "outputs": [
    {
     "data": {
      "text/plain": [
       "Date\n",
       "2021-01-04    30223.89\n",
       "2021-01-05    30391.60\n",
       "2021-01-06    30829.40\n",
       "2021-01-07    31041.13\n",
       "2021-01-08    31097.97\n",
       "                ...   \n",
       "2021-11-19    35602.18\n",
       "2021-11-22    35619.26\n",
       "2021-11-23    35813.74\n",
       "2021-11-24    35805.17\n",
       "2021-11-26    34908.10\n",
       "Name: dow, Length: 228, dtype: float64"
      ]
     },
     "execution_count": 50,
     "metadata": {},
     "output_type": "execute_result"
    }
   ],
   "source": [
    "# 다우존스\n",
    "dow = fdr.DataReader('DJI', start = start_date, end = end_date)\n",
    "dow = dow['Close']\n",
    "dow.name= 'dow'\n",
    "dow"
   ]
  },
  {
   "cell_type": "markdown",
   "id": "8dc78d43",
   "metadata": {},
   "source": [
    "### S&P500"
   ]
  },
  {
   "cell_type": "code",
   "execution_count": 51,
   "id": "0d29bd5a",
   "metadata": {
    "scrolled": false
   },
   "outputs": [
    {
     "data": {
      "text/plain": [
       "Date\n",
       "2021-01-04    3700.65\n",
       "2021-01-05    3726.86\n",
       "2021-01-06    3748.14\n",
       "2021-01-07    3803.79\n",
       "2021-01-08    3824.68\n",
       "               ...   \n",
       "2021-11-19    4697.96\n",
       "2021-11-22    4682.95\n",
       "2021-11-23    4690.70\n",
       "2021-11-24    4701.46\n",
       "2021-11-26    4594.62\n",
       "Name: sp500, Length: 228, dtype: float64"
      ]
     },
     "execution_count": 51,
     "metadata": {},
     "output_type": "execute_result"
    }
   ],
   "source": [
    "# S&P 500 지수\n",
    "sp500 = fdr.DataReader('US500', start = start_date, end = end_date)\n",
    "sp500 = sp500['Close']\n",
    "sp500.name= 'sp500'\n",
    "sp500"
   ]
  },
  {
   "cell_type": "markdown",
   "id": "f63be4c9",
   "metadata": {},
   "source": [
    "### KOSPI"
   ]
  },
  {
   "cell_type": "code",
   "execution_count": 52,
   "id": "6eba7430",
   "metadata": {
    "scrolled": false
   },
   "outputs": [
    {
     "data": {
      "text/plain": [
       "Date\n",
       "2021-01-04    2944.45\n",
       "2021-01-05    2990.57\n",
       "2021-01-06    2968.21\n",
       "2021-01-07    3031.68\n",
       "2021-01-08    3152.18\n",
       "               ...   \n",
       "2021-11-22    3013.25\n",
       "2021-11-23    2997.33\n",
       "2021-11-24    2994.29\n",
       "2021-11-25    2980.27\n",
       "2021-11-26    2936.44\n",
       "Name: kospi, Length: 224, dtype: float64"
      ]
     },
     "execution_count": 52,
     "metadata": {},
     "output_type": "execute_result"
    }
   ],
   "source": [
    "# KOSPI\n",
    "kospi = fdr.DataReader('KS11', start = start_date, end = end_date)\n",
    "kospi = kospi['Close']\n",
    "kospi.name= 'kospi'\n",
    "kospi"
   ]
  },
  {
   "cell_type": "markdown",
   "id": "b8c981c8",
   "metadata": {},
   "source": [
    "### 종목 데이터 불러오기"
   ]
  },
  {
   "cell_type": "code",
   "execution_count": 53,
   "id": "29692b7b",
   "metadata": {},
   "outputs": [
    {
     "data": {
      "text/html": [
       "<div>\n",
       "<style scoped>\n",
       "    .dataframe tbody tr th:only-of-type {\n",
       "        vertical-align: middle;\n",
       "    }\n",
       "\n",
       "    .dataframe tbody tr th {\n",
       "        vertical-align: top;\n",
       "    }\n",
       "\n",
       "    .dataframe thead th {\n",
       "        text-align: right;\n",
       "    }\n",
       "</style>\n",
       "<table border=\"1\" class=\"dataframe\">\n",
       "  <thead>\n",
       "    <tr style=\"text-align: right;\">\n",
       "      <th></th>\n",
       "      <th>종목명</th>\n",
       "      <th>종목코드</th>\n",
       "      <th>상장시장</th>\n",
       "    </tr>\n",
       "  </thead>\n",
       "  <tbody>\n",
       "    <tr>\n",
       "      <th>0</th>\n",
       "      <td>삼성전자</td>\n",
       "      <td>5930</td>\n",
       "      <td>KOSPI</td>\n",
       "    </tr>\n",
       "    <tr>\n",
       "      <th>1</th>\n",
       "      <td>SK하이닉스</td>\n",
       "      <td>660</td>\n",
       "      <td>KOSPI</td>\n",
       "    </tr>\n",
       "    <tr>\n",
       "      <th>2</th>\n",
       "      <td>NAVER</td>\n",
       "      <td>35420</td>\n",
       "      <td>KOSPI</td>\n",
       "    </tr>\n",
       "    <tr>\n",
       "      <th>3</th>\n",
       "      <td>카카오</td>\n",
       "      <td>35720</td>\n",
       "      <td>KOSPI</td>\n",
       "    </tr>\n",
       "    <tr>\n",
       "      <th>4</th>\n",
       "      <td>삼성바이오로직스</td>\n",
       "      <td>207940</td>\n",
       "      <td>KOSPI</td>\n",
       "    </tr>\n",
       "  </tbody>\n",
       "</table>\n",
       "</div>"
      ],
      "text/plain": [
       "        종목명    종목코드   상장시장\n",
       "0      삼성전자    5930  KOSPI\n",
       "1    SK하이닉스     660  KOSPI\n",
       "2     NAVER   35420  KOSPI\n",
       "3       카카오   35720  KOSPI\n",
       "4  삼성바이오로직스  207940  KOSPI"
      ]
     },
     "execution_count": 53,
     "metadata": {},
     "output_type": "execute_result"
    }
   ],
   "source": [
    "path = '../data'\n",
    "list_name = 'Stock_List.csv'\n",
    "stock_list = pd.read_csv(os.path.join(path,list_name))\n",
    "stock_list.head()"
   ]
  },
  {
   "cell_type": "code",
   "execution_count": 54,
   "id": "4b811aca",
   "metadata": {
    "scrolled": false
   },
   "outputs": [
    {
     "data": {
      "text/html": [
       "<div>\n",
       "<style scoped>\n",
       "    .dataframe tbody tr th:only-of-type {\n",
       "        vertical-align: middle;\n",
       "    }\n",
       "\n",
       "    .dataframe tbody tr th {\n",
       "        vertical-align: top;\n",
       "    }\n",
       "\n",
       "    .dataframe thead th {\n",
       "        text-align: right;\n",
       "    }\n",
       "</style>\n",
       "<table border=\"1\" class=\"dataframe\">\n",
       "  <thead>\n",
       "    <tr style=\"text-align: right;\">\n",
       "      <th></th>\n",
       "      <th>종목명</th>\n",
       "      <th>종목코드</th>\n",
       "      <th>상장시장</th>\n",
       "    </tr>\n",
       "  </thead>\n",
       "  <tbody>\n",
       "    <tr>\n",
       "      <th>0</th>\n",
       "      <td>삼성전자</td>\n",
       "      <td>005930</td>\n",
       "      <td>KOSPI</td>\n",
       "    </tr>\n",
       "    <tr>\n",
       "      <th>1</th>\n",
       "      <td>SK하이닉스</td>\n",
       "      <td>000660</td>\n",
       "      <td>KOSPI</td>\n",
       "    </tr>\n",
       "    <tr>\n",
       "      <th>2</th>\n",
       "      <td>NAVER</td>\n",
       "      <td>035420</td>\n",
       "      <td>KOSPI</td>\n",
       "    </tr>\n",
       "    <tr>\n",
       "      <th>3</th>\n",
       "      <td>카카오</td>\n",
       "      <td>035720</td>\n",
       "      <td>KOSPI</td>\n",
       "    </tr>\n",
       "    <tr>\n",
       "      <th>4</th>\n",
       "      <td>삼성바이오로직스</td>\n",
       "      <td>207940</td>\n",
       "      <td>KOSPI</td>\n",
       "    </tr>\n",
       "    <tr>\n",
       "      <th>...</th>\n",
       "      <td>...</td>\n",
       "      <td>...</td>\n",
       "      <td>...</td>\n",
       "    </tr>\n",
       "    <tr>\n",
       "      <th>365</th>\n",
       "      <td>맘스터치</td>\n",
       "      <td>220630</td>\n",
       "      <td>KOSDAQ</td>\n",
       "    </tr>\n",
       "    <tr>\n",
       "      <th>366</th>\n",
       "      <td>다날</td>\n",
       "      <td>064260</td>\n",
       "      <td>KOSDAQ</td>\n",
       "    </tr>\n",
       "    <tr>\n",
       "      <th>367</th>\n",
       "      <td>제이시스메디칼</td>\n",
       "      <td>287410</td>\n",
       "      <td>KOSDAQ</td>\n",
       "    </tr>\n",
       "    <tr>\n",
       "      <th>368</th>\n",
       "      <td>크리스에프앤씨</td>\n",
       "      <td>110790</td>\n",
       "      <td>KOSDAQ</td>\n",
       "    </tr>\n",
       "    <tr>\n",
       "      <th>369</th>\n",
       "      <td>쎄트렉아이</td>\n",
       "      <td>099320</td>\n",
       "      <td>KOSDAQ</td>\n",
       "    </tr>\n",
       "  </tbody>\n",
       "</table>\n",
       "<p>370 rows × 3 columns</p>\n",
       "</div>"
      ],
      "text/plain": [
       "          종목명    종목코드    상장시장\n",
       "0        삼성전자  005930   KOSPI\n",
       "1      SK하이닉스  000660   KOSPI\n",
       "2       NAVER  035420   KOSPI\n",
       "3         카카오  035720   KOSPI\n",
       "4    삼성바이오로직스  207940   KOSPI\n",
       "..        ...     ...     ...\n",
       "365      맘스터치  220630  KOSDAQ\n",
       "366        다날  064260  KOSDAQ\n",
       "367   제이시스메디칼  287410  KOSDAQ\n",
       "368   크리스에프앤씨  110790  KOSDAQ\n",
       "369     쎄트렉아이  099320  KOSDAQ\n",
       "\n",
       "[370 rows x 3 columns]"
      ]
     },
     "execution_count": 54,
     "metadata": {},
     "output_type": "execute_result"
    }
   ],
   "source": [
    "# 종목 코드 6자리로 맞추기\n",
    "stock_list['종목코드'] = stock_list[\"종목코드\"].astype(str).str.zfill(6)\n",
    "stock_list"
   ]
  },
  {
   "cell_type": "markdown",
   "id": "3394cb45",
   "metadata": {},
   "source": [
    "### 주가 지수 데이터 셋 만들기"
   ]
  },
  {
   "cell_type": "markdown",
   "id": "0097ccbe",
   "metadata": {},
   "source": [
    "#### 평일 날짜 셋 만들기"
   ]
  },
  {
   "cell_type": "code",
   "execution_count": 55,
   "id": "7d0cc8b3",
   "metadata": {},
   "outputs": [],
   "source": [
    "Business_days = pd.DataFrame(pd.date_range(start_date,end_date,freq='B'), columns = ['Date'])"
   ]
  },
  {
   "cell_type": "code",
   "execution_count": 56,
   "id": "8881cfeb",
   "metadata": {
    "scrolled": false
   },
   "outputs": [
    {
     "name": "stdout",
     "output_type": "stream",
     "text": [
      "<class 'pandas.core.frame.DataFrame'>\n",
      "RangeIndex: 235 entries, 0 to 234\n",
      "Data columns (total 1 columns):\n",
      " #   Column  Non-Null Count  Dtype         \n",
      "---  ------  --------------  -----         \n",
      " 0   Date    235 non-null    datetime64[ns]\n",
      "dtypes: datetime64[ns](1)\n",
      "memory usage: 2.0 KB\n"
     ]
    }
   ],
   "source": [
    "Business_days.info()"
   ]
  },
  {
   "cell_type": "markdown",
   "id": "9dede735",
   "metadata": {},
   "source": [
    "#### 지수 셋 합치기"
   ]
  },
  {
   "cell_type": "code",
   "execution_count": 57,
   "id": "abd66b22",
   "metadata": {
    "scrolled": true
   },
   "outputs": [
    {
     "data": {
      "text/html": [
       "<div>\n",
       "<style scoped>\n",
       "    .dataframe tbody tr th:only-of-type {\n",
       "        vertical-align: middle;\n",
       "    }\n",
       "\n",
       "    .dataframe tbody tr th {\n",
       "        vertical-align: top;\n",
       "    }\n",
       "\n",
       "    .dataframe thead th {\n",
       "        text-align: right;\n",
       "    }\n",
       "</style>\n",
       "<table border=\"1\" class=\"dataframe\">\n",
       "  <thead>\n",
       "    <tr style=\"text-align: right;\">\n",
       "      <th></th>\n",
       "      <th>Date</th>\n",
       "      <th>kosdaq</th>\n",
       "      <th>nasdaq</th>\n",
       "      <th>dow</th>\n",
       "      <th>sp500</th>\n",
       "      <th>kospi</th>\n",
       "    </tr>\n",
       "  </thead>\n",
       "  <tbody>\n",
       "    <tr>\n",
       "      <th>0</th>\n",
       "      <td>2021-01-04</td>\n",
       "      <td>977.62</td>\n",
       "      <td>12698.4</td>\n",
       "      <td>30223.89</td>\n",
       "      <td>3700.65</td>\n",
       "      <td>2944.45</td>\n",
       "    </tr>\n",
       "    <tr>\n",
       "      <th>1</th>\n",
       "      <td>2021-01-05</td>\n",
       "      <td>985.76</td>\n",
       "      <td>12819.0</td>\n",
       "      <td>30391.60</td>\n",
       "      <td>3726.86</td>\n",
       "      <td>2990.57</td>\n",
       "    </tr>\n",
       "    <tr>\n",
       "      <th>2</th>\n",
       "      <td>2021-01-06</td>\n",
       "      <td>981.39</td>\n",
       "      <td>12740.8</td>\n",
       "      <td>30829.40</td>\n",
       "      <td>3748.14</td>\n",
       "      <td>2968.21</td>\n",
       "    </tr>\n",
       "    <tr>\n",
       "      <th>3</th>\n",
       "      <td>2021-01-07</td>\n",
       "      <td>988.86</td>\n",
       "      <td>13067.5</td>\n",
       "      <td>31041.13</td>\n",
       "      <td>3803.79</td>\n",
       "      <td>3031.68</td>\n",
       "    </tr>\n",
       "    <tr>\n",
       "      <th>4</th>\n",
       "      <td>2021-01-08</td>\n",
       "      <td>987.79</td>\n",
       "      <td>13202.0</td>\n",
       "      <td>31097.97</td>\n",
       "      <td>3824.68</td>\n",
       "      <td>3152.18</td>\n",
       "    </tr>\n",
       "  </tbody>\n",
       "</table>\n",
       "</div>"
      ],
      "text/plain": [
       "        Date  kosdaq   nasdaq       dow    sp500    kospi\n",
       "0 2021-01-04  977.62  12698.4  30223.89  3700.65  2944.45\n",
       "1 2021-01-05  985.76  12819.0  30391.60  3726.86  2990.57\n",
       "2 2021-01-06  981.39  12740.8  30829.40  3748.14  2968.21\n",
       "3 2021-01-07  988.86  13067.5  31041.13  3803.79  3031.68\n",
       "4 2021-01-08  987.79  13202.0  31097.97  3824.68  3152.18"
      ]
     },
     "execution_count": 57,
     "metadata": {},
     "output_type": "execute_result"
    }
   ],
   "source": [
    "data = pd.merge(Business_days, kosdaq, on='Date', how='left')\n",
    "data = pd.merge(data, nasdaq, on='Date', how='left')\n",
    "data = pd.merge(data, dow, on='Date', how='left')\n",
    "data = pd.merge(data, sp500, on='Date', how='left')\n",
    "data = pd.merge(data, kospi, on='Date', how='left')\n",
    "data.head()"
   ]
  },
  {
   "cell_type": "code",
   "execution_count": 58,
   "id": "193c5db2",
   "metadata": {},
   "outputs": [
    {
     "name": "stdout",
     "output_type": "stream",
     "text": [
      "<class 'pandas.core.frame.DataFrame'>\n",
      "Int64Index: 235 entries, 0 to 234\n",
      "Data columns (total 6 columns):\n",
      " #   Column  Non-Null Count  Dtype         \n",
      "---  ------  --------------  -----         \n",
      " 0   Date    235 non-null    datetime64[ns]\n",
      " 1   kosdaq  224 non-null    float64       \n",
      " 2   nasdaq  228 non-null    float64       \n",
      " 3   dow     228 non-null    float64       \n",
      " 4   sp500   228 non-null    float64       \n",
      " 5   kospi   224 non-null    float64       \n",
      "dtypes: datetime64[ns](1), float64(5)\n",
      "memory usage: 12.9 KB\n"
     ]
    }
   ],
   "source": [
    "data.info()"
   ]
  },
  {
   "cell_type": "markdown",
   "id": "1d770477",
   "metadata": {},
   "source": [
    "#### 지수 데이터 셋 결측치 처리"
   ]
  },
  {
   "cell_type": "code",
   "execution_count": 59,
   "id": "2c9e1195",
   "metadata": {},
   "outputs": [],
   "source": [
    "data = data.interpolate()"
   ]
  },
  {
   "cell_type": "code",
   "execution_count": 60,
   "id": "cf8b053d",
   "metadata": {},
   "outputs": [
    {
     "name": "stdout",
     "output_type": "stream",
     "text": [
      "<class 'pandas.core.frame.DataFrame'>\n",
      "Int64Index: 235 entries, 0 to 234\n",
      "Data columns (total 6 columns):\n",
      " #   Column  Non-Null Count  Dtype         \n",
      "---  ------  --------------  -----         \n",
      " 0   Date    235 non-null    datetime64[ns]\n",
      " 1   kosdaq  235 non-null    float64       \n",
      " 2   nasdaq  235 non-null    float64       \n",
      " 3   dow     235 non-null    float64       \n",
      " 4   sp500   235 non-null    float64       \n",
      " 5   kospi   235 non-null    float64       \n",
      "dtypes: datetime64[ns](1), float64(5)\n",
      "memory usage: 12.9 KB\n"
     ]
    }
   ],
   "source": [
    "data.info()"
   ]
  },
  {
   "cell_type": "code",
   "execution_count": 63,
   "id": "8aeb2748",
   "metadata": {},
   "outputs": [
    {
     "data": {
      "text/plain": [
       "235"
      ]
     },
     "execution_count": 63,
     "metadata": {},
     "output_type": "execute_result"
    }
   ],
   "source": [
    "len(Business_days)"
   ]
  },
  {
   "cell_type": "markdown",
   "id": "9a8fcfa6",
   "metadata": {},
   "source": [
    "## 지수 셋에 종목 코드, 종가 열 붙이기"
   ]
  },
  {
   "cell_type": "code",
   "execution_count": 64,
   "id": "eec45709",
   "metadata": {},
   "outputs": [
    {
     "name": "stderr",
     "output_type": "stream",
     "text": [
      "100%|████████████████████████████████████████████████████████████████████████████████| 370/370 [01:38<00:00,  3.77it/s]\n"
     ]
    }
   ],
   "source": [
    "all_data = pd.DataFrame()\n",
    "for code, market in tqdm(stock_list[['종목코드', '상장시장']].values):\n",
    "    temp_code = [code] * len(Business_days)\n",
    "    temp_market = [market] * len(Business_days)\n",
    "    stock_data = fdr.DataReader(code, start = start_date, end = end_date)[['Close']].reset_index()\n",
    "    temp_close = pd.merge(Business_days, stock_data, how='outer')\n",
    "    data['code'] = temp_code\n",
    "    data['market'] = temp_market\n",
    "    data['close'] = temp_close['Close']\n",
    "    all_data = pd.concat([all_data, data])"
   ]
  },
  {
   "cell_type": "code",
   "execution_count": 65,
   "id": "f462b55b",
   "metadata": {},
   "outputs": [
    {
     "data": {
      "text/html": [
       "<div>\n",
       "<style scoped>\n",
       "    .dataframe tbody tr th:only-of-type {\n",
       "        vertical-align: middle;\n",
       "    }\n",
       "\n",
       "    .dataframe tbody tr th {\n",
       "        vertical-align: top;\n",
       "    }\n",
       "\n",
       "    .dataframe thead th {\n",
       "        text-align: right;\n",
       "    }\n",
       "</style>\n",
       "<table border=\"1\" class=\"dataframe\">\n",
       "  <thead>\n",
       "    <tr style=\"text-align: right;\">\n",
       "      <th></th>\n",
       "      <th>Date</th>\n",
       "      <th>kosdaq</th>\n",
       "      <th>nasdaq</th>\n",
       "      <th>dow</th>\n",
       "      <th>sp500</th>\n",
       "      <th>kospi</th>\n",
       "      <th>code</th>\n",
       "      <th>market</th>\n",
       "      <th>close</th>\n",
       "    </tr>\n",
       "  </thead>\n",
       "  <tbody>\n",
       "    <tr>\n",
       "      <th>0</th>\n",
       "      <td>2021-01-04</td>\n",
       "      <td>977.62</td>\n",
       "      <td>12698.4</td>\n",
       "      <td>30223.89</td>\n",
       "      <td>3700.65</td>\n",
       "      <td>2944.45</td>\n",
       "      <td>005930</td>\n",
       "      <td>KOSPI</td>\n",
       "      <td>83000.0</td>\n",
       "    </tr>\n",
       "    <tr>\n",
       "      <th>1</th>\n",
       "      <td>2021-01-05</td>\n",
       "      <td>985.76</td>\n",
       "      <td>12819.0</td>\n",
       "      <td>30391.60</td>\n",
       "      <td>3726.86</td>\n",
       "      <td>2990.57</td>\n",
       "      <td>005930</td>\n",
       "      <td>KOSPI</td>\n",
       "      <td>83900.0</td>\n",
       "    </tr>\n",
       "    <tr>\n",
       "      <th>2</th>\n",
       "      <td>2021-01-06</td>\n",
       "      <td>981.39</td>\n",
       "      <td>12740.8</td>\n",
       "      <td>30829.40</td>\n",
       "      <td>3748.14</td>\n",
       "      <td>2968.21</td>\n",
       "      <td>005930</td>\n",
       "      <td>KOSPI</td>\n",
       "      <td>82200.0</td>\n",
       "    </tr>\n",
       "    <tr>\n",
       "      <th>3</th>\n",
       "      <td>2021-01-07</td>\n",
       "      <td>988.86</td>\n",
       "      <td>13067.5</td>\n",
       "      <td>31041.13</td>\n",
       "      <td>3803.79</td>\n",
       "      <td>3031.68</td>\n",
       "      <td>005930</td>\n",
       "      <td>KOSPI</td>\n",
       "      <td>82900.0</td>\n",
       "    </tr>\n",
       "    <tr>\n",
       "      <th>4</th>\n",
       "      <td>2021-01-08</td>\n",
       "      <td>987.79</td>\n",
       "      <td>13202.0</td>\n",
       "      <td>31097.97</td>\n",
       "      <td>3824.68</td>\n",
       "      <td>3152.18</td>\n",
       "      <td>005930</td>\n",
       "      <td>KOSPI</td>\n",
       "      <td>88800.0</td>\n",
       "    </tr>\n",
       "  </tbody>\n",
       "</table>\n",
       "</div>"
      ],
      "text/plain": [
       "        Date  kosdaq   nasdaq       dow    sp500    kospi    code market  \\\n",
       "0 2021-01-04  977.62  12698.4  30223.89  3700.65  2944.45  005930  KOSPI   \n",
       "1 2021-01-05  985.76  12819.0  30391.60  3726.86  2990.57  005930  KOSPI   \n",
       "2 2021-01-06  981.39  12740.8  30829.40  3748.14  2968.21  005930  KOSPI   \n",
       "3 2021-01-07  988.86  13067.5  31041.13  3803.79  3031.68  005930  KOSPI   \n",
       "4 2021-01-08  987.79  13202.0  31097.97  3824.68  3152.18  005930  KOSPI   \n",
       "\n",
       "     close  \n",
       "0  83000.0  \n",
       "1  83900.0  \n",
       "2  82200.0  \n",
       "3  82900.0  \n",
       "4  88800.0  "
      ]
     },
     "execution_count": 65,
     "metadata": {},
     "output_type": "execute_result"
    }
   ],
   "source": [
    "all_data.head()"
   ]
  },
  {
   "cell_type": "code",
   "execution_count": 66,
   "id": "e104b48a",
   "metadata": {
    "scrolled": true
   },
   "outputs": [
    {
     "data": {
      "text/html": [
       "<div>\n",
       "<style scoped>\n",
       "    .dataframe tbody tr th:only-of-type {\n",
       "        vertical-align: middle;\n",
       "    }\n",
       "\n",
       "    .dataframe tbody tr th {\n",
       "        vertical-align: top;\n",
       "    }\n",
       "\n",
       "    .dataframe thead th {\n",
       "        text-align: right;\n",
       "    }\n",
       "</style>\n",
       "<table border=\"1\" class=\"dataframe\">\n",
       "  <thead>\n",
       "    <tr style=\"text-align: right;\">\n",
       "      <th></th>\n",
       "      <th>Date</th>\n",
       "      <th>kosdaq</th>\n",
       "      <th>nasdaq</th>\n",
       "      <th>dow</th>\n",
       "      <th>sp500</th>\n",
       "      <th>kospi</th>\n",
       "      <th>code</th>\n",
       "      <th>market</th>\n",
       "      <th>close</th>\n",
       "    </tr>\n",
       "  </thead>\n",
       "  <tbody>\n",
       "    <tr>\n",
       "      <th>230</th>\n",
       "      <td>2021-11-22</td>\n",
       "      <td>1032.31</td>\n",
       "      <td>15854.80</td>\n",
       "      <td>35619.260</td>\n",
       "      <td>4682.95</td>\n",
       "      <td>3013.25</td>\n",
       "      <td>099320</td>\n",
       "      <td>KOSDAQ</td>\n",
       "      <td>48350.0</td>\n",
       "    </tr>\n",
       "    <tr>\n",
       "      <th>231</th>\n",
       "      <td>2021-11-23</td>\n",
       "      <td>1013.72</td>\n",
       "      <td>15775.10</td>\n",
       "      <td>35813.740</td>\n",
       "      <td>4690.70</td>\n",
       "      <td>2997.33</td>\n",
       "      <td>099320</td>\n",
       "      <td>KOSDAQ</td>\n",
       "      <td>46900.0</td>\n",
       "    </tr>\n",
       "    <tr>\n",
       "      <th>232</th>\n",
       "      <td>2021-11-24</td>\n",
       "      <td>1020.13</td>\n",
       "      <td>15845.20</td>\n",
       "      <td>35805.170</td>\n",
       "      <td>4701.46</td>\n",
       "      <td>2994.29</td>\n",
       "      <td>099320</td>\n",
       "      <td>KOSDAQ</td>\n",
       "      <td>47150.0</td>\n",
       "    </tr>\n",
       "    <tr>\n",
       "      <th>233</th>\n",
       "      <td>2021-11-25</td>\n",
       "      <td>1015.66</td>\n",
       "      <td>15668.45</td>\n",
       "      <td>35356.635</td>\n",
       "      <td>4648.04</td>\n",
       "      <td>2980.27</td>\n",
       "      <td>099320</td>\n",
       "      <td>KOSDAQ</td>\n",
       "      <td>46600.0</td>\n",
       "    </tr>\n",
       "    <tr>\n",
       "      <th>234</th>\n",
       "      <td>2021-11-26</td>\n",
       "      <td>1005.89</td>\n",
       "      <td>15491.70</td>\n",
       "      <td>34908.100</td>\n",
       "      <td>4594.62</td>\n",
       "      <td>2936.44</td>\n",
       "      <td>099320</td>\n",
       "      <td>KOSDAQ</td>\n",
       "      <td>45350.0</td>\n",
       "    </tr>\n",
       "  </tbody>\n",
       "</table>\n",
       "</div>"
      ],
      "text/plain": [
       "          Date   kosdaq    nasdaq        dow    sp500    kospi    code  \\\n",
       "230 2021-11-22  1032.31  15854.80  35619.260  4682.95  3013.25  099320   \n",
       "231 2021-11-23  1013.72  15775.10  35813.740  4690.70  2997.33  099320   \n",
       "232 2021-11-24  1020.13  15845.20  35805.170  4701.46  2994.29  099320   \n",
       "233 2021-11-25  1015.66  15668.45  35356.635  4648.04  2980.27  099320   \n",
       "234 2021-11-26  1005.89  15491.70  34908.100  4594.62  2936.44  099320   \n",
       "\n",
       "     market    close  \n",
       "230  KOSDAQ  48350.0  \n",
       "231  KOSDAQ  46900.0  \n",
       "232  KOSDAQ  47150.0  \n",
       "233  KOSDAQ  46600.0  \n",
       "234  KOSDAQ  45350.0  "
      ]
     },
     "execution_count": 66,
     "metadata": {},
     "output_type": "execute_result"
    }
   ],
   "source": [
    "all_data.tail()"
   ]
  },
  {
   "cell_type": "code",
   "execution_count": 68,
   "id": "1bb3448f",
   "metadata": {},
   "outputs": [
    {
     "name": "stdout",
     "output_type": "stream",
     "text": [
      "<class 'pandas.core.frame.DataFrame'>\n",
      "Int64Index: 86950 entries, 0 to 234\n",
      "Data columns (total 9 columns):\n",
      " #   Column  Non-Null Count  Dtype         \n",
      "---  ------  --------------  -----         \n",
      " 0   Date    86950 non-null  datetime64[ns]\n",
      " 1   kosdaq  86950 non-null  float64       \n",
      " 2   nasdaq  86950 non-null  float64       \n",
      " 3   dow     86950 non-null  float64       \n",
      " 4   sp500   86950 non-null  float64       \n",
      " 5   kospi   86950 non-null  float64       \n",
      " 6   code    86950 non-null  object        \n",
      " 7   market  86950 non-null  object        \n",
      " 8   close   82872 non-null  float64       \n",
      "dtypes: datetime64[ns](1), float64(6), object(2)\n",
      "memory usage: 6.6+ MB\n"
     ]
    }
   ],
   "source": [
    "all_data.info()"
   ]
  },
  {
   "cell_type": "markdown",
   "id": "d29b84ae",
   "metadata": {},
   "source": [
    "## 파일 출력하기"
   ]
  },
  {
   "cell_type": "code",
   "execution_count": 67,
   "id": "67800aa4",
   "metadata": {},
   "outputs": [],
   "source": [
    "file_name = start_date + '_' + end_date + '_all_data' + '.csv'\n",
    "all_data.to_csv(file_name, index=False)"
   ]
  },
  {
   "cell_type": "code",
   "execution_count": null,
   "id": "0b7f76e2",
   "metadata": {},
   "outputs": [],
   "source": []
  }
 ],
 "metadata": {
  "kernelspec": {
   "display_name": "Python 3",
   "language": "python",
   "name": "python3"
  },
  "language_info": {
   "codemirror_mode": {
    "name": "ipython",
    "version": 3
   },
   "file_extension": ".py",
   "mimetype": "text/x-python",
   "name": "python",
   "nbconvert_exporter": "python",
   "pygments_lexer": "ipython3",
   "version": "3.8.8"
  }
 },
 "nbformat": 4,
 "nbformat_minor": 5
}
