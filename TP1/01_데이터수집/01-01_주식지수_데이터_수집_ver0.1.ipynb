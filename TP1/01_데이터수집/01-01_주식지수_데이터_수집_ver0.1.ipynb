{
 "cells": [
  {
   "cell_type": "code",
   "execution_count": 49,
   "id": "d40a486a",
   "metadata": {},
   "outputs": [],
   "source": [
    "import pandas as pd\n",
    "import numpy as np\n",
    "import os\n",
    "import FinanceDataReader as fdr"
   ]
  },
  {
   "cell_type": "code",
   "execution_count": 50,
   "id": "49b7dfcf",
   "metadata": {},
   "outputs": [],
   "source": [
    "import seaborn as sns\n",
    "import matplotlib.pyplot as plt\n",
    "\n",
    "import platform\n",
    "from matplotlib import font_manager, rc\n",
    "\n",
    "path = \"C:/Windows/Fonts/malgun.ttf\"\n",
    "if platform.system() == \"Windows\":\n",
    "    font_name = font_manager.FontProperties(fname=path).get_name()\n",
    "    rc('font', family=font_name)\n",
    "elif platform.system()==\"Darwin\":\n",
    "    rc('font', family='AppleGothic')\n",
    "else:\n",
    "    print(\"Unknown System\")"
   ]
  },
  {
   "cell_type": "code",
   "execution_count": 75,
   "id": "2694d0db",
   "metadata": {},
   "outputs": [],
   "source": [
    "start_date = '20210104'\n",
    "end_date = '20211119'"
   ]
  },
  {
   "cell_type": "code",
   "execution_count": 76,
   "id": "5738cbc5",
   "metadata": {
    "scrolled": false
   },
   "outputs": [
    {
     "data": {
      "text/plain": [
       "Date\n",
       "2021-01-04    1086.48\n",
       "2021-01-05    1086.42\n",
       "2021-01-06    1087.93\n",
       "2021-01-07    1094.28\n",
       "2021-01-08    1092.93\n",
       "               ...   \n",
       "2021-11-15    1183.42\n",
       "2021-11-16    1183.85\n",
       "2021-11-17    1180.46\n",
       "2021-11-18    1182.37\n",
       "2021-11-19    1187.10\n",
       "Name: exchange_rate, Length: 230, dtype: float64"
      ]
     },
     "execution_count": 76,
     "metadata": {},
     "output_type": "execute_result"
    }
   ],
   "source": [
    "# 환율 USD/KRW\n",
    "exchange_rate = fdr.DataReader('USD/KRW', start = start_date, end = end_date)\n",
    "exchange_rate = exchange_rate['Close']\n",
    "exchange_rate.name= 'exchange_rate'\n",
    "exchange_rate"
   ]
  },
  {
   "cell_type": "code",
   "execution_count": 77,
   "id": "6eba7430",
   "metadata": {
    "scrolled": false
   },
   "outputs": [
    {
     "data": {
      "text/plain": [
       "Date\n",
       "2021-01-04    2944.45\n",
       "2021-01-05    2990.57\n",
       "2021-01-06    2968.21\n",
       "2021-01-07    3031.68\n",
       "2021-01-08    3152.18\n",
       "               ...   \n",
       "2021-11-15    2999.52\n",
       "2021-11-16    2997.21\n",
       "2021-11-17    2962.42\n",
       "2021-11-18    2947.38\n",
       "2021-11-19    2971.02\n",
       "Name: kospi, Length: 219, dtype: float64"
      ]
     },
     "execution_count": 77,
     "metadata": {},
     "output_type": "execute_result"
    }
   ],
   "source": [
    "# KOSPI\n",
    "kospi = fdr.DataReader('KS11', start = start_date, end = end_date)\n",
    "kospi = kospi['Close']\n",
    "kospi.name= 'kospi'\n",
    "kospi"
   ]
  },
  {
   "cell_type": "code",
   "execution_count": 78,
   "id": "c257400e",
   "metadata": {},
   "outputs": [
    {
     "data": {
      "text/plain": [
       "Date\n",
       "2021-01-04     977.62\n",
       "2021-01-05     985.76\n",
       "2021-01-06     981.39\n",
       "2021-01-07     988.86\n",
       "2021-01-08     987.79\n",
       "               ...   \n",
       "2021-11-15    1029.03\n",
       "2021-11-16    1035.46\n",
       "2021-11-17    1031.26\n",
       "2021-11-18    1032.77\n",
       "2021-11-19    1041.92\n",
       "Name: kosdaq, Length: 219, dtype: float64"
      ]
     },
     "execution_count": 78,
     "metadata": {},
     "output_type": "execute_result"
    }
   ],
   "source": [
    "# KOSDAQ\n",
    "kosdaq = fdr.DataReader('KQ11', start = start_date, end = end_date)\n",
    "kosdaq = kosdaq['Close']\n",
    "kosdaq.name= 'kosdaq'\n",
    "kosdaq"
   ]
  },
  {
   "cell_type": "code",
   "execution_count": 79,
   "id": "7576b8ca",
   "metadata": {
    "scrolled": false
   },
   "outputs": [
    {
     "data": {
      "text/plain": [
       "Date\n",
       "2021-01-04    3052.74\n",
       "2021-01-05    3099.42\n",
       "2021-01-06    3070.05\n",
       "2021-01-07    3139.48\n",
       "2021-01-08    3293.96\n",
       "               ...   \n",
       "2021-11-15    2976.59\n",
       "2021-11-16    2974.63\n",
       "2021-11-17    2940.09\n",
       "2021-11-18    2923.44\n",
       "2021-11-19    2947.62\n",
       "Name: kospi100, Length: 219, dtype: float64"
      ]
     },
     "execution_count": 79,
     "metadata": {},
     "output_type": "execute_result"
    }
   ],
   "source": [
    "# KOSPI100\n",
    "kospi100 = fdr.DataReader('KS100', start = start_date, end = end_date)\n",
    "kospi100 = kospi100['Close']\n",
    "kospi100.name= 'kospi100'\n",
    "kospi100"
   ]
  },
  {
   "cell_type": "code",
   "execution_count": 80,
   "id": "fb5105ae",
   "metadata": {
    "scrolled": false
   },
   "outputs": [
    {
     "data": {
      "text/plain": [
       "Date\n",
       "2021-01-04    30223.89\n",
       "2021-01-05    30391.60\n",
       "2021-01-06    30829.40\n",
       "2021-01-07    31041.13\n",
       "2021-01-08    31097.97\n",
       "                ...   \n",
       "2021-11-15    36087.98\n",
       "2021-11-16    36144.13\n",
       "2021-11-17    35931.52\n",
       "2021-11-18    35871.34\n",
       "2021-11-19    35602.18\n",
       "Name: dow, Length: 224, dtype: float64"
      ]
     },
     "execution_count": 80,
     "metadata": {},
     "output_type": "execute_result"
    }
   ],
   "source": [
    "# 다우존스\n",
    "dow = fdr.DataReader('DJI', start = start_date, end = end_date)\n",
    "dow = dow['Close']\n",
    "dow.name= 'dow'\n",
    "dow"
   ]
  },
  {
   "cell_type": "code",
   "execution_count": 81,
   "id": "9d2b6218",
   "metadata": {
    "scrolled": false
   },
   "outputs": [
    {
     "data": {
      "text/plain": [
       "Date\n",
       "2021-01-04    12698.4\n",
       "2021-01-05    12819.0\n",
       "2021-01-06    12740.8\n",
       "2021-01-07    13067.5\n",
       "2021-01-08    13202.0\n",
       "               ...   \n",
       "2021-11-15    15853.8\n",
       "2021-11-16    15973.9\n",
       "2021-11-17    15921.6\n",
       "2021-11-18    15993.7\n",
       "2021-11-19    16057.4\n",
       "Name: nasdaq, Length: 224, dtype: float64"
      ]
     },
     "execution_count": 81,
     "metadata": {},
     "output_type": "execute_result"
    }
   ],
   "source": [
    "# 나스닥\n",
    "nasdaq = fdr.DataReader('IXIC', start = start_date, end = end_date)\n",
    "nasdaq = nasdaq['Close']\n",
    "nasdaq.name= 'nasdaq'\n",
    "nasdaq"
   ]
  },
  {
   "cell_type": "code",
   "execution_count": 82,
   "id": "4414c554",
   "metadata": {
    "scrolled": false
   },
   "outputs": [
    {
     "data": {
      "text/plain": [
       "Date\n",
       "2021-01-04    3700.65\n",
       "2021-01-05    3726.86\n",
       "2021-01-06    3748.14\n",
       "2021-01-07    3803.79\n",
       "2021-01-08    3824.68\n",
       "               ...   \n",
       "2021-11-15    4682.81\n",
       "2021-11-16    4700.90\n",
       "2021-11-17    4688.67\n",
       "2021-11-18    4706.64\n",
       "2021-11-19    4697.96\n",
       "Name: sp500, Length: 224, dtype: float64"
      ]
     },
     "execution_count": 82,
     "metadata": {},
     "output_type": "execute_result"
    }
   ],
   "source": [
    "# S&P 500 지수\n",
    "sp500 = fdr.DataReader('US500', start = start_date, end = end_date)\n",
    "sp500 = sp500['Close']\n",
    "sp500.name= 'sp500'\n",
    "sp500"
   ]
  },
  {
   "cell_type": "code",
   "execution_count": 83,
   "id": "55023002",
   "metadata": {
    "scrolled": false
   },
   "outputs": [
    {
     "data": {
      "text/plain": [
       "Date\n",
       "2021-01-04    0.918\n",
       "2021-01-05    0.955\n",
       "2021-01-06    1.039\n",
       "2021-01-07    1.081\n",
       "2021-01-08    1.119\n",
       "              ...  \n",
       "2021-11-15    1.618\n",
       "2021-11-16    1.640\n",
       "2021-11-17    1.585\n",
       "2021-11-18    1.587\n",
       "2021-11-19    1.548\n",
       "Name: Close, Length: 267, dtype: float64"
      ]
     },
     "execution_count": 83,
     "metadata": {},
     "output_type": "execute_result"
    }
   ],
   "source": [
    "# 미국 국채 10년 물\n",
    "us10yt = fdr.DataReader('US10YT=X', start = start_date, end = end_date)\n",
    "us10yt = us10yt['Close']\n",
    "us10yt"
   ]
  },
  {
   "cell_type": "code",
   "execution_count": 84,
   "id": "6c78323e",
   "metadata": {
    "scrolled": false
   },
   "outputs": [
    {
     "data": {
      "text/plain": [
       "Date\n",
       "2021-01-04    0.1171\n",
       "2021-01-05    0.1230\n",
       "2021-01-06    0.1388\n",
       "2021-01-07    0.1408\n",
       "2021-01-08    0.1369\n",
       "               ...  \n",
       "2021-11-15    0.5197\n",
       "2021-11-16    0.5220\n",
       "2021-11-17    0.4979\n",
       "2021-11-18    0.5021\n",
       "2021-11-19    0.5128\n",
       "Name: Close, Length: 267, dtype: float64"
      ]
     },
     "execution_count": 84,
     "metadata": {},
     "output_type": "execute_result"
    }
   ],
   "source": [
    "# 미국 국채 2년물 US2YT=X\n",
    "us2yt = fdr.DataReader('US2YT=X', start = start_date, end = end_date)\n",
    "us2yt = us2yt['Close']\n",
    "us2yt"
   ]
  },
  {
   "cell_type": "code",
   "execution_count": 85,
   "id": "8a635df4",
   "metadata": {},
   "outputs": [
    {
     "data": {
      "text/plain": [
       "Date\n",
       "2021-01-04    0.8009\n",
       "2021-01-05    0.8320\n",
       "2021-01-06    0.9002\n",
       "2021-01-07    0.9402\n",
       "2021-01-08    0.9821\n",
       "               ...  \n",
       "2021-11-15    1.0983\n",
       "2021-11-16    1.1180\n",
       "2021-11-17    1.0871\n",
       "2021-11-18    1.0849\n",
       "2021-11-19    1.0352\n",
       "Name: 미국채10년-2년, Length: 267, dtype: float64"
      ]
     },
     "execution_count": 85,
     "metadata": {},
     "output_type": "execute_result"
    }
   ],
   "source": [
    "# 미국 국채 10년물 - 2년물\n",
    "us10_2 = us10yt - us2yt\n",
    "us10_2.name = '미국채10년-2년'\n",
    "us10_2"
   ]
  },
  {
   "cell_type": "markdown",
   "id": "b8c981c8",
   "metadata": {},
   "source": [
    "### 종목 데이터 불러오기"
   ]
  },
  {
   "cell_type": "code",
   "execution_count": 86,
   "id": "29692b7b",
   "metadata": {},
   "outputs": [
    {
     "data": {
      "text/html": [
       "<div>\n",
       "<style scoped>\n",
       "    .dataframe tbody tr th:only-of-type {\n",
       "        vertical-align: middle;\n",
       "    }\n",
       "\n",
       "    .dataframe tbody tr th {\n",
       "        vertical-align: top;\n",
       "    }\n",
       "\n",
       "    .dataframe thead th {\n",
       "        text-align: right;\n",
       "    }\n",
       "</style>\n",
       "<table border=\"1\" class=\"dataframe\">\n",
       "  <thead>\n",
       "    <tr style=\"text-align: right;\">\n",
       "      <th></th>\n",
       "      <th>종목명</th>\n",
       "      <th>종목코드</th>\n",
       "      <th>상장시장</th>\n",
       "    </tr>\n",
       "  </thead>\n",
       "  <tbody>\n",
       "    <tr>\n",
       "      <th>0</th>\n",
       "      <td>삼성전자</td>\n",
       "      <td>5930</td>\n",
       "      <td>KOSPI</td>\n",
       "    </tr>\n",
       "    <tr>\n",
       "      <th>1</th>\n",
       "      <td>SK하이닉스</td>\n",
       "      <td>660</td>\n",
       "      <td>KOSPI</td>\n",
       "    </tr>\n",
       "    <tr>\n",
       "      <th>2</th>\n",
       "      <td>NAVER</td>\n",
       "      <td>35420</td>\n",
       "      <td>KOSPI</td>\n",
       "    </tr>\n",
       "    <tr>\n",
       "      <th>3</th>\n",
       "      <td>카카오</td>\n",
       "      <td>35720</td>\n",
       "      <td>KOSPI</td>\n",
       "    </tr>\n",
       "    <tr>\n",
       "      <th>4</th>\n",
       "      <td>삼성바이오로직스</td>\n",
       "      <td>207940</td>\n",
       "      <td>KOSPI</td>\n",
       "    </tr>\n",
       "  </tbody>\n",
       "</table>\n",
       "</div>"
      ],
      "text/plain": [
       "        종목명    종목코드   상장시장\n",
       "0      삼성전자    5930  KOSPI\n",
       "1    SK하이닉스     660  KOSPI\n",
       "2     NAVER   35420  KOSPI\n",
       "3       카카오   35720  KOSPI\n",
       "4  삼성바이오로직스  207940  KOSPI"
      ]
     },
     "execution_count": 86,
     "metadata": {},
     "output_type": "execute_result"
    }
   ],
   "source": [
    "path = './data'\n",
    "list_name = 'Stock_List.csv'\n",
    "stock_list = pd.read_csv(os.path.join(path,list_name))\n",
    "stock_list.head()"
   ]
  },
  {
   "cell_type": "code",
   "execution_count": 87,
   "id": "4b811aca",
   "metadata": {
    "scrolled": false
   },
   "outputs": [
    {
     "data": {
      "text/html": [
       "<div>\n",
       "<style scoped>\n",
       "    .dataframe tbody tr th:only-of-type {\n",
       "        vertical-align: middle;\n",
       "    }\n",
       "\n",
       "    .dataframe tbody tr th {\n",
       "        vertical-align: top;\n",
       "    }\n",
       "\n",
       "    .dataframe thead th {\n",
       "        text-align: right;\n",
       "    }\n",
       "</style>\n",
       "<table border=\"1\" class=\"dataframe\">\n",
       "  <thead>\n",
       "    <tr style=\"text-align: right;\">\n",
       "      <th></th>\n",
       "      <th>종목명</th>\n",
       "      <th>종목코드</th>\n",
       "      <th>상장시장</th>\n",
       "    </tr>\n",
       "  </thead>\n",
       "  <tbody>\n",
       "    <tr>\n",
       "      <th>0</th>\n",
       "      <td>삼성전자</td>\n",
       "      <td>005930</td>\n",
       "      <td>KOSPI</td>\n",
       "    </tr>\n",
       "    <tr>\n",
       "      <th>1</th>\n",
       "      <td>SK하이닉스</td>\n",
       "      <td>000660</td>\n",
       "      <td>KOSPI</td>\n",
       "    </tr>\n",
       "    <tr>\n",
       "      <th>2</th>\n",
       "      <td>NAVER</td>\n",
       "      <td>035420</td>\n",
       "      <td>KOSPI</td>\n",
       "    </tr>\n",
       "    <tr>\n",
       "      <th>3</th>\n",
       "      <td>카카오</td>\n",
       "      <td>035720</td>\n",
       "      <td>KOSPI</td>\n",
       "    </tr>\n",
       "    <tr>\n",
       "      <th>4</th>\n",
       "      <td>삼성바이오로직스</td>\n",
       "      <td>207940</td>\n",
       "      <td>KOSPI</td>\n",
       "    </tr>\n",
       "    <tr>\n",
       "      <th>...</th>\n",
       "      <td>...</td>\n",
       "      <td>...</td>\n",
       "      <td>...</td>\n",
       "    </tr>\n",
       "    <tr>\n",
       "      <th>365</th>\n",
       "      <td>맘스터치</td>\n",
       "      <td>220630</td>\n",
       "      <td>KOSDAQ</td>\n",
       "    </tr>\n",
       "    <tr>\n",
       "      <th>366</th>\n",
       "      <td>다날</td>\n",
       "      <td>064260</td>\n",
       "      <td>KOSDAQ</td>\n",
       "    </tr>\n",
       "    <tr>\n",
       "      <th>367</th>\n",
       "      <td>제이시스메디칼</td>\n",
       "      <td>287410</td>\n",
       "      <td>KOSDAQ</td>\n",
       "    </tr>\n",
       "    <tr>\n",
       "      <th>368</th>\n",
       "      <td>크리스에프앤씨</td>\n",
       "      <td>110790</td>\n",
       "      <td>KOSDAQ</td>\n",
       "    </tr>\n",
       "    <tr>\n",
       "      <th>369</th>\n",
       "      <td>쎄트렉아이</td>\n",
       "      <td>099320</td>\n",
       "      <td>KOSDAQ</td>\n",
       "    </tr>\n",
       "  </tbody>\n",
       "</table>\n",
       "<p>370 rows × 3 columns</p>\n",
       "</div>"
      ],
      "text/plain": [
       "          종목명    종목코드    상장시장\n",
       "0        삼성전자  005930   KOSPI\n",
       "1      SK하이닉스  000660   KOSPI\n",
       "2       NAVER  035420   KOSPI\n",
       "3         카카오  035720   KOSPI\n",
       "4    삼성바이오로직스  207940   KOSPI\n",
       "..        ...     ...     ...\n",
       "365      맘스터치  220630  KOSDAQ\n",
       "366        다날  064260  KOSDAQ\n",
       "367   제이시스메디칼  287410  KOSDAQ\n",
       "368   크리스에프앤씨  110790  KOSDAQ\n",
       "369     쎄트렉아이  099320  KOSDAQ\n",
       "\n",
       "[370 rows x 3 columns]"
      ]
     },
     "execution_count": 87,
     "metadata": {},
     "output_type": "execute_result"
    }
   ],
   "source": [
    "# 종목 코드 6자리로 맞추기\n",
    "stock_list['종목코드'] = stock_list[\"종목코드\"].astype(str).str.zfill(6)\n",
    "stock_list"
   ]
  },
  {
   "cell_type": "code",
   "execution_count": 88,
   "id": "7d0cc8b3",
   "metadata": {},
   "outputs": [],
   "source": [
    "Business_days = pd.DataFrame(pd.date_range(start_date,end_date,freq='B'), columns = ['Date'])"
   ]
  },
  {
   "cell_type": "code",
   "execution_count": 89,
   "id": "8881cfeb",
   "metadata": {},
   "outputs": [
    {
     "name": "stdout",
     "output_type": "stream",
     "text": [
      "<class 'pandas.core.frame.DataFrame'>\n",
      "RangeIndex: 230 entries, 0 to 229\n",
      "Data columns (total 1 columns):\n",
      " #   Column  Non-Null Count  Dtype         \n",
      "---  ------  --------------  -----         \n",
      " 0   Date    230 non-null    datetime64[ns]\n",
      "dtypes: datetime64[ns](1)\n",
      "memory usage: 1.9 KB\n"
     ]
    }
   ],
   "source": [
    "Business_days.info()"
   ]
  },
  {
   "cell_type": "code",
   "execution_count": 90,
   "id": "0d99236c",
   "metadata": {},
   "outputs": [],
   "source": [
    "code='005930'\n",
    "data = fdr.DataReader(code, start = start_date, end = end_date)[['Close']].reset_index()\n",
    "data = pd.merge(Business_days, data, how = 'outer')\n",
    "data.Close = data.Close.ffill()"
   ]
  },
  {
   "cell_type": "code",
   "execution_count": 91,
   "id": "bc5b666f",
   "metadata": {},
   "outputs": [
    {
     "name": "stdout",
     "output_type": "stream",
     "text": [
      "<class 'pandas.core.frame.DataFrame'>\n",
      "Int64Index: 230 entries, 0 to 229\n",
      "Data columns (total 2 columns):\n",
      " #   Column  Non-Null Count  Dtype         \n",
      "---  ------  --------------  -----         \n",
      " 0   Date    230 non-null    datetime64[ns]\n",
      " 1   Close   230 non-null    float64       \n",
      "dtypes: datetime64[ns](1), float64(1)\n",
      "memory usage: 5.4 KB\n"
     ]
    }
   ],
   "source": [
    "data.info()"
   ]
  },
  {
   "cell_type": "code",
   "execution_count": 92,
   "id": "0c05f046",
   "metadata": {},
   "outputs": [
    {
     "data": {
      "text/plain": [
       "(230, 2)"
      ]
     },
     "execution_count": 92,
     "metadata": {},
     "output_type": "execute_result"
    }
   ],
   "source": [
    "data.shape"
   ]
  },
  {
   "cell_type": "code",
   "execution_count": 93,
   "id": "abd66b22",
   "metadata": {},
   "outputs": [
    {
     "data": {
      "text/html": [
       "<div>\n",
       "<style scoped>\n",
       "    .dataframe tbody tr th:only-of-type {\n",
       "        vertical-align: middle;\n",
       "    }\n",
       "\n",
       "    .dataframe tbody tr th {\n",
       "        vertical-align: top;\n",
       "    }\n",
       "\n",
       "    .dataframe thead th {\n",
       "        text-align: right;\n",
       "    }\n",
       "</style>\n",
       "<table border=\"1\" class=\"dataframe\">\n",
       "  <thead>\n",
       "    <tr style=\"text-align: right;\">\n",
       "      <th></th>\n",
       "      <th>Date</th>\n",
       "      <th>Close</th>\n",
       "      <th>exchange_rate</th>\n",
       "      <th>kospi</th>\n",
       "      <th>kosdaq</th>\n",
       "      <th>kospi100</th>\n",
       "      <th>dow</th>\n",
       "      <th>nasdaq</th>\n",
       "      <th>sp500</th>\n",
       "      <th>미국채10년-2년</th>\n",
       "    </tr>\n",
       "  </thead>\n",
       "  <tbody>\n",
       "    <tr>\n",
       "      <th>0</th>\n",
       "      <td>2021-01-04</td>\n",
       "      <td>83000.0</td>\n",
       "      <td>1086.48</td>\n",
       "      <td>2944.45</td>\n",
       "      <td>977.62</td>\n",
       "      <td>3052.74</td>\n",
       "      <td>30223.89</td>\n",
       "      <td>12698.4</td>\n",
       "      <td>3700.65</td>\n",
       "      <td>0.8009</td>\n",
       "    </tr>\n",
       "    <tr>\n",
       "      <th>1</th>\n",
       "      <td>2021-01-05</td>\n",
       "      <td>83900.0</td>\n",
       "      <td>1086.42</td>\n",
       "      <td>2990.57</td>\n",
       "      <td>985.76</td>\n",
       "      <td>3099.42</td>\n",
       "      <td>30391.60</td>\n",
       "      <td>12819.0</td>\n",
       "      <td>3726.86</td>\n",
       "      <td>0.8320</td>\n",
       "    </tr>\n",
       "    <tr>\n",
       "      <th>2</th>\n",
       "      <td>2021-01-06</td>\n",
       "      <td>82200.0</td>\n",
       "      <td>1087.93</td>\n",
       "      <td>2968.21</td>\n",
       "      <td>981.39</td>\n",
       "      <td>3070.05</td>\n",
       "      <td>30829.40</td>\n",
       "      <td>12740.8</td>\n",
       "      <td>3748.14</td>\n",
       "      <td>0.9002</td>\n",
       "    </tr>\n",
       "    <tr>\n",
       "      <th>3</th>\n",
       "      <td>2021-01-07</td>\n",
       "      <td>82900.0</td>\n",
       "      <td>1094.28</td>\n",
       "      <td>3031.68</td>\n",
       "      <td>988.86</td>\n",
       "      <td>3139.48</td>\n",
       "      <td>31041.13</td>\n",
       "      <td>13067.5</td>\n",
       "      <td>3803.79</td>\n",
       "      <td>0.9402</td>\n",
       "    </tr>\n",
       "    <tr>\n",
       "      <th>4</th>\n",
       "      <td>2021-01-08</td>\n",
       "      <td>88800.0</td>\n",
       "      <td>1092.93</td>\n",
       "      <td>3152.18</td>\n",
       "      <td>987.79</td>\n",
       "      <td>3293.96</td>\n",
       "      <td>31097.97</td>\n",
       "      <td>13202.0</td>\n",
       "      <td>3824.68</td>\n",
       "      <td>0.9821</td>\n",
       "    </tr>\n",
       "  </tbody>\n",
       "</table>\n",
       "</div>"
      ],
      "text/plain": [
       "        Date    Close  exchange_rate    kospi  kosdaq  kospi100       dow  \\\n",
       "0 2021-01-04  83000.0        1086.48  2944.45  977.62   3052.74  30223.89   \n",
       "1 2021-01-05  83900.0        1086.42  2990.57  985.76   3099.42  30391.60   \n",
       "2 2021-01-06  82200.0        1087.93  2968.21  981.39   3070.05  30829.40   \n",
       "3 2021-01-07  82900.0        1094.28  3031.68  988.86   3139.48  31041.13   \n",
       "4 2021-01-08  88800.0        1092.93  3152.18  987.79   3293.96  31097.97   \n",
       "\n",
       "    nasdaq    sp500  미국채10년-2년  \n",
       "0  12698.4  3700.65     0.8009  \n",
       "1  12819.0  3726.86     0.8320  \n",
       "2  12740.8  3748.14     0.9002  \n",
       "3  13067.5  3803.79     0.9402  \n",
       "4  13202.0  3824.68     0.9821  "
      ]
     },
     "execution_count": 93,
     "metadata": {},
     "output_type": "execute_result"
    }
   ],
   "source": [
    "data = pd.merge(data, exchange_rate, on='Date', how='left')\n",
    "data = pd.merge(data, kospi, on='Date', how='left')\n",
    "data = pd.merge(data, kosdaq, on='Date', how='left')\n",
    "data = pd.merge(data, kospi100, on='Date', how='left')\n",
    "data = pd.merge(data, dow, on='Date', how='left')\n",
    "data = pd.merge(data, nasdaq, on='Date', how='left')\n",
    "data = pd.merge(data, sp500, on='Date', how='left')\n",
    "data = pd.merge(data, us10_2, on='Date', how='left')\n",
    "data.head()"
   ]
  },
  {
   "cell_type": "code",
   "execution_count": 94,
   "id": "cf8b053d",
   "metadata": {},
   "outputs": [
    {
     "name": "stdout",
     "output_type": "stream",
     "text": [
      "<class 'pandas.core.frame.DataFrame'>\n",
      "Int64Index: 230 entries, 0 to 229\n",
      "Data columns (total 10 columns):\n",
      " #   Column         Non-Null Count  Dtype         \n",
      "---  ------         --------------  -----         \n",
      " 0   Date           230 non-null    datetime64[ns]\n",
      " 1   Close          230 non-null    float64       \n",
      " 2   exchange_rate  230 non-null    float64       \n",
      " 3   kospi          219 non-null    float64       \n",
      " 4   kosdaq         219 non-null    float64       \n",
      " 5   kospi100       219 non-null    float64       \n",
      " 6   dow            224 non-null    float64       \n",
      " 7   nasdaq         224 non-null    float64       \n",
      " 8   sp500          224 non-null    float64       \n",
      " 9   미국채10년-2년      230 non-null    float64       \n",
      "dtypes: datetime64[ns](1), float64(9)\n",
      "memory usage: 19.8 KB\n"
     ]
    }
   ],
   "source": [
    "data.info()"
   ]
  },
  {
   "cell_type": "code",
   "execution_count": 95,
   "id": "901422b0",
   "metadata": {},
   "outputs": [
    {
     "data": {
      "text/plain": [
       "<AxesSubplot:>"
      ]
     },
     "execution_count": 95,
     "metadata": {},
     "output_type": "execute_result"
    },
    {
     "data": {
      "image/png": "[encoded data removed]",
      "text/plain": [
       "<Figure size 864x720 with 1 Axes>"
      ]
     },
     "metadata": {
      "needs_background": "light"
     },
     "output_type": "display_data"
    }
   ],
   "source": [
    "plt.figure(figsize=(12,10))\n",
    "plt.xticks(fontsize=15)\n",
    "plt.yticks(fontsize=15)\n",
    "sns.heatmap(data.corr(), cmap='Blues', annot=True, fmt='.2f', cbar=False, annot_kws={\"size\": 20})"
   ]
  },
  {
   "cell_type": "code",
   "execution_count": 96,
   "id": "51c3eed2",
   "metadata": {
    "scrolled": false
   },
   "outputs": [
    {
     "data": {
      "text/html": [
       "<div>\n",
       "<style scoped>\n",
       "    .dataframe tbody tr th:only-of-type {\n",
       "        vertical-align: middle;\n",
       "    }\n",
       "\n",
       "    .dataframe tbody tr th {\n",
       "        vertical-align: top;\n",
       "    }\n",
       "\n",
       "    .dataframe thead th {\n",
       "        text-align: right;\n",
       "    }\n",
       "</style>\n",
       "<table border=\"1\" class=\"dataframe\">\n",
       "  <thead>\n",
       "    <tr style=\"text-align: right;\">\n",
       "      <th></th>\n",
       "      <th>Date</th>\n",
       "      <th>exchange_rate</th>\n",
       "      <th>kospi</th>\n",
       "      <th>kosdaq</th>\n",
       "      <th>kospi100</th>\n",
       "      <th>dow</th>\n",
       "      <th>nasdaq</th>\n",
       "      <th>sp500</th>\n",
       "      <th>미국채10년-2년</th>\n",
       "    </tr>\n",
       "  </thead>\n",
       "  <tbody>\n",
       "    <tr>\n",
       "      <th>0</th>\n",
       "      <td>2021-01-04</td>\n",
       "      <td>1086.48</td>\n",
       "      <td>2944.45</td>\n",
       "      <td>977.62</td>\n",
       "      <td>3052.74</td>\n",
       "      <td>30223.89</td>\n",
       "      <td>12698.4</td>\n",
       "      <td>3700.65</td>\n",
       "      <td>0.8009</td>\n",
       "    </tr>\n",
       "    <tr>\n",
       "      <th>1</th>\n",
       "      <td>2021-01-05</td>\n",
       "      <td>1086.42</td>\n",
       "      <td>2990.57</td>\n",
       "      <td>985.76</td>\n",
       "      <td>3099.42</td>\n",
       "      <td>30391.60</td>\n",
       "      <td>12819.0</td>\n",
       "      <td>3726.86</td>\n",
       "      <td>0.8320</td>\n",
       "    </tr>\n",
       "    <tr>\n",
       "      <th>2</th>\n",
       "      <td>2021-01-06</td>\n",
       "      <td>1087.93</td>\n",
       "      <td>2968.21</td>\n",
       "      <td>981.39</td>\n",
       "      <td>3070.05</td>\n",
       "      <td>30829.40</td>\n",
       "      <td>12740.8</td>\n",
       "      <td>3748.14</td>\n",
       "      <td>0.9002</td>\n",
       "    </tr>\n",
       "    <tr>\n",
       "      <th>3</th>\n",
       "      <td>2021-01-07</td>\n",
       "      <td>1094.28</td>\n",
       "      <td>3031.68</td>\n",
       "      <td>988.86</td>\n",
       "      <td>3139.48</td>\n",
       "      <td>31041.13</td>\n",
       "      <td>13067.5</td>\n",
       "      <td>3803.79</td>\n",
       "      <td>0.9402</td>\n",
       "    </tr>\n",
       "    <tr>\n",
       "      <th>4</th>\n",
       "      <td>2021-01-08</td>\n",
       "      <td>1092.93</td>\n",
       "      <td>3152.18</td>\n",
       "      <td>987.79</td>\n",
       "      <td>3293.96</td>\n",
       "      <td>31097.97</td>\n",
       "      <td>13202.0</td>\n",
       "      <td>3824.68</td>\n",
       "      <td>0.9821</td>\n",
       "    </tr>\n",
       "    <tr>\n",
       "      <th>...</th>\n",
       "      <td>...</td>\n",
       "      <td>...</td>\n",
       "      <td>...</td>\n",
       "      <td>...</td>\n",
       "      <td>...</td>\n",
       "      <td>...</td>\n",
       "      <td>...</td>\n",
       "      <td>...</td>\n",
       "      <td>...</td>\n",
       "    </tr>\n",
       "    <tr>\n",
       "      <th>225</th>\n",
       "      <td>2021-11-15</td>\n",
       "      <td>1183.42</td>\n",
       "      <td>2999.52</td>\n",
       "      <td>1029.03</td>\n",
       "      <td>2976.59</td>\n",
       "      <td>36087.98</td>\n",
       "      <td>15853.8</td>\n",
       "      <td>4682.81</td>\n",
       "      <td>1.0983</td>\n",
       "    </tr>\n",
       "    <tr>\n",
       "      <th>226</th>\n",
       "      <td>2021-11-16</td>\n",
       "      <td>1183.85</td>\n",
       "      <td>2997.21</td>\n",
       "      <td>1035.46</td>\n",
       "      <td>2974.63</td>\n",
       "      <td>36144.13</td>\n",
       "      <td>15973.9</td>\n",
       "      <td>4700.90</td>\n",
       "      <td>1.1180</td>\n",
       "    </tr>\n",
       "    <tr>\n",
       "      <th>227</th>\n",
       "      <td>2021-11-17</td>\n",
       "      <td>1180.46</td>\n",
       "      <td>2962.42</td>\n",
       "      <td>1031.26</td>\n",
       "      <td>2940.09</td>\n",
       "      <td>35931.52</td>\n",
       "      <td>15921.6</td>\n",
       "      <td>4688.67</td>\n",
       "      <td>1.0871</td>\n",
       "    </tr>\n",
       "    <tr>\n",
       "      <th>228</th>\n",
       "      <td>2021-11-18</td>\n",
       "      <td>1182.37</td>\n",
       "      <td>2947.38</td>\n",
       "      <td>1032.77</td>\n",
       "      <td>2923.44</td>\n",
       "      <td>35871.34</td>\n",
       "      <td>15993.7</td>\n",
       "      <td>4706.64</td>\n",
       "      <td>1.0849</td>\n",
       "    </tr>\n",
       "    <tr>\n",
       "      <th>229</th>\n",
       "      <td>2021-11-19</td>\n",
       "      <td>1187.10</td>\n",
       "      <td>2971.02</td>\n",
       "      <td>1041.92</td>\n",
       "      <td>2947.62</td>\n",
       "      <td>35602.18</td>\n",
       "      <td>16057.4</td>\n",
       "      <td>4697.96</td>\n",
       "      <td>1.0352</td>\n",
       "    </tr>\n",
       "  </tbody>\n",
       "</table>\n",
       "<p>230 rows × 9 columns</p>\n",
       "</div>"
      ],
      "text/plain": [
       "          Date  exchange_rate    kospi   kosdaq  kospi100       dow   nasdaq  \\\n",
       "0   2021-01-04        1086.48  2944.45   977.62   3052.74  30223.89  12698.4   \n",
       "1   2021-01-05        1086.42  2990.57   985.76   3099.42  30391.60  12819.0   \n",
       "2   2021-01-06        1087.93  2968.21   981.39   3070.05  30829.40  12740.8   \n",
       "3   2021-01-07        1094.28  3031.68   988.86   3139.48  31041.13  13067.5   \n",
       "4   2021-01-08        1092.93  3152.18   987.79   3293.96  31097.97  13202.0   \n",
       "..         ...            ...      ...      ...       ...       ...      ...   \n",
       "225 2021-11-15        1183.42  2999.52  1029.03   2976.59  36087.98  15853.8   \n",
       "226 2021-11-16        1183.85  2997.21  1035.46   2974.63  36144.13  15973.9   \n",
       "227 2021-11-17        1180.46  2962.42  1031.26   2940.09  35931.52  15921.6   \n",
       "228 2021-11-18        1182.37  2947.38  1032.77   2923.44  35871.34  15993.7   \n",
       "229 2021-11-19        1187.10  2971.02  1041.92   2947.62  35602.18  16057.4   \n",
       "\n",
       "       sp500  미국채10년-2년  \n",
       "0    3700.65     0.8009  \n",
       "1    3726.86     0.8320  \n",
       "2    3748.14     0.9002  \n",
       "3    3803.79     0.9402  \n",
       "4    3824.68     0.9821  \n",
       "..       ...        ...  \n",
       "225  4682.81     1.0983  \n",
       "226  4700.90     1.1180  \n",
       "227  4688.67     1.0871  \n",
       "228  4706.64     1.0849  \n",
       "229  4697.96     1.0352  \n",
       "\n",
       "[230 rows x 9 columns]"
      ]
     },
     "execution_count": 96,
     "metadata": {},
     "output_type": "execute_result"
    }
   ],
   "source": [
    "data = data.drop('Close', axis=1)\n",
    "data"
   ]
  },
  {
   "cell_type": "code",
   "execution_count": 97,
   "id": "c362c26a",
   "metadata": {},
   "outputs": [
    {
     "name": "stdout",
     "output_type": "stream",
     "text": [
      "<class 'pandas.core.frame.DataFrame'>\n",
      "Int64Index: 230 entries, 0 to 229\n",
      "Data columns (total 9 columns):\n",
      " #   Column         Non-Null Count  Dtype         \n",
      "---  ------         --------------  -----         \n",
      " 0   Date           230 non-null    datetime64[ns]\n",
      " 1   exchange_rate  230 non-null    float64       \n",
      " 2   kospi          219 non-null    float64       \n",
      " 3   kosdaq         219 non-null    float64       \n",
      " 4   kospi100       219 non-null    float64       \n",
      " 5   dow            224 non-null    float64       \n",
      " 6   nasdaq         224 non-null    float64       \n",
      " 7   sp500          224 non-null    float64       \n",
      " 8   미국채10년-2년      230 non-null    float64       \n",
      "dtypes: datetime64[ns](1), float64(8)\n",
      "memory usage: 18.0 KB\n"
     ]
    }
   ],
   "source": [
    "data.info()"
   ]
  },
  {
   "cell_type": "code",
   "execution_count": 98,
   "id": "179856eb",
   "metadata": {},
   "outputs": [],
   "source": [
    "data.to_csv('20210104-20211119_stock.csv', index=False)"
   ]
  },
  {
   "cell_type": "code",
   "execution_count": null,
   "id": "2365cc16",
   "metadata": {},
   "outputs": [],
   "source": []
  }
 ],
 "metadata": {
  "kernelspec": {
   "display_name": "Python 3",
   "language": "python",
   "name": "python3"
  },
  "language_info": {
   "codemirror_mode": {
    "name": "ipython",
    "version": 3
   },
   "file_extension": ".py",
   "mimetype": "text/x-python",
   "name": "python",
   "nbconvert_exporter": "python",
   "pygments_lexer": "ipython3",
   "version": "3.8.8"
  }
 },
 "nbformat": 4,
 "nbformat_minor": 5
}
