{
 "cells": [
  {
   "cell_type": "markdown",
   "id": "f172f612",
   "metadata": {},
   "source": [
    "# 2021.01.04 ~ 2021.11.26 주가 지수 데이터 수집"
   ]
  },
  {
   "cell_type": "code",
   "execution_count": 1,
   "id": "d40a486a",
   "metadata": {},
   "outputs": [],
   "source": [
    "import pandas as pd\n",
    "import os\n",
    "import FinanceDataReader as fdr"
   ]
  },
  {
   "cell_type": "code",
   "execution_count": 2,
   "id": "2694d0db",
   "metadata": {},
   "outputs": [],
   "source": [
    "start_date = '2021-01-04'\n",
    "end_date = '2021-11-26'"
   ]
  },
  {
   "cell_type": "code",
   "execution_count": 3,
   "id": "f3f7538a",
   "metadata": {
    "scrolled": true
   },
   "outputs": [
    {
     "data": {
      "text/plain": [
       "Date\n",
       "2021-01-04     977.62\n",
       "2021-01-05     985.76\n",
       "2021-01-06     981.39\n",
       "2021-01-07     988.86\n",
       "2021-01-08     987.79\n",
       "               ...   \n",
       "2021-11-22    1032.31\n",
       "2021-11-23    1013.72\n",
       "2021-11-24    1020.13\n",
       "2021-11-25    1015.66\n",
       "2021-11-26    1005.89\n",
       "Name: kosdaq, Length: 224, dtype: float64"
      ]
     },
     "execution_count": 3,
     "metadata": {},
     "output_type": "execute_result"
    }
   ],
   "source": [
    "# KOSDAQ\n",
    "kosdaq = fdr.DataReader('KQ11', start = start_date, end = end_date)\n",
    "kosdaq = kosdaq['Close']\n",
    "kosdaq.name= 'kosdaq'\n",
    "kosdaq"
   ]
  },
  {
   "cell_type": "code",
   "execution_count": 4,
   "id": "51670a02",
   "metadata": {
    "scrolled": true
   },
   "outputs": [
    {
     "data": {
      "text/plain": [
       "Date\n",
       "2021-01-04    12698.4\n",
       "2021-01-05    12819.0\n",
       "2021-01-06    12740.8\n",
       "2021-01-07    13067.5\n",
       "2021-01-08    13202.0\n",
       "               ...   \n",
       "2021-11-19    16057.4\n",
       "2021-11-22    15854.8\n",
       "2021-11-23    15775.1\n",
       "2021-11-24    15845.2\n",
       "2021-11-26    15491.7\n",
       "Name: nasdaq, Length: 228, dtype: float64"
      ]
     },
     "execution_count": 4,
     "metadata": {},
     "output_type": "execute_result"
    }
   ],
   "source": [
    "# 나스닥\n",
    "nasdaq = fdr.DataReader('IXIC', start = start_date, end = end_date)\n",
    "nasdaq = nasdaq['Close']\n",
    "nasdaq.name= 'nasdaq'\n",
    "nasdaq"
   ]
  },
  {
   "cell_type": "code",
   "execution_count": 5,
   "id": "ae2192ce",
   "metadata": {
    "scrolled": true
   },
   "outputs": [
    {
     "data": {
      "text/plain": [
       "Date\n",
       "2021-01-04    30223.89\n",
       "2021-01-05    30391.60\n",
       "2021-01-06    30829.40\n",
       "2021-01-07    31041.13\n",
       "2021-01-08    31097.97\n",
       "                ...   \n",
       "2021-11-19    35602.18\n",
       "2021-11-22    35619.26\n",
       "2021-11-23    35813.74\n",
       "2021-11-24    35805.17\n",
       "2021-11-26    34908.10\n",
       "Name: dow, Length: 228, dtype: float64"
      ]
     },
     "execution_count": 5,
     "metadata": {},
     "output_type": "execute_result"
    }
   ],
   "source": [
    "# 다우존스\n",
    "dow = fdr.DataReader('DJI', start = start_date, end = end_date)\n",
    "dow = dow['Close']\n",
    "dow.name= 'dow'\n",
    "dow"
   ]
  },
  {
   "cell_type": "code",
   "execution_count": 6,
   "id": "0d29bd5a",
   "metadata": {
    "scrolled": false
   },
   "outputs": [
    {
     "data": {
      "text/plain": [
       "Date\n",
       "2021-01-04    3700.65\n",
       "2021-01-05    3726.86\n",
       "2021-01-06    3748.14\n",
       "2021-01-07    3803.79\n",
       "2021-01-08    3824.68\n",
       "               ...   \n",
       "2021-11-19    4697.96\n",
       "2021-11-22    4682.95\n",
       "2021-11-23    4690.70\n",
       "2021-11-24    4701.46\n",
       "2021-11-26    4594.62\n",
       "Name: sp500, Length: 228, dtype: float64"
      ]
     },
     "execution_count": 6,
     "metadata": {},
     "output_type": "execute_result"
    }
   ],
   "source": [
    "# S&P 500 지수\n",
    "sp500 = fdr.DataReader('US500', start = start_date, end = end_date)\n",
    "sp500 = sp500['Close']\n",
    "sp500.name= 'sp500'\n",
    "sp500"
   ]
  },
  {
   "cell_type": "code",
   "execution_count": 7,
   "id": "6eba7430",
   "metadata": {
    "scrolled": false
   },
   "outputs": [
    {
     "data": {
      "text/plain": [
       "Date\n",
       "2021-01-04    2944.45\n",
       "2021-01-05    2990.57\n",
       "2021-01-06    2968.21\n",
       "2021-01-07    3031.68\n",
       "2021-01-08    3152.18\n",
       "               ...   \n",
       "2021-11-22    3013.25\n",
       "2021-11-23    2997.33\n",
       "2021-11-24    2994.29\n",
       "2021-11-25    2980.27\n",
       "2021-11-26    2936.44\n",
       "Name: kospi, Length: 224, dtype: float64"
      ]
     },
     "execution_count": 7,
     "metadata": {},
     "output_type": "execute_result"
    }
   ],
   "source": [
    "# KOSPI\n",
    "kospi = fdr.DataReader('KS11', start = start_date, end = end_date)\n",
    "kospi = kospi['Close']\n",
    "kospi.name= 'kospi'\n",
    "kospi"
   ]
  },
  {
   "cell_type": "markdown",
   "id": "b8c981c8",
   "metadata": {},
   "source": [
    "### 종목 데이터 불러오기"
   ]
  },
  {
   "cell_type": "code",
   "execution_count": 9,
   "id": "29692b7b",
   "metadata": {},
   "outputs": [
    {
     "data": {
      "text/html": [
       "<div>\n",
       "<style scoped>\n",
       "    .dataframe tbody tr th:only-of-type {\n",
       "        vertical-align: middle;\n",
       "    }\n",
       "\n",
       "    .dataframe tbody tr th {\n",
       "        vertical-align: top;\n",
       "    }\n",
       "\n",
       "    .dataframe thead th {\n",
       "        text-align: right;\n",
       "    }\n",
       "</style>\n",
       "<table border=\"1\" class=\"dataframe\">\n",
       "  <thead>\n",
       "    <tr style=\"text-align: right;\">\n",
       "      <th></th>\n",
       "      <th>종목명</th>\n",
       "      <th>종목코드</th>\n",
       "      <th>상장시장</th>\n",
       "    </tr>\n",
       "  </thead>\n",
       "  <tbody>\n",
       "    <tr>\n",
       "      <th>0</th>\n",
       "      <td>삼성전자</td>\n",
       "      <td>5930</td>\n",
       "      <td>KOSPI</td>\n",
       "    </tr>\n",
       "    <tr>\n",
       "      <th>1</th>\n",
       "      <td>SK하이닉스</td>\n",
       "      <td>660</td>\n",
       "      <td>KOSPI</td>\n",
       "    </tr>\n",
       "    <tr>\n",
       "      <th>2</th>\n",
       "      <td>NAVER</td>\n",
       "      <td>35420</td>\n",
       "      <td>KOSPI</td>\n",
       "    </tr>\n",
       "    <tr>\n",
       "      <th>3</th>\n",
       "      <td>카카오</td>\n",
       "      <td>35720</td>\n",
       "      <td>KOSPI</td>\n",
       "    </tr>\n",
       "    <tr>\n",
       "      <th>4</th>\n",
       "      <td>삼성바이오로직스</td>\n",
       "      <td>207940</td>\n",
       "      <td>KOSPI</td>\n",
       "    </tr>\n",
       "  </tbody>\n",
       "</table>\n",
       "</div>"
      ],
      "text/plain": [
       "        종목명    종목코드   상장시장\n",
       "0      삼성전자    5930  KOSPI\n",
       "1    SK하이닉스     660  KOSPI\n",
       "2     NAVER   35420  KOSPI\n",
       "3       카카오   35720  KOSPI\n",
       "4  삼성바이오로직스  207940  KOSPI"
      ]
     },
     "execution_count": 9,
     "metadata": {},
     "output_type": "execute_result"
    }
   ],
   "source": [
    "path = '../data'\n",
    "list_name = 'Stock_List.csv'\n",
    "stock_list = pd.read_csv(os.path.join(path,list_name))\n",
    "stock_list.head()"
   ]
  },
  {
   "cell_type": "code",
   "execution_count": 10,
   "id": "4b811aca",
   "metadata": {
    "scrolled": false
   },
   "outputs": [
    {
     "data": {
      "text/html": [
       "<div>\n",
       "<style scoped>\n",
       "    .dataframe tbody tr th:only-of-type {\n",
       "        vertical-align: middle;\n",
       "    }\n",
       "\n",
       "    .dataframe tbody tr th {\n",
       "        vertical-align: top;\n",
       "    }\n",
       "\n",
       "    .dataframe thead th {\n",
       "        text-align: right;\n",
       "    }\n",
       "</style>\n",
       "<table border=\"1\" class=\"dataframe\">\n",
       "  <thead>\n",
       "    <tr style=\"text-align: right;\">\n",
       "      <th></th>\n",
       "      <th>종목명</th>\n",
       "      <th>종목코드</th>\n",
       "      <th>상장시장</th>\n",
       "    </tr>\n",
       "  </thead>\n",
       "  <tbody>\n",
       "    <tr>\n",
       "      <th>0</th>\n",
       "      <td>삼성전자</td>\n",
       "      <td>005930</td>\n",
       "      <td>KOSPI</td>\n",
       "    </tr>\n",
       "    <tr>\n",
       "      <th>1</th>\n",
       "      <td>SK하이닉스</td>\n",
       "      <td>000660</td>\n",
       "      <td>KOSPI</td>\n",
       "    </tr>\n",
       "    <tr>\n",
       "      <th>2</th>\n",
       "      <td>NAVER</td>\n",
       "      <td>035420</td>\n",
       "      <td>KOSPI</td>\n",
       "    </tr>\n",
       "    <tr>\n",
       "      <th>3</th>\n",
       "      <td>카카오</td>\n",
       "      <td>035720</td>\n",
       "      <td>KOSPI</td>\n",
       "    </tr>\n",
       "    <tr>\n",
       "      <th>4</th>\n",
       "      <td>삼성바이오로직스</td>\n",
       "      <td>207940</td>\n",
       "      <td>KOSPI</td>\n",
       "    </tr>\n",
       "    <tr>\n",
       "      <th>...</th>\n",
       "      <td>...</td>\n",
       "      <td>...</td>\n",
       "      <td>...</td>\n",
       "    </tr>\n",
       "    <tr>\n",
       "      <th>365</th>\n",
       "      <td>맘스터치</td>\n",
       "      <td>220630</td>\n",
       "      <td>KOSDAQ</td>\n",
       "    </tr>\n",
       "    <tr>\n",
       "      <th>366</th>\n",
       "      <td>다날</td>\n",
       "      <td>064260</td>\n",
       "      <td>KOSDAQ</td>\n",
       "    </tr>\n",
       "    <tr>\n",
       "      <th>367</th>\n",
       "      <td>제이시스메디칼</td>\n",
       "      <td>287410</td>\n",
       "      <td>KOSDAQ</td>\n",
       "    </tr>\n",
       "    <tr>\n",
       "      <th>368</th>\n",
       "      <td>크리스에프앤씨</td>\n",
       "      <td>110790</td>\n",
       "      <td>KOSDAQ</td>\n",
       "    </tr>\n",
       "    <tr>\n",
       "      <th>369</th>\n",
       "      <td>쎄트렉아이</td>\n",
       "      <td>099320</td>\n",
       "      <td>KOSDAQ</td>\n",
       "    </tr>\n",
       "  </tbody>\n",
       "</table>\n",
       "<p>370 rows × 3 columns</p>\n",
       "</div>"
      ],
      "text/plain": [
       "          종목명    종목코드    상장시장\n",
       "0        삼성전자  005930   KOSPI\n",
       "1      SK하이닉스  000660   KOSPI\n",
       "2       NAVER  035420   KOSPI\n",
       "3         카카오  035720   KOSPI\n",
       "4    삼성바이오로직스  207940   KOSPI\n",
       "..        ...     ...     ...\n",
       "365      맘스터치  220630  KOSDAQ\n",
       "366        다날  064260  KOSDAQ\n",
       "367   제이시스메디칼  287410  KOSDAQ\n",
       "368   크리스에프앤씨  110790  KOSDAQ\n",
       "369     쎄트렉아이  099320  KOSDAQ\n",
       "\n",
       "[370 rows x 3 columns]"
      ]
     },
     "execution_count": 10,
     "metadata": {},
     "output_type": "execute_result"
    }
   ],
   "source": [
    "# 종목 코드 6자리로 맞추기\n",
    "stock_list['종목코드'] = stock_list[\"종목코드\"].astype(str).str.zfill(6)\n",
    "stock_list"
   ]
  },
  {
   "cell_type": "code",
   "execution_count": 11,
   "id": "7d0cc8b3",
   "metadata": {},
   "outputs": [],
   "source": [
    "Business_days = pd.DataFrame(pd.date_range(start_date,end_date,freq='B'), columns = ['Date'])"
   ]
  },
  {
   "cell_type": "code",
   "execution_count": 12,
   "id": "8881cfeb",
   "metadata": {},
   "outputs": [
    {
     "name": "stdout",
     "output_type": "stream",
     "text": [
      "<class 'pandas.core.frame.DataFrame'>\n",
      "RangeIndex: 235 entries, 0 to 234\n",
      "Data columns (total 1 columns):\n",
      " #   Column  Non-Null Count  Dtype         \n",
      "---  ------  --------------  -----         \n",
      " 0   Date    235 non-null    datetime64[ns]\n",
      "dtypes: datetime64[ns](1)\n",
      "memory usage: 2.0 KB\n"
     ]
    }
   ],
   "source": [
    "Business_days.info()"
   ]
  },
  {
   "cell_type": "code",
   "execution_count": 14,
   "id": "abd66b22",
   "metadata": {},
   "outputs": [
    {
     "data": {
      "text/html": [
       "<div>\n",
       "<style scoped>\n",
       "    .dataframe tbody tr th:only-of-type {\n",
       "        vertical-align: middle;\n",
       "    }\n",
       "\n",
       "    .dataframe tbody tr th {\n",
       "        vertical-align: top;\n",
       "    }\n",
       "\n",
       "    .dataframe thead th {\n",
       "        text-align: right;\n",
       "    }\n",
       "</style>\n",
       "<table border=\"1\" class=\"dataframe\">\n",
       "  <thead>\n",
       "    <tr style=\"text-align: right;\">\n",
       "      <th></th>\n",
       "      <th>Date</th>\n",
       "      <th>kosdaq</th>\n",
       "      <th>nasdaq</th>\n",
       "      <th>dow</th>\n",
       "      <th>sp500</th>\n",
       "      <th>kospi</th>\n",
       "    </tr>\n",
       "  </thead>\n",
       "  <tbody>\n",
       "    <tr>\n",
       "      <th>0</th>\n",
       "      <td>2021-01-04</td>\n",
       "      <td>977.62</td>\n",
       "      <td>12698.4</td>\n",
       "      <td>30223.89</td>\n",
       "      <td>3700.65</td>\n",
       "      <td>2944.45</td>\n",
       "    </tr>\n",
       "    <tr>\n",
       "      <th>1</th>\n",
       "      <td>2021-01-05</td>\n",
       "      <td>985.76</td>\n",
       "      <td>12819.0</td>\n",
       "      <td>30391.60</td>\n",
       "      <td>3726.86</td>\n",
       "      <td>2990.57</td>\n",
       "    </tr>\n",
       "    <tr>\n",
       "      <th>2</th>\n",
       "      <td>2021-01-06</td>\n",
       "      <td>981.39</td>\n",
       "      <td>12740.8</td>\n",
       "      <td>30829.40</td>\n",
       "      <td>3748.14</td>\n",
       "      <td>2968.21</td>\n",
       "    </tr>\n",
       "    <tr>\n",
       "      <th>3</th>\n",
       "      <td>2021-01-07</td>\n",
       "      <td>988.86</td>\n",
       "      <td>13067.5</td>\n",
       "      <td>31041.13</td>\n",
       "      <td>3803.79</td>\n",
       "      <td>3031.68</td>\n",
       "    </tr>\n",
       "    <tr>\n",
       "      <th>4</th>\n",
       "      <td>2021-01-08</td>\n",
       "      <td>987.79</td>\n",
       "      <td>13202.0</td>\n",
       "      <td>31097.97</td>\n",
       "      <td>3824.68</td>\n",
       "      <td>3152.18</td>\n",
       "    </tr>\n",
       "  </tbody>\n",
       "</table>\n",
       "</div>"
      ],
      "text/plain": [
       "        Date  kosdaq   nasdaq       dow    sp500    kospi\n",
       "0 2021-01-04  977.62  12698.4  30223.89  3700.65  2944.45\n",
       "1 2021-01-05  985.76  12819.0  30391.60  3726.86  2990.57\n",
       "2 2021-01-06  981.39  12740.8  30829.40  3748.14  2968.21\n",
       "3 2021-01-07  988.86  13067.5  31041.13  3803.79  3031.68\n",
       "4 2021-01-08  987.79  13202.0  31097.97  3824.68  3152.18"
      ]
     },
     "execution_count": 14,
     "metadata": {},
     "output_type": "execute_result"
    }
   ],
   "source": [
    "data = pd.merge(Business_days, kosdaq, on='Date', how='left')\n",
    "data = pd.merge(data, nasdaq, on='Date', how='left')\n",
    "data = pd.merge(data, dow, on='Date', how='left')\n",
    "data = pd.merge(data, sp500, on='Date', how='left')\n",
    "data = pd.merge(data, kospi, on='Date', how='left')\n",
    "data.head()"
   ]
  },
  {
   "cell_type": "code",
   "execution_count": 15,
   "id": "cf8b053d",
   "metadata": {},
   "outputs": [
    {
     "name": "stdout",
     "output_type": "stream",
     "text": [
      "<class 'pandas.core.frame.DataFrame'>\n",
      "Int64Index: 235 entries, 0 to 234\n",
      "Data columns (total 6 columns):\n",
      " #   Column  Non-Null Count  Dtype         \n",
      "---  ------  --------------  -----         \n",
      " 0   Date    235 non-null    datetime64[ns]\n",
      " 1   kosdaq  224 non-null    float64       \n",
      " 2   nasdaq  228 non-null    float64       \n",
      " 3   dow     228 non-null    float64       \n",
      " 4   sp500   228 non-null    float64       \n",
      " 5   kospi   224 non-null    float64       \n",
      "dtypes: datetime64[ns](1), float64(5)\n",
      "memory usage: 12.9 KB\n"
     ]
    }
   ],
   "source": [
    "data.info()"
   ]
  },
  {
   "cell_type": "code",
   "execution_count": 16,
   "id": "c96542d2",
   "metadata": {},
   "outputs": [],
   "source": [
    "data = data.interpolate()"
   ]
  },
  {
   "cell_type": "code",
   "execution_count": 17,
   "id": "6b737162",
   "metadata": {},
   "outputs": [
    {
     "name": "stdout",
     "output_type": "stream",
     "text": [
      "<class 'pandas.core.frame.DataFrame'>\n",
      "Int64Index: 235 entries, 0 to 234\n",
      "Data columns (total 6 columns):\n",
      " #   Column  Non-Null Count  Dtype         \n",
      "---  ------  --------------  -----         \n",
      " 0   Date    235 non-null    datetime64[ns]\n",
      " 1   kosdaq  235 non-null    float64       \n",
      " 2   nasdaq  235 non-null    float64       \n",
      " 3   dow     235 non-null    float64       \n",
      " 4   sp500   235 non-null    float64       \n",
      " 5   kospi   235 non-null    float64       \n",
      "dtypes: datetime64[ns](1), float64(5)\n",
      "memory usage: 12.9 KB\n"
     ]
    }
   ],
   "source": [
    "data.info()"
   ]
  },
  {
   "cell_type": "code",
   "execution_count": 18,
   "id": "179856eb",
   "metadata": {},
   "outputs": [],
   "source": [
    "data.to_csv('20210104-20211126_stock_index.csv', index=False)"
   ]
  },
  {
   "cell_type": "code",
   "execution_count": null,
   "id": "2365cc16",
   "metadata": {},
   "outputs": [],
   "source": []
  }
 ],
 "metadata": {
  "kernelspec": {
   "display_name": "Python 3",
   "language": "python",
   "name": "python3"
  },
  "language_info": {
   "codemirror_mode": {
    "name": "ipython",
    "version": 3
   },
   "file_extension": ".py",
   "mimetype": "text/x-python",
   "name": "python",
   "nbconvert_exporter": "python",
   "pygments_lexer": "ipython3",
   "version": "3.8.8"
  }
 },
 "nbformat": 4,
 "nbformat_minor": 5
}
