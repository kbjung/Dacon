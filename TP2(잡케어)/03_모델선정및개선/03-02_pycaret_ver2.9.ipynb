{
  "cells": [
    {
      "cell_type": "code",
      "source": [
        "!pip install catboost"
      ],
      "metadata": {
        "colab": {
          "base_uri": "https://localhost:8080/",
          "height": 421
        },
        "id": "9ZWRlNrc6RXL",
        "outputId": "04003359-eb04-4be1-87b7-90d1777d2438"
      },
      "execution_count": 2,
      "outputs": [
        {
          "output_type": "display_data",
          "data": {
            "text/html": [
              "\n",
              "  <style>\n",
              "    pre {\n",
              "        white-space: pre-wrap;\n",
              "    }\n",
              "  </style>\n",
              "  "
            ],
            "text/plain": [
              "<IPython.core.display.HTML object>"
            ]
          },
          "metadata": {}
        },
        {
          "output_type": "stream",
          "name": "stdout",
          "text": [
            "Collecting catboost\n",
            "  Downloading catboost-1.0.3-cp37-none-manylinux1_x86_64.whl (76.3 MB)\n",
            "\u001b[K     |████████████████████████████████| 76.3 MB 1.4 MB/s \n",
            "\u001b[?25hRequirement already satisfied: scipy in /usr/local/lib/python3.7/dist-packages (from catboost) (1.4.1)\n",
            "Requirement already satisfied: numpy>=1.16.0 in /usr/local/lib/python3.7/dist-packages (from catboost) (1.19.5)\n",
            "Requirement already satisfied: pandas>=0.24.0 in /usr/local/lib/python3.7/dist-packages (from catboost) (1.1.5)\n",
            "Requirement already satisfied: graphviz in /usr/local/lib/python3.7/dist-packages (from catboost) (0.10.1)\n",
            "Requirement already satisfied: plotly in /usr/local/lib/python3.7/dist-packages (from catboost) (4.4.1)\n",
            "Requirement already satisfied: six in /usr/local/lib/python3.7/dist-packages (from catboost) (1.15.0)\n",
            "Requirement already satisfied: matplotlib in /usr/local/lib/python3.7/dist-packages (from catboost) (3.2.2)\n",
            "Requirement already satisfied: pytz>=2017.2 in /usr/local/lib/python3.7/dist-packages (from pandas>=0.24.0->catboost) (2018.9)\n",
            "Requirement already satisfied: python-dateutil>=2.7.3 in /usr/local/lib/python3.7/dist-packages (from pandas>=0.24.0->catboost) (2.8.2)\n",
            "Requirement already satisfied: cycler>=0.10 in /usr/local/lib/python3.7/dist-packages (from matplotlib->catboost) (0.11.0)\n",
            "Requirement already satisfied: pyparsing!=2.0.4,!=2.1.2,!=2.1.6,>=2.0.1 in /usr/local/lib/python3.7/dist-packages (from matplotlib->catboost) (3.0.6)\n",
            "Requirement already satisfied: kiwisolver>=1.0.1 in /usr/local/lib/python3.7/dist-packages (from matplotlib->catboost) (1.3.2)\n",
            "Requirement already satisfied: retrying>=1.3.3 in /usr/local/lib/python3.7/dist-packages (from plotly->catboost) (1.3.3)\n",
            "Installing collected packages: catboost\n",
            "Successfully installed catboost-1.0.3\n"
          ]
        }
      ]
    },
    {
      "cell_type": "code",
      "source": [
        "!pip install pycaret"
      ],
      "metadata": {
        "colab": {
          "base_uri": "https://localhost:8080/",
          "height": 1000
        },
        "id": "m-1iGeQ56RVH",
        "outputId": "c7156dfe-93a0-4128-87c0-5223f9f0fa5e"
      },
      "execution_count": 3,
      "outputs": [
        {
          "output_type": "display_data",
          "data": {
            "text/html": [
              "\n",
              "  <style>\n",
              "    pre {\n",
              "        white-space: pre-wrap;\n",
              "    }\n",
              "  </style>\n",
              "  "
            ],
            "text/plain": [
              "<IPython.core.display.HTML object>"
            ]
          },
          "metadata": {}
        },
        {
          "output_type": "stream",
          "name": "stdout",
          "text": [
            "Collecting pycaret\n",
            "  Downloading pycaret-2.3.5-py3-none-any.whl (288 kB)\n",
            "\u001b[K     |████████████████████████████████| 288 kB 5.5 MB/s \n",
            "\u001b[?25hCollecting lightgbm>=2.3.1\n",
            "  Downloading lightgbm-3.3.1-py3-none-manylinux1_x86_64.whl (2.0 MB)\n",
            "\u001b[K     |████████████████████████████████| 2.0 MB 29.8 MB/s \n",
            "\u001b[?25hRequirement already satisfied: matplotlib in /usr/local/lib/python3.7/dist-packages (from pycaret) (3.2.2)\n",
            "Requirement already satisfied: cufflinks>=0.17.0 in /usr/local/lib/python3.7/dist-packages (from pycaret) (0.17.3)\n",
            "Requirement already satisfied: spacy<2.4.0 in /usr/local/lib/python3.7/dist-packages (from pycaret) (2.2.4)\n",
            "Collecting scikit-learn==0.23.2\n",
            "  Downloading scikit_learn-0.23.2-cp37-cp37m-manylinux1_x86_64.whl (6.8 MB)\n",
            "\u001b[K     |████████████████████████████████| 6.8 MB 33.7 MB/s \n",
            "\u001b[?25hRequirement already satisfied: pandas in /usr/local/lib/python3.7/dist-packages (from pycaret) (1.1.5)\n",
            "Requirement already satisfied: ipywidgets in /usr/local/lib/python3.7/dist-packages (from pycaret) (7.6.5)\n",
            "Requirement already satisfied: IPython in /usr/local/lib/python3.7/dist-packages (from pycaret) (5.5.0)\n",
            "Requirement already satisfied: wordcloud in /usr/local/lib/python3.7/dist-packages (from pycaret) (1.5.0)\n",
            "Collecting imbalanced-learn==0.7.0\n",
            "  Downloading imbalanced_learn-0.7.0-py3-none-any.whl (167 kB)\n",
            "\u001b[K     |████████████████████████████████| 167 kB 45.8 MB/s \n",
            "\u001b[?25hRequirement already satisfied: nltk in /usr/local/lib/python3.7/dist-packages (from pycaret) (3.2.5)\n",
            "Collecting Boruta\n",
            "  Downloading Boruta-0.3-py3-none-any.whl (56 kB)\n",
            "\u001b[K     |████████████████████████████████| 56 kB 4.7 MB/s \n",
            "\u001b[?25hRequirement already satisfied: plotly>=4.4.1 in /usr/local/lib/python3.7/dist-packages (from pycaret) (4.4.1)\n",
            "Collecting pyLDAvis\n",
            "  Downloading pyLDAvis-3.3.1.tar.gz (1.7 MB)\n",
            "\u001b[K     |████████████████████████████████| 1.7 MB 41.6 MB/s \n",
            "\u001b[?25h  Installing build dependencies ... \u001b[?25l\u001b[?25hdone\n",
            "  Getting requirements to build wheel ... \u001b[?25l\u001b[?25hdone\n",
            "  Installing backend dependencies ... \u001b[?25l\u001b[?25hdone\n",
            "    Preparing wheel metadata ... \u001b[?25l\u001b[?25hdone\n",
            "Requirement already satisfied: yellowbrick>=1.0.1 in /usr/local/lib/python3.7/dist-packages (from pycaret) (1.3.post1)\n",
            "Requirement already satisfied: numpy==1.19.5 in /usr/local/lib/python3.7/dist-packages (from pycaret) (1.19.5)\n",
            "Requirement already satisfied: gensim<4.0.0 in /usr/local/lib/python3.7/dist-packages (from pycaret) (3.6.0)\n",
            "Collecting pyod\n",
            "\u001b[33m  WARNING: Retrying (Retry(total=4, connect=None, read=None, redirect=None, status=None)) after connection broken by 'ProtocolError('Connection aborted.', ConnectionResetError(104, 'Connection reset by peer'))': /packages/a8/e9/f23ffae264f4d8f0a86e969b3a0a559b1e431a63ba6e69a2de86e13cfe44/pyod-0.9.6.tar.gz\u001b[0m\n",
            "  Downloading pyod-0.9.6.tar.gz (113 kB)\n",
            "\u001b[K     |████████████████████████████████| 113 kB 5.2 MB/s \n",
            "\u001b[?25hRequirement already satisfied: scipy<=1.5.4 in /usr/local/lib/python3.7/dist-packages (from pycaret) (1.4.1)\n",
            "Requirement already satisfied: textblob in /usr/local/lib/python3.7/dist-packages (from pycaret) (0.15.3)\n",
            "Requirement already satisfied: joblib in /usr/local/lib/python3.7/dist-packages (from pycaret) (1.1.0)\n",
            "Collecting pandas-profiling>=2.8.0\n",
            "  Downloading pandas_profiling-3.1.0-py2.py3-none-any.whl (261 kB)\n",
            "\u001b[K     |████████████████████████████████| 261 kB 39.4 MB/s \n",
            "\u001b[?25hCollecting scikit-plot\n",
            "  Downloading scikit_plot-0.3.7-py3-none-any.whl (33 kB)\n",
            "Collecting mlflow\n",
            "  Downloading mlflow-1.22.0-py3-none-any.whl (15.5 MB)\n",
            "\u001b[K     |████████████████████████████████| 15.5 MB 43.0 MB/s \n",
            "\u001b[?25hCollecting kmodes>=0.10.1\n",
            "  Downloading kmodes-0.11.1-py2.py3-none-any.whl (19 kB)\n",
            "Collecting mlxtend>=0.17.0\n",
            "  Downloading mlxtend-0.19.0-py2.py3-none-any.whl (1.3 MB)\n",
            "\u001b[K     |████████████████████████████████| 1.3 MB 35.1 MB/s \n",
            "\u001b[?25hCollecting umap-learn\n",
            "  Downloading umap-learn-0.5.2.tar.gz (86 kB)\n",
            "\u001b[K     |████████████████████████████████| 86 kB 5.4 MB/s \n",
            "\u001b[?25hRequirement already satisfied: seaborn in /usr/local/lib/python3.7/dist-packages (from pycaret) (0.11.2)\n",
            "Requirement already satisfied: threadpoolctl>=2.0.0 in /usr/local/lib/python3.7/dist-packages (from scikit-learn==0.23.2->pycaret) (3.0.0)\n",
            "Requirement already satisfied: colorlover>=0.2.1 in /usr/local/lib/python3.7/dist-packages (from cufflinks>=0.17.0->pycaret) (0.3.0)\n",
            "Requirement already satisfied: six>=1.9.0 in /usr/local/lib/python3.7/dist-packages (from cufflinks>=0.17.0->pycaret) (1.15.0)\n",
            "Requirement already satisfied: setuptools>=34.4.1 in /usr/local/lib/python3.7/dist-packages (from cufflinks>=0.17.0->pycaret) (57.4.0)\n",
            "Requirement already satisfied: smart-open>=1.2.1 in /usr/local/lib/python3.7/dist-packages (from gensim<4.0.0->pycaret) (5.2.1)\n",
            "Requirement already satisfied: pygments in /usr/local/lib/python3.7/dist-packages (from IPython->pycaret) (2.6.1)\n",
            "Requirement already satisfied: decorator in /usr/local/lib/python3.7/dist-packages (from IPython->pycaret) (4.4.2)\n",
            "Requirement already satisfied: simplegeneric>0.8 in /usr/local/lib/python3.7/dist-packages (from IPython->pycaret) (0.8.1)\n",
            "Requirement already satisfied: prompt-toolkit<2.0.0,>=1.0.4 in /usr/local/lib/python3.7/dist-packages (from IPython->pycaret) (1.0.18)\n",
            "Requirement already satisfied: pickleshare in /usr/local/lib/python3.7/dist-packages (from IPython->pycaret) (0.7.5)\n",
            "Requirement already satisfied: pexpect in /usr/local/lib/python3.7/dist-packages (from IPython->pycaret) (4.8.0)\n",
            "Requirement already satisfied: traitlets>=4.2 in /usr/local/lib/python3.7/dist-packages (from IPython->pycaret) (5.1.1)\n",
            "Requirement already satisfied: jupyterlab-widgets>=1.0.0 in /usr/local/lib/python3.7/dist-packages (from ipywidgets->pycaret) (1.0.2)\n",
            "Requirement already satisfied: ipython-genutils~=0.2.0 in /usr/local/lib/python3.7/dist-packages (from ipywidgets->pycaret) (0.2.0)\n",
            "Requirement already satisfied: nbformat>=4.2.0 in /usr/local/lib/python3.7/dist-packages (from ipywidgets->pycaret) (5.1.3)\n",
            "Requirement already satisfied: ipykernel>=4.5.1 in /usr/local/lib/python3.7/dist-packages (from ipywidgets->pycaret) (4.10.1)\n",
            "Requirement already satisfied: widgetsnbextension~=3.5.0 in /usr/local/lib/python3.7/dist-packages (from ipywidgets->pycaret) (3.5.2)\n",
            "Requirement already satisfied: jupyter-client in /usr/local/lib/python3.7/dist-packages (from ipykernel>=4.5.1->ipywidgets->pycaret) (5.3.5)\n",
            "Requirement already satisfied: tornado>=4.0 in /usr/local/lib/python3.7/dist-packages (from ipykernel>=4.5.1->ipywidgets->pycaret) (5.1.1)\n",
            "Requirement already satisfied: wheel in /usr/local/lib/python3.7/dist-packages (from lightgbm>=2.3.1->pycaret) (0.37.0)\n",
            "Requirement already satisfied: kiwisolver>=1.0.1 in /usr/local/lib/python3.7/dist-packages (from matplotlib->pycaret) (1.3.2)\n",
            "Requirement already satisfied: python-dateutil>=2.1 in /usr/local/lib/python3.7/dist-packages (from matplotlib->pycaret) (2.8.2)\n",
            "Requirement already satisfied: pyparsing!=2.0.4,!=2.1.2,!=2.1.6,>=2.0.1 in /usr/local/lib/python3.7/dist-packages (from matplotlib->pycaret) (3.0.6)\n",
            "Requirement already satisfied: cycler>=0.10 in /usr/local/lib/python3.7/dist-packages (from matplotlib->pycaret) (0.11.0)\n",
            "Requirement already satisfied: jupyter-core in /usr/local/lib/python3.7/dist-packages (from nbformat>=4.2.0->ipywidgets->pycaret) (4.9.1)\n",
            "Requirement already satisfied: jsonschema!=2.5.0,>=2.4 in /usr/local/lib/python3.7/dist-packages (from nbformat>=4.2.0->ipywidgets->pycaret) (2.6.0)\n",
            "Requirement already satisfied: pytz>=2017.2 in /usr/local/lib/python3.7/dist-packages (from pandas->pycaret) (2018.9)\n",
            "Collecting tangled-up-in-unicode==0.1.0\n",
            "  Downloading tangled_up_in_unicode-0.1.0-py3-none-any.whl (3.1 MB)\n",
            "\u001b[K     |████████████████████████████████| 3.1 MB 33.3 MB/s \n",
            "\u001b[?25hCollecting requests>=2.24.0\n",
            "  Downloading requests-2.26.0-py2.py3-none-any.whl (62 kB)\n",
            "\u001b[K     |████████████████████████████████| 62 kB 804 kB/s \n",
            "\u001b[?25hCollecting pydantic>=1.8.1\n",
            "  Downloading pydantic-1.8.2-cp37-cp37m-manylinux2014_x86_64.whl (10.1 MB)\n",
            "\u001b[K     |████████████████████████████████| 10.1 MB 35.1 MB/s \n",
            "\u001b[?25hCollecting multimethod>=1.4\n",
            "  Downloading multimethod-1.6-py3-none-any.whl (9.4 kB)\n",
            "Requirement already satisfied: missingno>=0.4.2 in /usr/local/lib/python3.7/dist-packages (from pandas-profiling>=2.8.0->pycaret) (0.5.0)\n",
            "Requirement already satisfied: markupsafe~=2.0.1 in /usr/local/lib/python3.7/dist-packages (from pandas-profiling>=2.8.0->pycaret) (2.0.1)\n",
            "Requirement already satisfied: tqdm>=4.48.2 in /usr/local/lib/python3.7/dist-packages (from pandas-profiling>=2.8.0->pycaret) (4.62.3)\n",
            "Collecting visions[type_image_path]==0.7.4\n",
            "  Downloading visions-0.7.4-py3-none-any.whl (102 kB)\n",
            "\u001b[K     |████████████████████████████████| 102 kB 11.3 MB/s \n",
            "\u001b[?25hCollecting joblib\n",
            "  Downloading joblib-1.0.1-py3-none-any.whl (303 kB)\n",
            "\u001b[K     |████████████████████████████████| 303 kB 44.0 MB/s \n",
            "\u001b[?25hCollecting PyYAML>=5.0.0\n",
            "  Downloading PyYAML-6.0-cp37-cp37m-manylinux_2_5_x86_64.manylinux1_x86_64.manylinux_2_12_x86_64.manylinux2010_x86_64.whl (596 kB)\n",
            "\u001b[K     |████████████████████████████████| 596 kB 44.0 MB/s \n",
            "\u001b[?25hCollecting phik>=0.11.1\n",
            "  Downloading phik-0.12.0-cp37-cp37m-manylinux2010_x86_64.whl (675 kB)\n",
            "\u001b[K     |████████████████████████████████| 675 kB 41.0 MB/s \n",
            "\u001b[?25hCollecting htmlmin>=0.1.12\n",
            "  Downloading htmlmin-0.1.12.tar.gz (19 kB)\n",
            "Requirement already satisfied: jinja2>=2.11.1 in /usr/local/lib/python3.7/dist-packages (from pandas-profiling>=2.8.0->pycaret) (2.11.3)\n",
            "Requirement already satisfied: networkx>=2.4 in /usr/local/lib/python3.7/dist-packages (from visions[type_image_path]==0.7.4->pandas-profiling>=2.8.0->pycaret) (2.6.3)\n",
            "Requirement already satisfied: attrs>=19.3.0 in /usr/local/lib/python3.7/dist-packages (from visions[type_image_path]==0.7.4->pandas-profiling>=2.8.0->pycaret) (21.2.0)\n",
            "Requirement already satisfied: Pillow in /usr/local/lib/python3.7/dist-packages (from visions[type_image_path]==0.7.4->pandas-profiling>=2.8.0->pycaret) (7.1.2)\n",
            "Collecting imagehash\n",
            "  Downloading ImageHash-4.2.1.tar.gz (812 kB)\n",
            "\u001b[K     |████████████████████████████████| 812 kB 42.5 MB/s \n",
            "\u001b[?25hCollecting scipy<=1.5.4\n",
            "  Downloading scipy-1.5.4-cp37-cp37m-manylinux1_x86_64.whl (25.9 MB)\n",
            "\u001b[K     |████████████████████████████████| 25.9 MB 1.6 MB/s \n",
            "\u001b[?25hRequirement already satisfied: retrying>=1.3.3 in /usr/local/lib/python3.7/dist-packages (from plotly>=4.4.1->pycaret) (1.3.3)\n",
            "Requirement already satisfied: wcwidth in /usr/local/lib/python3.7/dist-packages (from prompt-toolkit<2.0.0,>=1.0.4->IPython->pycaret) (0.2.5)\n",
            "Requirement already satisfied: typing-extensions>=3.7.4.3 in /usr/local/lib/python3.7/dist-packages (from pydantic>=1.8.1->pandas-profiling>=2.8.0->pycaret) (3.10.0.2)\n",
            "Requirement already satisfied: idna<4,>=2.5 in /usr/local/lib/python3.7/dist-packages (from requests>=2.24.0->pandas-profiling>=2.8.0->pycaret) (2.10)\n",
            "Requirement already satisfied: certifi>=2017.4.17 in /usr/local/lib/python3.7/dist-packages (from requests>=2.24.0->pandas-profiling>=2.8.0->pycaret) (2021.10.8)\n",
            "Requirement already satisfied: urllib3<1.27,>=1.21.1 in /usr/local/lib/python3.7/dist-packages (from requests>=2.24.0->pandas-profiling>=2.8.0->pycaret) (1.24.3)\n",
            "Requirement already satisfied: charset-normalizer~=2.0.0 in /usr/local/lib/python3.7/dist-packages (from requests>=2.24.0->pandas-profiling>=2.8.0->pycaret) (2.0.8)\n",
            "Requirement already satisfied: blis<0.5.0,>=0.4.0 in /usr/local/lib/python3.7/dist-packages (from spacy<2.4.0->pycaret) (0.4.1)\n",
            "Requirement already satisfied: preshed<3.1.0,>=3.0.2 in /usr/local/lib/python3.7/dist-packages (from spacy<2.4.0->pycaret) (3.0.6)\n",
            "Requirement already satisfied: cymem<2.1.0,>=2.0.2 in /usr/local/lib/python3.7/dist-packages (from spacy<2.4.0->pycaret) (2.0.6)\n",
            "Requirement already satisfied: catalogue<1.1.0,>=0.0.7 in /usr/local/lib/python3.7/dist-packages (from spacy<2.4.0->pycaret) (1.0.0)\n",
            "Requirement already satisfied: srsly<1.1.0,>=1.0.2 in /usr/local/lib/python3.7/dist-packages (from spacy<2.4.0->pycaret) (1.0.5)\n",
            "Requirement already satisfied: plac<1.2.0,>=0.9.6 in /usr/local/lib/python3.7/dist-packages (from spacy<2.4.0->pycaret) (1.1.3)\n",
            "Requirement already satisfied: thinc==7.4.0 in /usr/local/lib/python3.7/dist-packages (from spacy<2.4.0->pycaret) (7.4.0)\n",
            "Requirement already satisfied: wasabi<1.1.0,>=0.4.0 in /usr/local/lib/python3.7/dist-packages (from spacy<2.4.0->pycaret) (0.8.2)\n",
            "Requirement already satisfied: murmurhash<1.1.0,>=0.28.0 in /usr/local/lib/python3.7/dist-packages (from spacy<2.4.0->pycaret) (1.0.6)\n",
            "Requirement already satisfied: importlib-metadata>=0.20 in /usr/local/lib/python3.7/dist-packages (from catalogue<1.1.0,>=0.0.7->spacy<2.4.0->pycaret) (4.8.2)\n",
            "Requirement already satisfied: zipp>=0.5 in /usr/local/lib/python3.7/dist-packages (from importlib-metadata>=0.20->catalogue<1.1.0,>=0.0.7->spacy<2.4.0->pycaret) (3.6.0)\n",
            "Requirement already satisfied: notebook>=4.4.1 in /usr/local/lib/python3.7/dist-packages (from widgetsnbextension~=3.5.0->ipywidgets->pycaret) (5.3.1)\n",
            "Requirement already satisfied: Send2Trash in /usr/local/lib/python3.7/dist-packages (from notebook>=4.4.1->widgetsnbextension~=3.5.0->ipywidgets->pycaret) (1.8.0)\n",
            "Requirement already satisfied: nbconvert in /usr/local/lib/python3.7/dist-packages (from notebook>=4.4.1->widgetsnbextension~=3.5.0->ipywidgets->pycaret) (5.6.1)\n",
            "Requirement already satisfied: terminado>=0.8.1 in /usr/local/lib/python3.7/dist-packages (from notebook>=4.4.1->widgetsnbextension~=3.5.0->ipywidgets->pycaret) (0.12.1)\n",
            "Requirement already satisfied: pyzmq>=13 in /usr/local/lib/python3.7/dist-packages (from jupyter-client->ipykernel>=4.5.1->ipywidgets->pycaret) (22.3.0)\n",
            "Requirement already satisfied: ptyprocess in /usr/local/lib/python3.7/dist-packages (from terminado>=0.8.1->notebook>=4.4.1->widgetsnbextension~=3.5.0->ipywidgets->pycaret) (0.7.0)\n",
            "Requirement already satisfied: PyWavelets in /usr/local/lib/python3.7/dist-packages (from imagehash->visions[type_image_path]==0.7.4->pandas-profiling>=2.8.0->pycaret) (1.2.0)\n",
            "Collecting gunicorn\n",
            "  Downloading gunicorn-20.1.0-py3-none-any.whl (79 kB)\n",
            "\u001b[K     |████████████████████████████████| 79 kB 7.8 MB/s \n",
            "\u001b[?25hRequirement already satisfied: click>=7.0 in /usr/local/lib/python3.7/dist-packages (from mlflow->pycaret) (7.1.2)\n",
            "Collecting gitpython>=2.1.0\n",
            "  Downloading GitPython-3.1.24-py3-none-any.whl (180 kB)\n",
            "\u001b[K     |████████████████████████████████| 180 kB 45.6 MB/s \n",
            "\u001b[?25hRequirement already satisfied: cloudpickle in /usr/local/lib/python3.7/dist-packages (from mlflow->pycaret) (1.3.0)\n",
            "Requirement already satisfied: sqlparse>=0.3.1 in /usr/local/lib/python3.7/dist-packages (from mlflow->pycaret) (0.4.2)\n",
            "Collecting querystring-parser\n",
            "  Downloading querystring_parser-1.2.4-py2.py3-none-any.whl (7.9 kB)\n",
            "Collecting alembic<=1.4.1\n",
            "  Downloading alembic-1.4.1.tar.gz (1.1 MB)\n",
            "\u001b[K     |████████████████████████████████| 1.1 MB 40.5 MB/s \n",
            "\u001b[?25hRequirement already satisfied: sqlalchemy in /usr/local/lib/python3.7/dist-packages (from mlflow->pycaret) (1.4.27)\n",
            "Requirement already satisfied: Flask in /usr/local/lib/python3.7/dist-packages (from mlflow->pycaret) (1.1.4)\n",
            "Requirement already satisfied: packaging in /usr/local/lib/python3.7/dist-packages (from mlflow->pycaret) (21.3)\n",
            "Collecting prometheus-flask-exporter\n",
            "  Downloading prometheus_flask_exporter-0.18.7-py3-none-any.whl (17 kB)\n",
            "Requirement already satisfied: entrypoints in /usr/local/lib/python3.7/dist-packages (from mlflow->pycaret) (0.3)\n",
            "Requirement already satisfied: protobuf>=3.7.0 in /usr/local/lib/python3.7/dist-packages (from mlflow->pycaret) (3.17.3)\n",
            "Collecting databricks-cli>=0.8.7\n",
            "  Downloading databricks-cli-0.16.2.tar.gz (58 kB)\n",
            "\u001b[K     |████████████████████████████████| 58 kB 5.2 MB/s \n",
            "\u001b[?25hCollecting docker>=4.0.0\n",
            "  Downloading docker-5.0.3-py2.py3-none-any.whl (146 kB)\n",
            "\u001b[K     |████████████████████████████████| 146 kB 45.0 MB/s \n",
            "\u001b[?25hCollecting Mako\n",
            "  Downloading Mako-1.1.6-py2.py3-none-any.whl (75 kB)\n",
            "\u001b[K     |████████████████████████████████| 75 kB 4.2 MB/s \n",
            "\u001b[?25hCollecting python-editor>=0.3\n",
            "  Downloading python_editor-1.0.4-py3-none-any.whl (4.9 kB)\n",
            "Requirement already satisfied: tabulate>=0.7.7 in /usr/local/lib/python3.7/dist-packages (from databricks-cli>=0.8.7->mlflow->pycaret) (0.8.9)\n",
            "Collecting websocket-client>=0.32.0\n",
            "  Downloading websocket_client-1.2.3-py3-none-any.whl (53 kB)\n",
            "\u001b[K     |████████████████████████████████| 53 kB 1.6 MB/s \n",
            "\u001b[?25hCollecting gitdb<5,>=4.0.1\n",
            "  Downloading gitdb-4.0.9-py3-none-any.whl (63 kB)\n",
            "\u001b[K     |████████████████████████████████| 63 kB 1.7 MB/s \n",
            "\u001b[?25hCollecting smmap<6,>=3.0.1\n",
            "  Downloading smmap-5.0.0-py3-none-any.whl (24 kB)\n",
            "Requirement already satisfied: greenlet!=0.4.17 in /usr/local/lib/python3.7/dist-packages (from sqlalchemy->mlflow->pycaret) (1.1.2)\n",
            "Requirement already satisfied: itsdangerous<2.0,>=0.24 in /usr/local/lib/python3.7/dist-packages (from Flask->mlflow->pycaret) (1.1.0)\n",
            "Requirement already satisfied: Werkzeug<2.0,>=0.15 in /usr/local/lib/python3.7/dist-packages (from Flask->mlflow->pycaret) (1.0.1)\n",
            "Requirement already satisfied: pandocfilters>=1.4.1 in /usr/local/lib/python3.7/dist-packages (from nbconvert->notebook>=4.4.1->widgetsnbextension~=3.5.0->ipywidgets->pycaret) (1.5.0)\n",
            "Requirement already satisfied: bleach in /usr/local/lib/python3.7/dist-packages (from nbconvert->notebook>=4.4.1->widgetsnbextension~=3.5.0->ipywidgets->pycaret) (4.1.0)\n",
            "Requirement already satisfied: mistune<2,>=0.8.1 in /usr/local/lib/python3.7/dist-packages (from nbconvert->notebook>=4.4.1->widgetsnbextension~=3.5.0->ipywidgets->pycaret) (0.8.4)\n",
            "Requirement already satisfied: defusedxml in /usr/local/lib/python3.7/dist-packages (from nbconvert->notebook>=4.4.1->widgetsnbextension~=3.5.0->ipywidgets->pycaret) (0.7.1)\n",
            "Requirement already satisfied: testpath in /usr/local/lib/python3.7/dist-packages (from nbconvert->notebook>=4.4.1->widgetsnbextension~=3.5.0->ipywidgets->pycaret) (0.5.0)\n",
            "Requirement already satisfied: webencodings in /usr/local/lib/python3.7/dist-packages (from bleach->nbconvert->notebook>=4.4.1->widgetsnbextension~=3.5.0->ipywidgets->pycaret) (0.5.1)\n",
            "Requirement already satisfied: prometheus-client in /usr/local/lib/python3.7/dist-packages (from prometheus-flask-exporter->mlflow->pycaret) (0.12.0)\n",
            "Requirement already satisfied: sklearn in /usr/local/lib/python3.7/dist-packages (from pyLDAvis->pycaret) (0.0)\n",
            "Collecting funcy\n",
            "  Downloading funcy-1.17-py2.py3-none-any.whl (33 kB)\n",
            "Requirement already satisfied: numexpr in /usr/local/lib/python3.7/dist-packages (from pyLDAvis->pycaret) (2.7.3)\n",
            "Collecting pandas\n",
            "  Downloading pandas-1.3.5-cp37-cp37m-manylinux_2_17_x86_64.manylinux2014_x86_64.whl (11.3 MB)\n",
            "\u001b[K     |████████████████████████████████| 11.3 MB 42.6 MB/s \n",
            "\u001b[?25hRequirement already satisfied: future in /usr/local/lib/python3.7/dist-packages (from pyLDAvis->pycaret) (0.16.0)\n",
            "Collecting pyLDAvis\n",
            "  Downloading pyLDAvis-3.3.0.tar.gz (1.7 MB)\n",
            "\u001b[K     |████████████████████████████████| 1.7 MB 31.8 MB/s \n",
            "\u001b[?25h  Installing build dependencies ... \u001b[?25l\u001b[?25hdone\n",
            "  Getting requirements to build wheel ... \u001b[?25l\u001b[?25hdone\n",
            "  Installing backend dependencies ... \u001b[?25l\u001b[?25hdone\n",
            "    Preparing wheel metadata ... \u001b[?25l\u001b[?25hdone\n",
            "  Downloading pyLDAvis-3.2.2.tar.gz (1.7 MB)\n",
            "\u001b[K     |████████████████████████████████| 1.7 MB 35.8 MB/s \n",
            "\u001b[?25hRequirement already satisfied: numba>=0.35 in /usr/local/lib/python3.7/dist-packages (from pyod->pycaret) (0.51.2)\n",
            "Requirement already satisfied: statsmodels in /usr/local/lib/python3.7/dist-packages (from pyod->pycaret) (0.10.2)\n",
            "Requirement already satisfied: llvmlite<0.35,>=0.34.0.dev0 in /usr/local/lib/python3.7/dist-packages (from numba>=0.35->pyod->pycaret) (0.34.0)\n",
            "Requirement already satisfied: patsy>=0.4.0 in /usr/local/lib/python3.7/dist-packages (from statsmodels->pyod->pycaret) (0.5.2)\n",
            "Collecting pynndescent>=0.5\n",
            "  Downloading pynndescent-0.5.5.tar.gz (1.1 MB)\n",
            "\u001b[K     |████████████████████████████████| 1.1 MB 41.9 MB/s \n",
            "\u001b[?25hBuilding wheels for collected packages: htmlmin, imagehash, alembic, databricks-cli, pyLDAvis, pyod, umap-learn, pynndescent\n",
            "  Building wheel for htmlmin (setup.py) ... \u001b[?25l\u001b[?25hdone\n",
            "  Created wheel for htmlmin: filename=htmlmin-0.1.12-py3-none-any.whl size=27098 sha256=2c59e60e8ee9a89fd61c77d62404283e12d153ab10218de66f6b5e23520c0a19\n",
            "  Stored in directory: /root/.cache/pip/wheels/70/e1/52/5b14d250ba868768823940c3229e9950d201a26d0bd3ee8655\n",
            "  Building wheel for imagehash (setup.py) ... \u001b[?25l\u001b[?25hdone\n",
            "  Created wheel for imagehash: filename=ImageHash-4.2.1-py2.py3-none-any.whl size=295207 sha256=6beae355a1d9832175f23d0b161d9ac050458819f2fd059c5e74803415942996\n",
            "  Stored in directory: /root/.cache/pip/wheels/4c/d5/59/5e3e297533ddb09407769762985d134135064c6831e29a914e\n",
            "  Building wheel for alembic (setup.py) ... \u001b[?25l\u001b[?25hdone\n",
            "  Created wheel for alembic: filename=alembic-1.4.1-py2.py3-none-any.whl size=158172 sha256=eeab836b74f0faefa4f4db3da4a9b84e84782db9524ce0e43943a06e46073f1c\n",
            "  Stored in directory: /root/.cache/pip/wheels/be/5d/0a/9e13f53f4f5dfb67cd8d245bb7cdffe12f135846f491a283e3\n",
            "  Building wheel for databricks-cli (setup.py) ... \u001b[?25l\u001b[?25hdone\n",
            "  Created wheel for databricks-cli: filename=databricks_cli-0.16.2-py3-none-any.whl size=106811 sha256=b98dd7758e6fee9ccbd9157a385a399a16ec67d5eea38e0c93e2c37608f263a9\n",
            "  Stored in directory: /root/.cache/pip/wheels/f4/5c/ed/e1ce20a53095f63b27b4964abbad03e59cf3472822addf7d29\n",
            "  Building wheel for pyLDAvis (setup.py) ... \u001b[?25l\u001b[?25hdone\n",
            "  Created wheel for pyLDAvis: filename=pyLDAvis-3.2.2-py2.py3-none-any.whl size=135618 sha256=bbe669bc38a85db577e059880cc9b04877d0820a1972f8176cb0f53d1f205e6c\n",
            "  Stored in directory: /root/.cache/pip/wheels/f8/b1/9b/560ac1931796b7303f7b517b949d2d31a4fbc512aad3b9f284\n",
            "  Building wheel for pyod (setup.py) ... \u001b[?25l\u001b[?25hdone\n",
            "  Created wheel for pyod: filename=pyod-0.9.6-py3-none-any.whl size=132985 sha256=5d0c7e53bddd92e15052ed1cc71f05763665fa45a6f9b8ebc7c55ed901451a5f\n",
            "  Stored in directory: /root/.cache/pip/wheels/36/43/f2/27f4cd7bb70081fbde28ceee541781437934c47caa4ea31c56\n",
            "  Building wheel for umap-learn (setup.py) ... \u001b[?25l\u001b[?25hdone\n",
            "  Created wheel for umap-learn: filename=umap_learn-0.5.2-py3-none-any.whl size=82709 sha256=b9e30bdc71a6331073d2a6fe175f7f5b3e28a1612560d62250968e8aa85f69de\n",
            "  Stored in directory: /root/.cache/pip/wheels/84/1b/c6/aaf68a748122632967cef4dffef68224eb16798b6793257d82\n",
            "  Building wheel for pynndescent (setup.py) ... \u001b[?25l\u001b[?25hdone\n",
            "  Created wheel for pynndescent: filename=pynndescent-0.5.5-py3-none-any.whl size=52603 sha256=b0a0b8971f50b7da9cb8e60207cb76310e25c79fa81853653228dbd328704321\n",
            "  Stored in directory: /root/.cache/pip/wheels/af/e9/33/04db1436df0757c42fda8ea6796d7a8586e23c85fac355f476\n",
            "Successfully built htmlmin imagehash alembic databricks-cli pyLDAvis pyod umap-learn pynndescent\n",
            "Installing collected packages: tangled-up-in-unicode, smmap, scipy, multimethod, joblib, websocket-client, visions, scikit-learn, requests, python-editor, Mako, imagehash, gitdb, querystring-parser, PyYAML, pynndescent, pydantic, prometheus-flask-exporter, phik, htmlmin, gunicorn, gitpython, funcy, docker, databricks-cli, alembic, umap-learn, scikit-plot, pyod, pyLDAvis, pandas-profiling, mlxtend, mlflow, lightgbm, kmodes, imbalanced-learn, Boruta, pycaret\n",
            "  Attempting uninstall: scipy\n",
            "    Found existing installation: scipy 1.4.1\n",
            "    Uninstalling scipy-1.4.1:\n",
            "      Successfully uninstalled scipy-1.4.1\n",
            "  Attempting uninstall: joblib\n",
            "    Found existing installation: joblib 1.1.0\n",
            "    Uninstalling joblib-1.1.0:\n",
            "      Successfully uninstalled joblib-1.1.0\n",
            "  Attempting uninstall: scikit-learn\n",
            "    Found existing installation: scikit-learn 1.0.1\n",
            "    Uninstalling scikit-learn-1.0.1:\n",
            "      Successfully uninstalled scikit-learn-1.0.1\n",
            "  Attempting uninstall: requests\n",
            "    Found existing installation: requests 2.23.0\n",
            "    Uninstalling requests-2.23.0:\n",
            "      Successfully uninstalled requests-2.23.0\n",
            "  Attempting uninstall: PyYAML\n",
            "    Found existing installation: PyYAML 3.13\n",
            "    Uninstalling PyYAML-3.13:\n",
            "      Successfully uninstalled PyYAML-3.13\n",
            "  Attempting uninstall: pandas-profiling\n",
            "    Found existing installation: pandas-profiling 1.4.1\n",
            "    Uninstalling pandas-profiling-1.4.1:\n",
            "      Successfully uninstalled pandas-profiling-1.4.1\n",
            "  Attempting uninstall: mlxtend\n",
            "    Found existing installation: mlxtend 0.14.0\n",
            "    Uninstalling mlxtend-0.14.0:\n",
            "      Successfully uninstalled mlxtend-0.14.0\n",
            "  Attempting uninstall: lightgbm\n",
            "    Found existing installation: lightgbm 2.2.3\n",
            "    Uninstalling lightgbm-2.2.3:\n",
            "      Successfully uninstalled lightgbm-2.2.3\n",
            "  Attempting uninstall: imbalanced-learn\n",
            "    Found existing installation: imbalanced-learn 0.8.1\n",
            "    Uninstalling imbalanced-learn-0.8.1:\n",
            "      Successfully uninstalled imbalanced-learn-0.8.1\n",
            "\u001b[31mERROR: pip's dependency resolver does not currently take into account all the packages that are installed. This behaviour is the source of the following dependency conflicts.\n",
            "google-colab 1.0.0 requires requests~=2.23.0, but you have requests 2.26.0 which is incompatible.\n",
            "datascience 0.10.6 requires folium==0.2.1, but you have folium 0.8.3 which is incompatible.\n",
            "albumentations 0.1.12 requires imgaug<0.2.7,>=0.2.5, but you have imgaug 0.2.9 which is incompatible.\u001b[0m\n",
            "Successfully installed Boruta-0.3 Mako-1.1.6 PyYAML-6.0 alembic-1.4.1 databricks-cli-0.16.2 docker-5.0.3 funcy-1.17 gitdb-4.0.9 gitpython-3.1.24 gunicorn-20.1.0 htmlmin-0.1.12 imagehash-4.2.1 imbalanced-learn-0.7.0 joblib-1.0.1 kmodes-0.11.1 lightgbm-3.3.1 mlflow-1.22.0 mlxtend-0.19.0 multimethod-1.6 pandas-profiling-3.1.0 phik-0.12.0 prometheus-flask-exporter-0.18.7 pyLDAvis-3.2.2 pycaret-2.3.5 pydantic-1.8.2 pynndescent-0.5.5 pyod-0.9.6 python-editor-1.0.4 querystring-parser-1.2.4 requests-2.26.0 scikit-learn-0.23.2 scikit-plot-0.3.7 scipy-1.5.4 smmap-5.0.0 tangled-up-in-unicode-0.1.0 umap-learn-0.5.2 visions-0.7.4 websocket-client-1.2.3\n"
          ]
        }
      ]
    },
    {
      "cell_type": "code",
      "source": [
        "from google.colab import drive\n",
        "drive.mount('/content/drive')"
      ],
      "metadata": {
        "colab": {
          "base_uri": "https://localhost:8080/",
          "height": 35
        },
        "id": "iCqLkw496X5P",
        "outputId": "3bb3aeb7-2913-451c-85db-b83bd9ab8bae"
      },
      "execution_count": 4,
      "outputs": [
        {
          "output_type": "display_data",
          "data": {
            "text/html": [
              "\n",
              "  <style>\n",
              "    pre {\n",
              "        white-space: pre-wrap;\n",
              "    }\n",
              "  </style>\n",
              "  "
            ],
            "text/plain": [
              "<IPython.core.display.HTML object>"
            ]
          },
          "metadata": {}
        },
        {
          "output_type": "stream",
          "name": "stdout",
          "text": [
            "Mounted at /content/drive\n"
          ]
        }
      ]
    },
    {
      "cell_type": "code",
      "execution_count": 5,
      "metadata": {
        "ExecuteTime": {
          "end_time": "2021-12-17T13:59:16.025913Z",
          "start_time": "2021-12-17T13:59:12.305624Z"
        },
        "id": "aEgAFA6EIoCa",
        "colab": {
          "base_uri": "https://localhost:8080/",
          "height": 17
        },
        "outputId": "e8bb0f47-fd02-473b-cefe-355c65697fa8"
      },
      "outputs": [
        {
          "output_type": "display_data",
          "data": {
            "text/html": [
              "\n",
              "  <style>\n",
              "    pre {\n",
              "        white-space: pre-wrap;\n",
              "    }\n",
              "  </style>\n",
              "  "
            ],
            "text/plain": [
              "<IPython.core.display.HTML object>"
            ]
          },
          "metadata": {}
        }
      ],
      "source": [
        "import pandas as pd\n",
        "from pycaret.classification import *\n",
        "from tqdm import tqdm"
      ]
    },
    {
      "cell_type": "markdown",
      "metadata": {
        "id": "dY5Xe-qIIoCl"
      },
      "source": [
        "# 데이콘 점수"
      ]
    },
    {
      "cell_type": "code",
      "execution_count": 6,
      "metadata": {
        "id": "YB6NWpeCIoCp",
        "colab": {
          "base_uri": "https://localhost:8080/",
          "height": 17
        },
        "outputId": "4612df06-c002-413d-fb2e-4e2e8ba2267c"
      },
      "outputs": [
        {
          "output_type": "display_data",
          "data": {
            "text/html": [
              "\n",
              "  <style>\n",
              "    pre {\n",
              "        white-space: pre-wrap;\n",
              "    }\n",
              "  </style>\n",
              "  "
            ],
            "text/plain": [
              "<IPython.core.display.HTML object>"
            ]
          },
          "metadata": {}
        }
      ],
      "source": [
        "# 제출 점수(제출 날짜) : 0.6809510894(0.6809510894)"
      ]
    },
    {
      "cell_type": "markdown",
      "metadata": {
        "id": "XE_glihWIoCs"
      },
      "source": [
        "# 설정"
      ]
    },
    {
      "cell_type": "code",
      "execution_count": 7,
      "metadata": {
        "id": "TLiSGYd_JpVi",
        "colab": {
          "base_uri": "https://localhost:8080/",
          "height": 17
        },
        "outputId": "8a14ab91-950f-4d8a-d6d1-8bf756943bc4"
      },
      "outputs": [
        {
          "output_type": "display_data",
          "data": {
            "text/html": [
              "\n",
              "  <style>\n",
              "    pre {\n",
              "        white-space: pre-wrap;\n",
              "    }\n",
              "  </style>\n",
              "  "
            ],
            "text/plain": [
              "<IPython.core.display.HTML object>"
            ]
          },
          "metadata": {}
        }
      ],
      "source": [
        "# pycaret : cat\n",
        "# probability_threshold : 0.2971\n",
        "# tune : ❌(자체 점수 떨어짐.)\n",
        "# combine\n",
        "# 순서형 특성 수치형으로 지정(4개)\n",
        "# 'person_attribute_a_a', 'person_attribute_b', 'person_prefer_e', 'contents_attribute_e'"
      ]
    },
    {
      "cell_type": "code",
      "execution_count": 8,
      "metadata": {
        "id": "Ut0DVlN0IoCv",
        "colab": {
          "base_uri": "https://localhost:8080/",
          "height": 17
        },
        "outputId": "3b1df15f-83ed-4fba-ef09-8dc8b2afea83"
      },
      "outputs": [
        {
          "output_type": "display_data",
          "data": {
            "text/html": [
              "\n",
              "  <style>\n",
              "    pre {\n",
              "        white-space: pre-wrap;\n",
              "    }\n",
              "  </style>\n",
              "  "
            ],
            "text/plain": [
              "<IPython.core.display.HTML object>"
            ]
          },
          "metadata": {}
        }
      ],
      "source": [
        "# 제거 특성(16개) : 기본5개 + 매칭 속성6개 + 5개(target별 차이 적은 특성)\n",
        "# 'id', 'contents_open_dt', 'person_prefer_f', 'person_prefer_g', 'contents_rn'\n",
        "# 'd_l_match_yn', 'd_m_match_yn', 'd_s_match_yn', 'h_l_match_yn', 'h_m_match_yn', 'h_s_match_yn'\n",
        "# 'person_attribute_a', 'person_attribute_a_1', 'contents_attribute_i', 'contents_attribute_a', 'contents_attribute_k'"
      ]
    },
    {
      "cell_type": "code",
      "source": [
        "# 매칭 속성"
      ],
      "metadata": {
        "id": "oDoSgo5XtNxP",
        "colab": {
          "base_uri": "https://localhost:8080/",
          "height": 17
        },
        "outputId": "177fd528-c586-439c-91d4-f9bc77eaaf49"
      },
      "execution_count": 9,
      "outputs": [
        {
          "output_type": "display_data",
          "data": {
            "text/html": [
              "\n",
              "  <style>\n",
              "    pre {\n",
              "        white-space: pre-wrap;\n",
              "    }\n",
              "  </style>\n",
              "  "
            ],
            "text/plain": [
              "<IPython.core.display.HTML object>"
            ]
          },
          "metadata": {}
        }
      ]
    },
    {
      "cell_type": "code",
      "source": [
        "# d_l_match_yn : 'person_prefer_d_1_l', 'contents_attribute_d_l' 매칭 여부\n",
        "# d_m_match_yn : 'person_prefer_d_1_n', 'contents_attribute_d_n' 매칭 여부'\n",
        "# d_s_match_yn : 'person_prefer_d_1', 'contents_attribute_d' 매칭 여부\n",
        "# h_l_match_yn : 'person_prefer_h_1_l', 'contents_attribute_h_l' 매칭 여부\n",
        "# h_m_match_yn : 'person_prefer_h_1_m', 'contents_attribute_h_m' 매칭 여부\n",
        "# h_s_match_yn : 'person_prefer_h_1', 'contents_attribute_h' 매칭 여부"
      ],
      "metadata": {
        "id": "YI9FzI5-tRu3",
        "colab": {
          "base_uri": "https://localhost:8080/",
          "height": 17
        },
        "outputId": "1710e4a0-38e9-491a-ed13-0f1188d591b8"
      },
      "execution_count": 10,
      "outputs": [
        {
          "output_type": "display_data",
          "data": {
            "text/html": [
              "\n",
              "  <style>\n",
              "    pre {\n",
              "        white-space: pre-wrap;\n",
              "    }\n",
              "  </style>\n",
              "  "
            ],
            "text/plain": [
              "<IPython.core.display.HTML object>"
            ]
          },
          "metadata": {}
        }
      ]
    },
    {
      "cell_type": "markdown",
      "metadata": {
        "id": "LYciDKCoIoCx"
      },
      "source": [
        "# 데이터 불러오기"
      ]
    },
    {
      "cell_type": "code",
      "execution_count": 40,
      "metadata": {
        "id": "q1pQyeEVIoCx",
        "colab": {
          "base_uri": "https://localhost:8080/",
          "height": 17
        },
        "outputId": "205f685c-ca01-49bb-f46d-67437a506504"
      },
      "outputs": [
        {
          "output_type": "display_data",
          "data": {
            "text/html": [
              "\n",
              "  <style>\n",
              "    pre {\n",
              "        white-space: pre-wrap;\n",
              "    }\n",
              "  </style>\n",
              "  "
            ],
            "text/plain": [
              "<IPython.core.display.HTML object>"
            ]
          },
          "metadata": {}
        }
      ],
      "source": [
        "# train = pd.read_csv('../data/train.csv')\n",
        "# test = pd.read_csv('../data/test.csv')\n",
        "train = pd.read_csv('/content/drive/MyDrive/GitHub/Dacon/TP2(잡케어)/data/df_train.csv')\n",
        "test = pd.read_csv('/content/drive/MyDrive/GitHub/Dacon/TP2(잡케어)/data/df_test.csv')"
      ]
    },
    {
      "cell_type": "markdown",
      "metadata": {
        "id": "Lxk2XFxsIoCy"
      },
      "source": [
        "# 데이터 확인"
      ]
    },
    {
      "cell_type": "code",
      "execution_count": 41,
      "metadata": {
        "colab": {
          "base_uri": "https://localhost:8080/",
          "height": 1000
        },
        "id": "riiqiXdAIoCz",
        "outputId": "1d0f6e3e-c40f-4bef-892c-89a6b0936090"
      },
      "outputs": [
        {
          "output_type": "display_data",
          "data": {
            "text/html": [
              "\n",
              "  <style>\n",
              "    pre {\n",
              "        white-space: pre-wrap;\n",
              "    }\n",
              "  </style>\n",
              "  "
            ],
            "text/plain": [
              "<IPython.core.display.HTML object>"
            ]
          },
          "metadata": {}
        },
        {
          "output_type": "stream",
          "name": "stdout",
          "text": [
            "<class 'pandas.core.frame.DataFrame'>\n",
            "RangeIndex: 501951 entries, 0 to 501950\n",
            "Data columns (total 63 columns):\n",
            " #   Column                  Non-Null Count   Dtype \n",
            "---  ------                  --------------   ----- \n",
            " 0   id                      501951 non-null  int64 \n",
            " 1   d_l_match_yn            501951 non-null  bool  \n",
            " 2   d_m_match_yn            501951 non-null  bool  \n",
            " 3   d_s_match_yn            501951 non-null  bool  \n",
            " 4   h_l_match_yn            501951 non-null  bool  \n",
            " 5   h_m_match_yn            501951 non-null  bool  \n",
            " 6   h_s_match_yn            501951 non-null  bool  \n",
            " 7   person_attribute_a      501951 non-null  int64 \n",
            " 8   person_attribute_a_1    501951 non-null  int64 \n",
            " 9   person_attribute_b      501951 non-null  int64 \n",
            " 10  person_prefer_c         501951 non-null  int64 \n",
            " 11  person_prefer_d_1       501951 non-null  int64 \n",
            " 12  person_prefer_d_2       501951 non-null  int64 \n",
            " 13  person_prefer_d_3       501951 non-null  int64 \n",
            " 14  person_prefer_e         501951 non-null  int64 \n",
            " 15  person_prefer_f         501951 non-null  int64 \n",
            " 16  person_prefer_g         501951 non-null  int64 \n",
            " 17  person_prefer_h_1       501951 non-null  int64 \n",
            " 18  person_prefer_h_2       501951 non-null  int64 \n",
            " 19  person_prefer_h_3       501951 non-null  int64 \n",
            " 20  contents_attribute_i    501951 non-null  int64 \n",
            " 21  contents_attribute_a    501951 non-null  int64 \n",
            " 22  contents_attribute_j_1  501951 non-null  int64 \n",
            " 23  contents_attribute_j    501951 non-null  int64 \n",
            " 24  contents_attribute_c    501951 non-null  int64 \n",
            " 25  contents_attribute_k    501951 non-null  int64 \n",
            " 26  contents_attribute_l    501951 non-null  int64 \n",
            " 27  contents_attribute_d    501951 non-null  int64 \n",
            " 28  contents_attribute_m    501951 non-null  int64 \n",
            " 29  contents_attribute_e    501951 non-null  int64 \n",
            " 30  contents_attribute_h    501951 non-null  int64 \n",
            " 31  person_rn               501951 non-null  int64 \n",
            " 32  contents_rn             501951 non-null  int64 \n",
            " 33  contents_open_dt        501951 non-null  object\n",
            " 34  target                  501951 non-null  int64 \n",
            " 35  person_prefer_d_1_n     501951 non-null  int64 \n",
            " 36  person_prefer_d_1_s     501951 non-null  int64 \n",
            " 37  person_prefer_d_1_m     501951 non-null  int64 \n",
            " 38  person_prefer_d_1_l     501951 non-null  int64 \n",
            " 39  person_prefer_d_2_n     501951 non-null  int64 \n",
            " 40  person_prefer_d_2_s     501951 non-null  int64 \n",
            " 41  person_prefer_d_2_m     501951 non-null  int64 \n",
            " 42  person_prefer_d_2_l     501951 non-null  int64 \n",
            " 43  person_prefer_d_3_n     501951 non-null  int64 \n",
            " 44  person_prefer_d_3_s     501951 non-null  int64 \n",
            " 45  person_prefer_d_3_m     501951 non-null  int64 \n",
            " 46  person_prefer_d_3_l     501951 non-null  int64 \n",
            " 47  contents_attribute_d_n  501951 non-null  int64 \n",
            " 48  contents_attribute_d_s  501951 non-null  int64 \n",
            " 49  contents_attribute_d_m  501951 non-null  int64 \n",
            " 50  contents_attribute_d_l  501951 non-null  int64 \n",
            " 51  person_prefer_h_1_m     501951 non-null  int64 \n",
            " 52  person_prefer_h_1_l     501951 non-null  int64 \n",
            " 53  person_prefer_h_2_m     501951 non-null  int64 \n",
            " 54  person_prefer_h_2_l     501951 non-null  int64 \n",
            " 55  person_prefer_h_3_m     501951 non-null  int64 \n",
            " 56  person_prefer_h_3_l     501951 non-null  int64 \n",
            " 57  contents_attribute_h_m  501951 non-null  int64 \n",
            " 58  contents_attribute_h_l  501951 non-null  int64 \n",
            " 59  contents_attribute_l_n  501951 non-null  int64 \n",
            " 60  contents_attribute_l_s  501951 non-null  int64 \n",
            " 61  contents_attribute_l_m  501951 non-null  int64 \n",
            " 62  contents_attribute_l_l  501951 non-null  int64 \n",
            "dtypes: bool(6), int64(56), object(1)\n",
            "memory usage: 221.2+ MB\n"
          ]
        }
      ],
      "source": [
        "train.info()"
      ]
    },
    {
      "cell_type": "code",
      "execution_count": 42,
      "metadata": {
        "colab": {
          "base_uri": "https://localhost:8080/",
          "height": 357
        },
        "id": "5_ZyaFcPIoC0",
        "outputId": "4450b3d9-a421-4079-a870-cbf216c24ec9"
      },
      "outputs": [
        {
          "output_type": "display_data",
          "data": {
            "text/html": [
              "\n",
              "  <style>\n",
              "    pre {\n",
              "        white-space: pre-wrap;\n",
              "    }\n",
              "  </style>\n",
              "  "
            ],
            "text/plain": [
              "<IPython.core.display.HTML object>"
            ]
          },
          "metadata": {}
        },
        {
          "output_type": "execute_result",
          "data": {
            "text/html": [
              "\n",
              "  <div id=\"df-148c7950-b96d-4c25-8588-b9c9e5f4e744\">\n",
              "    <div class=\"colab-df-container\">\n",
              "      <div>\n",
              "<style scoped>\n",
              "    .dataframe tbody tr th:only-of-type {\n",
              "        vertical-align: middle;\n",
              "    }\n",
              "\n",
              "    .dataframe tbody tr th {\n",
              "        vertical-align: top;\n",
              "    }\n",
              "\n",
              "    .dataframe thead th {\n",
              "        text-align: right;\n",
              "    }\n",
              "</style>\n",
              "<table border=\"1\" class=\"dataframe\">\n",
              "  <thead>\n",
              "    <tr style=\"text-align: right;\">\n",
              "      <th></th>\n",
              "      <th>id</th>\n",
              "      <th>d_l_match_yn</th>\n",
              "      <th>d_m_match_yn</th>\n",
              "      <th>d_s_match_yn</th>\n",
              "      <th>h_l_match_yn</th>\n",
              "      <th>h_m_match_yn</th>\n",
              "      <th>h_s_match_yn</th>\n",
              "      <th>person_attribute_a</th>\n",
              "      <th>person_attribute_a_1</th>\n",
              "      <th>person_attribute_b</th>\n",
              "      <th>person_prefer_c</th>\n",
              "      <th>person_prefer_d_1</th>\n",
              "      <th>person_prefer_d_2</th>\n",
              "      <th>person_prefer_d_3</th>\n",
              "      <th>person_prefer_e</th>\n",
              "      <th>person_prefer_f</th>\n",
              "      <th>person_prefer_g</th>\n",
              "      <th>person_prefer_h_1</th>\n",
              "      <th>person_prefer_h_2</th>\n",
              "      <th>person_prefer_h_3</th>\n",
              "      <th>contents_attribute_i</th>\n",
              "      <th>contents_attribute_a</th>\n",
              "      <th>contents_attribute_j_1</th>\n",
              "      <th>contents_attribute_j</th>\n",
              "      <th>contents_attribute_c</th>\n",
              "      <th>contents_attribute_k</th>\n",
              "      <th>contents_attribute_l</th>\n",
              "      <th>contents_attribute_d</th>\n",
              "      <th>contents_attribute_m</th>\n",
              "      <th>contents_attribute_e</th>\n",
              "      <th>contents_attribute_h</th>\n",
              "      <th>person_rn</th>\n",
              "      <th>contents_rn</th>\n",
              "      <th>contents_open_dt</th>\n",
              "      <th>target</th>\n",
              "      <th>person_prefer_d_1_n</th>\n",
              "      <th>person_prefer_d_1_s</th>\n",
              "      <th>person_prefer_d_1_m</th>\n",
              "      <th>person_prefer_d_1_l</th>\n",
              "      <th>person_prefer_d_2_n</th>\n",
              "      <th>person_prefer_d_2_s</th>\n",
              "      <th>person_prefer_d_2_m</th>\n",
              "      <th>person_prefer_d_2_l</th>\n",
              "      <th>person_prefer_d_3_n</th>\n",
              "      <th>person_prefer_d_3_s</th>\n",
              "      <th>person_prefer_d_3_m</th>\n",
              "      <th>person_prefer_d_3_l</th>\n",
              "      <th>contents_attribute_d_n</th>\n",
              "      <th>contents_attribute_d_s</th>\n",
              "      <th>contents_attribute_d_m</th>\n",
              "      <th>contents_attribute_d_l</th>\n",
              "      <th>person_prefer_h_1_m</th>\n",
              "      <th>person_prefer_h_1_l</th>\n",
              "      <th>person_prefer_h_2_m</th>\n",
              "      <th>person_prefer_h_2_l</th>\n",
              "      <th>person_prefer_h_3_m</th>\n",
              "      <th>person_prefer_h_3_l</th>\n",
              "      <th>contents_attribute_h_m</th>\n",
              "      <th>contents_attribute_h_l</th>\n",
              "      <th>contents_attribute_l_n</th>\n",
              "      <th>contents_attribute_l_s</th>\n",
              "      <th>contents_attribute_l_m</th>\n",
              "      <th>contents_attribute_l_l</th>\n",
              "    </tr>\n",
              "  </thead>\n",
              "  <tbody>\n",
              "    <tr>\n",
              "      <th>0</th>\n",
              "      <td>0</td>\n",
              "      <td>True</td>\n",
              "      <td>True</td>\n",
              "      <td>True</td>\n",
              "      <td>False</td>\n",
              "      <td>False</td>\n",
              "      <td>False</td>\n",
              "      <td>1</td>\n",
              "      <td>4</td>\n",
              "      <td>3</td>\n",
              "      <td>5</td>\n",
              "      <td>275</td>\n",
              "      <td>370</td>\n",
              "      <td>369</td>\n",
              "      <td>8</td>\n",
              "      <td>1</td>\n",
              "      <td>1</td>\n",
              "      <td>4</td>\n",
              "      <td>95</td>\n",
              "      <td>59</td>\n",
              "      <td>3</td>\n",
              "      <td>3</td>\n",
              "      <td>10</td>\n",
              "      <td>2</td>\n",
              "      <td>1</td>\n",
              "      <td>2</td>\n",
              "      <td>1608</td>\n",
              "      <td>275</td>\n",
              "      <td>1</td>\n",
              "      <td>4</td>\n",
              "      <td>139</td>\n",
              "      <td>618822</td>\n",
              "      <td>354805</td>\n",
              "      <td>2020-01-17 12:09:36</td>\n",
              "      <td>1</td>\n",
              "      <td>275</td>\n",
              "      <td>274</td>\n",
              "      <td>274</td>\n",
              "      <td>216</td>\n",
              "      <td>369</td>\n",
              "      <td>368</td>\n",
              "      <td>297</td>\n",
              "      <td>216</td>\n",
              "      <td>369</td>\n",
              "      <td>368</td>\n",
              "      <td>297</td>\n",
              "      <td>216</td>\n",
              "      <td>275</td>\n",
              "      <td>274</td>\n",
              "      <td>274</td>\n",
              "      <td>216</td>\n",
              "      <td>316</td>\n",
              "      <td>3</td>\n",
              "      <td>398</td>\n",
              "      <td>94</td>\n",
              "      <td>368</td>\n",
              "      <td>58</td>\n",
              "      <td>422</td>\n",
              "      <td>94</td>\n",
              "      <td>1607</td>\n",
              "      <td>1606</td>\n",
              "      <td>1605</td>\n",
              "      <td>2016</td>\n",
              "    </tr>\n",
              "    <tr>\n",
              "      <th>1</th>\n",
              "      <td>1</td>\n",
              "      <td>False</td>\n",
              "      <td>False</td>\n",
              "      <td>False</td>\n",
              "      <td>True</td>\n",
              "      <td>True</td>\n",
              "      <td>False</td>\n",
              "      <td>1</td>\n",
              "      <td>3</td>\n",
              "      <td>4</td>\n",
              "      <td>1</td>\n",
              "      <td>114</td>\n",
              "      <td>181</td>\n",
              "      <td>175</td>\n",
              "      <td>4</td>\n",
              "      <td>1</td>\n",
              "      <td>1</td>\n",
              "      <td>131</td>\n",
              "      <td>101</td>\n",
              "      <td>96</td>\n",
              "      <td>1</td>\n",
              "      <td>3</td>\n",
              "      <td>5</td>\n",
              "      <td>1</td>\n",
              "      <td>1</td>\n",
              "      <td>2</td>\n",
              "      <td>1608</td>\n",
              "      <td>275</td>\n",
              "      <td>1</td>\n",
              "      <td>4</td>\n",
              "      <td>133</td>\n",
              "      <td>571659</td>\n",
              "      <td>346213</td>\n",
              "      <td>2020-06-18 17:48:52</td>\n",
              "      <td>0</td>\n",
              "      <td>114</td>\n",
              "      <td>109</td>\n",
              "      <td>56</td>\n",
              "      <td>1</td>\n",
              "      <td>175</td>\n",
              "      <td>152</td>\n",
              "      <td>56</td>\n",
              "      <td>1</td>\n",
              "      <td>175</td>\n",
              "      <td>152</td>\n",
              "      <td>56</td>\n",
              "      <td>1</td>\n",
              "      <td>275</td>\n",
              "      <td>274</td>\n",
              "      <td>274</td>\n",
              "      <td>216</td>\n",
              "      <td>417</td>\n",
              "      <td>94</td>\n",
              "      <td>400</td>\n",
              "      <td>94</td>\n",
              "      <td>399</td>\n",
              "      <td>94</td>\n",
              "      <td>417</td>\n",
              "      <td>94</td>\n",
              "      <td>1607</td>\n",
              "      <td>1606</td>\n",
              "      <td>1605</td>\n",
              "      <td>2016</td>\n",
              "    </tr>\n",
              "    <tr>\n",
              "      <th>2</th>\n",
              "      <td>2</td>\n",
              "      <td>False</td>\n",
              "      <td>False</td>\n",
              "      <td>False</td>\n",
              "      <td>True</td>\n",
              "      <td>False</td>\n",
              "      <td>False</td>\n",
              "      <td>2</td>\n",
              "      <td>0</td>\n",
              "      <td>3</td>\n",
              "      <td>5</td>\n",
              "      <td>464</td>\n",
              "      <td>175</td>\n",
              "      <td>452</td>\n",
              "      <td>3</td>\n",
              "      <td>1</td>\n",
              "      <td>1</td>\n",
              "      <td>54</td>\n",
              "      <td>263</td>\n",
              "      <td>56</td>\n",
              "      <td>3</td>\n",
              "      <td>1</td>\n",
              "      <td>10</td>\n",
              "      <td>2</td>\n",
              "      <td>1</td>\n",
              "      <td>1</td>\n",
              "      <td>1600</td>\n",
              "      <td>94</td>\n",
              "      <td>1</td>\n",
              "      <td>4</td>\n",
              "      <td>53</td>\n",
              "      <td>399816</td>\n",
              "      <td>206408</td>\n",
              "      <td>2020-07-08 20:00:10</td>\n",
              "      <td>0</td>\n",
              "      <td>464</td>\n",
              "      <td>463</td>\n",
              "      <td>450</td>\n",
              "      <td>377</td>\n",
              "      <td>175</td>\n",
              "      <td>152</td>\n",
              "      <td>56</td>\n",
              "      <td>1</td>\n",
              "      <td>452</td>\n",
              "      <td>451</td>\n",
              "      <td>450</td>\n",
              "      <td>377</td>\n",
              "      <td>92</td>\n",
              "      <td>91</td>\n",
              "      <td>56</td>\n",
              "      <td>1</td>\n",
              "      <td>364</td>\n",
              "      <td>48</td>\n",
              "      <td>528</td>\n",
              "      <td>250</td>\n",
              "      <td>366</td>\n",
              "      <td>48</td>\n",
              "      <td>363</td>\n",
              "      <td>48</td>\n",
              "      <td>1599</td>\n",
              "      <td>1595</td>\n",
              "      <td>1572</td>\n",
              "      <td>2016</td>\n",
              "    </tr>\n",
              "    <tr>\n",
              "      <th>3</th>\n",
              "      <td>3</td>\n",
              "      <td>False</td>\n",
              "      <td>False</td>\n",
              "      <td>False</td>\n",
              "      <td>True</td>\n",
              "      <td>False</td>\n",
              "      <td>False</td>\n",
              "      <td>2</td>\n",
              "      <td>0</td>\n",
              "      <td>2</td>\n",
              "      <td>5</td>\n",
              "      <td>703</td>\n",
              "      <td>705</td>\n",
              "      <td>704</td>\n",
              "      <td>3</td>\n",
              "      <td>1</td>\n",
              "      <td>1</td>\n",
              "      <td>72</td>\n",
              "      <td>227</td>\n",
              "      <td>2</td>\n",
              "      <td>1</td>\n",
              "      <td>3</td>\n",
              "      <td>5</td>\n",
              "      <td>1</td>\n",
              "      <td>1</td>\n",
              "      <td>2</td>\n",
              "      <td>1608</td>\n",
              "      <td>275</td>\n",
              "      <td>5</td>\n",
              "      <td>3</td>\n",
              "      <td>74</td>\n",
              "      <td>827967</td>\n",
              "      <td>572323</td>\n",
              "      <td>2020-01-13 18:09:34</td>\n",
              "      <td>0</td>\n",
              "      <td>703</td>\n",
              "      <td>703</td>\n",
              "      <td>690</td>\n",
              "      <td>618</td>\n",
              "      <td>703</td>\n",
              "      <td>703</td>\n",
              "      <td>690</td>\n",
              "      <td>618</td>\n",
              "      <td>703</td>\n",
              "      <td>703</td>\n",
              "      <td>690</td>\n",
              "      <td>618</td>\n",
              "      <td>275</td>\n",
              "      <td>274</td>\n",
              "      <td>274</td>\n",
              "      <td>216</td>\n",
              "      <td>379</td>\n",
              "      <td>71</td>\n",
              "      <td>495</td>\n",
              "      <td>226</td>\n",
              "      <td>315</td>\n",
              "      <td>1</td>\n",
              "      <td>381</td>\n",
              "      <td>71</td>\n",
              "      <td>1607</td>\n",
              "      <td>1606</td>\n",
              "      <td>1605</td>\n",
              "      <td>2016</td>\n",
              "    </tr>\n",
              "    <tr>\n",
              "      <th>4</th>\n",
              "      <td>4</td>\n",
              "      <td>True</td>\n",
              "      <td>True</td>\n",
              "      <td>True</td>\n",
              "      <td>False</td>\n",
              "      <td>False</td>\n",
              "      <td>False</td>\n",
              "      <td>1</td>\n",
              "      <td>3</td>\n",
              "      <td>4</td>\n",
              "      <td>5</td>\n",
              "      <td>275</td>\n",
              "      <td>370</td>\n",
              "      <td>369</td>\n",
              "      <td>4</td>\n",
              "      <td>1</td>\n",
              "      <td>1</td>\n",
              "      <td>214</td>\n",
              "      <td>210</td>\n",
              "      <td>209</td>\n",
              "      <td>1</td>\n",
              "      <td>1</td>\n",
              "      <td>10</td>\n",
              "      <td>2</td>\n",
              "      <td>1</td>\n",
              "      <td>2</td>\n",
              "      <td>1608</td>\n",
              "      <td>275</td>\n",
              "      <td>1</td>\n",
              "      <td>4</td>\n",
              "      <td>74</td>\n",
              "      <td>831614</td>\n",
              "      <td>573899</td>\n",
              "      <td>2020-03-09 20:39:22</td>\n",
              "      <td>0</td>\n",
              "      <td>275</td>\n",
              "      <td>274</td>\n",
              "      <td>274</td>\n",
              "      <td>216</td>\n",
              "      <td>369</td>\n",
              "      <td>368</td>\n",
              "      <td>297</td>\n",
              "      <td>216</td>\n",
              "      <td>369</td>\n",
              "      <td>368</td>\n",
              "      <td>297</td>\n",
              "      <td>216</td>\n",
              "      <td>275</td>\n",
              "      <td>274</td>\n",
              "      <td>274</td>\n",
              "      <td>216</td>\n",
              "      <td>483</td>\n",
              "      <td>208</td>\n",
              "      <td>481</td>\n",
              "      <td>208</td>\n",
              "      <td>480</td>\n",
              "      <td>208</td>\n",
              "      <td>381</td>\n",
              "      <td>71</td>\n",
              "      <td>1607</td>\n",
              "      <td>1606</td>\n",
              "      <td>1605</td>\n",
              "      <td>2016</td>\n",
              "    </tr>\n",
              "  </tbody>\n",
              "</table>\n",
              "</div>\n",
              "      <button class=\"colab-df-convert\" onclick=\"convertToInteractive('df-148c7950-b96d-4c25-8588-b9c9e5f4e744')\"\n",
              "              title=\"Convert this dataframe to an interactive table.\"\n",
              "              style=\"display:none;\">\n",
              "        \n",
              "  <svg xmlns=\"http://www.w3.org/2000/svg\" height=\"24px\"viewBox=\"0 0 24 24\"\n",
              "       width=\"24px\">\n",
              "    <path d=\"M0 0h24v24H0V0z\" fill=\"none\"/>\n",
              "    <path d=\"M18.56 5.44l.94 2.06.94-2.06 2.06-.94-2.06-.94-.94-2.06-.94 2.06-2.06.94zm-11 1L8.5 8.5l.94-2.06 2.06-.94-2.06-.94L8.5 2.5l-.94 2.06-2.06.94zm10 10l.94 2.06.94-2.06 2.06-.94-2.06-.94-.94-2.06-.94 2.06-2.06.94z\"/><path d=\"M17.41 7.96l-1.37-1.37c-.4-.4-.92-.59-1.43-.59-.52 0-1.04.2-1.43.59L10.3 9.45l-7.72 7.72c-.78.78-.78 2.05 0 2.83L4 21.41c.39.39.9.59 1.41.59.51 0 1.02-.2 1.41-.59l7.78-7.78 2.81-2.81c.8-.78.8-2.07 0-2.86zM5.41 20L4 18.59l7.72-7.72 1.47 1.35L5.41 20z\"/>\n",
              "  </svg>\n",
              "      </button>\n",
              "      \n",
              "  <style>\n",
              "    .colab-df-container {\n",
              "      display:flex;\n",
              "      flex-wrap:wrap;\n",
              "      gap: 12px;\n",
              "    }\n",
              "\n",
              "    .colab-df-convert {\n",
              "      background-color: #E8F0FE;\n",
              "      border: none;\n",
              "      border-radius: 50%;\n",
              "      cursor: pointer;\n",
              "      display: none;\n",
              "      fill: #1967D2;\n",
              "      height: 32px;\n",
              "      padding: 0 0 0 0;\n",
              "      width: 32px;\n",
              "    }\n",
              "\n",
              "    .colab-df-convert:hover {\n",
              "      background-color: #E2EBFA;\n",
              "      box-shadow: 0px 1px 2px rgba(60, 64, 67, 0.3), 0px 1px 3px 1px rgba(60, 64, 67, 0.15);\n",
              "      fill: #174EA6;\n",
              "    }\n",
              "\n",
              "    [theme=dark] .colab-df-convert {\n",
              "      background-color: #3B4455;\n",
              "      fill: #D2E3FC;\n",
              "    }\n",
              "\n",
              "    [theme=dark] .colab-df-convert:hover {\n",
              "      background-color: #434B5C;\n",
              "      box-shadow: 0px 1px 3px 1px rgba(0, 0, 0, 0.15);\n",
              "      filter: drop-shadow(0px 1px 2px rgba(0, 0, 0, 0.3));\n",
              "      fill: #FFFFFF;\n",
              "    }\n",
              "  </style>\n",
              "\n",
              "      <script>\n",
              "        const buttonEl =\n",
              "          document.querySelector('#df-148c7950-b96d-4c25-8588-b9c9e5f4e744 button.colab-df-convert');\n",
              "        buttonEl.style.display =\n",
              "          google.colab.kernel.accessAllowed ? 'block' : 'none';\n",
              "\n",
              "        async function convertToInteractive(key) {\n",
              "          const element = document.querySelector('#df-148c7950-b96d-4c25-8588-b9c9e5f4e744');\n",
              "          const dataTable =\n",
              "            await google.colab.kernel.invokeFunction('convertToInteractive',\n",
              "                                                     [key], {});\n",
              "          if (!dataTable) return;\n",
              "\n",
              "          const docLinkHtml = 'Like what you see? Visit the ' +\n",
              "            '<a target=\"_blank\" href=https://colab.research.google.com/notebooks/data_table.ipynb>data table notebook</a>'\n",
              "            + ' to learn more about interactive tables.';\n",
              "          element.innerHTML = '';\n",
              "          dataTable['output_type'] = 'display_data';\n",
              "          await google.colab.output.renderOutput(dataTable, element);\n",
              "          const docLink = document.createElement('div');\n",
              "          docLink.innerHTML = docLinkHtml;\n",
              "          element.appendChild(docLink);\n",
              "        }\n",
              "      </script>\n",
              "    </div>\n",
              "  </div>\n",
              "  "
            ],
            "text/plain": [
              "   id  d_l_match_yn  ...  contents_attribute_l_m  contents_attribute_l_l\n",
              "0   0          True  ...                    1605                    2016\n",
              "1   1         False  ...                    1605                    2016\n",
              "2   2         False  ...                    1572                    2016\n",
              "3   3         False  ...                    1605                    2016\n",
              "4   4          True  ...                    1605                    2016\n",
              "\n",
              "[5 rows x 63 columns]"
            ]
          },
          "metadata": {},
          "execution_count": 42
        }
      ],
      "source": [
        "train.head()"
      ]
    },
    {
      "cell_type": "code",
      "execution_count": 43,
      "metadata": {
        "colab": {
          "base_uri": "https://localhost:8080/",
          "height": 1000
        },
        "id": "DsPY14ZKIoC1",
        "outputId": "dd6724e6-5556-415d-89af-d2296efed658"
      },
      "outputs": [
        {
          "output_type": "display_data",
          "data": {
            "text/html": [
              "\n",
              "  <style>\n",
              "    pre {\n",
              "        white-space: pre-wrap;\n",
              "    }\n",
              "  </style>\n",
              "  "
            ],
            "text/plain": [
              "<IPython.core.display.HTML object>"
            ]
          },
          "metadata": {}
        },
        {
          "output_type": "stream",
          "name": "stdout",
          "text": [
            "<class 'pandas.core.frame.DataFrame'>\n",
            "RangeIndex: 46404 entries, 0 to 46403\n",
            "Data columns (total 62 columns):\n",
            " #   Column                  Non-Null Count  Dtype \n",
            "---  ------                  --------------  ----- \n",
            " 0   id                      46404 non-null  int64 \n",
            " 1   d_l_match_yn            46404 non-null  bool  \n",
            " 2   d_m_match_yn            46404 non-null  bool  \n",
            " 3   d_s_match_yn            46404 non-null  bool  \n",
            " 4   h_l_match_yn            46404 non-null  bool  \n",
            " 5   h_m_match_yn            46404 non-null  bool  \n",
            " 6   h_s_match_yn            46404 non-null  bool  \n",
            " 7   person_attribute_a      46404 non-null  int64 \n",
            " 8   person_attribute_a_1    46404 non-null  int64 \n",
            " 9   person_attribute_b      46404 non-null  int64 \n",
            " 10  person_prefer_c         46404 non-null  int64 \n",
            " 11  person_prefer_d_1       46404 non-null  int64 \n",
            " 12  person_prefer_d_2       46404 non-null  int64 \n",
            " 13  person_prefer_d_3       46404 non-null  int64 \n",
            " 14  person_prefer_e         46404 non-null  int64 \n",
            " 15  person_prefer_f         46404 non-null  int64 \n",
            " 16  person_prefer_g         46404 non-null  int64 \n",
            " 17  person_prefer_h_1       46404 non-null  int64 \n",
            " 18  person_prefer_h_2       46404 non-null  int64 \n",
            " 19  person_prefer_h_3       46404 non-null  int64 \n",
            " 20  contents_attribute_i    46404 non-null  int64 \n",
            " 21  contents_attribute_a    46404 non-null  int64 \n",
            " 22  contents_attribute_j_1  46404 non-null  int64 \n",
            " 23  contents_attribute_j    46404 non-null  int64 \n",
            " 24  contents_attribute_c    46404 non-null  int64 \n",
            " 25  contents_attribute_k    46404 non-null  int64 \n",
            " 26  contents_attribute_l    46404 non-null  int64 \n",
            " 27  contents_attribute_d    46404 non-null  int64 \n",
            " 28  contents_attribute_m    46404 non-null  int64 \n",
            " 29  contents_attribute_e    46404 non-null  int64 \n",
            " 30  contents_attribute_h    46404 non-null  int64 \n",
            " 31  person_rn               46404 non-null  int64 \n",
            " 32  contents_rn             46404 non-null  int64 \n",
            " 33  contents_open_dt        46404 non-null  object\n",
            " 34  person_prefer_d_1_n     46404 non-null  int64 \n",
            " 35  person_prefer_d_1_s     46404 non-null  int64 \n",
            " 36  person_prefer_d_1_m     46404 non-null  int64 \n",
            " 37  person_prefer_d_1_l     46404 non-null  int64 \n",
            " 38  person_prefer_d_2_n     46404 non-null  int64 \n",
            " 39  person_prefer_d_2_s     46404 non-null  int64 \n",
            " 40  person_prefer_d_2_m     46404 non-null  int64 \n",
            " 41  person_prefer_d_2_l     46404 non-null  int64 \n",
            " 42  person_prefer_d_3_n     46404 non-null  int64 \n",
            " 43  person_prefer_d_3_s     46404 non-null  int64 \n",
            " 44  person_prefer_d_3_m     46404 non-null  int64 \n",
            " 45  person_prefer_d_3_l     46404 non-null  int64 \n",
            " 46  contents_attribute_d_n  46404 non-null  int64 \n",
            " 47  contents_attribute_d_s  46404 non-null  int64 \n",
            " 48  contents_attribute_d_m  46404 non-null  int64 \n",
            " 49  contents_attribute_d_l  46404 non-null  int64 \n",
            " 50  person_prefer_h_1_m     46404 non-null  int64 \n",
            " 51  person_prefer_h_1_l     46404 non-null  int64 \n",
            " 52  person_prefer_h_2_m     46404 non-null  int64 \n",
            " 53  person_prefer_h_2_l     46404 non-null  int64 \n",
            " 54  person_prefer_h_3_m     46404 non-null  int64 \n",
            " 55  person_prefer_h_3_l     46404 non-null  int64 \n",
            " 56  contents_attribute_h_m  46404 non-null  int64 \n",
            " 57  contents_attribute_h_l  46404 non-null  int64 \n",
            " 58  contents_attribute_l_n  46404 non-null  int64 \n",
            " 59  contents_attribute_l_s  46404 non-null  int64 \n",
            " 60  contents_attribute_l_m  46404 non-null  int64 \n",
            " 61  contents_attribute_l_l  46404 non-null  int64 \n",
            "dtypes: bool(6), int64(55), object(1)\n",
            "memory usage: 20.1+ MB\n"
          ]
        }
      ],
      "source": [
        "test.info()"
      ]
    },
    {
      "cell_type": "code",
      "execution_count": 44,
      "metadata": {
        "colab": {
          "base_uri": "https://localhost:8080/",
          "height": 357
        },
        "id": "R1D7oZv7IoC2",
        "outputId": "f48a63f9-6b07-4959-cf03-d35570631c18"
      },
      "outputs": [
        {
          "output_type": "display_data",
          "data": {
            "text/html": [
              "\n",
              "  <style>\n",
              "    pre {\n",
              "        white-space: pre-wrap;\n",
              "    }\n",
              "  </style>\n",
              "  "
            ],
            "text/plain": [
              "<IPython.core.display.HTML object>"
            ]
          },
          "metadata": {}
        },
        {
          "output_type": "execute_result",
          "data": {
            "text/html": [
              "\n",
              "  <div id=\"df-c882c61b-cd03-4373-a949-04328c6424da\">\n",
              "    <div class=\"colab-df-container\">\n",
              "      <div>\n",
              "<style scoped>\n",
              "    .dataframe tbody tr th:only-of-type {\n",
              "        vertical-align: middle;\n",
              "    }\n",
              "\n",
              "    .dataframe tbody tr th {\n",
              "        vertical-align: top;\n",
              "    }\n",
              "\n",
              "    .dataframe thead th {\n",
              "        text-align: right;\n",
              "    }\n",
              "</style>\n",
              "<table border=\"1\" class=\"dataframe\">\n",
              "  <thead>\n",
              "    <tr style=\"text-align: right;\">\n",
              "      <th></th>\n",
              "      <th>id</th>\n",
              "      <th>d_l_match_yn</th>\n",
              "      <th>d_m_match_yn</th>\n",
              "      <th>d_s_match_yn</th>\n",
              "      <th>h_l_match_yn</th>\n",
              "      <th>h_m_match_yn</th>\n",
              "      <th>h_s_match_yn</th>\n",
              "      <th>person_attribute_a</th>\n",
              "      <th>person_attribute_a_1</th>\n",
              "      <th>person_attribute_b</th>\n",
              "      <th>person_prefer_c</th>\n",
              "      <th>person_prefer_d_1</th>\n",
              "      <th>person_prefer_d_2</th>\n",
              "      <th>person_prefer_d_3</th>\n",
              "      <th>person_prefer_e</th>\n",
              "      <th>person_prefer_f</th>\n",
              "      <th>person_prefer_g</th>\n",
              "      <th>person_prefer_h_1</th>\n",
              "      <th>person_prefer_h_2</th>\n",
              "      <th>person_prefer_h_3</th>\n",
              "      <th>contents_attribute_i</th>\n",
              "      <th>contents_attribute_a</th>\n",
              "      <th>contents_attribute_j_1</th>\n",
              "      <th>contents_attribute_j</th>\n",
              "      <th>contents_attribute_c</th>\n",
              "      <th>contents_attribute_k</th>\n",
              "      <th>contents_attribute_l</th>\n",
              "      <th>contents_attribute_d</th>\n",
              "      <th>contents_attribute_m</th>\n",
              "      <th>contents_attribute_e</th>\n",
              "      <th>contents_attribute_h</th>\n",
              "      <th>person_rn</th>\n",
              "      <th>contents_rn</th>\n",
              "      <th>contents_open_dt</th>\n",
              "      <th>person_prefer_d_1_n</th>\n",
              "      <th>person_prefer_d_1_s</th>\n",
              "      <th>person_prefer_d_1_m</th>\n",
              "      <th>person_prefer_d_1_l</th>\n",
              "      <th>person_prefer_d_2_n</th>\n",
              "      <th>person_prefer_d_2_s</th>\n",
              "      <th>person_prefer_d_2_m</th>\n",
              "      <th>person_prefer_d_2_l</th>\n",
              "      <th>person_prefer_d_3_n</th>\n",
              "      <th>person_prefer_d_3_s</th>\n",
              "      <th>person_prefer_d_3_m</th>\n",
              "      <th>person_prefer_d_3_l</th>\n",
              "      <th>contents_attribute_d_n</th>\n",
              "      <th>contents_attribute_d_s</th>\n",
              "      <th>contents_attribute_d_m</th>\n",
              "      <th>contents_attribute_d_l</th>\n",
              "      <th>person_prefer_h_1_m</th>\n",
              "      <th>person_prefer_h_1_l</th>\n",
              "      <th>person_prefer_h_2_m</th>\n",
              "      <th>person_prefer_h_2_l</th>\n",
              "      <th>person_prefer_h_3_m</th>\n",
              "      <th>person_prefer_h_3_l</th>\n",
              "      <th>contents_attribute_h_m</th>\n",
              "      <th>contents_attribute_h_l</th>\n",
              "      <th>contents_attribute_l_n</th>\n",
              "      <th>contents_attribute_l_s</th>\n",
              "      <th>contents_attribute_l_m</th>\n",
              "      <th>contents_attribute_l_l</th>\n",
              "    </tr>\n",
              "  </thead>\n",
              "  <tbody>\n",
              "    <tr>\n",
              "      <th>0</th>\n",
              "      <td>0</td>\n",
              "      <td>True</td>\n",
              "      <td>False</td>\n",
              "      <td>False</td>\n",
              "      <td>True</td>\n",
              "      <td>True</td>\n",
              "      <td>True</td>\n",
              "      <td>1</td>\n",
              "      <td>1</td>\n",
              "      <td>2</td>\n",
              "      <td>1</td>\n",
              "      <td>857</td>\n",
              "      <td>851</td>\n",
              "      <td>1227</td>\n",
              "      <td>4</td>\n",
              "      <td>1</td>\n",
              "      <td>1</td>\n",
              "      <td>263</td>\n",
              "      <td>56</td>\n",
              "      <td>49</td>\n",
              "      <td>1</td>\n",
              "      <td>3</td>\n",
              "      <td>10</td>\n",
              "      <td>2</td>\n",
              "      <td>1</td>\n",
              "      <td>2</td>\n",
              "      <td>1147</td>\n",
              "      <td>839</td>\n",
              "      <td>1</td>\n",
              "      <td>5</td>\n",
              "      <td>263</td>\n",
              "      <td>393790</td>\n",
              "      <td>236865</td>\n",
              "      <td>2020-12-01 02:24:18</td>\n",
              "      <td>854</td>\n",
              "      <td>853</td>\n",
              "      <td>824</td>\n",
              "      <td>744</td>\n",
              "      <td>847</td>\n",
              "      <td>847</td>\n",
              "      <td>824</td>\n",
              "      <td>744</td>\n",
              "      <td>1227</td>\n",
              "      <td>1227</td>\n",
              "      <td>1227</td>\n",
              "      <td>926</td>\n",
              "      <td>836</td>\n",
              "      <td>831</td>\n",
              "      <td>824</td>\n",
              "      <td>744</td>\n",
              "      <td>528</td>\n",
              "      <td>250</td>\n",
              "      <td>366</td>\n",
              "      <td>48</td>\n",
              "      <td>359</td>\n",
              "      <td>48</td>\n",
              "      <td>528</td>\n",
              "      <td>250</td>\n",
              "      <td>1146</td>\n",
              "      <td>1128</td>\n",
              "      <td>1021</td>\n",
              "      <td>2010</td>\n",
              "    </tr>\n",
              "    <tr>\n",
              "      <th>1</th>\n",
              "      <td>1</td>\n",
              "      <td>False</td>\n",
              "      <td>False</td>\n",
              "      <td>False</td>\n",
              "      <td>True</td>\n",
              "      <td>False</td>\n",
              "      <td>False</td>\n",
              "      <td>2</td>\n",
              "      <td>0</td>\n",
              "      <td>2</td>\n",
              "      <td>2</td>\n",
              "      <td>683</td>\n",
              "      <td>1086</td>\n",
              "      <td>662</td>\n",
              "      <td>2</td>\n",
              "      <td>1</td>\n",
              "      <td>1</td>\n",
              "      <td>258</td>\n",
              "      <td>263</td>\n",
              "      <td>49</td>\n",
              "      <td>1</td>\n",
              "      <td>3</td>\n",
              "      <td>5</td>\n",
              "      <td>1</td>\n",
              "      <td>1</td>\n",
              "      <td>2</td>\n",
              "      <td>1611</td>\n",
              "      <td>278</td>\n",
              "      <td>1</td>\n",
              "      <td>4</td>\n",
              "      <td>263</td>\n",
              "      <td>394058</td>\n",
              "      <td>236572</td>\n",
              "      <td>2020-12-17 05:42:53</td>\n",
              "      <td>683</td>\n",
              "      <td>677</td>\n",
              "      <td>659</td>\n",
              "      <td>618</td>\n",
              "      <td>1086</td>\n",
              "      <td>1086</td>\n",
              "      <td>1053</td>\n",
              "      <td>926</td>\n",
              "      <td>662</td>\n",
              "      <td>660</td>\n",
              "      <td>659</td>\n",
              "      <td>618</td>\n",
              "      <td>276</td>\n",
              "      <td>274</td>\n",
              "      <td>274</td>\n",
              "      <td>216</td>\n",
              "      <td>523</td>\n",
              "      <td>250</td>\n",
              "      <td>528</td>\n",
              "      <td>250</td>\n",
              "      <td>359</td>\n",
              "      <td>48</td>\n",
              "      <td>528</td>\n",
              "      <td>250</td>\n",
              "      <td>1610</td>\n",
              "      <td>1606</td>\n",
              "      <td>1605</td>\n",
              "      <td>2016</td>\n",
              "    </tr>\n",
              "    <tr>\n",
              "      <th>2</th>\n",
              "      <td>2</td>\n",
              "      <td>True</td>\n",
              "      <td>False</td>\n",
              "      <td>False</td>\n",
              "      <td>True</td>\n",
              "      <td>True</td>\n",
              "      <td>True</td>\n",
              "      <td>2</td>\n",
              "      <td>3</td>\n",
              "      <td>2</td>\n",
              "      <td>1</td>\n",
              "      <td>514</td>\n",
              "      <td>790</td>\n",
              "      <td>1233</td>\n",
              "      <td>0</td>\n",
              "      <td>1</td>\n",
              "      <td>1</td>\n",
              "      <td>177</td>\n",
              "      <td>170</td>\n",
              "      <td>171</td>\n",
              "      <td>3</td>\n",
              "      <td>3</td>\n",
              "      <td>3</td>\n",
              "      <td>1</td>\n",
              "      <td>1</td>\n",
              "      <td>2</td>\n",
              "      <td>1817</td>\n",
              "      <td>490</td>\n",
              "      <td>3</td>\n",
              "      <td>4</td>\n",
              "      <td>177</td>\n",
              "      <td>1002061</td>\n",
              "      <td>704612</td>\n",
              "      <td>2020-12-10 23:33:41</td>\n",
              "      <td>514</td>\n",
              "      <td>509</td>\n",
              "      <td>482</td>\n",
              "      <td>482</td>\n",
              "      <td>784</td>\n",
              "      <td>783</td>\n",
              "      <td>745</td>\n",
              "      <td>744</td>\n",
              "      <td>1227</td>\n",
              "      <td>1227</td>\n",
              "      <td>1227</td>\n",
              "      <td>926</td>\n",
              "      <td>490</td>\n",
              "      <td>490</td>\n",
              "      <td>482</td>\n",
              "      <td>482</td>\n",
              "      <td>453</td>\n",
              "      <td>169</td>\n",
              "      <td>451</td>\n",
              "      <td>169</td>\n",
              "      <td>452</td>\n",
              "      <td>169</td>\n",
              "      <td>453</td>\n",
              "      <td>169</td>\n",
              "      <td>1812</td>\n",
              "      <td>1811</td>\n",
              "      <td>1810</td>\n",
              "      <td>2020</td>\n",
              "    </tr>\n",
              "    <tr>\n",
              "      <th>3</th>\n",
              "      <td>3</td>\n",
              "      <td>True</td>\n",
              "      <td>False</td>\n",
              "      <td>False</td>\n",
              "      <td>True</td>\n",
              "      <td>True</td>\n",
              "      <td>True</td>\n",
              "      <td>1</td>\n",
              "      <td>2</td>\n",
              "      <td>2</td>\n",
              "      <td>5</td>\n",
              "      <td>114</td>\n",
              "      <td>181</td>\n",
              "      <td>175</td>\n",
              "      <td>4</td>\n",
              "      <td>1</td>\n",
              "      <td>1</td>\n",
              "      <td>177</td>\n",
              "      <td>170</td>\n",
              "      <td>171</td>\n",
              "      <td>3</td>\n",
              "      <td>3</td>\n",
              "      <td>5</td>\n",
              "      <td>1</td>\n",
              "      <td>1</td>\n",
              "      <td>2</td>\n",
              "      <td>101</td>\n",
              "      <td>150</td>\n",
              "      <td>5</td>\n",
              "      <td>3</td>\n",
              "      <td>177</td>\n",
              "      <td>1000813</td>\n",
              "      <td>704652</td>\n",
              "      <td>2020-12-03 19:44:55</td>\n",
              "      <td>114</td>\n",
              "      <td>109</td>\n",
              "      <td>56</td>\n",
              "      <td>1</td>\n",
              "      <td>175</td>\n",
              "      <td>152</td>\n",
              "      <td>56</td>\n",
              "      <td>1</td>\n",
              "      <td>175</td>\n",
              "      <td>152</td>\n",
              "      <td>56</td>\n",
              "      <td>1</td>\n",
              "      <td>145</td>\n",
              "      <td>123</td>\n",
              "      <td>56</td>\n",
              "      <td>1</td>\n",
              "      <td>453</td>\n",
              "      <td>169</td>\n",
              "      <td>451</td>\n",
              "      <td>169</td>\n",
              "      <td>452</td>\n",
              "      <td>169</td>\n",
              "      <td>453</td>\n",
              "      <td>169</td>\n",
              "      <td>101</td>\n",
              "      <td>100</td>\n",
              "      <td>99</td>\n",
              "      <td>2006</td>\n",
              "    </tr>\n",
              "    <tr>\n",
              "      <th>4</th>\n",
              "      <td>4</td>\n",
              "      <td>True</td>\n",
              "      <td>False</td>\n",
              "      <td>False</td>\n",
              "      <td>True</td>\n",
              "      <td>False</td>\n",
              "      <td>False</td>\n",
              "      <td>1</td>\n",
              "      <td>6</td>\n",
              "      <td>4</td>\n",
              "      <td>5</td>\n",
              "      <td>1082</td>\n",
              "      <td>1078</td>\n",
              "      <td>1056</td>\n",
              "      <td>5</td>\n",
              "      <td>1</td>\n",
              "      <td>1</td>\n",
              "      <td>178</td>\n",
              "      <td>177</td>\n",
              "      <td>4</td>\n",
              "      <td>3</td>\n",
              "      <td>1</td>\n",
              "      <td>5</td>\n",
              "      <td>1</td>\n",
              "      <td>1</td>\n",
              "      <td>1</td>\n",
              "      <td>985</td>\n",
              "      <td>1097</td>\n",
              "      <td>1</td>\n",
              "      <td>4</td>\n",
              "      <td>177</td>\n",
              "      <td>111146</td>\n",
              "      <td>704413</td>\n",
              "      <td>2020-12-11 21:24:34</td>\n",
              "      <td>1078</td>\n",
              "      <td>1078</td>\n",
              "      <td>1053</td>\n",
              "      <td>926</td>\n",
              "      <td>1078</td>\n",
              "      <td>1078</td>\n",
              "      <td>1053</td>\n",
              "      <td>926</td>\n",
              "      <td>1056</td>\n",
              "      <td>1054</td>\n",
              "      <td>1053</td>\n",
              "      <td>926</td>\n",
              "      <td>1097</td>\n",
              "      <td>1094</td>\n",
              "      <td>1093</td>\n",
              "      <td>926</td>\n",
              "      <td>454</td>\n",
              "      <td>169</td>\n",
              "      <td>453</td>\n",
              "      <td>169</td>\n",
              "      <td>316</td>\n",
              "      <td>3</td>\n",
              "      <td>453</td>\n",
              "      <td>169</td>\n",
              "      <td>984</td>\n",
              "      <td>980</td>\n",
              "      <td>954</td>\n",
              "      <td>2009</td>\n",
              "    </tr>\n",
              "  </tbody>\n",
              "</table>\n",
              "</div>\n",
              "      <button class=\"colab-df-convert\" onclick=\"convertToInteractive('df-c882c61b-cd03-4373-a949-04328c6424da')\"\n",
              "              title=\"Convert this dataframe to an interactive table.\"\n",
              "              style=\"display:none;\">\n",
              "        \n",
              "  <svg xmlns=\"http://www.w3.org/2000/svg\" height=\"24px\"viewBox=\"0 0 24 24\"\n",
              "       width=\"24px\">\n",
              "    <path d=\"M0 0h24v24H0V0z\" fill=\"none\"/>\n",
              "    <path d=\"M18.56 5.44l.94 2.06.94-2.06 2.06-.94-2.06-.94-.94-2.06-.94 2.06-2.06.94zm-11 1L8.5 8.5l.94-2.06 2.06-.94-2.06-.94L8.5 2.5l-.94 2.06-2.06.94zm10 10l.94 2.06.94-2.06 2.06-.94-2.06-.94-.94-2.06-.94 2.06-2.06.94z\"/><path d=\"M17.41 7.96l-1.37-1.37c-.4-.4-.92-.59-1.43-.59-.52 0-1.04.2-1.43.59L10.3 9.45l-7.72 7.72c-.78.78-.78 2.05 0 2.83L4 21.41c.39.39.9.59 1.41.59.51 0 1.02-.2 1.41-.59l7.78-7.78 2.81-2.81c.8-.78.8-2.07 0-2.86zM5.41 20L4 18.59l7.72-7.72 1.47 1.35L5.41 20z\"/>\n",
              "  </svg>\n",
              "      </button>\n",
              "      \n",
              "  <style>\n",
              "    .colab-df-container {\n",
              "      display:flex;\n",
              "      flex-wrap:wrap;\n",
              "      gap: 12px;\n",
              "    }\n",
              "\n",
              "    .colab-df-convert {\n",
              "      background-color: #E8F0FE;\n",
              "      border: none;\n",
              "      border-radius: 50%;\n",
              "      cursor: pointer;\n",
              "      display: none;\n",
              "      fill: #1967D2;\n",
              "      height: 32px;\n",
              "      padding: 0 0 0 0;\n",
              "      width: 32px;\n",
              "    }\n",
              "\n",
              "    .colab-df-convert:hover {\n",
              "      background-color: #E2EBFA;\n",
              "      box-shadow: 0px 1px 2px rgba(60, 64, 67, 0.3), 0px 1px 3px 1px rgba(60, 64, 67, 0.15);\n",
              "      fill: #174EA6;\n",
              "    }\n",
              "\n",
              "    [theme=dark] .colab-df-convert {\n",
              "      background-color: #3B4455;\n",
              "      fill: #D2E3FC;\n",
              "    }\n",
              "\n",
              "    [theme=dark] .colab-df-convert:hover {\n",
              "      background-color: #434B5C;\n",
              "      box-shadow: 0px 1px 3px 1px rgba(0, 0, 0, 0.15);\n",
              "      filter: drop-shadow(0px 1px 2px rgba(0, 0, 0, 0.3));\n",
              "      fill: #FFFFFF;\n",
              "    }\n",
              "  </style>\n",
              "\n",
              "      <script>\n",
              "        const buttonEl =\n",
              "          document.querySelector('#df-c882c61b-cd03-4373-a949-04328c6424da button.colab-df-convert');\n",
              "        buttonEl.style.display =\n",
              "          google.colab.kernel.accessAllowed ? 'block' : 'none';\n",
              "\n",
              "        async function convertToInteractive(key) {\n",
              "          const element = document.querySelector('#df-c882c61b-cd03-4373-a949-04328c6424da');\n",
              "          const dataTable =\n",
              "            await google.colab.kernel.invokeFunction('convertToInteractive',\n",
              "                                                     [key], {});\n",
              "          if (!dataTable) return;\n",
              "\n",
              "          const docLinkHtml = 'Like what you see? Visit the ' +\n",
              "            '<a target=\"_blank\" href=https://colab.research.google.com/notebooks/data_table.ipynb>data table notebook</a>'\n",
              "            + ' to learn more about interactive tables.';\n",
              "          element.innerHTML = '';\n",
              "          dataTable['output_type'] = 'display_data';\n",
              "          await google.colab.output.renderOutput(dataTable, element);\n",
              "          const docLink = document.createElement('div');\n",
              "          docLink.innerHTML = docLinkHtml;\n",
              "          element.appendChild(docLink);\n",
              "        }\n",
              "      </script>\n",
              "    </div>\n",
              "  </div>\n",
              "  "
            ],
            "text/plain": [
              "   id  d_l_match_yn  ...  contents_attribute_l_m  contents_attribute_l_l\n",
              "0   0          True  ...                    1021                    2010\n",
              "1   1         False  ...                    1605                    2016\n",
              "2   2          True  ...                    1810                    2020\n",
              "3   3          True  ...                      99                    2006\n",
              "4   4          True  ...                     954                    2009\n",
              "\n",
              "[5 rows x 62 columns]"
            ]
          },
          "metadata": {},
          "execution_count": 44
        }
      ],
      "source": [
        "test.head()"
      ]
    },
    {
      "cell_type": "markdown",
      "metadata": {
        "id": "SzTivcJdIoC2"
      },
      "source": [
        "# 필요 데이터 추출"
      ]
    },
    {
      "cell_type": "code",
      "execution_count": 45,
      "metadata": {
        "id": "J1cAOaYcskOm",
        "colab": {
          "base_uri": "https://localhost:8080/",
          "height": 17
        },
        "outputId": "5d33a75e-bd42-46ac-8f86-f0941251b1f9"
      },
      "outputs": [
        {
          "output_type": "display_data",
          "data": {
            "text/html": [
              "\n",
              "  <style>\n",
              "    pre {\n",
              "        white-space: pre-wrap;\n",
              "    }\n",
              "  </style>\n",
              "  "
            ],
            "text/plain": [
              "<IPython.core.display.HTML object>"
            ]
          },
          "metadata": {}
        }
      ],
      "source": [
        "# test_col = ['d_l_match_yn', 'd_m_match_yn', 'd_s_match_yn', 'h_l_match_yn',\n",
        "#  'person_attribute_a', 'person_attribute_a_1', 'person_attribute_b', 'person_prefer_c',\n",
        "#  'person_prefer_d_1', 'person_prefer_d_2', 'person_prefer_d_3',\n",
        "#  'person_prefer_e',\n",
        "#  'person_prefer_h_1', 'person_prefer_h_2', 'person_prefer_h_3', \n",
        "#  'contents_attribute_i', 'contents_attribute_a',\n",
        "#  'contents_attribute_j', 'contents_attribute_j_1', 'contents_attribute_c',\n",
        "#  'contents_attribute_l', 'contents_attribute_d',\n",
        "#  'contents_attribute_m', 'contents_attribute_e',\n",
        "#  'contents_attribute_h',\n",
        "#  'person_rn']\n",
        "# target = ['target']\n",
        "# train_col = test_col + target\n",
        "# len(train_col), len(test_col)"
      ]
    },
    {
      "cell_type": "code",
      "execution_count": 46,
      "metadata": {
        "id": "KYS9TrPAIoC4",
        "colab": {
          "base_uri": "https://localhost:8080/",
          "height": 17
        },
        "outputId": "748153f9-a579-4d95-9bf7-52ed59ee8efb"
      },
      "outputs": [
        {
          "output_type": "display_data",
          "data": {
            "text/html": [
              "\n",
              "  <style>\n",
              "    pre {\n",
              "        white-space: pre-wrap;\n",
              "    }\n",
              "  </style>\n",
              "  "
            ],
            "text/plain": [
              "<IPython.core.display.HTML object>"
            ]
          },
          "metadata": {}
        }
      ],
      "source": [
        "# train = train[train_col]\n",
        "# test = test[test_col]"
      ]
    },
    {
      "cell_type": "markdown",
      "metadata": {
        "id": "gSoik3ZSIoC3"
      },
      "source": [
        "## 훈련에 의미가 적은 열 제거"
      ]
    },
    {
      "cell_type": "code",
      "source": [
        "# 삭제할 특성\n",
        "pop_col = ['id', 'contents_open_dt', 'person_prefer_f', 'person_prefer_g', 'contents_rn', \n",
        "           'd_l_match_yn', 'd_m_match_yn', 'd_s_match_yn', 'h_l_match_yn','h_m_match_yn', \n",
        "           'h_s_match_yn', 'person_attribute_a', 'person_attribute_a_1', 'contents_attribute_i',\n",
        "            'contents_attribute_a', 'contents_attribute_k']\n",
        "len(pop_col)"
      ],
      "metadata": {
        "colab": {
          "base_uri": "https://localhost:8080/",
          "height": 35
        },
        "id": "YFpKYDgj8CLE",
        "outputId": "fb9e9562-dcf8-4bc7-dc04-41657052b9db"
      },
      "execution_count": 47,
      "outputs": [
        {
          "output_type": "display_data",
          "data": {
            "text/html": [
              "\n",
              "  <style>\n",
              "    pre {\n",
              "        white-space: pre-wrap;\n",
              "    }\n",
              "  </style>\n",
              "  "
            ],
            "text/plain": [
              "<IPython.core.display.HTML object>"
            ]
          },
          "metadata": {}
        },
        {
          "output_type": "execute_result",
          "data": {
            "text/plain": [
              "16"
            ]
          },
          "metadata": {},
          "execution_count": 47
        }
      ]
    },
    {
      "cell_type": "code",
      "execution_count": 48,
      "metadata": {
        "id": "Y1Ki4mFpskOn",
        "colab": {
          "base_uri": "https://localhost:8080/",
          "height": 17
        },
        "outputId": "48b5b8ca-3d28-4d2e-dae5-e91f62d79e16"
      },
      "outputs": [
        {
          "output_type": "display_data",
          "data": {
            "text/html": [
              "\n",
              "  <style>\n",
              "    pre {\n",
              "        white-space: pre-wrap;\n",
              "    }\n",
              "  </style>\n",
              "  "
            ],
            "text/plain": [
              "<IPython.core.display.HTML object>"
            ]
          },
          "metadata": {}
        }
      ],
      "source": [
        "train = train.drop(pop_col, axis=1) \n",
        "test = test.drop(pop_col, axis=1)"
      ]
    },
    {
      "cell_type": "code",
      "execution_count": 49,
      "metadata": {
        "colab": {
          "base_uri": "https://localhost:8080/",
          "height": 1000
        },
        "id": "9GxGKXZzIoC5",
        "outputId": "1c584548-a74b-4855-dbd3-856203461241"
      },
      "outputs": [
        {
          "output_type": "display_data",
          "data": {
            "text/html": [
              "\n",
              "  <style>\n",
              "    pre {\n",
              "        white-space: pre-wrap;\n",
              "    }\n",
              "  </style>\n",
              "  "
            ],
            "text/plain": [
              "<IPython.core.display.HTML object>"
            ]
          },
          "metadata": {}
        },
        {
          "output_type": "stream",
          "name": "stdout",
          "text": [
            "<class 'pandas.core.frame.DataFrame'>\n",
            "RangeIndex: 501951 entries, 0 to 501950\n",
            "Data columns (total 47 columns):\n",
            " #   Column                  Non-Null Count   Dtype\n",
            "---  ------                  --------------   -----\n",
            " 0   person_attribute_b      501951 non-null  int64\n",
            " 1   person_prefer_c         501951 non-null  int64\n",
            " 2   person_prefer_d_1       501951 non-null  int64\n",
            " 3   person_prefer_d_2       501951 non-null  int64\n",
            " 4   person_prefer_d_3       501951 non-null  int64\n",
            " 5   person_prefer_e         501951 non-null  int64\n",
            " 6   person_prefer_h_1       501951 non-null  int64\n",
            " 7   person_prefer_h_2       501951 non-null  int64\n",
            " 8   person_prefer_h_3       501951 non-null  int64\n",
            " 9   contents_attribute_j_1  501951 non-null  int64\n",
            " 10  contents_attribute_j    501951 non-null  int64\n",
            " 11  contents_attribute_c    501951 non-null  int64\n",
            " 12  contents_attribute_l    501951 non-null  int64\n",
            " 13  contents_attribute_d    501951 non-null  int64\n",
            " 14  contents_attribute_m    501951 non-null  int64\n",
            " 15  contents_attribute_e    501951 non-null  int64\n",
            " 16  contents_attribute_h    501951 non-null  int64\n",
            " 17  person_rn               501951 non-null  int64\n",
            " 18  target                  501951 non-null  int64\n",
            " 19  person_prefer_d_1_n     501951 non-null  int64\n",
            " 20  person_prefer_d_1_s     501951 non-null  int64\n",
            " 21  person_prefer_d_1_m     501951 non-null  int64\n",
            " 22  person_prefer_d_1_l     501951 non-null  int64\n",
            " 23  person_prefer_d_2_n     501951 non-null  int64\n",
            " 24  person_prefer_d_2_s     501951 non-null  int64\n",
            " 25  person_prefer_d_2_m     501951 non-null  int64\n",
            " 26  person_prefer_d_2_l     501951 non-null  int64\n",
            " 27  person_prefer_d_3_n     501951 non-null  int64\n",
            " 28  person_prefer_d_3_s     501951 non-null  int64\n",
            " 29  person_prefer_d_3_m     501951 non-null  int64\n",
            " 30  person_prefer_d_3_l     501951 non-null  int64\n",
            " 31  contents_attribute_d_n  501951 non-null  int64\n",
            " 32  contents_attribute_d_s  501951 non-null  int64\n",
            " 33  contents_attribute_d_m  501951 non-null  int64\n",
            " 34  contents_attribute_d_l  501951 non-null  int64\n",
            " 35  person_prefer_h_1_m     501951 non-null  int64\n",
            " 36  person_prefer_h_1_l     501951 non-null  int64\n",
            " 37  person_prefer_h_2_m     501951 non-null  int64\n",
            " 38  person_prefer_h_2_l     501951 non-null  int64\n",
            " 39  person_prefer_h_3_m     501951 non-null  int64\n",
            " 40  person_prefer_h_3_l     501951 non-null  int64\n",
            " 41  contents_attribute_h_m  501951 non-null  int64\n",
            " 42  contents_attribute_h_l  501951 non-null  int64\n",
            " 43  contents_attribute_l_n  501951 non-null  int64\n",
            " 44  contents_attribute_l_s  501951 non-null  int64\n",
            " 45  contents_attribute_l_m  501951 non-null  int64\n",
            " 46  contents_attribute_l_l  501951 non-null  int64\n",
            "dtypes: int64(47)\n",
            "memory usage: 180.0 MB\n"
          ]
        }
      ],
      "source": [
        "train.info()"
      ]
    },
    {
      "cell_type": "code",
      "execution_count": 50,
      "metadata": {
        "colab": {
          "base_uri": "https://localhost:8080/",
          "height": 990
        },
        "id": "V5-U2wAQskOn",
        "outputId": "5cd8988c-e28e-43cc-e11d-d2a65718bef6"
      },
      "outputs": [
        {
          "output_type": "display_data",
          "data": {
            "text/html": [
              "\n",
              "  <style>\n",
              "    pre {\n",
              "        white-space: pre-wrap;\n",
              "    }\n",
              "  </style>\n",
              "  "
            ],
            "text/plain": [
              "<IPython.core.display.HTML object>"
            ]
          },
          "metadata": {}
        },
        {
          "output_type": "stream",
          "name": "stdout",
          "text": [
            "<class 'pandas.core.frame.DataFrame'>\n",
            "RangeIndex: 46404 entries, 0 to 46403\n",
            "Data columns (total 46 columns):\n",
            " #   Column                  Non-Null Count  Dtype\n",
            "---  ------                  --------------  -----\n",
            " 0   person_attribute_b      46404 non-null  int64\n",
            " 1   person_prefer_c         46404 non-null  int64\n",
            " 2   person_prefer_d_1       46404 non-null  int64\n",
            " 3   person_prefer_d_2       46404 non-null  int64\n",
            " 4   person_prefer_d_3       46404 non-null  int64\n",
            " 5   person_prefer_e         46404 non-null  int64\n",
            " 6   person_prefer_h_1       46404 non-null  int64\n",
            " 7   person_prefer_h_2       46404 non-null  int64\n",
            " 8   person_prefer_h_3       46404 non-null  int64\n",
            " 9   contents_attribute_j_1  46404 non-null  int64\n",
            " 10  contents_attribute_j    46404 non-null  int64\n",
            " 11  contents_attribute_c    46404 non-null  int64\n",
            " 12  contents_attribute_l    46404 non-null  int64\n",
            " 13  contents_attribute_d    46404 non-null  int64\n",
            " 14  contents_attribute_m    46404 non-null  int64\n",
            " 15  contents_attribute_e    46404 non-null  int64\n",
            " 16  contents_attribute_h    46404 non-null  int64\n",
            " 17  person_rn               46404 non-null  int64\n",
            " 18  person_prefer_d_1_n     46404 non-null  int64\n",
            " 19  person_prefer_d_1_s     46404 non-null  int64\n",
            " 20  person_prefer_d_1_m     46404 non-null  int64\n",
            " 21  person_prefer_d_1_l     46404 non-null  int64\n",
            " 22  person_prefer_d_2_n     46404 non-null  int64\n",
            " 23  person_prefer_d_2_s     46404 non-null  int64\n",
            " 24  person_prefer_d_2_m     46404 non-null  int64\n",
            " 25  person_prefer_d_2_l     46404 non-null  int64\n",
            " 26  person_prefer_d_3_n     46404 non-null  int64\n",
            " 27  person_prefer_d_3_s     46404 non-null  int64\n",
            " 28  person_prefer_d_3_m     46404 non-null  int64\n",
            " 29  person_prefer_d_3_l     46404 non-null  int64\n",
            " 30  contents_attribute_d_n  46404 non-null  int64\n",
            " 31  contents_attribute_d_s  46404 non-null  int64\n",
            " 32  contents_attribute_d_m  46404 non-null  int64\n",
            " 33  contents_attribute_d_l  46404 non-null  int64\n",
            " 34  person_prefer_h_1_m     46404 non-null  int64\n",
            " 35  person_prefer_h_1_l     46404 non-null  int64\n",
            " 36  person_prefer_h_2_m     46404 non-null  int64\n",
            " 37  person_prefer_h_2_l     46404 non-null  int64\n",
            " 38  person_prefer_h_3_m     46404 non-null  int64\n",
            " 39  person_prefer_h_3_l     46404 non-null  int64\n",
            " 40  contents_attribute_h_m  46404 non-null  int64\n",
            " 41  contents_attribute_h_l  46404 non-null  int64\n",
            " 42  contents_attribute_l_n  46404 non-null  int64\n",
            " 43  contents_attribute_l_s  46404 non-null  int64\n",
            " 44  contents_attribute_l_m  46404 non-null  int64\n",
            " 45  contents_attribute_l_l  46404 non-null  int64\n",
            "dtypes: int64(46)\n",
            "memory usage: 16.3 MB\n"
          ]
        }
      ],
      "source": [
        "test.info()"
      ]
    },
    {
      "cell_type": "markdown",
      "metadata": {
        "id": "DXz4RmccKA8g"
      },
      "source": [
        "## 카테고리형 특성 원핫인코딩시 컬럼 명 겹치는 문제 해결위해 특성명 변경"
      ]
    },
    {
      "cell_type": "code",
      "execution_count": 51,
      "metadata": {
        "colab": {
          "base_uri": "https://localhost:8080/",
          "height": 17
        },
        "id": "7RkuVrfSKCQ0",
        "outputId": "70e64b26-9cab-49eb-f558-d5088f693c3c"
      },
      "outputs": [
        {
          "output_type": "display_data",
          "data": {
            "text/html": [
              "\n",
              "  <style>\n",
              "    pre {\n",
              "        white-space: pre-wrap;\n",
              "    }\n",
              "  </style>\n",
              "  "
            ],
            "text/plain": [
              "<IPython.core.display.HTML object>"
            ]
          },
          "metadata": {}
        }
      ],
      "source": [
        "# # 카테고리형 특성 원핫인코딩시 컬럼 명 겹치는 문제 해결위해 특성명 변경\n",
        "# train = train.rename(columns={'person_attribute_a_1':'person_attribute_a_a'})\n",
        "# train.head()"
      ]
    },
    {
      "cell_type": "code",
      "execution_count": 52,
      "metadata": {
        "colab": {
          "base_uri": "https://localhost:8080/",
          "height": 17
        },
        "id": "h6q0HvoqKCM5",
        "outputId": "6d6d2bbe-aa6a-4759-a80f-28a5166d6e50"
      },
      "outputs": [
        {
          "output_type": "display_data",
          "data": {
            "text/html": [
              "\n",
              "  <style>\n",
              "    pre {\n",
              "        white-space: pre-wrap;\n",
              "    }\n",
              "  </style>\n",
              "  "
            ],
            "text/plain": [
              "<IPython.core.display.HTML object>"
            ]
          },
          "metadata": {}
        }
      ],
      "source": [
        "# # 카테고리형 특성 원핫인코딩시 컬럼 명 겹치는 문제 해결위해 특성명 변경\n",
        "# test = test.rename(columns={'person_attribute_a_1':'person_attribute_a_a'})\n",
        "# test.head()"
      ]
    },
    {
      "cell_type": "markdown",
      "metadata": {
        "id": "XVD0SgoqskOy"
      },
      "source": [
        "# 모델 훈련/예측"
      ]
    },
    {
      "cell_type": "code",
      "execution_count": 23,
      "metadata": {
        "id": "NsXddtu-JusX",
        "colab": {
          "base_uri": "https://localhost:8080/",
          "height": 17
        },
        "outputId": "2326ed83-c5d5-4893-9a02-dafa7521025e"
      },
      "outputs": [
        {
          "output_type": "display_data",
          "data": {
            "text/html": [
              "\n",
              "  <style>\n",
              "    pre {\n",
              "        white-space: pre-wrap;\n",
              "    }\n",
              "  </style>\n",
              "  "
            ],
            "text/plain": [
              "<IPython.core.display.HTML object>"
            ]
          },
          "metadata": {}
        }
      ],
      "source": [
        "# 순서형 특성 수치형으로 지정(2개) : ⭕\n",
        "# 'person_prefer_e', 'contents_attribute_e'"
      ]
    },
    {
      "cell_type": "code",
      "execution_count": 53,
      "metadata": {
        "id": "SPsfHJEtIoC9",
        "colab": {
          "base_uri": "https://localhost:8080/",
          "height": 17
        },
        "outputId": "52ec3d2e-e18d-4095-f35e-de20428dae2c"
      },
      "outputs": [
        {
          "output_type": "display_data",
          "data": {
            "text/html": [
              "\n",
              "  <style>\n",
              "    pre {\n",
              "        white-space: pre-wrap;\n",
              "    }\n",
              "  </style>\n",
              "  "
            ],
            "text/plain": [
              "<IPython.core.display.HTML object>"
            ]
          },
          "metadata": {}
        }
      ],
      "source": [
        "ex = setup(train, target='target', n_jobs=-1, use_gpu=True,\n",
        "           session_id=0, verbose=False, silent=True, \n",
        "           fold=5, fold_shuffle=True, combine_rare_levels=True, \n",
        "           numeric_features=['person_prefer_e', 'contents_attribute_e']\n",
        "           )"
      ]
    },
    {
      "cell_type": "markdown",
      "source": [
        "## 모델 비교"
      ],
      "metadata": {
        "id": "Zuorm03QpTRV"
      }
    },
    {
      "cell_type": "code",
      "execution_count": 54,
      "metadata": {
        "colab": {
          "base_uri": "https://localhost:8080/",
          "height": 538,
          "referenced_widgets": [
            "af7f0698655044709f64571857544565",
            "c4f619d6ffb34ae5925e8199f22f3b6e",
            "1aaac1b0a4d5452f97ce57efa875cd20"
          ]
        },
        "id": "VRa6Bkr_skOr",
        "outputId": "3f0e8ca0-0fc7-492d-a898-7b63d4b24635"
      },
      "outputs": [
        {
          "output_type": "display_data",
          "data": {
            "text/html": [
              "\n",
              "  <div id=\"df-eba183ac-220f-4e69-9807-23d6d0de465f\">\n",
              "    <div class=\"colab-df-container\">\n",
              "      <div>\n",
              "<style scoped>\n",
              "    .dataframe tbody tr th:only-of-type {\n",
              "        vertical-align: middle;\n",
              "    }\n",
              "\n",
              "    .dataframe tbody tr th {\n",
              "        vertical-align: top;\n",
              "    }\n",
              "\n",
              "    .dataframe thead th {\n",
              "        text-align: right;\n",
              "    }\n",
              "</style>\n",
              "<table border=\"1\" class=\"dataframe\">\n",
              "  <thead>\n",
              "    <tr style=\"text-align: right;\">\n",
              "      <th></th>\n",
              "      <th>Model</th>\n",
              "      <th>Accuracy</th>\n",
              "      <th>AUC</th>\n",
              "      <th>Recall</th>\n",
              "      <th>Prec.</th>\n",
              "      <th>F1</th>\n",
              "      <th>Kappa</th>\n",
              "      <th>MCC</th>\n",
              "      <th>TT (Sec)</th>\n",
              "    </tr>\n",
              "  </thead>\n",
              "  <tbody>\n",
              "    <tr>\n",
              "      <th>catboost</th>\n",
              "      <td>CatBoost Classifier</td>\n",
              "      <td>0.6074</td>\n",
              "      <td>0.6496</td>\n",
              "      <td>0.6730</td>\n",
              "      <td>0.5947</td>\n",
              "      <td>0.6314</td>\n",
              "      <td>0.2149</td>\n",
              "      <td>0.2168</td>\n",
              "      <td>17.272</td>\n",
              "    </tr>\n",
              "    <tr>\n",
              "      <th>lightgbm</th>\n",
              "      <td>Light Gradient Boosting Machine</td>\n",
              "      <td>0.6062</td>\n",
              "      <td>0.6483</td>\n",
              "      <td>0.6715</td>\n",
              "      <td>0.5936</td>\n",
              "      <td>0.6302</td>\n",
              "      <td>0.2124</td>\n",
              "      <td>0.2143</td>\n",
              "      <td>6.532</td>\n",
              "    </tr>\n",
              "    <tr>\n",
              "      <th>rf</th>\n",
              "      <td>Random Forest Classifier</td>\n",
              "      <td>0.6052</td>\n",
              "      <td>0.6473</td>\n",
              "      <td>0.6142</td>\n",
              "      <td>0.6030</td>\n",
              "      <td>0.6086</td>\n",
              "      <td>0.2104</td>\n",
              "      <td>0.2104</td>\n",
              "      <td>140.674</td>\n",
              "    </tr>\n",
              "    <tr>\n",
              "      <th>gbc</th>\n",
              "      <td>Gradient Boosting Classifier</td>\n",
              "      <td>0.5898</td>\n",
              "      <td>0.6266</td>\n",
              "      <td>0.6190</td>\n",
              "      <td>0.5846</td>\n",
              "      <td>0.6013</td>\n",
              "      <td>0.1797</td>\n",
              "      <td>0.1800</td>\n",
              "      <td>138.786</td>\n",
              "    </tr>\n",
              "    <tr>\n",
              "      <th>et</th>\n",
              "      <td>Extra Trees Classifier</td>\n",
              "      <td>0.5897</td>\n",
              "      <td>0.6245</td>\n",
              "      <td>0.5913</td>\n",
              "      <td>0.5890</td>\n",
              "      <td>0.5902</td>\n",
              "      <td>0.1793</td>\n",
              "      <td>0.1793</td>\n",
              "      <td>199.830</td>\n",
              "    </tr>\n",
              "    <tr>\n",
              "      <th>ridge</th>\n",
              "      <td>Ridge Classifier</td>\n",
              "      <td>0.5710</td>\n",
              "      <td>0.0000</td>\n",
              "      <td>0.5901</td>\n",
              "      <td>0.5680</td>\n",
              "      <td>0.5789</td>\n",
              "      <td>0.1419</td>\n",
              "      <td>0.1420</td>\n",
              "      <td>1.130</td>\n",
              "    </tr>\n",
              "    <tr>\n",
              "      <th>lda</th>\n",
              "      <td>Linear Discriminant Analysis</td>\n",
              "      <td>0.5709</td>\n",
              "      <td>0.5995</td>\n",
              "      <td>0.5901</td>\n",
              "      <td>0.5680</td>\n",
              "      <td>0.5788</td>\n",
              "      <td>0.1419</td>\n",
              "      <td>0.1420</td>\n",
              "      <td>14.754</td>\n",
              "    </tr>\n",
              "    <tr>\n",
              "      <th>ada</th>\n",
              "      <td>Ada Boost Classifier</td>\n",
              "      <td>0.5729</td>\n",
              "      <td>0.6034</td>\n",
              "      <td>0.5857</td>\n",
              "      <td>0.5707</td>\n",
              "      <td>0.5781</td>\n",
              "      <td>0.1458</td>\n",
              "      <td>0.1458</td>\n",
              "      <td>32.462</td>\n",
              "    </tr>\n",
              "    <tr>\n",
              "      <th>dt</th>\n",
              "      <td>Decision Tree Classifier</td>\n",
              "      <td>0.5479</td>\n",
              "      <td>0.5479</td>\n",
              "      <td>0.5495</td>\n",
              "      <td>0.5474</td>\n",
              "      <td>0.5484</td>\n",
              "      <td>0.0957</td>\n",
              "      <td>0.0957</td>\n",
              "      <td>13.058</td>\n",
              "    </tr>\n",
              "    <tr>\n",
              "      <th>knn</th>\n",
              "      <td>K Neighbors Classifier</td>\n",
              "      <td>0.5412</td>\n",
              "      <td>0.5542</td>\n",
              "      <td>0.5567</td>\n",
              "      <td>0.5396</td>\n",
              "      <td>0.5480</td>\n",
              "      <td>0.0823</td>\n",
              "      <td>0.0824</td>\n",
              "      <td>33.542</td>\n",
              "    </tr>\n",
              "    <tr>\n",
              "      <th>qda</th>\n",
              "      <td>Quadratic Discriminant Analysis</td>\n",
              "      <td>0.5041</td>\n",
              "      <td>0.5042</td>\n",
              "      <td>0.6068</td>\n",
              "      <td>0.5028</td>\n",
              "      <td>0.5437</td>\n",
              "      <td>0.0083</td>\n",
              "      <td>0.0094</td>\n",
              "      <td>10.626</td>\n",
              "    </tr>\n",
              "    <tr>\n",
              "      <th>nb</th>\n",
              "      <td>Naive Bayes</td>\n",
              "      <td>0.5364</td>\n",
              "      <td>0.5533</td>\n",
              "      <td>0.5499</td>\n",
              "      <td>0.5351</td>\n",
              "      <td>0.5424</td>\n",
              "      <td>0.0728</td>\n",
              "      <td>0.0728</td>\n",
              "      <td>1.200</td>\n",
              "    </tr>\n",
              "    <tr>\n",
              "      <th>lr</th>\n",
              "      <td>Logistic Regression</td>\n",
              "      <td>0.5439</td>\n",
              "      <td>0.5584</td>\n",
              "      <td>0.5230</td>\n",
              "      <td>0.5455</td>\n",
              "      <td>0.5339</td>\n",
              "      <td>0.0878</td>\n",
              "      <td>0.0879</td>\n",
              "      <td>11.494</td>\n",
              "    </tr>\n",
              "    <tr>\n",
              "      <th>svm</th>\n",
              "      <td>SVM - Linear Kernel</td>\n",
              "      <td>0.5035</td>\n",
              "      <td>0.0000</td>\n",
              "      <td>0.4056</td>\n",
              "      <td>0.5689</td>\n",
              "      <td>0.2925</td>\n",
              "      <td>0.0069</td>\n",
              "      <td>0.0239</td>\n",
              "      <td>139.548</td>\n",
              "    </tr>\n",
              "    <tr>\n",
              "      <th>dummy</th>\n",
              "      <td>Dummy Classifier</td>\n",
              "      <td>0.5004</td>\n",
              "      <td>0.5000</td>\n",
              "      <td>0.0000</td>\n",
              "      <td>0.0000</td>\n",
              "      <td>0.0000</td>\n",
              "      <td>0.0000</td>\n",
              "      <td>0.0000</td>\n",
              "      <td>0.322</td>\n",
              "    </tr>\n",
              "  </tbody>\n",
              "</table>\n",
              "</div>\n",
              "      <button class=\"colab-df-convert\" onclick=\"convertToInteractive('df-eba183ac-220f-4e69-9807-23d6d0de465f')\"\n",
              "              title=\"Convert this dataframe to an interactive table.\"\n",
              "              style=\"display:none;\">\n",
              "        \n",
              "  <svg xmlns=\"http://www.w3.org/2000/svg\" height=\"24px\"viewBox=\"0 0 24 24\"\n",
              "       width=\"24px\">\n",
              "    <path d=\"M0 0h24v24H0V0z\" fill=\"none\"/>\n",
              "    <path d=\"M18.56 5.44l.94 2.06.94-2.06 2.06-.94-2.06-.94-.94-2.06-.94 2.06-2.06.94zm-11 1L8.5 8.5l.94-2.06 2.06-.94-2.06-.94L8.5 2.5l-.94 2.06-2.06.94zm10 10l.94 2.06.94-2.06 2.06-.94-2.06-.94-.94-2.06-.94 2.06-2.06.94z\"/><path d=\"M17.41 7.96l-1.37-1.37c-.4-.4-.92-.59-1.43-.59-.52 0-1.04.2-1.43.59L10.3 9.45l-7.72 7.72c-.78.78-.78 2.05 0 2.83L4 21.41c.39.39.9.59 1.41.59.51 0 1.02-.2 1.41-.59l7.78-7.78 2.81-2.81c.8-.78.8-2.07 0-2.86zM5.41 20L4 18.59l7.72-7.72 1.47 1.35L5.41 20z\"/>\n",
              "  </svg>\n",
              "      </button>\n",
              "      \n",
              "  <style>\n",
              "    .colab-df-container {\n",
              "      display:flex;\n",
              "      flex-wrap:wrap;\n",
              "      gap: 12px;\n",
              "    }\n",
              "\n",
              "    .colab-df-convert {\n",
              "      background-color: #E8F0FE;\n",
              "      border: none;\n",
              "      border-radius: 50%;\n",
              "      cursor: pointer;\n",
              "      display: none;\n",
              "      fill: #1967D2;\n",
              "      height: 32px;\n",
              "      padding: 0 0 0 0;\n",
              "      width: 32px;\n",
              "    }\n",
              "\n",
              "    .colab-df-convert:hover {\n",
              "      background-color: #E2EBFA;\n",
              "      box-shadow: 0px 1px 2px rgba(60, 64, 67, 0.3), 0px 1px 3px 1px rgba(60, 64, 67, 0.15);\n",
              "      fill: #174EA6;\n",
              "    }\n",
              "\n",
              "    [theme=dark] .colab-df-convert {\n",
              "      background-color: #3B4455;\n",
              "      fill: #D2E3FC;\n",
              "    }\n",
              "\n",
              "    [theme=dark] .colab-df-convert:hover {\n",
              "      background-color: #434B5C;\n",
              "      box-shadow: 0px 1px 3px 1px rgba(0, 0, 0, 0.15);\n",
              "      filter: drop-shadow(0px 1px 2px rgba(0, 0, 0, 0.3));\n",
              "      fill: #FFFFFF;\n",
              "    }\n",
              "  </style>\n",
              "\n",
              "      <script>\n",
              "        const buttonEl =\n",
              "          document.querySelector('#df-eba183ac-220f-4e69-9807-23d6d0de465f button.colab-df-convert');\n",
              "        buttonEl.style.display =\n",
              "          google.colab.kernel.accessAllowed ? 'block' : 'none';\n",
              "\n",
              "        async function convertToInteractive(key) {\n",
              "          const element = document.querySelector('#df-eba183ac-220f-4e69-9807-23d6d0de465f');\n",
              "          const dataTable =\n",
              "            await google.colab.kernel.invokeFunction('convertToInteractive',\n",
              "                                                     [key], {});\n",
              "          if (!dataTable) return;\n",
              "\n",
              "          const docLinkHtml = 'Like what you see? Visit the ' +\n",
              "            '<a target=\"_blank\" href=https://colab.research.google.com/notebooks/data_table.ipynb>data table notebook</a>'\n",
              "            + ' to learn more about interactive tables.';\n",
              "          element.innerHTML = '';\n",
              "          dataTable['output_type'] = 'display_data';\n",
              "          await google.colab.output.renderOutput(dataTable, element);\n",
              "          const docLink = document.createElement('div');\n",
              "          docLink.innerHTML = docLinkHtml;\n",
              "          element.appendChild(docLink);\n",
              "        }\n",
              "      </script>\n",
              "    </div>\n",
              "  </div>\n",
              "  "
            ],
            "text/plain": [
              "                                    Model  Accuracy     AUC  Recall   Prec.  \\\n",
              "catboost              CatBoost Classifier    0.6074  0.6496  0.6730  0.5947   \n",
              "lightgbm  Light Gradient Boosting Machine    0.6062  0.6483  0.6715  0.5936   \n",
              "rf               Random Forest Classifier    0.6052  0.6473  0.6142  0.6030   \n",
              "gbc          Gradient Boosting Classifier    0.5898  0.6266  0.6190  0.5846   \n",
              "et                 Extra Trees Classifier    0.5897  0.6245  0.5913  0.5890   \n",
              "ridge                    Ridge Classifier    0.5710  0.0000  0.5901  0.5680   \n",
              "lda          Linear Discriminant Analysis    0.5709  0.5995  0.5901  0.5680   \n",
              "ada                  Ada Boost Classifier    0.5729  0.6034  0.5857  0.5707   \n",
              "dt               Decision Tree Classifier    0.5479  0.5479  0.5495  0.5474   \n",
              "knn                K Neighbors Classifier    0.5412  0.5542  0.5567  0.5396   \n",
              "qda       Quadratic Discriminant Analysis    0.5041  0.5042  0.6068  0.5028   \n",
              "nb                            Naive Bayes    0.5364  0.5533  0.5499  0.5351   \n",
              "lr                    Logistic Regression    0.5439  0.5584  0.5230  0.5455   \n",
              "svm                   SVM - Linear Kernel    0.5035  0.0000  0.4056  0.5689   \n",
              "dummy                    Dummy Classifier    0.5004  0.5000  0.0000  0.0000   \n",
              "\n",
              "              F1   Kappa     MCC  TT (Sec)  \n",
              "catboost  0.6314  0.2149  0.2168    17.272  \n",
              "lightgbm  0.6302  0.2124  0.2143     6.532  \n",
              "rf        0.6086  0.2104  0.2104   140.674  \n",
              "gbc       0.6013  0.1797  0.1800   138.786  \n",
              "et        0.5902  0.1793  0.1793   199.830  \n",
              "ridge     0.5789  0.1419  0.1420     1.130  \n",
              "lda       0.5788  0.1419  0.1420    14.754  \n",
              "ada       0.5781  0.1458  0.1458    32.462  \n",
              "dt        0.5484  0.0957  0.0957    13.058  \n",
              "knn       0.5480  0.0823  0.0824    33.542  \n",
              "qda       0.5437  0.0083  0.0094    10.626  \n",
              "nb        0.5424  0.0728  0.0728     1.200  \n",
              "lr        0.5339  0.0878  0.0879    11.494  \n",
              "svm       0.2925  0.0069  0.0239   139.548  \n",
              "dummy     0.0000  0.0000  0.0000     0.322  "
            ]
          },
          "metadata": {}
        },
        {
          "output_type": "execute_result",
          "data": {
            "text/plain": [
              "<catboost.core.CatBoostClassifier at 0x7fb49e61c490>"
            ]
          },
          "metadata": {},
          "execution_count": 54
        }
      ],
      "source": [
        "compare_models(sort='F1')\n",
        "# 60m"
      ]
    },
    {
      "cell_type": "code",
      "execution_count": 55,
      "metadata": {
        "colab": {
          "base_uri": "https://localhost:8080/",
          "height": 269,
          "referenced_widgets": [
            "33f26dd2d49c490e97103b5803807fc8",
            "0b5b3688a9c94a2babe71097e82252d5",
            "570cccc21d9e4633b449bed475287499"
          ]
        },
        "id": "wx7nQ050skOr",
        "outputId": "450107c8-0f16-41d7-95ad-b5d3c06609b8"
      },
      "outputs": [
        {
          "output_type": "display_data",
          "data": {
            "text/html": [
              "\n",
              "  <div id=\"df-3eff22fd-1f67-406b-942e-8b0639ee31b0\">\n",
              "    <div class=\"colab-df-container\">\n",
              "      <div>\n",
              "<style scoped>\n",
              "    .dataframe tbody tr th:only-of-type {\n",
              "        vertical-align: middle;\n",
              "    }\n",
              "\n",
              "    .dataframe tbody tr th {\n",
              "        vertical-align: top;\n",
              "    }\n",
              "\n",
              "    .dataframe thead th {\n",
              "        text-align: right;\n",
              "    }\n",
              "</style>\n",
              "<table border=\"1\" class=\"dataframe\">\n",
              "  <thead>\n",
              "    <tr style=\"text-align: right;\">\n",
              "      <th></th>\n",
              "      <th>Accuracy</th>\n",
              "      <th>AUC</th>\n",
              "      <th>Recall</th>\n",
              "      <th>Prec.</th>\n",
              "      <th>F1</th>\n",
              "      <th>Kappa</th>\n",
              "      <th>MCC</th>\n",
              "    </tr>\n",
              "  </thead>\n",
              "  <tbody>\n",
              "    <tr>\n",
              "      <th>0</th>\n",
              "      <td>0.6065</td>\n",
              "      <td>0.6493</td>\n",
              "      <td>0.6724</td>\n",
              "      <td>0.5938</td>\n",
              "      <td>0.6307</td>\n",
              "      <td>0.2131</td>\n",
              "      <td>0.2150</td>\n",
              "    </tr>\n",
              "    <tr>\n",
              "      <th>1</th>\n",
              "      <td>0.6042</td>\n",
              "      <td>0.6465</td>\n",
              "      <td>0.6707</td>\n",
              "      <td>0.5917</td>\n",
              "      <td>0.6287</td>\n",
              "      <td>0.2086</td>\n",
              "      <td>0.2104</td>\n",
              "    </tr>\n",
              "    <tr>\n",
              "      <th>2</th>\n",
              "      <td>0.6124</td>\n",
              "      <td>0.6540</td>\n",
              "      <td>0.6761</td>\n",
              "      <td>0.5994</td>\n",
              "      <td>0.6354</td>\n",
              "      <td>0.2248</td>\n",
              "      <td>0.2266</td>\n",
              "    </tr>\n",
              "    <tr>\n",
              "      <th>3</th>\n",
              "      <td>0.6070</td>\n",
              "      <td>0.6496</td>\n",
              "      <td>0.6688</td>\n",
              "      <td>0.5950</td>\n",
              "      <td>0.6297</td>\n",
              "      <td>0.2141</td>\n",
              "      <td>0.2158</td>\n",
              "    </tr>\n",
              "    <tr>\n",
              "      <th>4</th>\n",
              "      <td>0.6063</td>\n",
              "      <td>0.6482</td>\n",
              "      <td>0.6753</td>\n",
              "      <td>0.5932</td>\n",
              "      <td>0.6316</td>\n",
              "      <td>0.2127</td>\n",
              "      <td>0.2148</td>\n",
              "    </tr>\n",
              "    <tr>\n",
              "      <th>Mean</th>\n",
              "      <td>0.6073</td>\n",
              "      <td>0.6495</td>\n",
              "      <td>0.6727</td>\n",
              "      <td>0.5946</td>\n",
              "      <td>0.6312</td>\n",
              "      <td>0.2147</td>\n",
              "      <td>0.2165</td>\n",
              "    </tr>\n",
              "    <tr>\n",
              "      <th>SD</th>\n",
              "      <td>0.0027</td>\n",
              "      <td>0.0025</td>\n",
              "      <td>0.0027</td>\n",
              "      <td>0.0026</td>\n",
              "      <td>0.0023</td>\n",
              "      <td>0.0054</td>\n",
              "      <td>0.0054</td>\n",
              "    </tr>\n",
              "  </tbody>\n",
              "</table>\n",
              "</div>\n",
              "      <button class=\"colab-df-convert\" onclick=\"convertToInteractive('df-3eff22fd-1f67-406b-942e-8b0639ee31b0')\"\n",
              "              title=\"Convert this dataframe to an interactive table.\"\n",
              "              style=\"display:none;\">\n",
              "        \n",
              "  <svg xmlns=\"http://www.w3.org/2000/svg\" height=\"24px\"viewBox=\"0 0 24 24\"\n",
              "       width=\"24px\">\n",
              "    <path d=\"M0 0h24v24H0V0z\" fill=\"none\"/>\n",
              "    <path d=\"M18.56 5.44l.94 2.06.94-2.06 2.06-.94-2.06-.94-.94-2.06-.94 2.06-2.06.94zm-11 1L8.5 8.5l.94-2.06 2.06-.94-2.06-.94L8.5 2.5l-.94 2.06-2.06.94zm10 10l.94 2.06.94-2.06 2.06-.94-2.06-.94-.94-2.06-.94 2.06-2.06.94z\"/><path d=\"M17.41 7.96l-1.37-1.37c-.4-.4-.92-.59-1.43-.59-.52 0-1.04.2-1.43.59L10.3 9.45l-7.72 7.72c-.78.78-.78 2.05 0 2.83L4 21.41c.39.39.9.59 1.41.59.51 0 1.02-.2 1.41-.59l7.78-7.78 2.81-2.81c.8-.78.8-2.07 0-2.86zM5.41 20L4 18.59l7.72-7.72 1.47 1.35L5.41 20z\"/>\n",
              "  </svg>\n",
              "      </button>\n",
              "      \n",
              "  <style>\n",
              "    .colab-df-container {\n",
              "      display:flex;\n",
              "      flex-wrap:wrap;\n",
              "      gap: 12px;\n",
              "    }\n",
              "\n",
              "    .colab-df-convert {\n",
              "      background-color: #E8F0FE;\n",
              "      border: none;\n",
              "      border-radius: 50%;\n",
              "      cursor: pointer;\n",
              "      display: none;\n",
              "      fill: #1967D2;\n",
              "      height: 32px;\n",
              "      padding: 0 0 0 0;\n",
              "      width: 32px;\n",
              "    }\n",
              "\n",
              "    .colab-df-convert:hover {\n",
              "      background-color: #E2EBFA;\n",
              "      box-shadow: 0px 1px 2px rgba(60, 64, 67, 0.3), 0px 1px 3px 1px rgba(60, 64, 67, 0.15);\n",
              "      fill: #174EA6;\n",
              "    }\n",
              "\n",
              "    [theme=dark] .colab-df-convert {\n",
              "      background-color: #3B4455;\n",
              "      fill: #D2E3FC;\n",
              "    }\n",
              "\n",
              "    [theme=dark] .colab-df-convert:hover {\n",
              "      background-color: #434B5C;\n",
              "      box-shadow: 0px 1px 3px 1px rgba(0, 0, 0, 0.15);\n",
              "      filter: drop-shadow(0px 1px 2px rgba(0, 0, 0, 0.3));\n",
              "      fill: #FFFFFF;\n",
              "    }\n",
              "  </style>\n",
              "\n",
              "      <script>\n",
              "        const buttonEl =\n",
              "          document.querySelector('#df-3eff22fd-1f67-406b-942e-8b0639ee31b0 button.colab-df-convert');\n",
              "        buttonEl.style.display =\n",
              "          google.colab.kernel.accessAllowed ? 'block' : 'none';\n",
              "\n",
              "        async function convertToInteractive(key) {\n",
              "          const element = document.querySelector('#df-3eff22fd-1f67-406b-942e-8b0639ee31b0');\n",
              "          const dataTable =\n",
              "            await google.colab.kernel.invokeFunction('convertToInteractive',\n",
              "                                                     [key], {});\n",
              "          if (!dataTable) return;\n",
              "\n",
              "          const docLinkHtml = 'Like what you see? Visit the ' +\n",
              "            '<a target=\"_blank\" href=https://colab.research.google.com/notebooks/data_table.ipynb>data table notebook</a>'\n",
              "            + ' to learn more about interactive tables.';\n",
              "          element.innerHTML = '';\n",
              "          dataTable['output_type'] = 'display_data';\n",
              "          await google.colab.output.renderOutput(dataTable, element);\n",
              "          const docLink = document.createElement('div');\n",
              "          docLink.innerHTML = docLinkHtml;\n",
              "          element.appendChild(docLink);\n",
              "        }\n",
              "      </script>\n",
              "    </div>\n",
              "  </div>\n",
              "  "
            ],
            "text/plain": [
              "      Accuracy     AUC  Recall   Prec.      F1   Kappa     MCC\n",
              "0       0.6065  0.6493  0.6724  0.5938  0.6307  0.2131  0.2150\n",
              "1       0.6042  0.6465  0.6707  0.5917  0.6287  0.2086  0.2104\n",
              "2       0.6124  0.6540  0.6761  0.5994  0.6354  0.2248  0.2266\n",
              "3       0.6070  0.6496  0.6688  0.5950  0.6297  0.2141  0.2158\n",
              "4       0.6063  0.6482  0.6753  0.5932  0.6316  0.2127  0.2148\n",
              "Mean    0.6073  0.6495  0.6727  0.5946  0.6312  0.2147  0.2165\n",
              "SD      0.0027  0.0025  0.0027  0.0026  0.0023  0.0054  0.0054"
            ]
          },
          "metadata": {}
        }
      ],
      "source": [
        "# 모델 생성\n",
        "model = create_model('catboost')\n",
        "# 1m"
      ]
    },
    {
      "cell_type": "code",
      "execution_count": 56,
      "metadata": {
        "colab": {
          "base_uri": "https://localhost:8080/",
          "height": 401,
          "referenced_widgets": [
            "14758aa968e34726a86e8b1f5ed26be4",
            "bf637231ee524dbfb56e366a32c85653",
            "c25ceaf48398429c9570fdee77b931bc"
          ]
        },
        "id": "KCk_4d4ozZ-Y",
        "outputId": "7d6b4a89-8c6b-42a1-ec11-54477204e888"
      },
      "outputs": [
        {
          "output_type": "display_data",
          "data": {
            "image/png": "[encoded data removed]",
            "text/plain": [
              "<Figure size 576x396 with 1 Axes>"
            ]
          },
          "metadata": {}
        }
      ],
      "source": [
        "plot_model(model, plot='confusion_matrix')"
      ]
    },
    {
      "cell_type": "code",
      "source": [
        "# optimize threshold for trained model\n",
        "optimize_threshold(model, false_negative=-1500, false_positive=-500)"
      ],
      "metadata": {
        "colab": {
          "base_uri": "https://localhost:8080/",
          "height": 579
        },
        "id": "a0ZnALr_xbGp",
        "outputId": "28606909-f86b-4deb-dd30-5febce94a077"
      },
      "execution_count": 57,
      "outputs": [
        {
          "output_type": "display_data",
          "data": {
            "text/html": [
              "\n",
              "  <style>\n",
              "    pre {\n",
              "        white-space: pre-wrap;\n",
              "    }\n",
              "  </style>\n",
              "  "
            ],
            "text/plain": [
              "<IPython.core.display.HTML object>"
            ]
          },
          "metadata": {}
        },
        {
          "output_type": "display_data",
          "data": {
            "text/html": [
              "<html>\n",
              "<head><meta charset=\"utf-8\" /></head>\n",
              "<body>\n",
              "    <div>\n",
              "            <script src=\"https://cdnjs.cloudflare.com/ajax/libs/mathjax/2.7.5/MathJax.js?config=TeX-AMS-MML_SVG\"></script><script type=\"text/javascript\">if (window.MathJax) {MathJax.Hub.Config({SVG: {font: \"STIX-Web\"}});}</script>\n",
              "                <script type=\"text/javascript\">window.PlotlyConfig = {MathJaxConfig: 'local'};</script>\n",
              "        <script src=\"https://cdn.plot.ly/plotly-latest.min.js\"></script>    \n",
              "            <div id=\"d2aad322-1aeb-4f7d-ae63-7db1108fbbd9\" class=\"plotly-graph-div\" style=\"height:525px; width:100%;\"></div>\n",
              "            <script type=\"text/javascript\">\n",
              "                \n",
              "                    window.PLOTLYENV=window.PLOTLYENV || {};\n",
              "                    \n",
              "                if (document.getElementById(\"d2aad322-1aeb-4f7d-ae63-7db1108fbbd9\")) {\n",
              "                    Plotly.newPlot(\n",
              "                        'd2aad322-1aeb-4f7d-ae63-7db1108fbbd9',\n",
              "                        [{\"hoverlabel\": {\"namelength\": 0}, \"hovertemplate\": \"Probability Threshold=%{x}<br>Cost Function=%{y}\", \"legendgroup\": \"\", \"line\": {\"color\": \"#636efa\", \"dash\": \"solid\", \"shape\": \"linear\"}, \"mode\": \"lines\", \"name\": \"\", \"showlegend\": false, \"type\": \"scattergl\", \"x\": [0.0, 0.0001, 0.0002, 0.00030000000000000003, 0.0004, 0.0005, 0.0006000000000000001, 0.0007, 0.0008, 0.0009000000000000001, 0.001, 0.0011, 0.0012000000000000001, 0.0013000000000000002, 0.0014, 0.0015, 0.0016, 0.0017000000000000001, 0.0018000000000000002, 0.0019, 0.002, 0.0021000000000000003, 0.0022, 0.0023, 0.0024000000000000002, 0.0025, 0.0026000000000000003, 0.0027, 0.0028, 0.0029000000000000002, 0.003, 0.0031000000000000003, 0.0032, 0.0033, 0.0034000000000000002, 0.0035, 0.0036000000000000003, 0.0037, 0.0038, 0.0039000000000000003, 0.004, 0.0041, 0.004200000000000001, 0.0043, 0.0044, 0.0045000000000000005, 0.0046, 0.0047, 0.0048000000000000004, 0.0049, 0.005, 0.0051, 0.005200000000000001, 0.0053, 0.0054, 0.0055000000000000005, 0.0056, 0.0057, 0.0058000000000000005, 0.0059, 0.006, 0.0061, 0.006200000000000001, 0.0063, 0.0064, 0.006500000000000001, 0.0066, 0.0067, 0.0068000000000000005, 0.006900000000000001, 0.007, 0.0071, 0.007200000000000001, 0.0073, 0.0074, 0.007500000000000001, 0.0076, 0.0077, 0.0078000000000000005, 0.0079, 0.008, 0.0081, 0.0082, 0.0083, 0.008400000000000001, 0.0085, 0.0086, 0.008700000000000001, 0.0088, 0.0089, 0.009000000000000001, 0.0091, 0.0092, 0.009300000000000001, 0.0094, 0.0095, 0.009600000000000001, 0.0097, 0.0098, 0.0099, 0.01, 0.010100000000000001, 0.0102, 0.0103, 0.010400000000000001, 0.0105, 0.0106, 0.010700000000000001, 0.0108, 0.0109, 0.011000000000000001, 0.0111, 0.0112, 0.011300000000000001, 0.0114, 0.0115, 0.011600000000000001, 0.0117, 0.0118, 0.0119, 0.012, 0.012100000000000001, 0.0122, 0.0123, 0.012400000000000001, 0.0125, 0.0126, 0.012700000000000001, 0.0128, 0.0129, 0.013000000000000001, 0.0131, 0.0132, 0.013300000000000001, 0.0134, 0.0135, 0.013600000000000001, 0.0137, 0.013800000000000002, 0.013900000000000001, 0.014, 0.014100000000000001, 0.0142, 0.0143, 0.014400000000000001, 0.0145, 0.0146, 0.014700000000000001, 0.0148, 0.0149, 0.015000000000000001, 0.0151, 0.0152, 0.015300000000000001, 0.0154, 0.0155, 0.015600000000000001, 0.015700000000000002, 0.0158, 0.0159, 0.016, 0.0161, 0.0162, 0.016300000000000002, 0.0164, 0.0165, 0.0166, 0.0167, 0.016800000000000002, 0.016900000000000002, 0.017, 0.0171, 0.0172, 0.0173, 0.017400000000000002, 0.0175, 0.0176, 0.0177, 0.0178, 0.0179, 0.018000000000000002, 0.0181, 0.0182, 0.0183, 0.0184, 0.018500000000000003, 0.018600000000000002, 0.0187, 0.0188, 0.0189, 0.019, 0.019100000000000002, 0.019200000000000002, 0.0193, 0.0194, 0.0195, 0.0196, 0.019700000000000002, 0.0198, 0.0199, 0.02, 0.0201, 0.020200000000000003, 0.020300000000000002, 0.0204, 0.0205, 0.0206, 0.0207, 0.020800000000000003, 0.020900000000000002, 0.021, 0.0211, 0.0212, 0.0213, 0.021400000000000002, 0.021500000000000002, 0.0216, 0.0217, 0.0218, 0.0219, 0.022000000000000002, 0.0221, 0.0222, 0.0223, 0.0224, 0.022500000000000003, 0.022600000000000002, 0.0227, 0.0228, 0.0229, 0.023, 0.023100000000000002, 0.023200000000000002, 0.0233, 0.0234, 0.0235, 0.0236, 0.023700000000000002, 0.0238, 0.0239, 0.024, 0.0241, 0.024200000000000003, 0.024300000000000002, 0.0244, 0.0245, 0.0246, 0.0247, 0.024800000000000003, 0.024900000000000002, 0.025, 0.0251, 0.0252, 0.0253, 0.025400000000000002, 0.025500000000000002, 0.0256, 0.0257, 0.0258, 0.025900000000000003, 0.026000000000000002, 0.0261, 0.0262, 0.0263, 0.0264, 0.026500000000000003, 0.026600000000000002, 0.0267, 0.0268, 0.0269, 0.027, 0.027100000000000003, 0.027200000000000002, 0.0273, 0.0274, 0.0275, 0.027600000000000003, 0.027700000000000002, 0.027800000000000002, 0.0279, 0.028, 0.0281, 0.028200000000000003, 0.028300000000000002, 0.0284, 0.0285, 0.0286, 0.0287, 0.028800000000000003, 0.028900000000000002, 0.029, 0.0291, 0.0292, 0.029300000000000003, 0.029400000000000003, 0.029500000000000002, 0.0296, 0.0297, 0.0298, 0.029900000000000003, 0.030000000000000002, 0.030100000000000002, 0.0302, 0.0303, 0.0304, 0.030500000000000003, 0.030600000000000002, 0.0307, 0.0308, 0.0309, 0.031, 0.031100000000000003, 0.031200000000000002, 0.0313, 0.031400000000000004, 0.0315, 0.0316, 0.0317, 0.0318, 0.031900000000000005, 0.032, 0.032100000000000004, 0.0322, 0.0323, 0.0324, 0.0325, 0.032600000000000004, 0.0327, 0.0328, 0.0329, 0.033, 0.033100000000000004, 0.0332, 0.0333, 0.0334, 0.0335, 0.033600000000000005, 0.0337, 0.033800000000000004, 0.0339, 0.034, 0.0341, 0.0342, 0.034300000000000004, 0.0344, 0.0345, 0.0346, 0.0347, 0.034800000000000005, 0.0349, 0.035, 0.0351, 0.0352, 0.035300000000000005, 0.0354, 0.035500000000000004, 0.0356, 0.0357, 0.0358, 0.0359, 0.036000000000000004, 0.0361, 0.0362, 0.0363, 0.0364, 0.036500000000000005, 0.0366, 0.0367, 0.0368, 0.0369, 0.037000000000000005, 0.0371, 0.037200000000000004, 0.0373, 0.0374, 0.0375, 0.0376, 0.037700000000000004, 0.0378, 0.0379, 0.038, 0.0381, 0.038200000000000005, 0.0383, 0.038400000000000004, 0.0385, 0.0386, 0.038700000000000005, 0.0388, 0.038900000000000004, 0.039, 0.0391, 0.0392, 0.0393, 0.039400000000000004, 0.0395, 0.0396, 0.0397, 0.0398, 0.039900000000000005, 0.04, 0.040100000000000004, 0.0402, 0.0403, 0.040400000000000005, 0.0405, 0.040600000000000004, 0.0407, 0.0408, 0.0409, 0.041, 0.041100000000000005, 0.0412, 0.0413, 0.0414, 0.0415, 0.041600000000000005, 0.0417, 0.041800000000000004, 0.0419, 0.042, 0.042100000000000005, 0.0422, 0.042300000000000004, 0.0424, 0.0425, 0.0426, 0.0427, 0.042800000000000005, 0.0429, 0.043000000000000003, 0.0431, 0.0432, 0.043300000000000005, 0.0434, 0.043500000000000004, 0.0436, 0.0437, 0.0438, 0.0439, 0.044000000000000004, 0.0441, 0.0442, 0.0443, 0.0444, 0.044500000000000005, 0.0446, 0.044700000000000004, 0.0448, 0.0449, 0.045000000000000005, 0.0451, 0.045200000000000004, 0.0453, 0.0454, 0.0455, 0.0456, 0.045700000000000005, 0.0458, 0.0459, 0.046, 0.0461, 0.046200000000000005, 0.0463, 0.046400000000000004, 0.0465, 0.0466, 0.046700000000000005, 0.0468, 0.046900000000000004, 0.047, 0.0471, 0.0472, 0.0473, 0.047400000000000005, 0.0475, 0.0476, 0.0477, 0.0478, 0.047900000000000005, 0.048, 0.048100000000000004, 0.0482, 0.0483, 0.048400000000000006, 0.0485, 0.048600000000000004, 0.0487, 0.0488, 0.0489, 0.049, 0.049100000000000005, 0.0492, 0.049300000000000004, 0.0494, 0.0495, 0.049600000000000005, 0.0497, 0.049800000000000004, 0.0499, 0.05, 0.050100000000000006, 0.0502, 0.050300000000000004, 0.0504, 0.0505, 0.0506, 0.0507, 0.050800000000000005, 0.0509, 0.051000000000000004, 0.0511, 0.0512, 0.051300000000000005, 0.0514, 0.051500000000000004, 0.0516, 0.0517, 0.051800000000000006, 0.0519, 0.052000000000000005, 0.0521, 0.0522, 0.0523, 0.0524, 0.052500000000000005, 0.0526, 0.052700000000000004, 0.0528, 0.0529, 0.053000000000000005, 0.0531, 0.053200000000000004, 0.0533, 0.0534, 0.053500000000000006, 0.0536, 0.053700000000000005, 0.0538, 0.0539, 0.054, 0.0541, 0.054200000000000005, 0.0543, 0.054400000000000004, 0.0545, 0.0546, 0.054700000000000006, 0.0548, 0.054900000000000004, 0.055, 0.0551, 0.055200000000000006, 0.0553, 0.055400000000000005, 0.0555, 0.055600000000000004, 0.0557, 0.0558, 0.055900000000000005, 0.056, 0.056100000000000004, 0.0562, 0.0563, 0.056400000000000006, 0.0565, 0.056600000000000004, 0.0567, 0.0568, 0.056900000000000006, 0.057, 0.057100000000000005, 0.0572, 0.057300000000000004, 0.0574, 0.0575, 0.057600000000000005, 0.0577, 0.057800000000000004, 0.0579, 0.058, 0.058100000000000006, 0.0582, 0.058300000000000005, 0.0584, 0.0585, 0.058600000000000006, 0.0587, 0.058800000000000005, 0.0589, 0.059000000000000004, 0.0591, 0.0592, 0.059300000000000005, 0.0594, 0.059500000000000004, 0.0596, 0.0597, 0.059800000000000006, 0.0599, 0.060000000000000005, 0.0601, 0.060200000000000004, 0.0603, 0.0604, 0.060500000000000005, 0.0606, 0.060700000000000004, 0.0608, 0.0609, 0.061000000000000006, 0.0611, 0.061200000000000004, 0.0613, 0.0614, 0.061500000000000006, 0.0616, 0.061700000000000005, 0.0618, 0.061900000000000004, 0.062, 0.0621, 0.062200000000000005, 0.0623, 0.062400000000000004, 0.0625, 0.0626, 0.0627, 0.06280000000000001, 0.0629, 0.063, 0.0631, 0.0632, 0.06330000000000001, 0.0634, 0.0635, 0.0636, 0.0637, 0.06380000000000001, 0.0639, 0.064, 0.0641, 0.06420000000000001, 0.06430000000000001, 0.0644, 0.0645, 0.0646, 0.06470000000000001, 0.0648, 0.0649, 0.065, 0.0651, 0.06520000000000001, 0.0653, 0.0654, 0.0655, 0.0656, 0.06570000000000001, 0.0658, 0.0659, 0.066, 0.0661, 0.06620000000000001, 0.0663, 0.0664, 0.0665, 0.0666, 0.06670000000000001, 0.0668, 0.0669, 0.067, 0.0671, 0.06720000000000001, 0.0673, 0.0674, 0.0675, 0.06760000000000001, 0.06770000000000001, 0.0678, 0.0679, 0.068, 0.06810000000000001, 0.0682, 0.0683, 0.0684, 0.0685, 0.06860000000000001, 0.0687, 0.0688, 0.0689, 0.069, 0.06910000000000001, 0.0692, 0.0693, 0.0694, 0.0695, 0.06960000000000001, 0.0697, 0.0698, 0.0699, 0.07, 0.07010000000000001, 0.0702, 0.0703, 0.0704, 0.07050000000000001, 0.07060000000000001, 0.0707, 0.0708, 0.0709, 0.07100000000000001, 0.0711, 0.0712, 0.0713, 0.0714, 0.07150000000000001, 0.0716, 0.0717, 0.0718, 0.0719, 0.07200000000000001, 0.0721, 0.0722, 0.0723, 0.0724, 0.07250000000000001, 0.0726, 0.0727, 0.0728, 0.0729, 0.07300000000000001, 0.0731, 0.0732, 0.0733, 0.0734, 0.07350000000000001, 0.0736, 0.0737, 0.0738, 0.07390000000000001, 0.07400000000000001, 0.0741, 0.0742, 0.0743, 0.07440000000000001, 0.0745, 0.0746, 0.0747, 0.0748, 0.07490000000000001, 0.075, 0.0751, 0.0752, 0.0753, 0.07540000000000001, 0.0755, 0.0756, 0.0757, 0.0758, 0.07590000000000001, 0.076, 0.0761, 0.0762, 0.0763, 0.07640000000000001, 0.0765, 0.0766, 0.0767, 0.07680000000000001, 0.07690000000000001, 0.077, 0.0771, 0.0772, 0.07730000000000001, 0.07740000000000001, 0.0775, 0.0776, 0.0777, 0.07780000000000001, 0.0779, 0.078, 0.0781, 0.0782, 0.07830000000000001, 0.0784, 0.0785, 0.0786, 0.0787, 0.07880000000000001, 0.0789, 0.079, 0.0791, 0.0792, 0.07930000000000001, 0.0794, 0.0795, 0.0796, 0.07970000000000001, 0.07980000000000001, 0.0799, 0.08, 0.0801, 0.08020000000000001, 0.08030000000000001, 0.0804, 0.0805, 0.0806, 0.08070000000000001, 0.08080000000000001, 0.0809, 0.081, 0.0811, 0.08120000000000001, 0.0813, 0.0814, 0.0815, 0.0816, 0.08170000000000001, 0.0818, 0.0819, 0.082, 0.0821, 0.08220000000000001, 0.0823, 0.0824, 0.0825, 0.0826, 0.08270000000000001, 0.0828, 0.0829, 0.083, 0.08310000000000001, 0.08320000000000001, 0.0833, 0.0834, 0.0835, 0.08360000000000001, 0.08370000000000001, 0.0838, 0.0839, 0.084, 0.08410000000000001, 0.08420000000000001, 0.0843, 0.0844, 0.0845, 0.08460000000000001, 0.0847, 0.0848, 0.0849, 0.085, 0.08510000000000001, 0.0852, 0.0853, 0.0854, 0.0855, 0.08560000000000001, 0.0857, 0.0858, 0.0859, 0.08600000000000001, 0.08610000000000001, 0.0862, 0.0863, 0.0864, 0.08650000000000001, 0.08660000000000001, 0.0867, 0.0868, 0.0869, 0.08700000000000001, 0.08710000000000001, 0.0872, 0.0873, 0.0874, 0.08750000000000001, 0.0876, 0.0877, 0.0878, 0.0879, 0.08800000000000001, 0.0881, 0.0882, 0.0883, 0.0884, 0.08850000000000001, 0.0886, 0.0887, 0.0888, 0.0889, 0.08900000000000001, 0.0891, 0.0892, 0.0893, 0.08940000000000001, 0.08950000000000001, 0.0896, 0.0897, 0.0898, 0.08990000000000001, 0.09000000000000001, 0.0901, 0.0902, 0.0903, 0.09040000000000001, 0.09050000000000001, 0.0906, 0.0907, 0.0908, 0.09090000000000001, 0.091, 0.0911, 0.0912, 0.0913, 0.09140000000000001, 0.0915, 0.0916, 0.0917, 0.0918, 0.09190000000000001, 0.092, 0.0921, 0.0922, 0.09230000000000001, 0.09240000000000001, 0.0925, 0.0926, 0.0927, 0.09280000000000001, 0.09290000000000001, 0.093, 0.0931, 0.0932, 0.09330000000000001, 0.09340000000000001, 0.0935, 0.0936, 0.0937, 0.09380000000000001, 0.09390000000000001, 0.094, 0.0941, 0.0942, 0.09430000000000001, 0.0944, 0.0945, 0.0946, 0.0947, 0.09480000000000001, 0.0949, 0.095, 0.0951, 0.0952, 0.09530000000000001, 0.0954, 0.0955, 0.0956, 0.09570000000000001, 0.09580000000000001, 0.0959, 0.096, 0.0961, 0.09620000000000001, 0.09630000000000001, 0.0964, 0.0965, 0.0966, 0.09670000000000001, 0.09680000000000001, 0.0969, 0.097, 0.0971, 0.09720000000000001, 0.09730000000000001, 0.0974, 0.0975, 0.0976, 0.09770000000000001, 0.0978, 0.0979, 0.098, 0.0981, 0.09820000000000001, 0.0983, 0.0984, 0.0985, 0.09860000000000001, 0.09870000000000001, 0.0988, 0.0989, 0.099, 0.09910000000000001, 0.09920000000000001, 0.0993, 0.0994, 0.0995, 0.09960000000000001, 0.09970000000000001, 0.0998, 0.0999, 0.1, 0.10010000000000001, 0.10020000000000001, 0.1003, 0.1004, 0.1005, 0.10060000000000001, 0.10070000000000001, 0.1008, 0.1009, 0.101, 0.10110000000000001, 0.1012, 0.1013, 0.1014, 0.1015, 0.10160000000000001, 0.1017, 0.1018, 0.1019, 0.10200000000000001, 0.10210000000000001, 0.1022, 0.1023, 0.1024, 0.10250000000000001, 0.10260000000000001, 0.1027, 0.1028, 0.1029, 0.10300000000000001, 0.10310000000000001, 0.1032, 0.1033, 0.1034, 0.10350000000000001, 0.10360000000000001, 0.1037, 0.1038, 0.1039, 0.10400000000000001, 0.1041, 0.1042, 0.1043, 0.1044, 0.10450000000000001, 0.1046, 0.1047, 0.1048, 0.10490000000000001, 0.10500000000000001, 0.1051, 0.1052, 0.1053, 0.10540000000000001, 0.10550000000000001, 0.1056, 0.1057, 0.1058, 0.10590000000000001, 0.10600000000000001, 0.1061, 0.1062, 0.1063, 0.10640000000000001, 0.10650000000000001, 0.1066, 0.1067, 0.1068, 0.10690000000000001, 0.10700000000000001, 0.1071, 0.1072, 0.1073, 0.10740000000000001, 0.1075, 0.1076, 0.1077, 0.1078, 0.10790000000000001, 0.108, 0.1081, 0.1082, 0.10830000000000001, 0.10840000000000001, 0.1085, 0.1086, 0.1087, 0.10880000000000001, 0.10890000000000001, 0.109, 0.1091, 0.1092, 0.10930000000000001, 0.10940000000000001, 0.1095, 0.1096, 0.1097, 0.10980000000000001, 0.10990000000000001, 0.11, 0.1101, 0.1102, 0.11030000000000001, 0.11040000000000001, 0.1105, 0.1106, 0.1107, 0.11080000000000001, 0.1109, 0.111, 0.1111, 0.11120000000000001, 0.11130000000000001, 0.1114, 0.1115, 0.1116, 0.11170000000000001, 0.11180000000000001, 0.1119, 0.112, 0.1121, 0.11220000000000001, 0.11230000000000001, 0.1124, 0.1125, 0.1126, 0.11270000000000001, 0.11280000000000001, 0.1129, 0.113, 0.1131, 0.11320000000000001, 0.11330000000000001, 0.1134, 0.1135, 0.1136, 0.11370000000000001, 0.11380000000000001, 0.1139, 0.114, 0.11410000000000001, 0.11420000000000001, 0.1143, 0.1144, 0.1145, 0.11460000000000001, 0.11470000000000001, 0.1148, 0.1149, 0.115, 0.11510000000000001, 0.11520000000000001, 0.1153, 0.1154, 0.1155, 0.11560000000000001, 0.11570000000000001, 0.1158, 0.1159, 0.116, 0.11610000000000001, 0.11620000000000001, 0.1163, 0.1164, 0.1165, 0.11660000000000001, 0.11670000000000001, 0.1168, 0.1169, 0.117, 0.11710000000000001, 0.11720000000000001, 0.1173, 0.1174, 0.11750000000000001, 0.11760000000000001, 0.1177, 0.1178, 0.1179, 0.11800000000000001, 0.11810000000000001, 0.1182, 0.1183, 0.1184, 0.11850000000000001, 0.11860000000000001, 0.1187, 0.1188, 0.1189, 0.11900000000000001, 0.11910000000000001, 0.1192, 0.1193, 0.1194, 0.11950000000000001, 0.11960000000000001, 0.1197, 0.1198, 0.1199, 0.12000000000000001, 0.12010000000000001, 0.1202, 0.1203, 0.12040000000000001, 0.12050000000000001, 0.1206, 0.1207, 0.1208, 0.12090000000000001, 0.12100000000000001, 0.1211, 0.1212, 0.1213, 0.12140000000000001, 0.12150000000000001, 0.1216, 0.1217, 0.1218, 0.12190000000000001, 0.12200000000000001, 0.1221, 0.1222, 0.1223, 0.12240000000000001, 0.12250000000000001, 0.1226, 0.1227, 0.1228, 0.12290000000000001, 0.12300000000000001, 0.1231, 0.1232, 0.1233, 0.12340000000000001, 0.12350000000000001, 0.1236, 0.1237, 0.12380000000000001, 0.12390000000000001, 0.124, 0.1241, 0.1242, 0.12430000000000001, 0.12440000000000001, 0.1245, 0.1246, 0.1247, 0.12480000000000001, 0.12490000000000001, 0.125, 0.12510000000000002, 0.1252, 0.1253, 0.1254, 0.1255, 0.12560000000000002, 0.1257, 0.1258, 0.1259, 0.126, 0.12610000000000002, 0.1262, 0.1263, 0.1264, 0.1265, 0.12660000000000002, 0.1267, 0.1268, 0.1269, 0.127, 0.12710000000000002, 0.1272, 0.1273, 0.1274, 0.1275, 0.12760000000000002, 0.1277, 0.1278, 0.1279, 0.128, 0.12810000000000002, 0.1282, 0.1283, 0.12840000000000001, 0.1285, 0.12860000000000002, 0.1287, 0.1288, 0.12890000000000001, 0.129, 0.1291, 0.1292, 0.1293, 0.12940000000000002, 0.1295, 0.1296, 0.1297, 0.1298, 0.12990000000000002, 0.13, 0.1301, 0.1302, 0.1303, 0.13040000000000002, 0.1305, 0.1306, 0.1307, 0.1308, 0.13090000000000002, 0.131, 0.1311, 0.1312, 0.1313, 0.13140000000000002, 0.1315, 0.1316, 0.1317, 0.1318, 0.13190000000000002, 0.132, 0.1321, 0.1322, 0.1323, 0.13240000000000002, 0.1325, 0.1326, 0.1327, 0.1328, 0.13290000000000002, 0.133, 0.1331, 0.1332, 0.1333, 0.13340000000000002, 0.1335, 0.1336, 0.1337, 0.1338, 0.13390000000000002, 0.134, 0.1341, 0.1342, 0.1343, 0.13440000000000002, 0.1345, 0.1346, 0.13470000000000001, 0.1348, 0.13490000000000002, 0.135, 0.1351, 0.13520000000000001, 0.1353, 0.13540000000000002, 0.1355, 0.1356, 0.13570000000000002, 0.1358, 0.1359, 0.136, 0.1361, 0.13620000000000002, 0.1363, 0.1364, 0.1365, 0.1366, 0.13670000000000002, 0.1368, 0.1369, 0.137, 0.1371, 0.13720000000000002, 0.1373, 0.1374, 0.1375, 0.1376, 0.13770000000000002, 0.1378, 0.1379, 0.138, 0.1381, 0.13820000000000002, 0.1383, 0.1384, 0.1385, 0.1386, 0.13870000000000002, 0.1388, 0.1389, 0.139, 0.1391, 0.13920000000000002, 0.1393, 0.1394, 0.1395, 0.1396, 0.13970000000000002, 0.1398, 0.1399, 0.14, 0.1401, 0.14020000000000002, 0.1403, 0.1404, 0.1405, 0.1406, 0.14070000000000002, 0.1408, 0.1409, 0.14100000000000001, 0.1411, 0.14120000000000002, 0.1413, 0.1414, 0.14150000000000001, 0.1416, 0.14170000000000002, 0.1418, 0.1419, 0.14200000000000002, 0.1421, 0.1422, 0.1423, 0.1424, 0.14250000000000002, 0.1426, 0.1427, 0.1428, 0.1429, 0.14300000000000002, 0.1431, 0.1432, 0.1433, 0.1434, 0.14350000000000002, 0.1436, 0.1437, 0.1438, 0.1439, 0.14400000000000002, 0.1441, 0.1442, 0.1443, 0.1444, 0.14450000000000002, 0.1446, 0.1447, 0.1448, 0.1449, 0.14500000000000002, 0.1451, 0.1452, 0.1453, 0.1454, 0.14550000000000002, 0.1456, 0.1457, 0.1458, 0.1459, 0.14600000000000002, 0.1461, 0.1462, 0.1463, 0.1464, 0.14650000000000002, 0.1466, 0.1467, 0.1468, 0.1469, 0.14700000000000002, 0.1471, 0.1472, 0.14730000000000001, 0.1474, 0.14750000000000002, 0.1476, 0.1477, 0.14780000000000001, 0.1479, 0.14800000000000002, 0.1481, 0.1482, 0.14830000000000002, 0.1484, 0.14850000000000002, 0.1486, 0.1487, 0.14880000000000002, 0.1489, 0.149, 0.1491, 0.1492, 0.14930000000000002, 0.1494, 0.1495, 0.1496, 0.1497, 0.14980000000000002, 0.1499, 0.15, 0.1501, 0.1502, 0.15030000000000002, 0.1504, 0.1505, 0.1506, 0.1507, 0.15080000000000002, 0.1509, 0.151, 0.1511, 0.1512, 0.15130000000000002, 0.1514, 0.1515, 0.1516, 0.1517, 0.15180000000000002, 0.1519, 0.152, 0.1521, 0.1522, 0.15230000000000002, 0.1524, 0.1525, 0.1526, 0.1527, 0.15280000000000002, 0.1529, 0.153, 0.1531, 0.1532, 0.15330000000000002, 0.1534, 0.1535, 0.15360000000000001, 0.1537, 0.15380000000000002, 0.1539, 0.154, 0.15410000000000001, 0.1542, 0.15430000000000002, 0.1544, 0.1545, 0.15460000000000002, 0.1547, 0.15480000000000002, 0.1549, 0.155, 0.15510000000000002, 0.1552, 0.1553, 0.1554, 0.1555, 0.15560000000000002, 0.1557, 0.1558, 0.1559, 0.156, 0.15610000000000002, 0.1562, 0.1563, 0.1564, 0.1565, 0.15660000000000002, 0.1567, 0.1568, 0.1569, 0.157, 0.15710000000000002, 0.1572, 0.1573, 0.1574, 0.1575, 0.15760000000000002, 0.1577, 0.1578, 0.1579, 0.158, 0.15810000000000002, 0.1582, 0.1583, 0.1584, 0.1585, 0.15860000000000002, 0.1587, 0.1588, 0.1589, 0.159, 0.15910000000000002, 0.1592, 0.1593, 0.15940000000000001, 0.1595, 0.15960000000000002, 0.1597, 0.1598, 0.15990000000000001, 0.16, 0.16010000000000002, 0.1602, 0.1603, 0.16040000000000001, 0.1605, 0.16060000000000002, 0.1607, 0.1608, 0.16090000000000002, 0.161, 0.16110000000000002, 0.1612, 0.1613, 0.16140000000000002, 0.1615, 0.16160000000000002, 0.1617, 0.1618, 0.16190000000000002, 0.162, 0.1621, 0.1622, 0.1623, 0.16240000000000002, 0.1625, 0.1626, 0.1627, 0.1628, 0.16290000000000002, 0.163, 0.1631, 0.1632, 0.1633, 0.16340000000000002, 0.1635, 0.1636, 0.1637, 0.1638, 0.16390000000000002, 0.164, 0.1641, 0.1642, 0.1643, 0.16440000000000002, 0.1645, 0.1646, 0.1647, 0.1648, 0.16490000000000002, 0.165, 0.1651, 0.1652, 0.1653, 0.16540000000000002, 0.1655, 0.1656, 0.16570000000000001, 0.1658, 0.16590000000000002, 0.166, 0.1661, 0.16620000000000001, 0.1663, 0.16640000000000002, 0.1665, 0.1666, 0.16670000000000001, 0.1668, 0.16690000000000002, 0.167, 0.1671, 0.16720000000000002, 0.1673, 0.16740000000000002, 0.1675, 0.1676, 0.16770000000000002, 0.1678, 0.16790000000000002, 0.168, 0.1681, 0.16820000000000002, 0.1683, 0.16840000000000002, 0.1685, 0.1686, 0.16870000000000002, 0.1688, 0.1689, 0.169, 0.1691, 0.16920000000000002, 0.1693, 0.1694, 0.1695, 0.1696, 0.16970000000000002, 0.1698, 0.1699, 0.17, 0.1701, 0.17020000000000002, 0.1703, 0.1704, 0.1705, 0.1706, 0.17070000000000002, 0.1708, 0.1709, 0.171, 0.1711, 0.17120000000000002, 0.1713, 0.1714, 0.1715, 0.1716, 0.17170000000000002, 0.1718, 0.1719, 0.17200000000000001, 0.1721, 0.17220000000000002, 0.1723, 0.1724, 0.17250000000000001, 0.1726, 0.17270000000000002, 0.1728, 0.1729, 0.17300000000000001, 0.1731, 0.17320000000000002, 0.1733, 0.1734, 0.17350000000000002, 0.1736, 0.17370000000000002, 0.1738, 0.1739, 0.17400000000000002, 0.1741, 0.17420000000000002, 0.1743, 0.1744, 0.17450000000000002, 0.1746, 0.17470000000000002, 0.1748, 0.1749, 0.17500000000000002, 0.1751, 0.1752, 0.1753, 0.1754, 0.17550000000000002, 0.1756, 0.1757, 0.1758, 0.1759, 0.17600000000000002, 0.1761, 0.1762, 0.1763, 0.1764, 0.17650000000000002, 0.1766, 0.1767, 0.1768, 0.1769, 0.17700000000000002, 0.1771, 0.1772, 0.1773, 0.1774, 0.17750000000000002, 0.1776, 0.1777, 0.1778, 0.1779, 0.17800000000000002, 0.1781, 0.1782, 0.17830000000000001, 0.1784, 0.17850000000000002, 0.1786, 0.1787, 0.17880000000000001, 0.1789, 0.17900000000000002, 0.1791, 0.1792, 0.17930000000000001, 0.1794, 0.17950000000000002, 0.1796, 0.1797, 0.17980000000000002, 0.1799, 0.18000000000000002, 0.1801, 0.1802, 0.18030000000000002, 0.1804, 0.18050000000000002, 0.1806, 0.1807, 0.18080000000000002, 0.1809, 0.18100000000000002, 0.1811, 0.1812, 0.18130000000000002, 0.1814, 0.18150000000000002, 0.1816, 0.1817, 0.18180000000000002, 0.1819, 0.182, 0.1821, 0.1822, 0.18230000000000002, 0.1824, 0.1825, 0.1826, 0.1827, 0.18280000000000002, 0.1829, 0.183, 0.1831, 0.1832, 0.18330000000000002, 0.1834, 0.1835, 0.1836, 0.1837, 0.18380000000000002, 0.1839, 0.184, 0.1841, 0.1842, 0.18430000000000002, 0.1844, 0.1845, 0.18460000000000001, 0.1847, 0.18480000000000002, 0.1849, 0.185, 0.18510000000000001, 0.1852, 0.18530000000000002, 0.1854, 0.1855, 0.18560000000000001, 0.1857, 0.18580000000000002, 0.1859, 0.186, 0.18610000000000002, 0.1862, 0.18630000000000002, 0.1864, 0.1865, 0.18660000000000002, 0.1867, 0.18680000000000002, 0.1869, 0.187, 0.18710000000000002, 0.1872, 0.18730000000000002, 0.1874, 0.1875, 0.18760000000000002, 0.1877, 0.18780000000000002, 0.1879, 0.188, 0.18810000000000002, 0.1882, 0.1883, 0.1884, 0.1885, 0.18860000000000002, 0.1887, 0.1888, 0.1889, 0.189, 0.18910000000000002, 0.1892, 0.1893, 0.1894, 0.1895, 0.18960000000000002, 0.1897, 0.1898, 0.1899, 0.19, 0.19010000000000002, 0.1902, 0.1903, 0.1904, 0.1905, 0.19060000000000002, 0.1907, 0.1908, 0.19090000000000001, 0.191, 0.19110000000000002, 0.1912, 0.1913, 0.19140000000000001, 0.1915, 0.19160000000000002, 0.1917, 0.1918, 0.19190000000000002, 0.192, 0.19210000000000002, 0.1922, 0.1923, 0.19240000000000002, 0.1925, 0.19260000000000002, 0.1927, 0.1928, 0.19290000000000002, 0.193, 0.19310000000000002, 0.1932, 0.1933, 0.19340000000000002, 0.1935, 0.19360000000000002, 0.1937, 0.1938, 0.19390000000000002, 0.194, 0.19410000000000002, 0.1942, 0.1943, 0.19440000000000002, 0.1945, 0.19460000000000002, 0.1947, 0.1948, 0.19490000000000002, 0.195, 0.1951, 0.1952, 0.1953, 0.19540000000000002, 0.1955, 0.1956, 0.1957, 0.1958, 0.19590000000000002, 0.196, 0.1961, 0.1962, 0.1963, 0.19640000000000002, 0.1965, 0.1966, 0.1967, 0.1968, 0.19690000000000002, 0.197, 0.1971, 0.19720000000000001, 0.1973, 0.19740000000000002, 0.1975, 0.1976, 0.19770000000000001, 0.1978, 0.19790000000000002, 0.198, 0.1981, 0.19820000000000002, 0.1983, 0.19840000000000002, 0.1985, 0.1986, 0.19870000000000002, 0.1988, 0.19890000000000002, 0.199, 0.1991, 0.19920000000000002, 0.1993, 0.19940000000000002, 0.1995, 0.1996, 0.19970000000000002, 0.1998, 0.19990000000000002, 0.2, 0.2001, 0.20020000000000002, 0.2003, 0.20040000000000002, 0.2005, 0.2006, 0.20070000000000002, 0.2008, 0.20090000000000002, 0.201, 0.2011, 0.20120000000000002, 0.2013, 0.20140000000000002, 0.2015, 0.2016, 0.20170000000000002, 0.2018, 0.2019, 0.202, 0.2021, 0.20220000000000002, 0.2023, 0.2024, 0.2025, 0.2026, 0.20270000000000002, 0.2028, 0.2029, 0.203, 0.2031, 0.20320000000000002, 0.2033, 0.2034, 0.20350000000000001, 0.2036, 0.20370000000000002, 0.2038, 0.2039, 0.20400000000000001, 0.2041, 0.20420000000000002, 0.2043, 0.2044, 0.20450000000000002, 0.2046, 0.20470000000000002, 0.2048, 0.2049, 0.20500000000000002, 0.2051, 0.20520000000000002, 0.2053, 0.2054, 0.20550000000000002, 0.2056, 0.20570000000000002, 0.2058, 0.2059, 0.20600000000000002, 0.2061, 0.20620000000000002, 0.2063, 0.2064, 0.20650000000000002, 0.2066, 0.20670000000000002, 0.2068, 0.2069, 0.20700000000000002, 0.2071, 0.20720000000000002, 0.2073, 0.2074, 0.20750000000000002, 0.2076, 0.20770000000000002, 0.2078, 0.2079, 0.20800000000000002, 0.2081, 0.2082, 0.2083, 0.2084, 0.20850000000000002, 0.2086, 0.2087, 0.2088, 0.2089, 0.20900000000000002, 0.2091, 0.2092, 0.2093, 0.2094, 0.20950000000000002, 0.2096, 0.2097, 0.20980000000000001, 0.2099, 0.21000000000000002, 0.2101, 0.2102, 0.21030000000000001, 0.2104, 0.21050000000000002, 0.2106, 0.2107, 0.21080000000000002, 0.2109, 0.21100000000000002, 0.2111, 0.2112, 0.21130000000000002, 0.2114, 0.21150000000000002, 0.2116, 0.2117, 0.21180000000000002, 0.2119, 0.21200000000000002, 0.2121, 0.2122, 0.21230000000000002, 0.2124, 0.21250000000000002, 0.2126, 0.2127, 0.21280000000000002, 0.2129, 0.21300000000000002, 0.2131, 0.2132, 0.21330000000000002, 0.2134, 0.21350000000000002, 0.2136, 0.2137, 0.21380000000000002, 0.2139, 0.21400000000000002, 0.2141, 0.2142, 0.21430000000000002, 0.2144, 0.21450000000000002, 0.2146, 0.2147, 0.21480000000000002, 0.2149, 0.215, 0.2151, 0.2152, 0.21530000000000002, 0.2154, 0.2155, 0.2156, 0.2157, 0.21580000000000002, 0.2159, 0.216, 0.21610000000000001, 0.2162, 0.21630000000000002, 0.2164, 0.2165, 0.21660000000000001, 0.2167, 0.21680000000000002, 0.2169, 0.217, 0.21710000000000002, 0.2172, 0.21730000000000002, 0.2174, 0.2175, 0.21760000000000002, 0.2177, 0.21780000000000002, 0.2179, 0.218, 0.21810000000000002, 0.2182, 0.21830000000000002, 0.2184, 0.2185, 0.21860000000000002, 0.2187, 0.21880000000000002, 0.2189, 0.219, 0.21910000000000002, 0.2192, 0.21930000000000002, 0.2194, 0.2195, 0.21960000000000002, 0.2197, 0.21980000000000002, 0.2199, 0.22, 0.22010000000000002, 0.2202, 0.22030000000000002, 0.2204, 0.2205, 0.22060000000000002, 0.2207, 0.22080000000000002, 0.2209, 0.221, 0.22110000000000002, 0.2212, 0.22130000000000002, 0.2214, 0.2215, 0.22160000000000002, 0.2217, 0.2218, 0.22190000000000001, 0.222, 0.22210000000000002, 0.2222, 0.2223, 0.22240000000000001, 0.2225, 0.22260000000000002, 0.2227, 0.2228, 0.22290000000000001, 0.223, 0.22310000000000002, 0.2232, 0.2233, 0.22340000000000002, 0.2235, 0.22360000000000002, 0.2237, 0.2238, 0.22390000000000002, 0.224, 0.22410000000000002, 0.2242, 0.2243, 0.22440000000000002, 0.2245, 0.22460000000000002, 0.2247, 0.2248, 0.22490000000000002, 0.225, 0.22510000000000002, 0.2252, 0.2253, 0.22540000000000002, 0.2255, 0.22560000000000002, 0.2257, 0.2258, 0.22590000000000002, 0.226, 0.22610000000000002, 0.2262, 0.2263, 0.22640000000000002, 0.2265, 0.22660000000000002, 0.2267, 0.2268, 0.22690000000000002, 0.227, 0.22710000000000002, 0.2272, 0.2273, 0.22740000000000002, 0.2275, 0.22760000000000002, 0.2277, 0.2278, 0.22790000000000002, 0.228, 0.2281, 0.22820000000000001, 0.2283, 0.22840000000000002, 0.2285, 0.2286, 0.22870000000000001, 0.2288, 0.22890000000000002, 0.229, 0.2291, 0.22920000000000001, 0.2293, 0.22940000000000002, 0.2295, 0.2296, 0.22970000000000002, 0.2298, 0.22990000000000002, 0.23, 0.2301, 0.23020000000000002, 0.2303, 0.23040000000000002, 0.2305, 0.2306, 0.23070000000000002, 0.2308, 0.23090000000000002, 0.231, 0.2311, 0.23120000000000002, 0.2313, 0.23140000000000002, 0.2315, 0.2316, 0.23170000000000002, 0.2318, 0.23190000000000002, 0.232, 0.2321, 0.23220000000000002, 0.2323, 0.23240000000000002, 0.2325, 0.2326, 0.23270000000000002, 0.2328, 0.23290000000000002, 0.233, 0.2331, 0.23320000000000002, 0.2333, 0.23340000000000002, 0.2335, 0.2336, 0.23370000000000002, 0.2338, 0.23390000000000002, 0.234, 0.2341, 0.23420000000000002, 0.2343, 0.23440000000000003, 0.23450000000000001, 0.2346, 0.23470000000000002, 0.2348, 0.2349, 0.23500000000000001, 0.2351, 0.23520000000000002, 0.2353, 0.2354, 0.23550000000000001, 0.2356, 0.23570000000000002, 0.2358, 0.2359, 0.23600000000000002, 0.2361, 0.23620000000000002, 0.2363, 0.2364, 0.23650000000000002, 0.2366, 0.23670000000000002, 0.2368, 0.2369, 0.23700000000000002, 0.2371, 0.23720000000000002, 0.2373, 0.2374, 0.23750000000000002, 0.2376, 0.23770000000000002, 0.2378, 0.2379, 0.23800000000000002, 0.2381, 0.23820000000000002, 0.2383, 0.2384, 0.23850000000000002, 0.2386, 0.23870000000000002, 0.2388, 0.2389, 0.23900000000000002, 0.2391, 0.23920000000000002, 0.2393, 0.2394, 0.23950000000000002, 0.2396, 0.23970000000000002, 0.2398, 0.2399, 0.24000000000000002, 0.2401, 0.24020000000000002, 0.2403, 0.2404, 0.24050000000000002, 0.2406, 0.24070000000000003, 0.24080000000000001, 0.2409, 0.24100000000000002, 0.2411, 0.2412, 0.24130000000000001, 0.2414, 0.24150000000000002, 0.2416, 0.2417, 0.24180000000000001, 0.2419, 0.24200000000000002, 0.2421, 0.2422, 0.24230000000000002, 0.2424, 0.24250000000000002, 0.2426, 0.2427, 0.24280000000000002, 0.2429, 0.24300000000000002, 0.2431, 0.2432, 0.24330000000000002, 0.2434, 0.24350000000000002, 0.2436, 0.2437, 0.24380000000000002, 0.2439, 0.24400000000000002, 0.2441, 0.2442, 0.24430000000000002, 0.2444, 0.24450000000000002, 0.2446, 0.2447, 0.24480000000000002, 0.2449, 0.24500000000000002, 0.2451, 0.2452, 0.24530000000000002, 0.2454, 0.24550000000000002, 0.2456, 0.2457, 0.24580000000000002, 0.2459, 0.24600000000000002, 0.2461, 0.2462, 0.24630000000000002, 0.2464, 0.24650000000000002, 0.2466, 0.2467, 0.24680000000000002, 0.2469, 0.24700000000000003, 0.24710000000000001, 0.2472, 0.24730000000000002, 0.2474, 0.24750000000000003, 0.24760000000000001, 0.2477, 0.24780000000000002, 0.2479, 0.248, 0.24810000000000001, 0.2482, 0.24830000000000002, 0.2484, 0.2485, 0.24860000000000002, 0.2487, 0.24880000000000002, 0.2489, 0.249, 0.24910000000000002, 0.2492, 0.24930000000000002, 0.2494, 0.2495, 0.24960000000000002, 0.2497, 0.24980000000000002, 0.2499, 0.25, 0.2501, 0.25020000000000003, 0.2503, 0.2504, 0.2505, 0.2506, 0.25070000000000003, 0.2508, 0.2509, 0.251, 0.2511, 0.25120000000000003, 0.2513, 0.2514, 0.2515, 0.2516, 0.25170000000000003, 0.2518, 0.2519, 0.252, 0.2521, 0.25220000000000004, 0.2523, 0.2524, 0.2525, 0.2526, 0.25270000000000004, 0.2528, 0.2529, 0.253, 0.2531, 0.25320000000000004, 0.2533, 0.2534, 0.2535, 0.2536, 0.25370000000000004, 0.2538, 0.2539, 0.254, 0.2541, 0.25420000000000004, 0.2543, 0.2544, 0.2545, 0.2546, 0.25470000000000004, 0.2548, 0.2549, 0.255, 0.2551, 0.25520000000000004, 0.2553, 0.2554, 0.2555, 0.2556, 0.25570000000000004, 0.2558, 0.2559, 0.256, 0.2561, 0.25620000000000004, 0.25630000000000003, 0.2564, 0.2565, 0.2566, 0.25670000000000004, 0.25680000000000003, 0.2569, 0.257, 0.2571, 0.25720000000000004, 0.25730000000000003, 0.2574, 0.2575, 0.2576, 0.2577, 0.25780000000000003, 0.2579, 0.258, 0.2581, 0.2582, 0.25830000000000003, 0.2584, 0.2585, 0.2586, 0.2587, 0.25880000000000003, 0.2589, 0.259, 0.2591, 0.2592, 0.25930000000000003, 0.2594, 0.2595, 0.2596, 0.2597, 0.25980000000000003, 0.2599, 0.26, 0.2601, 0.2602, 0.26030000000000003, 0.2604, 0.2605, 0.2606, 0.2607, 0.26080000000000003, 0.2609, 0.261, 0.2611, 0.2612, 0.26130000000000003, 0.2614, 0.2615, 0.2616, 0.2617, 0.26180000000000003, 0.2619, 0.262, 0.2621, 0.2622, 0.26230000000000003, 0.2624, 0.2625, 0.2626, 0.2627, 0.26280000000000003, 0.2629, 0.263, 0.2631, 0.2632, 0.26330000000000003, 0.2634, 0.2635, 0.2636, 0.2637, 0.26380000000000003, 0.2639, 0.264, 0.2641, 0.2642, 0.26430000000000003, 0.2644, 0.2645, 0.2646, 0.2647, 0.26480000000000004, 0.2649, 0.265, 0.2651, 0.2652, 0.26530000000000004, 0.2654, 0.2655, 0.2656, 0.2657, 0.26580000000000004, 0.2659, 0.266, 0.2661, 0.2662, 0.26630000000000004, 0.2664, 0.2665, 0.2666, 0.2667, 0.26680000000000004, 0.2669, 0.267, 0.2671, 0.2672, 0.26730000000000004, 0.2674, 0.2675, 0.2676, 0.2677, 0.26780000000000004, 0.2679, 0.268, 0.2681, 0.2682, 0.26830000000000004, 0.2684, 0.2685, 0.2686, 0.2687, 0.26880000000000004, 0.26890000000000003, 0.269, 0.2691, 0.2692, 0.26930000000000004, 0.26940000000000003, 0.2695, 0.2696, 0.2697, 0.26980000000000004, 0.26990000000000003, 0.27, 0.2701, 0.2702, 0.27030000000000004, 0.27040000000000003, 0.2705, 0.2706, 0.2707, 0.27080000000000004, 0.27090000000000003, 0.271, 0.2711, 0.2712, 0.2713, 0.27140000000000003, 0.2715, 0.2716, 0.2717, 0.2718, 0.27190000000000003, 0.272, 0.2721, 0.2722, 0.2723, 0.27240000000000003, 0.2725, 0.2726, 0.2727, 0.2728, 0.27290000000000003, 0.273, 0.2731, 0.2732, 0.2733, 0.27340000000000003, 0.2735, 0.2736, 0.2737, 0.2738, 0.27390000000000003, 0.274, 0.2741, 0.2742, 0.2743, 0.27440000000000003, 0.2745, 0.2746, 0.2747, 0.2748, 0.27490000000000003, 0.275, 0.2751, 0.2752, 0.2753, 0.27540000000000003, 0.2755, 0.2756, 0.2757, 0.2758, 0.27590000000000003, 0.276, 0.2761, 0.2762, 0.2763, 0.27640000000000003, 0.2765, 0.2766, 0.2767, 0.2768, 0.27690000000000003, 0.277, 0.2771, 0.2772, 0.2773, 0.27740000000000004, 0.2775, 0.2776, 0.2777, 0.2778, 0.27790000000000004, 0.278, 0.2781, 0.2782, 0.2783, 0.27840000000000004, 0.2785, 0.2786, 0.2787, 0.2788, 0.27890000000000004, 0.279, 0.2791, 0.2792, 0.2793, 0.27940000000000004, 0.2795, 0.2796, 0.2797, 0.2798, 0.27990000000000004, 0.28, 0.2801, 0.2802, 0.2803, 0.28040000000000004, 0.2805, 0.2806, 0.2807, 0.2808, 0.28090000000000004, 0.281, 0.2811, 0.2812, 0.2813, 0.28140000000000004, 0.28150000000000003, 0.2816, 0.2817, 0.2818, 0.28190000000000004, 0.28200000000000003, 0.2821, 0.2822, 0.2823, 0.28240000000000004, 0.28250000000000003, 0.2826, 0.2827, 0.2828, 0.28290000000000004, 0.28300000000000003, 0.2831, 0.2832, 0.2833, 0.28340000000000004, 0.28350000000000003, 0.2836, 0.2837, 0.2838, 0.28390000000000004, 0.28400000000000003, 0.2841, 0.2842, 0.2843, 0.2844, 0.28450000000000003, 0.2846, 0.2847, 0.2848, 0.2849, 0.28500000000000003, 0.2851, 0.2852, 0.2853, 0.2854, 0.28550000000000003, 0.2856, 0.2857, 0.2858, 0.2859, 0.28600000000000003, 0.2861, 0.2862, 0.2863, 0.2864, 0.28650000000000003, 0.2866, 0.2867, 0.2868, 0.2869, 0.28700000000000003, 0.2871, 0.2872, 0.2873, 0.2874, 0.28750000000000003, 0.2876, 0.2877, 0.2878, 0.2879, 0.28800000000000003, 0.2881, 0.2882, 0.2883, 0.2884, 0.28850000000000003, 0.2886, 0.2887, 0.2888, 0.2889, 0.28900000000000003, 0.2891, 0.2892, 0.2893, 0.2894, 0.28950000000000004, 0.2896, 0.2897, 0.2898, 0.2899, 0.29000000000000004, 0.2901, 0.2902, 0.2903, 0.2904, 0.29050000000000004, 0.2906, 0.2907, 0.2908, 0.2909, 0.29100000000000004, 0.2911, 0.2912, 0.2913, 0.2914, 0.29150000000000004, 0.2916, 0.2917, 0.2918, 0.2919, 0.29200000000000004, 0.2921, 0.2922, 0.2923, 0.2924, 0.29250000000000004, 0.2926, 0.2927, 0.2928, 0.2929, 0.29300000000000004, 0.2931, 0.2932, 0.2933, 0.2934, 0.29350000000000004, 0.2936, 0.2937, 0.2938, 0.2939, 0.29400000000000004, 0.29410000000000003, 0.2942, 0.2943, 0.2944, 0.29450000000000004, 0.29460000000000003, 0.2947, 0.2948, 0.2949, 0.29500000000000004, 0.29510000000000003, 0.2952, 0.2953, 0.2954, 0.29550000000000004, 0.29560000000000003, 0.2957, 0.2958, 0.2959, 0.29600000000000004, 0.29610000000000003, 0.2962, 0.2963, 0.2964, 0.29650000000000004, 0.29660000000000003, 0.2967, 0.2968, 0.2969, 0.29700000000000004, 0.29710000000000003, 0.2972, 0.2973, 0.2974, 0.2975, 0.29760000000000003, 0.2977, 0.2978, 0.2979, 0.298, 0.29810000000000003, 0.2982, 0.2983, 0.2984, 0.2985, 0.29860000000000003, 0.2987, 0.2988, 0.2989, 0.299, 0.29910000000000003, 0.2992, 0.2993, 0.2994, 0.2995, 0.29960000000000003, 0.2997, 0.2998, 0.2999, 0.3, 0.30010000000000003, 0.3002, 0.3003, 0.3004, 0.3005, 0.30060000000000003, 0.3007, 0.3008, 0.3009, 0.301, 0.30110000000000003, 0.3012, 0.3013, 0.3014, 0.3015, 0.30160000000000003, 0.3017, 0.3018, 0.3019, 0.302, 0.30210000000000004, 0.3022, 0.3023, 0.3024, 0.3025, 0.30260000000000004, 0.3027, 0.3028, 0.3029, 0.303, 0.30310000000000004, 0.3032, 0.3033, 0.3034, 0.3035, 0.30360000000000004, 0.3037, 0.3038, 0.3039, 0.304, 0.30410000000000004, 0.3042, 0.3043, 0.3044, 0.3045, 0.30460000000000004, 0.3047, 0.3048, 0.3049, 0.305, 0.30510000000000004, 0.3052, 0.3053, 0.3054, 0.3055, 0.30560000000000004, 0.3057, 0.3058, 0.3059, 0.306, 0.30610000000000004, 0.3062, 0.3063, 0.3064, 0.3065, 0.30660000000000004, 0.30670000000000003, 0.3068, 0.3069, 0.307, 0.30710000000000004, 0.30720000000000003, 0.3073, 0.3074, 0.3075, 0.30760000000000004, 0.30770000000000003, 0.3078, 0.3079, 0.308, 0.30810000000000004, 0.30820000000000003, 0.3083, 0.3084, 0.3085, 0.30860000000000004, 0.30870000000000003, 0.3088, 0.3089, 0.309, 0.30910000000000004, 0.30920000000000003, 0.3093, 0.3094, 0.3095, 0.30960000000000004, 0.30970000000000003, 0.3098, 0.3099, 0.31, 0.31010000000000004, 0.31020000000000003, 0.3103, 0.3104, 0.3105, 0.3106, 0.31070000000000003, 0.3108, 0.3109, 0.311, 0.3111, 0.31120000000000003, 0.3113, 0.3114, 0.3115, 0.3116, 0.31170000000000003, 0.3118, 0.3119, 0.312, 0.3121, 0.31220000000000003, 0.3123, 0.3124, 0.3125, 0.3126, 0.31270000000000003, 0.3128, 0.3129, 0.313, 0.3131, 0.31320000000000003, 0.3133, 0.3134, 0.3135, 0.3136, 0.31370000000000003, 0.3138, 0.3139, 0.314, 0.3141, 0.31420000000000003, 0.3143, 0.3144, 0.3145, 0.3146, 0.31470000000000004, 0.3148, 0.3149, 0.315, 0.3151, 0.31520000000000004, 0.3153, 0.3154, 0.3155, 0.3156, 0.31570000000000004, 0.3158, 0.3159, 0.316, 0.3161, 0.31620000000000004, 0.3163, 0.3164, 0.3165, 0.3166, 0.31670000000000004, 0.3168, 0.3169, 0.317, 0.3171, 0.31720000000000004, 0.3173, 0.3174, 0.3175, 0.3176, 0.31770000000000004, 0.3178, 0.3179, 0.318, 0.3181, 0.31820000000000004, 0.3183, 0.3184, 0.3185, 0.3186, 0.31870000000000004, 0.31880000000000003, 0.3189, 0.319, 0.3191, 0.31920000000000004, 0.31930000000000003, 0.3194, 0.3195, 0.3196, 0.31970000000000004, 0.31980000000000003, 0.3199, 0.32, 0.3201, 0.32020000000000004, 0.32030000000000003, 0.3204, 0.3205, 0.3206, 0.32070000000000004, 0.32080000000000003, 0.3209, 0.321, 0.3211, 0.32120000000000004, 0.32130000000000003, 0.3214, 0.3215, 0.3216, 0.32170000000000004, 0.32180000000000003, 0.3219, 0.322, 0.3221, 0.32220000000000004, 0.32230000000000003, 0.3224, 0.3225, 0.3226, 0.32270000000000004, 0.32280000000000003, 0.3229, 0.323, 0.3231, 0.32320000000000004, 0.32330000000000003, 0.3234, 0.3235, 0.3236, 0.32370000000000004, 0.32380000000000003, 0.3239, 0.324, 0.3241, 0.3242, 0.32430000000000003, 0.3244, 0.3245, 0.3246, 0.3247, 0.32480000000000003, 0.3249, 0.325, 0.3251, 0.3252, 0.32530000000000003, 0.3254, 0.3255, 0.3256, 0.3257, 0.32580000000000003, 0.3259, 0.326, 0.3261, 0.3262, 0.32630000000000003, 0.3264, 0.3265, 0.3266, 0.3267, 0.32680000000000003, 0.3269, 0.327, 0.3271, 0.3272, 0.32730000000000004, 0.3274, 0.3275, 0.3276, 0.3277, 0.32780000000000004, 0.3279, 0.328, 0.3281, 0.3282, 0.32830000000000004, 0.3284, 0.3285, 0.3286, 0.3287, 0.32880000000000004, 0.3289, 0.329, 0.3291, 0.3292, 0.32930000000000004, 0.3294, 0.3295, 0.3296, 0.3297, 0.32980000000000004, 0.3299, 0.33, 0.3301, 0.3302, 0.33030000000000004, 0.3304, 0.3305, 0.3306, 0.3307, 0.33080000000000004, 0.3309, 0.331, 0.3311, 0.3312, 0.33130000000000004, 0.33140000000000003, 0.3315, 0.3316, 0.3317, 0.33180000000000004, 0.33190000000000003, 0.332, 0.3321, 0.3322, 0.33230000000000004, 0.33240000000000003, 0.3325, 0.3326, 0.3327, 0.33280000000000004, 0.33290000000000003, 0.333, 0.3331, 0.3332, 0.33330000000000004, 0.33340000000000003, 0.3335, 0.3336, 0.3337, 0.33380000000000004, 0.33390000000000003, 0.334, 0.3341, 0.3342, 0.33430000000000004, 0.33440000000000003, 0.3345, 0.3346, 0.3347, 0.33480000000000004, 0.33490000000000003, 0.335, 0.3351, 0.3352, 0.33530000000000004, 0.33540000000000003, 0.3355, 0.3356, 0.3357, 0.33580000000000004, 0.33590000000000003, 0.336, 0.3361, 0.3362, 0.33630000000000004, 0.33640000000000003, 0.3365, 0.3366, 0.3367, 0.33680000000000004, 0.33690000000000003, 0.337, 0.3371, 0.3372, 0.3373, 0.33740000000000003, 0.3375, 0.3376, 0.3377, 0.3378, 0.33790000000000003, 0.338, 0.3381, 0.3382, 0.3383, 0.33840000000000003, 0.3385, 0.3386, 0.3387, 0.3388, 0.33890000000000003, 0.339, 0.3391, 0.3392, 0.3393, 0.33940000000000003, 0.3395, 0.3396, 0.3397, 0.3398, 0.33990000000000004, 0.34, 0.3401, 0.3402, 0.3403, 0.34040000000000004, 0.3405, 0.3406, 0.3407, 0.3408, 0.34090000000000004, 0.341, 0.3411, 0.3412, 0.3413, 0.34140000000000004, 0.3415, 0.3416, 0.3417, 0.3418, 0.34190000000000004, 0.342, 0.3421, 0.3422, 0.3423, 0.34240000000000004, 0.3425, 0.3426, 0.3427, 0.3428, 0.34290000000000004, 0.343, 0.3431, 0.3432, 0.3433, 0.34340000000000004, 0.3435, 0.3436, 0.3437, 0.3438, 0.34390000000000004, 0.34400000000000003, 0.3441, 0.3442, 0.3443, 0.34440000000000004, 0.34450000000000003, 0.3446, 0.3447, 0.3448, 0.34490000000000004, 0.34500000000000003, 0.3451, 0.3452, 0.3453, 0.34540000000000004, 0.34550000000000003, 0.3456, 0.3457, 0.3458, 0.34590000000000004, 0.34600000000000003, 0.3461, 0.3462, 0.3463, 0.34640000000000004, 0.34650000000000003, 0.3466, 0.3467, 0.3468, 0.34690000000000004, 0.34700000000000003, 0.3471, 0.3472, 0.3473, 0.34740000000000004, 0.34750000000000003, 0.3476, 0.3477, 0.3478, 0.34790000000000004, 0.34800000000000003, 0.3481, 0.3482, 0.3483, 0.34840000000000004, 0.34850000000000003, 0.3486, 0.3487, 0.3488, 0.34890000000000004, 0.34900000000000003, 0.3491, 0.3492, 0.3493, 0.34940000000000004, 0.34950000000000003, 0.3496, 0.3497, 0.3498, 0.34990000000000004, 0.35000000000000003, 0.3501, 0.3502, 0.3503, 0.3504, 0.35050000000000003, 0.3506, 0.3507, 0.3508, 0.3509, 0.35100000000000003, 0.3511, 0.3512, 0.3513, 0.3514, 0.35150000000000003, 0.3516, 0.3517, 0.3518, 0.3519, 0.35200000000000004, 0.3521, 0.3522, 0.3523, 0.3524, 0.35250000000000004, 0.3526, 0.3527, 0.3528, 0.3529, 0.35300000000000004, 0.3531, 0.3532, 0.3533, 0.3534, 0.35350000000000004, 0.3536, 0.3537, 0.3538, 0.3539, 0.35400000000000004, 0.3541, 0.3542, 0.3543, 0.3544, 0.35450000000000004, 0.3546, 0.3547, 0.3548, 0.3549, 0.35500000000000004, 0.3551, 0.3552, 0.3553, 0.3554, 0.35550000000000004, 0.3556, 0.3557, 0.3558, 0.3559, 0.35600000000000004, 0.3561, 0.3562, 0.3563, 0.3564, 0.35650000000000004, 0.35660000000000003, 0.3567, 0.3568, 0.3569, 0.35700000000000004, 0.35710000000000003, 0.3572, 0.3573, 0.3574, 0.35750000000000004, 0.35760000000000003, 0.3577, 0.3578, 0.3579, 0.35800000000000004, 0.35810000000000003, 0.3582, 0.3583, 0.3584, 0.35850000000000004, 0.35860000000000003, 0.3587, 0.3588, 0.3589, 0.35900000000000004, 0.35910000000000003, 0.3592, 0.3593, 0.3594, 0.35950000000000004, 0.35960000000000003, 0.3597, 0.3598, 0.3599, 0.36000000000000004, 0.36010000000000003, 0.3602, 0.3603, 0.3604, 0.36050000000000004, 0.36060000000000003, 0.3607, 0.3608, 0.3609, 0.36100000000000004, 0.36110000000000003, 0.3612, 0.3613, 0.3614, 0.36150000000000004, 0.36160000000000003, 0.3617, 0.3618, 0.3619, 0.36200000000000004, 0.36210000000000003, 0.3622, 0.3623, 0.3624, 0.36250000000000004, 0.36260000000000003, 0.3627, 0.3628, 0.3629, 0.36300000000000004, 0.36310000000000003, 0.3632, 0.3633, 0.3634, 0.3635, 0.36360000000000003, 0.3637, 0.3638, 0.3639, 0.364, 0.36410000000000003, 0.3642, 0.3643, 0.3644, 0.3645, 0.36460000000000004, 0.3647, 0.3648, 0.3649, 0.365, 0.36510000000000004, 0.3652, 0.3653, 0.3654, 0.3655, 0.36560000000000004, 0.3657, 0.3658, 0.3659, 0.366, 0.36610000000000004, 0.3662, 0.3663, 0.3664, 0.3665, 0.36660000000000004, 0.3667, 0.3668, 0.3669, 0.367, 0.36710000000000004, 0.3672, 0.3673, 0.3674, 0.3675, 0.36760000000000004, 0.3677, 0.3678, 0.3679, 0.368, 0.36810000000000004, 0.3682, 0.3683, 0.3684, 0.3685, 0.36860000000000004, 0.3687, 0.3688, 0.3689, 0.369, 0.36910000000000004, 0.36920000000000003, 0.3693, 0.3694, 0.3695, 0.36960000000000004, 0.36970000000000003, 0.3698, 0.3699, 0.37, 0.37010000000000004, 0.37020000000000003, 0.3703, 0.3704, 0.3705, 0.37060000000000004, 0.37070000000000003, 0.3708, 0.3709, 0.371, 0.37110000000000004, 0.37120000000000003, 0.3713, 0.3714, 0.3715, 0.37160000000000004, 0.37170000000000003, 0.3718, 0.3719, 0.372, 0.37210000000000004, 0.37220000000000003, 0.3723, 0.3724, 0.3725, 0.37260000000000004, 0.37270000000000003, 0.3728, 0.3729, 0.373, 0.37310000000000004, 0.37320000000000003, 0.3733, 0.3734, 0.3735, 0.37360000000000004, 0.37370000000000003, 0.3738, 0.3739, 0.374, 0.37410000000000004, 0.37420000000000003, 0.3743, 0.3744, 0.3745, 0.37460000000000004, 0.37470000000000003, 0.3748, 0.3749, 0.375, 0.37510000000000004, 0.37520000000000003, 0.3753, 0.3754, 0.3755, 0.37560000000000004, 0.37570000000000003, 0.3758, 0.3759, 0.376, 0.37610000000000005, 0.37620000000000003, 0.3763, 0.3764, 0.3765, 0.3766, 0.37670000000000003, 0.3768, 0.3769, 0.377, 0.3771, 0.37720000000000004, 0.3773, 0.3774, 0.3775, 0.3776, 0.37770000000000004, 0.3778, 0.3779, 0.378, 0.3781, 0.37820000000000004, 0.3783, 0.3784, 0.3785, 0.3786, 0.37870000000000004, 0.3788, 0.3789, 0.379, 0.3791, 0.37920000000000004, 0.3793, 0.3794, 0.3795, 0.3796, 0.37970000000000004, 0.3798, 0.3799, 0.38, 0.3801, 0.38020000000000004, 0.3803, 0.3804, 0.3805, 0.3806, 0.38070000000000004, 0.3808, 0.3809, 0.381, 0.3811, 0.38120000000000004, 0.38130000000000003, 0.3814, 0.3815, 0.3816, 0.38170000000000004, 0.38180000000000003, 0.3819, 0.382, 0.3821, 0.38220000000000004, 0.38230000000000003, 0.3824, 0.3825, 0.3826, 0.38270000000000004, 0.38280000000000003, 0.3829, 0.383, 0.3831, 0.38320000000000004, 0.38330000000000003, 0.3834, 0.3835, 0.3836, 0.38370000000000004, 0.38380000000000003, 0.3839, 0.384, 0.3841, 0.38420000000000004, 0.38430000000000003, 0.3844, 0.3845, 0.3846, 0.38470000000000004, 0.38480000000000003, 0.3849, 0.385, 0.3851, 0.38520000000000004, 0.38530000000000003, 0.3854, 0.3855, 0.3856, 0.38570000000000004, 0.38580000000000003, 0.3859, 0.386, 0.3861, 0.38620000000000004, 0.38630000000000003, 0.3864, 0.3865, 0.3866, 0.38670000000000004, 0.38680000000000003, 0.3869, 0.387, 0.3871, 0.38720000000000004, 0.38730000000000003, 0.3874, 0.3875, 0.3876, 0.38770000000000004, 0.38780000000000003, 0.3879, 0.388, 0.3881, 0.38820000000000005, 0.38830000000000003, 0.3884, 0.3885, 0.3886, 0.38870000000000005, 0.38880000000000003, 0.3889, 0.389, 0.3891, 0.38920000000000005, 0.38930000000000003, 0.3894, 0.3895, 0.3896, 0.38970000000000005, 0.38980000000000004, 0.3899, 0.39, 0.3901, 0.3902, 0.39030000000000004, 0.3904, 0.3905, 0.3906, 0.3907, 0.39080000000000004, 0.3909, 0.391, 0.3911, 0.3912, 0.39130000000000004, 0.3914, 0.3915, 0.3916, 0.3917, 0.39180000000000004, 0.3919, 0.392, 0.3921, 0.3922, 0.39230000000000004, 0.3924, 0.3925, 0.3926, 0.3927, 0.39280000000000004, 0.3929, 0.393, 0.3931, 0.3932, 0.39330000000000004, 0.3934, 0.3935, 0.3936, 0.3937, 0.39380000000000004, 0.39390000000000003, 0.394, 0.3941, 0.3942, 0.39430000000000004, 0.39440000000000003, 0.3945, 0.3946, 0.3947, 0.39480000000000004, 0.39490000000000003, 0.395, 0.3951, 0.3952, 0.39530000000000004, 0.39540000000000003, 0.3955, 0.3956, 0.3957, 0.39580000000000004, 0.39590000000000003, 0.396, 0.3961, 0.3962, 0.39630000000000004, 0.39640000000000003, 0.3965, 0.3966, 0.3967, 0.39680000000000004, 0.39690000000000003, 0.397, 0.3971, 0.3972, 0.39730000000000004, 0.39740000000000003, 0.3975, 0.3976, 0.3977, 0.39780000000000004, 0.39790000000000003, 0.398, 0.3981, 0.3982, 0.39830000000000004, 0.39840000000000003, 0.3985, 0.3986, 0.3987, 0.39880000000000004, 0.39890000000000003, 0.399, 0.3991, 0.3992, 0.39930000000000004, 0.39940000000000003, 0.3995, 0.3996, 0.3997, 0.39980000000000004, 0.39990000000000003, 0.4, 0.4001, 0.4002, 0.40030000000000004, 0.40040000000000003, 0.4005, 0.4006, 0.4007, 0.40080000000000005, 0.40090000000000003, 0.401, 0.4011, 0.4012, 0.40130000000000005, 0.40140000000000003, 0.4015, 0.4016, 0.4017, 0.40180000000000005, 0.40190000000000003, 0.402, 0.4021, 0.4022, 0.40230000000000005, 0.40240000000000004, 0.4025, 0.4026, 0.4027, 0.40280000000000005, 0.40290000000000004, 0.403, 0.4031, 0.4032, 0.4033, 0.40340000000000004, 0.4035, 0.4036, 0.4037, 0.4038, 0.40390000000000004, 0.404, 0.4041, 0.4042, 0.4043, 0.40440000000000004, 0.4045, 0.4046, 0.4047, 0.4048, 0.40490000000000004, 0.405, 0.4051, 0.4052, 0.4053, 0.40540000000000004, 0.4055, 0.4056, 0.4057, 0.4058, 0.40590000000000004, 0.406, 0.4061, 0.4062, 0.4063, 0.40640000000000004, 0.40650000000000003, 0.4066, 0.4067, 0.4068, 0.40690000000000004, 0.40700000000000003, 0.4071, 0.4072, 0.4073, 0.40740000000000004, 0.40750000000000003, 0.4076, 0.4077, 0.4078, 0.40790000000000004, 0.40800000000000003, 0.4081, 0.4082, 0.4083, 0.40840000000000004, 0.40850000000000003, 0.4086, 0.4087, 0.4088, 0.40890000000000004, 0.40900000000000003, 0.4091, 0.4092, 0.4093, 0.40940000000000004, 0.40950000000000003, 0.4096, 0.4097, 0.4098, 0.40990000000000004, 0.41000000000000003, 0.4101, 0.4102, 0.4103, 0.41040000000000004, 0.41050000000000003, 0.4106, 0.4107, 0.4108, 0.41090000000000004, 0.41100000000000003, 0.4111, 0.4112, 0.4113, 0.41140000000000004, 0.41150000000000003, 0.4116, 0.4117, 0.4118, 0.41190000000000004, 0.41200000000000003, 0.4121, 0.4122, 0.4123, 0.41240000000000004, 0.41250000000000003, 0.4126, 0.4127, 0.4128, 0.41290000000000004, 0.41300000000000003, 0.4131, 0.4132, 0.4133, 0.41340000000000005, 0.41350000000000003, 0.4136, 0.4137, 0.4138, 0.41390000000000005, 0.41400000000000003, 0.4141, 0.4142, 0.4143, 0.41440000000000005, 0.41450000000000004, 0.4146, 0.4147, 0.4148, 0.41490000000000005, 0.41500000000000004, 0.4151, 0.4152, 0.4153, 0.41540000000000005, 0.41550000000000004, 0.4156, 0.4157, 0.4158, 0.41590000000000005, 0.41600000000000004, 0.4161, 0.4162, 0.4163, 0.4164, 0.41650000000000004, 0.4166, 0.4167, 0.4168, 0.4169, 0.41700000000000004, 0.4171, 0.4172, 0.4173, 0.4174, 0.41750000000000004, 0.4176, 0.4177, 0.4178, 0.4179, 0.41800000000000004, 0.4181, 0.4182, 0.4183, 0.4184, 0.41850000000000004, 0.4186, 0.4187, 0.4188, 0.4189, 0.41900000000000004, 0.41910000000000003, 0.4192, 0.4193, 0.4194, 0.41950000000000004, 0.41960000000000003, 0.4197, 0.4198, 0.4199, 0.42000000000000004, 0.42010000000000003, 0.4202, 0.4203, 0.4204, 0.42050000000000004, 0.42060000000000003, 0.4207, 0.4208, 0.4209, 0.42100000000000004, 0.42110000000000003, 0.4212, 0.4213, 0.4214, 0.42150000000000004, 0.42160000000000003, 0.4217, 0.4218, 0.4219, 0.42200000000000004, 0.42210000000000003, 0.4222, 0.4223, 0.4224, 0.42250000000000004, 0.42260000000000003, 0.4227, 0.4228, 0.4229, 0.42300000000000004, 0.42310000000000003, 0.4232, 0.4233, 0.4234, 0.42350000000000004, 0.42360000000000003, 0.4237, 0.4238, 0.4239, 0.42400000000000004, 0.42410000000000003, 0.4242, 0.4243, 0.4244, 0.42450000000000004, 0.42460000000000003, 0.4247, 0.4248, 0.4249, 0.42500000000000004, 0.42510000000000003, 0.4252, 0.4253, 0.4254, 0.42550000000000004, 0.42560000000000003, 0.4257, 0.4258, 0.4259, 0.42600000000000005, 0.42610000000000003, 0.4262, 0.4263, 0.4264, 0.42650000000000005, 0.42660000000000003, 0.4267, 0.4268, 0.4269, 0.42700000000000005, 0.42710000000000004, 0.4272, 0.4273, 0.4274, 0.42750000000000005, 0.42760000000000004, 0.4277, 0.4278, 0.4279, 0.42800000000000005, 0.42810000000000004, 0.4282, 0.4283, 0.4284, 0.42850000000000005, 0.42860000000000004, 0.4287, 0.4288, 0.4289, 0.42900000000000005, 0.42910000000000004, 0.4292, 0.4293, 0.4294, 0.4295, 0.42960000000000004, 0.4297, 0.4298, 0.4299, 0.43, 0.43010000000000004, 0.4302, 0.4303, 0.4304, 0.4305, 0.43060000000000004, 0.4307, 0.4308, 0.4309, 0.431, 0.43110000000000004, 0.4312, 0.4313, 0.4314, 0.4315, 0.43160000000000004, 0.43170000000000003, 0.4318, 0.4319, 0.432, 0.43210000000000004, 0.43220000000000003, 0.4323, 0.4324, 0.4325, 0.43260000000000004, 0.43270000000000003, 0.4328, 0.4329, 0.433, 0.43310000000000004, 0.43320000000000003, 0.4333, 0.4334, 0.4335, 0.43360000000000004, 0.43370000000000003, 0.4338, 0.4339, 0.434, 0.43410000000000004, 0.43420000000000003, 0.4343, 0.4344, 0.4345, 0.43460000000000004, 0.43470000000000003, 0.4348, 0.4349, 0.435, 0.43510000000000004, 0.43520000000000003, 0.4353, 0.4354, 0.4355, 0.43560000000000004, 0.43570000000000003, 0.4358, 0.4359, 0.436, 0.43610000000000004, 0.43620000000000003, 0.4363, 0.4364, 0.4365, 0.43660000000000004, 0.43670000000000003, 0.4368, 0.4369, 0.437, 0.43710000000000004, 0.43720000000000003, 0.4373, 0.4374, 0.4375, 0.43760000000000004, 0.43770000000000003, 0.4378, 0.4379, 0.438, 0.43810000000000004, 0.43820000000000003, 0.4383, 0.4384, 0.4385, 0.43860000000000005, 0.43870000000000003, 0.4388, 0.4389, 0.439, 0.43910000000000005, 0.43920000000000003, 0.4393, 0.4394, 0.4395, 0.43960000000000005, 0.43970000000000004, 0.4398, 0.4399, 0.44, 0.44010000000000005, 0.44020000000000004, 0.4403, 0.4404, 0.4405, 0.44060000000000005, 0.44070000000000004, 0.4408, 0.4409, 0.441, 0.44110000000000005, 0.44120000000000004, 0.4413, 0.4414, 0.4415, 0.44160000000000005, 0.44170000000000004, 0.4418, 0.4419, 0.442, 0.44210000000000005, 0.44220000000000004, 0.4423, 0.4424, 0.4425, 0.44260000000000005, 0.44270000000000004, 0.4428, 0.4429, 0.443, 0.4431, 0.44320000000000004, 0.4433, 0.4434, 0.4435, 0.4436, 0.44370000000000004, 0.44380000000000003, 0.4439, 0.444, 0.4441, 0.44420000000000004, 0.44430000000000003, 0.4444, 0.4445, 0.4446, 0.44470000000000004, 0.44480000000000003, 0.4449, 0.445, 0.4451, 0.44520000000000004, 0.44530000000000003, 0.4454, 0.4455, 0.4456, 0.44570000000000004, 0.44580000000000003, 0.4459, 0.446, 0.4461, 0.44620000000000004, 0.44630000000000003, 0.4464, 0.4465, 0.4466, 0.44670000000000004, 0.44680000000000003, 0.4469, 0.447, 0.4471, 0.44720000000000004, 0.44730000000000003, 0.4474, 0.4475, 0.4476, 0.44770000000000004, 0.44780000000000003, 0.4479, 0.448, 0.4481, 0.44820000000000004, 0.44830000000000003, 0.4484, 0.4485, 0.4486, 0.44870000000000004, 0.44880000000000003, 0.4489, 0.449, 0.4491, 0.44920000000000004, 0.44930000000000003, 0.4494, 0.4495, 0.4496, 0.44970000000000004, 0.44980000000000003, 0.4499, 0.45, 0.4501, 0.45020000000000004, 0.45030000000000003, 0.4504, 0.4505, 0.4506, 0.45070000000000005, 0.45080000000000003, 0.4509, 0.451, 0.4511, 0.45120000000000005, 0.45130000000000003, 0.4514, 0.4515, 0.4516, 0.45170000000000005, 0.45180000000000003, 0.4519, 0.452, 0.4521, 0.45220000000000005, 0.45230000000000004, 0.4524, 0.4525, 0.4526, 0.45270000000000005, 0.45280000000000004, 0.4529, 0.453, 0.4531, 0.45320000000000005, 0.45330000000000004, 0.4534, 0.4535, 0.4536, 0.45370000000000005, 0.45380000000000004, 0.4539, 0.454, 0.4541, 0.45420000000000005, 0.45430000000000004, 0.4544, 0.4545, 0.4546, 0.45470000000000005, 0.45480000000000004, 0.4549, 0.455, 0.4551, 0.45520000000000005, 0.45530000000000004, 0.4554, 0.4555, 0.4556, 0.45570000000000005, 0.45580000000000004, 0.4559, 0.456, 0.4561, 0.4562, 0.45630000000000004, 0.45640000000000003, 0.4565, 0.4566, 0.4567, 0.45680000000000004, 0.45690000000000003, 0.457, 0.4571, 0.4572, 0.45730000000000004, 0.45740000000000003, 0.4575, 0.4576, 0.4577, 0.45780000000000004, 0.45790000000000003, 0.458, 0.4581, 0.4582, 0.45830000000000004, 0.45840000000000003, 0.4585, 0.4586, 0.4587, 0.45880000000000004, 0.45890000000000003, 0.459, 0.4591, 0.4592, 0.45930000000000004, 0.45940000000000003, 0.4595, 0.4596, 0.4597, 0.45980000000000004, 0.45990000000000003, 0.46, 0.4601, 0.4602, 0.46030000000000004, 0.46040000000000003, 0.4605, 0.4606, 0.4607, 0.46080000000000004, 0.46090000000000003, 0.461, 0.4611, 0.4612, 0.46130000000000004, 0.46140000000000003, 0.4615, 0.4616, 0.4617, 0.46180000000000004, 0.46190000000000003, 0.462, 0.4621, 0.4622, 0.46230000000000004, 0.46240000000000003, 0.4625, 0.4626, 0.4627, 0.46280000000000004, 0.46290000000000003, 0.463, 0.4631, 0.4632, 0.46330000000000005, 0.46340000000000003, 0.4635, 0.4636, 0.4637, 0.46380000000000005, 0.46390000000000003, 0.464, 0.4641, 0.4642, 0.46430000000000005, 0.46440000000000003, 0.4645, 0.4646, 0.4647, 0.46480000000000005, 0.46490000000000004, 0.465, 0.4651, 0.4652, 0.46530000000000005, 0.46540000000000004, 0.4655, 0.4656, 0.4657, 0.46580000000000005, 0.46590000000000004, 0.466, 0.4661, 0.4662, 0.46630000000000005, 0.46640000000000004, 0.4665, 0.4666, 0.4667, 0.46680000000000005, 0.46690000000000004, 0.467, 0.4671, 0.4672, 0.46730000000000005, 0.46740000000000004, 0.4675, 0.4676, 0.4677, 0.46780000000000005, 0.46790000000000004, 0.468, 0.4681, 0.4682, 0.46830000000000005, 0.46840000000000004, 0.4685, 0.4686, 0.4687, 0.46880000000000005, 0.46890000000000004, 0.46900000000000003, 0.4691, 0.4692, 0.4693, 0.46940000000000004, 0.46950000000000003, 0.4696, 0.4697, 0.4698, 0.46990000000000004, 0.47000000000000003, 0.4701, 0.4702, 0.4703, 0.47040000000000004, 0.47050000000000003, 0.4706, 0.4707, 0.4708, 0.47090000000000004, 0.47100000000000003, 0.4711, 0.4712, 0.4713, 0.47140000000000004, 0.47150000000000003, 0.4716, 0.4717, 0.4718, 0.47190000000000004, 0.47200000000000003, 0.4721, 0.4722, 0.4723, 0.47240000000000004, 0.47250000000000003, 0.4726, 0.4727, 0.4728, 0.47290000000000004, 0.47300000000000003, 0.4731, 0.4732, 0.4733, 0.47340000000000004, 0.47350000000000003, 0.4736, 0.4737, 0.4738, 0.47390000000000004, 0.47400000000000003, 0.4741, 0.4742, 0.4743, 0.47440000000000004, 0.47450000000000003, 0.4746, 0.4747, 0.4748, 0.47490000000000004, 0.47500000000000003, 0.4751, 0.4752, 0.4753, 0.47540000000000004, 0.47550000000000003, 0.4756, 0.4757, 0.4758, 0.47590000000000005, 0.47600000000000003, 0.4761, 0.4762, 0.4763, 0.47640000000000005, 0.47650000000000003, 0.4766, 0.4767, 0.4768, 0.47690000000000005, 0.47700000000000004, 0.4771, 0.4772, 0.4773, 0.47740000000000005, 0.47750000000000004, 0.4776, 0.4777, 0.4778, 0.47790000000000005, 0.47800000000000004, 0.4781, 0.4782, 0.4783, 0.47840000000000005, 0.47850000000000004, 0.4786, 0.4787, 0.4788, 0.47890000000000005, 0.47900000000000004, 0.4791, 0.4792, 0.4793, 0.47940000000000005, 0.47950000000000004, 0.4796, 0.4797, 0.4798, 0.47990000000000005, 0.48000000000000004, 0.4801, 0.4802, 0.4803, 0.48040000000000005, 0.48050000000000004, 0.4806, 0.4807, 0.4808, 0.48090000000000005, 0.48100000000000004, 0.4811, 0.4812, 0.4813, 0.48140000000000005, 0.48150000000000004, 0.48160000000000003, 0.4817, 0.4818, 0.48190000000000005, 0.48200000000000004, 0.48210000000000003, 0.4822, 0.4823, 0.4824, 0.48250000000000004, 0.48260000000000003, 0.4827, 0.4828, 0.4829, 0.48300000000000004, 0.48310000000000003, 0.4832, 0.4833, 0.4834, 0.48350000000000004, 0.48360000000000003, 0.4837, 0.4838, 0.4839, 0.48400000000000004, 0.48410000000000003, 0.4842, 0.4843, 0.4844, 0.48450000000000004, 0.48460000000000003, 0.4847, 0.4848, 0.4849, 0.48500000000000004, 0.48510000000000003, 0.4852, 0.4853, 0.4854, 0.48550000000000004, 0.48560000000000003, 0.4857, 0.4858, 0.4859, 0.48600000000000004, 0.48610000000000003, 0.4862, 0.4863, 0.4864, 0.48650000000000004, 0.48660000000000003, 0.4867, 0.4868, 0.4869, 0.48700000000000004, 0.48710000000000003, 0.4872, 0.4873, 0.4874, 0.48750000000000004, 0.48760000000000003, 0.4877, 0.4878, 0.4879, 0.48800000000000004, 0.48810000000000003, 0.4882, 0.4883, 0.4884, 0.48850000000000005, 0.48860000000000003, 0.4887, 0.4888, 0.4889, 0.48900000000000005, 0.48910000000000003, 0.4892, 0.4893, 0.4894, 0.48950000000000005, 0.48960000000000004, 0.4897, 0.4898, 0.4899, 0.49000000000000005, 0.49010000000000004, 0.4902, 0.4903, 0.4904, 0.49050000000000005, 0.49060000000000004, 0.4907, 0.4908, 0.4909, 0.49100000000000005, 0.49110000000000004, 0.4912, 0.4913, 0.4914, 0.49150000000000005, 0.49160000000000004, 0.4917, 0.4918, 0.4919, 0.49200000000000005, 0.49210000000000004, 0.4922, 0.4923, 0.4924, 0.49250000000000005, 0.49260000000000004, 0.4927, 0.4928, 0.4929, 0.49300000000000005, 0.49310000000000004, 0.4932, 0.4933, 0.4934, 0.49350000000000005, 0.49360000000000004, 0.4937, 0.4938, 0.4939, 0.49400000000000005, 0.49410000000000004, 0.49420000000000003, 0.4943, 0.4944, 0.49450000000000005, 0.49460000000000004, 0.49470000000000003, 0.4948, 0.4949, 0.49500000000000005, 0.49510000000000004, 0.49520000000000003, 0.4953, 0.4954, 0.4955, 0.49560000000000004, 0.49570000000000003, 0.4958, 0.4959, 0.496, 0.49610000000000004, 0.49620000000000003, 0.4963, 0.4964, 0.4965, 0.49660000000000004, 0.49670000000000003, 0.4968, 0.4969, 0.497, 0.49710000000000004, 0.49720000000000003, 0.4973, 0.4974, 0.4975, 0.49760000000000004, 0.49770000000000003, 0.4978, 0.4979, 0.498, 0.49810000000000004, 0.49820000000000003, 0.4983, 0.4984, 0.4985, 0.49860000000000004, 0.49870000000000003, 0.4988, 0.4989, 0.499, 0.49910000000000004, 0.49920000000000003, 0.4993, 0.4994, 0.4995, 0.49960000000000004, 0.49970000000000003, 0.4998, 0.4999, 0.5, 0.5001, 0.5002, 0.5003000000000001, 0.5004000000000001, 0.5005000000000001, 0.5006, 0.5007, 0.5008, 0.5009, 0.501, 0.5011, 0.5012, 0.5013000000000001, 0.5014000000000001, 0.5015000000000001, 0.5016, 0.5017, 0.5018, 0.5019, 0.502, 0.5021, 0.5022, 0.5023, 0.5024000000000001, 0.5025000000000001, 0.5026, 0.5027, 0.5028, 0.5029, 0.503, 0.5031, 0.5032, 0.5033, 0.5034000000000001, 0.5035000000000001, 0.5036, 0.5037, 0.5038, 0.5039, 0.504, 0.5041, 0.5042, 0.5043, 0.5044000000000001, 0.5045000000000001, 0.5046, 0.5047, 0.5048, 0.5049, 0.505, 0.5051, 0.5052, 0.5053, 0.5054000000000001, 0.5055000000000001, 0.5056, 0.5057, 0.5058, 0.5059, 0.506, 0.5061, 0.5062, 0.5063, 0.5064000000000001, 0.5065000000000001, 0.5066, 0.5067, 0.5068, 0.5069, 0.507, 0.5071, 0.5072, 0.5073, 0.5074000000000001, 0.5075000000000001, 0.5076, 0.5077, 0.5078, 0.5079, 0.508, 0.5081, 0.5082, 0.5083, 0.5084000000000001, 0.5085000000000001, 0.5086, 0.5087, 0.5088, 0.5089, 0.509, 0.5091, 0.5092, 0.5093, 0.5094000000000001, 0.5095000000000001, 0.5096, 0.5097, 0.5098, 0.5099, 0.51, 0.5101, 0.5102, 0.5103, 0.5104000000000001, 0.5105000000000001, 0.5106, 0.5107, 0.5108, 0.5109, 0.511, 0.5111, 0.5112, 0.5113, 0.5114000000000001, 0.5115000000000001, 0.5116, 0.5117, 0.5118, 0.5119, 0.512, 0.5121, 0.5122, 0.5123, 0.5124000000000001, 0.5125000000000001, 0.5126000000000001, 0.5127, 0.5128, 0.5129, 0.513, 0.5131, 0.5132, 0.5133, 0.5134000000000001, 0.5135000000000001, 0.5136000000000001, 0.5137, 0.5138, 0.5139, 0.514, 0.5141, 0.5142, 0.5143, 0.5144000000000001, 0.5145000000000001, 0.5146000000000001, 0.5147, 0.5148, 0.5149, 0.515, 0.5151, 0.5152, 0.5153, 0.5154, 0.5155000000000001, 0.5156000000000001, 0.5157, 0.5158, 0.5159, 0.516, 0.5161, 0.5162, 0.5163, 0.5164, 0.5165000000000001, 0.5166000000000001, 0.5167, 0.5168, 0.5169, 0.517, 0.5171, 0.5172, 0.5173, 0.5174, 0.5175000000000001, 0.5176000000000001, 0.5177, 0.5178, 0.5179, 0.518, 0.5181, 0.5182, 0.5183, 0.5184, 0.5185000000000001, 0.5186000000000001, 0.5187, 0.5188, 0.5189, 0.519, 0.5191, 0.5192, 0.5193, 0.5194, 0.5195000000000001, 0.5196000000000001, 0.5197, 0.5198, 0.5199, 0.52, 0.5201, 0.5202, 0.5203, 0.5204, 0.5205000000000001, 0.5206000000000001, 0.5207, 0.5208, 0.5209, 0.521, 0.5211, 0.5212, 0.5213, 0.5214, 0.5215000000000001, 0.5216000000000001, 0.5217, 0.5218, 0.5219, 0.522, 0.5221, 0.5222, 0.5223, 0.5224, 0.5225000000000001, 0.5226000000000001, 0.5227, 0.5228, 0.5229, 0.523, 0.5231, 0.5232, 0.5233, 0.5234, 0.5235000000000001, 0.5236000000000001, 0.5237, 0.5238, 0.5239, 0.524, 0.5241, 0.5242, 0.5243, 0.5244, 0.5245000000000001, 0.5246000000000001, 0.5247, 0.5248, 0.5249, 0.525, 0.5251, 0.5252, 0.5253, 0.5254, 0.5255000000000001, 0.5256000000000001, 0.5257000000000001, 0.5258, 0.5259, 0.526, 0.5261, 0.5262, 0.5263, 0.5264, 0.5265000000000001, 0.5266000000000001, 0.5267000000000001, 0.5268, 0.5269, 0.527, 0.5271, 0.5272, 0.5273, 0.5274, 0.5275000000000001, 0.5276000000000001, 0.5277000000000001, 0.5278, 0.5279, 0.528, 0.5281, 0.5282, 0.5283, 0.5284, 0.5285000000000001, 0.5286000000000001, 0.5287000000000001, 0.5288, 0.5289, 0.529, 0.5291, 0.5292, 0.5293, 0.5294, 0.5295, 0.5296000000000001, 0.5297000000000001, 0.5298, 0.5299, 0.53, 0.5301, 0.5302, 0.5303, 0.5304, 0.5305, 0.5306000000000001, 0.5307000000000001, 0.5308, 0.5309, 0.531, 0.5311, 0.5312, 0.5313, 0.5314, 0.5315, 0.5316000000000001, 0.5317000000000001, 0.5318, 0.5319, 0.532, 0.5321, 0.5322, 0.5323, 0.5324, 0.5325, 0.5326000000000001, 0.5327000000000001, 0.5328, 0.5329, 0.533, 0.5331, 0.5332, 0.5333, 0.5334, 0.5335, 0.5336000000000001, 0.5337000000000001, 0.5338, 0.5339, 0.534, 0.5341, 0.5342, 0.5343, 0.5344, 0.5345, 0.5346000000000001, 0.5347000000000001, 0.5348, 0.5349, 0.535, 0.5351, 0.5352, 0.5353, 0.5354, 0.5355, 0.5356000000000001, 0.5357000000000001, 0.5358, 0.5359, 0.536, 0.5361, 0.5362, 0.5363, 0.5364, 0.5365, 0.5366000000000001, 0.5367000000000001, 0.5368, 0.5369, 0.537, 0.5371, 0.5372, 0.5373, 0.5374, 0.5375, 0.5376000000000001, 0.5377000000000001, 0.5378000000000001, 0.5379, 0.538, 0.5381, 0.5382, 0.5383, 0.5384, 0.5385, 0.5386000000000001, 0.5387000000000001, 0.5388000000000001, 0.5389, 0.539, 0.5391, 0.5392, 0.5393, 0.5394, 0.5395, 0.5396000000000001, 0.5397000000000001, 0.5398000000000001, 0.5399, 0.54, 0.5401, 0.5402, 0.5403, 0.5404, 0.5405, 0.5406000000000001, 0.5407000000000001, 0.5408000000000001, 0.5409, 0.541, 0.5411, 0.5412, 0.5413, 0.5414, 0.5415, 0.5416000000000001, 0.5417000000000001, 0.5418000000000001, 0.5419, 0.542, 0.5421, 0.5422, 0.5423, 0.5424, 0.5425, 0.5426, 0.5427000000000001, 0.5428000000000001, 0.5429, 0.543, 0.5431, 0.5432, 0.5433, 0.5434, 0.5435, 0.5436, 0.5437000000000001, 0.5438000000000001, 0.5439, 0.544, 0.5441, 0.5442, 0.5443, 0.5444, 0.5445, 0.5446, 0.5447000000000001, 0.5448000000000001, 0.5449, 0.545, 0.5451, 0.5452, 0.5453, 0.5454, 0.5455, 0.5456, 0.5457000000000001, 0.5458000000000001, 0.5459, 0.546, 0.5461, 0.5462, 0.5463, 0.5464, 0.5465, 0.5466, 0.5467000000000001, 0.5468000000000001, 0.5469, 0.547, 0.5471, 0.5472, 0.5473, 0.5474, 0.5475, 0.5476, 0.5477000000000001, 0.5478000000000001, 0.5479, 0.548, 0.5481, 0.5482, 0.5483, 0.5484, 0.5485, 0.5486, 0.5487000000000001, 0.5488000000000001, 0.5489, 0.549, 0.5491, 0.5492, 0.5493, 0.5494, 0.5495, 0.5496, 0.5497000000000001, 0.5498000000000001, 0.5499, 0.55, 0.5501, 0.5502, 0.5503, 0.5504, 0.5505, 0.5506, 0.5507000000000001, 0.5508000000000001, 0.5509000000000001, 0.551, 0.5511, 0.5512, 0.5513, 0.5514, 0.5515, 0.5516, 0.5517000000000001, 0.5518000000000001, 0.5519000000000001, 0.552, 0.5521, 0.5522, 0.5523, 0.5524, 0.5525, 0.5526, 0.5527000000000001, 0.5528000000000001, 0.5529000000000001, 0.553, 0.5531, 0.5532, 0.5533, 0.5534, 0.5535, 0.5536, 0.5537000000000001, 0.5538000000000001, 0.5539000000000001, 0.554, 0.5541, 0.5542, 0.5543, 0.5544, 0.5545, 0.5546, 0.5547000000000001, 0.5548000000000001, 0.5549000000000001, 0.555, 0.5551, 0.5552, 0.5553, 0.5554, 0.5555, 0.5556, 0.5557, 0.5558000000000001, 0.5559000000000001, 0.556, 0.5561, 0.5562, 0.5563, 0.5564, 0.5565, 0.5566, 0.5567, 0.5568000000000001, 0.5569000000000001, 0.557, 0.5571, 0.5572, 0.5573, 0.5574, 0.5575, 0.5576, 0.5577, 0.5578000000000001, 0.5579000000000001, 0.558, 0.5581, 0.5582, 0.5583, 0.5584, 0.5585, 0.5586, 0.5587, 0.5588000000000001, 0.5589000000000001, 0.559, 0.5591, 0.5592, 0.5593, 0.5594, 0.5595, 0.5596, 0.5597, 0.5598000000000001, 0.5599000000000001, 0.56, 0.5601, 0.5602, 0.5603, 0.5604, 0.5605, 0.5606, 0.5607, 0.5608000000000001, 0.5609000000000001, 0.561, 0.5611, 0.5612, 0.5613, 0.5614, 0.5615, 0.5616, 0.5617, 0.5618000000000001, 0.5619000000000001, 0.562, 0.5621, 0.5622, 0.5623, 0.5624, 0.5625, 0.5626, 0.5627, 0.5628000000000001, 0.5629000000000001, 0.5630000000000001, 0.5631, 0.5632, 0.5633, 0.5634, 0.5635, 0.5636, 0.5637, 0.5638000000000001, 0.5639000000000001, 0.5640000000000001, 0.5641, 0.5642, 0.5643, 0.5644, 0.5645, 0.5646, 0.5647, 0.5648000000000001, 0.5649000000000001, 0.5650000000000001, 0.5651, 0.5652, 0.5653, 0.5654, 0.5655, 0.5656, 0.5657, 0.5658000000000001, 0.5659000000000001, 0.5660000000000001, 0.5661, 0.5662, 0.5663, 0.5664, 0.5665, 0.5666, 0.5667, 0.5668000000000001, 0.5669000000000001, 0.5670000000000001, 0.5671, 0.5672, 0.5673, 0.5674, 0.5675, 0.5676, 0.5677, 0.5678000000000001, 0.5679000000000001, 0.5680000000000001, 0.5681, 0.5682, 0.5683, 0.5684, 0.5685, 0.5686, 0.5687, 0.5688, 0.5689000000000001, 0.5690000000000001, 0.5691, 0.5692, 0.5693, 0.5694, 0.5695, 0.5696, 0.5697, 0.5698, 0.5699000000000001, 0.5700000000000001, 0.5701, 0.5702, 0.5703, 0.5704, 0.5705, 0.5706, 0.5707, 0.5708, 0.5709000000000001, 0.5710000000000001, 0.5711, 0.5712, 0.5713, 0.5714, 0.5715, 0.5716, 0.5717, 0.5718, 0.5719000000000001, 0.5720000000000001, 0.5721, 0.5722, 0.5723, 0.5724, 0.5725, 0.5726, 0.5727, 0.5728, 0.5729000000000001, 0.5730000000000001, 0.5731, 0.5732, 0.5733, 0.5734, 0.5735, 0.5736, 0.5737, 0.5738, 0.5739000000000001, 0.5740000000000001, 0.5741, 0.5742, 0.5743, 0.5744, 0.5745, 0.5746, 0.5747, 0.5748, 0.5749000000000001, 0.5750000000000001, 0.5751000000000001, 0.5752, 0.5753, 0.5754, 0.5755, 0.5756, 0.5757, 0.5758, 0.5759000000000001, 0.5760000000000001, 0.5761000000000001, 0.5762, 0.5763, 0.5764, 0.5765, 0.5766, 0.5767, 0.5768, 0.5769000000000001, 0.5770000000000001, 0.5771000000000001, 0.5772, 0.5773, 0.5774, 0.5775, 0.5776, 0.5777, 0.5778, 0.5779000000000001, 0.5780000000000001, 0.5781000000000001, 0.5782, 0.5783, 0.5784, 0.5785, 0.5786, 0.5787, 0.5788, 0.5789000000000001, 0.5790000000000001, 0.5791000000000001, 0.5792, 0.5793, 0.5794, 0.5795, 0.5796, 0.5797, 0.5798, 0.5799000000000001, 0.5800000000000001, 0.5801000000000001, 0.5802, 0.5803, 0.5804, 0.5805, 0.5806, 0.5807, 0.5808, 0.5809000000000001, 0.5810000000000001, 0.5811000000000001, 0.5812, 0.5813, 0.5814, 0.5815, 0.5816, 0.5817, 0.5818, 0.5819, 0.5820000000000001, 0.5821000000000001, 0.5822, 0.5823, 0.5824, 0.5825, 0.5826, 0.5827, 0.5828, 0.5829, 0.5830000000000001, 0.5831000000000001, 0.5832, 0.5833, 0.5834, 0.5835, 0.5836, 0.5837, 0.5838, 0.5839, 0.5840000000000001, 0.5841000000000001, 0.5842, 0.5843, 0.5844, 0.5845, 0.5846, 0.5847, 0.5848, 0.5849, 0.5850000000000001, 0.5851000000000001, 0.5852, 0.5853, 0.5854, 0.5855, 0.5856, 0.5857, 0.5858, 0.5859, 0.5860000000000001, 0.5861000000000001, 0.5862, 0.5863, 0.5864, 0.5865, 0.5866, 0.5867, 0.5868, 0.5869, 0.5870000000000001, 0.5871000000000001, 0.5872, 0.5873, 0.5874, 0.5875, 0.5876, 0.5877, 0.5878, 0.5879, 0.5880000000000001, 0.5881000000000001, 0.5882000000000001, 0.5883, 0.5884, 0.5885, 0.5886, 0.5887, 0.5888, 0.5889, 0.5890000000000001, 0.5891000000000001, 0.5892000000000001, 0.5893, 0.5894, 0.5895, 0.5896, 0.5897, 0.5898, 0.5899, 0.5900000000000001, 0.5901000000000001, 0.5902000000000001, 0.5903, 0.5904, 0.5905, 0.5906, 0.5907, 0.5908, 0.5909, 0.5910000000000001, 0.5911000000000001, 0.5912000000000001, 0.5913, 0.5914, 0.5915, 0.5916, 0.5917, 0.5918, 0.5919, 0.5920000000000001, 0.5921000000000001, 0.5922000000000001, 0.5923, 0.5924, 0.5925, 0.5926, 0.5927, 0.5928, 0.5929, 0.5930000000000001, 0.5931000000000001, 0.5932000000000001, 0.5933, 0.5934, 0.5935, 0.5936, 0.5937, 0.5938, 0.5939, 0.5940000000000001, 0.5941000000000001, 0.5942000000000001, 0.5943, 0.5944, 0.5945, 0.5946, 0.5947, 0.5948, 0.5949, 0.595, 0.5951000000000001, 0.5952000000000001, 0.5953, 0.5954, 0.5955, 0.5956, 0.5957, 0.5958, 0.5959, 0.596, 0.5961000000000001, 0.5962000000000001, 0.5963, 0.5964, 0.5965, 0.5966, 0.5967, 0.5968, 0.5969, 0.597, 0.5971000000000001, 0.5972000000000001, 0.5973, 0.5974, 0.5975, 0.5976, 0.5977, 0.5978, 0.5979, 0.598, 0.5981000000000001, 0.5982000000000001, 0.5983, 0.5984, 0.5985, 0.5986, 0.5987, 0.5988, 0.5989, 0.599, 0.5991000000000001, 0.5992000000000001, 0.5993, 0.5994, 0.5995, 0.5996, 0.5997, 0.5998, 0.5999, 0.6, 0.6001000000000001, 0.6002000000000001, 0.6003000000000001, 0.6004, 0.6005, 0.6006, 0.6007, 0.6008, 0.6009, 0.601, 0.6011000000000001, 0.6012000000000001, 0.6013000000000001, 0.6014, 0.6015, 0.6016, 0.6017, 0.6018, 0.6019, 0.602, 0.6021000000000001, 0.6022000000000001, 0.6023000000000001, 0.6024, 0.6025, 0.6026, 0.6027, 0.6028, 0.6029, 0.603, 0.6031000000000001, 0.6032000000000001, 0.6033000000000001, 0.6034, 0.6035, 0.6036, 0.6037, 0.6038, 0.6039, 0.604, 0.6041000000000001, 0.6042000000000001, 0.6043000000000001, 0.6044, 0.6045, 0.6046, 0.6047, 0.6048, 0.6049, 0.605, 0.6051000000000001, 0.6052000000000001, 0.6053000000000001, 0.6054, 0.6055, 0.6056, 0.6057, 0.6058, 0.6059, 0.606, 0.6061000000000001, 0.6062000000000001, 0.6063000000000001, 0.6064, 0.6065, 0.6066, 0.6067, 0.6068, 0.6069, 0.607, 0.6071000000000001, 0.6072000000000001, 0.6073000000000001, 0.6074, 0.6075, 0.6076, 0.6077, 0.6078, 0.6079, 0.608, 0.6081, 0.6082000000000001, 0.6083000000000001, 0.6084, 0.6085, 0.6086, 0.6087, 0.6088, 0.6089, 0.609, 0.6091, 0.6092000000000001, 0.6093000000000001, 0.6094, 0.6095, 0.6096, 0.6097, 0.6098, 0.6099, 0.61, 0.6101, 0.6102000000000001, 0.6103000000000001, 0.6104, 0.6105, 0.6106, 0.6107, 0.6108, 0.6109, 0.611, 0.6111, 0.6112000000000001, 0.6113000000000001, 0.6114, 0.6115, 0.6116, 0.6117, 0.6118, 0.6119, 0.612, 0.6121, 0.6122000000000001, 0.6123000000000001, 0.6124, 0.6125, 0.6126, 0.6127, 0.6128, 0.6129, 0.613, 0.6131, 0.6132000000000001, 0.6133000000000001, 0.6134000000000001, 0.6135, 0.6136, 0.6137, 0.6138, 0.6139, 0.614, 0.6141, 0.6142000000000001, 0.6143000000000001, 0.6144000000000001, 0.6145, 0.6146, 0.6147, 0.6148, 0.6149, 0.615, 0.6151, 0.6152000000000001, 0.6153000000000001, 0.6154000000000001, 0.6155, 0.6156, 0.6157, 0.6158, 0.6159, 0.616, 0.6161, 0.6162000000000001, 0.6163000000000001, 0.6164000000000001, 0.6165, 0.6166, 0.6167, 0.6168, 0.6169, 0.617, 0.6171, 0.6172000000000001, 0.6173000000000001, 0.6174000000000001, 0.6175, 0.6176, 0.6177, 0.6178, 0.6179, 0.618, 0.6181, 0.6182000000000001, 0.6183000000000001, 0.6184000000000001, 0.6185, 0.6186, 0.6187, 0.6188, 0.6189, 0.619, 0.6191, 0.6192000000000001, 0.6193000000000001, 0.6194000000000001, 0.6195, 0.6196, 0.6197, 0.6198, 0.6199, 0.62, 0.6201, 0.6202000000000001, 0.6203000000000001, 0.6204000000000001, 0.6205, 0.6206, 0.6207, 0.6208, 0.6209, 0.621, 0.6211, 0.6212, 0.6213000000000001, 0.6214000000000001, 0.6215, 0.6216, 0.6217, 0.6218, 0.6219, 0.622, 0.6221, 0.6222, 0.6223000000000001, 0.6224000000000001, 0.6225, 0.6226, 0.6227, 0.6228, 0.6229, 0.623, 0.6231, 0.6232, 0.6233000000000001, 0.6234000000000001, 0.6235, 0.6236, 0.6237, 0.6238, 0.6239, 0.624, 0.6241, 0.6242, 0.6243000000000001, 0.6244000000000001, 0.6245, 0.6246, 0.6247, 0.6248, 0.6249, 0.625, 0.6251, 0.6252, 0.6253000000000001, 0.6254000000000001, 0.6255000000000001, 0.6256, 0.6257, 0.6258, 0.6259, 0.626, 0.6261, 0.6262, 0.6263000000000001, 0.6264000000000001, 0.6265000000000001, 0.6266, 0.6267, 0.6268, 0.6269, 0.627, 0.6271, 0.6272, 0.6273000000000001, 0.6274000000000001, 0.6275000000000001, 0.6276, 0.6277, 0.6278, 0.6279, 0.628, 0.6281, 0.6282, 0.6283000000000001, 0.6284000000000001, 0.6285000000000001, 0.6286, 0.6287, 0.6288, 0.6289, 0.629, 0.6291, 0.6292, 0.6293000000000001, 0.6294000000000001, 0.6295000000000001, 0.6296, 0.6297, 0.6298, 0.6299, 0.63, 0.6301, 0.6302, 0.6303000000000001, 0.6304000000000001, 0.6305000000000001, 0.6306, 0.6307, 0.6308, 0.6309, 0.631, 0.6311, 0.6312, 0.6313000000000001, 0.6314000000000001, 0.6315000000000001, 0.6316, 0.6317, 0.6318, 0.6319, 0.632, 0.6321, 0.6322, 0.6323000000000001, 0.6324000000000001, 0.6325000000000001, 0.6326, 0.6327, 0.6328, 0.6329, 0.633, 0.6331, 0.6332, 0.6333000000000001, 0.6334000000000001, 0.6335000000000001, 0.6336, 0.6337, 0.6338, 0.6339, 0.634, 0.6341, 0.6342, 0.6343, 0.6344000000000001, 0.6345000000000001, 0.6346, 0.6347, 0.6348, 0.6349, 0.635, 0.6351, 0.6352, 0.6353, 0.6354000000000001, 0.6355000000000001, 0.6356, 0.6357, 0.6358, 0.6359, 0.636, 0.6361, 0.6362, 0.6363, 0.6364000000000001, 0.6365000000000001, 0.6366, 0.6367, 0.6368, 0.6369, 0.637, 0.6371, 0.6372, 0.6373, 0.6374000000000001, 0.6375000000000001, 0.6376000000000001, 0.6377, 0.6378, 0.6379, 0.638, 0.6381, 0.6382, 0.6383, 0.6384000000000001, 0.6385000000000001, 0.6386000000000001, 0.6387, 0.6388, 0.6389, 0.639, 0.6391, 0.6392, 0.6393, 0.6394000000000001, 0.6395000000000001, 0.6396000000000001, 0.6397, 0.6398, 0.6399, 0.64, 0.6401, 0.6402, 0.6403, 0.6404000000000001, 0.6405000000000001, 0.6406000000000001, 0.6407, 0.6408, 0.6409, 0.641, 0.6411, 0.6412, 0.6413, 0.6414000000000001, 0.6415000000000001, 0.6416000000000001, 0.6417, 0.6418, 0.6419, 0.642, 0.6421, 0.6422, 0.6423, 0.6424000000000001, 0.6425000000000001, 0.6426000000000001, 0.6427, 0.6428, 0.6429, 0.643, 0.6431, 0.6432, 0.6433, 0.6434000000000001, 0.6435000000000001, 0.6436000000000001, 0.6437, 0.6438, 0.6439, 0.644, 0.6441, 0.6442, 0.6443, 0.6444000000000001, 0.6445000000000001, 0.6446000000000001, 0.6447, 0.6448, 0.6449, 0.645, 0.6451, 0.6452, 0.6453, 0.6454000000000001, 0.6455000000000001, 0.6456000000000001, 0.6457, 0.6458, 0.6459, 0.646, 0.6461, 0.6462, 0.6463, 0.6464000000000001, 0.6465000000000001, 0.6466000000000001, 0.6467, 0.6468, 0.6469, 0.647, 0.6471, 0.6472, 0.6473, 0.6474000000000001, 0.6475000000000001, 0.6476000000000001, 0.6477, 0.6478, 0.6479, 0.648, 0.6481, 0.6482, 0.6483, 0.6484, 0.6485000000000001, 0.6486000000000001, 0.6487, 0.6488, 0.6489, 0.649, 0.6491, 0.6492, 0.6493, 0.6494, 0.6495000000000001, 0.6496000000000001, 0.6497, 0.6498, 0.6499, 0.65, 0.6501, 0.6502, 0.6503, 0.6504, 0.6505000000000001, 0.6506000000000001, 0.6507000000000001, 0.6508, 0.6509, 0.651, 0.6511, 0.6512, 0.6513, 0.6514, 0.6515000000000001, 0.6516000000000001, 0.6517000000000001, 0.6518, 0.6519, 0.652, 0.6521, 0.6522, 0.6523, 0.6524, 0.6525000000000001, 0.6526000000000001, 0.6527000000000001, 0.6528, 0.6529, 0.653, 0.6531, 0.6532, 0.6533, 0.6534, 0.6535000000000001, 0.6536000000000001, 0.6537000000000001, 0.6538, 0.6539, 0.654, 0.6541, 0.6542, 0.6543, 0.6544, 0.6545000000000001, 0.6546000000000001, 0.6547000000000001, 0.6548, 0.6549, 0.655, 0.6551, 0.6552, 0.6553, 0.6554, 0.6555000000000001, 0.6556000000000001, 0.6557000000000001, 0.6558, 0.6559, 0.656, 0.6561, 0.6562, 0.6563, 0.6564, 0.6565000000000001, 0.6566000000000001, 0.6567000000000001, 0.6568, 0.6569, 0.657, 0.6571, 0.6572, 0.6573, 0.6574, 0.6575000000000001, 0.6576000000000001, 0.6577000000000001, 0.6578, 0.6579, 0.658, 0.6581, 0.6582, 0.6583, 0.6584, 0.6585000000000001, 0.6586000000000001, 0.6587000000000001, 0.6588, 0.6589, 0.659, 0.6591, 0.6592, 0.6593, 0.6594, 0.6595000000000001, 0.6596000000000001, 0.6597000000000001, 0.6598, 0.6599, 0.66, 0.6601, 0.6602, 0.6603, 0.6604, 0.6605000000000001, 0.6606000000000001, 0.6607000000000001, 0.6608, 0.6609, 0.661, 0.6611, 0.6612, 0.6613, 0.6614, 0.6615, 0.6616000000000001, 0.6617000000000001, 0.6618, 0.6619, 0.662, 0.6621, 0.6622, 0.6623, 0.6624, 0.6625, 0.6626000000000001, 0.6627000000000001, 0.6628000000000001, 0.6629, 0.663, 0.6631, 0.6632, 0.6633, 0.6634, 0.6635, 0.6636000000000001, 0.6637000000000001, 0.6638000000000001, 0.6639, 0.664, 0.6641, 0.6642, 0.6643, 0.6644, 0.6645, 0.6646000000000001, 0.6647000000000001, 0.6648000000000001, 0.6649, 0.665, 0.6651, 0.6652, 0.6653, 0.6654, 0.6655, 0.6656000000000001, 0.6657000000000001, 0.6658000000000001, 0.6659, 0.666, 0.6661, 0.6662, 0.6663, 0.6664, 0.6665, 0.6666000000000001, 0.6667000000000001, 0.6668000000000001, 0.6669, 0.667, 0.6671, 0.6672, 0.6673, 0.6674, 0.6675, 0.6676000000000001, 0.6677000000000001, 0.6678000000000001, 0.6679, 0.668, 0.6681, 0.6682, 0.6683, 0.6684, 0.6685, 0.6686000000000001, 0.6687000000000001, 0.6688000000000001, 0.6689, 0.669, 0.6691, 0.6692, 0.6693, 0.6694, 0.6695, 0.6696000000000001, 0.6697000000000001, 0.6698000000000001, 0.6699, 0.67, 0.6701, 0.6702, 0.6703, 0.6704, 0.6705, 0.6706000000000001, 0.6707000000000001, 0.6708000000000001, 0.6709, 0.671, 0.6711, 0.6712, 0.6713, 0.6714, 0.6715, 0.6716000000000001, 0.6717000000000001, 0.6718000000000001, 0.6719, 0.672, 0.6721, 0.6722, 0.6723, 0.6724, 0.6725, 0.6726000000000001, 0.6727000000000001, 0.6728000000000001, 0.6729, 0.673, 0.6731, 0.6732, 0.6733, 0.6734, 0.6735, 0.6736000000000001, 0.6737000000000001, 0.6738000000000001, 0.6739, 0.674, 0.6741, 0.6742, 0.6743, 0.6744, 0.6745, 0.6746, 0.6747000000000001, 0.6748000000000001, 0.6749, 0.675, 0.6751, 0.6752, 0.6753, 0.6754, 0.6755, 0.6756, 0.6757000000000001, 0.6758000000000001, 0.6759000000000001, 0.676, 0.6761, 0.6762, 0.6763, 0.6764, 0.6765, 0.6766, 0.6767000000000001, 0.6768000000000001, 0.6769000000000001, 0.677, 0.6771, 0.6772, 0.6773, 0.6774, 0.6775, 0.6776, 0.6777000000000001, 0.6778000000000001, 0.6779000000000001, 0.678, 0.6781, 0.6782, 0.6783, 0.6784, 0.6785, 0.6786, 0.6787000000000001, 0.6788000000000001, 0.6789000000000001, 0.679, 0.6791, 0.6792, 0.6793, 0.6794, 0.6795, 0.6796, 0.6797000000000001, 0.6798000000000001, 0.6799000000000001, 0.68, 0.6801, 0.6802, 0.6803, 0.6804, 0.6805, 0.6806, 0.6807000000000001, 0.6808000000000001, 0.6809000000000001, 0.681, 0.6811, 0.6812, 0.6813, 0.6814, 0.6815, 0.6816, 0.6817000000000001, 0.6818000000000001, 0.6819000000000001, 0.682, 0.6821, 0.6822, 0.6823, 0.6824, 0.6825, 0.6826, 0.6827000000000001, 0.6828000000000001, 0.6829000000000001, 0.683, 0.6831, 0.6832, 0.6833, 0.6834, 0.6835, 0.6836, 0.6837000000000001, 0.6838000000000001, 0.6839000000000001, 0.684, 0.6841, 0.6842, 0.6843, 0.6844, 0.6845, 0.6846, 0.6847000000000001, 0.6848000000000001, 0.6849000000000001, 0.685, 0.6851, 0.6852, 0.6853, 0.6854, 0.6855, 0.6856, 0.6857000000000001, 0.6858000000000001, 0.6859000000000001, 0.686, 0.6861, 0.6862, 0.6863, 0.6864, 0.6865, 0.6866, 0.6867000000000001, 0.6868000000000001, 0.6869000000000001, 0.687, 0.6871, 0.6872, 0.6873, 0.6874, 0.6875, 0.6876, 0.6877, 0.6878000000000001, 0.6879000000000001, 0.6880000000000001, 0.6881, 0.6882, 0.6883, 0.6884, 0.6885, 0.6886, 0.6887, 0.6888000000000001, 0.6889000000000001, 0.6890000000000001, 0.6891, 0.6892, 0.6893, 0.6894, 0.6895, 0.6896, 0.6897, 0.6898000000000001, 0.6899000000000001, 0.6900000000000001, 0.6901, 0.6902, 0.6903, 0.6904, 0.6905, 0.6906, 0.6907, 0.6908000000000001, 0.6909000000000001, 0.6910000000000001, 0.6911, 0.6912, 0.6913, 0.6914, 0.6915, 0.6916, 0.6917, 0.6918000000000001, 0.6919000000000001, 0.6920000000000001, 0.6921, 0.6922, 0.6923, 0.6924, 0.6925, 0.6926, 0.6927, 0.6928000000000001, 0.6929000000000001, 0.6930000000000001, 0.6931, 0.6932, 0.6933, 0.6934, 0.6935, 0.6936, 0.6937, 0.6938000000000001, 0.6939000000000001, 0.6940000000000001, 0.6941, 0.6942, 0.6943, 0.6944, 0.6945, 0.6946, 0.6947, 0.6948000000000001, 0.6949000000000001, 0.6950000000000001, 0.6951, 0.6952, 0.6953, 0.6954, 0.6955, 0.6956, 0.6957, 0.6958000000000001, 0.6959000000000001, 0.6960000000000001, 0.6961, 0.6962, 0.6963, 0.6964, 0.6965, 0.6966, 0.6967, 0.6968000000000001, 0.6969000000000001, 0.6970000000000001, 0.6971, 0.6972, 0.6973, 0.6974, 0.6975, 0.6976, 0.6977, 0.6978000000000001, 0.6979000000000001, 0.6980000000000001, 0.6981, 0.6982, 0.6983, 0.6984, 0.6985, 0.6986, 0.6987, 0.6988000000000001, 0.6989000000000001, 0.6990000000000001, 0.6991, 0.6992, 0.6993, 0.6994, 0.6995, 0.6996, 0.6997, 0.6998000000000001, 0.6999000000000001, 0.7000000000000001, 0.7001000000000001, 0.7002, 0.7003, 0.7004, 0.7005, 0.7006, 0.7007, 0.7008, 0.7009000000000001, 0.7010000000000001, 0.7011000000000001, 0.7012, 0.7013, 0.7014, 0.7015, 0.7016, 0.7017, 0.7018, 0.7019000000000001, 0.7020000000000001, 0.7021000000000001, 0.7022, 0.7023, 0.7024, 0.7025, 0.7026, 0.7027, 0.7028, 0.7029000000000001, 0.7030000000000001, 0.7031000000000001, 0.7032, 0.7033, 0.7034, 0.7035, 0.7036, 0.7037, 0.7038, 0.7039000000000001, 0.7040000000000001, 0.7041000000000001, 0.7042, 0.7043, 0.7044, 0.7045, 0.7046, 0.7047, 0.7048, 0.7049000000000001, 0.7050000000000001, 0.7051000000000001, 0.7052, 0.7053, 0.7054, 0.7055, 0.7056, 0.7057, 0.7058, 0.7059000000000001, 0.7060000000000001, 0.7061000000000001, 0.7062, 0.7063, 0.7064, 0.7065, 0.7066, 0.7067, 0.7068, 0.7069000000000001, 0.7070000000000001, 0.7071000000000001, 0.7072, 0.7073, 0.7074, 0.7075, 0.7076, 0.7077, 0.7078, 0.7079000000000001, 0.7080000000000001, 0.7081000000000001, 0.7082, 0.7083, 0.7084, 0.7085, 0.7086, 0.7087, 0.7088, 0.7089000000000001, 0.7090000000000001, 0.7091000000000001, 0.7092, 0.7093, 0.7094, 0.7095, 0.7096, 0.7097, 0.7098, 0.7099000000000001, 0.7100000000000001, 0.7101000000000001, 0.7102, 0.7103, 0.7104, 0.7105, 0.7106, 0.7107, 0.7108, 0.7109000000000001, 0.7110000000000001, 0.7111000000000001, 0.7112, 0.7113, 0.7114, 0.7115, 0.7116, 0.7117, 0.7118, 0.7119000000000001, 0.7120000000000001, 0.7121000000000001, 0.7122, 0.7123, 0.7124, 0.7125, 0.7126, 0.7127, 0.7128, 0.7129000000000001, 0.7130000000000001, 0.7131000000000001, 0.7132000000000001, 0.7133, 0.7134, 0.7135, 0.7136, 0.7137, 0.7138, 0.7139, 0.7140000000000001, 0.7141000000000001, 0.7142000000000001, 0.7143, 0.7144, 0.7145, 0.7146, 0.7147, 0.7148, 0.7149, 0.7150000000000001, 0.7151000000000001, 0.7152000000000001, 0.7153, 0.7154, 0.7155, 0.7156, 0.7157, 0.7158, 0.7159, 0.7160000000000001, 0.7161000000000001, 0.7162000000000001, 0.7163, 0.7164, 0.7165, 0.7166, 0.7167, 0.7168, 0.7169, 0.7170000000000001, 0.7171000000000001, 0.7172000000000001, 0.7173, 0.7174, 0.7175, 0.7176, 0.7177, 0.7178, 0.7179, 0.7180000000000001, 0.7181000000000001, 0.7182000000000001, 0.7183, 0.7184, 0.7185, 0.7186, 0.7187, 0.7188, 0.7189, 0.7190000000000001, 0.7191000000000001, 0.7192000000000001, 0.7193, 0.7194, 0.7195, 0.7196, 0.7197, 0.7198, 0.7199, 0.7200000000000001, 0.7201000000000001, 0.7202000000000001, 0.7203, 0.7204, 0.7205, 0.7206, 0.7207, 0.7208, 0.7209, 0.7210000000000001, 0.7211000000000001, 0.7212000000000001, 0.7213, 0.7214, 0.7215, 0.7216, 0.7217, 0.7218, 0.7219, 0.7220000000000001, 0.7221000000000001, 0.7222000000000001, 0.7223, 0.7224, 0.7225, 0.7226, 0.7227, 0.7228, 0.7229, 0.7230000000000001, 0.7231000000000001, 0.7232000000000001, 0.7233, 0.7234, 0.7235, 0.7236, 0.7237, 0.7238, 0.7239, 0.7240000000000001, 0.7241000000000001, 0.7242000000000001, 0.7243, 0.7244, 0.7245, 0.7246, 0.7247, 0.7248, 0.7249, 0.7250000000000001, 0.7251000000000001, 0.7252000000000001, 0.7253000000000001, 0.7254, 0.7255, 0.7256, 0.7257, 0.7258, 0.7259, 0.7260000000000001, 0.7261000000000001, 0.7262000000000001, 0.7263000000000001, 0.7264, 0.7265, 0.7266, 0.7267, 0.7268, 0.7269, 0.727, 0.7271000000000001, 0.7272000000000001, 0.7273000000000001, 0.7274, 0.7275, 0.7276, 0.7277, 0.7278, 0.7279, 0.728, 0.7281000000000001, 0.7282000000000001, 0.7283000000000001, 0.7284, 0.7285, 0.7286, 0.7287, 0.7288, 0.7289, 0.729, 0.7291000000000001, 0.7292000000000001, 0.7293000000000001, 0.7294, 0.7295, 0.7296, 0.7297, 0.7298, 0.7299, 0.73, 0.7301000000000001, 0.7302000000000001, 0.7303000000000001, 0.7304, 0.7305, 0.7306, 0.7307, 0.7308, 0.7309, 0.731, 0.7311000000000001, 0.7312000000000001, 0.7313000000000001, 0.7314, 0.7315, 0.7316, 0.7317, 0.7318, 0.7319, 0.732, 0.7321000000000001, 0.7322000000000001, 0.7323000000000001, 0.7324, 0.7325, 0.7326, 0.7327, 0.7328, 0.7329, 0.733, 0.7331000000000001, 0.7332000000000001, 0.7333000000000001, 0.7334, 0.7335, 0.7336, 0.7337, 0.7338, 0.7339, 0.734, 0.7341000000000001, 0.7342000000000001, 0.7343000000000001, 0.7344, 0.7345, 0.7346, 0.7347, 0.7348, 0.7349, 0.735, 0.7351000000000001, 0.7352000000000001, 0.7353000000000001, 0.7354, 0.7355, 0.7356, 0.7357, 0.7358, 0.7359, 0.736, 0.7361000000000001, 0.7362000000000001, 0.7363000000000001, 0.7364, 0.7365, 0.7366, 0.7367, 0.7368, 0.7369, 0.737, 0.7371000000000001, 0.7372000000000001, 0.7373000000000001, 0.7374, 0.7375, 0.7376, 0.7377, 0.7378, 0.7379, 0.738, 0.7381000000000001, 0.7382000000000001, 0.7383000000000001, 0.7384000000000001, 0.7385, 0.7386, 0.7387, 0.7388, 0.7389, 0.739, 0.7391000000000001, 0.7392000000000001, 0.7393000000000001, 0.7394000000000001, 0.7395, 0.7396, 0.7397, 0.7398, 0.7399, 0.74, 0.7401, 0.7402000000000001, 0.7403000000000001, 0.7404000000000001, 0.7405, 0.7406, 0.7407, 0.7408, 0.7409, 0.741, 0.7411, 0.7412000000000001, 0.7413000000000001, 0.7414000000000001, 0.7415, 0.7416, 0.7417, 0.7418, 0.7419, 0.742, 0.7421, 0.7422000000000001, 0.7423000000000001, 0.7424000000000001, 0.7425, 0.7426, 0.7427, 0.7428, 0.7429, 0.743, 0.7431, 0.7432000000000001, 0.7433000000000001, 0.7434000000000001, 0.7435, 0.7436, 0.7437, 0.7438, 0.7439, 0.744, 0.7441, 0.7442000000000001, 0.7443000000000001, 0.7444000000000001, 0.7445, 0.7446, 0.7447, 0.7448, 0.7449, 0.745, 0.7451, 0.7452000000000001, 0.7453000000000001, 0.7454000000000001, 0.7455, 0.7456, 0.7457, 0.7458, 0.7459, 0.746, 0.7461, 0.7462000000000001, 0.7463000000000001, 0.7464000000000001, 0.7465, 0.7466, 0.7467, 0.7468, 0.7469, 0.747, 0.7471, 0.7472000000000001, 0.7473000000000001, 0.7474000000000001, 0.7475, 0.7476, 0.7477, 0.7478, 0.7479, 0.748, 0.7481, 0.7482000000000001, 0.7483000000000001, 0.7484000000000001, 0.7485, 0.7486, 0.7487, 0.7488, 0.7489, 0.749, 0.7491, 0.7492000000000001, 0.7493000000000001, 0.7494000000000001, 0.7495, 0.7496, 0.7497, 0.7498, 0.7499, 0.75, 0.7501, 0.7502000000000001, 0.7503000000000001, 0.7504000000000001, 0.7505000000000001, 0.7506, 0.7507, 0.7508, 0.7509, 0.751, 0.7511, 0.7512000000000001, 0.7513000000000001, 0.7514000000000001, 0.7515000000000001, 0.7516, 0.7517, 0.7518, 0.7519, 0.752, 0.7521, 0.7522000000000001, 0.7523000000000001, 0.7524000000000001, 0.7525000000000001, 0.7526, 0.7527, 0.7528, 0.7529, 0.753, 0.7531, 0.7532, 0.7533000000000001, 0.7534000000000001, 0.7535000000000001, 0.7536, 0.7537, 0.7538, 0.7539, 0.754, 0.7541, 0.7542, 0.7543000000000001, 0.7544000000000001, 0.7545000000000001, 0.7546, 0.7547, 0.7548, 0.7549, 0.755, 0.7551, 0.7552, 0.7553000000000001, 0.7554000000000001, 0.7555000000000001, 0.7556, 0.7557, 0.7558, 0.7559, 0.756, 0.7561, 0.7562, 0.7563000000000001, 0.7564000000000001, 0.7565000000000001, 0.7566, 0.7567, 0.7568, 0.7569, 0.757, 0.7571, 0.7572, 0.7573000000000001, 0.7574000000000001, 0.7575000000000001, 0.7576, 0.7577, 0.7578, 0.7579, 0.758, 0.7581, 0.7582, 0.7583000000000001, 0.7584000000000001, 0.7585000000000001, 0.7586, 0.7587, 0.7588, 0.7589, 0.759, 0.7591, 0.7592, 0.7593000000000001, 0.7594000000000001, 0.7595000000000001, 0.7596, 0.7597, 0.7598, 0.7599, 0.76, 0.7601, 0.7602, 0.7603000000000001, 0.7604000000000001, 0.7605000000000001, 0.7606, 0.7607, 0.7608, 0.7609, 0.761, 0.7611, 0.7612, 0.7613000000000001, 0.7614000000000001, 0.7615000000000001, 0.7616, 0.7617, 0.7618, 0.7619, 0.762, 0.7621, 0.7622, 0.7623000000000001, 0.7624000000000001, 0.7625000000000001, 0.7626000000000001, 0.7627, 0.7628, 0.7629, 0.763, 0.7631, 0.7632, 0.7633000000000001, 0.7634000000000001, 0.7635000000000001, 0.7636000000000001, 0.7637, 0.7638, 0.7639, 0.764, 0.7641, 0.7642, 0.7643000000000001, 0.7644000000000001, 0.7645000000000001, 0.7646000000000001, 0.7647, 0.7648, 0.7649, 0.765, 0.7651, 0.7652, 0.7653000000000001, 0.7654000000000001, 0.7655000000000001, 0.7656000000000001, 0.7657, 0.7658, 0.7659, 0.766, 0.7661, 0.7662, 0.7663000000000001, 0.7664000000000001, 0.7665000000000001, 0.7666000000000001, 0.7667, 0.7668, 0.7669, 0.767, 0.7671, 0.7672, 0.7673, 0.7674000000000001, 0.7675000000000001, 0.7676000000000001, 0.7677, 0.7678, 0.7679, 0.768, 0.7681, 0.7682, 0.7683, 0.7684000000000001, 0.7685000000000001, 0.7686000000000001, 0.7687, 0.7688, 0.7689, 0.769, 0.7691, 0.7692, 0.7693, 0.7694000000000001, 0.7695000000000001, 0.7696000000000001, 0.7697, 0.7698, 0.7699, 0.77, 0.7701, 0.7702, 0.7703, 0.7704000000000001, 0.7705000000000001, 0.7706000000000001, 0.7707, 0.7708, 0.7709, 0.771, 0.7711, 0.7712, 0.7713, 0.7714000000000001, 0.7715000000000001, 0.7716000000000001, 0.7717, 0.7718, 0.7719, 0.772, 0.7721, 0.7722, 0.7723, 0.7724000000000001, 0.7725000000000001, 0.7726000000000001, 0.7727, 0.7728, 0.7729, 0.773, 0.7731, 0.7732, 0.7733, 0.7734000000000001, 0.7735000000000001, 0.7736000000000001, 0.7737, 0.7738, 0.7739, 0.774, 0.7741, 0.7742, 0.7743, 0.7744000000000001, 0.7745000000000001, 0.7746000000000001, 0.7747, 0.7748, 0.7749, 0.775, 0.7751, 0.7752, 0.7753, 0.7754000000000001, 0.7755000000000001, 0.7756000000000001, 0.7757000000000001, 0.7758, 0.7759, 0.776, 0.7761, 0.7762, 0.7763, 0.7764000000000001, 0.7765000000000001, 0.7766000000000001, 0.7767000000000001, 0.7768, 0.7769, 0.777, 0.7771, 0.7772, 0.7773, 0.7774000000000001, 0.7775000000000001, 0.7776000000000001, 0.7777000000000001, 0.7778, 0.7779, 0.778, 0.7781, 0.7782, 0.7783, 0.7784000000000001, 0.7785000000000001, 0.7786000000000001, 0.7787000000000001, 0.7788, 0.7789, 0.779, 0.7791, 0.7792, 0.7793, 0.7794000000000001, 0.7795000000000001, 0.7796000000000001, 0.7797000000000001, 0.7798, 0.7799, 0.78, 0.7801, 0.7802, 0.7803, 0.7804, 0.7805000000000001, 0.7806000000000001, 0.7807000000000001, 0.7808, 0.7809, 0.781, 0.7811, 0.7812, 0.7813, 0.7814, 0.7815000000000001, 0.7816000000000001, 0.7817000000000001, 0.7818, 0.7819, 0.782, 0.7821, 0.7822, 0.7823, 0.7824, 0.7825000000000001, 0.7826000000000001, 0.7827000000000001, 0.7828, 0.7829, 0.783, 0.7831, 0.7832, 0.7833, 0.7834, 0.7835000000000001, 0.7836000000000001, 0.7837000000000001, 0.7838, 0.7839, 0.784, 0.7841, 0.7842, 0.7843, 0.7844, 0.7845000000000001, 0.7846000000000001, 0.7847000000000001, 0.7848, 0.7849, 0.785, 0.7851, 0.7852, 0.7853, 0.7854, 0.7855000000000001, 0.7856000000000001, 0.7857000000000001, 0.7858, 0.7859, 0.786, 0.7861, 0.7862, 0.7863, 0.7864, 0.7865000000000001, 0.7866000000000001, 0.7867000000000001, 0.7868, 0.7869, 0.787, 0.7871, 0.7872, 0.7873, 0.7874, 0.7875000000000001, 0.7876000000000001, 0.7877000000000001, 0.7878000000000001, 0.7879, 0.788, 0.7881, 0.7882, 0.7883, 0.7884, 0.7885000000000001, 0.7886000000000001, 0.7887000000000001, 0.7888000000000001, 0.7889, 0.789, 0.7891, 0.7892, 0.7893, 0.7894, 0.7895000000000001, 0.7896000000000001, 0.7897000000000001, 0.7898000000000001, 0.7899, 0.79, 0.7901, 0.7902, 0.7903, 0.7904, 0.7905000000000001, 0.7906000000000001, 0.7907000000000001, 0.7908000000000001, 0.7909, 0.791, 0.7911, 0.7912, 0.7913, 0.7914, 0.7915000000000001, 0.7916000000000001, 0.7917000000000001, 0.7918000000000001, 0.7919, 0.792, 0.7921, 0.7922, 0.7923, 0.7924, 0.7925000000000001, 0.7926000000000001, 0.7927000000000001, 0.7928000000000001, 0.7929, 0.793, 0.7931, 0.7932, 0.7933, 0.7934, 0.7935, 0.7936000000000001, 0.7937000000000001, 0.7938000000000001, 0.7939, 0.794, 0.7941, 0.7942, 0.7943, 0.7944, 0.7945, 0.7946000000000001, 0.7947000000000001, 0.7948000000000001, 0.7949, 0.795, 0.7951, 0.7952, 0.7953, 0.7954, 0.7955, 0.7956000000000001, 0.7957000000000001, 0.7958000000000001, 0.7959, 0.796, 0.7961, 0.7962, 0.7963, 0.7964, 0.7965, 0.7966000000000001, 0.7967000000000001, 0.7968000000000001, 0.7969, 0.797, 0.7971, 0.7972, 0.7973, 0.7974, 0.7975, 0.7976000000000001, 0.7977000000000001, 0.7978000000000001, 0.7979, 0.798, 0.7981, 0.7982, 0.7983, 0.7984, 0.7985, 0.7986000000000001, 0.7987000000000001, 0.7988000000000001, 0.7989, 0.799, 0.7991, 0.7992, 0.7993, 0.7994, 0.7995, 0.7996000000000001, 0.7997000000000001, 0.7998000000000001, 0.7999, 0.8, 0.8001, 0.8002, 0.8003, 0.8004, 0.8005, 0.8006000000000001, 0.8007000000000001, 0.8008000000000001, 0.8009000000000001, 0.801, 0.8011, 0.8012, 0.8013, 0.8014, 0.8015, 0.8016000000000001, 0.8017000000000001, 0.8018000000000001, 0.8019000000000001, 0.802, 0.8021, 0.8022, 0.8023, 0.8024, 0.8025, 0.8026000000000001, 0.8027000000000001, 0.8028000000000001, 0.8029000000000001, 0.803, 0.8031, 0.8032, 0.8033, 0.8034, 0.8035, 0.8036000000000001, 0.8037000000000001, 0.8038000000000001, 0.8039000000000001, 0.804, 0.8041, 0.8042, 0.8043, 0.8044, 0.8045, 0.8046000000000001, 0.8047000000000001, 0.8048000000000001, 0.8049000000000001, 0.805, 0.8051, 0.8052, 0.8053, 0.8054, 0.8055, 0.8056000000000001, 0.8057000000000001, 0.8058000000000001, 0.8059000000000001, 0.806, 0.8061, 0.8062, 0.8063, 0.8064, 0.8065, 0.8066, 0.8067000000000001, 0.8068000000000001, 0.8069000000000001, 0.807, 0.8071, 0.8072, 0.8073, 0.8074, 0.8075, 0.8076, 0.8077000000000001, 0.8078000000000001, 0.8079000000000001, 0.808, 0.8081, 0.8082, 0.8083, 0.8084, 0.8085, 0.8086, 0.8087000000000001, 0.8088000000000001, 0.8089000000000001, 0.809, 0.8091, 0.8092, 0.8093, 0.8094, 0.8095, 0.8096, 0.8097000000000001, 0.8098000000000001, 0.8099000000000001, 0.81, 0.8101, 0.8102, 0.8103, 0.8104, 0.8105, 0.8106, 0.8107000000000001, 0.8108000000000001, 0.8109000000000001, 0.811, 0.8111, 0.8112, 0.8113, 0.8114, 0.8115, 0.8116, 0.8117000000000001, 0.8118000000000001, 0.8119000000000001, 0.812, 0.8121, 0.8122, 0.8123, 0.8124, 0.8125, 0.8126, 0.8127000000000001, 0.8128000000000001, 0.8129000000000001, 0.8130000000000001, 0.8131, 0.8132, 0.8133, 0.8134, 0.8135, 0.8136, 0.8137000000000001, 0.8138000000000001, 0.8139000000000001, 0.8140000000000001, 0.8141, 0.8142, 0.8143, 0.8144, 0.8145, 0.8146, 0.8147000000000001, 0.8148000000000001, 0.8149000000000001, 0.8150000000000001, 0.8151, 0.8152, 0.8153, 0.8154, 0.8155, 0.8156, 0.8157000000000001, 0.8158000000000001, 0.8159000000000001, 0.8160000000000001, 0.8161, 0.8162, 0.8163, 0.8164, 0.8165, 0.8166, 0.8167000000000001, 0.8168000000000001, 0.8169000000000001, 0.8170000000000001, 0.8171, 0.8172, 0.8173, 0.8174, 0.8175, 0.8176, 0.8177000000000001, 0.8178000000000001, 0.8179000000000001, 0.8180000000000001, 0.8181, 0.8182, 0.8183, 0.8184, 0.8185, 0.8186, 0.8187000000000001, 0.8188000000000001, 0.8189000000000001, 0.8190000000000001, 0.8191, 0.8192, 0.8193, 0.8194, 0.8195, 0.8196, 0.8197, 0.8198000000000001, 0.8199000000000001, 0.8200000000000001, 0.8201, 0.8202, 0.8203, 0.8204, 0.8205, 0.8206, 0.8207, 0.8208000000000001, 0.8209000000000001, 0.8210000000000001, 0.8211, 0.8212, 0.8213, 0.8214, 0.8215, 0.8216, 0.8217, 0.8218000000000001, 0.8219000000000001, 0.8220000000000001, 0.8221, 0.8222, 0.8223, 0.8224, 0.8225, 0.8226, 0.8227, 0.8228000000000001, 0.8229000000000001, 0.8230000000000001, 0.8231, 0.8232, 0.8233, 0.8234, 0.8235, 0.8236, 0.8237, 0.8238000000000001, 0.8239000000000001, 0.8240000000000001, 0.8241, 0.8242, 0.8243, 0.8244, 0.8245, 0.8246, 0.8247, 0.8248000000000001, 0.8249000000000001, 0.8250000000000001, 0.8251000000000001, 0.8252, 0.8253, 0.8254, 0.8255, 0.8256, 0.8257, 0.8258000000000001, 0.8259000000000001, 0.8260000000000001, 0.8261000000000001, 0.8262, 0.8263, 0.8264, 0.8265, 0.8266, 0.8267, 0.8268000000000001, 0.8269000000000001, 0.8270000000000001, 0.8271000000000001, 0.8272, 0.8273, 0.8274, 0.8275, 0.8276, 0.8277, 0.8278000000000001, 0.8279000000000001, 0.8280000000000001, 0.8281000000000001, 0.8282, 0.8283, 0.8284, 0.8285, 0.8286, 0.8287, 0.8288000000000001, 0.8289000000000001, 0.8290000000000001, 0.8291000000000001, 0.8292, 0.8293, 0.8294, 0.8295, 0.8296, 0.8297, 0.8298000000000001, 0.8299000000000001, 0.8300000000000001, 0.8301000000000001, 0.8302, 0.8303, 0.8304, 0.8305, 0.8306, 0.8307, 0.8308000000000001, 0.8309000000000001, 0.8310000000000001, 0.8311000000000001, 0.8312, 0.8313, 0.8314, 0.8315, 0.8316, 0.8317, 0.8318000000000001, 0.8319000000000001, 0.8320000000000001, 0.8321000000000001, 0.8322, 0.8323, 0.8324, 0.8325, 0.8326, 0.8327, 0.8328, 0.8329000000000001, 0.8330000000000001, 0.8331000000000001, 0.8332, 0.8333, 0.8334, 0.8335, 0.8336, 0.8337, 0.8338, 0.8339000000000001, 0.8340000000000001, 0.8341000000000001, 0.8342, 0.8343, 0.8344, 0.8345, 0.8346, 0.8347, 0.8348, 0.8349000000000001, 0.8350000000000001, 0.8351000000000001, 0.8352, 0.8353, 0.8354, 0.8355, 0.8356, 0.8357, 0.8358, 0.8359000000000001, 0.8360000000000001, 0.8361000000000001, 0.8362, 0.8363, 0.8364, 0.8365, 0.8366, 0.8367, 0.8368, 0.8369000000000001, 0.8370000000000001, 0.8371000000000001, 0.8372, 0.8373, 0.8374, 0.8375, 0.8376, 0.8377, 0.8378, 0.8379000000000001, 0.8380000000000001, 0.8381000000000001, 0.8382000000000001, 0.8383, 0.8384, 0.8385, 0.8386, 0.8387, 0.8388, 0.8389000000000001, 0.8390000000000001, 0.8391000000000001, 0.8392000000000001, 0.8393, 0.8394, 0.8395, 0.8396, 0.8397, 0.8398, 0.8399000000000001, 0.8400000000000001, 0.8401000000000001, 0.8402000000000001, 0.8403, 0.8404, 0.8405, 0.8406, 0.8407, 0.8408, 0.8409000000000001, 0.8410000000000001, 0.8411000000000001, 0.8412000000000001, 0.8413, 0.8414, 0.8415, 0.8416, 0.8417, 0.8418, 0.8419000000000001, 0.8420000000000001, 0.8421000000000001, 0.8422000000000001, 0.8423, 0.8424, 0.8425, 0.8426, 0.8427, 0.8428, 0.8429000000000001, 0.8430000000000001, 0.8431000000000001, 0.8432000000000001, 0.8433, 0.8434, 0.8435, 0.8436, 0.8437, 0.8438, 0.8439000000000001, 0.8440000000000001, 0.8441000000000001, 0.8442000000000001, 0.8443, 0.8444, 0.8445, 0.8446, 0.8447, 0.8448, 0.8449000000000001, 0.8450000000000001, 0.8451000000000001, 0.8452000000000001, 0.8453, 0.8454, 0.8455, 0.8456, 0.8457, 0.8458, 0.8459, 0.8460000000000001, 0.8461000000000001, 0.8462000000000001, 0.8463, 0.8464, 0.8465, 0.8466, 0.8467, 0.8468, 0.8469, 0.8470000000000001, 0.8471000000000001, 0.8472000000000001, 0.8473, 0.8474, 0.8475, 0.8476, 0.8477, 0.8478, 0.8479, 0.8480000000000001, 0.8481000000000001, 0.8482000000000001, 0.8483, 0.8484, 0.8485, 0.8486, 0.8487, 0.8488, 0.8489, 0.8490000000000001, 0.8491000000000001, 0.8492000000000001, 0.8493, 0.8494, 0.8495, 0.8496, 0.8497, 0.8498, 0.8499, 0.8500000000000001, 0.8501000000000001, 0.8502000000000001, 0.8503000000000001, 0.8504, 0.8505, 0.8506, 0.8507, 0.8508, 0.8509, 0.8510000000000001, 0.8511000000000001, 0.8512000000000001, 0.8513000000000001, 0.8514, 0.8515, 0.8516, 0.8517, 0.8518, 0.8519, 0.8520000000000001, 0.8521000000000001, 0.8522000000000001, 0.8523000000000001, 0.8524, 0.8525, 0.8526, 0.8527, 0.8528, 0.8529, 0.8530000000000001, 0.8531000000000001, 0.8532000000000001, 0.8533000000000001, 0.8534, 0.8535, 0.8536, 0.8537, 0.8538, 0.8539, 0.8540000000000001, 0.8541000000000001, 0.8542000000000001, 0.8543000000000001, 0.8544, 0.8545, 0.8546, 0.8547, 0.8548, 0.8549, 0.8550000000000001, 0.8551000000000001, 0.8552000000000001, 0.8553000000000001, 0.8554, 0.8555, 0.8556, 0.8557, 0.8558, 0.8559, 0.8560000000000001, 0.8561000000000001, 0.8562000000000001, 0.8563000000000001, 0.8564, 0.8565, 0.8566, 0.8567, 0.8568, 0.8569, 0.8570000000000001, 0.8571000000000001, 0.8572000000000001, 0.8573000000000001, 0.8574, 0.8575, 0.8576, 0.8577, 0.8578, 0.8579, 0.8580000000000001, 0.8581000000000001, 0.8582000000000001, 0.8583000000000001, 0.8584, 0.8585, 0.8586, 0.8587, 0.8588, 0.8589, 0.859, 0.8591000000000001, 0.8592000000000001, 0.8593000000000001, 0.8594, 0.8595, 0.8596, 0.8597, 0.8598, 0.8599, 0.86, 0.8601000000000001, 0.8602000000000001, 0.8603000000000001, 0.8604, 0.8605, 0.8606, 0.8607, 0.8608, 0.8609, 0.861, 0.8611000000000001, 0.8612000000000001, 0.8613000000000001, 0.8614, 0.8615, 0.8616, 0.8617, 0.8618, 0.8619, 0.862, 0.8621000000000001, 0.8622000000000001, 0.8623000000000001, 0.8624, 0.8625, 0.8626, 0.8627, 0.8628, 0.8629, 0.863, 0.8631000000000001, 0.8632000000000001, 0.8633000000000001, 0.8634000000000001, 0.8635, 0.8636, 0.8637, 0.8638, 0.8639, 0.864, 0.8641000000000001, 0.8642000000000001, 0.8643000000000001, 0.8644000000000001, 0.8645, 0.8646, 0.8647, 0.8648, 0.8649, 0.865, 0.8651000000000001, 0.8652000000000001, 0.8653000000000001, 0.8654000000000001, 0.8655, 0.8656, 0.8657, 0.8658, 0.8659, 0.866, 0.8661000000000001, 0.8662000000000001, 0.8663000000000001, 0.8664000000000001, 0.8665, 0.8666, 0.8667, 0.8668, 0.8669, 0.867, 0.8671000000000001, 0.8672000000000001, 0.8673000000000001, 0.8674000000000001, 0.8675, 0.8676, 0.8677, 0.8678, 0.8679, 0.868, 0.8681000000000001, 0.8682000000000001, 0.8683000000000001, 0.8684000000000001, 0.8685, 0.8686, 0.8687, 0.8688, 0.8689, 0.869, 0.8691000000000001, 0.8692000000000001, 0.8693000000000001, 0.8694000000000001, 0.8695, 0.8696, 0.8697, 0.8698, 0.8699, 0.87, 0.8701000000000001, 0.8702000000000001, 0.8703000000000001, 0.8704000000000001, 0.8705, 0.8706, 0.8707, 0.8708, 0.8709, 0.871, 0.8711000000000001, 0.8712000000000001, 0.8713000000000001, 0.8714000000000001, 0.8715, 0.8716, 0.8717, 0.8718, 0.8719, 0.872, 0.8721, 0.8722000000000001, 0.8723000000000001, 0.8724000000000001, 0.8725, 0.8726, 0.8727, 0.8728, 0.8729, 0.873, 0.8731, 0.8732000000000001, 0.8733000000000001, 0.8734000000000001, 0.8735, 0.8736, 0.8737, 0.8738, 0.8739, 0.874, 0.8741, 0.8742000000000001, 0.8743000000000001, 0.8744000000000001, 0.8745, 0.8746, 0.8747, 0.8748, 0.8749, 0.875, 0.8751, 0.8752000000000001, 0.8753000000000001, 0.8754000000000001, 0.8755000000000001, 0.8756, 0.8757, 0.8758, 0.8759, 0.876, 0.8761, 0.8762000000000001, 0.8763000000000001, 0.8764000000000001, 0.8765000000000001, 0.8766, 0.8767, 0.8768, 0.8769, 0.877, 0.8771, 0.8772000000000001, 0.8773000000000001, 0.8774000000000001, 0.8775000000000001, 0.8776, 0.8777, 0.8778, 0.8779, 0.878, 0.8781, 0.8782000000000001, 0.8783000000000001, 0.8784000000000001, 0.8785000000000001, 0.8786, 0.8787, 0.8788, 0.8789, 0.879, 0.8791, 0.8792000000000001, 0.8793000000000001, 0.8794000000000001, 0.8795000000000001, 0.8796, 0.8797, 0.8798, 0.8799, 0.88, 0.8801, 0.8802000000000001, 0.8803000000000001, 0.8804000000000001, 0.8805000000000001, 0.8806, 0.8807, 0.8808, 0.8809, 0.881, 0.8811, 0.8812000000000001, 0.8813000000000001, 0.8814000000000001, 0.8815000000000001, 0.8816, 0.8817, 0.8818, 0.8819, 0.882, 0.8821, 0.8822000000000001, 0.8823000000000001, 0.8824000000000001, 0.8825000000000001, 0.8826, 0.8827, 0.8828, 0.8829, 0.883, 0.8831, 0.8832000000000001, 0.8833000000000001, 0.8834000000000001, 0.8835000000000001, 0.8836, 0.8837, 0.8838, 0.8839, 0.884, 0.8841, 0.8842000000000001, 0.8843000000000001, 0.8844000000000001, 0.8845000000000001, 0.8846, 0.8847, 0.8848, 0.8849, 0.885, 0.8851, 0.8852000000000001, 0.8853000000000001, 0.8854000000000001, 0.8855000000000001, 0.8856, 0.8857, 0.8858, 0.8859, 0.886, 0.8861, 0.8862, 0.8863000000000001, 0.8864000000000001, 0.8865000000000001, 0.8866, 0.8867, 0.8868, 0.8869, 0.887, 0.8871, 0.8872, 0.8873000000000001, 0.8874000000000001, 0.8875000000000001, 0.8876000000000001, 0.8877, 0.8878, 0.8879, 0.888, 0.8881, 0.8882, 0.8883000000000001, 0.8884000000000001, 0.8885000000000001, 0.8886000000000001, 0.8887, 0.8888, 0.8889, 0.889, 0.8891, 0.8892, 0.8893000000000001, 0.8894000000000001, 0.8895000000000001, 0.8896000000000001, 0.8897, 0.8898, 0.8899, 0.89, 0.8901, 0.8902, 0.8903000000000001, 0.8904000000000001, 0.8905000000000001, 0.8906000000000001, 0.8907, 0.8908, 0.8909, 0.891, 0.8911, 0.8912, 0.8913000000000001, 0.8914000000000001, 0.8915000000000001, 0.8916000000000001, 0.8917, 0.8918, 0.8919, 0.892, 0.8921, 0.8922, 0.8923000000000001, 0.8924000000000001, 0.8925000000000001, 0.8926000000000001, 0.8927, 0.8928, 0.8929, 0.893, 0.8931, 0.8932, 0.8933000000000001, 0.8934000000000001, 0.8935000000000001, 0.8936000000000001, 0.8937, 0.8938, 0.8939, 0.894, 0.8941, 0.8942, 0.8943000000000001, 0.8944000000000001, 0.8945000000000001, 0.8946000000000001, 0.8947, 0.8948, 0.8949, 0.895, 0.8951, 0.8952, 0.8953000000000001, 0.8954000000000001, 0.8955000000000001, 0.8956000000000001, 0.8957, 0.8958, 0.8959, 0.896, 0.8961, 0.8962, 0.8963000000000001, 0.8964000000000001, 0.8965000000000001, 0.8966000000000001, 0.8967, 0.8968, 0.8969, 0.897, 0.8971, 0.8972, 0.8973000000000001, 0.8974000000000001, 0.8975000000000001, 0.8976000000000001, 0.8977, 0.8978, 0.8979, 0.898, 0.8981, 0.8982, 0.8983000000000001, 0.8984000000000001, 0.8985000000000001, 0.8986000000000001, 0.8987, 0.8988, 0.8989, 0.899, 0.8991, 0.8992, 0.8993, 0.8994000000000001, 0.8995000000000001, 0.8996000000000001, 0.8997, 0.8998, 0.8999, 0.9, 0.9001, 0.9002, 0.9003, 0.9004000000000001, 0.9005000000000001, 0.9006000000000001, 0.9007000000000001, 0.9008, 0.9009, 0.901, 0.9011, 0.9012, 0.9013, 0.9014000000000001, 0.9015000000000001, 0.9016000000000001, 0.9017000000000001, 0.9018, 0.9019, 0.902, 0.9021, 0.9022, 0.9023, 0.9024000000000001, 0.9025000000000001, 0.9026000000000001, 0.9027000000000001, 0.9028, 0.9029, 0.903, 0.9031, 0.9032, 0.9033, 0.9034000000000001, 0.9035000000000001, 0.9036000000000001, 0.9037000000000001, 0.9038, 0.9039, 0.904, 0.9041, 0.9042, 0.9043, 0.9044000000000001, 0.9045000000000001, 0.9046000000000001, 0.9047000000000001, 0.9048, 0.9049, 0.905, 0.9051, 0.9052, 0.9053, 0.9054000000000001, 0.9055000000000001, 0.9056000000000001, 0.9057000000000001, 0.9058, 0.9059, 0.906, 0.9061, 0.9062, 0.9063, 0.9064000000000001, 0.9065000000000001, 0.9066000000000001, 0.9067000000000001, 0.9068, 0.9069, 0.907, 0.9071, 0.9072, 0.9073, 0.9074000000000001, 0.9075000000000001, 0.9076000000000001, 0.9077000000000001, 0.9078, 0.9079, 0.908, 0.9081, 0.9082, 0.9083, 0.9084000000000001, 0.9085000000000001, 0.9086000000000001, 0.9087000000000001, 0.9088, 0.9089, 0.909, 0.9091, 0.9092, 0.9093, 0.9094000000000001, 0.9095000000000001, 0.9096000000000001, 0.9097000000000001, 0.9098, 0.9099, 0.91, 0.9101, 0.9102, 0.9103, 0.9104000000000001, 0.9105000000000001, 0.9106000000000001, 0.9107000000000001, 0.9108, 0.9109, 0.911, 0.9111, 0.9112, 0.9113, 0.9114000000000001, 0.9115000000000001, 0.9116000000000001, 0.9117000000000001, 0.9118, 0.9119, 0.912, 0.9121, 0.9122, 0.9123, 0.9124, 0.9125000000000001, 0.9126000000000001, 0.9127000000000001, 0.9128000000000001, 0.9129, 0.913, 0.9131, 0.9132, 0.9133, 0.9134, 0.9135000000000001, 0.9136000000000001, 0.9137000000000001, 0.9138000000000001, 0.9139, 0.914, 0.9141, 0.9142, 0.9143, 0.9144, 0.9145000000000001, 0.9146000000000001, 0.9147000000000001, 0.9148000000000001, 0.9149, 0.915, 0.9151, 0.9152, 0.9153, 0.9154, 0.9155000000000001, 0.9156000000000001, 0.9157000000000001, 0.9158000000000001, 0.9159, 0.916, 0.9161, 0.9162, 0.9163, 0.9164, 0.9165000000000001, 0.9166000000000001, 0.9167000000000001, 0.9168000000000001, 0.9169, 0.917, 0.9171, 0.9172, 0.9173, 0.9174, 0.9175000000000001, 0.9176000000000001, 0.9177000000000001, 0.9178000000000001, 0.9179, 0.918, 0.9181, 0.9182, 0.9183, 0.9184, 0.9185000000000001, 0.9186000000000001, 0.9187000000000001, 0.9188000000000001, 0.9189, 0.919, 0.9191, 0.9192, 0.9193, 0.9194, 0.9195000000000001, 0.9196000000000001, 0.9197000000000001, 0.9198000000000001, 0.9199, 0.92, 0.9201, 0.9202, 0.9203, 0.9204, 0.9205000000000001, 0.9206000000000001, 0.9207000000000001, 0.9208000000000001, 0.9209, 0.921, 0.9211, 0.9212, 0.9213, 0.9214, 0.9215000000000001, 0.9216000000000001, 0.9217000000000001, 0.9218000000000001, 0.9219, 0.922, 0.9221, 0.9222, 0.9223, 0.9224, 0.9225000000000001, 0.9226000000000001, 0.9227000000000001, 0.9228000000000001, 0.9229, 0.923, 0.9231, 0.9232, 0.9233, 0.9234, 0.9235000000000001, 0.9236000000000001, 0.9237000000000001, 0.9238000000000001, 0.9239, 0.924, 0.9241, 0.9242, 0.9243, 0.9244, 0.9245000000000001, 0.9246000000000001, 0.9247000000000001, 0.9248000000000001, 0.9249, 0.925, 0.9251, 0.9252, 0.9253, 0.9254, 0.9255, 0.9256000000000001, 0.9257000000000001, 0.9258000000000001, 0.9259000000000001, 0.926, 0.9261, 0.9262, 0.9263, 0.9264, 0.9265, 0.9266000000000001, 0.9267000000000001, 0.9268000000000001, 0.9269000000000001, 0.927, 0.9271, 0.9272, 0.9273, 0.9274, 0.9275, 0.9276000000000001, 0.9277000000000001, 0.9278000000000001, 0.9279000000000001, 0.928, 0.9281, 0.9282, 0.9283, 0.9284, 0.9285, 0.9286000000000001, 0.9287000000000001, 0.9288000000000001, 0.9289000000000001, 0.929, 0.9291, 0.9292, 0.9293, 0.9294, 0.9295, 0.9296000000000001, 0.9297000000000001, 0.9298000000000001, 0.9299000000000001, 0.93, 0.9301, 0.9302, 0.9303, 0.9304, 0.9305, 0.9306000000000001, 0.9307000000000001, 0.9308000000000001, 0.9309000000000001, 0.931, 0.9311, 0.9312, 0.9313, 0.9314, 0.9315, 0.9316000000000001, 0.9317000000000001, 0.9318000000000001, 0.9319000000000001, 0.932, 0.9321, 0.9322, 0.9323, 0.9324, 0.9325, 0.9326000000000001, 0.9327000000000001, 0.9328000000000001, 0.9329000000000001, 0.933, 0.9331, 0.9332, 0.9333, 0.9334, 0.9335, 0.9336000000000001, 0.9337000000000001, 0.9338000000000001, 0.9339000000000001, 0.934, 0.9341, 0.9342, 0.9343, 0.9344, 0.9345, 0.9346000000000001, 0.9347000000000001, 0.9348000000000001, 0.9349000000000001, 0.935, 0.9351, 0.9352, 0.9353, 0.9354, 0.9355, 0.9356000000000001, 0.9357000000000001, 0.9358000000000001, 0.9359000000000001, 0.936, 0.9361, 0.9362, 0.9363, 0.9364, 0.9365, 0.9366000000000001, 0.9367000000000001, 0.9368000000000001, 0.9369000000000001, 0.937, 0.9371, 0.9372, 0.9373, 0.9374, 0.9375, 0.9376000000000001, 0.9377000000000001, 0.9378000000000001, 0.9379000000000001, 0.9380000000000001, 0.9381, 0.9382, 0.9383, 0.9384, 0.9385, 0.9386, 0.9387000000000001, 0.9388000000000001, 0.9389000000000001, 0.9390000000000001, 0.9391, 0.9392, 0.9393, 0.9394, 0.9395, 0.9396, 0.9397000000000001, 0.9398000000000001, 0.9399000000000001, 0.9400000000000001, 0.9401, 0.9402, 0.9403, 0.9404, 0.9405, 0.9406, 0.9407000000000001, 0.9408000000000001, 0.9409000000000001, 0.9410000000000001, 0.9411, 0.9412, 0.9413, 0.9414, 0.9415, 0.9416, 0.9417000000000001, 0.9418000000000001, 0.9419000000000001, 0.9420000000000001, 0.9421, 0.9422, 0.9423, 0.9424, 0.9425, 0.9426, 0.9427000000000001, 0.9428000000000001, 0.9429000000000001, 0.9430000000000001, 0.9431, 0.9432, 0.9433, 0.9434, 0.9435, 0.9436, 0.9437000000000001, 0.9438000000000001, 0.9439000000000001, 0.9440000000000001, 0.9441, 0.9442, 0.9443, 0.9444, 0.9445, 0.9446, 0.9447000000000001, 0.9448000000000001, 0.9449000000000001, 0.9450000000000001, 0.9451, 0.9452, 0.9453, 0.9454, 0.9455, 0.9456, 0.9457000000000001, 0.9458000000000001, 0.9459000000000001, 0.9460000000000001, 0.9461, 0.9462, 0.9463, 0.9464, 0.9465, 0.9466, 0.9467000000000001, 0.9468000000000001, 0.9469000000000001, 0.9470000000000001, 0.9471, 0.9472, 0.9473, 0.9474, 0.9475, 0.9476, 0.9477000000000001, 0.9478000000000001, 0.9479000000000001, 0.9480000000000001, 0.9481, 0.9482, 0.9483, 0.9484, 0.9485, 0.9486, 0.9487000000000001, 0.9488000000000001, 0.9489000000000001, 0.9490000000000001, 0.9491, 0.9492, 0.9493, 0.9494, 0.9495, 0.9496, 0.9497000000000001, 0.9498000000000001, 0.9499000000000001, 0.9500000000000001, 0.9501000000000001, 0.9502, 0.9503, 0.9504, 0.9505, 0.9506, 0.9507000000000001, 0.9508000000000001, 0.9509000000000001, 0.9510000000000001, 0.9511000000000001, 0.9512, 0.9513, 0.9514, 0.9515, 0.9516, 0.9517, 0.9518000000000001, 0.9519000000000001, 0.9520000000000001, 0.9521000000000001, 0.9522, 0.9523, 0.9524, 0.9525, 0.9526, 0.9527, 0.9528000000000001, 0.9529000000000001, 0.9530000000000001, 0.9531000000000001, 0.9532, 0.9533, 0.9534, 0.9535, 0.9536, 0.9537, 0.9538000000000001, 0.9539000000000001, 0.9540000000000001, 0.9541000000000001, 0.9542, 0.9543, 0.9544, 0.9545, 0.9546, 0.9547, 0.9548000000000001, 0.9549000000000001, 0.9550000000000001, 0.9551000000000001, 0.9552, 0.9553, 0.9554, 0.9555, 0.9556, 0.9557, 0.9558000000000001, 0.9559000000000001, 0.9560000000000001, 0.9561000000000001, 0.9562, 0.9563, 0.9564, 0.9565, 0.9566, 0.9567, 0.9568000000000001, 0.9569000000000001, 0.9570000000000001, 0.9571000000000001, 0.9572, 0.9573, 0.9574, 0.9575, 0.9576, 0.9577, 0.9578000000000001, 0.9579000000000001, 0.9580000000000001, 0.9581000000000001, 0.9582, 0.9583, 0.9584, 0.9585, 0.9586, 0.9587, 0.9588000000000001, 0.9589000000000001, 0.9590000000000001, 0.9591000000000001, 0.9592, 0.9593, 0.9594, 0.9595, 0.9596, 0.9597, 0.9598000000000001, 0.9599000000000001, 0.9600000000000001, 0.9601000000000001, 0.9602, 0.9603, 0.9604, 0.9605, 0.9606, 0.9607, 0.9608000000000001, 0.9609000000000001, 0.9610000000000001, 0.9611000000000001, 0.9612, 0.9613, 0.9614, 0.9615, 0.9616, 0.9617, 0.9618000000000001, 0.9619000000000001, 0.9620000000000001, 0.9621000000000001, 0.9622, 0.9623, 0.9624, 0.9625, 0.9626, 0.9627, 0.9628000000000001, 0.9629000000000001, 0.9630000000000001, 0.9631000000000001, 0.9632000000000001, 0.9633, 0.9634, 0.9635, 0.9636, 0.9637, 0.9638000000000001, 0.9639000000000001, 0.9640000000000001, 0.9641000000000001, 0.9642000000000001, 0.9643, 0.9644, 0.9645, 0.9646, 0.9647, 0.9648, 0.9649000000000001, 0.9650000000000001, 0.9651000000000001, 0.9652000000000001, 0.9653, 0.9654, 0.9655, 0.9656, 0.9657, 0.9658, 0.9659000000000001, 0.9660000000000001, 0.9661000000000001, 0.9662000000000001, 0.9663, 0.9664, 0.9665, 0.9666, 0.9667, 0.9668, 0.9669000000000001, 0.9670000000000001, 0.9671000000000001, 0.9672000000000001, 0.9673, 0.9674, 0.9675, 0.9676, 0.9677, 0.9678, 0.9679000000000001, 0.9680000000000001, 0.9681000000000001, 0.9682000000000001, 0.9683, 0.9684, 0.9685, 0.9686, 0.9687, 0.9688, 0.9689000000000001, 0.9690000000000001, 0.9691000000000001, 0.9692000000000001, 0.9693, 0.9694, 0.9695, 0.9696, 0.9697, 0.9698, 0.9699000000000001, 0.9700000000000001, 0.9701000000000001, 0.9702000000000001, 0.9703, 0.9704, 0.9705, 0.9706, 0.9707, 0.9708, 0.9709000000000001, 0.9710000000000001, 0.9711000000000001, 0.9712000000000001, 0.9713, 0.9714, 0.9715, 0.9716, 0.9717, 0.9718, 0.9719000000000001, 0.9720000000000001, 0.9721000000000001, 0.9722000000000001, 0.9723, 0.9724, 0.9725, 0.9726, 0.9727, 0.9728, 0.9729000000000001, 0.9730000000000001, 0.9731000000000001, 0.9732000000000001, 0.9733, 0.9734, 0.9735, 0.9736, 0.9737, 0.9738, 0.9739000000000001, 0.9740000000000001, 0.9741000000000001, 0.9742000000000001, 0.9743, 0.9744, 0.9745, 0.9746, 0.9747, 0.9748, 0.9749000000000001, 0.9750000000000001, 0.9751000000000001, 0.9752000000000001, 0.9753000000000001, 0.9754, 0.9755, 0.9756, 0.9757, 0.9758, 0.9759000000000001, 0.9760000000000001, 0.9761000000000001, 0.9762000000000001, 0.9763000000000001, 0.9764, 0.9765, 0.9766, 0.9767, 0.9768, 0.9769000000000001, 0.9770000000000001, 0.9771000000000001, 0.9772000000000001, 0.9773000000000001, 0.9774, 0.9775, 0.9776, 0.9777, 0.9778, 0.9779, 0.9780000000000001, 0.9781000000000001, 0.9782000000000001, 0.9783000000000001, 0.9784, 0.9785, 0.9786, 0.9787, 0.9788, 0.9789, 0.9790000000000001, 0.9791000000000001, 0.9792000000000001, 0.9793000000000001, 0.9794, 0.9795, 0.9796, 0.9797, 0.9798, 0.9799, 0.9800000000000001, 0.9801000000000001, 0.9802000000000001, 0.9803000000000001, 0.9804, 0.9805, 0.9806, 0.9807, 0.9808, 0.9809, 0.9810000000000001, 0.9811000000000001, 0.9812000000000001, 0.9813000000000001, 0.9814, 0.9815, 0.9816, 0.9817, 0.9818, 0.9819, 0.9820000000000001, 0.9821000000000001, 0.9822000000000001, 0.9823000000000001, 0.9824, 0.9825, 0.9826, 0.9827, 0.9828, 0.9829, 0.9830000000000001, 0.9831000000000001, 0.9832000000000001, 0.9833000000000001, 0.9834, 0.9835, 0.9836, 0.9837, 0.9838, 0.9839, 0.9840000000000001, 0.9841000000000001, 0.9842000000000001, 0.9843000000000001, 0.9844, 0.9845, 0.9846, 0.9847, 0.9848, 0.9849, 0.9850000000000001, 0.9851000000000001, 0.9852000000000001, 0.9853000000000001, 0.9854, 0.9855, 0.9856, 0.9857, 0.9858, 0.9859, 0.9860000000000001, 0.9861000000000001, 0.9862000000000001, 0.9863000000000001, 0.9864, 0.9865, 0.9866, 0.9867, 0.9868, 0.9869, 0.9870000000000001, 0.9871000000000001, 0.9872000000000001, 0.9873000000000001, 0.9874, 0.9875, 0.9876, 0.9877, 0.9878, 0.9879, 0.9880000000000001, 0.9881000000000001, 0.9882000000000001, 0.9883000000000001, 0.9884000000000001, 0.9885, 0.9886, 0.9887, 0.9888, 0.9889, 0.9890000000000001, 0.9891000000000001, 0.9892000000000001, 0.9893000000000001, 0.9894000000000001, 0.9895, 0.9896, 0.9897, 0.9898, 0.9899, 0.9900000000000001, 0.9901000000000001, 0.9902000000000001, 0.9903000000000001, 0.9904000000000001, 0.9905, 0.9906, 0.9907, 0.9908, 0.9909, 0.991, 0.9911000000000001, 0.9912000000000001, 0.9913000000000001, 0.9914000000000001, 0.9915, 0.9916, 0.9917, 0.9918, 0.9919, 0.992, 0.9921000000000001, 0.9922000000000001, 0.9923000000000001, 0.9924000000000001, 0.9925, 0.9926, 0.9927, 0.9928, 0.9929, 0.993, 0.9931000000000001, 0.9932000000000001, 0.9933000000000001, 0.9934000000000001, 0.9935, 0.9936, 0.9937, 0.9938, 0.9939, 0.994, 0.9941000000000001, 0.9942000000000001, 0.9943000000000001, 0.9944000000000001, 0.9945, 0.9946, 0.9947, 0.9948, 0.9949, 0.995, 0.9951000000000001, 0.9952000000000001, 0.9953000000000001, 0.9954000000000001, 0.9955, 0.9956, 0.9957, 0.9958, 0.9959, 0.996, 0.9961000000000001, 0.9962000000000001, 0.9963000000000001, 0.9964000000000001, 0.9965, 0.9966, 0.9967, 0.9968, 0.9969, 0.997, 0.9971000000000001, 0.9972000000000001, 0.9973000000000001, 0.9974000000000001, 0.9975, 0.9976, 0.9977, 0.9978, 0.9979, 0.998, 0.9981000000000001, 0.9982000000000001, 0.9983000000000001, 0.9984000000000001, 0.9985, 0.9986, 0.9987, 0.9988, 0.9989, 0.999, 0.9991000000000001, 0.9992000000000001, 0.9993000000000001, 0.9994000000000001, 0.9995, 0.9996, 0.9997, 0.9998, 0.9999], \"xaxis\": \"x\", \"y\": [-37650000, -37650000, -37650000, -37650000, -37650000, -37650000, -37650000, -37650000, -37650000, -37650000, -37650000, -37650000, -37650000, -37650000, -37650000, -37650000, -37650000, -37650000, -37650000, -37650000, -37650000, -37650000, -37650000, -37650000, -37650000, -37650000, -37650000, -37650000, -37650000, -37650000, -37650000, -37650000, -37650000, -37650000, -37650000, -37650000, -37650000, -37650000, -37650000, -37650000, -37650000, -37650000, -37650000, -37650000, -37650000, -37650000, -37650000, -37650000, -37650000, -37650000, -37650000, -37650000, -37650000, -37650000, -37650000, -37650000, -37650000, -37650000, -37650000, -37650000, -37650000, -37650000, -37650000, -37650000, -37650000, -37650000, -37650000, -37650000, -37650000, -37650000, -37650000, -37650000, -37650000, -37650000, -37650000, -37650000, -37650000, -37650000, -37650000, -37650000, -37650000, -37650000, -37650000, -37650000, -37650000, -37650000, -37650000, -37650000, -37650000, -37650000, -37650000, -37650000, -37650000, -37650000, -37650000, -37650000, -37650000, -37650000, -37650000, -37650000, -37650000, -37650000, -37650000, -37650000, -37650000, -37650000, -37650000, -37650000, -37650000, -37650000, -37650000, -37650000, -37650000, -37650000, -37650000, -37650000, -37650000, -37650000, -37650000, -37650000, -37650000, -37650000, -37650000, -37650000, -37650000, -37650000, -37650000, -37650000, -37650000, -37650000, -37650000, -37650000, -37650000, -37650000, -37650000, -37650000, -37650000, -37650000, -37650000, -37650000, -37650000, -37650000, -37650000, -37650000, -37650000, -37650000, -37650000, -37650000, -37650000, -37650000, -37650000, -37650000, -37650000, -37650000, -37650000, -37650000, -37650000, -37650000, -37650000, -37650000, -37650000, -37650000, -37650000, -37650000, -37650000, -37650000, -37650000, -37650000, -37650000, -37650000, -37650000, -37650000, -37650000, -37650000, -37650000, -37650000, -37650000, -37650000, -37650000, -37650000, -37650000, -37650000, -37650000, -37650000, -37650000, -37650000, -37650000, -37650000, -37650000, -37650000, -37650000, -37650000, -37650000, -37650000, -37650000, -37650000, -37650000, -37650000, -37650000, -37650000, -37650000, -37650000, -37650000, -37650000, -37650000, -37650000, -37650000, -37650000, -37650000, -37650000, -37650000, -37650000, -37650000, -37650000, -37650000, -37650000, -37650000, -37650000, -37650000, -37650000, -37650000, -37650000, -37650000, -37650000, -37650000, -37650000, -37650000, -37650000, -37650000, -37650000, -37650000, -37650000, -37650000, -37650000, -37650000, -37649500, -37649500, -37649500, -37649500, -37649500, -37649500, -37649000, -37649000, -37649000, -37649000, -37649000, -37649000, -37649000, -37649000, -37649000, -37649000, -37649000, -37649000, -37649000, -37649000, -37649000, -37649000, -37648500, -37648000, -37648000, -37648000, -37648000, -37648000, -37648000, -37648000, -37648000, -37647500, -37647500, -37647500, -37647500, -37647500, -37647500, -37647500, -37647500, -37647500, -37647500, -37647500, -37647500, -37647500, -37647000, -37647000, -37646500, -37646500, -37646500, -37646500, -37646500, -37646500, -37646500, -37646500, -37646500, -37646000, -37645500, -37645500, -37645500, -37645500, -37645500, -37645500, -37645000, -37645000, -37645000, -37645000, -37645000, -37645000, -37645000, -37645000, -37645000, -37645000, -37645000, -37645000, -37645000, -37645000, -37645000, -37645000, -37645000, -37645000, -37645000, -37644500, -37644500, -37644500, -37644500, -37644500, -37644500, -37644500, -37644500, -37644500, -37644500, -37644500, -37644500, -37644500, -37644500, -37644500, -37643500, -37643500, -37643500, -37643500, -37643500, -37643500, -37643000, -37643000, -37642500, -37642500, -37642500, -37642500, -37642500, -37642500, -37642500, -37642000, -37642000, -37641500, -37641500, -37641500, -37641500, -37641500, -37641500, -37641500, -37640500, -37640500, -37640500, -37640500, -37640000, -37640000, -37640000, -37640000, -37640000, -37639500, -37639000, -37639000, -37639000, -37639000, -37639000, -37639000, -37639000, -37638500, -37638500, -37638500, -37638500, -37638500, -37638500, -37638500, -37638500, -37638500, -37638500, -37638500, -37638500, -37638500, -37638000, -37637500, -37637500, -37637500, -37637500, -37637500, -37637500, -37637000, -37637000, -37637000, -37638500, -37638500, -37637500, -37637500, -37637500, -37637500, -37637500, -37637500, -37637500, -37637000, -37637000, -37637000, -37637000, -37638500, -37638000, -37638000, -37637500, -37637000, -37637000, -37637000, -37637000, -37636500, -37635500, -37635500, -37635500, -37635500, -37635500, -37635500, -37635500, -37635000, -37635000, -37635000, -37635000, -37635000, -37634500, -37634500, -37634500, -37634500, -37634000, -37633500, -37633500, -37633500, -37633500, -37633500, -37633500, -37633000, -37633000, -37633000, -37633000, -37633000, -37633000, -37633000, -37633000, -37632500, -37632500, -37632000, -37632000, -37632000, -37631500, -37631500, -37631500, -37631000, -37631000, -37631000, -37631000, -37630500, -37630500, -37630500, -37630500, -37630500, -37630500, -37630500, -37630500, -37630500, -37630000, -37630000, -37630000, -37630000, -37630000, -37630000, -37630000, -37630000, -37630000, -37630000, -37630000, -37630000, -37630000, -37630000, -37629500, -37629500, -37629500, -37629500, -37629000, -37629000, -37629000, -37628500, -37628000, -37628000, -37627500, -37627000, -37626500, -37626500, -37626500, -37626000, -37626000, -37626000, -37625500, -37625500, -37625500, -37625500, -37625500, -37625500, -37625500, -37625500, -37625500, -37625000, -37625000, -37624500, -37624500, -37624500, -37624500, -37624500, -37624500, -37624500, -37624500, -37624500, -37624500, -37624500, -37624500, -37624500, -37624500, -37624500, -37624500, -37624500, -37624000, -37624000, -37624000, -37624000, -37624000, -37623500, -37623500, -37623500, -37623000, -37623000, -37623000, -37622500, -37622500, -37622500, -37622000, -37622000, -37622000, -37622000, -37622000, -37622000, -37622000, -37622000, -37622000, -37622000, -37622000, -37622000, -37622000, -37621500, -37621500, -37621000, -37621000, -37619500, -37619500, -37619000, -37619000, -37619000, -37619000, -37618500, -37618000, -37618000, -37618000, -37617500, -37616000, -37615500, -37615500, -37615500, -37615500, -37615000, -37615000, -37614500, -37614000, -37613000, -37612500, -37612500, -37612000, -37612000, -37612000, -37611500, -37611500, -37611500, -37611000, -37611000, -37611000, -37610500, -37612000, -37612000, -37611500, -37611500, -37611500, -37611000, -37611000, -37611000, -37610500, -37610000, -37610000, -37609500, -37609500, -37609500, -37608500, -37608500, -37608500, -37608000, -37608000, -37608000, -37607500, -37607500, -37607500, -37607000, -37606500, -37606000, -37605500, -37605500, -37605500, -37605500, -37605500, -37605000, -37605000, -37604500, -37604500, -37604000, -37603000, -37602500, -37602500, -37601500, -37601500, -37601500, -37601000, -37601000, -37601000, -37602000, -37602000, -37602000, -37602000, -37602000, -37602000, -37602000, -37602000, -37602000, -37601500, -37601500, -37601500, -37600500, -37600500, -37600000, -37599500, -37599500, -37599500, -37599500, -37599000, -37599000, -37598500, -37598500, -37598500, -37598500, -37598500, -37598000, -37597500, -37597000, -37596000, -37595500, -37595500, -37595500, -37595000, -37595000, -37595000, -37594500, -37594000, -37593000, -37593000, -37593000, -37593000, -37593000, -37591500, -37591000, -37591000, -37591000, -37591000, -37590500, -37590500, -37589500, -37589500, -37589500, -37588000, -37587500, -37586500, -37586500, -37586500, -37586500, -37588000, -37587000, -37586500, -37586500, -37586500, -37586500, -37585500, -37585500, -37585500, -37585500, -37584500, -37584500, -37584000, -37583000, -37582500, -37582500, -37582500, -37582000, -37581500, -37581500, -37581000, -37581000, -37580500, -37580500, -37580000, -37579500, -37579500, -37579500, -37579000, -37579000, -37578500, -37578500, -37578000, -37578000, -37578000, -37578000, -37577500, -37575500, -37575500, -37575500, -37575500, -37575000, -37575000, -37575000, -37574500, -37574500, -37574000, -37574000, -37573000, -37573000, -37572500, -37572500, -37572500, -37572500, -37572500, -37572500, -37572500, -37572000, -37571500, -37571500, -37571000, -37571000, -37570000, -37570000, -37570000, -37570000, -37570000, -37570000, -37570000, -37570000, -37570000, -37570000, -37569000, -37569000, -37568500, -37568000, -37567500, -37566500, -37566500, -37566500, -37565500, -37565500, -37565000, -37564500, -37564000, -37563500, -37563500, -37563500, -37563000, -37562000, -37561000, -37561000, -37560000, -37560000, -37560000, -37558500, -37557500, -37557000, -37556500, -37556500, -37556000, -37555000, -37554500, -37554500, -37554500, -37554500, -37554500, -37554500, -37554000, -37553500, -37553500, -37553500, -37552000, -37551500, -37551000, -37550500, -37550000, -37549000, -37548000, -37547500, -37547500, -37547500, -37547500, -37547000, -37546000, -37545500, -37545500, -37545000, -37545000, -37544500, -37543500, -37543000, -37543000, -37542500, -37542000, -37542000, -37542000, -37542000, -37541500, -37541000, -37540000, -37540000, -37539500, -37539000, -37539000, -37538500, -37538500, -37538500, -37537500, -37537000, -37536000, -37535500, -37535500, -37535000, -37535000, -37534500, -37534500, -37533500, -37532000, -37531500, -37530500, -37530000, -37530000, -37530000, -37530000, -37530000, -37530000, -37529500, -37528500, -37528500, -37527500, -37527000, -37526500, -37526500, -37529000, -37529000, -37529000, -37528000, -37528000, -37528000, -37527000, -37527000, -37526500, -37526500, -37526000, -37527500, -37527500, -37526000, -37525000, -37524500, -37524500, -37524500, -37523500, -37523000, -37523000, -37523000, -37522500, -37522000, -37520500, -37520500, -37519500, -37519500, -37520500, -37519500, -37518500, -37518000, -37518000, -37517500, -37517500, -37517500, -37517000, -37516000, -37517000, -37516500, -37517000, -37516500, -37515000, -37515000, -37515000, -37514500, -37514000, -37513500, -37513000, -37513000, -37512500, -37512500, -37512000, -37513500, -37513500, -37512500, -37512000, -37512000, -37511500, -37511000, -37510000, -37510000, -37510000, -37510000, -37509500, -37509500, -37509500, -37509000, -37508000, -37507000, -37507000, -37507000, -37506500, -37506000, -37506000, -37506000, -37505500, -37505000, -37505000, -37504000, -37503500, -37503000, -37503000, -37501000, -37500500, -37502000, -37502000, -37501500, -37502000, -37501500, -37500500, -37500000, -37499500, -37498000, -37497000, -37496500, -37496500, -37496500, -37496500, -37496000, -37495500, -37495000, -37494500, -37494500, -37493500, -37492000, -37491500, -37491500, -37491000, -37489500, -37489500, -37488500, -37488000, -37489500, -37488500, -37487500, -37486000, -37485500, -37484500, -37484000, -37483500, -37483000, -37482500, -37482500, -37482500, -37482500, -37482500, -37482000, -37483500, -37482500, -37481500, -37481000, -37481000, -37481000, -37480000, -37480000, -37479500, -37479500, -37478500, -37478000, -37477500, -37476500, -37478000, -37478000, -37478000, -37478000, -37477500, -37477500, -37477500, -37477000, -37476000, -37475500, -37475500, -37475500, -37475500, -37475000, -37473500, -37473000, -37473000, -37472000, -37472000, -37471000, -37471000, -37470000, -37470000, -37469500, -37468500, -37469500, -37469000, -37468000, -37468000, -37467500, -37466000, -37466000, -37465500, -37465000, -37463000, -37461500, -37461500, -37461000, -37462500, -37462000, -37461500, -37460500, -37460500, -37460000, -37459000, -37459000, -37457500, -37457000, -37456500, -37455000, -37454500, -37454000, -37452500, -37451500, -37452500, -37452000, -37452000, -37450000, -37450000, -37450000, -37450000, -37451000, -37452000, -37451500, -37451000, -37450500, -37450000, -37449500, -37450500, -37448500, -37448000, -37447500, -37447500, -37447500, -37446000, -37446000, -37446000, -37448500, -37448000, -37446500, -37445000, -37444500, -37444000, -37444000, -37443000, -37440500, -37440000, -37439500, -37439000, -37438000, -37438000, -37436000, -37435500, -37434500, -37434000, -37434000, -37434000, -37433500, -37432500, -37432000, -37431000, -37432500, -37431000, -37430500, -37432000, -37431000, -37430000, -37428500, -37427000, -37427000, -37425000, -37424500, -37423500, -37423000, -37421000, -37420000, -37420000, -37419500, -37419000, -37418000, -37417000, -37415500, -37415500, -37414000, -37415000, -37413500, -37415000, -37415000, -37414500, -37413500, -37413000, -37412500, -37411500, -37408500, -37407500, -37407500, -37406500, -37406000, -37406000, -37404000, -37403500, -37402500, -37402500, -37401500, -37398500, -37397000, -37395500, -37395000, -37396500, -37395500, -37394500, -37394000, -37393500, -37392000, -37391500, -37390500, -37389500, -37390000, -37390000, -37389500, -37388500, -37388000, -37388000, -37389000, -37389000, -37387500, -37387500, -37386500, -37386000, -37385000, -37384000, -37383000, -37383500, -37382000, -37382000, -37381500, -37380000, -37381500, -37380000, -37380000, -37381000, -37380000, -37379500, -37376500, -37375500, -37376500, -37375500, -37374500, -37374500, -37372500, -37373500, -37374000, -37372000, -37371500, -37370500, -37368000, -37367500, -37367000, -37366500, -37366500, -37365500, -37363500, -37363500, -37364500, -37363000, -37362500, -37361500, -37360000, -37359500, -37359500, -37359500, -37359500, -37360500, -37363000, -37361000, -37361500, -37360000, -37360500, -37360500, -37360500, -37358500, -37357500, -37356500, -37354500, -37354500, -37353500, -37353000, -37352500, -37351000, -37350500, -37349000, -37348000, -37348000, -37347500, -37347000, -37347500, -37347000, -37346000, -37344000, -37343000, -37342000, -37341000, -37340500, -37338000, -37338000, -37335000, -37334500, -37334000, -37334000, -37333000, -37332500, -37331500, -37331000, -37330500, -37329500, -37329500, -37326500, -37326000, -37325500, -37324500, -37323500, -37323000, -37323000, -37321000, -37320500, -37319500, -37318000, -37316500, -37316000, -37314500, -37314000, -37313500, -37312000, -37311500, -37311000, -37310500, -37309000, -37308500, -37308000, -37306500, -37306000, -37306500, -37306500, -37305000, -37306000, -37305000, -37304500, -37304500, -37303500, -37303500, -37302500, -37303500, -37302500, -37302000, -37301500, -37300500, -37299500, -37300500, -37299000, -37298000, -37297000, -37294500, -37293500, -37293000, -37293000, -37292500, -37291500, -37291000, -37290000, -37290000, -37289500, -37289000, -37289000, -37289000, -37288000, -37286000, -37284500, -37283000, -37282000, -37282500, -37281000, -37280500, -37281500, -37280500, -37280500, -37280000, -37278500, -37277500, -37277000, -37275500, -37273500, -37271500, -37271000, -37270000, -37269000, -37269500, -37268500, -37268000, -37267500, -37265500, -37264500, -37263500, -37263500, -37263500, -37261000, -37260500, -37259000, -37258000, -37260000, -37259500, -37262000, -37263000, -37263500, -37263500, -37263500, -37263500, -37263000, -37264000, -37262500, -37261500, -37260500, -37260000, -37258000, -37257000, -37257000, -37255500, -37254500, -37253500, -37253000, -37253000, -37252500, -37251500, -37250000, -37249000, -37250000, -37249500, -37249000, -37247500, -37247000, -37247000, -37246000, -37246000, -37246000, -37244500, -37244000, -37242000, -37242000, -37241500, -37240500, -37242000, -37241000, -37240500, -37239000, -37237500, -37237000, -37237500, -37237500, -37236500, -37234500, -37234000, -37232500, -37231500, -37231000, -37229500, -37228000, -37227000, -37226500, -37226000, -37226000, -37225000, -37224500, -37224000, -37223000, -37221000, -37221000, -37221000, -37220000, -37219000, -37217000, -37215000, -37213500, -37214000, -37214500, -37214000, -37214500, -37215500, -37215000, -37214000, -37214000, -37213500, -37212000, -37210000, -37209500, -37209000, -37210000, -37210000, -37209000, -37208000, -37205500, -37205500, -37203000, -37202500, -37201000, -37200500, -37201500, -37200500, -37198500, -37199000, -37197500, -37197000, -37196000, -37195000, -37195000, -37194000, -37193500, -37192500, -37191000, -37190000, -37189000, -37189500, -37189000, -37187000, -37185500, -37184000, -37183000, -37182500, -37182500, -37181500, -37182500, -37180500, -37181500, -37181500, -37181000, -37181000, -37179500, -37179500, -37179000, -37178500, -37177500, -37178000, -37178500, -37178500, -37180000, -37179500, -37178000, -37177000, -37176000, -37175500, -37173500, -37172000, -37172000, -37170500, -37170000, -37169500, -37168500, -37168000, -37169500, -37169000, -37168000, -37167000, -37166500, -37165500, -37164500, -37163000, -37161000, -37160500, -37159500, -37161000, -37158500, -37158000, -37157000, -37156000, -37157000, -37155000, -37153500, -37152000, -37151500, -37152500, -37150500, -37149500, -37147000, -37145500, -37145000, -37145500, -37144000, -37146000, -37146500, -37145500, -37144000, -37143500, -37141000, -37141500, -37139500, -37139000, -37137000, -37135000, -37132000, -37131000, -37130500, -37129500, -37130000, -37129500, -37129000, -37128500, -37127000, -37125500, -37124000, -37124000, -37123500, -37124500, -37123000, -37121500, -37119500, -37117000, -37116500, -37116000, -37118500, -37118500, -37118000, -37116500, -37114500, -37114000, -37114000, -37115000, -37113000, -37113000, -37114500, -37113000, -37110500, -37109000, -37108000, -37106000, -37104500, -37104000, -37103500, -37101000, -37099500, -37099000, -37099000, -37097000, -37096500, -37098000, -37097000, -37097500, -37097000, -37096500, -37097500, -37097000, -37095500, -37095000, -37094500, -37094500, -37095000, -37092500, -37092500, -37091000, -37089500, -37089000, -37089000, -37087500, -37086000, -37085000, -37083000, -37081500, -37080500, -37079500, -37078500, -37078500, -37076000, -37075000, -37076000, -37076500, -37076500, -37075000, -37074000, -37073000, -37070500, -37071500, -37070000, -37070000, -37069000, -37068500, -37067500, -37066000, -37065000, -37064000, -37062000, -37062000, -37061500, -37062500, -37060000, -37060000, -37057500, -37057500, -37053000, -37052500, -37051000, -37051000, -37049500, -37049500, -37048000, -37048500, -37049500, -37051500, -37052000, -37049000, -37047500, -37046000, -37045000, -37043000, -37040500, -37041000, -37040500, -37040000, -37039500, -37042500, -37042000, -37041000, -37040000, -37039500, -37038500, -37038000, -37038500, -37037000, -37037500, -37037000, -37037500, -37036000, -37035500, -37033500, -37031500, -37030500, -37029000, -37027500, -37030500, -37029000, -37027000, -37026500, -37026000, -37025500, -37023000, -37023500, -37022000, -37021000, -37020000, -37018000, -37017500, -37017500, -37015000, -37017000, -37016000, -37014500, -37017500, -37016500, -37016500, -37017500, -37017500, -37017000, -37015500, -37017500, -37016500, -37013500, -37013500, -37014000, -37012500, -37012000, -37010500, -37008500, -37007500, -37008000, -37006000, -37008000, -37006000, -37005500, -37004000, -37001500, -37000000, -36999000, -36998000, -36998000, -36996000, -36995500, -36993500, -36994500, -36993000, -36992000, -36990000, -36987500, -36988000, -36987500, -36985500, -36986000, -36983000, -36982500, -36982000, -36981500, -36981000, -36982500, -36982500, -36980500, -36980500, -36979000, -36979500, -36979500, -36978500, -36979500, -36981000, -36981000, -36979500, -36978500, -36977000, -36976000, -36974500, -36974000, -36975000, -36974500, -36974000, -36973500, -36971500, -36970500, -36969500, -36968000, -36965500, -36964500, -36963500, -36962000, -36960000, -36959500, -36959000, -36959500, -36957000, -36955000, -36955500, -36957000, -36954000, -36955500, -36953500, -36952500, -36951000, -36952000, -36950500, -36949000, -36947500, -36948000, -36946500, -36945500, -36945500, -36944500, -36944000, -36943500, -36942000, -36941000, -36938000, -36937500, -36935500, -36934000, -36932500, -36932500, -36931500, -36934000, -36934500, -36935000, -36933500, -36933000, -36933000, -36933500, -36932000, -36932500, -36932000, -36931000, -36931000, -36929000, -36928500, -36929500, -36928000, -36931500, -36930500, -36930500, -36928500, -36927000, -36927000, -36924000, -36921500, -36920500, -36921000, -36919000, -36919000, -36919000, -36917000, -36918000, -36919000, -36917500, -36916500, -36915500, -36914000, -36913500, -36911500, -36912500, -36913500, -36910500, -36909500, -36908500, -36908000, -36907500, -36906000, -36904500, -36905500, -36904500, -36902500, -36901000, -36902000, -36901000, -36897500, -36896000, -36896500, -36897500, -36896000, -36896500, -36894500, -36893500, -36894000, -36894000, -36895000, -36893500, -36892000, -36888000, -36887500, -36887000, -36886000, -36887500, -36886000, -36884500, -36883500, -36883000, -36882000, -36880500, -36878000, -36875500, -36873500, -36872000, -36872000, -36871500, -36871500, -36871500, -36870500, -36872000, -36869500, -36868000, -36867500, -36868500, -36868000, -36866000, -36864500, -36862000, -36862000, -36861000, -36859000, -36861500, -36861000, -36861500, -36859500, -36858500, -36857000, -36855000, -36855000, -36854000, -36852500, -36847500, -36848500, -36849000, -36849000, -36846500, -36845000, -36842000, -36840000, -36837500, -36835000, -36834500, -36834000, -36833000, -36833000, -36831000, -36831000, -36829500, -36828500, -36827500, -36827000, -36825000, -36823500, -36822500, -36824500, -36824500, -36823500, -36825000, -36825000, -36822500, -36821500, -36819500, -36823500, -36822500, -36821500, -36820000, -36818000, -36818500, -36818000, -36816000, -36814500, -36814000, -36812000, -36812000, -36810500, -36810500, -36809500, -36808000, -36809000, -36807000, -36807000, -36806500, -36806000, -36805000, -36803000, -36801000, -36800500, -36801000, -36800500, -36798000, -36797000, -36798000, -36795500, -36799000, -36794500, -36794500, -36792000, -36789000, -36790000, -36789000, -36788500, -36787000, -36790000, -36792500, -36794500, -36795500, -36793000, -36793000, -36791500, -36792000, -36789500, -36789500, -36788500, -36785500, -36785000, -36783500, -36782000, -36780500, -36779000, -36778000, -36777000, -36778000, -36776000, -36775000, -36774500, -36772000, -36770500, -36769500, -36769500, -36767000, -36766000, -36761500, -36763500, -36760000, -36759000, -36755000, -36753500, -36753000, -36753000, -36751500, -36750500, -36749500, -36748500, -36749500, -36747000, -36746500, -36745000, -36743500, -36741500, -36739000, -36737500, -36735000, -36732500, -36733000, -36735000, -36734000, -36739500, -36740500, -36738500, -36737500, -36736500, -36736000, -36735000, -36733000, -36732000, -36731000, -36728500, -36728500, -36727000, -36725500, -36724500, -36722500, -36721500, -36720000, -36719500, -36717500, -36715500, -36712500, -36712000, -36709500, -36710000, -36708500, -36706000, -36703000, -36702000, -36700500, -36699000, -36697500, -36697000, -36695500, -36692500, -36691000, -36689500, -36688000, -36690000, -36690500, -36688000, -36686000, -36684500, -36684500, -36684000, -36686000, -36685500, -36684500, -36685500, -36683000, -36681000, -36682000, -36681500, -36679500, -36681000, -36681000, -36679000, -36676500, -36678000, -36675500, -36673500, -36674000, -36675000, -36672500, -36674500, -36675000, -36673000, -36672500, -36673000, -36674500, -36673000, -36671500, -36670000, -36669000, -36667500, -36667000, -36665500, -36667500, -36664000, -36661500, -36662000, -36660500, -36659000, -36657000, -36659000, -36658000, -36655500, -36656500, -36654000, -36655000, -36652500, -36655500, -36655000, -36654000, -36655500, -36654000, -36652500, -36653000, -36651000, -36651000, -36652000, -36651500, -36654500, -36653500, -36653500, -36654000, -36651000, -36649500, -36650000, -36652000, -36649000, -36648000, -36647000, -36648500, -36648500, -36647000, -36649500, -36650500, -36649000, -36648000, -36646500, -36645000, -36646000, -36647000, -36645000, -36643500, -36645000, -36647000, -36649500, -36647000, -36648500, -36647000, -36647000, -36645500, -36643000, -36643500, -36643000, -36641500, -36640500, -36638500, -36636500, -36637000, -36637500, -36636000, -36633500, -36633500, -36636000, -36635000, -36636000, -36635500, -36636000, -36636500, -36636500, -36635000, -36637000, -36637000, -36637000, -36636000, -36635000, -36632500, -36629000, -36627000, -36630000, -36628000, -36631000, -36628500, -36627500, -36628000, -36625500, -36624500, -36623000, -36622000, -36621500, -36621500, -36619500, -36617500, -36613500, -36610500, -36611000, -36610000, -36609500, -36609500, -36608500, -36606500, -36604500, -36601500, -36598500, -36599000, -36598000, -36597000, -36595500, -36595500, -36595500, -36593500, -36595500, -36596500, -36593500, -36594500, -36591500, -36591500, -36590500, -36588500, -36586500, -36584000, -36582000, -36580500, -36580500, -36577500, -36575500, -36574500, -36576500, -36578500, -36577000, -36574500, -36572500, -36570500, -36571500, -36572500, -36571500, -36571500, -36573000, -36572500, -36573000, -36570500, -36568000, -36571500, -36571000, -36573000, -36569000, -36569000, -36568500, -36565500, -36567500, -36568000, -36566500, -36566000, -36565500, -36564000, -36562500, -36563500, -36560500, -36558500, -36557500, -36557000, -36553500, -36551500, -36550500, -36551500, -36553000, -36551500, -36549500, -36546500, -36544500, -36545500, -36546000, -36546000, -36544000, -36543500, -36543000, -36544000, -36541000, -36540500, -36540500, -36545500, -36542500, -36540000, -36542000, -36539500, -36537500, -36534000, -36530500, -36531500, -36531500, -36531500, -36528000, -36527500, -36528000, -36528000, -36528000, -36529000, -36527000, -36528500, -36527000, -36526500, -36526500, -36524500, -36526000, -36523500, -36520500, -36519500, -36515500, -36515000, -36511000, -36508500, -36509500, -36509000, -36508500, -36510500, -36508500, -36506000, -36504000, -36504500, -36504500, -36502500, -36499500, -36499000, -36500000, -36500000, -36497500, -36497000, -36499000, -36497000, -36494500, -36497000, -36494500, -36494500, -36492000, -36493500, -36491500, -36492000, -36491500, -36489000, -36486500, -36485500, -36484500, -36485500, -36488000, -36486500, -36484500, -36482000, -36479500, -36477000, -36474500, -36475500, -36477500, -36478500, -36475000, -36474000, -36476000, -36473500, -36475000, -36475000, -36475500, -36479000, -36477500, -36478000, -36476000, -36476000, -36474500, -36473500, -36473500, -36471000, -36471000, -36472500, -36473500, -36472000, -36474000, -36477500, -36478000, -36477500, -36479000, -36480500, -36484000, -36482500, -36482000, -36479000, -36475500, -36475000, -36474500, -36474000, -36472000, -36470500, -36470000, -36469500, -36472000, -36471000, -36471500, -36469000, -36465000, -36464500, -36464500, -36463000, -36461500, -36460500, -36462000, -36459000, -36457000, -36458500, -36463500, -36462000, -36462000, -36462000, -36460000, -36459000, -36461000, -36457500, -36454500, -36456000, -36460500, -36457000, -36453000, -36454500, -36453000, -36454000, -36452500, -36454000, -36453500, -36451500, -36450000, -36445500, -36444000, -36442000, -36439500, -36440000, -36440500, -36438000, -36440000, -36436000, -36433500, -36432500, -36433000, -36431500, -36432500, -36433000, -36436500, -36441000, -36444000, -36441500, -36437000, -36434500, -36433500, -36434000, -36433500, -36433000, -36430000, -36430000, -36426500, -36423000, -36423500, -36423000, -36419500, -36419500, -36417000, -36415000, -36412000, -36411000, -36410500, -36406000, -36406500, -36405500, -36404500, -36403500, -36407500, -36410500, -36407500, -36408500, -36407500, -36402000, -36397500, -36397500, -36395500, -36399500, -36398000, -36399500, -36396000, -36395500, -36394000, -36390000, -36386000, -36382000, -36381500, -36380500, -36376000, -36378000, -36378500, -36376000, -36377000, -36375500, -36374500, -36373500, -36372000, -36374000, -36374500, -36370500, -36366500, -36362500, -36366500, -36367000, -36370000, -36366000, -36369500, -36369500, -36364500, -36360500, -36358500, -36358500, -36356500, -36359500, -36363500, -36363000, -36362000, -36360500, -36360000, -36357500, -36357500, -36355000, -36354500, -36358000, -36354500, -36354500, -36354500, -36356000, -36356500, -36355500, -36356000, -36356000, -36356500, -36354500, -36354000, -36350500, -36349500, -36352500, -36352500, -36350000, -36348500, -36347000, -36349000, -36348000, -36348000, -36350000, -36350500, -36346500, -36344000, -36343000, -36340500, -36337000, -36334000, -36335000, -36336000, -36333000, -36336000, -36334000, -36331000, -36330500, -36333000, -36334500, -36336500, -36339500, -36345000, -36342000, -36340000, -36338000, -36333500, -36333500, -36332500, -36331000, -36330500, -36328000, -36323500, -36321000, -36322000, -36321000, -36325000, -36324000, -36318000, -36321500, -36325000, -36325000, -36325000, -36323500, -36321000, -36321000, -36318000, -36314500, -36314500, -36318000, -36314500, -36318500, -36318500, -36317000, -36323500, -36327000, -36323000, -36319000, -36320500, -36321000, -36320500, -36318000, -36321000, -36322000, -36322000, -36324500, -36324500, -36326000, -36322500, -36323000, -36322000, -36318500, -36316500, -36317500, -36311500, -36307500, -36306000, -36306000, -36309000, -36310000, -36306500, -36308500, -36310000, -36309000, -36309000, -36306500, -36302000, -36299500, -36297000, -36293500, -36290000, -36287000, -36288500, -36287000, -36287000, -36285500, -36285000, -36282000, -36283000, -36281500, -36280500, -36277500, -36273500, -36270500, -36271000, -36270000, -36269000, -36264500, -36265000, -36264500, -36272000, -36274000, -36272500, -36272000, -36271000, -36268000, -36265000, -36262500, -36262000, -36260500, -36261500, -36261500, -36262000, -36261000, -36259000, -36259000, -36255000, -36254500, -36254000, -36253500, -36250500, -36251500, -36248000, -36249000, -36244000, -36246000, -36246000, -36248000, -36256500, -36258500, -36260500, -36262500, -36263000, -36263500, -36268500, -36266500, -36268000, -36267000, -36263000, -36262000, -36255500, -36254500, -36254000, -36256500, -36254000, -36249000, -36247000, -36244500, -36246500, -36243500, -36241000, -36238500, -36238500, -36239000, -36239500, -36238000, -36233500, -36232500, -36230000, -36230500, -36229000, -36226500, -36225500, -36228000, -36225000, -36220500, -36222500, -36221500, -36219500, -36219500, -36219000, -36217000, -36213500, -36216500, -36216500, -36216500, -36213000, -36214500, -36209500, -36208000, -36207000, -36201500, -36201500, -36199500, -36202000, -36200000, -36199500, -36197000, -36191000, -36190000, -36189000, -36191500, -36190000, -36189500, -36190500, -36192000, -36188000, -36185000, -36186000, -36182500, -36188000, -36188500, -36190500, -36185000, -36187500, -36191000, -36189000, -36189500, -36186000, -36184500, -36184000, -36182500, -36182000, -36178000, -36177500, -36181500, -36189500, -36193500, -36196500, -36201000, -36198500, -36200500, -36199500, -36199500, -36198000, -36201500, -36200500, -36199500, -36197500, -36200500, -36206000, -36205000, -36211500, -36208500, -36207000, -36204500, -36205000, -36201000, -36203500, -36207500, -36202500, -36201500, -36202000, -36199500, -36198000, -36199000, -36197000, -36200000, -36201000, -36198000, -36198000, -36198000, -36197500, -36194500, -36192000, -36200000, -36201500, -36194500, -36197000, -36196500, -36197500, -36198500, -36198000, -36194000, -36196500, -36190500, -36190500, -36190500, -36188500, -36189500, -36192000, -36192000, -36194000, -36193000, -36191500, -36186500, -36182500, -36187500, -36186000, -36188500, -36189500, -36190500, -36192000, -36190000, -36193500, -36196500, -36195500, -36196500, -36195000, -36198000, -36196000, -36199000, -36196000, -36193000, -36191000, -36190500, -36184500, -36186000, -36187000, -36182500, -36181500, -36191000, -36191500, -36189000, -36186000, -36188000, -36190500, -36188500, -36183500, -36180500, -36183500, -36188000, -36191000, -36193000, -36191500, -36194000, -36190000, -36191500, -36187500, -36190500, -36186000, -36186000, -36185000, -36184500, -36185500, -36183000, -36181500, -36180000, -36176500, -36174000, -36179000, -36181000, -36182500, -36181500, -36180500, -36177000, -36173500, -36182500, -36184500, -36189000, -36191000, -36190000, -36193500, -36194000, -36193500, -36193500, -36194000, -36197500, -36196500, -36196500, -36196500, -36192500, -36196000, -36191500, -36191000, -36193000, -36190000, -36185500, -36187000, -36183500, -36183000, -36179000, -36182000, -36184000, -36183000, -36176000, -36179000, -36178500, -36180500, -36182500, -36181500, -36179500, -36179500, -36178500, -36172500, -36172500, -36171000, -36168000, -36167500, -36163500, -36160500, -36155500, -36158000, -36157000, -36154000, -36152500, -36147000, -36145500, -36149500, -36146500, -36142500, -36144000, -36146500, -36155000, -36151500, -36150500, -36146500, -36151500, -36155000, -36156500, -36155000, -36151500, -36149500, -36150500, -36154000, -36154000, -36158000, -36159500, -36157000, -36156500, -36154500, -36150000, -36153500, -36153000, -36151500, -36156000, -36158500, -36160500, -36166000, -36172500, -36175500, -36175000, -36177000, -36176500, -36176500, -36182000, -36185000, -36184500, -36187500, -36187000, -36184000, -36189500, -36189500, -36188500, -36187500, -36190000, -36188000, -36197500, -36196000, -36195000, -36193000, -36192000, -36193000, -36189500, -36189000, -36187500, -36183500, -36182500, -36183500, -36182500, -36182000, -36185500, -36187000, -36183000, -36178500, -36180000, -36177000, -36176000, -36177500, -36174000, -36178500, -36175000, -36175500, -36173500, -36176000, -36173000, -36172000, -36179500, -36184500, -36183000, -36188500, -36185000, -36192000, -36188500, -36188500, -36186000, -36189000, -36189500, -36189500, -36193500, -36191500, -36192500, -36197500, -36197000, -36197500, -36197500, -36200500, -36203500, -36202500, -36204500, -36211000, -36216500, -36216000, -36215000, -36215500, -36213000, -36211500, -36214000, -36217500, -36221500, -36223500, -36222000, -36224000, -36223000, -36224000, -36221500, -36220500, -36222000, -36223000, -36218500, -36223000, -36225000, -36223000, -36220000, -36223500, -36224000, -36222000, -36216500, -36219000, -36216000, -36215500, -36217000, -36215500, -36213000, -36211000, -36213500, -36211500, -36213000, -36217000, -36218500, -36219500, -36220500, -36222500, -36226000, -36228000, -36227000, -36233000, -36236000, -36235000, -36234000, -36228500, -36237500, -36238000, -36240500, -36241000, -36242000, -36245000, -36253500, -36254000, -36252000, -36254000, -36255000, -36254500, -36258000, -36264000, -36262500, -36261000, -36262000, -36264500, -36266500, -36270000, -36275000, -36275500, -36279000, -36278000, -36276000, -36281500, -36278000, -36276000, -36276500, -36276000, -36277000, -36277000, -36278500, -36278500, -36275500, -36281500, -36283000, -36284500, -36287500, -36290500, -36294000, -36297500, -36304500, -36306500, -36305500, -36311500, -36306000, -36296000, -36301000, -36303000, -36298000, -36302500, -36312000, -36308000, -36307000, -36306000, -36303500, -36307500, -36313500, -36316000, -36313500, -36317500, -36315500, -36315000, -36309500, -36305500, -36305000, -36307000, -36306500, -36311000, -36312000, -36317500, -36323500, -36324000, -36332000, -36334500, -36338000, -36336500, -36336500, -36330500, -36331000, -36336500, -36330000, -36333500, -36331500, -36328500, -36331500, -36333000, -36331500, -36340000, -36343500, -36347000, -36350000, -36354500, -36356500, -36353500, -36359500, -36363500, -36366500, -36372500, -36373000, -36372500, -36372000, -36372000, -36373500, -36367500, -36374500, -36380500, -36382500, -36380000, -36376000, -36378500, -36376500, -36379000, -36382000, -36382000, -36386500, -36385500, -36392000, -36388500, -36389500, -36393000, -36394500, -36396500, -36399000, -36398500, -36410500, -36410500, -36412000, -36415000, -36417000, -36418000, -36422500, -36425500, -36432000, -36434000, -36430000, -36432500, -36435000, -36445500, -36443500, -36440000, -36441500, -36440000, -36439500, -36435500, -36435000, -36431000, -36427000, -36429000, -36434500, -36442000, -36445500, -36445500, -36453000, -36455500, -36455500, -36466500, -36462000, -36466500, -36463000, -36472500, -36468500, -36474500, -36471000, -36475000, -36478000, -36480500, -36487000, -36492000, -36497000, -36502500, -36494500, -36503500, -36503500, -36508000, -36506500, -36509000, -36507000, -36507500, -36505500, -36510000, -36512000, -36510500, -36510500, -36509500, -36515500, -36518500, -36522000, -36531000, -36536000, -36540500, -36539500, -36541000, -36553500, -36558000, -36555500, -36563500, -36564000, -36568500, -36579000, -36573000, -36569000, -36568500, -36568500, -36574500, -36584000, -36583500, -36591500, -36586500, -36584500, -36578500, -36576000, -36579000, -36578500, -36578000, -36580000, -36585000, -36582000, -36586000, -36590500, -36594000, -36596500, -36601500, -36594000, -36591000, -36594500, -36597500, -36600000, -36596000, -36592000, -36592500, -36590000, -36589000, -36593500, -36594500, -36600000, -36602000, -36608500, -36613500, -36618000, -36624000, -36622500, -36627500, -36634500, -36634500, -36631500, -36638500, -36635000, -36639000, -36644000, -36646000, -36649000, -36653000, -36651000, -36650500, -36651500, -36648500, -36652000, -36655500, -36653500, -36655000, -36652500, -36656000, -36650000, -36658500, -36667000, -36661000, -36662000, -36666000, -36674000, -36677500, -36677000, -36680000, -36685500, -36686000, -36689500, -36688500, -36687500, -36687500, -36689500, -36697500, -36702500, -36707000, -36705500, -36703500, -36711000, -36711500, -36715500, -36718000, -36716500, -36718000, -36719500, -36727000, -36728000, -36725000, -36731500, -36728500, -36738500, -36744000, -36746500, -36752000, -36752000, -36755000, -36753000, -36757500, -36757000, -36757000, -36758500, -36765000, -36770500, -36770000, -36771000, -36775000, -36771500, -36781500, -36790500, -36801000, -36801000, -36805000, -36811500, -36809000, -36814000, -36816000, -36812000, -36820500, -36818500, -36826500, -36822500, -36826000, -36828000, -36833500, -36845000, -36845000, -36841500, -36847500, -36849000, -36853500, -36853500, -36856500, -36858500, -36867500, -36870000, -36879500, -36878000, -36881000, -36884500, -36885500, -36881500, -36884000, -36888000, -36889500, -36900500, -36900500, -36895500, -36893500, -36894500, -36901500, -36900000, -36902000, -36910000, -36913500, -36912000, -36916500, -36919000, -36917500, -36920500, -36920000, -36919500, -36926000, -36929000, -36942500, -36944000, -36942500, -36950000, -36947500, -36944000, -36945500, -36955500, -36960000, -36959500, -36963500, -36963000, -36964000, -36965000, -36964000, -36972500, -36974500, -36972000, -36977500, -36981500, -36979500, -36981000, -36983500, -36986000, -36989500, -36993500, -36993000, -36993500, -36997000, -36995500, -36997500, -36997000, -37000000, -37002500, -37001500, -37004500, -37007500, -37005500, -37004500, -37000500, -37003500, -37009000, -37013000, -37017500, -37025500, -37034500, -37037000, -37036000, -37038000, -37039000, -37044000, -37048000, -37052000, -37057000, -37058000, -37069500, -37069000, -37077500, -37079000, -37092000, -37091500, -37095500, -37095000, -37097500, -37103000, -37101500, -37105000, -37104500, -37105000, -37108500, -37110500, -37103500, -37106500, -37107000, -37112000, -37121500, -37132500, -37135000, -37146000, -37147000, -37155000, -37165000, -37171000, -37175500, -37179500, -37180500, -37185500, -37188500, -37193500, -37198000, -37199000, -37201000, -37200500, -37202500, -37208000, -37210500, -37228000, -37229000, -37234000, -37236000, -37242000, -37251000, -37253000, -37257000, -37256500, -37264000, -37266000, -37267000, -37266000, -37257000, -37256500, -37254000, -37257000, -37263000, -37265500, -37264500, -37272000, -37278000, -37275000, -37275500, -37275000, -37277500, -37275500, -37283000, -37284500, -37282000, -37285000, -37286500, -37291000, -37299000, -37304000, -37307000, -37311500, -37314000, -37317000, -37322000, -37326000, -37331500, -37340000, -37338500, -37342000, -37346000, -37347000, -37352500, -37362500, -37374500, -37377500, -37376500, -37375000, -37375500, -37382000, -37380500, -37377500, -37379500, -37387000, -37389000, -37389000, -37393000, -37390500, -37400000, -37409000, -37410000, -37409500, -37418000, -37419500, -37420500, -37417500, -37416000, -37426000, -37427500, -37428500, -37425500, -37426500, -37429000, -37443000, -37447500, -37453000, -37454000, -37461500, -37470000, -37474000, -37477000, -37484000, -37480500, -37491500, -37493500, -37498000, -37500500, -37501000, -37504500, -37509000, -37511500, -37517500, -37527000, -37530000, -37532000, -37536500, -37536500, -37544000, -37543500, -37547000, -37554000, -37557500, -37560500, -37565000, -37568000, -37576000, -37578500, -37581500, -37587500, -37583000, -37585500, -37588000, -37589000, -37588500, -37593000, -37604000, -37616000, -37626000, -37630500, -37646000, -37648000, -37649500, -37653000, -37656500, -37657500, -37658000, -37667000, -37661000, -37665000, -37671000, -37678500, -37683000, -37688000, -37688500, -37696000, -37702500, -37709000, -37719000, -37723000, -37735500, -37745500, -37753500, -37752500, -37757500, -37765000, -37770500, -37773500, -37774000, -37775500, -37780500, -37777000, -37786000, -37790500, -37803000, -37802000, -37806500, -37808500, -37818000, -37834500, -37841500, -37844500, -37847000, -37848000, -37853500, -37863000, -37867000, -37870500, -37884500, -37882000, -37889500, -37902500, -37915500, -37916000, -37920000, -37925500, -37930000, -37935500, -37938500, -37941500, -37943500, -37948000, -37947000, -37953500, -37959500, -37971500, -37965500, -37964500, -37976500, -37978500, -37979500, -37992000, -37995500, -38002500, -38004500, -38012000, -38011000, -38010000, -38011000, -38021500, -38024000, -38024500, -38036500, -38043500, -38052000, -38051500, -38061000, -38060500, -38065500, -38067000, -38076000, -38078500, -38084000, -38087500, -38088500, -38099000, -38105000, -38117000, -38121500, -38129500, -38146000, -38162000, -38160500, -38164500, -38170000, -38179500, -38181500, -38190500, -38200000, -38206000, -38217000, -38222500, -38227000, -38232500, -38229500, -38246000, -38255000, -38262500, -38277000, -38283500, -38294500, -38303000, -38304500, -38317500, -38320000, -38330000, -38332500, -38341000, -38349000, -38353500, -38362500, -38364500, -38370000, -38373500, -38380500, -38379500, -38388500, -38394000, -38397000, -38410000, -38416500, -38424500, -38428000, -38440500, -38443500, -38450500, -38448500, -38448000, -38458000, -38457500, -38458000, -38460000, -38458500, -38472500, -38485500, -38496500, -38504500, -38506500, -38510500, -38515500, -38526500, -38535500, -38544500, -38544000, -38547500, -38560500, -38562000, -38567500, -38577500, -38579500, -38585500, -38594500, -38596000, -38597000, -38614500, -38625500, -38625000, -38626500, -38634000, -38636000, -38642000, -38645000, -38642000, -38647000, -38662000, -38662500, -38674500, -38691000, -38693500, -38694500, -38702500, -38705000, -38707500, -38726500, -38736500, -38749000, -38762000, -38768000, -38787500, -38789500, -38806000, -38815500, -38822000, -38829500, -38834000, -38840000, -38846000, -38855000, -38859000, -38874000, -38878500, -38891000, -38901500, -38906000, -38911000, -38922000, -38928000, -38937500, -38942000, -38950500, -38965000, -38971000, -38975500, -38989000, -38994500, -38995500, -39002500, -39003500, -39010500, -39016500, -39017500, -39028500, -39036000, -39046500, -39051000, -39050000, -39067000, -39074500, -39073000, -39079500, -39082500, -39083500, -39080500, -39097500, -39101500, -39105500, -39119500, -39129500, -39142500, -39146000, -39150000, -39154000, -39158000, -39158000, -39172000, -39182500, -39187000, -39202500, -39205000, -39213500, -39222500, -39231500, -39247000, -39252000, -39250000, -39255500, -39260000, -39274000, -39283500, -39288000, -39301500, -39301500, -39306500, -39309500, -39316000, -39314000, -39319000, -39333000, -39333500, -39337000, -39342500, -39350500, -39347000, -39356500, -39375500, -39385000, -39388500, -39404000, -39420000, -39433500, -39442000, -39447000, -39461000, -39463500, -39477000, -39477500, -39485000, -39486000, -39488500, -39490500, -39494000, -39498500, -39512000, -39518000, -39526000, -39529000, -39535500, -39539500, -39542500, -39548000, -39551500, -39548000, -39550000, -39557000, -39564500, -39581000, -39588000, -39598000, -39607000, -39617500, -39625500, -39636000, -39634500, -39652000, -39660500, -39661500, -39669500, -39672000, -39685000, -39693000, -39697500, -39702500, -39707500, -39710000, -39714000, -39721500, -39742500, -39745500, -39765500, -39776000, -39792000, -39796000, -39801500, -39815000, -39818500, -39830000, -39833500, -39841500, -39851500, -39855000, -39860000, -39866500, -39875000, -39884500, -39898500, -39915500, -39927500, -39933000, -39933000, -39940000, -39948000, -39953000, -39958500, -39972000, -39985500, -39987000, -39994500, -40010000, -40026000, -40038500, -40053000, -40068000, -40079000, -40084000, -40081500, -40085000, -40090500, -40098000, -40103000, -40112500, -40126500, -40123500, -40129500, -40134500, -40136500, -40149500, -40162000, -40168000, -40166500, -40177500, -40190500, -40201000, -40209500, -40212000, -40221500, -40226500, -40234500, -40244500, -40249500, -40254000, -40265000, -40272500, -40277500, -40279000, -40291000, -40295000, -40298500, -40312500, -40317000, -40327500, -40343000, -40343000, -40345500, -40353000, -40356000, -40371500, -40380000, -40386000, -40393000, -40402000, -40406000, -40420500, -40422000, -40432500, -40442000, -40454000, -40471500, -40476000, -40486000, -40495000, -40498000, -40509000, -40518500, -40530500, -40549000, -40548500, -40554500, -40568500, -40580000, -40587000, -40586000, -40601500, -40609500, -40618500, -40631000, -40634500, -40644000, -40646500, -40652500, -40667000, -40679500, -40684000, -40692500, -40698000, -40705500, -40708500, -40722500, -40731500, -40740500, -40746500, -40748500, -40756000, -40757500, -40769000, -40786500, -40793000, -40804000, -40805000, -40813500, -40822000, -40832000, -40842000, -40847000, -40865500, -40876000, -40878000, -40886500, -40897500, -40918000, -40934000, -40942000, -40946000, -40957000, -40968500, -40985500, -40999000, -41002500, -41019000, -41033500, -41043000, -41057500, -41071500, -41084500, -41090500, -41097500, -41111000, -41129000, -41147500, -41157000, -41160500, -41163000, -41160500, -41173500, -41174500, -41183500, -41199000, -41211500, -41225000, -41237000, -41254500, -41274000, -41288000, -41307000, -41320000, -41335000, -41347000, -41364500, -41365000, -41373500, -41373000, -41386500, -41404000, -41412000, -41422000, -41428000, -41437000, -41448500, -41458000, -41485000, -41488500, -41501500, -41501500, -41514500, -41509000, -41522500, -41536000, -41541000, -41563000, -41575000, -41583500, -41600000, -41619500, -41639000, -41651000, -41651000, -41664000, -41678500, -41696500, -41703000, -41706000, -41725500, -41727000, -41743500, -41745000, -41749000, -41759500, -41775000, -41780000, -41790000, -41806000, -41811000, -41813500, -41828500, -41839000, -41849500, -41865000, -41873000, -41897500, -41911500, -41916000, -41919500, -41937500, -41951000, -41962000, -41967000, -41977500, -41992500, -42001500, -42015000, -42017000, -42022500, -42038500, -42045000, -42054500, -42057000, -42073500, -42090000, -42089000, -42102500, -42114000, -42130000, -42147000, -42157500, -42166500, -42176500, -42189000, -42197500, -42211500, -42217000, -42230500, -42238500, -42240000, -42249000, -42259500, -42285500, -42302500, -42325500, -42336500, -42358500, -42365500, -42370500, -42376500, -42389000, -42406500, -42420500, -42439500, -42435500, -42445000, -42466500, -42477500, -42488500, -42510000, -42532500, -42538500, -42555500, -42567000, -42595500, -42599500, -42619000, -42634000, -42642500, -42655500, -42664000, -42685000, -42703000, -42710000, -42728000, -42735500, -42745000, -42753500, -42758500, -42769500, -42778500, -42791500, -42796500, -42814500, -42825500, -42845500, -42865000, -42869500, -42882500, -42885500, -42907000, -42929000, -42949000, -42976000, -42987500, -42995000, -43000000, -43010000, -43033000, -43044500, -43047500, -43050500, -43067500, -43073500, -43082000, -43107000, -43127500, -43134000, -43154000, -43165000, -43184000, -43190500, -43197000, -43202500, -43228000, -43223000, -43235500, -43255500, -43269000, -43286000, -43291500, -43306000, -43315500, -43334500, -43331000, -43339500, -43353500, -43367500, -43390000, -43404500, -43405000, -43431000, -43435000, -43446500, -43456500, -43469000, -43476000, -43491500, -43495000, -43521500, -43533000, -43548500, -43571500, -43580000, -43583000, -43596000, -43611500, -43627500, -43641000, -43658500, -43667500, -43675500, -43698500, -43717000, -43721500, -43738500, -43750500, -43762500, -43779000, -43789500, -43802000, -43805000, -43817500, -43822500, -43839000, -43849500, -43860500, -43883000, -43901500, -43909000, -43914500, -43928000, -43940500, -43946000, -43961000, -43962000, -43969000, -43978000, -44002000, -44017000, -44024000, -44028500, -44049000, -44062000, -44077500, -44089500, -44109000, -44134500, -44150000, -44173000, -44190000, -44197000, -44201000, -44202500, -44224000, -44245000, -44257500, -44268500, -44287500, -44300500, -44309000, -44325000, -44330000, -44353500, -44367000, -44383500, -44402500, -44412000, -44437000, -44458000, -44478500, -44485000, -44486500, -44496500, -44524000, -44544500, -44562500, -44577000, -44581000, -44590000, -44600000, -44604000, -44622500, -44643000, -44664000, -44672500, -44687000, -44702500, -44722000, -44726500, -44740000, -44758500, -44778000, -44798500, -44820000, -44829500, -44844500, -44848500, -44864000, -44870000, -44896500, -44912000, -44930000, -44961000, -44975000, -44996000, -45020000, -45031500, -45046500, -45057500, -45080500, -45093500, -45121500, -45139000, -45147500, -45156000, -45186500, -45200500, -45214500, -45230000, -45249000, -45268000, -45281500, -45303000, -45325000, -45333500, -45355500, -45373500, -45392500, -45425500, -45436500, -45445500, -45461500, -45473000, -45482000, -45499000, -45507500, -45517000, -45527000, -45542500, -45559000, -45573500, -45581000, -45600000, -45611500, -45638500, -45660000, -45672500, -45688000, -45698500, -45700000, -45716500, -45738500, -45759000, -45776000, -45795500, -45820000, -45841000, -45846000, -45866000, -45889500, -45905000, -45922500, -45940000, -45961000, -45988500, -46003500, -46022500, -46049000, -46065000, -46089500, -46104000, -46123000, -46124500, -46144500, -46155000, -46179000, -46193000, -46203500, -46224000, -46247500, -46259000, -46278000, -46307000, -46318000, -46325500, -46345000, -46363500, -46375000, -46398000, -46409500, -46431500, -46451500, -46454000, -46470500, -46484000, -46510500, -46513000, -46524000, -46549500, -46583500, -46613500, -46623500, -46644000, -46652500, -46671000, -46694500, -46710000, -46725500, -46741500, -46766000, -46790500, -46811000, -46830000, -46850500, -46858000, -46872000, -46881500, -46891500, -46899000, -46902500, -46920000, -46942500, -46966500, -46984500, -47001000, -47033500, -47044500, -47051000, -47063500, -47092500, -47107000, -47118000, -47133500, -47149000, -47164500, -47172000, -47186000, -47204000, -47225500, -47247500, -47270500, -47283500, -47296000, -47317000, -47343000, -47355000, -47371000, -47393000, -47419500, -47445500, -47462000, -47476500, -47501000, -47514500, -47526500, -47544000, -47563500, -47572000, -47588500, -47611500, -47629500, -47655000, -47675000, -47709000, -47729500, -47740500, -47760500, -47783000, -47802000, -47815500, -47833500, -47861500, -47870000, -47886000, -47907500, -47932000, -47942500, -47958000, -47966500, -47983500, -47992000, -48005500, -48020000, -48044000, -48066500, -48082000, -48102500, -48118500, -48140500, -48159000, -48171000, -48191000, -48213000, -48244000, -48254000, -48258000, -48277500, -48288500, -48311000, -48323000, -48343500, -48362000, -48381500, -48406500, -48424000, -48448500, -48473000, -48501000, -48519500, -48537000, -48544000, -48548000, -48571500, -48582000, -48609500, -48630500, -48649500, -48671000, -48683500, -48707000, -48736500, -48749500, -48759500, -48789000, -48809000, -48828500, -48851500, -48860500, -48891000, -48914000, -48944500, -48959000, -48982000, -49000000, -49028000, -49043000, -49067500, -49079500, -49090500, -49100000, -49134500, -49156000, -49185000, -49197500, -49218000, -49220000, -49242000, -49252500, -49268500, -49285000, -49305500, -49327000, -49343500, -49364000, -49382000, -49407000, -49439000, -49475000, -49507500, -49523500, -49548500, -49566000, -49578500, -49587500, -49602500, -49609500, -49628000, -49650500, -49672500, -49704500, -49725500, -49737500, -49768000, -49781500, -49797500, -49819000, -49830500, -49848000, -49861500, -49878500, -49896000, -49916000, -49933000, -49937000, -49953500, -49965000, -49980500, -50016500, -50040000, -50068500, -50097500, -50105500, -50128500, -50152000, -50190000, -50209500, -50222000, -50242000, -50251000, -50266500, -50281000, -50306500, -50320500, -50331500, -50352500, -50376500, -50390500, -50410000, -50431500, -50455000, -50469500, -50497500, -50513500, -50543500, -50558500, -50577000, -50591000, -50614000, -50638500, -50658000, -50691000, -50712500, -50733000, -50751500, -50781000, -50805000, -50834500, -50840500, -50860000, -50881500, -50909000, -50926000, -50941500, -50965000, -50979500, -51005000, -51030500, -51051500, -51080000, -51101000, -51126500, -51150500, -51166500, -51186500, -51206000, -51222500, -51241000, -51254000, -51278000, -51306500, -51333000, -51364000, -51377000, -51402500, -51422000, -51451000, -51490500, -51515000, -51534500, -51557500, -51584000, -51606000, -51625000, -51651000, -51667500, -51695000, -51710000, -51727000, -51761000, -51787500, -51806500, -51826000, -51846500, -51878500, -51904500, -51924000, -51948500, -51966500, -51988500, -52010500, -52050000, -52080000, -52104500, -52135500, -52168500, -52196500, -52223500, -52246000, -52276500, -52290000, -52310000, -52321500, -52335000, -52362000, -52374000, -52401500, -52430000, -52456000, -52476000, -52498000, -52526500, -52550500, -52571500, -52585500, -52594500, -52610000, -52644500, -52666500, -52677500, -52701500, -52742000, -52772000, -52796500, -52813500, -52846500, -52874000, -52899500, -52927000, -52936000, -52962000, -52983000, -53002500, -53041000, -53067500, -53082000, -53124000, -53146500, -53158500, -53178500, -53202000, -53227500, -53248500, -53280500, -53310500, -53335500, -53360000, -53379500, -53402000, -53414000, -53441000, -53455500, -53475500, -53476000, -53505500, -53525500, -53555500, -53578000, -53612000, -53632000, -53660500, -53693000, -53720500, -53737000, -53776000, -53811000, -53837000, -53866500, -53877000, -53898500, -53913500, -53945500, -53975500, -53985500, -54004500, -54044500, -54062500, -54092500, -54109500, -54128000, -54148000, -54177500, -54195000, -54220500, -54255000, -54285000, -54312000, -54335500, -54367500, -54379000, -54405500, -54426500, -54449000, -54488000, -54516000, -54538000, -54567000, -54573000, -54600500, -54616000, -54639000, -54674000, -54700000, -54725000, -54745000, -54773000, -54801500, -54831500, -54868000, -54890000, -54911500, -54936000, -54945000, -54962000, -54982500, -55016000, -55031000, -55058500, -55080500, -55107000, -55136500, -55169000, -55203500, -55230500, -55246500, -55278500, -55295000, -55320000, -55337000, -55365000, -55387500, -55415500, -55459500, -55492500, -55509500, -55523500, -55541500, -55562000, -55594500, -55621000, -55657000, -55682000, -55719500, -55761500, -55783500, -55806000, -55841000, -55864500, -55894000, -55912500, -55933500, -55977000, -56007500, -56030500, -56060500, -56083500, -56124500, -56149500, -56167000, -56187000, -56210500, -56229000, -56275500, -56293000, -56334500, -56357000, -56394000, -56430000, -56447000, -56475000, -56505000, -56530000, -56562000, -56593000, -56616500, -56632000, -56666000, -56681000, -56709000, -56740500, -56776000, -56802000, -56815000, -56847000, -56865500, -56890500, -56920500, -56941000, -56984000, -57018500, -57047000, -57070000, -57090500, -57119500, -57147500, -57164500, -57207500, -57229500, -57271500, -57312500, -57339500, -57372000, -57402500, -57416000, -57435500, -57465000, -57492500, -57518500, -57545500, -57572500, -57604000, -57632500, -57667000, -57694000, -57726000, -57768000, -57792000, -57822000, -57856500, -57878500, -57902000, -57913500, -57940000, -57963000, -57976500, -58003500, -58044000, -58080000, -58111500, -58133000, -58170000, -58203000, -58228500, -58252500, -58295500, -58328000, -58346000, -58361500, -58381500, -58410500, -58428000, -58449500, -58490000, -58527500, -58558000, -58595500, -58639000, -58652500, -58681000, -58718500, -58752500, -58780500, -58802500, -58815500, -58855000, -58874500, -58920000, -58947500, -58974000, -58988000, -59030000, -59067500, -59097500, -59120500, -59139000, -59173000, -59191500, -59212500, -59237000, -59265500, -59283500, -59298000, -59326000, -59354500, -59383000, -59414000, -59446000, -59467500, -59499000, -59551500, -59580000, -59626000, -59654000, -59675000, -59702000, -59739000, -59756000, -59785500, -59818500, -59833500, -59860000, -59896000, -59931500, -59951500, -59975000, -59998000, -60046000, -60072000, -60099500, -60118500, -60143500, -60170500, -60206000, -60230000, -60254000, -60274500, -60309000, -60334500, -60367000, -60388500, -60415000, -60442500, -60456000, -60504500, -60537500, -60560000, -60598500, -60620500, -60644000, -60690500, -60715500, -60765000, -60791000, -60814000, -60849500, -60890500, -60936500, -60967000, -61007000, -61041000, -61071500, -61110500, -61134000, -61163000, -61205000, -61232000, -61266500, -61293500, -61317500, -61355500, -61378500, -61431000, -61457000, -61505500, -61533000, -61576000, -61609000, -61640500, -61666500, -61702000, -61719500, -61751500, -61770500, -61800000, -61821000, -61846500, -61866500, -61909500, -61933000, -61953500, -61984000, -62015000, -62046500, -62070500, -62092500, -62134500, -62164500, -62190000, -62220000, -62249000, -62286000, -62320000, -62350000, -62378000, -62412000, -62440500, -62468500, -62488000, -62536000, -62568000, -62615000, -62644000, -62684000, -62714500, -62746500, -62772500, -62803000, -62827000, -62858000, -62900000, -62940500, -62969500, -62982500, -63016500, -63036500, -63065500, -63091500, -63128000, -63159000, -63192500, -63223000, -63264500, -63290500, -63326000, -63355500, -63394000, -63436500, -63480500, -63513500, -63547000, -63586000, -63624500, -63650500, -63681000, -63721500, -63767500, -63801000, -63819500, -63847000, -63867500, -63890500, -63931000, -63955000, -63994500, -64019000, -64041500, -64067000, -64093500, -64130500, -64168000, -64206000, -64224500, -64248500, -64280500, -64310500, -64350500, -64382500, -64417500, -64444000, -64476000, -64519000, -64548500, -64598000, -64630000, -64655500, -64686000, -64724500, -64755500, -64797000, -64818000, -64849000, -64872000, -64895000, -64937500, -64975000, -65022000, -65051000, -65078000, -65127500, -65150000, -65191000, -65214000, -65251000, -65295500, -65327000, -65357000, -65398000, -65425500, -65461500, -65493500, -65517000, -65555500, -65593000, -65631500, -65673500, -65711000, -65739500, -65761500, -65778000, -65800000, -65831500, -65859500, -65886000, -65929000, -65958000, -65985500, -66039000, -66070500, -66116500, -66146500, -66175500, -66214000, -66246500, -66268000, -66296000, -66335000, -66371000, -66407000, -66441500, -66471000, -66505500, -66541000, -66574500, -66602500, -66639000, -66678500, -66709500, -66752500, -66767000, -66804500, -66835000, -66877500, -66908500, -66941000, -66971500, -67001500, -67021000, -67055500, -67075000, -67125500, -67160500, -67205500, -67245500, -67275500, -67309000, -67363000, -67398500, -67416000, -67462500, -67507000, -67544000, -67591000, -67622000, -67645000, -67697000, -67727000, -67759500, -67795000, -67832500, -67860000, -67885500, -67920000, -67965500, -68003500, -68033000, -68079000, -68117500, -68146000, -68177000, -68216500, -68231000, -68262000, -68302000, -68334500, -68372500, -68400500, -68436500, -68471000, -68508000, -68555500, -68596000, -68630500, -68653500, -68679000, -68709000, -68737500, -68767000, -68812500, -68844500, -68877000, -68948500, -68978000, -69011000, -69042500, -69072500, -69113500, -69140000, -69176500, -69208000, -69228000, -69260500, -69318000, -69353000, -69384000, -69415500, -69471000, -69507000, -69576000, -69630000, -69671000, -69691500, -69737500, -69768500, -69810000, -69855000, -69871500, -69908000, -69946000, -69976500, -70012500, -70056500, -70089000, -70129000, -70176000, -70220000, -70274500, -70312000, -70337500, -70371000, -70412500, -70458000, -70494500, -70527000, -70563000, -70606000, -70634000, -70672000, -70700000, -70746000, -70774000, -70810500, -70854500, -70904500, -70950000, -70981500, -71014500, -71049000, -71091000, -71123500, -71164000, -71203500, -71251000, -71298000, -71329500, -71365500, -71403500, -71441500, -71470000, -71510000, -71559000, -71592000, -71625500, -71658000, -71691500, -71725000, -71752000, -71788500, -71812000, -71850500, -71893500, -71928500, -71983000, -72023000, -72056500, -72094000, -72130000, -72165000, -72197500, -72239000, -72282500, -72322500, -72363500, -72414500, -72457000, -72496500, -72533000, -72570000, -72622500, -72661000, -72694000, -72729000, -72779500, -72817000, -72859000, -72904500, -72934500, -72972500, -73011000, -73052000, -73101000, -73139000, -73185500, -73232000, -73269000, -73311500, -73345000, -73392000, -73431500, -73452500, -73489000, -73516500, -73535500, -73576500, -73624500, -73654000, -73675500, -73707000, -73754000, -73792000, -73822000, -73862500, -73913500, -73963000, -74002000, -74048000, -74095000, -74141000, -74184500, -74223500, -74267000, -74292000, -74328500, -74373500, -74399000, -74429500, -74460500, -74501000, -74542000, -74596500, -74633000, -74682000, -74723000, -74766000, -74806000, -74824000, -74854000, -74874000, -74922000, -74951000, -74999000, -75018500, -75054000, -75086500, -75130000, -75167000, -75216000, -75250000, -75286500, -75328000, -75368000, -75409500, -75444000, -75464000, -75499000, -75527500, -75572000, -75610000, -75647500, -75691000, -75732000, -75797000, -75823000, -75857500, -75895000, -75924500, -75959500, -75998000, -76041000, -76094000, -76138000, -76179000, -76217000, -76238500, -76276000, -76321500, -76357000, -76403500, -76444500, -76498500, -76553500, -76581500, -76621500, -76647500, -76667000, -76704500, -76749500, -76815500, -76856500, -76917000, -76944000, -76997500, -77030000, -77061000, -77098000, -77129500, -77156000, -77182500, -77215500, -77259000, -77299000, -77339500, -77379000, -77415500, -77451000, -77505000, -77536000, -77589000, -77626500, -77653500, -77693000, -77747500, -77773500, -77813000, -77875000, -77916000, -77935000, -77982000, -78022000, -78064500, -78103500, -78127500, -78166500, -78198000, -78240500, -78273000, -78318000, -78340000, -78388500, -78436000, -78500000, -78539000, -78553000, -78600000, -78645000, -78690000, -78724000, -78768500, -78803500, -78830500, -78865000, -78886000, -78934000, -78981000, -79018000, -79047500, -79097000, -79138000, -79173500, -79214000, -79246500, -79282500, -79348000, -79402000, -79440500, -79486500, -79524500, -79542000, -79573000, -79613500, -79649500, -79687000, -79726500, -79769000, -79819500, -79854500, -79875500, -79918500, -79959500, -79996500, -80028500, -80072000, -80116500, -80158500, -80199500, -80244500, -80286000, -80316000, -80358000, -80404000, -80437500, -80468500, -80504500, -80529000, -80565500, -80600500, -80638500, -80681000, -80720000, -80764500, -80810000, -80848500, -80877500, -80909500, -80948500, -80997000, -81039000, -81065000, -81104000, -81143000, -81188000, -81227000, -81274000, -81314000, -81362500, -81401000, -81423500, -81459500, -81501000, -81544500, -81577000, -81633500, -81673500, -81717500, -81736000, -81780000, -81817500, -81872500, -81896000, -81934500, -81979000, -82025000, -82056000, -82083500, -82116500, -82166000, -82221500, -82251000, -82295500, -82326500, -82373000, -82414000, -82453500, -82496500, -82548000, -82585000, -82612000, -82657000, -82699000, -82732500, -82760500, -82820000, -82864500, -82905000, -82957000, -83003000, -83041500, -83068000, -83129500, -83175500, -83198000, -83245000, -83287000, -83329500, -83358000, -83404500, -83431500, -83472500, -83511500, -83548500, -83600500, -83641000, -83683000, -83724000, -83766000, -83810500, -83847500, -83879000, -83913500, -83955500, -83999500, -84037500, -84079000, -84122000, -84147500, -84190500, -84240500, -84273000, -84312500, -84340500, -84385500, -84428000, -84464500, -84513000, -84548500, -84583500, -84631000, -84671000, -84714500, -84742000, -84780500, -84821000, -84860500, -84897500, -84935500, -84978000, -85012500, -85052500, -85102500, -85125500, -85163000, -85203000, -85229000, -85273500, -85311000, -85355500, -85401000, -85435500, -85471500, -85510000, -85545500, -85577000, -85616000, -85658500, -85675000, -85711500, -85749000, -85793500, -85823000, -85862000, -85922500, -85970500, -86005000, -86032500, -86080000, -86133000, -86180500, -86212500, -86244000, -86277500, -86307000, -86339500, -86361500, -86401000, -86443000, -86487500, -86517500, -86556000, -86593000, -86648000, -86682000, -86727000, -86764000, -86804000, -86849000, -86880000, -86913500, -86953000, -86989000, -87030500, -87070500, -87100500, -87155500, -87194500, -87228000, -87267000, -87309500, -87350500, -87384500, -87415500, -87452000, -87480500, -87518500, -87560000, -87589500, -87630500, -87678000, -87738000, -87776000, -87818000, -87859500, -87890500, -87939000, -87969500, -88013500, -88043000, -88069500, -88110500, -88143000, -88176500, -88235500, -88293500, -88334000, -88371500, -88403500, -88459000, -88492000, -88544500, -88587000, -88624500, -88663500, -88705000, -88741500, -88782000, -88810500, -88858500, -88887500, -88937500, -88983000, -89022500, -89063000, -89107000, -89130000, -89173500, -89217000, -89268500, -89312500, -89333500, -89361500, -89407000, -89452500, -89499000, -89549000, -89597000, -89615500, -89644000, -89691500, -89734000, -89779000, -89832000, -89877000, -89912000, -89952000, -89992000, -90020500, -90052000, -90086500, -90130500, -90160000, -90209000, -90248000, -90274500, -90320000, -90344500, -90375000, -90419500, -90471500, -90515500, -90550000, -90581000, -90619500, -90659500, -90697500, -90725000, -90752500, -90799500, -90848000, -90873000, -90916000, -90951000, -91000000, -91042000, -91080000, -91113500, -91147500, -91176500, -91205500, -91236500, -91269500, -91309000, -91333500, -91368500, -91399500, -91435500, -91480500, -91517000, -91541500, -91573500, -91605500, -91636000, -91678500, -91717500, -91755500, -91784500, -91810500, -91840500, -91884000, -91929000, -91978500, -92027000, -92068500, -92098500, -92138000, -92174000, -92203500, -92237500, -92257500, -92290000, -92320000, -92364000, -92403500, -92431500, -92464500, -92507000, -92537500, -92566000, -92608000, -92640500, -92673000, -92707500, -92738000, -92773000, -92796500, -92820000, -92858000, -92898000, -92949000, -92971000, -92992500, -93033500, -93068000, -93117000, -93152000, -93182000, -93216000, -93259500, -93282500, -93329000, -93362500, -93398500, -93435500, -93481000, -93508000, -93537500, -93570000, -93614000, -93651500, -93675500, -93709000, -93746500, -93782000, -93819000, -93856000, -93879000, -93904500, -93938000, -93963000, -93997000, -94035000, -94072000, -94099000, -94132000, -94173500, -94204000, -94237000, -94277500, -94310500, -94354500, -94385000, -94438500, -94478000, -94517000, -94555500, -94598500, -94636000, -94669000, -94714500, -94749000, -94794500, -94834000, -94864500, -94895500, -94926000, -94959500, -94983500, -95018000, -95048000, -95082000, -95108000, -95140000, -95164000, -95194000, -95219000, -95242000, -95269000, -95308500, -95339500, -95363500, -95391000, -95412000, -95459500, -95493500, -95533500, -95561000, -95588500, -95624500, -95659000, -95677000, -95708500, -95743000, -95778500, -95808000, -95842000, -95872500, -95896500, -95917000, -95953500, -95979500, -96013000, -96046000, -96079500, -96100500, -96140000, -96173000, -96224000, -96265000, -96304000, -96343000, -96373000, -96405500, -96440500, -96473500, -96513000, -96540500, -96568000, -96592000, -96629500, -96672000, -96703500, -96736500, -96767500, -96797500, -96831000, -96858500, -96889000, -96921000, -96966000, -97007000, -97033000, -97070000, -97113500, -97141500, -97199000, -97228000, -97254000, -97289500, -97319500, -97359500, -97376500, -97414500, -97444500, -97469500, -97500000, -97534500, -97571500, -97592500, -97616000, -97651000, -97682000, -97710000, -97747500, -97779500, -97821500, -97841000, -97869500, -97894500, -97911000, -97952500, -97974000, -98007500, -98030000, -98072500, -98106500, -98135000, -98165000, -98187000, -98213000, -98241500, -98270500, -98311000, -98342000, -98378500, -98418500, -98440500, -98462500, -98491000, -98529000, -98561500, -98597500, -98642500, -98674500, -98717500, -98745500, -98775500, -98811000, -98827000, -98857500, -98877000, -98914000, -98947500, -98972500, -99009000, -99036500, -99060500, -99081500, -99106000, -99130000, -99157000, -99177000, -99206500, -99227500, -99249500, -99286500, -99315500, -99344000, -99364000, -99386500, -99412000, -99443500, -99464000, -99486500, -99511500, -99539500, -99558000, -99578000, -99603500, -99637500, -99661500, -99691000, -99720000, -99753000, -99768500, -99793500, -99830500, -99861000, -99879000, -99913000, -99944500, -99966500, -99992000, -100022500, -100044000, -100068500, -100090500, -100112500, -100141500, -100181500, -100195500, -100211500, -100238500, -100259500, -100298000, -100327500, -100355000, -100376000, -100399000, -100419000, -100446500, -100467000, -100500000, -100526500, -100552500, -100578000, -100598000, -100617000, -100652500, -100684000, -100719500, -100760500, -100772500, -100801000, -100829000, -100864000, -100892500, -100919500, -100939000, -100965500, -100987500, -101010500, -101033500, -101064500, -101103500, -101133000, -101150500, -101172000, -101202000, -101222500, -101249000, -101275500, -101301500, -101326500, -101347500, -101370000, -101399000, -101429000, -101453500, -101491500, -101513500, -101540500, -101562500, -101581000, -101613500, -101629000, -101665500, -101710000, -101726000, -101757000, -101784500, -101803000, -101829500, -101850500, -101866000, -101893000, -101920000, -101932500, -101959000, -101987000, -102007500, -102026000, -102063000, -102091500, -102114000, -102156000, -102171000, -102189000, -102214000, -102241500, -102260500, -102290000, -102296500, -102326000, -102355000, -102373000, -102408500, -102434000, -102459500, -102483000, -102501000, -102512000, -102532500, -102556500, -102580500, -102598500, -102627500, -102645500, -102671000, -102685500, -102717500, -102740000, -102755500, -102777000, -102801500, -102812000, -102833500, -102852000, -102882000, -102907000, -102935500, -102952000, -102984500, -103009000, -103028500, -103048500, -103071500, -103096000, -103134000, -103166500, -103185500, -103212000, -103228000, -103260500, -103288500, -103310500, -103343000, -103362000, -103387000, -103415500, -103430000, -103444500, -103464000, -103487500, -103497000, -103516000, -103540000, -103572000, -103590500, -103610500, -103625000, -103644500, -103671500, -103690000, -103725000, -103749000, -103771500, -103789500, -103815000, -103849000, -103874000, -103900500, -103921500, -103938000, -103962000, -103988000, -104011000, -104032000, -104046500, -104074500, -104101500, -104122500, -104144500, -104166500, -104174000, -104188000, -104205500, -104225000, -104244000, -104268500, -104300000, -104321500, -104338000, -104355000, -104381000, -104419000, -104455000, -104470500, -104490500, -104514000, -104535000, -104566000, -104592000, -104618000, -104634500, -104664000, -104693500, -104707500, -104742500, -104767000, -104786000, -104811000, -104830000, -104844000, -104857500, -104871500, -104879500, -104903500, -104923000, -104939000, -104958500, -104972500, -104982500, -105004000, -105033000, -105056500, -105070000, -105086500, -105112500, -105136500, -105161500, -105180000, -105213000, -105237000, -105255000, -105279500, -105305000, -105325000, -105354000, -105373000, -105394000, -105413000, -105436500, -105449000, -105468500, -105486500, -105508000, -105530000, -105555000, -105579500, -105596500, -105609000, -105626000, -105647000, -105657000, -105675000, -105692500, -105715500, -105726500, -105746000, -105773000, -105785500, -105815500, -105834500, -105846000, -105854000, -105861500, -105883000, -105896500, -105914500, -105920500, -105935000, -105950500, -105962000, -105984000, -105989500, -106021000, -106041500, -106057000, -106072000, -106090500, -106098000, -106121000, -106141500, -106163500, -106182000, -106208500, -106233000, -106252000, -106270500, -106283500, -106289000, -106307000, -106313000, -106324500, -106339500, -106370000, -106383500, -106408500, -106436500, -106448500, -106458500, -106480500, -106494500, -106504500, -106523000, -106537000, -106550000, -106565000, -106572500, -106596500, -106621000, -106639000, -106655000, -106672500, -106695000, -106711000, -106724500, -106737000, -106761000, -106769500, -106789500, -106812000, -106824000, -106839000, -106859000, -106875000, -106902000, -106918500, -106931500, -106954500, -106978500, -106989000, -107008500, -107016000, -107022000, -107043000, -107063000, -107078000, -107098500, -107111500, -107143000, -107175000, -107196000, -107208000, -107219500, -107235000, -107251000, -107262500, -107269500, -107279000, -107290500, -107305500, -107316500, -107328500, -107342000, -107357000, -107372000, -107381500, -107400500, -107412000, -107430500, -107436000, -107447000, -107456500, -107478000, -107495500, -107507500, -107517500, -107535500, -107543000, -107552000, -107576000, -107613000, -107626000, -107642500, -107659500, -107677000, -107703500, -107717000, -107732000, -107748000, -107767000, -107779500, -107797500, -107806500, -107831000, -107845000, -107850000, -107858500, -107874500, -107886000, -107895500, -107923000, -107942000, -107949000, -107966500, -107985000, -107995500, -108004000, -108016500, -108032000, -108041500, -108051000, -108067500, -108084500, -108094500, -108108000, -108125500, -108132500, -108142000, -108148500, -108160500, -108178000, -108193000, -108209500, -108228500, -108254500, -108275500, -108285500, -108299000, -108314000, -108323500, -108334500, -108347000, -108357500, -108366500, -108379500, -108399000, -108421000, -108448500, -108471000, -108482500, -108490500, -108503000, -108525500, -108537000, -108548000, -108559500, -108567500, -108578000, -108590000, -108610000, -108626500, -108646000, -108662000, -108671500, -108676500, -108692000, -108705500, -108726500, -108735500, -108742500, -108750500, -108759000, -108775000, -108795500, -108814500, -108828500, -108837000, -108847000, -108858000, -108868500, -108878000, -108887000, -108904000, -108910500, -108931500, -108955500, -108974000, -108987000, -108996500, -109006500, -109016500, -109029000, -109036500, -109055000, -109070500, -109078000, -109092000, -109105500, -109124000, -109135000, -109149000, -109162500, -109179500, -109200000, -109221000, -109230000, -109237000, -109249000, -109261000, -109286500, -109304000, -109315500, -109331500, -109335500, -109350500, -109354500, -109363500, -109372000, -109383500, -109402500, -109416000, -109422000, -109437500, -109459500, -109483500, -109499000, -109505000, -109511500, -109522000, -109533000, -109541000, -109545500, -109557500, -109573500, -109580000, -109593000, -109595500, -109604500, -109624000, -109633500, -109645000, -109658000, -109671000, -109679000, -109693000, -109700000, -109706000, -109713500, -109725500, -109734500, -109740500, -109753000, -109758000, -109773500, -109784500, -109790000, -109798000, -109823500, -109835000, -109840000, -109844000, -109855000, -109859500, -109865000, -109878500, -109894000, -109897000, -109904000, -109908500, -109920500, -109928500, -109938000, -109954000, -109960500, -109976000, -109992000, -110005000, -110013500, -110038500, -110050500, -110059500, -110072000, -110075000, -110088500, -110093000, -110101000, -110108000, -110117500, -110127000, -110134000, -110145500, -110152000, -110160000, -110165000, -110171500, -110182500, -110184000, -110190000, -110200000, -110210000, -110222500, -110235000, -110252500, -110260500, -110268500, -110277000, -110287000, -110298000, -110306500, -110311000, -110325000, -110336000, -110342000, -110351000, -110357500, -110366000, -110369500, -110380000, -110386000, -110393000, -110400500, -110408000, -110413000, -110415500, -110427500, -110434000, -110438500, -110449500, -110459500, -110464500, -110473500, -110487000, -110492500, -110498000, -110504500, -110516500, -110520500, -110531000, -110544000, -110548000, -110556500, -110568000, -110574000, -110577500, -110584500, -110595500, -110601500, -110612000, -110625000, -110636000, -110641000, -110652000, -110658500, -110668000, -110679000, -110696500, -110706500, -110712500, -110721500, -110726500, -110729000, -110737500, -110743000, -110749500, -110756500, -110765500, -110767500, -110771000, -110779500, -110783500, -110787000, -110797500, -110804500, -110815000, -110822000, -110830000, -110845500, -110853000, -110862000, -110875000, -110881000, -110890500, -110901000, -110917000, -110924500, -110934000, -110940000, -110941000, -110953000, -110960500, -110961500, -110970000, -110980000, -110983500, -110985000, -110993500, -110997500, -111008500, -111014000, -111018500, -111027500, -111041000, -111045000, -111054500, -111064500, -111067500, -111076000, -111082500, -111085000, -111090500, -111097500, -111102500, -111111000, -111117000, -111122000, -111126000, -111137500, -111139000, -111150500, -111157000, -111169000, -111176000, -111183000, -111188000, -111197000, -111201500, -111208500, -111213000, -111219000, -111225000, -111236000, -111243500, -111253000, -111262000, -111271500, -111278500, -111280500, -111288000, -111295000, -111303000, -111310000, -111319000, -111328000, -111332500, -111336500, -111342500, -111345500, -111348000, -111355000, -111366000, -111365500, -111368500, -111369500, -111374500, -111381500, -111396000, -111401500, -111407000, -111414000, -111415000, -111424000, -111425000, -111432000, -111440000, -111449000, -111454000, -111458500, -111465500, -111477500, -111480500, -111484500, -111491500, -111495500, -111506500, -111513500, -111519500, -111522000, -111533500, -111538000, -111544000, -111547500, -111558000, -111561500, -111576000, -111578500, -111586000, -111590000, -111595000, -111607000, -111612500, -111618000, -111631000, -111638000, -111642500, -111645000, -111647000, -111651500, -111653500, -111656000, -111667000, -111672500, -111680000, -111686500, -111690000, -111696000, -111703500, -111710000, -111715000, -111719500, -111720500, -111728500, -111736000, -111744500, -111750000, -111757500, -111760500, -111765500, -111770000, -111772500, -111778500, -111785500, -111790500, -111799000, -111803000, -111813500, -111815000, -111822500, -111830000, -111834500, -111840500, -111843000, -111843500, -111855500, -111861500, -111866000, -111878000, -111879500, -111879000, -111891000, -111892500, -111898500, -111901500, -111908500, -111913000, -111916500, -111924000, -111927500, -111928500, -111934000, -111938000, -111947000, -111952500, -111959000, -111967500, -111970500, -111979000, -111985000, -111990000, -111993500, -111997000, -111997000, -112001000, -112002500, -112007000, -112013000, -112019500, -112022000, -112024000, -112027500, -112036000, -112035500, -112038000, -112039000, -112039500, -112044500, -112051500, -112054500, -112063000, -112070000, -112074000, -112075000, -112079000, -112080000, -112087000, -112091500, -112094000, -112095500, -112099500, -112100500, -112108500, -112114500, -112117500, -112124000, -112132000, -112134500, -112137500, -112146500, -112152000, -112157500, -112158500, -112166000, -112170000, -112169000, -112170500, -112175500, -112179500, -112185000, -112188000, -112192500, -112196500, -112197500, -112203500, -112207500, -112209500, -112212500, -112216500, -112220000, -112224000, -112228500, -112228500, -112236000, -112237500, -112238500, -112242500, -112244000, -112247000, -112248000, -112249000, -112263500, -112269500, -112270500, -112271000, -112277000, -112276500, -112280000, -112282000, -112286000, -112290500, -112298000, -112303500, -112309500, -112313500, -112313000, -112318500, -112322500, -112324000, -112324000, -112327000, -112336500, -112336000, -112338500, -112342500, -112344500, -112347500, -112353000, -112352500, -112352000, -112356500, -112359500, -112362000, -112363000, -112365500, -112366000, -112365500, -112371500, -112373000, -112375500, -112376500, -112378000, -112381000, -112382000, -112383500, -112382500, -112387000, -112389500, -112392500, -112394000, -112397000, -112398000, -112400500, -112401500, -112404000, -112406000, -112408500, -112410000, -112412500, -112418500, -112418500, -112424000, -112425500, -112431000, -112433500, -112435000, -112434500, -112436000, -112438500, -112438500, -112439500, -112440000, -112445500, -112446000, -112445000, -112449500, -112450000, -112453000, -112455500, -112457500, -112461000, -112462000, -112462000, -112465000, -112471000, -112478000, -112481000, -112482500, -112481500, -112483500, -112488000, -112489000, -112492000, -112495000, -112497500, -112499000, -112502000, -112504500, -112509000, -112510500, -112513000, -112514500, -112520500, -112520000, -112523000, -112527500, -112530000, -112530000, -112529000, -112528500, -112533000, -112534500, -112534500, -112535500, -112538500, -112541500, -112544500, -112549000, -112550500, -112553000, -112554500, -112555000, -112558500, -112561000, -112562500, -112564000, -112565000, -112569000, -112569000, -112569000, -112573500, -112574500, -112577500, -112579000, -112583000, -112584500, -112584500, -112585500, -112585500, -112585500, -112590000, -112591000, -112594000, -112595000, -112596500, -112598000, -112601000, -112602000, -112601500, -112603000, -112609000, -112610500, -112610000, -112612500, -112614000, -112615500, -112615500, -112617000, -112618500, -112620000, -112620000, -112622500, -112624000, -112626500, -112628000, -112631000, -112631000, -112634000, -112635500, -112635000, -112634500, -112637500, -112639000, -112640500, -112643500, -112645000, -112648000, -112648000, -112651000, -112651000, -112652500, -112654000, -112656500, -112656500, -112661000, -112662500, -112664000, -112665500, -112667000, -112668000, -112667500, -112669000, -112668500, -112668500, -112668500, -112669500, -112669000, -112670500, -112672000, -112673000, -112673000, -112677500, -112677000, -112679500, -112680500, -112680500, -112680500, -112680500, -112681500, -112682500, -112685500, -112685500, -112685500, -112685000, -112686000, -112685500, -112685500, -112688500, -112690000, -112690000, -112690000, -112691000, -112692500, -112695000, -112696500, -112696500, -112696500, -112697500, -112697500, -112700500, -112702000, -112703500, -112705000, -112705000, -112705000, -112708000, -112710500, -112712000, -112712000, -112715000, -112714000, -112715500, -112718500, -112718500, -112718500, -112718500, -112718500, -112718500, -112720000, -112720000, -112723000, -112725500, -112725500, -112727000, -112728000, -112729500, -112732500, -112735500, -112738500, -112738000, -112741000, -112741000, -112741000, -112742500, -112745500, -112745500, -112748500, -112752500, -112755500, -112761000, -112762500, -112764000, -112765500, -112765500, -112765500, -112765500, -112765500, -112765500, -112765500, -112765500, -112768000, -112769500, -112771000, -112774000, -112775500, -112781500, -112781500, -112783000, -112784500, -112785500, -112785500, -112785500, -112787000, -112787000, -112787000, -112788500, -112788500, -112793000, -112797500, -112797000, -112796500, -112796500, -112796500, -112801000, -112804000, -112803500, -112805000, -112809500, -112810500, -112812000, -112812000, -112812000, -112813000, -112813000, -112813000, -112814000, -112814000, -112813500, -112816500, -112816500, -112816500, -112818000, -112818000, -112817500, -112817000, -112817000, -112816500, -112816500, -112816500, -112818000, -112818000, -112818000, -112818000, -112818000, -112821000, -112821000, -112821000, -112821000, -112821000, -112822500, -112822500, -112822500, -112822500, -112822500, -112822500, -112822500, -112825500, -112825000, -112826500, -112826500, -112828000, -112829500, -112831000, -112831000, -112830000, -112830000, -112831500, -112831500, -112833000, -112833000, -112832500, -112832000, -112833500, -112833500, -112833500, -112835000, -112834500, -112836000, -112836000, -112836000, -112835500, -112835500, -112835500, -112837000, -112837000, -112838500, -112838500, -112838500, -112838500, -112838500, -112838500, -112838500, -112840000, -112841500, -112843000, -112844000, -112844000, -112844000, -112845500, -112845500, -112848000, -112848000, -112848000, -112848000, -112848000, -112849500, -112849000, -112850500, -112850500, -112850500, -112852000, -112852000, -112855000, -112856500, -112856500, -112856500, -112856500, -112856500, -112856500, -112856500, -112858000, -112858000, -112859500, -112859500, -112859500, -112859500, -112859500, -112859500, -112859500, -112859500, -112859500, -112862500, -112862500, -112864000, -112865500, -112867000, -112866000, -112866000, -112866000, -112866000, -112866000, -112866000, -112866000, -112866000, -112866000, -112866000, -112867500, -112867500, -112867500, -112867500, -112867500, -112868000, -112868000, -112868000, -112868000, -112871000, -112871000, -112872500, -112872500, -112872500, -112872500, -112874000, -112875500, -112875500, -112877000, -112877000, -112877000, -112877000, -112876500, -112878000, -112877500, -112877000, -112877000, -112877000, -112876500, -112876500, -112879500, -112879000, -112880500, -112880500, -112880500, -112880500, -112880500, -112880000, -112880000, -112881500, -112881500, -112881500, -112881500, -112881500, -112881500, -112881500, -112881500, -112881500, -112881500, -112881500, -112883000, -112886000, -112886000, -112887500, -112887500, -112887500, -112887500, -112887500, -112887500, -112887500, -112887500, -112887500, -112887500, -112887500, -112887000, -112887000, -112886500, -112886500, -112886500, -112886500, -112886500, -112888000, -112889000, -112888500, -112890000, -112890000, -112890000, -112890000, -112890000, -112891500, -112891500, -112891500, -112891500, -112891500, -112891500, -112892500, -112892500, -112894000, -112894000, -112894000, -112894000, -112894000, -112894000, -112893500, -112895000, -112895000, -112895000, -112895000, -112895000, -112895000, -112896500, -112898000, -112899500, -112899500, -112899500, -112899500, -112899500, -112902500, -112902500, -112902500, -112904000, -112904000, -112904000, -112904000, -112904000, -112904000, -112904000, -112904000, -112904000, -112904000, -112903500, -112903500, -112903500, -112905000, -112905000, -112905000, -112905000, -112905000, -112905000, -112905000, -112905000, -112905000, -112905000, -112904500, -112906000, -112906000, -112906000, -112906000, -112906000, -112906000, -112906000, -112905500, -112905500, -112905500, -112905500, -112905500, -112905500, -112905500, -112905500, -112905500, -112905500, -112905500, -112905500, -112905500, -112905500, -112905500, -112905500, -112905500, -112905500, -112905500, -112907000, -112906500, -112908000, -112908000, -112908000, -112908000, -112908000, -112908000, -112908000, -112908000, -112908000, -112908000, -112908000, -112908000, -112908000, -112908000, -112908000, -112908000, -112909500, -112909500, -112909500, -112909500, -112909500, -112909500, -112909500, -112909500, -112909500, -112909500, -112909500, -112909500, -112911000, -112911000, -112911000, -112911000, -112911000, -112911000, -112911000, -112911000, -112911000, -112911000, -112911000, -112911000, -112911000, -112912500, -112912500, -112912500, -112912500, -112912500, -112912500, -112912500, -112912500, -112912500, -112912500, -112912500, -112912500, -112912500, -112912500, -112912500, -112912500, -112912500, -112912500, -112914000, -112915500, -112915500, -112917000, -112917000, -112917000, -112917000, -112917000, -112917000, -112917000, -112917000, -112917000, -112917000, -112917000, -112917000, -112917000, -112917000, -112917000, -112918500, -112918500, -112918500, -112918500, -112918500, -112918500, -112920000, -112920000, -112920000, -112920000, -112921500, -112921500, -112921500, -112921500, -112921500, -112921500, -112921500, -112921500, -112921500, -112921500, -112921500, -112921500, -112921500, -112921500, -112921500, -112921500, -112921500, -112921500, -112921500, -112921500, -112921500, -112923000, -112923000, -112923000, -112923000, -112923000, -112923000, -112923000, -112923000, -112923000, -112923000, -112923000, -112923000, -112923000, -112923000, -112923000, -112923000, -112923000, -112923000, -112923000, -112923000, -112923000, -112923000, -112923000, -112923000, -112923000, -112923000, -112923000, -112923000, -112923000, -112923000, -112923000, -112923000, -112923000, -112923000, -112923000, -112923000, -112924500, -112924500, -112924500, -112924500, -112924500, -112924500, -112924500, -112924500, -112924500, -112924500, -112924500, -112924500, -112924500, -112924500, -112924500, -112924500, -112924500, -112924500, -112924500, -112924500, -112924500, -112924500, -112924500, -112926000, -112926000, -112926000, -112926000, -112926000, -112926000, -112926000, -112926000, -112926000, -112926000, -112926000, -112926000, -112926000, -112926000, -112926000, -112926000, -112926000, -112926000, -112926000, -112927500, -112927500, -112927500, -112927500, -112927500, -112927500, -112927500, -112927500, -112927500, -112927500, -112927500, -112927500, -112927500, -112927500, -112927500, -112927500, -112927500, -112927500, -112927500, -112927500, -112927500, -112927500, -112927500, -112927500, -112927500, -112927500, -112927500, -112927500, -112927500, -112927500, -112927500, -112927500, -112927500, -112927500, -112927500, -112927500, -112927500, -112927500, -112927500, -112927500, -112927500, -112927500, -112927500, -112927500, -112927500, -112927500, -112927500, -112927500, -112927500, -112927500, -112927500, -112927500, -112927500, -112927500, -112927500, -112927500, -112927500, -112927500, -112927500, -112927500, -112927500, -112927500, -112927500, -112927500, -112927500, -112927500, -112927500, -112927500, -112927500, -112927500, -112927500, -112927500, -112927500, -112927500, -112927500, -112927500, -112927500, -112927500, -112927500, -112927500, -112927500, -112927500, -112927500, -112927500, -112927500, -112927500, -112929000, -112929000, -112929000, -112929000, -112929000, -112929000, -112929000, -112929000, -112929000, -112929000, -112929000, -112929000, -112929000, -112929000, -112929000, -112929000, -112929000, -112929000, -112929000, -112929000, -112929000, -112929000, -112929000, -112929000, -112929000, -112929000, -112929000, -112929000, -112929000, -112929000, -112929000, -112929000, -112929000, -112929000, -112929000, -112929000, -112929000, -112929000, -112929000, -112929000, -112929000, -112929000, -112929000, -112929000, -112929000, -112929000, -112929000, -112929000, -112929000, -112929000, -112929000, -112929000, -112929000, -112929000, -112929000, -112929000, -112929000, -112929000, -112929000, -112929000, -112929000, -112929000, -112929000, -112929000, -112929000, -112929000, -112929000, -112929000, -112929000, -112929000, -112929000, -112929000, -112929000, -112929000, -112929000, -112929000, -112929000, -112929000, -112929000, -112929000, -112929000, -112929000, -112929000, -112929000, -112929000, -112929000, -112929000, -112929000, -112929000, -112929000, -112929000, -112929000, -112929000, -112929000, -112929000, -112929000, -112929000, -112929000, -112929000, -112929000, -112929000, -112929000, -112929000, -112929000, -112929000, -112929000, -112929000, -112929000, -112929000, -112929000, -112929000, -112929000, -112929000, -112929000, -112929000, -112929000, -112929000, -112929000, -112929000, -112929000, -112929000, -112929000, -112929000, -112929000, -112929000, -112929000, -112929000, -112929000, -112929000, -112929000, -112929000, -112929000, -112929000, -112929000, -112929000, -112929000, -112929000, -112929000, -112929000, -112929000, -112929000, -112929000, -112929000, -112929000, -112929000, -112929000, -112929000, -112929000, -112929000, -112929000, -112929000, -112929000, -112929000, -112929000, -112929000, -112929000, -112929000, -112929000, -112929000, -112929000, -112929000, -112929000, -112929000, -112929000, -112929000, -112929000, -112929000, -112929000, -112929000, -112929000, -112929000, -112929000, -112929000, -112929000, -112929000, -112929000, -112929000, -112929000, -112929000, -112929000, -112929000, -112929000, -112929000, -112929000, -112929000, -112929000, -112929000, -112929000, -112929000, -112929000, -112929000, -112929000, -112929000, -112929000, -112929000, -112929000, -112929000, -112929000, -112929000, -112929000, -112929000, -112929000, -112929000, -112929000, -112929000, -112929000, -112929000, -112929000, -112929000, -112929000, -112929000, -112929000, -112929000, -112929000, -112929000, -112929000, -112929000, -112929000, -112929000, -112929000, -112929000, -112929000, -112929000, -112929000, -112929000, -112929000, -112929000, -112929000, -112929000, -112929000, -112929000, -112929000, -112929000, -112929000, -112929000, -112929000, -112929000, -112929000, -112929000, -112929000, -112929000, -112929000, -112929000, -112929000, -112929000, -112929000, -112929000, -112929000, -112929000, -112929000, -112929000, -112929000, -112929000, -112929000, -112929000, -112929000, -112929000, -112929000, -112929000, -112929000, -112929000, -112929000, -112929000, -112929000, -112929000, -112929000, -112929000, -112929000, -112929000, -112929000, -112929000, -112929000, -112929000, -112929000, -112929000, -112929000, -112929000, -112929000, -112929000, -112929000, -112929000, -112929000, -112929000, -112929000, -112929000, -112929000, -112929000, -112929000, -112929000, -112929000, -112929000, -112929000, -112929000, -112929000, -112929000, -112929000, -112929000, -112929000, -112929000, -112929000, -112929000, -112929000, -112929000, -112929000, -112929000, -112929000, -112929000, -112929000, -112929000, -112929000, -112929000, -112929000, -112929000, -112929000, -112929000, -112929000, -112929000, -112929000, -112929000, -112929000, -112929000, -112929000, -112929000, -112929000, -112929000, -112929000, -112929000, -112929000, -112929000, -112929000, -112929000, -112929000, -112929000, -112929000, -112929000, -112929000, -112929000, -112929000, -112929000, -112929000, -112929000, -112929000, -112929000, -112929000, -112929000, -112929000, -112929000, -112929000, -112929000, -112929000, -112929000, -112929000, -112929000, -112929000, -112929000, -112929000, -112929000, -112929000, -112929000, -112929000, -112929000, -112929000, -112929000, -112929000, -112929000, -112929000, -112929000, -112929000, -112929000, -112929000, -112929000, -112929000, -112929000, -112929000, -112929000, -112929000, -112929000, -112929000, -112929000, -112929000, -112929000, -112929000, -112929000, -112929000, -112929000, -112929000, -112929000, -112929000, -112929000, -112929000, -112929000, -112929000, -112929000, -112929000, -112929000, -112929000, -112929000, -112929000, -112929000, -112929000, -112929000, -112929000, -112929000, -112929000, -112929000, -112929000, -112929000, -112929000, -112929000, -112929000, -112929000, -112929000, -112929000, -112929000, -112929000, -112929000, -112929000, -112929000, -112929000, -112929000, -112929000, -112929000, -112929000, -112929000, -112929000, -112929000, -112929000, -112929000, -112929000, -112929000, -112929000, -112929000, -112929000, -112929000, -112929000, -112929000, -112929000, -112929000, -112929000, -112929000, -112929000, -112929000, -112929000, -112929000, -112929000, -112929000, -112929000, -112929000, -112929000, -112929000, -112929000, -112929000, -112929000, -112929000, -112929000, -112929000, -112929000, -112929000, -112929000, -112929000, -112929000, -112929000, -112929000, -112929000, -112929000, -112929000, -112929000, -112929000, -112929000, -112929000, -112929000, -112929000, -112929000, -112929000, -112929000, -112929000, -112929000, -112929000, -112929000, -112929000, -112929000, -112929000, -112929000, -112929000, -112929000, -112929000, -112929000, -112929000, -112929000, -112929000, -112929000, -112929000, -112929000, -112929000, -112929000, -112929000, -112929000, -112929000, -112929000, -112929000, -112929000, -112929000, -112929000, -112929000, -112929000, -112929000, -112929000, -112929000, -112929000, -112929000, -112929000, -112929000, -112929000, -112929000, -112929000, -112929000, -112929000, -112929000, -112929000, -112929000, -112929000, -112929000, -112929000, -112929000, -112929000, -112929000, -112929000, -112929000, -112929000, -112929000, -112929000, -112929000, -112929000, -112929000, -112929000, -112929000, -112929000, -112929000, -112929000, -112929000, -112929000, -112929000, -112929000, -112929000, -112929000, -112929000, -112929000, -112929000, -112929000, -112929000, -112929000, -112929000, -112929000, -112929000, -112929000, -112929000, -112929000, -112929000, -112929000, -112929000, -112929000, -112929000, -112929000, -112929000, -112929000, -112929000, -112929000, -112929000, -112929000, -112929000, -112929000, -112929000, -112929000, -112929000, -112929000, -112929000, -112929000, -112929000, -112929000, -112929000, -112929000, -112929000, -112929000, -112929000, -112929000, -112929000, -112929000, -112929000, -112929000, -112929000, -112929000, -112929000, -112929000, -112929000, -112929000, -112929000, -112929000, -112929000, -112929000, -112929000, -112929000, -112929000, -112929000, -112929000, -112929000, -112929000, -112929000, -112929000, -112929000, -112929000, -112929000, -112929000, -112929000, -112929000, -112929000, -112929000, -112929000, -112929000, -112929000, -112929000, -112929000, -112929000, -112929000, -112929000, -112929000, -112929000, -112929000, -112929000, -112929000, -112929000, -112929000, -112929000, -112929000, -112929000, -112929000, -112929000, -112929000, -112929000, -112929000, -112929000, -112929000, -112929000, -112929000, -112929000, -112929000, -112929000, -112929000, -112929000, -112929000, -112929000, -112929000, -112929000, -112929000, -112929000, -112929000, -112929000, -112929000, -112929000, -112929000, -112929000, -112929000, -112929000, -112929000, -112929000, -112929000, -112929000, -112929000, -112929000, -112929000, -112929000, -112929000, -112929000, -112929000, -112929000, -112929000, -112929000, -112929000, -112929000, -112929000, -112929000, -112929000, -112929000, -112929000, -112929000, -112929000, -112929000, -112929000, -112929000, -112929000, -112929000, -112929000, -112929000, -112929000, -112929000, -112929000, -112929000, -112929000, -112929000, -112929000, -112929000, -112929000, -112929000, -112929000, -112929000, -112929000, -112929000, -112929000, -112929000, -112929000, -112929000, -112929000, -112929000, -112929000, -112929000, -112929000, -112929000, -112929000, -112929000, -112929000, -112929000, -112929000, -112929000, -112929000, -112929000, -112929000, -112929000, -112929000, -112929000, -112929000, -112929000, -112929000, -112929000, -112929000, -112929000, -112929000, -112929000, -112929000, -112929000, -112929000, -112929000, -112929000, -112929000, -112929000, -112929000, -112929000, -112929000, -112929000, -112929000, -112929000, -112929000, -112929000, -112929000, -112929000, -112929000, -112929000, -112929000, -112929000, -112929000, -112929000, -112929000, -112929000, -112929000, -112929000, -112929000, -112929000, -112929000, -112929000, -112929000, -112929000, -112929000, -112929000, -112929000, -112929000, -112929000, -112929000, -112929000, -112929000, -112929000, -112929000, -112929000, -112929000, -112929000, -112929000, -112929000, -112929000, -112929000, -112929000, -112929000, -112929000, -112929000, -112929000, -112929000, -112929000, -112929000, -112929000, -112929000, -112929000, -112929000, -112929000, -112929000, -112929000, -112929000, -112929000, -112929000, -112929000, -112929000, -112929000, -112929000, -112929000, -112929000, -112929000, -112929000, -112929000, -112929000, -112929000, -112929000, -112929000, -112929000, -112929000, -112929000, -112929000, -112929000, -112929000, -112929000, -112929000, -112929000, -112929000, -112929000, -112929000, -112929000, -112929000, -112929000, -112929000, -112929000, -112929000, -112929000, -112929000, -112929000, -112929000, -112929000, -112929000, -112929000, -112929000, -112929000, -112929000, -112929000, -112929000, -112929000, -112929000, -112929000, -112929000, -112929000, -112929000, -112929000, -112929000, -112929000, -112929000, -112929000, -112929000, -112929000, -112929000, -112929000, -112929000, -112929000, -112929000, -112929000, -112929000, -112929000, -112929000, -112929000, -112929000, -112929000, -112929000, -112929000, -112929000, -112929000, -112929000, -112929000, -112929000, -112929000, -112929000, -112929000, -112929000, -112929000, -112929000, -112929000, -112929000, -112929000, -112929000, -112929000, -112929000, -112929000, -112929000, -112929000, -112929000, -112929000, -112929000, -112929000, -112929000, -112929000, -112929000, -112929000, -112929000, -112929000, -112929000, -112929000, -112929000, -112929000, -112929000, -112929000, -112929000, -112929000, -112929000, -112929000, -112929000, -112929000, -112929000, -112929000, -112929000, -112929000, -112929000, -112929000, -112929000, -112929000, -112929000, -112929000, -112929000, -112929000, -112929000, -112929000, -112929000, -112929000, -112929000, -112929000, -112929000, -112929000, -112929000, -112929000, -112929000, -112929000, -112929000, -112929000, -112929000, -112929000, -112929000, -112929000, -112929000, -112929000, -112929000, -112929000, -112929000, -112929000, -112929000, -112929000, -112929000, -112929000, -112929000, -112929000, -112929000, -112929000, -112929000, -112929000, -112929000, -112929000, -112929000, -112929000, -112929000, -112929000, -112929000, -112929000, -112929000, -112929000, -112929000, -112929000, -112929000, -112929000, -112929000, -112929000, -112929000, -112929000, -112929000, -112929000, -112929000, -112929000, -112929000, -112929000, -112929000, -112929000, -112929000, -112929000, -112929000, -112929000, -112929000, -112929000, -112929000, -112929000, -112929000, -112929000, -112929000, -112929000, -112929000, -112929000, -112929000, -112929000, -112929000, -112929000, -112929000, -112929000, -112929000, -112929000, -112929000, -112929000, -112929000, -112929000, -112929000, -112929000, -112929000, -112929000, -112929000, -112929000, -112929000, -112929000, -112929000, -112929000, -112929000, -112929000, -112929000, -112929000, -112929000, -112929000, -112929000, -112929000, -112929000, -112929000, -112929000, -112929000, -112929000, -112929000, -112929000, -112929000, -112929000, -112929000, -112929000, -112929000, -112929000, -112929000, -112929000, -112929000, -112929000, -112929000, -112929000, -112929000, -112929000, -112929000, -112929000, -112929000, -112929000, -112929000, -112929000, -112929000, -112929000, -112929000, -112929000, -112929000, -112929000, -112929000, -112929000, -112929000, -112929000, -112929000, -112929000, -112929000, -112929000, -112929000, -112929000, -112929000, -112929000, -112929000, -112929000, -112929000, -112929000, -112929000, -112929000, -112929000, -112929000, -112929000, -112929000, -112929000, -112929000, -112929000, -112929000, -112929000, -112929000, -112929000, -112929000, -112929000, -112929000, -112929000, -112929000, -112929000, -112929000, -112929000, -112929000, -112929000, -112929000, -112929000, -112929000, -112929000, -112929000, -112929000, -112929000, -112929000, -112929000, -112929000, -112929000, -112929000, -112929000, -112929000, -112929000, -112929000, -112929000, -112929000, -112929000, -112929000, -112929000, -112929000, -112929000, -112929000, -112929000, -112929000, -112929000, -112929000, -112929000, -112929000, -112929000, -112929000, -112929000, -112929000, -112929000, -112929000, -112929000, -112929000, -112929000, -112929000, -112929000, -112929000, -112929000, -112929000, -112929000, -112929000, -112929000, -112929000, -112929000, -112929000, -112929000, -112929000, -112929000, -112929000, -112929000, -112929000, -112929000, -112929000, -112929000, -112929000, -112929000, -112929000, -112929000, -112929000, -112929000, -112929000, -112929000, -112929000, -112929000, -112929000, -112929000, -112929000, -112929000, -112929000, -112929000, -112929000, -112929000, -112929000, -112929000, -112929000, -112929000, -112929000, -112929000, -112929000, -112929000, -112929000, -112929000, -112929000, -112929000, -112929000, -112929000, -112929000, -112929000, -112929000, -112929000, -112929000, -112929000, -112929000, -112929000, -112929000, -112929000, -112929000, -112929000, -112929000, -112929000, -112929000, -112929000, -112929000, -112929000, -112929000, -112929000, -112929000, -112929000, -112929000, -112929000, -112929000, -112929000, -112929000, -112929000, -112929000, -112929000, -112929000, -112929000, -112929000, -112929000, -112929000, -112929000, -112929000, -112929000, -112929000, -112929000, -112929000, -112929000, -112929000, -112929000, -112929000, -112929000, -112929000, -112929000, -112929000, -112929000, -112929000, -112929000, -112929000, -112929000, -112929000, -112929000, -112929000, -112929000, -112929000, -112929000, -112929000, -112929000, -112929000, -112929000, -112929000, -112929000, -112929000, -112929000, -112929000, -112929000, -112929000, -112929000, -112929000, -112929000, -112929000, -112929000, -112929000, -112929000, -112929000, -112929000, -112929000, -112929000, -112929000, -112929000, -112929000, -112929000, -112929000, -112929000, -112929000, -112929000, -112929000, -112929000, -112929000, -112929000, -112929000, -112929000, -112929000, -112929000, -112929000, -112929000, -112929000, -112929000, -112929000, -112929000, -112929000, -112929000, -112929000, -112929000, -112929000, -112929000, -112929000, -112929000, -112929000, -112929000, -112929000, -112929000, -112929000, -112929000, -112929000, -112929000, -112929000, -112929000, -112929000, -112929000, -112929000, -112929000, -112929000, -112929000, -112929000, -112929000, -112929000, -112929000, -112929000, -112929000, -112929000, -112929000, -112929000, -112929000, -112929000, -112929000, -112929000, -112929000, -112929000, -112929000, -112929000, -112929000, -112929000, -112929000, -112929000, -112929000, -112929000, -112929000, -112929000, -112929000, -112929000, -112929000, -112929000, -112929000, -112929000, -112929000, -112929000, -112929000, -112929000, -112929000, -112929000, -112929000, -112929000, -112929000, -112929000, -112929000, -112929000, -112929000, -112929000, -112929000, -112929000, -112929000, -112929000, -112929000, -112929000, -112929000, -112929000, -112929000, -112929000, -112929000, -112929000, -112929000, -112929000, -112929000, -112929000, -112929000, -112929000, -112929000, -112929000, -112929000, -112929000, -112929000, -112929000, -112929000, -112929000, -112929000, -112929000, -112929000, -112929000, -112929000, -112929000, -112929000, -112929000, -112929000, -112929000, -112929000, -112929000, -112929000, -112929000, -112929000, -112929000, -112929000, -112929000, -112929000, -112929000, -112929000, -112929000, -112929000, -112929000, -112929000, -112929000, -112929000, -112929000, -112929000, -112929000, -112929000, -112929000, -112929000, -112929000, -112929000, -112929000, -112929000, -112929000, -112929000, -112929000, -112929000, -112929000, -112929000, -112929000, -112929000, -112929000, -112929000, -112929000, -112929000, -112929000, -112929000, -112929000, -112929000, -112929000, -112929000, -112929000, -112929000, -112929000, -112929000, -112929000, -112929000, -112929000, -112929000, -112929000, -112929000, -112929000, -112929000, -112929000, -112929000, -112929000, -112929000, -112929000, -112929000, -112929000, -112929000, -112929000, -112929000, -112929000, -112929000, -112929000, -112929000, -112929000, -112929000, -112929000, -112929000, -112929000, -112929000, -112929000, -112929000, -112929000, -112929000, -112929000, -112929000, -112929000, -112929000, -112929000, -112929000, -112929000, -112929000, -112929000, -112929000, -112929000, -112929000, -112929000, -112929000, -112929000, -112929000, -112929000, -112929000, -112929000, -112929000, -112929000, -112929000, -112929000, -112929000, -112929000, -112929000, -112929000, -112929000, -112929000, -112929000, -112929000, -112929000, -112929000, -112929000, -112929000, -112929000, -112929000, -112929000, -112929000, -112929000, -112929000, -112929000, -112929000, -112929000, -112929000, -112929000, -112929000, -112929000, -112929000, -112929000, -112929000, -112929000, -112929000, -112929000, -112929000, -112929000, -112929000, -112929000, -112929000, -112929000, -112929000, -112929000, -112929000, -112929000, -112929000, -112929000, -112929000, -112929000, -112929000, -112929000, -112929000, -112929000, -112929000, -112929000, -112929000, -112929000, -112929000, -112929000, -112929000, -112929000, -112929000, -112929000, -112929000, -112929000, -112929000, -112929000, -112929000, -112929000, -112929000, -112929000, -112929000, -112929000, -112929000, -112929000, -112929000, -112929000, -112929000, -112929000, -112929000, -112929000, -112929000, -112929000, -112929000, -112929000, -112929000, -112929000, -112929000, -112929000, -112929000, -112929000, -112929000, -112929000, -112929000, -112929000, -112929000, -112929000, -112929000, -112929000, -112929000, -112929000, -112929000, -112929000, -112929000, -112929000, -112929000, -112929000, -112929000, -112929000, -112929000, -112929000, -112929000, -112929000, -112929000, -112929000, -112929000, -112929000, -112929000, -112929000, -112929000, -112929000, -112929000, -112929000, -112929000, -112929000, -112929000, -112929000, -112929000, -112929000, -112929000, -112929000, -112929000, -112929000, -112929000, -112929000, -112929000, -112929000, -112929000, -112929000, -112929000, -112929000, -112929000, -112929000, -112929000, -112929000, -112929000, -112929000, -112929000, -112929000, -112929000, -112929000, -112929000, -112929000, -112929000, -112929000, -112929000, -112929000, -112929000, -112929000, -112929000, -112929000, -112929000, -112929000, -112929000, -112929000, -112929000, -112929000, -112929000, -112929000, -112929000, -112929000, -112929000, -112929000, -112929000, -112929000, -112929000, -112929000, -112929000, -112929000, -112929000, -112929000, -112929000, -112929000, -112929000, -112929000, -112929000, -112929000, -112929000, -112929000, -112929000, -112929000, -112929000, -112929000, -112929000, -112929000, -112929000, -112929000, -112929000, -112929000, -112929000, -112929000, -112929000, -112929000, -112929000, -112929000, -112929000, -112929000, -112929000, -112929000, -112929000, -112929000, -112929000, -112929000, -112929000, -112929000, -112929000, -112929000, -112929000, -112929000, -112929000, -112929000, -112929000, -112929000, -112929000, -112929000, -112929000, -112929000, -112929000, -112929000, -112929000, -112929000, -112929000, -112929000, -112929000, -112929000, -112929000, -112929000, -112929000, -112929000, -112929000, -112929000, -112929000, -112929000, -112929000, -112929000, -112929000, -112929000, -112929000, -112929000, -112929000, -112929000, -112929000, -112929000, -112929000, -112929000, -112929000, -112929000, -112929000, -112929000, -112929000, -112929000, -112929000, -112929000, -112929000, -112929000, -112929000, -112929000, -112929000, -112929000, -112929000, -112929000, -112929000, -112929000, -112929000, -112929000, -112929000, -112929000, -112929000, -112929000, -112929000, -112929000, -112929000, -112929000, -112929000, -112929000, -112929000, -112929000, -112929000, -112929000, -112929000, -112929000, -112929000, -112929000, -112929000, -112929000, -112929000, -112929000, -112929000, -112929000, -112929000, -112929000, -112929000, -112929000, -112929000, -112929000, -112929000, -112929000, -112929000, -112929000, -112929000, -112929000, -112929000, -112929000, -112929000, -112929000, -112929000, -112929000, -112929000, -112929000, -112929000, -112929000, -112929000, -112929000, -112929000, -112929000, -112929000, -112929000, -112929000, -112929000, -112929000, -112929000, -112929000, -112929000, -112929000, -112929000, -112929000, -112929000, -112929000, -112929000, -112929000, -112929000, -112929000, -112929000, -112929000, -112929000, -112929000, -112929000, -112929000, -112929000, -112929000, -112929000, -112929000, -112929000, -112929000, -112929000, -112929000, -112929000, -112929000, -112929000, -112929000, -112929000, -112929000, -112929000, -112929000, -112929000, -112929000, -112929000, -112929000, -112929000, -112929000, -112929000, -112929000, -112929000, -112929000, -112929000, -112929000, -112929000, -112929000, -112929000, -112929000, -112929000, -112929000, -112929000, -112929000, -112929000, -112929000, -112929000, -112929000, -112929000, -112929000, -112929000, -112929000, -112929000, -112929000, -112929000, -112929000, -112929000, -112929000, -112929000, -112929000, -112929000, -112929000, -112929000, -112929000, -112929000], \"yaxis\": \"y\"}],\n",
              "                        {\"legend\": {\"tracegroupgap\": 0}, \"margin\": {\"t\": 60}, \"plot_bgcolor\": \"rgb(245,245,245)\", \"shapes\": [{\"line\": {\"color\": \"red\", \"width\": 2}, \"type\": \"line\", \"x0\": 0.29710000000000003, \"x1\": 0.29710000000000003, \"y0\": -112929000, \"y1\": -36142500}], \"template\": {\"data\": {\"bar\": [{\"error_x\": {\"color\": \"#2a3f5f\"}, \"error_y\": {\"color\": \"#2a3f5f\"}, \"marker\": {\"line\": {\"color\": \"#E5ECF6\", \"width\": 0.5}}, \"type\": \"bar\"}], \"barpolar\": [{\"marker\": {\"line\": {\"color\": \"#E5ECF6\", \"width\": 0.5}}, \"type\": \"barpolar\"}], \"carpet\": [{\"aaxis\": {\"endlinecolor\": \"#2a3f5f\", \"gridcolor\": \"white\", \"linecolor\": \"white\", \"minorgridcolor\": \"white\", \"startlinecolor\": \"#2a3f5f\"}, \"baxis\": {\"endlinecolor\": \"#2a3f5f\", \"gridcolor\": \"white\", \"linecolor\": \"white\", \"minorgridcolor\": \"white\", \"startlinecolor\": \"#2a3f5f\"}, \"type\": \"carpet\"}], \"choropleth\": [{\"colorbar\": {\"outlinewidth\": 0, \"ticks\": \"\"}, \"type\": \"choropleth\"}], \"contour\": [{\"colorbar\": {\"outlinewidth\": 0, \"ticks\": \"\"}, \"colorscale\": [[0.0, \"#0d0887\"], [0.1111111111111111, \"#46039f\"], [0.2222222222222222, \"#7201a8\"], [0.3333333333333333, \"#9c179e\"], [0.4444444444444444, \"#bd3786\"], [0.5555555555555556, \"#d8576b\"], [0.6666666666666666, \"#ed7953\"], [0.7777777777777778, \"#fb9f3a\"], [0.8888888888888888, \"#fdca26\"], [1.0, \"#f0f921\"]], \"type\": \"contour\"}], \"contourcarpet\": [{\"colorbar\": {\"outlinewidth\": 0, \"ticks\": \"\"}, \"type\": \"contourcarpet\"}], \"heatmap\": [{\"colorbar\": {\"outlinewidth\": 0, \"ticks\": \"\"}, \"colorscale\": [[0.0, \"#0d0887\"], [0.1111111111111111, \"#46039f\"], [0.2222222222222222, \"#7201a8\"], [0.3333333333333333, \"#9c179e\"], [0.4444444444444444, \"#bd3786\"], [0.5555555555555556, \"#d8576b\"], [0.6666666666666666, \"#ed7953\"], [0.7777777777777778, \"#fb9f3a\"], [0.8888888888888888, \"#fdca26\"], [1.0, \"#f0f921\"]], \"type\": \"heatmap\"}], \"heatmapgl\": [{\"colorbar\": {\"outlinewidth\": 0, \"ticks\": \"\"}, \"colorscale\": [[0.0, \"#0d0887\"], [0.1111111111111111, \"#46039f\"], [0.2222222222222222, \"#7201a8\"], [0.3333333333333333, \"#9c179e\"], [0.4444444444444444, \"#bd3786\"], [0.5555555555555556, \"#d8576b\"], [0.6666666666666666, \"#ed7953\"], [0.7777777777777778, \"#fb9f3a\"], [0.8888888888888888, \"#fdca26\"], [1.0, \"#f0f921\"]], \"type\": \"heatmapgl\"}], \"histogram\": [{\"marker\": {\"colorbar\": {\"outlinewidth\": 0, \"ticks\": \"\"}}, \"type\": \"histogram\"}], \"histogram2d\": [{\"colorbar\": {\"outlinewidth\": 0, \"ticks\": \"\"}, \"colorscale\": [[0.0, \"#0d0887\"], [0.1111111111111111, \"#46039f\"], [0.2222222222222222, \"#7201a8\"], [0.3333333333333333, \"#9c179e\"], [0.4444444444444444, \"#bd3786\"], [0.5555555555555556, \"#d8576b\"], [0.6666666666666666, \"#ed7953\"], [0.7777777777777778, \"#fb9f3a\"], [0.8888888888888888, \"#fdca26\"], [1.0, \"#f0f921\"]], \"type\": \"histogram2d\"}], \"histogram2dcontour\": [{\"colorbar\": {\"outlinewidth\": 0, \"ticks\": \"\"}, \"colorscale\": [[0.0, \"#0d0887\"], [0.1111111111111111, \"#46039f\"], [0.2222222222222222, \"#7201a8\"], [0.3333333333333333, \"#9c179e\"], [0.4444444444444444, \"#bd3786\"], [0.5555555555555556, \"#d8576b\"], [0.6666666666666666, \"#ed7953\"], [0.7777777777777778, \"#fb9f3a\"], [0.8888888888888888, \"#fdca26\"], [1.0, \"#f0f921\"]], \"type\": \"histogram2dcontour\"}], \"mesh3d\": [{\"colorbar\": {\"outlinewidth\": 0, \"ticks\": \"\"}, \"type\": \"mesh3d\"}], \"parcoords\": [{\"line\": {\"colorbar\": {\"outlinewidth\": 0, \"ticks\": \"\"}}, \"type\": \"parcoords\"}], \"pie\": [{\"automargin\": true, \"type\": \"pie\"}], \"scatter\": [{\"marker\": {\"colorbar\": {\"outlinewidth\": 0, \"ticks\": \"\"}}, \"type\": \"scatter\"}], \"scatter3d\": [{\"line\": {\"colorbar\": {\"outlinewidth\": 0, \"ticks\": \"\"}}, \"marker\": {\"colorbar\": {\"outlinewidth\": 0, \"ticks\": \"\"}}, \"type\": \"scatter3d\"}], \"scattercarpet\": [{\"marker\": {\"colorbar\": {\"outlinewidth\": 0, \"ticks\": \"\"}}, \"type\": \"scattercarpet\"}], \"scattergeo\": [{\"marker\": {\"colorbar\": {\"outlinewidth\": 0, \"ticks\": \"\"}}, \"type\": \"scattergeo\"}], \"scattergl\": [{\"marker\": {\"colorbar\": {\"outlinewidth\": 0, \"ticks\": \"\"}}, \"type\": \"scattergl\"}], \"scattermapbox\": [{\"marker\": {\"colorbar\": {\"outlinewidth\": 0, \"ticks\": \"\"}}, \"type\": \"scattermapbox\"}], \"scatterpolar\": [{\"marker\": {\"colorbar\": {\"outlinewidth\": 0, \"ticks\": \"\"}}, \"type\": \"scatterpolar\"}], \"scatterpolargl\": [{\"marker\": {\"colorbar\": {\"outlinewidth\": 0, \"ticks\": \"\"}}, \"type\": \"scatterpolargl\"}], \"scatterternary\": [{\"marker\": {\"colorbar\": {\"outlinewidth\": 0, \"ticks\": \"\"}}, \"type\": \"scatterternary\"}], \"surface\": [{\"colorbar\": {\"outlinewidth\": 0, \"ticks\": \"\"}, \"colorscale\": [[0.0, \"#0d0887\"], [0.1111111111111111, \"#46039f\"], [0.2222222222222222, \"#7201a8\"], [0.3333333333333333, \"#9c179e\"], [0.4444444444444444, \"#bd3786\"], [0.5555555555555556, \"#d8576b\"], [0.6666666666666666, \"#ed7953\"], [0.7777777777777778, \"#fb9f3a\"], [0.8888888888888888, \"#fdca26\"], [1.0, \"#f0f921\"]], \"type\": \"surface\"}], \"table\": [{\"cells\": {\"fill\": {\"color\": \"#EBF0F8\"}, \"line\": {\"color\": \"white\"}}, \"header\": {\"fill\": {\"color\": \"#C8D4E3\"}, \"line\": {\"color\": \"white\"}}, \"type\": \"table\"}]}, \"layout\": {\"annotationdefaults\": {\"arrowcolor\": \"#2a3f5f\", \"arrowhead\": 0, \"arrowwidth\": 1}, \"coloraxis\": {\"colorbar\": {\"outlinewidth\": 0, \"ticks\": \"\"}}, \"colorscale\": {\"diverging\": [[0, \"#8e0152\"], [0.1, \"#c51b7d\"], [0.2, \"#de77ae\"], [0.3, \"#f1b6da\"], [0.4, \"#fde0ef\"], [0.5, \"#f7f7f7\"], [0.6, \"#e6f5d0\"], [0.7, \"#b8e186\"], [0.8, \"#7fbc41\"], [0.9, \"#4d9221\"], [1, \"#276419\"]], \"sequential\": [[0.0, \"#0d0887\"], [0.1111111111111111, \"#46039f\"], [0.2222222222222222, \"#7201a8\"], [0.3333333333333333, \"#9c179e\"], [0.4444444444444444, \"#bd3786\"], [0.5555555555555556, \"#d8576b\"], [0.6666666666666666, \"#ed7953\"], [0.7777777777777778, \"#fb9f3a\"], [0.8888888888888888, \"#fdca26\"], [1.0, \"#f0f921\"]], \"sequentialminus\": [[0.0, \"#0d0887\"], [0.1111111111111111, \"#46039f\"], [0.2222222222222222, \"#7201a8\"], [0.3333333333333333, \"#9c179e\"], [0.4444444444444444, \"#bd3786\"], [0.5555555555555556, \"#d8576b\"], [0.6666666666666666, \"#ed7953\"], [0.7777777777777778, \"#fb9f3a\"], [0.8888888888888888, \"#fdca26\"], [1.0, \"#f0f921\"]]}, \"colorway\": [\"#636efa\", \"#EF553B\", \"#00cc96\", \"#ab63fa\", \"#FFA15A\", \"#19d3f3\", \"#FF6692\", \"#B6E880\", \"#FF97FF\", \"#FECB52\"], \"font\": {\"color\": \"#2a3f5f\"}, \"geo\": {\"bgcolor\": \"white\", \"lakecolor\": \"white\", \"landcolor\": \"#E5ECF6\", \"showlakes\": true, \"showland\": true, \"subunitcolor\": \"white\"}, \"hoverlabel\": {\"align\": \"left\"}, \"hovermode\": \"closest\", \"mapbox\": {\"style\": \"light\"}, \"paper_bgcolor\": \"white\", \"plot_bgcolor\": \"#E5ECF6\", \"polar\": {\"angularaxis\": {\"gridcolor\": \"white\", \"linecolor\": \"white\", \"ticks\": \"\"}, \"bgcolor\": \"#E5ECF6\", \"radialaxis\": {\"gridcolor\": \"white\", \"linecolor\": \"white\", \"ticks\": \"\"}}, \"scene\": {\"xaxis\": {\"backgroundcolor\": \"#E5ECF6\", \"gridcolor\": \"white\", \"gridwidth\": 2, \"linecolor\": \"white\", \"showbackground\": true, \"ticks\": \"\", \"zerolinecolor\": \"white\"}, \"yaxis\": {\"backgroundcolor\": \"#E5ECF6\", \"gridcolor\": \"white\", \"gridwidth\": 2, \"linecolor\": \"white\", \"showbackground\": true, \"ticks\": \"\", \"zerolinecolor\": \"white\"}, \"zaxis\": {\"backgroundcolor\": \"#E5ECF6\", \"gridcolor\": \"white\", \"gridwidth\": 2, \"linecolor\": \"white\", \"showbackground\": true, \"ticks\": \"\", \"zerolinecolor\": \"white\"}}, \"shapedefaults\": {\"line\": {\"color\": \"#2a3f5f\"}}, \"ternary\": {\"aaxis\": {\"gridcolor\": \"white\", \"linecolor\": \"white\", \"ticks\": \"\"}, \"baxis\": {\"gridcolor\": \"white\", \"linecolor\": \"white\", \"ticks\": \"\"}, \"bgcolor\": \"#E5ECF6\", \"caxis\": {\"gridcolor\": \"white\", \"linecolor\": \"white\", \"ticks\": \"\"}}, \"title\": {\"x\": 0.05}, \"xaxis\": {\"automargin\": true, \"gridcolor\": \"white\", \"linecolor\": \"white\", \"ticks\": \"\", \"title\": {\"standoff\": 15}, \"zerolinecolor\": \"white\", \"zerolinewidth\": 2}, \"yaxis\": {\"automargin\": true, \"gridcolor\": \"white\", \"linecolor\": \"white\", \"ticks\": \"\", \"title\": {\"standoff\": 15}, \"zerolinecolor\": \"white\", \"zerolinewidth\": 2}}}, \"title\": {\"text\": \"CatBoost Classifier Probability Threshold Optimization\", \"x\": 0.45, \"xanchor\": \"center\", \"y\": 0.95, \"yanchor\": \"top\"}, \"xaxis\": {\"anchor\": \"y\", \"domain\": [0.0, 1.0], \"title\": {\"text\": \"Probability Threshold\"}}, \"yaxis\": {\"anchor\": \"x\", \"domain\": [0.0, 1.0], \"title\": {\"text\": \"Cost Function\"}}},\n",
              "                        {\"responsive\": true}\n",
              "                    ).then(function(){\n",
              "                            \n",
              "var gd = document.getElementById('d2aad322-1aeb-4f7d-ae63-7db1108fbbd9');\n",
              "var x = new MutationObserver(function (mutations, observer) {{\n",
              "        var display = window.getComputedStyle(gd).display;\n",
              "        if (!display || display === 'none') {{\n",
              "            console.log([gd, 'removed!']);\n",
              "            Plotly.purge(gd);\n",
              "            observer.disconnect();\n",
              "        }}\n",
              "}});\n",
              "\n",
              "// Listen for the removal of the full notebook cells\n",
              "var notebookContainer = gd.closest('#notebook-container');\n",
              "if (notebookContainer) {{\n",
              "    x.observe(notebookContainer, {childList: true});\n",
              "}}\n",
              "\n",
              "// Listen for the clearing of the current output cell\n",
              "var outputEl = gd.closest('.output');\n",
              "if (outputEl) {{\n",
              "    x.observe(outputEl, {childList: true});\n",
              "}}\n",
              "\n",
              "                        })\n",
              "                };\n",
              "                \n",
              "            </script>\n",
              "        </div>\n",
              "</body>\n",
              "</html>"
            ]
          },
          "metadata": {}
        },
        {
          "output_type": "stream",
          "name": "stdout",
          "text": [
            "Optimized Probability Threshold: 0.29710000000000003 | Optimized Cost Function: -36142500\n"
          ]
        },
        {
          "output_type": "execute_result",
          "data": {
            "text/plain": [
              "0.29710000000000003"
            ]
          },
          "metadata": {},
          "execution_count": 57
        }
      ]
    },
    {
      "cell_type": "markdown",
      "metadata": {
        "id": "u_4RREnX6N3Z"
      },
      "source": [
        "## train 예측, F1 자체평가"
      ]
    },
    {
      "cell_type": "code",
      "source": [
        "from pycaret.utils import check_metric"
      ],
      "metadata": {
        "id": "9mfBut9eEg12",
        "colab": {
          "base_uri": "https://localhost:8080/",
          "height": 17
        },
        "outputId": "a825637d-ccab-4f21-c882-8087dd09ee2f"
      },
      "execution_count": 58,
      "outputs": [
        {
          "output_type": "display_data",
          "data": {
            "text/html": [
              "\n",
              "  <style>\n",
              "    pre {\n",
              "        white-space: pre-wrap;\n",
              "    }\n",
              "  </style>\n",
              "  "
            ],
            "text/plain": [
              "<IPython.core.display.HTML object>"
            ]
          },
          "metadata": {}
        }
      ]
    },
    {
      "cell_type": "code",
      "execution_count": 59,
      "metadata": {
        "id": "-sgfDsm36N3Z",
        "colab": {
          "base_uri": "https://localhost:8080/",
          "height": 35
        },
        "outputId": "e0101f39-6a79-40d7-f098-f14f7899237b"
      },
      "outputs": [
        {
          "output_type": "display_data",
          "data": {
            "text/html": [
              "\n",
              "  <style>\n",
              "    pre {\n",
              "        white-space: pre-wrap;\n",
              "    }\n",
              "  </style>\n",
              "  "
            ],
            "text/plain": [
              "<IPython.core.display.HTML object>"
            ]
          },
          "metadata": {}
        },
        {
          "output_type": "execute_result",
          "data": {
            "text/plain": [
              "0.6816"
            ]
          },
          "metadata": {},
          "execution_count": 59
        }
      ],
      "source": [
        "th = 0.2971\n",
        "train_pred = predict_model(model, train, probability_threshold=th)\n",
        "check_metric(train['target'], train_pred['Label'], metric = 'F1')\n",
        "# fn, fp = -1500, -500 -> 0.2971/0.6816"
      ]
    },
    {
      "cell_type": "markdown",
      "metadata": {
        "id": "0R8HUSfi6N3a"
      },
      "source": [
        "## test 예측"
      ]
    },
    {
      "cell_type": "code",
      "execution_count": 60,
      "metadata": {
        "id": "IPAlRFrMxMuU",
        "colab": {
          "base_uri": "https://localhost:8080/",
          "height": 17
        },
        "outputId": "d268d92c-8c74-4654-8607-85063228aeb3"
      },
      "outputs": [
        {
          "output_type": "display_data",
          "data": {
            "text/html": [
              "\n",
              "  <style>\n",
              "    pre {\n",
              "        white-space: pre-wrap;\n",
              "    }\n",
              "  </style>\n",
              "  "
            ],
            "text/plain": [
              "<IPython.core.display.HTML object>"
            ]
          },
          "metadata": {}
        }
      ],
      "source": [
        "# 예측\n",
        "pred = predict_model(model, test, probability_threshold=th)"
      ]
    },
    {
      "cell_type": "code",
      "execution_count": 61,
      "metadata": {
        "colab": {
          "base_uri": "https://localhost:8080/",
          "height": 677
        },
        "id": "LpNZkdSYIoC8",
        "outputId": "eb310c83-07aa-4150-b61b-d58daa196aeb"
      },
      "outputs": [
        {
          "output_type": "display_data",
          "data": {
            "text/html": [
              "\n",
              "  <style>\n",
              "    pre {\n",
              "        white-space: pre-wrap;\n",
              "    }\n",
              "  </style>\n",
              "  "
            ],
            "text/plain": [
              "<IPython.core.display.HTML object>"
            ]
          },
          "metadata": {}
        },
        {
          "output_type": "execute_result",
          "data": {
            "text/html": [
              "\n",
              "  <div id=\"df-8da59ddc-1d7e-4597-9f0e-0b4ba5f6306d\">\n",
              "    <div class=\"colab-df-container\">\n",
              "      <div>\n",
              "<style scoped>\n",
              "    .dataframe tbody tr th:only-of-type {\n",
              "        vertical-align: middle;\n",
              "    }\n",
              "\n",
              "    .dataframe tbody tr th {\n",
              "        vertical-align: top;\n",
              "    }\n",
              "\n",
              "    .dataframe thead th {\n",
              "        text-align: right;\n",
              "    }\n",
              "</style>\n",
              "<table border=\"1\" class=\"dataframe\">\n",
              "  <thead>\n",
              "    <tr style=\"text-align: right;\">\n",
              "      <th></th>\n",
              "      <th>Label</th>\n",
              "      <th>Score</th>\n",
              "    </tr>\n",
              "  </thead>\n",
              "  <tbody>\n",
              "    <tr>\n",
              "      <th>0</th>\n",
              "      <td>1</td>\n",
              "      <td>0.4792</td>\n",
              "    </tr>\n",
              "    <tr>\n",
              "      <th>1</th>\n",
              "      <td>1</td>\n",
              "      <td>0.4131</td>\n",
              "    </tr>\n",
              "    <tr>\n",
              "      <th>2</th>\n",
              "      <td>1</td>\n",
              "      <td>0.4504</td>\n",
              "    </tr>\n",
              "    <tr>\n",
              "      <th>3</th>\n",
              "      <td>1</td>\n",
              "      <td>0.5577</td>\n",
              "    </tr>\n",
              "    <tr>\n",
              "      <th>4</th>\n",
              "      <td>1</td>\n",
              "      <td>0.5346</td>\n",
              "    </tr>\n",
              "    <tr>\n",
              "      <th>5</th>\n",
              "      <td>0</td>\n",
              "      <td>0.7658</td>\n",
              "    </tr>\n",
              "    <tr>\n",
              "      <th>6</th>\n",
              "      <td>1</td>\n",
              "      <td>0.5172</td>\n",
              "    </tr>\n",
              "    <tr>\n",
              "      <th>7</th>\n",
              "      <td>0</td>\n",
              "      <td>0.7420</td>\n",
              "    </tr>\n",
              "    <tr>\n",
              "      <th>8</th>\n",
              "      <td>1</td>\n",
              "      <td>0.5057</td>\n",
              "    </tr>\n",
              "    <tr>\n",
              "      <th>9</th>\n",
              "      <td>1</td>\n",
              "      <td>0.4505</td>\n",
              "    </tr>\n",
              "    <tr>\n",
              "      <th>10</th>\n",
              "      <td>1</td>\n",
              "      <td>0.5481</td>\n",
              "    </tr>\n",
              "    <tr>\n",
              "      <th>11</th>\n",
              "      <td>1</td>\n",
              "      <td>0.5471</td>\n",
              "    </tr>\n",
              "    <tr>\n",
              "      <th>12</th>\n",
              "      <td>1</td>\n",
              "      <td>0.3360</td>\n",
              "    </tr>\n",
              "    <tr>\n",
              "      <th>13</th>\n",
              "      <td>1</td>\n",
              "      <td>0.4431</td>\n",
              "    </tr>\n",
              "    <tr>\n",
              "      <th>14</th>\n",
              "      <td>1</td>\n",
              "      <td>0.4411</td>\n",
              "    </tr>\n",
              "    <tr>\n",
              "      <th>15</th>\n",
              "      <td>1</td>\n",
              "      <td>0.5236</td>\n",
              "    </tr>\n",
              "    <tr>\n",
              "      <th>16</th>\n",
              "      <td>0</td>\n",
              "      <td>0.8261</td>\n",
              "    </tr>\n",
              "    <tr>\n",
              "      <th>17</th>\n",
              "      <td>1</td>\n",
              "      <td>0.5892</td>\n",
              "    </tr>\n",
              "    <tr>\n",
              "      <th>18</th>\n",
              "      <td>1</td>\n",
              "      <td>0.3485</td>\n",
              "    </tr>\n",
              "    <tr>\n",
              "      <th>19</th>\n",
              "      <td>1</td>\n",
              "      <td>0.4989</td>\n",
              "    </tr>\n",
              "  </tbody>\n",
              "</table>\n",
              "</div>\n",
              "      <button class=\"colab-df-convert\" onclick=\"convertToInteractive('df-8da59ddc-1d7e-4597-9f0e-0b4ba5f6306d')\"\n",
              "              title=\"Convert this dataframe to an interactive table.\"\n",
              "              style=\"display:none;\">\n",
              "        \n",
              "  <svg xmlns=\"http://www.w3.org/2000/svg\" height=\"24px\"viewBox=\"0 0 24 24\"\n",
              "       width=\"24px\">\n",
              "    <path d=\"M0 0h24v24H0V0z\" fill=\"none\"/>\n",
              "    <path d=\"M18.56 5.44l.94 2.06.94-2.06 2.06-.94-2.06-.94-.94-2.06-.94 2.06-2.06.94zm-11 1L8.5 8.5l.94-2.06 2.06-.94-2.06-.94L8.5 2.5l-.94 2.06-2.06.94zm10 10l.94 2.06.94-2.06 2.06-.94-2.06-.94-.94-2.06-.94 2.06-2.06.94z\"/><path d=\"M17.41 7.96l-1.37-1.37c-.4-.4-.92-.59-1.43-.59-.52 0-1.04.2-1.43.59L10.3 9.45l-7.72 7.72c-.78.78-.78 2.05 0 2.83L4 21.41c.39.39.9.59 1.41.59.51 0 1.02-.2 1.41-.59l7.78-7.78 2.81-2.81c.8-.78.8-2.07 0-2.86zM5.41 20L4 18.59l7.72-7.72 1.47 1.35L5.41 20z\"/>\n",
              "  </svg>\n",
              "      </button>\n",
              "      \n",
              "  <style>\n",
              "    .colab-df-container {\n",
              "      display:flex;\n",
              "      flex-wrap:wrap;\n",
              "      gap: 12px;\n",
              "    }\n",
              "\n",
              "    .colab-df-convert {\n",
              "      background-color: #E8F0FE;\n",
              "      border: none;\n",
              "      border-radius: 50%;\n",
              "      cursor: pointer;\n",
              "      display: none;\n",
              "      fill: #1967D2;\n",
              "      height: 32px;\n",
              "      padding: 0 0 0 0;\n",
              "      width: 32px;\n",
              "    }\n",
              "\n",
              "    .colab-df-convert:hover {\n",
              "      background-color: #E2EBFA;\n",
              "      box-shadow: 0px 1px 2px rgba(60, 64, 67, 0.3), 0px 1px 3px 1px rgba(60, 64, 67, 0.15);\n",
              "      fill: #174EA6;\n",
              "    }\n",
              "\n",
              "    [theme=dark] .colab-df-convert {\n",
              "      background-color: #3B4455;\n",
              "      fill: #D2E3FC;\n",
              "    }\n",
              "\n",
              "    [theme=dark] .colab-df-convert:hover {\n",
              "      background-color: #434B5C;\n",
              "      box-shadow: 0px 1px 3px 1px rgba(0, 0, 0, 0.15);\n",
              "      filter: drop-shadow(0px 1px 2px rgba(0, 0, 0, 0.3));\n",
              "      fill: #FFFFFF;\n",
              "    }\n",
              "  </style>\n",
              "\n",
              "      <script>\n",
              "        const buttonEl =\n",
              "          document.querySelector('#df-8da59ddc-1d7e-4597-9f0e-0b4ba5f6306d button.colab-df-convert');\n",
              "        buttonEl.style.display =\n",
              "          google.colab.kernel.accessAllowed ? 'block' : 'none';\n",
              "\n",
              "        async function convertToInteractive(key) {\n",
              "          const element = document.querySelector('#df-8da59ddc-1d7e-4597-9f0e-0b4ba5f6306d');\n",
              "          const dataTable =\n",
              "            await google.colab.kernel.invokeFunction('convertToInteractive',\n",
              "                                                     [key], {});\n",
              "          if (!dataTable) return;\n",
              "\n",
              "          const docLinkHtml = 'Like what you see? Visit the ' +\n",
              "            '<a target=\"_blank\" href=https://colab.research.google.com/notebooks/data_table.ipynb>data table notebook</a>'\n",
              "            + ' to learn more about interactive tables.';\n",
              "          element.innerHTML = '';\n",
              "          dataTable['output_type'] = 'display_data';\n",
              "          await google.colab.output.renderOutput(dataTable, element);\n",
              "          const docLink = document.createElement('div');\n",
              "          docLink.innerHTML = docLinkHtml;\n",
              "          element.appendChild(docLink);\n",
              "        }\n",
              "      </script>\n",
              "    </div>\n",
              "  </div>\n",
              "  "
            ],
            "text/plain": [
              "    Label   Score\n",
              "0       1  0.4792\n",
              "1       1  0.4131\n",
              "2       1  0.4504\n",
              "3       1  0.5577\n",
              "4       1  0.5346\n",
              "5       0  0.7658\n",
              "6       1  0.5172\n",
              "7       0  0.7420\n",
              "8       1  0.5057\n",
              "9       1  0.4505\n",
              "10      1  0.5481\n",
              "11      1  0.5471\n",
              "12      1  0.3360\n",
              "13      1  0.4431\n",
              "14      1  0.4411\n",
              "15      1  0.5236\n",
              "16      0  0.8261\n",
              "17      1  0.5892\n",
              "18      1  0.3485\n",
              "19      1  0.4989"
            ]
          },
          "metadata": {},
          "execution_count": 61
        }
      ],
      "source": [
        "pred.iloc[:,-2:].head(20)"
      ]
    },
    {
      "cell_type": "code",
      "execution_count": 62,
      "metadata": {
        "colab": {
          "base_uri": "https://localhost:8080/",
          "height": 237
        },
        "id": "Vm067syqskOy",
        "outputId": "ae0ae499-3277-4252-815f-2a868bd3e0a0"
      },
      "outputs": [
        {
          "output_type": "display_data",
          "data": {
            "text/html": [
              "\n",
              "  <style>\n",
              "    pre {\n",
              "        white-space: pre-wrap;\n",
              "    }\n",
              "  </style>\n",
              "  "
            ],
            "text/plain": [
              "<IPython.core.display.HTML object>"
            ]
          },
          "metadata": {}
        },
        {
          "output_type": "execute_result",
          "data": {
            "text/plain": [
              "0        1\n",
              "1        1\n",
              "2        1\n",
              "3        1\n",
              "4        1\n",
              "        ..\n",
              "46399    1\n",
              "46400    1\n",
              "46401    1\n",
              "46402    1\n",
              "46403    1\n",
              "Name: Label, Length: 46404, dtype: int64"
            ]
          },
          "metadata": {},
          "execution_count": 62
        }
      ],
      "source": [
        "pred['Label']"
      ]
    },
    {
      "cell_type": "code",
      "execution_count": 63,
      "metadata": {
        "colab": {
          "base_uri": "https://localhost:8080/",
          "height": 72
        },
        "id": "dXGGJ2okIoC8",
        "outputId": "5cb45282-623d-4254-8d55-ac3adb236328"
      },
      "outputs": [
        {
          "output_type": "display_data",
          "data": {
            "text/html": [
              "\n",
              "  <style>\n",
              "    pre {\n",
              "        white-space: pre-wrap;\n",
              "    }\n",
              "  </style>\n",
              "  "
            ],
            "text/plain": [
              "<IPython.core.display.HTML object>"
            ]
          },
          "metadata": {}
        },
        {
          "output_type": "execute_result",
          "data": {
            "text/plain": [
              "1    43102\n",
              "0     3302\n",
              "Name: Label, dtype: int64"
            ]
          },
          "metadata": {},
          "execution_count": 63
        }
      ],
      "source": [
        "pred['Label'].value_counts()"
      ]
    },
    {
      "cell_type": "markdown",
      "metadata": {
        "id": "_Pj2Qhx1IoC9"
      },
      "source": [
        "# 제출파일 불러오기"
      ]
    },
    {
      "cell_type": "code",
      "execution_count": 64,
      "metadata": {
        "colab": {
          "base_uri": "https://localhost:8080/",
          "height": 182
        },
        "id": "4XIcksC_skOz",
        "outputId": "a7cbaa42-4962-467b-9ab8-82d0441f48ce"
      },
      "outputs": [
        {
          "output_type": "display_data",
          "data": {
            "text/html": [
              "\n",
              "  <style>\n",
              "    pre {\n",
              "        white-space: pre-wrap;\n",
              "    }\n",
              "  </style>\n",
              "  "
            ],
            "text/plain": [
              "<IPython.core.display.HTML object>"
            ]
          },
          "metadata": {}
        },
        {
          "output_type": "stream",
          "name": "stdout",
          "text": [
            "<class 'pandas.core.frame.DataFrame'>\n",
            "RangeIndex: 46404 entries, 0 to 46403\n",
            "Data columns (total 2 columns):\n",
            " #   Column  Non-Null Count  Dtype\n",
            "---  ------  --------------  -----\n",
            " 0   id      46404 non-null  int64\n",
            " 1   target  46404 non-null  int64\n",
            "dtypes: int64(2)\n",
            "memory usage: 725.2 KB\n"
          ]
        }
      ],
      "source": [
        "# sub = pd.read_csv('../data/sample_submission.csv')\n",
        "sub = pd.read_csv('/content/drive/MyDrive/GitHub/Dacon/TP2(잡케어)/data/sample_submission.csv')\n",
        "sub.info()"
      ]
    },
    {
      "cell_type": "code",
      "execution_count": 36,
      "metadata": {
        "colab": {
          "base_uri": "https://localhost:8080/",
          "height": 206
        },
        "id": "Z8LAl0BVskOz",
        "outputId": "ec168830-d6a7-443e-deed-62348b580dba"
      },
      "outputs": [
        {
          "output_type": "display_data",
          "data": {
            "text/html": [
              "\n",
              "  <style>\n",
              "    pre {\n",
              "        white-space: pre-wrap;\n",
              "    }\n",
              "  </style>\n",
              "  "
            ],
            "text/plain": [
              "<IPython.core.display.HTML object>"
            ]
          },
          "metadata": {}
        },
        {
          "output_type": "execute_result",
          "data": {
            "text/html": [
              "\n",
              "  <div id=\"df-d2524fec-2249-417e-8bd2-a7c37611676a\">\n",
              "    <div class=\"colab-df-container\">\n",
              "      <div>\n",
              "<style scoped>\n",
              "    .dataframe tbody tr th:only-of-type {\n",
              "        vertical-align: middle;\n",
              "    }\n",
              "\n",
              "    .dataframe tbody tr th {\n",
              "        vertical-align: top;\n",
              "    }\n",
              "\n",
              "    .dataframe thead th {\n",
              "        text-align: right;\n",
              "    }\n",
              "</style>\n",
              "<table border=\"1\" class=\"dataframe\">\n",
              "  <thead>\n",
              "    <tr style=\"text-align: right;\">\n",
              "      <th></th>\n",
              "      <th>id</th>\n",
              "      <th>target</th>\n",
              "    </tr>\n",
              "  </thead>\n",
              "  <tbody>\n",
              "    <tr>\n",
              "      <th>0</th>\n",
              "      <td>0</td>\n",
              "      <td>0</td>\n",
              "    </tr>\n",
              "    <tr>\n",
              "      <th>1</th>\n",
              "      <td>1</td>\n",
              "      <td>0</td>\n",
              "    </tr>\n",
              "    <tr>\n",
              "      <th>2</th>\n",
              "      <td>2</td>\n",
              "      <td>0</td>\n",
              "    </tr>\n",
              "    <tr>\n",
              "      <th>3</th>\n",
              "      <td>3</td>\n",
              "      <td>0</td>\n",
              "    </tr>\n",
              "    <tr>\n",
              "      <th>4</th>\n",
              "      <td>4</td>\n",
              "      <td>0</td>\n",
              "    </tr>\n",
              "  </tbody>\n",
              "</table>\n",
              "</div>\n",
              "      <button class=\"colab-df-convert\" onclick=\"convertToInteractive('df-d2524fec-2249-417e-8bd2-a7c37611676a')\"\n",
              "              title=\"Convert this dataframe to an interactive table.\"\n",
              "              style=\"display:none;\">\n",
              "        \n",
              "  <svg xmlns=\"http://www.w3.org/2000/svg\" height=\"24px\"viewBox=\"0 0 24 24\"\n",
              "       width=\"24px\">\n",
              "    <path d=\"M0 0h24v24H0V0z\" fill=\"none\"/>\n",
              "    <path d=\"M18.56 5.44l.94 2.06.94-2.06 2.06-.94-2.06-.94-.94-2.06-.94 2.06-2.06.94zm-11 1L8.5 8.5l.94-2.06 2.06-.94-2.06-.94L8.5 2.5l-.94 2.06-2.06.94zm10 10l.94 2.06.94-2.06 2.06-.94-2.06-.94-.94-2.06-.94 2.06-2.06.94z\"/><path d=\"M17.41 7.96l-1.37-1.37c-.4-.4-.92-.59-1.43-.59-.52 0-1.04.2-1.43.59L10.3 9.45l-7.72 7.72c-.78.78-.78 2.05 0 2.83L4 21.41c.39.39.9.59 1.41.59.51 0 1.02-.2 1.41-.59l7.78-7.78 2.81-2.81c.8-.78.8-2.07 0-2.86zM5.41 20L4 18.59l7.72-7.72 1.47 1.35L5.41 20z\"/>\n",
              "  </svg>\n",
              "      </button>\n",
              "      \n",
              "  <style>\n",
              "    .colab-df-container {\n",
              "      display:flex;\n",
              "      flex-wrap:wrap;\n",
              "      gap: 12px;\n",
              "    }\n",
              "\n",
              "    .colab-df-convert {\n",
              "      background-color: #E8F0FE;\n",
              "      border: none;\n",
              "      border-radius: 50%;\n",
              "      cursor: pointer;\n",
              "      display: none;\n",
              "      fill: #1967D2;\n",
              "      height: 32px;\n",
              "      padding: 0 0 0 0;\n",
              "      width: 32px;\n",
              "    }\n",
              "\n",
              "    .colab-df-convert:hover {\n",
              "      background-color: #E2EBFA;\n",
              "      box-shadow: 0px 1px 2px rgba(60, 64, 67, 0.3), 0px 1px 3px 1px rgba(60, 64, 67, 0.15);\n",
              "      fill: #174EA6;\n",
              "    }\n",
              "\n",
              "    [theme=dark] .colab-df-convert {\n",
              "      background-color: #3B4455;\n",
              "      fill: #D2E3FC;\n",
              "    }\n",
              "\n",
              "    [theme=dark] .colab-df-convert:hover {\n",
              "      background-color: #434B5C;\n",
              "      box-shadow: 0px 1px 3px 1px rgba(0, 0, 0, 0.15);\n",
              "      filter: drop-shadow(0px 1px 2px rgba(0, 0, 0, 0.3));\n",
              "      fill: #FFFFFF;\n",
              "    }\n",
              "  </style>\n",
              "\n",
              "      <script>\n",
              "        const buttonEl =\n",
              "          document.querySelector('#df-d2524fec-2249-417e-8bd2-a7c37611676a button.colab-df-convert');\n",
              "        buttonEl.style.display =\n",
              "          google.colab.kernel.accessAllowed ? 'block' : 'none';\n",
              "\n",
              "        async function convertToInteractive(key) {\n",
              "          const element = document.querySelector('#df-d2524fec-2249-417e-8bd2-a7c37611676a');\n",
              "          const dataTable =\n",
              "            await google.colab.kernel.invokeFunction('convertToInteractive',\n",
              "                                                     [key], {});\n",
              "          if (!dataTable) return;\n",
              "\n",
              "          const docLinkHtml = 'Like what you see? Visit the ' +\n",
              "            '<a target=\"_blank\" href=https://colab.research.google.com/notebooks/data_table.ipynb>data table notebook</a>'\n",
              "            + ' to learn more about interactive tables.';\n",
              "          element.innerHTML = '';\n",
              "          dataTable['output_type'] = 'display_data';\n",
              "          await google.colab.output.renderOutput(dataTable, element);\n",
              "          const docLink = document.createElement('div');\n",
              "          docLink.innerHTML = docLinkHtml;\n",
              "          element.appendChild(docLink);\n",
              "        }\n",
              "      </script>\n",
              "    </div>\n",
              "  </div>\n",
              "  "
            ],
            "text/plain": [
              "   id  target\n",
              "0   0       0\n",
              "1   1       0\n",
              "2   2       0\n",
              "3   3       0\n",
              "4   4       0"
            ]
          },
          "metadata": {},
          "execution_count": 36
        }
      ],
      "source": [
        "sub.head()"
      ]
    },
    {
      "cell_type": "markdown",
      "metadata": {
        "id": "E3JpXbMuskOz"
      },
      "source": [
        "# 제출파일 생성"
      ]
    },
    {
      "cell_type": "code",
      "execution_count": 65,
      "metadata": {
        "id": "LhzYAYzwIoC9",
        "colab": {
          "base_uri": "https://localhost:8080/",
          "height": 17
        },
        "outputId": "c557e90b-8cd0-46a7-f650-125f7899952d"
      },
      "outputs": [
        {
          "output_type": "display_data",
          "data": {
            "text/html": [
              "\n",
              "  <style>\n",
              "    pre {\n",
              "        white-space: pre-wrap;\n",
              "    }\n",
              "  </style>\n",
              "  "
            ],
            "text/plain": [
              "<IPython.core.display.HTML object>"
            ]
          },
          "metadata": {}
        }
      ],
      "source": [
        "sub['target'] = pred['Label']\n",
        "sub.to_csv('/content/drive/MyDrive/GitHub/Dacon/TP2(잡케어)/03_모델선정및개선/sub_ver2.9.csv', index=False)"
      ]
    },
    {
      "cell_type": "code",
      "execution_count": 66,
      "metadata": {
        "colab": {
          "base_uri": "https://localhost:8080/",
          "height": 363
        },
        "id": "2NopxSgnskO0",
        "outputId": "a42d4003-f496-4cc5-c16b-e49fbd5d3e07"
      },
      "outputs": [
        {
          "output_type": "display_data",
          "data": {
            "text/html": [
              "\n",
              "  <style>\n",
              "    pre {\n",
              "        white-space: pre-wrap;\n",
              "    }\n",
              "  </style>\n",
              "  "
            ],
            "text/plain": [
              "<IPython.core.display.HTML object>"
            ]
          },
          "metadata": {}
        },
        {
          "output_type": "execute_result",
          "data": {
            "text/html": [
              "\n",
              "  <div id=\"df-716041dc-a0da-45e3-bf7a-b87efd717663\">\n",
              "    <div class=\"colab-df-container\">\n",
              "      <div>\n",
              "<style scoped>\n",
              "    .dataframe tbody tr th:only-of-type {\n",
              "        vertical-align: middle;\n",
              "    }\n",
              "\n",
              "    .dataframe tbody tr th {\n",
              "        vertical-align: top;\n",
              "    }\n",
              "\n",
              "    .dataframe thead th {\n",
              "        text-align: right;\n",
              "    }\n",
              "</style>\n",
              "<table border=\"1\" class=\"dataframe\">\n",
              "  <thead>\n",
              "    <tr style=\"text-align: right;\">\n",
              "      <th></th>\n",
              "      <th>id</th>\n",
              "      <th>target</th>\n",
              "    </tr>\n",
              "  </thead>\n",
              "  <tbody>\n",
              "    <tr>\n",
              "      <th>0</th>\n",
              "      <td>0</td>\n",
              "      <td>1</td>\n",
              "    </tr>\n",
              "    <tr>\n",
              "      <th>1</th>\n",
              "      <td>1</td>\n",
              "      <td>1</td>\n",
              "    </tr>\n",
              "    <tr>\n",
              "      <th>2</th>\n",
              "      <td>2</td>\n",
              "      <td>1</td>\n",
              "    </tr>\n",
              "    <tr>\n",
              "      <th>3</th>\n",
              "      <td>3</td>\n",
              "      <td>1</td>\n",
              "    </tr>\n",
              "    <tr>\n",
              "      <th>4</th>\n",
              "      <td>4</td>\n",
              "      <td>1</td>\n",
              "    </tr>\n",
              "    <tr>\n",
              "      <th>5</th>\n",
              "      <td>5</td>\n",
              "      <td>0</td>\n",
              "    </tr>\n",
              "    <tr>\n",
              "      <th>6</th>\n",
              "      <td>6</td>\n",
              "      <td>1</td>\n",
              "    </tr>\n",
              "    <tr>\n",
              "      <th>7</th>\n",
              "      <td>7</td>\n",
              "      <td>0</td>\n",
              "    </tr>\n",
              "    <tr>\n",
              "      <th>8</th>\n",
              "      <td>8</td>\n",
              "      <td>1</td>\n",
              "    </tr>\n",
              "    <tr>\n",
              "      <th>9</th>\n",
              "      <td>9</td>\n",
              "      <td>1</td>\n",
              "    </tr>\n",
              "  </tbody>\n",
              "</table>\n",
              "</div>\n",
              "      <button class=\"colab-df-convert\" onclick=\"convertToInteractive('df-716041dc-a0da-45e3-bf7a-b87efd717663')\"\n",
              "              title=\"Convert this dataframe to an interactive table.\"\n",
              "              style=\"display:none;\">\n",
              "        \n",
              "  <svg xmlns=\"http://www.w3.org/2000/svg\" height=\"24px\"viewBox=\"0 0 24 24\"\n",
              "       width=\"24px\">\n",
              "    <path d=\"M0 0h24v24H0V0z\" fill=\"none\"/>\n",
              "    <path d=\"M18.56 5.44l.94 2.06.94-2.06 2.06-.94-2.06-.94-.94-2.06-.94 2.06-2.06.94zm-11 1L8.5 8.5l.94-2.06 2.06-.94-2.06-.94L8.5 2.5l-.94 2.06-2.06.94zm10 10l.94 2.06.94-2.06 2.06-.94-2.06-.94-.94-2.06-.94 2.06-2.06.94z\"/><path d=\"M17.41 7.96l-1.37-1.37c-.4-.4-.92-.59-1.43-.59-.52 0-1.04.2-1.43.59L10.3 9.45l-7.72 7.72c-.78.78-.78 2.05 0 2.83L4 21.41c.39.39.9.59 1.41.59.51 0 1.02-.2 1.41-.59l7.78-7.78 2.81-2.81c.8-.78.8-2.07 0-2.86zM5.41 20L4 18.59l7.72-7.72 1.47 1.35L5.41 20z\"/>\n",
              "  </svg>\n",
              "      </button>\n",
              "      \n",
              "  <style>\n",
              "    .colab-df-container {\n",
              "      display:flex;\n",
              "      flex-wrap:wrap;\n",
              "      gap: 12px;\n",
              "    }\n",
              "\n",
              "    .colab-df-convert {\n",
              "      background-color: #E8F0FE;\n",
              "      border: none;\n",
              "      border-radius: 50%;\n",
              "      cursor: pointer;\n",
              "      display: none;\n",
              "      fill: #1967D2;\n",
              "      height: 32px;\n",
              "      padding: 0 0 0 0;\n",
              "      width: 32px;\n",
              "    }\n",
              "\n",
              "    .colab-df-convert:hover {\n",
              "      background-color: #E2EBFA;\n",
              "      box-shadow: 0px 1px 2px rgba(60, 64, 67, 0.3), 0px 1px 3px 1px rgba(60, 64, 67, 0.15);\n",
              "      fill: #174EA6;\n",
              "    }\n",
              "\n",
              "    [theme=dark] .colab-df-convert {\n",
              "      background-color: #3B4455;\n",
              "      fill: #D2E3FC;\n",
              "    }\n",
              "\n",
              "    [theme=dark] .colab-df-convert:hover {\n",
              "      background-color: #434B5C;\n",
              "      box-shadow: 0px 1px 3px 1px rgba(0, 0, 0, 0.15);\n",
              "      filter: drop-shadow(0px 1px 2px rgba(0, 0, 0, 0.3));\n",
              "      fill: #FFFFFF;\n",
              "    }\n",
              "  </style>\n",
              "\n",
              "      <script>\n",
              "        const buttonEl =\n",
              "          document.querySelector('#df-716041dc-a0da-45e3-bf7a-b87efd717663 button.colab-df-convert');\n",
              "        buttonEl.style.display =\n",
              "          google.colab.kernel.accessAllowed ? 'block' : 'none';\n",
              "\n",
              "        async function convertToInteractive(key) {\n",
              "          const element = document.querySelector('#df-716041dc-a0da-45e3-bf7a-b87efd717663');\n",
              "          const dataTable =\n",
              "            await google.colab.kernel.invokeFunction('convertToInteractive',\n",
              "                                                     [key], {});\n",
              "          if (!dataTable) return;\n",
              "\n",
              "          const docLinkHtml = 'Like what you see? Visit the ' +\n",
              "            '<a target=\"_blank\" href=https://colab.research.google.com/notebooks/data_table.ipynb>data table notebook</a>'\n",
              "            + ' to learn more about interactive tables.';\n",
              "          element.innerHTML = '';\n",
              "          dataTable['output_type'] = 'display_data';\n",
              "          await google.colab.output.renderOutput(dataTable, element);\n",
              "          const docLink = document.createElement('div');\n",
              "          docLink.innerHTML = docLinkHtml;\n",
              "          element.appendChild(docLink);\n",
              "        }\n",
              "      </script>\n",
              "    </div>\n",
              "  </div>\n",
              "  "
            ],
            "text/plain": [
              "   id  target\n",
              "0   0       1\n",
              "1   1       1\n",
              "2   2       1\n",
              "3   3       1\n",
              "4   4       1\n",
              "5   5       0\n",
              "6   6       1\n",
              "7   7       0\n",
              "8   8       1\n",
              "9   9       1"
            ]
          },
          "metadata": {},
          "execution_count": 66
        }
      ],
      "source": [
        "sub.head(10)"
      ]
    },
    {
      "cell_type": "markdown",
      "metadata": {
        "id": "U_hgZE0EskO0"
      },
      "source": [
        "# 코드 마지막"
      ]
    }
  ],
  "metadata": {
    "accelerator": "GPU",
    "colab": {
      "collapsed_sections": [],
      "name": "03-02_pycaret_ver2.9.ipynb",
      "provenance": [],
      "toc_visible": true
    },
    "interpreter": {
      "hash": "8ae3dcd19c82398a5ce067019491007897b01e5b53746170904cf60dcf0d8fb4"
    },
    "kernelspec": {
      "display_name": "Python 3",
      "language": "python",
      "name": "python3"
    },
    "language_info": {
      "codemirror_mode": {
        "name": "ipython",
        "version": 3
      },
      "file_extension": ".py",
      "mimetype": "text/x-python",
      "name": "python",
      "nbconvert_exporter": "python",
      "pygments_lexer": "ipython3",
      "version": "3.8.8"
    },
    "toc": {
      "base_numbering": 1,
      "nav_menu": {
        "height": "208px",
        "width": "250px"
      },
      "number_sections": true,
      "sideBar": true,
      "skip_h1_title": false,
      "title_cell": "Table of Contents",
      "title_sidebar": "Contents",
      "toc_cell": false,
      "toc_position": {},
      "toc_section_display": true,
      "toc_window_display": true
    },
    "widgets": {
      "application/vnd.jupyter.widget-state+json": {
        "af7f0698655044709f64571857544565": {
          "model_module": "@jupyter-widgets/controls",
          "model_name": "IntProgressModel",
          "model_module_version": "1.5.0",
          "state": {
            "_view_name": "ProgressView",
            "style": "IPY_MODEL_c4f619d6ffb34ae5925e8199f22f3b6e",
            "_dom_classes": [],
            "description": "Processing: ",
            "_model_name": "IntProgressModel",
            "bar_style": "",
            "max": 79,
            "_view_module": "@jupyter-widgets/controls",
            "_model_module_version": "1.5.0",
            "value": 79,
            "_view_count": null,
            "_view_module_version": "1.5.0",
            "orientation": "horizontal",
            "min": 0,
            "description_tooltip": null,
            "_model_module": "@jupyter-widgets/controls",
            "layout": "IPY_MODEL_1aaac1b0a4d5452f97ce57efa875cd20"
          }
        },
        "c4f619d6ffb34ae5925e8199f22f3b6e": {
          "model_module": "@jupyter-widgets/controls",
          "model_name": "ProgressStyleModel",
          "model_module_version": "1.5.0",
          "state": {
            "_view_name": "StyleView",
            "_model_name": "ProgressStyleModel",
            "description_width": "",
            "_view_module": "@jupyter-widgets/base",
            "_model_module_version": "1.5.0",
            "_view_count": null,
            "_view_module_version": "1.2.0",
            "bar_color": null,
            "_model_module": "@jupyter-widgets/controls"
          }
        },
        "1aaac1b0a4d5452f97ce57efa875cd20": {
          "model_module": "@jupyter-widgets/base",
          "model_name": "LayoutModel",
          "model_module_version": "1.2.0",
          "state": {
            "_view_name": "LayoutView",
            "grid_template_rows": null,
            "right": null,
            "justify_content": null,
            "_view_module": "@jupyter-widgets/base",
            "overflow": null,
            "_model_module_version": "1.2.0",
            "_view_count": null,
            "flex_flow": null,
            "width": null,
            "min_width": null,
            "border": null,
            "align_items": null,
            "bottom": null,
            "_model_module": "@jupyter-widgets/base",
            "top": null,
            "grid_column": null,
            "overflow_y": null,
            "overflow_x": null,
            "grid_auto_flow": null,
            "grid_area": null,
            "grid_template_columns": null,
            "flex": null,
            "_model_name": "LayoutModel",
            "justify_items": null,
            "grid_row": null,
            "max_height": null,
            "align_content": null,
            "visibility": null,
            "align_self": null,
            "height": null,
            "min_height": null,
            "padding": null,
            "grid_auto_rows": null,
            "grid_gap": null,
            "max_width": null,
            "order": null,
            "_view_module_version": "1.2.0",
            "grid_template_areas": null,
            "object_position": null,
            "object_fit": null,
            "grid_auto_columns": null,
            "margin": null,
            "display": null,
            "left": null
          }
        },
        "33f26dd2d49c490e97103b5803807fc8": {
          "model_module": "@jupyter-widgets/controls",
          "model_name": "IntProgressModel",
          "model_module_version": "1.5.0",
          "state": {
            "_view_name": "ProgressView",
            "style": "IPY_MODEL_0b5b3688a9c94a2babe71097e82252d5",
            "_dom_classes": [],
            "description": "Processing: ",
            "_model_name": "IntProgressModel",
            "bar_style": "",
            "max": 4,
            "_view_module": "@jupyter-widgets/controls",
            "_model_module_version": "1.5.0",
            "value": 4,
            "_view_count": null,
            "_view_module_version": "1.5.0",
            "orientation": "horizontal",
            "min": 0,
            "description_tooltip": null,
            "_model_module": "@jupyter-widgets/controls",
            "layout": "IPY_MODEL_570cccc21d9e4633b449bed475287499"
          }
        },
        "0b5b3688a9c94a2babe71097e82252d5": {
          "model_module": "@jupyter-widgets/controls",
          "model_name": "ProgressStyleModel",
          "model_module_version": "1.5.0",
          "state": {
            "_view_name": "StyleView",
            "_model_name": "ProgressStyleModel",
            "description_width": "",
            "_view_module": "@jupyter-widgets/base",
            "_model_module_version": "1.5.0",
            "_view_count": null,
            "_view_module_version": "1.2.0",
            "bar_color": null,
            "_model_module": "@jupyter-widgets/controls"
          }
        },
        "570cccc21d9e4633b449bed475287499": {
          "model_module": "@jupyter-widgets/base",
          "model_name": "LayoutModel",
          "model_module_version": "1.2.0",
          "state": {
            "_view_name": "LayoutView",
            "grid_template_rows": null,
            "right": null,
            "justify_content": null,
            "_view_module": "@jupyter-widgets/base",
            "overflow": null,
            "_model_module_version": "1.2.0",
            "_view_count": null,
            "flex_flow": null,
            "width": null,
            "min_width": null,
            "border": null,
            "align_items": null,
            "bottom": null,
            "_model_module": "@jupyter-widgets/base",
            "top": null,
            "grid_column": null,
            "overflow_y": null,
            "overflow_x": null,
            "grid_auto_flow": null,
            "grid_area": null,
            "grid_template_columns": null,
            "flex": null,
            "_model_name": "LayoutModel",
            "justify_items": null,
            "grid_row": null,
            "max_height": null,
            "align_content": null,
            "visibility": null,
            "align_self": null,
            "height": null,
            "min_height": null,
            "padding": null,
            "grid_auto_rows": null,
            "grid_gap": null,
            "max_width": null,
            "order": null,
            "_view_module_version": "1.2.0",
            "grid_template_areas": null,
            "object_position": null,
            "object_fit": null,
            "grid_auto_columns": null,
            "margin": null,
            "display": null,
            "left": null
          }
        },
        "14758aa968e34726a86e8b1f5ed26be4": {
          "model_module": "@jupyter-widgets/controls",
          "model_name": "IntProgressModel",
          "model_module_version": "1.5.0",
          "state": {
            "_view_name": "ProgressView",
            "style": "IPY_MODEL_bf637231ee524dbfb56e366a32c85653",
            "_dom_classes": [],
            "description": "Processing: ",
            "_model_name": "IntProgressModel",
            "bar_style": "",
            "max": 5,
            "_view_module": "@jupyter-widgets/controls",
            "_model_module_version": "1.5.0",
            "value": 5,
            "_view_count": null,
            "_view_module_version": "1.5.0",
            "orientation": "horizontal",
            "min": 0,
            "description_tooltip": null,
            "_model_module": "@jupyter-widgets/controls",
            "layout": "IPY_MODEL_c25ceaf48398429c9570fdee77b931bc"
          }
        },
        "bf637231ee524dbfb56e366a32c85653": {
          "model_module": "@jupyter-widgets/controls",
          "model_name": "ProgressStyleModel",
          "model_module_version": "1.5.0",
          "state": {
            "_view_name": "StyleView",
            "_model_name": "ProgressStyleModel",
            "description_width": "",
            "_view_module": "@jupyter-widgets/base",
            "_model_module_version": "1.5.0",
            "_view_count": null,
            "_view_module_version": "1.2.0",
            "bar_color": null,
            "_model_module": "@jupyter-widgets/controls"
          }
        },
        "c25ceaf48398429c9570fdee77b931bc": {
          "model_module": "@jupyter-widgets/base",
          "model_name": "LayoutModel",
          "model_module_version": "1.2.0",
          "state": {
            "_view_name": "LayoutView",
            "grid_template_rows": null,
            "right": null,
            "justify_content": null,
            "_view_module": "@jupyter-widgets/base",
            "overflow": null,
            "_model_module_version": "1.2.0",
            "_view_count": null,
            "flex_flow": null,
            "width": null,
            "min_width": null,
            "border": null,
            "align_items": null,
            "bottom": null,
            "_model_module": "@jupyter-widgets/base",
            "top": null,
            "grid_column": null,
            "overflow_y": null,
            "overflow_x": null,
            "grid_auto_flow": null,
            "grid_area": null,
            "grid_template_columns": null,
            "flex": null,
            "_model_name": "LayoutModel",
            "justify_items": null,
            "grid_row": null,
            "max_height": null,
            "align_content": null,
            "visibility": null,
            "align_self": null,
            "height": null,
            "min_height": null,
            "padding": null,
            "grid_auto_rows": null,
            "grid_gap": null,
            "max_width": null,
            "order": null,
            "_view_module_version": "1.2.0",
            "grid_template_areas": null,
            "object_position": null,
            "object_fit": null,
            "grid_auto_columns": null,
            "margin": null,
            "display": null,
            "left": null
          }
        }
      }
    }
  },
  "nbformat": 4,
  "nbformat_minor": 0
}