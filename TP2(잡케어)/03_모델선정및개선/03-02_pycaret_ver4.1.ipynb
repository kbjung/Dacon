{
  "cells": [
    {
      "cell_type": "markdown",
      "metadata": {
        "id": "5cc4-moOhpzb"
      },
      "source": [
        "# 라이브러리 로드 및 기본 세팅"
      ]
    },
    {
      "cell_type": "code",
      "execution_count": 1,
      "metadata": {
        "colab": {
          "base_uri": "https://localhost:8080/"
        },
        "id": "9ZWRlNrc6RXL",
        "outputId": "d661e728-e983-473d-d3ba-547b5d1ccf48"
      },
      "outputs": [
        {
          "name": "stdout",
          "output_type": "stream",
          "text": [
            "Collecting catboost\n",
            "  Downloading catboost-1.0.3-cp37-none-manylinux1_x86_64.whl (76.3 MB)\n",
            "\u001b[K     |████████████████████████████████| 76.3 MB 62 kB/s \n",
            "\u001b[?25hRequirement already satisfied: plotly in /usr/local/lib/python3.7/dist-packages (from catboost) (4.4.1)\n",
            "Requirement already satisfied: graphviz in /usr/local/lib/python3.7/dist-packages (from catboost) (0.10.1)\n",
            "Requirement already satisfied: matplotlib in /usr/local/lib/python3.7/dist-packages (from catboost) (3.2.2)\n",
            "Requirement already satisfied: six in /usr/local/lib/python3.7/dist-packages (from catboost) (1.15.0)\n",
            "Requirement already satisfied: scipy in /usr/local/lib/python3.7/dist-packages (from catboost) (1.4.1)\n",
            "Requirement already satisfied: numpy>=1.16.0 in /usr/local/lib/python3.7/dist-packages (from catboost) (1.19.5)\n",
            "Requirement already satisfied: pandas>=0.24.0 in /usr/local/lib/python3.7/dist-packages (from catboost) (1.1.5)\n",
            "Requirement already satisfied: python-dateutil>=2.7.3 in /usr/local/lib/python3.7/dist-packages (from pandas>=0.24.0->catboost) (2.8.2)\n",
            "Requirement already satisfied: pytz>=2017.2 in /usr/local/lib/python3.7/dist-packages (from pandas>=0.24.0->catboost) (2018.9)\n",
            "Requirement already satisfied: kiwisolver>=1.0.1 in /usr/local/lib/python3.7/dist-packages (from matplotlib->catboost) (1.3.2)\n",
            "Requirement already satisfied: cycler>=0.10 in /usr/local/lib/python3.7/dist-packages (from matplotlib->catboost) (0.11.0)\n",
            "Requirement already satisfied: pyparsing!=2.0.4,!=2.1.2,!=2.1.6,>=2.0.1 in /usr/local/lib/python3.7/dist-packages (from matplotlib->catboost) (3.0.6)\n",
            "Requirement already satisfied: retrying>=1.3.3 in /usr/local/lib/python3.7/dist-packages (from plotly->catboost) (1.3.3)\n",
            "Installing collected packages: catboost\n",
            "Successfully installed catboost-1.0.3\n"
          ]
        }
      ],
      "source": [
        "!pip install catboost"
      ]
    },
    {
      "cell_type": "code",
      "execution_count": 2,
      "metadata": {
        "colab": {
          "base_uri": "https://localhost:8080/"
        },
        "id": "iCqLkw496X5P",
        "outputId": "3ed02d30-8374-492b-8594-dd46e9ae4e38"
      },
      "outputs": [
        {
          "name": "stdout",
          "output_type": "stream",
          "text": [
            "Mounted at /content/drive\n"
          ]
        }
      ],
      "source": [
        "from google.colab import drive\n",
        "drive.mount('/content/drive')"
      ]
    },
    {
      "cell_type": "code",
      "execution_count": 50,
      "metadata": {
        "ExecuteTime": {
          "end_time": "2021-12-17T13:59:16.025913Z",
          "start_time": "2021-12-17T13:59:12.305624Z"
        },
        "id": "aEgAFA6EIoCa"
      },
      "outputs": [],
      "source": [
        "import pandas as pd\n",
        "import numpy as np\n",
        "from tqdm import tqdm\n",
        "from catboost import CatBoostClassifier\n",
        "from sklearn.model_selection import train_test_split\n",
        "from sklearn.metrics import f1_score, classification_report"
      ]
    },
    {
      "cell_type": "markdown",
      "metadata": {
        "id": "dY5Xe-qIIoCl"
      },
      "source": [
        "# 데이콘 점수"
      ]
    },
    {
      "cell_type": "code",
      "execution_count": 4,
      "metadata": {
        "id": "YB6NWpeCIoCp"
      },
      "outputs": [],
      "source": [
        "# 자체 점수 : 0.6863\n",
        "# 제출 점수(제출 날짜) : 0.6018544146(2022-01-07 14:31:38)"
      ]
    },
    {
      "cell_type": "markdown",
      "metadata": {
        "id": "XE_glihWIoCs"
      },
      "source": [
        "# 설정"
      ]
    },
    {
      "cell_type": "code",
      "execution_count": 5,
      "metadata": {
        "id": "TLiSGYd_JpVi"
      },
      "outputs": [],
      "source": [
        "# cat\n",
        "# probability_threshold : 0.4869\n",
        "\n",
        "# 순서형 특성 수치형으로 지정(4개)\n",
        "# 'person_attribute_a_a', 'person_attribute_b', 'person_prefer_e', 'contents_attribute_e'"
      ]
    },
    {
      "cell_type": "code",
      "execution_count": 6,
      "metadata": {
        "id": "-7UhvNJXEoLq"
      },
      "outputs": [],
      "source": [
        "# 제거된 특성(4개)\n",
        "# 'id',\n",
        "# 'contents_open_dt',\n",
        "# 'person_prefer_f',\n",
        "# 'person_prefer_g'"
      ]
    },
    {
      "cell_type": "code",
      "execution_count": 7,
      "metadata": {
        "id": "oDoSgo5XtNxP"
      },
      "outputs": [],
      "source": [
        "# 매칭 속성"
      ]
    },
    {
      "cell_type": "code",
      "execution_count": 8,
      "metadata": {
        "id": "YI9FzI5-tRu3"
      },
      "outputs": [],
      "source": [
        "# d_l_match_yn : 'person_prefer_d_1_l', 'contents_attribute_d_l' 매칭 여부\n",
        "# d_m_match_yn : 'person_prefer_d_1_n', 'contents_attribute_d_n' 매칭 여부'\n",
        "# d_s_match_yn : 'person_prefer_d_1', 'contents_attribute_d' 매칭 여부\n",
        "# h_l_match_yn : 'person_prefer_h_1_l', 'contents_attribute_h_l' 매칭 여부\n",
        "# h_m_match_yn : 'person_prefer_h_1_m', 'contents_attribute_h_m' 매칭 여부\n",
        "# h_s_match_yn : 'person_prefer_h_1', 'contents_attribute_h' 매칭 여부"
      ]
    },
    {
      "cell_type": "markdown",
      "metadata": {
        "id": "LYciDKCoIoCx"
      },
      "source": [
        "# 데이터 불러오기"
      ]
    },
    {
      "cell_type": "code",
      "execution_count": 9,
      "metadata": {
        "id": "q1pQyeEVIoCx"
      },
      "outputs": [],
      "source": [
        "# train = pd.read_csv('../data/df_train.csv')\n",
        "# test = pd.read_csv('../data/df_test.csv')\n",
        "train = pd.read_csv('/content/drive/MyDrive/GitHub/Dacon/TP2(잡케어)/data/df_train.csv')\n",
        "test = pd.read_csv('/content/drive/MyDrive/GitHub/Dacon/TP2(잡케어)/data/df_test.csv')"
      ]
    },
    {
      "cell_type": "markdown",
      "metadata": {
        "id": "Lxk2XFxsIoCy"
      },
      "source": [
        "# 데이터 확인"
      ]
    },
    {
      "cell_type": "code",
      "execution_count": 10,
      "metadata": {
        "colab": {
          "base_uri": "https://localhost:8080/"
        },
        "id": "riiqiXdAIoCz",
        "outputId": "0719ed87-bf3e-4652-a7d5-5bf3bb84f1ba"
      },
      "outputs": [
        {
          "name": "stdout",
          "output_type": "stream",
          "text": [
            "<class 'pandas.core.frame.DataFrame'>\n",
            "RangeIndex: 501951 entries, 0 to 501950\n",
            "Data columns (total 63 columns):\n",
            " #   Column                  Non-Null Count   Dtype \n",
            "---  ------                  --------------   ----- \n",
            " 0   id                      501951 non-null  int64 \n",
            " 1   d_l_match_yn            501951 non-null  bool  \n",
            " 2   d_m_match_yn            501951 non-null  bool  \n",
            " 3   d_s_match_yn            501951 non-null  bool  \n",
            " 4   h_l_match_yn            501951 non-null  bool  \n",
            " 5   h_m_match_yn            501951 non-null  bool  \n",
            " 6   h_s_match_yn            501951 non-null  bool  \n",
            " 7   person_attribute_a      501951 non-null  int64 \n",
            " 8   person_attribute_a_1    501951 non-null  int64 \n",
            " 9   person_attribute_b      501951 non-null  int64 \n",
            " 10  person_prefer_c         501951 non-null  int64 \n",
            " 11  person_prefer_d_1       501951 non-null  int64 \n",
            " 12  person_prefer_d_2       501951 non-null  int64 \n",
            " 13  person_prefer_d_3       501951 non-null  int64 \n",
            " 14  person_prefer_e         501951 non-null  int64 \n",
            " 15  person_prefer_f         501951 non-null  int64 \n",
            " 16  person_prefer_g         501951 non-null  int64 \n",
            " 17  person_prefer_h_1       501951 non-null  int64 \n",
            " 18  person_prefer_h_2       501951 non-null  int64 \n",
            " 19  person_prefer_h_3       501951 non-null  int64 \n",
            " 20  contents_attribute_i    501951 non-null  int64 \n",
            " 21  contents_attribute_a    501951 non-null  int64 \n",
            " 22  contents_attribute_j_1  501951 non-null  int64 \n",
            " 23  contents_attribute_j    501951 non-null  int64 \n",
            " 24  contents_attribute_c    501951 non-null  int64 \n",
            " 25  contents_attribute_k    501951 non-null  int64 \n",
            " 26  contents_attribute_l    501951 non-null  int64 \n",
            " 27  contents_attribute_d    501951 non-null  int64 \n",
            " 28  contents_attribute_m    501951 non-null  int64 \n",
            " 29  contents_attribute_e    501951 non-null  int64 \n",
            " 30  contents_attribute_h    501951 non-null  int64 \n",
            " 31  person_rn               501951 non-null  int64 \n",
            " 32  contents_rn             501951 non-null  int64 \n",
            " 33  contents_open_dt        501951 non-null  object\n",
            " 34  target                  501951 non-null  int64 \n",
            " 35  person_prefer_d_1_n     501951 non-null  int64 \n",
            " 36  person_prefer_d_1_s     501951 non-null  int64 \n",
            " 37  person_prefer_d_1_m     501951 non-null  int64 \n",
            " 38  person_prefer_d_1_l     501951 non-null  int64 \n",
            " 39  person_prefer_d_2_n     501951 non-null  int64 \n",
            " 40  person_prefer_d_2_s     501951 non-null  int64 \n",
            " 41  person_prefer_d_2_m     501951 non-null  int64 \n",
            " 42  person_prefer_d_2_l     501951 non-null  int64 \n",
            " 43  person_prefer_d_3_n     501951 non-null  int64 \n",
            " 44  person_prefer_d_3_s     501951 non-null  int64 \n",
            " 45  person_prefer_d_3_m     501951 non-null  int64 \n",
            " 46  person_prefer_d_3_l     501951 non-null  int64 \n",
            " 47  contents_attribute_d_n  501951 non-null  int64 \n",
            " 48  contents_attribute_d_s  501951 non-null  int64 \n",
            " 49  contents_attribute_d_m  501951 non-null  int64 \n",
            " 50  contents_attribute_d_l  501951 non-null  int64 \n",
            " 51  person_prefer_h_1_m     501951 non-null  int64 \n",
            " 52  person_prefer_h_1_l     501951 non-null  int64 \n",
            " 53  person_prefer_h_2_m     501951 non-null  int64 \n",
            " 54  person_prefer_h_2_l     501951 non-null  int64 \n",
            " 55  person_prefer_h_3_m     501951 non-null  int64 \n",
            " 56  person_prefer_h_3_l     501951 non-null  int64 \n",
            " 57  contents_attribute_h_m  501951 non-null  int64 \n",
            " 58  contents_attribute_h_l  501951 non-null  int64 \n",
            " 59  contents_attribute_l_n  501951 non-null  int64 \n",
            " 60  contents_attribute_l_s  501951 non-null  int64 \n",
            " 61  contents_attribute_l_m  501951 non-null  int64 \n",
            " 62  contents_attribute_l_l  501951 non-null  int64 \n",
            "dtypes: bool(6), int64(56), object(1)\n",
            "memory usage: 221.2+ MB\n"
          ]
        }
      ],
      "source": [
        "train.info()"
      ]
    },
    {
      "cell_type": "code",
      "execution_count": 11,
      "metadata": {
        "colab": {
          "base_uri": "https://localhost:8080/",
          "height": 357
        },
        "id": "5_ZyaFcPIoC0",
        "outputId": "602f71a6-0f99-4b12-f1b6-030ee8bf0b02"
      },
      "outputs": [
        {
          "data": {
            "text/html": [
              "\n",
              "  <div id=\"df-fd30e74b-15b2-4e6a-87d3-dbc1b9fb2224\">\n",
              "    <div class=\"colab-df-container\">\n",
              "      <div>\n",
              "<style scoped>\n",
              "    .dataframe tbody tr th:only-of-type {\n",
              "        vertical-align: middle;\n",
              "    }\n",
              "\n",
              "    .dataframe tbody tr th {\n",
              "        vertical-align: top;\n",
              "    }\n",
              "\n",
              "    .dataframe thead th {\n",
              "        text-align: right;\n",
              "    }\n",
              "</style>\n",
              "<table border=\"1\" class=\"dataframe\">\n",
              "  <thead>\n",
              "    <tr style=\"text-align: right;\">\n",
              "      <th></th>\n",
              "      <th>id</th>\n",
              "      <th>d_l_match_yn</th>\n",
              "      <th>d_m_match_yn</th>\n",
              "      <th>d_s_match_yn</th>\n",
              "      <th>h_l_match_yn</th>\n",
              "      <th>h_m_match_yn</th>\n",
              "      <th>h_s_match_yn</th>\n",
              "      <th>person_attribute_a</th>\n",
              "      <th>person_attribute_a_1</th>\n",
              "      <th>person_attribute_b</th>\n",
              "      <th>person_prefer_c</th>\n",
              "      <th>person_prefer_d_1</th>\n",
              "      <th>person_prefer_d_2</th>\n",
              "      <th>person_prefer_d_3</th>\n",
              "      <th>person_prefer_e</th>\n",
              "      <th>person_prefer_f</th>\n",
              "      <th>person_prefer_g</th>\n",
              "      <th>person_prefer_h_1</th>\n",
              "      <th>person_prefer_h_2</th>\n",
              "      <th>person_prefer_h_3</th>\n",
              "      <th>contents_attribute_i</th>\n",
              "      <th>contents_attribute_a</th>\n",
              "      <th>contents_attribute_j_1</th>\n",
              "      <th>contents_attribute_j</th>\n",
              "      <th>contents_attribute_c</th>\n",
              "      <th>contents_attribute_k</th>\n",
              "      <th>contents_attribute_l</th>\n",
              "      <th>contents_attribute_d</th>\n",
              "      <th>contents_attribute_m</th>\n",
              "      <th>contents_attribute_e</th>\n",
              "      <th>contents_attribute_h</th>\n",
              "      <th>person_rn</th>\n",
              "      <th>contents_rn</th>\n",
              "      <th>contents_open_dt</th>\n",
              "      <th>target</th>\n",
              "      <th>person_prefer_d_1_n</th>\n",
              "      <th>person_prefer_d_1_s</th>\n",
              "      <th>person_prefer_d_1_m</th>\n",
              "      <th>person_prefer_d_1_l</th>\n",
              "      <th>person_prefer_d_2_n</th>\n",
              "      <th>person_prefer_d_2_s</th>\n",
              "      <th>person_prefer_d_2_m</th>\n",
              "      <th>person_prefer_d_2_l</th>\n",
              "      <th>person_prefer_d_3_n</th>\n",
              "      <th>person_prefer_d_3_s</th>\n",
              "      <th>person_prefer_d_3_m</th>\n",
              "      <th>person_prefer_d_3_l</th>\n",
              "      <th>contents_attribute_d_n</th>\n",
              "      <th>contents_attribute_d_s</th>\n",
              "      <th>contents_attribute_d_m</th>\n",
              "      <th>contents_attribute_d_l</th>\n",
              "      <th>person_prefer_h_1_m</th>\n",
              "      <th>person_prefer_h_1_l</th>\n",
              "      <th>person_prefer_h_2_m</th>\n",
              "      <th>person_prefer_h_2_l</th>\n",
              "      <th>person_prefer_h_3_m</th>\n",
              "      <th>person_prefer_h_3_l</th>\n",
              "      <th>contents_attribute_h_m</th>\n",
              "      <th>contents_attribute_h_l</th>\n",
              "      <th>contents_attribute_l_n</th>\n",
              "      <th>contents_attribute_l_s</th>\n",
              "      <th>contents_attribute_l_m</th>\n",
              "      <th>contents_attribute_l_l</th>\n",
              "    </tr>\n",
              "  </thead>\n",
              "  <tbody>\n",
              "    <tr>\n",
              "      <th>0</th>\n",
              "      <td>0</td>\n",
              "      <td>True</td>\n",
              "      <td>True</td>\n",
              "      <td>True</td>\n",
              "      <td>False</td>\n",
              "      <td>False</td>\n",
              "      <td>False</td>\n",
              "      <td>1</td>\n",
              "      <td>4</td>\n",
              "      <td>3</td>\n",
              "      <td>5</td>\n",
              "      <td>275</td>\n",
              "      <td>370</td>\n",
              "      <td>369</td>\n",
              "      <td>8</td>\n",
              "      <td>1</td>\n",
              "      <td>1</td>\n",
              "      <td>4</td>\n",
              "      <td>95</td>\n",
              "      <td>59</td>\n",
              "      <td>3</td>\n",
              "      <td>3</td>\n",
              "      <td>10</td>\n",
              "      <td>2</td>\n",
              "      <td>1</td>\n",
              "      <td>2</td>\n",
              "      <td>1608</td>\n",
              "      <td>275</td>\n",
              "      <td>1</td>\n",
              "      <td>4</td>\n",
              "      <td>139</td>\n",
              "      <td>618822</td>\n",
              "      <td>354805</td>\n",
              "      <td>2020-01-17 12:09:36</td>\n",
              "      <td>1</td>\n",
              "      <td>275</td>\n",
              "      <td>274</td>\n",
              "      <td>274</td>\n",
              "      <td>216</td>\n",
              "      <td>369</td>\n",
              "      <td>368</td>\n",
              "      <td>297</td>\n",
              "      <td>216</td>\n",
              "      <td>369</td>\n",
              "      <td>368</td>\n",
              "      <td>297</td>\n",
              "      <td>216</td>\n",
              "      <td>275</td>\n",
              "      <td>274</td>\n",
              "      <td>274</td>\n",
              "      <td>216</td>\n",
              "      <td>316</td>\n",
              "      <td>3</td>\n",
              "      <td>398</td>\n",
              "      <td>94</td>\n",
              "      <td>368</td>\n",
              "      <td>58</td>\n",
              "      <td>422</td>\n",
              "      <td>94</td>\n",
              "      <td>1607</td>\n",
              "      <td>1606</td>\n",
              "      <td>1605</td>\n",
              "      <td>2016</td>\n",
              "    </tr>\n",
              "    <tr>\n",
              "      <th>1</th>\n",
              "      <td>1</td>\n",
              "      <td>False</td>\n",
              "      <td>False</td>\n",
              "      <td>False</td>\n",
              "      <td>True</td>\n",
              "      <td>True</td>\n",
              "      <td>False</td>\n",
              "      <td>1</td>\n",
              "      <td>3</td>\n",
              "      <td>4</td>\n",
              "      <td>1</td>\n",
              "      <td>114</td>\n",
              "      <td>181</td>\n",
              "      <td>175</td>\n",
              "      <td>4</td>\n",
              "      <td>1</td>\n",
              "      <td>1</td>\n",
              "      <td>131</td>\n",
              "      <td>101</td>\n",
              "      <td>96</td>\n",
              "      <td>1</td>\n",
              "      <td>3</td>\n",
              "      <td>5</td>\n",
              "      <td>1</td>\n",
              "      <td>1</td>\n",
              "      <td>2</td>\n",
              "      <td>1608</td>\n",
              "      <td>275</td>\n",
              "      <td>1</td>\n",
              "      <td>4</td>\n",
              "      <td>133</td>\n",
              "      <td>571659</td>\n",
              "      <td>346213</td>\n",
              "      <td>2020-06-18 17:48:52</td>\n",
              "      <td>0</td>\n",
              "      <td>114</td>\n",
              "      <td>109</td>\n",
              "      <td>56</td>\n",
              "      <td>1</td>\n",
              "      <td>175</td>\n",
              "      <td>152</td>\n",
              "      <td>56</td>\n",
              "      <td>1</td>\n",
              "      <td>175</td>\n",
              "      <td>152</td>\n",
              "      <td>56</td>\n",
              "      <td>1</td>\n",
              "      <td>275</td>\n",
              "      <td>274</td>\n",
              "      <td>274</td>\n",
              "      <td>216</td>\n",
              "      <td>417</td>\n",
              "      <td>94</td>\n",
              "      <td>400</td>\n",
              "      <td>94</td>\n",
              "      <td>399</td>\n",
              "      <td>94</td>\n",
              "      <td>417</td>\n",
              "      <td>94</td>\n",
              "      <td>1607</td>\n",
              "      <td>1606</td>\n",
              "      <td>1605</td>\n",
              "      <td>2016</td>\n",
              "    </tr>\n",
              "    <tr>\n",
              "      <th>2</th>\n",
              "      <td>2</td>\n",
              "      <td>False</td>\n",
              "      <td>False</td>\n",
              "      <td>False</td>\n",
              "      <td>True</td>\n",
              "      <td>False</td>\n",
              "      <td>False</td>\n",
              "      <td>2</td>\n",
              "      <td>0</td>\n",
              "      <td>3</td>\n",
              "      <td>5</td>\n",
              "      <td>464</td>\n",
              "      <td>175</td>\n",
              "      <td>452</td>\n",
              "      <td>3</td>\n",
              "      <td>1</td>\n",
              "      <td>1</td>\n",
              "      <td>54</td>\n",
              "      <td>263</td>\n",
              "      <td>56</td>\n",
              "      <td>3</td>\n",
              "      <td>1</td>\n",
              "      <td>10</td>\n",
              "      <td>2</td>\n",
              "      <td>1</td>\n",
              "      <td>1</td>\n",
              "      <td>1600</td>\n",
              "      <td>94</td>\n",
              "      <td>1</td>\n",
              "      <td>4</td>\n",
              "      <td>53</td>\n",
              "      <td>399816</td>\n",
              "      <td>206408</td>\n",
              "      <td>2020-07-08 20:00:10</td>\n",
              "      <td>0</td>\n",
              "      <td>464</td>\n",
              "      <td>463</td>\n",
              "      <td>450</td>\n",
              "      <td>377</td>\n",
              "      <td>175</td>\n",
              "      <td>152</td>\n",
              "      <td>56</td>\n",
              "      <td>1</td>\n",
              "      <td>452</td>\n",
              "      <td>451</td>\n",
              "      <td>450</td>\n",
              "      <td>377</td>\n",
              "      <td>92</td>\n",
              "      <td>91</td>\n",
              "      <td>56</td>\n",
              "      <td>1</td>\n",
              "      <td>364</td>\n",
              "      <td>48</td>\n",
              "      <td>528</td>\n",
              "      <td>250</td>\n",
              "      <td>366</td>\n",
              "      <td>48</td>\n",
              "      <td>363</td>\n",
              "      <td>48</td>\n",
              "      <td>1599</td>\n",
              "      <td>1595</td>\n",
              "      <td>1572</td>\n",
              "      <td>2016</td>\n",
              "    </tr>\n",
              "    <tr>\n",
              "      <th>3</th>\n",
              "      <td>3</td>\n",
              "      <td>False</td>\n",
              "      <td>False</td>\n",
              "      <td>False</td>\n",
              "      <td>True</td>\n",
              "      <td>False</td>\n",
              "      <td>False</td>\n",
              "      <td>2</td>\n",
              "      <td>0</td>\n",
              "      <td>2</td>\n",
              "      <td>5</td>\n",
              "      <td>703</td>\n",
              "      <td>705</td>\n",
              "      <td>704</td>\n",
              "      <td>3</td>\n",
              "      <td>1</td>\n",
              "      <td>1</td>\n",
              "      <td>72</td>\n",
              "      <td>227</td>\n",
              "      <td>2</td>\n",
              "      <td>1</td>\n",
              "      <td>3</td>\n",
              "      <td>5</td>\n",
              "      <td>1</td>\n",
              "      <td>1</td>\n",
              "      <td>2</td>\n",
              "      <td>1608</td>\n",
              "      <td>275</td>\n",
              "      <td>5</td>\n",
              "      <td>3</td>\n",
              "      <td>74</td>\n",
              "      <td>827967</td>\n",
              "      <td>572323</td>\n",
              "      <td>2020-01-13 18:09:34</td>\n",
              "      <td>0</td>\n",
              "      <td>703</td>\n",
              "      <td>703</td>\n",
              "      <td>690</td>\n",
              "      <td>618</td>\n",
              "      <td>703</td>\n",
              "      <td>703</td>\n",
              "      <td>690</td>\n",
              "      <td>618</td>\n",
              "      <td>703</td>\n",
              "      <td>703</td>\n",
              "      <td>690</td>\n",
              "      <td>618</td>\n",
              "      <td>275</td>\n",
              "      <td>274</td>\n",
              "      <td>274</td>\n",
              "      <td>216</td>\n",
              "      <td>379</td>\n",
              "      <td>71</td>\n",
              "      <td>495</td>\n",
              "      <td>226</td>\n",
              "      <td>315</td>\n",
              "      <td>1</td>\n",
              "      <td>381</td>\n",
              "      <td>71</td>\n",
              "      <td>1607</td>\n",
              "      <td>1606</td>\n",
              "      <td>1605</td>\n",
              "      <td>2016</td>\n",
              "    </tr>\n",
              "    <tr>\n",
              "      <th>4</th>\n",
              "      <td>4</td>\n",
              "      <td>True</td>\n",
              "      <td>True</td>\n",
              "      <td>True</td>\n",
              "      <td>False</td>\n",
              "      <td>False</td>\n",
              "      <td>False</td>\n",
              "      <td>1</td>\n",
              "      <td>3</td>\n",
              "      <td>4</td>\n",
              "      <td>5</td>\n",
              "      <td>275</td>\n",
              "      <td>370</td>\n",
              "      <td>369</td>\n",
              "      <td>4</td>\n",
              "      <td>1</td>\n",
              "      <td>1</td>\n",
              "      <td>214</td>\n",
              "      <td>210</td>\n",
              "      <td>209</td>\n",
              "      <td>1</td>\n",
              "      <td>1</td>\n",
              "      <td>10</td>\n",
              "      <td>2</td>\n",
              "      <td>1</td>\n",
              "      <td>2</td>\n",
              "      <td>1608</td>\n",
              "      <td>275</td>\n",
              "      <td>1</td>\n",
              "      <td>4</td>\n",
              "      <td>74</td>\n",
              "      <td>831614</td>\n",
              "      <td>573899</td>\n",
              "      <td>2020-03-09 20:39:22</td>\n",
              "      <td>0</td>\n",
              "      <td>275</td>\n",
              "      <td>274</td>\n",
              "      <td>274</td>\n",
              "      <td>216</td>\n",
              "      <td>369</td>\n",
              "      <td>368</td>\n",
              "      <td>297</td>\n",
              "      <td>216</td>\n",
              "      <td>369</td>\n",
              "      <td>368</td>\n",
              "      <td>297</td>\n",
              "      <td>216</td>\n",
              "      <td>275</td>\n",
              "      <td>274</td>\n",
              "      <td>274</td>\n",
              "      <td>216</td>\n",
              "      <td>483</td>\n",
              "      <td>208</td>\n",
              "      <td>481</td>\n",
              "      <td>208</td>\n",
              "      <td>480</td>\n",
              "      <td>208</td>\n",
              "      <td>381</td>\n",
              "      <td>71</td>\n",
              "      <td>1607</td>\n",
              "      <td>1606</td>\n",
              "      <td>1605</td>\n",
              "      <td>2016</td>\n",
              "    </tr>\n",
              "  </tbody>\n",
              "</table>\n",
              "</div>\n",
              "      <button class=\"colab-df-convert\" onclick=\"convertToInteractive('df-fd30e74b-15b2-4e6a-87d3-dbc1b9fb2224')\"\n",
              "              title=\"Convert this dataframe to an interactive table.\"\n",
              "              style=\"display:none;\">\n",
              "        \n",
              "  <svg xmlns=\"http://www.w3.org/2000/svg\" height=\"24px\"viewBox=\"0 0 24 24\"\n",
              "       width=\"24px\">\n",
              "    <path d=\"M0 0h24v24H0V0z\" fill=\"none\"/>\n",
              "    <path d=\"M18.56 5.44l.94 2.06.94-2.06 2.06-.94-2.06-.94-.94-2.06-.94 2.06-2.06.94zm-11 1L8.5 8.5l.94-2.06 2.06-.94-2.06-.94L8.5 2.5l-.94 2.06-2.06.94zm10 10l.94 2.06.94-2.06 2.06-.94-2.06-.94-.94-2.06-.94 2.06-2.06.94z\"/><path d=\"M17.41 7.96l-1.37-1.37c-.4-.4-.92-.59-1.43-.59-.52 0-1.04.2-1.43.59L10.3 9.45l-7.72 7.72c-.78.78-.78 2.05 0 2.83L4 21.41c.39.39.9.59 1.41.59.51 0 1.02-.2 1.41-.59l7.78-7.78 2.81-2.81c.8-.78.8-2.07 0-2.86zM5.41 20L4 18.59l7.72-7.72 1.47 1.35L5.41 20z\"/>\n",
              "  </svg>\n",
              "      </button>\n",
              "      \n",
              "  <style>\n",
              "    .colab-df-container {\n",
              "      display:flex;\n",
              "      flex-wrap:wrap;\n",
              "      gap: 12px;\n",
              "    }\n",
              "\n",
              "    .colab-df-convert {\n",
              "      background-color: #E8F0FE;\n",
              "      border: none;\n",
              "      border-radius: 50%;\n",
              "      cursor: pointer;\n",
              "      display: none;\n",
              "      fill: #1967D2;\n",
              "      height: 32px;\n",
              "      padding: 0 0 0 0;\n",
              "      width: 32px;\n",
              "    }\n",
              "\n",
              "    .colab-df-convert:hover {\n",
              "      background-color: #E2EBFA;\n",
              "      box-shadow: 0px 1px 2px rgba(60, 64, 67, 0.3), 0px 1px 3px 1px rgba(60, 64, 67, 0.15);\n",
              "      fill: #174EA6;\n",
              "    }\n",
              "\n",
              "    [theme=dark] .colab-df-convert {\n",
              "      background-color: #3B4455;\n",
              "      fill: #D2E3FC;\n",
              "    }\n",
              "\n",
              "    [theme=dark] .colab-df-convert:hover {\n",
              "      background-color: #434B5C;\n",
              "      box-shadow: 0px 1px 3px 1px rgba(0, 0, 0, 0.15);\n",
              "      filter: drop-shadow(0px 1px 2px rgba(0, 0, 0, 0.3));\n",
              "      fill: #FFFFFF;\n",
              "    }\n",
              "  </style>\n",
              "\n",
              "      <script>\n",
              "        const buttonEl =\n",
              "          document.querySelector('#df-fd30e74b-15b2-4e6a-87d3-dbc1b9fb2224 button.colab-df-convert');\n",
              "        buttonEl.style.display =\n",
              "          google.colab.kernel.accessAllowed ? 'block' : 'none';\n",
              "\n",
              "        async function convertToInteractive(key) {\n",
              "          const element = document.querySelector('#df-fd30e74b-15b2-4e6a-87d3-dbc1b9fb2224');\n",
              "          const dataTable =\n",
              "            await google.colab.kernel.invokeFunction('convertToInteractive',\n",
              "                                                     [key], {});\n",
              "          if (!dataTable) return;\n",
              "\n",
              "          const docLinkHtml = 'Like what you see? Visit the ' +\n",
              "            '<a target=\"_blank\" href=https://colab.research.google.com/notebooks/data_table.ipynb>data table notebook</a>'\n",
              "            + ' to learn more about interactive tables.';\n",
              "          element.innerHTML = '';\n",
              "          dataTable['output_type'] = 'display_data';\n",
              "          await google.colab.output.renderOutput(dataTable, element);\n",
              "          const docLink = document.createElement('div');\n",
              "          docLink.innerHTML = docLinkHtml;\n",
              "          element.appendChild(docLink);\n",
              "        }\n",
              "      </script>\n",
              "    </div>\n",
              "  </div>\n",
              "  "
            ],
            "text/plain": [
              "   id  d_l_match_yn  ...  contents_attribute_l_m  contents_attribute_l_l\n",
              "0   0          True  ...                    1605                    2016\n",
              "1   1         False  ...                    1605                    2016\n",
              "2   2         False  ...                    1572                    2016\n",
              "3   3         False  ...                    1605                    2016\n",
              "4   4          True  ...                    1605                    2016\n",
              "\n",
              "[5 rows x 63 columns]"
            ]
          },
          "execution_count": 11,
          "metadata": {},
          "output_type": "execute_result"
        }
      ],
      "source": [
        "train.head()"
      ]
    },
    {
      "cell_type": "code",
      "execution_count": 12,
      "metadata": {
        "colab": {
          "base_uri": "https://localhost:8080/"
        },
        "id": "DsPY14ZKIoC1",
        "outputId": "6883cc03-2dfc-487b-a2ce-f6b2ce8c5069"
      },
      "outputs": [
        {
          "name": "stdout",
          "output_type": "stream",
          "text": [
            "<class 'pandas.core.frame.DataFrame'>\n",
            "RangeIndex: 46404 entries, 0 to 46403\n",
            "Data columns (total 62 columns):\n",
            " #   Column                  Non-Null Count  Dtype \n",
            "---  ------                  --------------  ----- \n",
            " 0   id                      46404 non-null  int64 \n",
            " 1   d_l_match_yn            46404 non-null  bool  \n",
            " 2   d_m_match_yn            46404 non-null  bool  \n",
            " 3   d_s_match_yn            46404 non-null  bool  \n",
            " 4   h_l_match_yn            46404 non-null  bool  \n",
            " 5   h_m_match_yn            46404 non-null  bool  \n",
            " 6   h_s_match_yn            46404 non-null  bool  \n",
            " 7   person_attribute_a      46404 non-null  int64 \n",
            " 8   person_attribute_a_1    46404 non-null  int64 \n",
            " 9   person_attribute_b      46404 non-null  int64 \n",
            " 10  person_prefer_c         46404 non-null  int64 \n",
            " 11  person_prefer_d_1       46404 non-null  int64 \n",
            " 12  person_prefer_d_2       46404 non-null  int64 \n",
            " 13  person_prefer_d_3       46404 non-null  int64 \n",
            " 14  person_prefer_e         46404 non-null  int64 \n",
            " 15  person_prefer_f         46404 non-null  int64 \n",
            " 16  person_prefer_g         46404 non-null  int64 \n",
            " 17  person_prefer_h_1       46404 non-null  int64 \n",
            " 18  person_prefer_h_2       46404 non-null  int64 \n",
            " 19  person_prefer_h_3       46404 non-null  int64 \n",
            " 20  contents_attribute_i    46404 non-null  int64 \n",
            " 21  contents_attribute_a    46404 non-null  int64 \n",
            " 22  contents_attribute_j_1  46404 non-null  int64 \n",
            " 23  contents_attribute_j    46404 non-null  int64 \n",
            " 24  contents_attribute_c    46404 non-null  int64 \n",
            " 25  contents_attribute_k    46404 non-null  int64 \n",
            " 26  contents_attribute_l    46404 non-null  int64 \n",
            " 27  contents_attribute_d    46404 non-null  int64 \n",
            " 28  contents_attribute_m    46404 non-null  int64 \n",
            " 29  contents_attribute_e    46404 non-null  int64 \n",
            " 30  contents_attribute_h    46404 non-null  int64 \n",
            " 31  person_rn               46404 non-null  int64 \n",
            " 32  contents_rn             46404 non-null  int64 \n",
            " 33  contents_open_dt        46404 non-null  object\n",
            " 34  person_prefer_d_1_n     46404 non-null  int64 \n",
            " 35  person_prefer_d_1_s     46404 non-null  int64 \n",
            " 36  person_prefer_d_1_m     46404 non-null  int64 \n",
            " 37  person_prefer_d_1_l     46404 non-null  int64 \n",
            " 38  person_prefer_d_2_n     46404 non-null  int64 \n",
            " 39  person_prefer_d_2_s     46404 non-null  int64 \n",
            " 40  person_prefer_d_2_m     46404 non-null  int64 \n",
            " 41  person_prefer_d_2_l     46404 non-null  int64 \n",
            " 42  person_prefer_d_3_n     46404 non-null  int64 \n",
            " 43  person_prefer_d_3_s     46404 non-null  int64 \n",
            " 44  person_prefer_d_3_m     46404 non-null  int64 \n",
            " 45  person_prefer_d_3_l     46404 non-null  int64 \n",
            " 46  contents_attribute_d_n  46404 non-null  int64 \n",
            " 47  contents_attribute_d_s  46404 non-null  int64 \n",
            " 48  contents_attribute_d_m  46404 non-null  int64 \n",
            " 49  contents_attribute_d_l  46404 non-null  int64 \n",
            " 50  person_prefer_h_1_m     46404 non-null  int64 \n",
            " 51  person_prefer_h_1_l     46404 non-null  int64 \n",
            " 52  person_prefer_h_2_m     46404 non-null  int64 \n",
            " 53  person_prefer_h_2_l     46404 non-null  int64 \n",
            " 54  person_prefer_h_3_m     46404 non-null  int64 \n",
            " 55  person_prefer_h_3_l     46404 non-null  int64 \n",
            " 56  contents_attribute_h_m  46404 non-null  int64 \n",
            " 57  contents_attribute_h_l  46404 non-null  int64 \n",
            " 58  contents_attribute_l_n  46404 non-null  int64 \n",
            " 59  contents_attribute_l_s  46404 non-null  int64 \n",
            " 60  contents_attribute_l_m  46404 non-null  int64 \n",
            " 61  contents_attribute_l_l  46404 non-null  int64 \n",
            "dtypes: bool(6), int64(55), object(1)\n",
            "memory usage: 20.1+ MB\n"
          ]
        }
      ],
      "source": [
        "test.info()"
      ]
    },
    {
      "cell_type": "code",
      "execution_count": 13,
      "metadata": {
        "colab": {
          "base_uri": "https://localhost:8080/",
          "height": 357
        },
        "id": "R1D7oZv7IoC2",
        "outputId": "16fd309d-fd8a-4429-bfad-34e0fb9a61b9"
      },
      "outputs": [
        {
          "data": {
            "text/html": [
              "\n",
              "  <div id=\"df-f59c8100-e4e3-4ef2-b657-eacf212df83b\">\n",
              "    <div class=\"colab-df-container\">\n",
              "      <div>\n",
              "<style scoped>\n",
              "    .dataframe tbody tr th:only-of-type {\n",
              "        vertical-align: middle;\n",
              "    }\n",
              "\n",
              "    .dataframe tbody tr th {\n",
              "        vertical-align: top;\n",
              "    }\n",
              "\n",
              "    .dataframe thead th {\n",
              "        text-align: right;\n",
              "    }\n",
              "</style>\n",
              "<table border=\"1\" class=\"dataframe\">\n",
              "  <thead>\n",
              "    <tr style=\"text-align: right;\">\n",
              "      <th></th>\n",
              "      <th>id</th>\n",
              "      <th>d_l_match_yn</th>\n",
              "      <th>d_m_match_yn</th>\n",
              "      <th>d_s_match_yn</th>\n",
              "      <th>h_l_match_yn</th>\n",
              "      <th>h_m_match_yn</th>\n",
              "      <th>h_s_match_yn</th>\n",
              "      <th>person_attribute_a</th>\n",
              "      <th>person_attribute_a_1</th>\n",
              "      <th>person_attribute_b</th>\n",
              "      <th>person_prefer_c</th>\n",
              "      <th>person_prefer_d_1</th>\n",
              "      <th>person_prefer_d_2</th>\n",
              "      <th>person_prefer_d_3</th>\n",
              "      <th>person_prefer_e</th>\n",
              "      <th>person_prefer_f</th>\n",
              "      <th>person_prefer_g</th>\n",
              "      <th>person_prefer_h_1</th>\n",
              "      <th>person_prefer_h_2</th>\n",
              "      <th>person_prefer_h_3</th>\n",
              "      <th>contents_attribute_i</th>\n",
              "      <th>contents_attribute_a</th>\n",
              "      <th>contents_attribute_j_1</th>\n",
              "      <th>contents_attribute_j</th>\n",
              "      <th>contents_attribute_c</th>\n",
              "      <th>contents_attribute_k</th>\n",
              "      <th>contents_attribute_l</th>\n",
              "      <th>contents_attribute_d</th>\n",
              "      <th>contents_attribute_m</th>\n",
              "      <th>contents_attribute_e</th>\n",
              "      <th>contents_attribute_h</th>\n",
              "      <th>person_rn</th>\n",
              "      <th>contents_rn</th>\n",
              "      <th>contents_open_dt</th>\n",
              "      <th>person_prefer_d_1_n</th>\n",
              "      <th>person_prefer_d_1_s</th>\n",
              "      <th>person_prefer_d_1_m</th>\n",
              "      <th>person_prefer_d_1_l</th>\n",
              "      <th>person_prefer_d_2_n</th>\n",
              "      <th>person_prefer_d_2_s</th>\n",
              "      <th>person_prefer_d_2_m</th>\n",
              "      <th>person_prefer_d_2_l</th>\n",
              "      <th>person_prefer_d_3_n</th>\n",
              "      <th>person_prefer_d_3_s</th>\n",
              "      <th>person_prefer_d_3_m</th>\n",
              "      <th>person_prefer_d_3_l</th>\n",
              "      <th>contents_attribute_d_n</th>\n",
              "      <th>contents_attribute_d_s</th>\n",
              "      <th>contents_attribute_d_m</th>\n",
              "      <th>contents_attribute_d_l</th>\n",
              "      <th>person_prefer_h_1_m</th>\n",
              "      <th>person_prefer_h_1_l</th>\n",
              "      <th>person_prefer_h_2_m</th>\n",
              "      <th>person_prefer_h_2_l</th>\n",
              "      <th>person_prefer_h_3_m</th>\n",
              "      <th>person_prefer_h_3_l</th>\n",
              "      <th>contents_attribute_h_m</th>\n",
              "      <th>contents_attribute_h_l</th>\n",
              "      <th>contents_attribute_l_n</th>\n",
              "      <th>contents_attribute_l_s</th>\n",
              "      <th>contents_attribute_l_m</th>\n",
              "      <th>contents_attribute_l_l</th>\n",
              "    </tr>\n",
              "  </thead>\n",
              "  <tbody>\n",
              "    <tr>\n",
              "      <th>0</th>\n",
              "      <td>0</td>\n",
              "      <td>True</td>\n",
              "      <td>False</td>\n",
              "      <td>False</td>\n",
              "      <td>True</td>\n",
              "      <td>True</td>\n",
              "      <td>True</td>\n",
              "      <td>1</td>\n",
              "      <td>1</td>\n",
              "      <td>2</td>\n",
              "      <td>1</td>\n",
              "      <td>857</td>\n",
              "      <td>851</td>\n",
              "      <td>1227</td>\n",
              "      <td>4</td>\n",
              "      <td>1</td>\n",
              "      <td>1</td>\n",
              "      <td>263</td>\n",
              "      <td>56</td>\n",
              "      <td>49</td>\n",
              "      <td>1</td>\n",
              "      <td>3</td>\n",
              "      <td>10</td>\n",
              "      <td>2</td>\n",
              "      <td>1</td>\n",
              "      <td>2</td>\n",
              "      <td>1147</td>\n",
              "      <td>839</td>\n",
              "      <td>1</td>\n",
              "      <td>5</td>\n",
              "      <td>263</td>\n",
              "      <td>393790</td>\n",
              "      <td>236865</td>\n",
              "      <td>2020-12-01 02:24:18</td>\n",
              "      <td>854</td>\n",
              "      <td>853</td>\n",
              "      <td>824</td>\n",
              "      <td>744</td>\n",
              "      <td>847</td>\n",
              "      <td>847</td>\n",
              "      <td>824</td>\n",
              "      <td>744</td>\n",
              "      <td>1227</td>\n",
              "      <td>1227</td>\n",
              "      <td>1227</td>\n",
              "      <td>926</td>\n",
              "      <td>836</td>\n",
              "      <td>831</td>\n",
              "      <td>824</td>\n",
              "      <td>744</td>\n",
              "      <td>528</td>\n",
              "      <td>250</td>\n",
              "      <td>366</td>\n",
              "      <td>48</td>\n",
              "      <td>359</td>\n",
              "      <td>48</td>\n",
              "      <td>528</td>\n",
              "      <td>250</td>\n",
              "      <td>1146</td>\n",
              "      <td>1128</td>\n",
              "      <td>1021</td>\n",
              "      <td>2010</td>\n",
              "    </tr>\n",
              "    <tr>\n",
              "      <th>1</th>\n",
              "      <td>1</td>\n",
              "      <td>False</td>\n",
              "      <td>False</td>\n",
              "      <td>False</td>\n",
              "      <td>True</td>\n",
              "      <td>False</td>\n",
              "      <td>False</td>\n",
              "      <td>2</td>\n",
              "      <td>0</td>\n",
              "      <td>2</td>\n",
              "      <td>2</td>\n",
              "      <td>683</td>\n",
              "      <td>1086</td>\n",
              "      <td>662</td>\n",
              "      <td>2</td>\n",
              "      <td>1</td>\n",
              "      <td>1</td>\n",
              "      <td>258</td>\n",
              "      <td>263</td>\n",
              "      <td>49</td>\n",
              "      <td>1</td>\n",
              "      <td>3</td>\n",
              "      <td>5</td>\n",
              "      <td>1</td>\n",
              "      <td>1</td>\n",
              "      <td>2</td>\n",
              "      <td>1611</td>\n",
              "      <td>278</td>\n",
              "      <td>1</td>\n",
              "      <td>4</td>\n",
              "      <td>263</td>\n",
              "      <td>394058</td>\n",
              "      <td>236572</td>\n",
              "      <td>2020-12-17 05:42:53</td>\n",
              "      <td>683</td>\n",
              "      <td>677</td>\n",
              "      <td>659</td>\n",
              "      <td>618</td>\n",
              "      <td>1086</td>\n",
              "      <td>1086</td>\n",
              "      <td>1053</td>\n",
              "      <td>926</td>\n",
              "      <td>662</td>\n",
              "      <td>660</td>\n",
              "      <td>659</td>\n",
              "      <td>618</td>\n",
              "      <td>276</td>\n",
              "      <td>274</td>\n",
              "      <td>274</td>\n",
              "      <td>216</td>\n",
              "      <td>523</td>\n",
              "      <td>250</td>\n",
              "      <td>528</td>\n",
              "      <td>250</td>\n",
              "      <td>359</td>\n",
              "      <td>48</td>\n",
              "      <td>528</td>\n",
              "      <td>250</td>\n",
              "      <td>1610</td>\n",
              "      <td>1606</td>\n",
              "      <td>1605</td>\n",
              "      <td>2016</td>\n",
              "    </tr>\n",
              "    <tr>\n",
              "      <th>2</th>\n",
              "      <td>2</td>\n",
              "      <td>True</td>\n",
              "      <td>False</td>\n",
              "      <td>False</td>\n",
              "      <td>True</td>\n",
              "      <td>True</td>\n",
              "      <td>True</td>\n",
              "      <td>2</td>\n",
              "      <td>3</td>\n",
              "      <td>2</td>\n",
              "      <td>1</td>\n",
              "      <td>514</td>\n",
              "      <td>790</td>\n",
              "      <td>1233</td>\n",
              "      <td>0</td>\n",
              "      <td>1</td>\n",
              "      <td>1</td>\n",
              "      <td>177</td>\n",
              "      <td>170</td>\n",
              "      <td>171</td>\n",
              "      <td>3</td>\n",
              "      <td>3</td>\n",
              "      <td>3</td>\n",
              "      <td>1</td>\n",
              "      <td>1</td>\n",
              "      <td>2</td>\n",
              "      <td>1817</td>\n",
              "      <td>490</td>\n",
              "      <td>3</td>\n",
              "      <td>4</td>\n",
              "      <td>177</td>\n",
              "      <td>1002061</td>\n",
              "      <td>704612</td>\n",
              "      <td>2020-12-10 23:33:41</td>\n",
              "      <td>514</td>\n",
              "      <td>509</td>\n",
              "      <td>482</td>\n",
              "      <td>482</td>\n",
              "      <td>784</td>\n",
              "      <td>783</td>\n",
              "      <td>745</td>\n",
              "      <td>744</td>\n",
              "      <td>1227</td>\n",
              "      <td>1227</td>\n",
              "      <td>1227</td>\n",
              "      <td>926</td>\n",
              "      <td>490</td>\n",
              "      <td>490</td>\n",
              "      <td>482</td>\n",
              "      <td>482</td>\n",
              "      <td>453</td>\n",
              "      <td>169</td>\n",
              "      <td>451</td>\n",
              "      <td>169</td>\n",
              "      <td>452</td>\n",
              "      <td>169</td>\n",
              "      <td>453</td>\n",
              "      <td>169</td>\n",
              "      <td>1812</td>\n",
              "      <td>1811</td>\n",
              "      <td>1810</td>\n",
              "      <td>2020</td>\n",
              "    </tr>\n",
              "    <tr>\n",
              "      <th>3</th>\n",
              "      <td>3</td>\n",
              "      <td>True</td>\n",
              "      <td>False</td>\n",
              "      <td>False</td>\n",
              "      <td>True</td>\n",
              "      <td>True</td>\n",
              "      <td>True</td>\n",
              "      <td>1</td>\n",
              "      <td>2</td>\n",
              "      <td>2</td>\n",
              "      <td>5</td>\n",
              "      <td>114</td>\n",
              "      <td>181</td>\n",
              "      <td>175</td>\n",
              "      <td>4</td>\n",
              "      <td>1</td>\n",
              "      <td>1</td>\n",
              "      <td>177</td>\n",
              "      <td>170</td>\n",
              "      <td>171</td>\n",
              "      <td>3</td>\n",
              "      <td>3</td>\n",
              "      <td>5</td>\n",
              "      <td>1</td>\n",
              "      <td>1</td>\n",
              "      <td>2</td>\n",
              "      <td>101</td>\n",
              "      <td>150</td>\n",
              "      <td>5</td>\n",
              "      <td>3</td>\n",
              "      <td>177</td>\n",
              "      <td>1000813</td>\n",
              "      <td>704652</td>\n",
              "      <td>2020-12-03 19:44:55</td>\n",
              "      <td>114</td>\n",
              "      <td>109</td>\n",
              "      <td>56</td>\n",
              "      <td>1</td>\n",
              "      <td>175</td>\n",
              "      <td>152</td>\n",
              "      <td>56</td>\n",
              "      <td>1</td>\n",
              "      <td>175</td>\n",
              "      <td>152</td>\n",
              "      <td>56</td>\n",
              "      <td>1</td>\n",
              "      <td>145</td>\n",
              "      <td>123</td>\n",
              "      <td>56</td>\n",
              "      <td>1</td>\n",
              "      <td>453</td>\n",
              "      <td>169</td>\n",
              "      <td>451</td>\n",
              "      <td>169</td>\n",
              "      <td>452</td>\n",
              "      <td>169</td>\n",
              "      <td>453</td>\n",
              "      <td>169</td>\n",
              "      <td>101</td>\n",
              "      <td>100</td>\n",
              "      <td>99</td>\n",
              "      <td>2006</td>\n",
              "    </tr>\n",
              "    <tr>\n",
              "      <th>4</th>\n",
              "      <td>4</td>\n",
              "      <td>True</td>\n",
              "      <td>False</td>\n",
              "      <td>False</td>\n",
              "      <td>True</td>\n",
              "      <td>False</td>\n",
              "      <td>False</td>\n",
              "      <td>1</td>\n",
              "      <td>6</td>\n",
              "      <td>4</td>\n",
              "      <td>5</td>\n",
              "      <td>1082</td>\n",
              "      <td>1078</td>\n",
              "      <td>1056</td>\n",
              "      <td>5</td>\n",
              "      <td>1</td>\n",
              "      <td>1</td>\n",
              "      <td>178</td>\n",
              "      <td>177</td>\n",
              "      <td>4</td>\n",
              "      <td>3</td>\n",
              "      <td>1</td>\n",
              "      <td>5</td>\n",
              "      <td>1</td>\n",
              "      <td>1</td>\n",
              "      <td>1</td>\n",
              "      <td>985</td>\n",
              "      <td>1097</td>\n",
              "      <td>1</td>\n",
              "      <td>4</td>\n",
              "      <td>177</td>\n",
              "      <td>111146</td>\n",
              "      <td>704413</td>\n",
              "      <td>2020-12-11 21:24:34</td>\n",
              "      <td>1078</td>\n",
              "      <td>1078</td>\n",
              "      <td>1053</td>\n",
              "      <td>926</td>\n",
              "      <td>1078</td>\n",
              "      <td>1078</td>\n",
              "      <td>1053</td>\n",
              "      <td>926</td>\n",
              "      <td>1056</td>\n",
              "      <td>1054</td>\n",
              "      <td>1053</td>\n",
              "      <td>926</td>\n",
              "      <td>1097</td>\n",
              "      <td>1094</td>\n",
              "      <td>1093</td>\n",
              "      <td>926</td>\n",
              "      <td>454</td>\n",
              "      <td>169</td>\n",
              "      <td>453</td>\n",
              "      <td>169</td>\n",
              "      <td>316</td>\n",
              "      <td>3</td>\n",
              "      <td>453</td>\n",
              "      <td>169</td>\n",
              "      <td>984</td>\n",
              "      <td>980</td>\n",
              "      <td>954</td>\n",
              "      <td>2009</td>\n",
              "    </tr>\n",
              "  </tbody>\n",
              "</table>\n",
              "</div>\n",
              "      <button class=\"colab-df-convert\" onclick=\"convertToInteractive('df-f59c8100-e4e3-4ef2-b657-eacf212df83b')\"\n",
              "              title=\"Convert this dataframe to an interactive table.\"\n",
              "              style=\"display:none;\">\n",
              "        \n",
              "  <svg xmlns=\"http://www.w3.org/2000/svg\" height=\"24px\"viewBox=\"0 0 24 24\"\n",
              "       width=\"24px\">\n",
              "    <path d=\"M0 0h24v24H0V0z\" fill=\"none\"/>\n",
              "    <path d=\"M18.56 5.44l.94 2.06.94-2.06 2.06-.94-2.06-.94-.94-2.06-.94 2.06-2.06.94zm-11 1L8.5 8.5l.94-2.06 2.06-.94-2.06-.94L8.5 2.5l-.94 2.06-2.06.94zm10 10l.94 2.06.94-2.06 2.06-.94-2.06-.94-.94-2.06-.94 2.06-2.06.94z\"/><path d=\"M17.41 7.96l-1.37-1.37c-.4-.4-.92-.59-1.43-.59-.52 0-1.04.2-1.43.59L10.3 9.45l-7.72 7.72c-.78.78-.78 2.05 0 2.83L4 21.41c.39.39.9.59 1.41.59.51 0 1.02-.2 1.41-.59l7.78-7.78 2.81-2.81c.8-.78.8-2.07 0-2.86zM5.41 20L4 18.59l7.72-7.72 1.47 1.35L5.41 20z\"/>\n",
              "  </svg>\n",
              "      </button>\n",
              "      \n",
              "  <style>\n",
              "    .colab-df-container {\n",
              "      display:flex;\n",
              "      flex-wrap:wrap;\n",
              "      gap: 12px;\n",
              "    }\n",
              "\n",
              "    .colab-df-convert {\n",
              "      background-color: #E8F0FE;\n",
              "      border: none;\n",
              "      border-radius: 50%;\n",
              "      cursor: pointer;\n",
              "      display: none;\n",
              "      fill: #1967D2;\n",
              "      height: 32px;\n",
              "      padding: 0 0 0 0;\n",
              "      width: 32px;\n",
              "    }\n",
              "\n",
              "    .colab-df-convert:hover {\n",
              "      background-color: #E2EBFA;\n",
              "      box-shadow: 0px 1px 2px rgba(60, 64, 67, 0.3), 0px 1px 3px 1px rgba(60, 64, 67, 0.15);\n",
              "      fill: #174EA6;\n",
              "    }\n",
              "\n",
              "    [theme=dark] .colab-df-convert {\n",
              "      background-color: #3B4455;\n",
              "      fill: #D2E3FC;\n",
              "    }\n",
              "\n",
              "    [theme=dark] .colab-df-convert:hover {\n",
              "      background-color: #434B5C;\n",
              "      box-shadow: 0px 1px 3px 1px rgba(0, 0, 0, 0.15);\n",
              "      filter: drop-shadow(0px 1px 2px rgba(0, 0, 0, 0.3));\n",
              "      fill: #FFFFFF;\n",
              "    }\n",
              "  </style>\n",
              "\n",
              "      <script>\n",
              "        const buttonEl =\n",
              "          document.querySelector('#df-f59c8100-e4e3-4ef2-b657-eacf212df83b button.colab-df-convert');\n",
              "        buttonEl.style.display =\n",
              "          google.colab.kernel.accessAllowed ? 'block' : 'none';\n",
              "\n",
              "        async function convertToInteractive(key) {\n",
              "          const element = document.querySelector('#df-f59c8100-e4e3-4ef2-b657-eacf212df83b');\n",
              "          const dataTable =\n",
              "            await google.colab.kernel.invokeFunction('convertToInteractive',\n",
              "                                                     [key], {});\n",
              "          if (!dataTable) return;\n",
              "\n",
              "          const docLinkHtml = 'Like what you see? Visit the ' +\n",
              "            '<a target=\"_blank\" href=https://colab.research.google.com/notebooks/data_table.ipynb>data table notebook</a>'\n",
              "            + ' to learn more about interactive tables.';\n",
              "          element.innerHTML = '';\n",
              "          dataTable['output_type'] = 'display_data';\n",
              "          await google.colab.output.renderOutput(dataTable, element);\n",
              "          const docLink = document.createElement('div');\n",
              "          docLink.innerHTML = docLinkHtml;\n",
              "          element.appendChild(docLink);\n",
              "        }\n",
              "      </script>\n",
              "    </div>\n",
              "  </div>\n",
              "  "
            ],
            "text/plain": [
              "   id  d_l_match_yn  ...  contents_attribute_l_m  contents_attribute_l_l\n",
              "0   0          True  ...                    1021                    2010\n",
              "1   1         False  ...                    1605                    2016\n",
              "2   2          True  ...                    1810                    2020\n",
              "3   3          True  ...                      99                    2006\n",
              "4   4          True  ...                     954                    2009\n",
              "\n",
              "[5 rows x 62 columns]"
            ]
          },
          "execution_count": 13,
          "metadata": {},
          "output_type": "execute_result"
        }
      ],
      "source": [
        "test.head()"
      ]
    },
    {
      "cell_type": "markdown",
      "metadata": {
        "id": "SzTivcJdIoC2"
      },
      "source": [
        "# 필요 데이터 추출"
      ]
    },
    {
      "cell_type": "markdown",
      "metadata": {
        "id": "gSoik3ZSIoC3"
      },
      "source": [
        "## 훈련에 의미가 적은 열 제거"
      ]
    },
    {
      "cell_type": "code",
      "execution_count": 14,
      "metadata": {
        "id": "jY4oUOnKEqm0"
      },
      "outputs": [],
      "source": [
        "# 제거된 특성(4개)\n",
        "# 'id',\n",
        "# 'contents_open_dt',\n",
        "# 'person_prefer_f',\n",
        "# 'person_prefer_g',"
      ]
    },
    {
      "cell_type": "code",
      "execution_count": 15,
      "metadata": {
        "colab": {
          "base_uri": "https://localhost:8080/"
        },
        "id": "YFpKYDgj8CLE",
        "outputId": "74442e95-5be4-4a7a-804e-3dda312d1e2c"
      },
      "outputs": [
        {
          "data": {
            "text/plain": [
              "4"
            ]
          },
          "execution_count": 15,
          "metadata": {},
          "output_type": "execute_result"
        }
      ],
      "source": [
        "# 삭제할 특성\n",
        "pop_col = ['id', 'contents_open_dt', 'person_prefer_f', 'person_prefer_g']\n",
        "len(pop_col)"
      ]
    },
    {
      "cell_type": "code",
      "execution_count": 16,
      "metadata": {
        "id": "Y1Ki4mFpskOn"
      },
      "outputs": [],
      "source": [
        "train = train.drop(pop_col, axis=1) \n",
        "test = test.drop(pop_col, axis=1)"
      ]
    },
    {
      "cell_type": "code",
      "execution_count": 17,
      "metadata": {
        "colab": {
          "base_uri": "https://localhost:8080/"
        },
        "id": "9GxGKXZzIoC5",
        "outputId": "77d521f5-1dd5-45f2-de97-4fb2bc288d16"
      },
      "outputs": [
        {
          "name": "stdout",
          "output_type": "stream",
          "text": [
            "<class 'pandas.core.frame.DataFrame'>\n",
            "RangeIndex: 501951 entries, 0 to 501950\n",
            "Data columns (total 59 columns):\n",
            " #   Column                  Non-Null Count   Dtype\n",
            "---  ------                  --------------   -----\n",
            " 0   d_l_match_yn            501951 non-null  bool \n",
            " 1   d_m_match_yn            501951 non-null  bool \n",
            " 2   d_s_match_yn            501951 non-null  bool \n",
            " 3   h_l_match_yn            501951 non-null  bool \n",
            " 4   h_m_match_yn            501951 non-null  bool \n",
            " 5   h_s_match_yn            501951 non-null  bool \n",
            " 6   person_attribute_a      501951 non-null  int64\n",
            " 7   person_attribute_a_1    501951 non-null  int64\n",
            " 8   person_attribute_b      501951 non-null  int64\n",
            " 9   person_prefer_c         501951 non-null  int64\n",
            " 10  person_prefer_d_1       501951 non-null  int64\n",
            " 11  person_prefer_d_2       501951 non-null  int64\n",
            " 12  person_prefer_d_3       501951 non-null  int64\n",
            " 13  person_prefer_e         501951 non-null  int64\n",
            " 14  person_prefer_h_1       501951 non-null  int64\n",
            " 15  person_prefer_h_2       501951 non-null  int64\n",
            " 16  person_prefer_h_3       501951 non-null  int64\n",
            " 17  contents_attribute_i    501951 non-null  int64\n",
            " 18  contents_attribute_a    501951 non-null  int64\n",
            " 19  contents_attribute_j_1  501951 non-null  int64\n",
            " 20  contents_attribute_j    501951 non-null  int64\n",
            " 21  contents_attribute_c    501951 non-null  int64\n",
            " 22  contents_attribute_k    501951 non-null  int64\n",
            " 23  contents_attribute_l    501951 non-null  int64\n",
            " 24  contents_attribute_d    501951 non-null  int64\n",
            " 25  contents_attribute_m    501951 non-null  int64\n",
            " 26  contents_attribute_e    501951 non-null  int64\n",
            " 27  contents_attribute_h    501951 non-null  int64\n",
            " 28  person_rn               501951 non-null  int64\n",
            " 29  contents_rn             501951 non-null  int64\n",
            " 30  target                  501951 non-null  int64\n",
            " 31  person_prefer_d_1_n     501951 non-null  int64\n",
            " 32  person_prefer_d_1_s     501951 non-null  int64\n",
            " 33  person_prefer_d_1_m     501951 non-null  int64\n",
            " 34  person_prefer_d_1_l     501951 non-null  int64\n",
            " 35  person_prefer_d_2_n     501951 non-null  int64\n",
            " 36  person_prefer_d_2_s     501951 non-null  int64\n",
            " 37  person_prefer_d_2_m     501951 non-null  int64\n",
            " 38  person_prefer_d_2_l     501951 non-null  int64\n",
            " 39  person_prefer_d_3_n     501951 non-null  int64\n",
            " 40  person_prefer_d_3_s     501951 non-null  int64\n",
            " 41  person_prefer_d_3_m     501951 non-null  int64\n",
            " 42  person_prefer_d_3_l     501951 non-null  int64\n",
            " 43  contents_attribute_d_n  501951 non-null  int64\n",
            " 44  contents_attribute_d_s  501951 non-null  int64\n",
            " 45  contents_attribute_d_m  501951 non-null  int64\n",
            " 46  contents_attribute_d_l  501951 non-null  int64\n",
            " 47  person_prefer_h_1_m     501951 non-null  int64\n",
            " 48  person_prefer_h_1_l     501951 non-null  int64\n",
            " 49  person_prefer_h_2_m     501951 non-null  int64\n",
            " 50  person_prefer_h_2_l     501951 non-null  int64\n",
            " 51  person_prefer_h_3_m     501951 non-null  int64\n",
            " 52  person_prefer_h_3_l     501951 non-null  int64\n",
            " 53  contents_attribute_h_m  501951 non-null  int64\n",
            " 54  contents_attribute_h_l  501951 non-null  int64\n",
            " 55  contents_attribute_l_n  501951 non-null  int64\n",
            " 56  contents_attribute_l_s  501951 non-null  int64\n",
            " 57  contents_attribute_l_m  501951 non-null  int64\n",
            " 58  contents_attribute_l_l  501951 non-null  int64\n",
            "dtypes: bool(6), int64(53)\n",
            "memory usage: 205.8 MB\n"
          ]
        }
      ],
      "source": [
        "train.info()"
      ]
    },
    {
      "cell_type": "code",
      "execution_count": 18,
      "metadata": {
        "colab": {
          "base_uri": "https://localhost:8080/"
        },
        "id": "V5-U2wAQskOn",
        "outputId": "7453f4af-7fd9-4b6e-e299-5fa960be7a6e"
      },
      "outputs": [
        {
          "name": "stdout",
          "output_type": "stream",
          "text": [
            "<class 'pandas.core.frame.DataFrame'>\n",
            "RangeIndex: 46404 entries, 0 to 46403\n",
            "Data columns (total 58 columns):\n",
            " #   Column                  Non-Null Count  Dtype\n",
            "---  ------                  --------------  -----\n",
            " 0   d_l_match_yn            46404 non-null  bool \n",
            " 1   d_m_match_yn            46404 non-null  bool \n",
            " 2   d_s_match_yn            46404 non-null  bool \n",
            " 3   h_l_match_yn            46404 non-null  bool \n",
            " 4   h_m_match_yn            46404 non-null  bool \n",
            " 5   h_s_match_yn            46404 non-null  bool \n",
            " 6   person_attribute_a      46404 non-null  int64\n",
            " 7   person_attribute_a_1    46404 non-null  int64\n",
            " 8   person_attribute_b      46404 non-null  int64\n",
            " 9   person_prefer_c         46404 non-null  int64\n",
            " 10  person_prefer_d_1       46404 non-null  int64\n",
            " 11  person_prefer_d_2       46404 non-null  int64\n",
            " 12  person_prefer_d_3       46404 non-null  int64\n",
            " 13  person_prefer_e         46404 non-null  int64\n",
            " 14  person_prefer_h_1       46404 non-null  int64\n",
            " 15  person_prefer_h_2       46404 non-null  int64\n",
            " 16  person_prefer_h_3       46404 non-null  int64\n",
            " 17  contents_attribute_i    46404 non-null  int64\n",
            " 18  contents_attribute_a    46404 non-null  int64\n",
            " 19  contents_attribute_j_1  46404 non-null  int64\n",
            " 20  contents_attribute_j    46404 non-null  int64\n",
            " 21  contents_attribute_c    46404 non-null  int64\n",
            " 22  contents_attribute_k    46404 non-null  int64\n",
            " 23  contents_attribute_l    46404 non-null  int64\n",
            " 24  contents_attribute_d    46404 non-null  int64\n",
            " 25  contents_attribute_m    46404 non-null  int64\n",
            " 26  contents_attribute_e    46404 non-null  int64\n",
            " 27  contents_attribute_h    46404 non-null  int64\n",
            " 28  person_rn               46404 non-null  int64\n",
            " 29  contents_rn             46404 non-null  int64\n",
            " 30  person_prefer_d_1_n     46404 non-null  int64\n",
            " 31  person_prefer_d_1_s     46404 non-null  int64\n",
            " 32  person_prefer_d_1_m     46404 non-null  int64\n",
            " 33  person_prefer_d_1_l     46404 non-null  int64\n",
            " 34  person_prefer_d_2_n     46404 non-null  int64\n",
            " 35  person_prefer_d_2_s     46404 non-null  int64\n",
            " 36  person_prefer_d_2_m     46404 non-null  int64\n",
            " 37  person_prefer_d_2_l     46404 non-null  int64\n",
            " 38  person_prefer_d_3_n     46404 non-null  int64\n",
            " 39  person_prefer_d_3_s     46404 non-null  int64\n",
            " 40  person_prefer_d_3_m     46404 non-null  int64\n",
            " 41  person_prefer_d_3_l     46404 non-null  int64\n",
            " 42  contents_attribute_d_n  46404 non-null  int64\n",
            " 43  contents_attribute_d_s  46404 non-null  int64\n",
            " 44  contents_attribute_d_m  46404 non-null  int64\n",
            " 45  contents_attribute_d_l  46404 non-null  int64\n",
            " 46  person_prefer_h_1_m     46404 non-null  int64\n",
            " 47  person_prefer_h_1_l     46404 non-null  int64\n",
            " 48  person_prefer_h_2_m     46404 non-null  int64\n",
            " 49  person_prefer_h_2_l     46404 non-null  int64\n",
            " 50  person_prefer_h_3_m     46404 non-null  int64\n",
            " 51  person_prefer_h_3_l     46404 non-null  int64\n",
            " 52  contents_attribute_h_m  46404 non-null  int64\n",
            " 53  contents_attribute_h_l  46404 non-null  int64\n",
            " 54  contents_attribute_l_n  46404 non-null  int64\n",
            " 55  contents_attribute_l_s  46404 non-null  int64\n",
            " 56  contents_attribute_l_m  46404 non-null  int64\n",
            " 57  contents_attribute_l_l  46404 non-null  int64\n",
            "dtypes: bool(6), int64(52)\n",
            "memory usage: 18.7 MB\n"
          ]
        }
      ],
      "source": [
        "test.info()"
      ]
    },
    {
      "cell_type": "markdown",
      "metadata": {
        "id": "DXz4RmccKA8g"
      },
      "source": [
        "## 카테고리형 특성 원핫인코딩시 컬럼 명 겹치는 문제 해결위해 특성명 변경"
      ]
    },
    {
      "cell_type": "code",
      "execution_count": 19,
      "metadata": {
        "colab": {
          "base_uri": "https://localhost:8080/",
          "height": 270
        },
        "id": "7RkuVrfSKCQ0",
        "outputId": "139239f6-f71c-4869-ec8f-f903b6a9a442"
      },
      "outputs": [
        {
          "data": {
            "text/html": [
              "\n",
              "  <div id=\"df-45d33518-a8b1-4628-a8d3-7b8598e0c093\">\n",
              "    <div class=\"colab-df-container\">\n",
              "      <div>\n",
              "<style scoped>\n",
              "    .dataframe tbody tr th:only-of-type {\n",
              "        vertical-align: middle;\n",
              "    }\n",
              "\n",
              "    .dataframe tbody tr th {\n",
              "        vertical-align: top;\n",
              "    }\n",
              "\n",
              "    .dataframe thead th {\n",
              "        text-align: right;\n",
              "    }\n",
              "</style>\n",
              "<table border=\"1\" class=\"dataframe\">\n",
              "  <thead>\n",
              "    <tr style=\"text-align: right;\">\n",
              "      <th></th>\n",
              "      <th>d_l_match_yn</th>\n",
              "      <th>d_m_match_yn</th>\n",
              "      <th>d_s_match_yn</th>\n",
              "      <th>h_l_match_yn</th>\n",
              "      <th>h_m_match_yn</th>\n",
              "      <th>h_s_match_yn</th>\n",
              "      <th>person_attribute_a</th>\n",
              "      <th>person_attribute_a_a</th>\n",
              "      <th>person_attribute_b</th>\n",
              "      <th>person_prefer_c</th>\n",
              "      <th>person_prefer_d_1</th>\n",
              "      <th>person_prefer_d_2</th>\n",
              "      <th>person_prefer_d_3</th>\n",
              "      <th>person_prefer_e</th>\n",
              "      <th>person_prefer_h_1</th>\n",
              "      <th>person_prefer_h_2</th>\n",
              "      <th>person_prefer_h_3</th>\n",
              "      <th>contents_attribute_i</th>\n",
              "      <th>contents_attribute_a</th>\n",
              "      <th>contents_attribute_j_a</th>\n",
              "      <th>contents_attribute_j</th>\n",
              "      <th>contents_attribute_c</th>\n",
              "      <th>contents_attribute_k</th>\n",
              "      <th>contents_attribute_l</th>\n",
              "      <th>contents_attribute_d</th>\n",
              "      <th>contents_attribute_m</th>\n",
              "      <th>contents_attribute_e</th>\n",
              "      <th>contents_attribute_h</th>\n",
              "      <th>person_rn</th>\n",
              "      <th>contents_rn</th>\n",
              "      <th>target</th>\n",
              "      <th>person_prefer_d_1_n</th>\n",
              "      <th>person_prefer_d_1_s</th>\n",
              "      <th>person_prefer_d_1_m</th>\n",
              "      <th>person_prefer_d_1_l</th>\n",
              "      <th>person_prefer_d_2_n</th>\n",
              "      <th>person_prefer_d_2_s</th>\n",
              "      <th>person_prefer_d_2_m</th>\n",
              "      <th>person_prefer_d_2_l</th>\n",
              "      <th>person_prefer_d_3_n</th>\n",
              "      <th>person_prefer_d_3_s</th>\n",
              "      <th>person_prefer_d_3_m</th>\n",
              "      <th>person_prefer_d_3_l</th>\n",
              "      <th>contents_attribute_d_n</th>\n",
              "      <th>contents_attribute_d_s</th>\n",
              "      <th>contents_attribute_d_m</th>\n",
              "      <th>contents_attribute_d_l</th>\n",
              "      <th>person_prefer_h_1_m</th>\n",
              "      <th>person_prefer_h_1_l</th>\n",
              "      <th>person_prefer_h_2_m</th>\n",
              "      <th>person_prefer_h_2_l</th>\n",
              "      <th>person_prefer_h_3_m</th>\n",
              "      <th>person_prefer_h_3_l</th>\n",
              "      <th>contents_attribute_h_m</th>\n",
              "      <th>contents_attribute_h_l</th>\n",
              "      <th>contents_attribute_l_n</th>\n",
              "      <th>contents_attribute_l_s</th>\n",
              "      <th>contents_attribute_l_m</th>\n",
              "      <th>contents_attribute_l_l</th>\n",
              "    </tr>\n",
              "  </thead>\n",
              "  <tbody>\n",
              "    <tr>\n",
              "      <th>0</th>\n",
              "      <td>True</td>\n",
              "      <td>True</td>\n",
              "      <td>True</td>\n",
              "      <td>False</td>\n",
              "      <td>False</td>\n",
              "      <td>False</td>\n",
              "      <td>1</td>\n",
              "      <td>4</td>\n",
              "      <td>3</td>\n",
              "      <td>5</td>\n",
              "      <td>275</td>\n",
              "      <td>370</td>\n",
              "      <td>369</td>\n",
              "      <td>8</td>\n",
              "      <td>4</td>\n",
              "      <td>95</td>\n",
              "      <td>59</td>\n",
              "      <td>3</td>\n",
              "      <td>3</td>\n",
              "      <td>10</td>\n",
              "      <td>2</td>\n",
              "      <td>1</td>\n",
              "      <td>2</td>\n",
              "      <td>1608</td>\n",
              "      <td>275</td>\n",
              "      <td>1</td>\n",
              "      <td>4</td>\n",
              "      <td>139</td>\n",
              "      <td>618822</td>\n",
              "      <td>354805</td>\n",
              "      <td>1</td>\n",
              "      <td>275</td>\n",
              "      <td>274</td>\n",
              "      <td>274</td>\n",
              "      <td>216</td>\n",
              "      <td>369</td>\n",
              "      <td>368</td>\n",
              "      <td>297</td>\n",
              "      <td>216</td>\n",
              "      <td>369</td>\n",
              "      <td>368</td>\n",
              "      <td>297</td>\n",
              "      <td>216</td>\n",
              "      <td>275</td>\n",
              "      <td>274</td>\n",
              "      <td>274</td>\n",
              "      <td>216</td>\n",
              "      <td>316</td>\n",
              "      <td>3</td>\n",
              "      <td>398</td>\n",
              "      <td>94</td>\n",
              "      <td>368</td>\n",
              "      <td>58</td>\n",
              "      <td>422</td>\n",
              "      <td>94</td>\n",
              "      <td>1607</td>\n",
              "      <td>1606</td>\n",
              "      <td>1605</td>\n",
              "      <td>2016</td>\n",
              "    </tr>\n",
              "    <tr>\n",
              "      <th>1</th>\n",
              "      <td>False</td>\n",
              "      <td>False</td>\n",
              "      <td>False</td>\n",
              "      <td>True</td>\n",
              "      <td>True</td>\n",
              "      <td>False</td>\n",
              "      <td>1</td>\n",
              "      <td>3</td>\n",
              "      <td>4</td>\n",
              "      <td>1</td>\n",
              "      <td>114</td>\n",
              "      <td>181</td>\n",
              "      <td>175</td>\n",
              "      <td>4</td>\n",
              "      <td>131</td>\n",
              "      <td>101</td>\n",
              "      <td>96</td>\n",
              "      <td>1</td>\n",
              "      <td>3</td>\n",
              "      <td>5</td>\n",
              "      <td>1</td>\n",
              "      <td>1</td>\n",
              "      <td>2</td>\n",
              "      <td>1608</td>\n",
              "      <td>275</td>\n",
              "      <td>1</td>\n",
              "      <td>4</td>\n",
              "      <td>133</td>\n",
              "      <td>571659</td>\n",
              "      <td>346213</td>\n",
              "      <td>0</td>\n",
              "      <td>114</td>\n",
              "      <td>109</td>\n",
              "      <td>56</td>\n",
              "      <td>1</td>\n",
              "      <td>175</td>\n",
              "      <td>152</td>\n",
              "      <td>56</td>\n",
              "      <td>1</td>\n",
              "      <td>175</td>\n",
              "      <td>152</td>\n",
              "      <td>56</td>\n",
              "      <td>1</td>\n",
              "      <td>275</td>\n",
              "      <td>274</td>\n",
              "      <td>274</td>\n",
              "      <td>216</td>\n",
              "      <td>417</td>\n",
              "      <td>94</td>\n",
              "      <td>400</td>\n",
              "      <td>94</td>\n",
              "      <td>399</td>\n",
              "      <td>94</td>\n",
              "      <td>417</td>\n",
              "      <td>94</td>\n",
              "      <td>1607</td>\n",
              "      <td>1606</td>\n",
              "      <td>1605</td>\n",
              "      <td>2016</td>\n",
              "    </tr>\n",
              "    <tr>\n",
              "      <th>2</th>\n",
              "      <td>False</td>\n",
              "      <td>False</td>\n",
              "      <td>False</td>\n",
              "      <td>True</td>\n",
              "      <td>False</td>\n",
              "      <td>False</td>\n",
              "      <td>2</td>\n",
              "      <td>0</td>\n",
              "      <td>3</td>\n",
              "      <td>5</td>\n",
              "      <td>464</td>\n",
              "      <td>175</td>\n",
              "      <td>452</td>\n",
              "      <td>3</td>\n",
              "      <td>54</td>\n",
              "      <td>263</td>\n",
              "      <td>56</td>\n",
              "      <td>3</td>\n",
              "      <td>1</td>\n",
              "      <td>10</td>\n",
              "      <td>2</td>\n",
              "      <td>1</td>\n",
              "      <td>1</td>\n",
              "      <td>1600</td>\n",
              "      <td>94</td>\n",
              "      <td>1</td>\n",
              "      <td>4</td>\n",
              "      <td>53</td>\n",
              "      <td>399816</td>\n",
              "      <td>206408</td>\n",
              "      <td>0</td>\n",
              "      <td>464</td>\n",
              "      <td>463</td>\n",
              "      <td>450</td>\n",
              "      <td>377</td>\n",
              "      <td>175</td>\n",
              "      <td>152</td>\n",
              "      <td>56</td>\n",
              "      <td>1</td>\n",
              "      <td>452</td>\n",
              "      <td>451</td>\n",
              "      <td>450</td>\n",
              "      <td>377</td>\n",
              "      <td>92</td>\n",
              "      <td>91</td>\n",
              "      <td>56</td>\n",
              "      <td>1</td>\n",
              "      <td>364</td>\n",
              "      <td>48</td>\n",
              "      <td>528</td>\n",
              "      <td>250</td>\n",
              "      <td>366</td>\n",
              "      <td>48</td>\n",
              "      <td>363</td>\n",
              "      <td>48</td>\n",
              "      <td>1599</td>\n",
              "      <td>1595</td>\n",
              "      <td>1572</td>\n",
              "      <td>2016</td>\n",
              "    </tr>\n",
              "    <tr>\n",
              "      <th>3</th>\n",
              "      <td>False</td>\n",
              "      <td>False</td>\n",
              "      <td>False</td>\n",
              "      <td>True</td>\n",
              "      <td>False</td>\n",
              "      <td>False</td>\n",
              "      <td>2</td>\n",
              "      <td>0</td>\n",
              "      <td>2</td>\n",
              "      <td>5</td>\n",
              "      <td>703</td>\n",
              "      <td>705</td>\n",
              "      <td>704</td>\n",
              "      <td>3</td>\n",
              "      <td>72</td>\n",
              "      <td>227</td>\n",
              "      <td>2</td>\n",
              "      <td>1</td>\n",
              "      <td>3</td>\n",
              "      <td>5</td>\n",
              "      <td>1</td>\n",
              "      <td>1</td>\n",
              "      <td>2</td>\n",
              "      <td>1608</td>\n",
              "      <td>275</td>\n",
              "      <td>5</td>\n",
              "      <td>3</td>\n",
              "      <td>74</td>\n",
              "      <td>827967</td>\n",
              "      <td>572323</td>\n",
              "      <td>0</td>\n",
              "      <td>703</td>\n",
              "      <td>703</td>\n",
              "      <td>690</td>\n",
              "      <td>618</td>\n",
              "      <td>703</td>\n",
              "      <td>703</td>\n",
              "      <td>690</td>\n",
              "      <td>618</td>\n",
              "      <td>703</td>\n",
              "      <td>703</td>\n",
              "      <td>690</td>\n",
              "      <td>618</td>\n",
              "      <td>275</td>\n",
              "      <td>274</td>\n",
              "      <td>274</td>\n",
              "      <td>216</td>\n",
              "      <td>379</td>\n",
              "      <td>71</td>\n",
              "      <td>495</td>\n",
              "      <td>226</td>\n",
              "      <td>315</td>\n",
              "      <td>1</td>\n",
              "      <td>381</td>\n",
              "      <td>71</td>\n",
              "      <td>1607</td>\n",
              "      <td>1606</td>\n",
              "      <td>1605</td>\n",
              "      <td>2016</td>\n",
              "    </tr>\n",
              "    <tr>\n",
              "      <th>4</th>\n",
              "      <td>True</td>\n",
              "      <td>True</td>\n",
              "      <td>True</td>\n",
              "      <td>False</td>\n",
              "      <td>False</td>\n",
              "      <td>False</td>\n",
              "      <td>1</td>\n",
              "      <td>3</td>\n",
              "      <td>4</td>\n",
              "      <td>5</td>\n",
              "      <td>275</td>\n",
              "      <td>370</td>\n",
              "      <td>369</td>\n",
              "      <td>4</td>\n",
              "      <td>214</td>\n",
              "      <td>210</td>\n",
              "      <td>209</td>\n",
              "      <td>1</td>\n",
              "      <td>1</td>\n",
              "      <td>10</td>\n",
              "      <td>2</td>\n",
              "      <td>1</td>\n",
              "      <td>2</td>\n",
              "      <td>1608</td>\n",
              "      <td>275</td>\n",
              "      <td>1</td>\n",
              "      <td>4</td>\n",
              "      <td>74</td>\n",
              "      <td>831614</td>\n",
              "      <td>573899</td>\n",
              "      <td>0</td>\n",
              "      <td>275</td>\n",
              "      <td>274</td>\n",
              "      <td>274</td>\n",
              "      <td>216</td>\n",
              "      <td>369</td>\n",
              "      <td>368</td>\n",
              "      <td>297</td>\n",
              "      <td>216</td>\n",
              "      <td>369</td>\n",
              "      <td>368</td>\n",
              "      <td>297</td>\n",
              "      <td>216</td>\n",
              "      <td>275</td>\n",
              "      <td>274</td>\n",
              "      <td>274</td>\n",
              "      <td>216</td>\n",
              "      <td>483</td>\n",
              "      <td>208</td>\n",
              "      <td>481</td>\n",
              "      <td>208</td>\n",
              "      <td>480</td>\n",
              "      <td>208</td>\n",
              "      <td>381</td>\n",
              "      <td>71</td>\n",
              "      <td>1607</td>\n",
              "      <td>1606</td>\n",
              "      <td>1605</td>\n",
              "      <td>2016</td>\n",
              "    </tr>\n",
              "  </tbody>\n",
              "</table>\n",
              "</div>\n",
              "      <button class=\"colab-df-convert\" onclick=\"convertToInteractive('df-45d33518-a8b1-4628-a8d3-7b8598e0c093')\"\n",
              "              title=\"Convert this dataframe to an interactive table.\"\n",
              "              style=\"display:none;\">\n",
              "        \n",
              "  <svg xmlns=\"http://www.w3.org/2000/svg\" height=\"24px\"viewBox=\"0 0 24 24\"\n",
              "       width=\"24px\">\n",
              "    <path d=\"M0 0h24v24H0V0z\" fill=\"none\"/>\n",
              "    <path d=\"M18.56 5.44l.94 2.06.94-2.06 2.06-.94-2.06-.94-.94-2.06-.94 2.06-2.06.94zm-11 1L8.5 8.5l.94-2.06 2.06-.94-2.06-.94L8.5 2.5l-.94 2.06-2.06.94zm10 10l.94 2.06.94-2.06 2.06-.94-2.06-.94-.94-2.06-.94 2.06-2.06.94z\"/><path d=\"M17.41 7.96l-1.37-1.37c-.4-.4-.92-.59-1.43-.59-.52 0-1.04.2-1.43.59L10.3 9.45l-7.72 7.72c-.78.78-.78 2.05 0 2.83L4 21.41c.39.39.9.59 1.41.59.51 0 1.02-.2 1.41-.59l7.78-7.78 2.81-2.81c.8-.78.8-2.07 0-2.86zM5.41 20L4 18.59l7.72-7.72 1.47 1.35L5.41 20z\"/>\n",
              "  </svg>\n",
              "      </button>\n",
              "      \n",
              "  <style>\n",
              "    .colab-df-container {\n",
              "      display:flex;\n",
              "      flex-wrap:wrap;\n",
              "      gap: 12px;\n",
              "    }\n",
              "\n",
              "    .colab-df-convert {\n",
              "      background-color: #E8F0FE;\n",
              "      border: none;\n",
              "      border-radius: 50%;\n",
              "      cursor: pointer;\n",
              "      display: none;\n",
              "      fill: #1967D2;\n",
              "      height: 32px;\n",
              "      padding: 0 0 0 0;\n",
              "      width: 32px;\n",
              "    }\n",
              "\n",
              "    .colab-df-convert:hover {\n",
              "      background-color: #E2EBFA;\n",
              "      box-shadow: 0px 1px 2px rgba(60, 64, 67, 0.3), 0px 1px 3px 1px rgba(60, 64, 67, 0.15);\n",
              "      fill: #174EA6;\n",
              "    }\n",
              "\n",
              "    [theme=dark] .colab-df-convert {\n",
              "      background-color: #3B4455;\n",
              "      fill: #D2E3FC;\n",
              "    }\n",
              "\n",
              "    [theme=dark] .colab-df-convert:hover {\n",
              "      background-color: #434B5C;\n",
              "      box-shadow: 0px 1px 3px 1px rgba(0, 0, 0, 0.15);\n",
              "      filter: drop-shadow(0px 1px 2px rgba(0, 0, 0, 0.3));\n",
              "      fill: #FFFFFF;\n",
              "    }\n",
              "  </style>\n",
              "\n",
              "      <script>\n",
              "        const buttonEl =\n",
              "          document.querySelector('#df-45d33518-a8b1-4628-a8d3-7b8598e0c093 button.colab-df-convert');\n",
              "        buttonEl.style.display =\n",
              "          google.colab.kernel.accessAllowed ? 'block' : 'none';\n",
              "\n",
              "        async function convertToInteractive(key) {\n",
              "          const element = document.querySelector('#df-45d33518-a8b1-4628-a8d3-7b8598e0c093');\n",
              "          const dataTable =\n",
              "            await google.colab.kernel.invokeFunction('convertToInteractive',\n",
              "                                                     [key], {});\n",
              "          if (!dataTable) return;\n",
              "\n",
              "          const docLinkHtml = 'Like what you see? Visit the ' +\n",
              "            '<a target=\"_blank\" href=https://colab.research.google.com/notebooks/data_table.ipynb>data table notebook</a>'\n",
              "            + ' to learn more about interactive tables.';\n",
              "          element.innerHTML = '';\n",
              "          dataTable['output_type'] = 'display_data';\n",
              "          await google.colab.output.renderOutput(dataTable, element);\n",
              "          const docLink = document.createElement('div');\n",
              "          docLink.innerHTML = docLinkHtml;\n",
              "          element.appendChild(docLink);\n",
              "        }\n",
              "      </script>\n",
              "    </div>\n",
              "  </div>\n",
              "  "
            ],
            "text/plain": [
              "   d_l_match_yn  d_m_match_yn  ...  contents_attribute_l_m  contents_attribute_l_l\n",
              "0          True          True  ...                    1605                    2016\n",
              "1         False         False  ...                    1605                    2016\n",
              "2         False         False  ...                    1572                    2016\n",
              "3         False         False  ...                    1605                    2016\n",
              "4          True          True  ...                    1605                    2016\n",
              "\n",
              "[5 rows x 59 columns]"
            ]
          },
          "execution_count": 19,
          "metadata": {},
          "output_type": "execute_result"
        }
      ],
      "source": [
        "# 카테고리형 특성 원핫인코딩시 컬럼 명 겹치는 문제 해결위해 특성명 변경\n",
        "train = train.rename(columns={'person_attribute_a_1':'person_attribute_a_a'})\n",
        "train = train.rename(columns={'contents_attribute_j_1':'contents_attribute_j_a'})\n",
        "train.head()"
      ]
    },
    {
      "cell_type": "code",
      "execution_count": 20,
      "metadata": {
        "colab": {
          "base_uri": "https://localhost:8080/",
          "height": 270
        },
        "id": "h6q0HvoqKCM5",
        "outputId": "879a7c0a-312c-4413-ad41-6ae3e65dbad8"
      },
      "outputs": [
        {
          "data": {
            "text/html": [
              "\n",
              "  <div id=\"df-2497f9cd-d4f1-402b-a64c-091d1e93f6dd\">\n",
              "    <div class=\"colab-df-container\">\n",
              "      <div>\n",
              "<style scoped>\n",
              "    .dataframe tbody tr th:only-of-type {\n",
              "        vertical-align: middle;\n",
              "    }\n",
              "\n",
              "    .dataframe tbody tr th {\n",
              "        vertical-align: top;\n",
              "    }\n",
              "\n",
              "    .dataframe thead th {\n",
              "        text-align: right;\n",
              "    }\n",
              "</style>\n",
              "<table border=\"1\" class=\"dataframe\">\n",
              "  <thead>\n",
              "    <tr style=\"text-align: right;\">\n",
              "      <th></th>\n",
              "      <th>d_l_match_yn</th>\n",
              "      <th>d_m_match_yn</th>\n",
              "      <th>d_s_match_yn</th>\n",
              "      <th>h_l_match_yn</th>\n",
              "      <th>h_m_match_yn</th>\n",
              "      <th>h_s_match_yn</th>\n",
              "      <th>person_attribute_a</th>\n",
              "      <th>person_attribute_a_a</th>\n",
              "      <th>person_attribute_b</th>\n",
              "      <th>person_prefer_c</th>\n",
              "      <th>person_prefer_d_1</th>\n",
              "      <th>person_prefer_d_2</th>\n",
              "      <th>person_prefer_d_3</th>\n",
              "      <th>person_prefer_e</th>\n",
              "      <th>person_prefer_h_1</th>\n",
              "      <th>person_prefer_h_2</th>\n",
              "      <th>person_prefer_h_3</th>\n",
              "      <th>contents_attribute_i</th>\n",
              "      <th>contents_attribute_a</th>\n",
              "      <th>contents_attribute_j_a</th>\n",
              "      <th>contents_attribute_j</th>\n",
              "      <th>contents_attribute_c</th>\n",
              "      <th>contents_attribute_k</th>\n",
              "      <th>contents_attribute_l</th>\n",
              "      <th>contents_attribute_d</th>\n",
              "      <th>contents_attribute_m</th>\n",
              "      <th>contents_attribute_e</th>\n",
              "      <th>contents_attribute_h</th>\n",
              "      <th>person_rn</th>\n",
              "      <th>contents_rn</th>\n",
              "      <th>person_prefer_d_1_n</th>\n",
              "      <th>person_prefer_d_1_s</th>\n",
              "      <th>person_prefer_d_1_m</th>\n",
              "      <th>person_prefer_d_1_l</th>\n",
              "      <th>person_prefer_d_2_n</th>\n",
              "      <th>person_prefer_d_2_s</th>\n",
              "      <th>person_prefer_d_2_m</th>\n",
              "      <th>person_prefer_d_2_l</th>\n",
              "      <th>person_prefer_d_3_n</th>\n",
              "      <th>person_prefer_d_3_s</th>\n",
              "      <th>person_prefer_d_3_m</th>\n",
              "      <th>person_prefer_d_3_l</th>\n",
              "      <th>contents_attribute_d_n</th>\n",
              "      <th>contents_attribute_d_s</th>\n",
              "      <th>contents_attribute_d_m</th>\n",
              "      <th>contents_attribute_d_l</th>\n",
              "      <th>person_prefer_h_1_m</th>\n",
              "      <th>person_prefer_h_1_l</th>\n",
              "      <th>person_prefer_h_2_m</th>\n",
              "      <th>person_prefer_h_2_l</th>\n",
              "      <th>person_prefer_h_3_m</th>\n",
              "      <th>person_prefer_h_3_l</th>\n",
              "      <th>contents_attribute_h_m</th>\n",
              "      <th>contents_attribute_h_l</th>\n",
              "      <th>contents_attribute_l_n</th>\n",
              "      <th>contents_attribute_l_s</th>\n",
              "      <th>contents_attribute_l_m</th>\n",
              "      <th>contents_attribute_l_l</th>\n",
              "    </tr>\n",
              "  </thead>\n",
              "  <tbody>\n",
              "    <tr>\n",
              "      <th>0</th>\n",
              "      <td>True</td>\n",
              "      <td>False</td>\n",
              "      <td>False</td>\n",
              "      <td>True</td>\n",
              "      <td>True</td>\n",
              "      <td>True</td>\n",
              "      <td>1</td>\n",
              "      <td>1</td>\n",
              "      <td>2</td>\n",
              "      <td>1</td>\n",
              "      <td>857</td>\n",
              "      <td>851</td>\n",
              "      <td>1227</td>\n",
              "      <td>4</td>\n",
              "      <td>263</td>\n",
              "      <td>56</td>\n",
              "      <td>49</td>\n",
              "      <td>1</td>\n",
              "      <td>3</td>\n",
              "      <td>10</td>\n",
              "      <td>2</td>\n",
              "      <td>1</td>\n",
              "      <td>2</td>\n",
              "      <td>1147</td>\n",
              "      <td>839</td>\n",
              "      <td>1</td>\n",
              "      <td>5</td>\n",
              "      <td>263</td>\n",
              "      <td>393790</td>\n",
              "      <td>236865</td>\n",
              "      <td>854</td>\n",
              "      <td>853</td>\n",
              "      <td>824</td>\n",
              "      <td>744</td>\n",
              "      <td>847</td>\n",
              "      <td>847</td>\n",
              "      <td>824</td>\n",
              "      <td>744</td>\n",
              "      <td>1227</td>\n",
              "      <td>1227</td>\n",
              "      <td>1227</td>\n",
              "      <td>926</td>\n",
              "      <td>836</td>\n",
              "      <td>831</td>\n",
              "      <td>824</td>\n",
              "      <td>744</td>\n",
              "      <td>528</td>\n",
              "      <td>250</td>\n",
              "      <td>366</td>\n",
              "      <td>48</td>\n",
              "      <td>359</td>\n",
              "      <td>48</td>\n",
              "      <td>528</td>\n",
              "      <td>250</td>\n",
              "      <td>1146</td>\n",
              "      <td>1128</td>\n",
              "      <td>1021</td>\n",
              "      <td>2010</td>\n",
              "    </tr>\n",
              "    <tr>\n",
              "      <th>1</th>\n",
              "      <td>False</td>\n",
              "      <td>False</td>\n",
              "      <td>False</td>\n",
              "      <td>True</td>\n",
              "      <td>False</td>\n",
              "      <td>False</td>\n",
              "      <td>2</td>\n",
              "      <td>0</td>\n",
              "      <td>2</td>\n",
              "      <td>2</td>\n",
              "      <td>683</td>\n",
              "      <td>1086</td>\n",
              "      <td>662</td>\n",
              "      <td>2</td>\n",
              "      <td>258</td>\n",
              "      <td>263</td>\n",
              "      <td>49</td>\n",
              "      <td>1</td>\n",
              "      <td>3</td>\n",
              "      <td>5</td>\n",
              "      <td>1</td>\n",
              "      <td>1</td>\n",
              "      <td>2</td>\n",
              "      <td>1611</td>\n",
              "      <td>278</td>\n",
              "      <td>1</td>\n",
              "      <td>4</td>\n",
              "      <td>263</td>\n",
              "      <td>394058</td>\n",
              "      <td>236572</td>\n",
              "      <td>683</td>\n",
              "      <td>677</td>\n",
              "      <td>659</td>\n",
              "      <td>618</td>\n",
              "      <td>1086</td>\n",
              "      <td>1086</td>\n",
              "      <td>1053</td>\n",
              "      <td>926</td>\n",
              "      <td>662</td>\n",
              "      <td>660</td>\n",
              "      <td>659</td>\n",
              "      <td>618</td>\n",
              "      <td>276</td>\n",
              "      <td>274</td>\n",
              "      <td>274</td>\n",
              "      <td>216</td>\n",
              "      <td>523</td>\n",
              "      <td>250</td>\n",
              "      <td>528</td>\n",
              "      <td>250</td>\n",
              "      <td>359</td>\n",
              "      <td>48</td>\n",
              "      <td>528</td>\n",
              "      <td>250</td>\n",
              "      <td>1610</td>\n",
              "      <td>1606</td>\n",
              "      <td>1605</td>\n",
              "      <td>2016</td>\n",
              "    </tr>\n",
              "    <tr>\n",
              "      <th>2</th>\n",
              "      <td>True</td>\n",
              "      <td>False</td>\n",
              "      <td>False</td>\n",
              "      <td>True</td>\n",
              "      <td>True</td>\n",
              "      <td>True</td>\n",
              "      <td>2</td>\n",
              "      <td>3</td>\n",
              "      <td>2</td>\n",
              "      <td>1</td>\n",
              "      <td>514</td>\n",
              "      <td>790</td>\n",
              "      <td>1233</td>\n",
              "      <td>0</td>\n",
              "      <td>177</td>\n",
              "      <td>170</td>\n",
              "      <td>171</td>\n",
              "      <td>3</td>\n",
              "      <td>3</td>\n",
              "      <td>3</td>\n",
              "      <td>1</td>\n",
              "      <td>1</td>\n",
              "      <td>2</td>\n",
              "      <td>1817</td>\n",
              "      <td>490</td>\n",
              "      <td>3</td>\n",
              "      <td>4</td>\n",
              "      <td>177</td>\n",
              "      <td>1002061</td>\n",
              "      <td>704612</td>\n",
              "      <td>514</td>\n",
              "      <td>509</td>\n",
              "      <td>482</td>\n",
              "      <td>482</td>\n",
              "      <td>784</td>\n",
              "      <td>783</td>\n",
              "      <td>745</td>\n",
              "      <td>744</td>\n",
              "      <td>1227</td>\n",
              "      <td>1227</td>\n",
              "      <td>1227</td>\n",
              "      <td>926</td>\n",
              "      <td>490</td>\n",
              "      <td>490</td>\n",
              "      <td>482</td>\n",
              "      <td>482</td>\n",
              "      <td>453</td>\n",
              "      <td>169</td>\n",
              "      <td>451</td>\n",
              "      <td>169</td>\n",
              "      <td>452</td>\n",
              "      <td>169</td>\n",
              "      <td>453</td>\n",
              "      <td>169</td>\n",
              "      <td>1812</td>\n",
              "      <td>1811</td>\n",
              "      <td>1810</td>\n",
              "      <td>2020</td>\n",
              "    </tr>\n",
              "    <tr>\n",
              "      <th>3</th>\n",
              "      <td>True</td>\n",
              "      <td>False</td>\n",
              "      <td>False</td>\n",
              "      <td>True</td>\n",
              "      <td>True</td>\n",
              "      <td>True</td>\n",
              "      <td>1</td>\n",
              "      <td>2</td>\n",
              "      <td>2</td>\n",
              "      <td>5</td>\n",
              "      <td>114</td>\n",
              "      <td>181</td>\n",
              "      <td>175</td>\n",
              "      <td>4</td>\n",
              "      <td>177</td>\n",
              "      <td>170</td>\n",
              "      <td>171</td>\n",
              "      <td>3</td>\n",
              "      <td>3</td>\n",
              "      <td>5</td>\n",
              "      <td>1</td>\n",
              "      <td>1</td>\n",
              "      <td>2</td>\n",
              "      <td>101</td>\n",
              "      <td>150</td>\n",
              "      <td>5</td>\n",
              "      <td>3</td>\n",
              "      <td>177</td>\n",
              "      <td>1000813</td>\n",
              "      <td>704652</td>\n",
              "      <td>114</td>\n",
              "      <td>109</td>\n",
              "      <td>56</td>\n",
              "      <td>1</td>\n",
              "      <td>175</td>\n",
              "      <td>152</td>\n",
              "      <td>56</td>\n",
              "      <td>1</td>\n",
              "      <td>175</td>\n",
              "      <td>152</td>\n",
              "      <td>56</td>\n",
              "      <td>1</td>\n",
              "      <td>145</td>\n",
              "      <td>123</td>\n",
              "      <td>56</td>\n",
              "      <td>1</td>\n",
              "      <td>453</td>\n",
              "      <td>169</td>\n",
              "      <td>451</td>\n",
              "      <td>169</td>\n",
              "      <td>452</td>\n",
              "      <td>169</td>\n",
              "      <td>453</td>\n",
              "      <td>169</td>\n",
              "      <td>101</td>\n",
              "      <td>100</td>\n",
              "      <td>99</td>\n",
              "      <td>2006</td>\n",
              "    </tr>\n",
              "    <tr>\n",
              "      <th>4</th>\n",
              "      <td>True</td>\n",
              "      <td>False</td>\n",
              "      <td>False</td>\n",
              "      <td>True</td>\n",
              "      <td>False</td>\n",
              "      <td>False</td>\n",
              "      <td>1</td>\n",
              "      <td>6</td>\n",
              "      <td>4</td>\n",
              "      <td>5</td>\n",
              "      <td>1082</td>\n",
              "      <td>1078</td>\n",
              "      <td>1056</td>\n",
              "      <td>5</td>\n",
              "      <td>178</td>\n",
              "      <td>177</td>\n",
              "      <td>4</td>\n",
              "      <td>3</td>\n",
              "      <td>1</td>\n",
              "      <td>5</td>\n",
              "      <td>1</td>\n",
              "      <td>1</td>\n",
              "      <td>1</td>\n",
              "      <td>985</td>\n",
              "      <td>1097</td>\n",
              "      <td>1</td>\n",
              "      <td>4</td>\n",
              "      <td>177</td>\n",
              "      <td>111146</td>\n",
              "      <td>704413</td>\n",
              "      <td>1078</td>\n",
              "      <td>1078</td>\n",
              "      <td>1053</td>\n",
              "      <td>926</td>\n",
              "      <td>1078</td>\n",
              "      <td>1078</td>\n",
              "      <td>1053</td>\n",
              "      <td>926</td>\n",
              "      <td>1056</td>\n",
              "      <td>1054</td>\n",
              "      <td>1053</td>\n",
              "      <td>926</td>\n",
              "      <td>1097</td>\n",
              "      <td>1094</td>\n",
              "      <td>1093</td>\n",
              "      <td>926</td>\n",
              "      <td>454</td>\n",
              "      <td>169</td>\n",
              "      <td>453</td>\n",
              "      <td>169</td>\n",
              "      <td>316</td>\n",
              "      <td>3</td>\n",
              "      <td>453</td>\n",
              "      <td>169</td>\n",
              "      <td>984</td>\n",
              "      <td>980</td>\n",
              "      <td>954</td>\n",
              "      <td>2009</td>\n",
              "    </tr>\n",
              "  </tbody>\n",
              "</table>\n",
              "</div>\n",
              "      <button class=\"colab-df-convert\" onclick=\"convertToInteractive('df-2497f9cd-d4f1-402b-a64c-091d1e93f6dd')\"\n",
              "              title=\"Convert this dataframe to an interactive table.\"\n",
              "              style=\"display:none;\">\n",
              "        \n",
              "  <svg xmlns=\"http://www.w3.org/2000/svg\" height=\"24px\"viewBox=\"0 0 24 24\"\n",
              "       width=\"24px\">\n",
              "    <path d=\"M0 0h24v24H0V0z\" fill=\"none\"/>\n",
              "    <path d=\"M18.56 5.44l.94 2.06.94-2.06 2.06-.94-2.06-.94-.94-2.06-.94 2.06-2.06.94zm-11 1L8.5 8.5l.94-2.06 2.06-.94-2.06-.94L8.5 2.5l-.94 2.06-2.06.94zm10 10l.94 2.06.94-2.06 2.06-.94-2.06-.94-.94-2.06-.94 2.06-2.06.94z\"/><path d=\"M17.41 7.96l-1.37-1.37c-.4-.4-.92-.59-1.43-.59-.52 0-1.04.2-1.43.59L10.3 9.45l-7.72 7.72c-.78.78-.78 2.05 0 2.83L4 21.41c.39.39.9.59 1.41.59.51 0 1.02-.2 1.41-.59l7.78-7.78 2.81-2.81c.8-.78.8-2.07 0-2.86zM5.41 20L4 18.59l7.72-7.72 1.47 1.35L5.41 20z\"/>\n",
              "  </svg>\n",
              "      </button>\n",
              "      \n",
              "  <style>\n",
              "    .colab-df-container {\n",
              "      display:flex;\n",
              "      flex-wrap:wrap;\n",
              "      gap: 12px;\n",
              "    }\n",
              "\n",
              "    .colab-df-convert {\n",
              "      background-color: #E8F0FE;\n",
              "      border: none;\n",
              "      border-radius: 50%;\n",
              "      cursor: pointer;\n",
              "      display: none;\n",
              "      fill: #1967D2;\n",
              "      height: 32px;\n",
              "      padding: 0 0 0 0;\n",
              "      width: 32px;\n",
              "    }\n",
              "\n",
              "    .colab-df-convert:hover {\n",
              "      background-color: #E2EBFA;\n",
              "      box-shadow: 0px 1px 2px rgba(60, 64, 67, 0.3), 0px 1px 3px 1px rgba(60, 64, 67, 0.15);\n",
              "      fill: #174EA6;\n",
              "    }\n",
              "\n",
              "    [theme=dark] .colab-df-convert {\n",
              "      background-color: #3B4455;\n",
              "      fill: #D2E3FC;\n",
              "    }\n",
              "\n",
              "    [theme=dark] .colab-df-convert:hover {\n",
              "      background-color: #434B5C;\n",
              "      box-shadow: 0px 1px 3px 1px rgba(0, 0, 0, 0.15);\n",
              "      filter: drop-shadow(0px 1px 2px rgba(0, 0, 0, 0.3));\n",
              "      fill: #FFFFFF;\n",
              "    }\n",
              "  </style>\n",
              "\n",
              "      <script>\n",
              "        const buttonEl =\n",
              "          document.querySelector('#df-2497f9cd-d4f1-402b-a64c-091d1e93f6dd button.colab-df-convert');\n",
              "        buttonEl.style.display =\n",
              "          google.colab.kernel.accessAllowed ? 'block' : 'none';\n",
              "\n",
              "        async function convertToInteractive(key) {\n",
              "          const element = document.querySelector('#df-2497f9cd-d4f1-402b-a64c-091d1e93f6dd');\n",
              "          const dataTable =\n",
              "            await google.colab.kernel.invokeFunction('convertToInteractive',\n",
              "                                                     [key], {});\n",
              "          if (!dataTable) return;\n",
              "\n",
              "          const docLinkHtml = 'Like what you see? Visit the ' +\n",
              "            '<a target=\"_blank\" href=https://colab.research.google.com/notebooks/data_table.ipynb>data table notebook</a>'\n",
              "            + ' to learn more about interactive tables.';\n",
              "          element.innerHTML = '';\n",
              "          dataTable['output_type'] = 'display_data';\n",
              "          await google.colab.output.renderOutput(dataTable, element);\n",
              "          const docLink = document.createElement('div');\n",
              "          docLink.innerHTML = docLinkHtml;\n",
              "          element.appendChild(docLink);\n",
              "        }\n",
              "      </script>\n",
              "    </div>\n",
              "  </div>\n",
              "  "
            ],
            "text/plain": [
              "   d_l_match_yn  d_m_match_yn  ...  contents_attribute_l_m  contents_attribute_l_l\n",
              "0          True         False  ...                    1021                    2010\n",
              "1         False         False  ...                    1605                    2016\n",
              "2          True         False  ...                    1810                    2020\n",
              "3          True         False  ...                      99                    2006\n",
              "4          True         False  ...                     954                    2009\n",
              "\n",
              "[5 rows x 58 columns]"
            ]
          },
          "execution_count": 20,
          "metadata": {},
          "output_type": "execute_result"
        }
      ],
      "source": [
        "# 카테고리형 특성 원핫인코딩시 컬럼 명 겹치는 문제 해결위해 특성명 변경\n",
        "test = test.rename(columns={'person_attribute_a_1':'person_attribute_a_a'})\n",
        "test = test.rename(columns={'contents_attribute_j_1':'contents_attribute_j_a'})\n",
        "test.head()"
      ]
    },
    {
      "cell_type": "markdown",
      "metadata": {
        "id": "PJ3XzzXIE2EQ"
      },
      "source": [
        "## 카테고리형 특성으로 지정할 특성"
      ]
    },
    {
      "cell_type": "code",
      "execution_count": 21,
      "metadata": {
        "id": "3V8BCqguE0w1"
      },
      "outputs": [],
      "source": [
        "# 원본 데이터에서 순서형 특성\n",
        "# 'person_attribute_a_a', 'person_attribute_b', 'person_prefer_e', 'contents_attribute_e'"
      ]
    },
    {
      "cell_type": "code",
      "execution_count": 22,
      "metadata": {
        "id": "3CJ_DyDPE5WJ"
      },
      "outputs": [],
      "source": [
        "# 순서형 특성 수치형으로 지정 : ⭕\n",
        "# 'person_attribute_a_a', 'person_attribute_b', 'person_prefer_e', 'contents_attribute_e'"
      ]
    },
    {
      "cell_type": "code",
      "execution_count": 23,
      "metadata": {
        "colab": {
          "base_uri": "https://localhost:8080/"
        },
        "id": "SdbIgKcwUuvz",
        "outputId": "3a3e0782-bb0a-43df-af37-a06a20299c43"
      },
      "outputs": [
        {
          "data": {
            "text/plain": [
              "(8, array([4, 3, 0, 1, 2, 5, 6, 7]))"
            ]
          },
          "execution_count": 23,
          "metadata": {},
          "output_type": "execute_result"
        }
      ],
      "source": [
        "a = train['person_attribute_a_a'].unique()\n",
        "len(a), a"
      ]
    },
    {
      "cell_type": "code",
      "execution_count": 24,
      "metadata": {
        "colab": {
          "base_uri": "https://localhost:8080/"
        },
        "id": "GRFvQg6MU11h",
        "outputId": "56824fe4-0e58-4663-c399-354d418e5578"
      },
      "outputs": [
        {
          "data": {
            "text/plain": [
              "(6, array([3, 4, 2, 5, 1, 0]))"
            ]
          },
          "execution_count": 24,
          "metadata": {},
          "output_type": "execute_result"
        }
      ],
      "source": [
        "a = train['person_attribute_b'].unique()\n",
        "len(a), a"
      ]
    },
    {
      "cell_type": "code",
      "execution_count": 25,
      "metadata": {
        "colab": {
          "base_uri": "https://localhost:8080/"
        },
        "id": "8RRwXunZU1u3",
        "outputId": "ba0fe295-6e74-41c9-a71c-25eafc301000"
      },
      "outputs": [
        {
          "data": {
            "text/plain": [
              "(12, array([ 8,  4,  3,  5,  6,  0,  7, 11,  9,  2,  1, 10]))"
            ]
          },
          "execution_count": 25,
          "metadata": {},
          "output_type": "execute_result"
        }
      ],
      "source": [
        "a = train['person_prefer_e'].unique()\n",
        "len(a), a"
      ]
    },
    {
      "cell_type": "code",
      "execution_count": 26,
      "metadata": {
        "colab": {
          "base_uri": "https://localhost:8080/"
        },
        "id": "DScd5fmxU1nU",
        "outputId": "91da7dd8-491a-4976-ea04-e80fb0b0c7a5"
      },
      "outputs": [
        {
          "data": {
            "text/plain": [
              "(12, array([ 4,  3,  5,  6,  1, 11,  8,  7,  2,  0, 10,  9]))"
            ]
          },
          "execution_count": 26,
          "metadata": {},
          "output_type": "execute_result"
        }
      ],
      "source": [
        "a = train['contents_attribute_e'].unique()\n",
        "len(a), a"
      ]
    },
    {
      "cell_type": "code",
      "execution_count": 27,
      "metadata": {
        "colab": {
          "base_uri": "https://localhost:8080/"
        },
        "id": "Gw64__sQcoAM",
        "outputId": "d36b09e9-c5b6-4843-eba3-3d0363a6f5b0"
      },
      "outputs": [
        {
          "data": {
            "text/plain": [
              "pandas.core.indexes.base.Index"
            ]
          },
          "execution_count": 27,
          "metadata": {},
          "output_type": "execute_result"
        }
      ],
      "source": [
        "type(train.columns)"
      ]
    },
    {
      "cell_type": "code",
      "execution_count": 28,
      "metadata": {
        "colab": {
          "base_uri": "https://localhost:8080/"
        },
        "id": "x9SvphtkbHHz",
        "outputId": "f189f4ed-4559-447e-9cec-39a57a62415c"
      },
      "outputs": [
        {
          "data": {
            "text/plain": [
              "Index(['person_attribute_a_a', 'person_attribute_b', 'person_prefer_c',\n",
              "       'person_prefer_d_1', 'person_prefer_d_2', 'person_prefer_d_3',\n",
              "       'person_prefer_e', 'person_prefer_h_1', 'person_prefer_h_2',\n",
              "       'person_prefer_h_3', 'contents_attribute_i', 'contents_attribute_a',\n",
              "       'contents_attribute_j_a', 'contents_attribute_c',\n",
              "       'contents_attribute_l', 'contents_attribute_d', 'contents_attribute_m',\n",
              "       'contents_attribute_e', 'contents_attribute_h', 'person_rn',\n",
              "       'contents_rn', 'person_prefer_d_1_n', 'person_prefer_d_1_s',\n",
              "       'person_prefer_d_1_m', 'person_prefer_d_1_l', 'person_prefer_d_2_n',\n",
              "       'person_prefer_d_2_s', 'person_prefer_d_2_m', 'person_prefer_d_2_l',\n",
              "       'person_prefer_d_3_n', 'person_prefer_d_3_s', 'person_prefer_d_3_m',\n",
              "       'person_prefer_d_3_l', 'contents_attribute_d_n',\n",
              "       'contents_attribute_d_s', 'contents_attribute_d_m',\n",
              "       'contents_attribute_d_l', 'person_prefer_h_1_m', 'person_prefer_h_1_l',\n",
              "       'person_prefer_h_2_m', 'person_prefer_h_2_l', 'person_prefer_h_3_m',\n",
              "       'person_prefer_h_3_l', 'contents_attribute_h_m',\n",
              "       'contents_attribute_h_l', 'contents_attribute_l_n',\n",
              "       'contents_attribute_l_s', 'contents_attribute_l_m',\n",
              "       'contents_attribute_l_l'],\n",
              "      dtype='object')"
            ]
          },
          "execution_count": 28,
          "metadata": {},
          "output_type": "execute_result"
        }
      ],
      "source": [
        "train.columns[train.nunique() > 2]"
      ]
    },
    {
      "cell_type": "code",
      "execution_count": 29,
      "metadata": {
        "colab": {
          "base_uri": "https://localhost:8080/"
        },
        "id": "cPVV4BXhcuVK",
        "outputId": "7e58bb3f-a980-49cc-8899-07bcc10af1ff"
      },
      "outputs": [
        {
          "data": {
            "text/plain": [
              "pandas.core.indexes.base.Index"
            ]
          },
          "execution_count": 29,
          "metadata": {},
          "output_type": "execute_result"
        }
      ],
      "source": [
        "type(train.columns[train.nunique() > 2])"
      ]
    },
    {
      "cell_type": "code",
      "execution_count": 30,
      "metadata": {
        "colab": {
          "base_uri": "https://localhost:8080/"
        },
        "id": "d1p5F5lmbd0u",
        "outputId": "66750856-83ef-403f-8cc9-15733737498a"
      },
      "outputs": [
        {
          "data": {
            "text/plain": [
              "['person_attribute_a_a',\n",
              " 'person_attribute_b',\n",
              " 'person_prefer_c',\n",
              " 'person_prefer_d_1',\n",
              " 'person_prefer_d_2',\n",
              " 'person_prefer_d_3',\n",
              " 'person_prefer_e',\n",
              " 'person_prefer_h_1',\n",
              " 'person_prefer_h_2',\n",
              " 'person_prefer_h_3',\n",
              " 'contents_attribute_i',\n",
              " 'contents_attribute_a',\n",
              " 'contents_attribute_j_a',\n",
              " 'contents_attribute_c',\n",
              " 'contents_attribute_l',\n",
              " 'contents_attribute_d',\n",
              " 'contents_attribute_m',\n",
              " 'contents_attribute_e',\n",
              " 'contents_attribute_h',\n",
              " 'person_rn',\n",
              " 'contents_rn',\n",
              " 'person_prefer_d_1_n',\n",
              " 'person_prefer_d_1_s',\n",
              " 'person_prefer_d_1_m',\n",
              " 'person_prefer_d_1_l',\n",
              " 'person_prefer_d_2_n',\n",
              " 'person_prefer_d_2_s',\n",
              " 'person_prefer_d_2_m',\n",
              " 'person_prefer_d_2_l',\n",
              " 'person_prefer_d_3_n',\n",
              " 'person_prefer_d_3_s',\n",
              " 'person_prefer_d_3_m',\n",
              " 'person_prefer_d_3_l',\n",
              " 'contents_attribute_d_n',\n",
              " 'contents_attribute_d_s',\n",
              " 'contents_attribute_d_m',\n",
              " 'contents_attribute_d_l',\n",
              " 'person_prefer_h_1_m',\n",
              " 'person_prefer_h_1_l',\n",
              " 'person_prefer_h_2_m',\n",
              " 'person_prefer_h_2_l',\n",
              " 'person_prefer_h_3_m',\n",
              " 'person_prefer_h_3_l',\n",
              " 'contents_attribute_h_m',\n",
              " 'contents_attribute_h_l',\n",
              " 'contents_attribute_l_n',\n",
              " 'contents_attribute_l_s',\n",
              " 'contents_attribute_l_m',\n",
              " 'contents_attribute_l_l']"
            ]
          },
          "execution_count": 30,
          "metadata": {},
          "output_type": "execute_result"
        }
      ],
      "source": [
        "train.columns[train.nunique() > 2].tolist()"
      ]
    },
    {
      "cell_type": "code",
      "execution_count": 31,
      "metadata": {
        "id": "9y3Stl3Aaux8"
      },
      "outputs": [],
      "source": [
        "cat_f = train.columns.tolist()\n",
        "cat_f.remove('person_attribute_a_a')\n",
        "cat_f.remove('person_attribute_b')\n",
        "cat_f.remove('person_prefer_e')\n",
        "cat_f.remove('contents_attribute_e')\n",
        "cat_f.remove('target')"
      ]
    },
    {
      "cell_type": "code",
      "execution_count": 32,
      "metadata": {
        "colab": {
          "base_uri": "https://localhost:8080/"
        },
        "id": "IwmBzS5WcHGi",
        "outputId": "a397342a-6ba6-4757-919c-eb3993d8b319"
      },
      "outputs": [
        {
          "data": {
            "text/plain": [
              "['d_l_match_yn',\n",
              " 'd_m_match_yn',\n",
              " 'd_s_match_yn',\n",
              " 'h_l_match_yn',\n",
              " 'h_m_match_yn',\n",
              " 'h_s_match_yn',\n",
              " 'person_attribute_a',\n",
              " 'person_prefer_c',\n",
              " 'person_prefer_d_1',\n",
              " 'person_prefer_d_2',\n",
              " 'person_prefer_d_3',\n",
              " 'person_prefer_h_1',\n",
              " 'person_prefer_h_2',\n",
              " 'person_prefer_h_3',\n",
              " 'contents_attribute_i',\n",
              " 'contents_attribute_a',\n",
              " 'contents_attribute_j_a',\n",
              " 'contents_attribute_j',\n",
              " 'contents_attribute_c',\n",
              " 'contents_attribute_k',\n",
              " 'contents_attribute_l',\n",
              " 'contents_attribute_d',\n",
              " 'contents_attribute_m',\n",
              " 'contents_attribute_h',\n",
              " 'person_rn',\n",
              " 'contents_rn',\n",
              " 'person_prefer_d_1_n',\n",
              " 'person_prefer_d_1_s',\n",
              " 'person_prefer_d_1_m',\n",
              " 'person_prefer_d_1_l',\n",
              " 'person_prefer_d_2_n',\n",
              " 'person_prefer_d_2_s',\n",
              " 'person_prefer_d_2_m',\n",
              " 'person_prefer_d_2_l',\n",
              " 'person_prefer_d_3_n',\n",
              " 'person_prefer_d_3_s',\n",
              " 'person_prefer_d_3_m',\n",
              " 'person_prefer_d_3_l',\n",
              " 'contents_attribute_d_n',\n",
              " 'contents_attribute_d_s',\n",
              " 'contents_attribute_d_m',\n",
              " 'contents_attribute_d_l',\n",
              " 'person_prefer_h_1_m',\n",
              " 'person_prefer_h_1_l',\n",
              " 'person_prefer_h_2_m',\n",
              " 'person_prefer_h_2_l',\n",
              " 'person_prefer_h_3_m',\n",
              " 'person_prefer_h_3_l',\n",
              " 'contents_attribute_h_m',\n",
              " 'contents_attribute_h_l',\n",
              " 'contents_attribute_l_n',\n",
              " 'contents_attribute_l_s',\n",
              " 'contents_attribute_l_m',\n",
              " 'contents_attribute_l_l']"
            ]
          },
          "execution_count": 32,
          "metadata": {},
          "output_type": "execute_result"
        }
      ],
      "source": [
        "cat_f"
      ]
    },
    {
      "cell_type": "markdown",
      "metadata": {
        "id": "Rcvw-1BpTeOn"
      },
      "source": [
        "# train, test 셋 분리"
      ]
    },
    {
      "cell_type": "code",
      "execution_count": 33,
      "metadata": {
        "colab": {
          "base_uri": "https://localhost:8080/"
        },
        "id": "RRCuWto5VFi9",
        "outputId": "a8cb00f0-ce57-4d3b-983a-8a38e1a41d30"
      },
      "outputs": [
        {
          "data": {
            "text/plain": [
              "(501951, 59)"
            ]
          },
          "execution_count": 33,
          "metadata": {},
          "output_type": "execute_result"
        }
      ],
      "source": [
        "train.shape"
      ]
    },
    {
      "cell_type": "code",
      "execution_count": 34,
      "metadata": {
        "colab": {
          "base_uri": "https://localhost:8080/"
        },
        "id": "CW9ep6tlUMEf",
        "outputId": "8fcda4d7-adf6-477d-c830-06bf8e090d57"
      },
      "outputs": [
        {
          "data": {
            "text/plain": [
              "(501951, 58)"
            ]
          },
          "execution_count": 34,
          "metadata": {},
          "output_type": "execute_result"
        }
      ],
      "source": [
        "X = train.drop(['target'], axis=1)\n",
        "X.shape"
      ]
    },
    {
      "cell_type": "code",
      "execution_count": 35,
      "metadata": {
        "colab": {
          "base_uri": "https://localhost:8080/"
        },
        "id": "DiitzM-yUTP4",
        "outputId": "2b704d4c-5b58-4cbf-98d0-b88de01d91f1"
      },
      "outputs": [
        {
          "data": {
            "text/plain": [
              "(501951, 1)"
            ]
          },
          "execution_count": 35,
          "metadata": {},
          "output_type": "execute_result"
        }
      ],
      "source": [
        "y = train[['target']]\n",
        "y.shape"
      ]
    },
    {
      "cell_type": "code",
      "execution_count": 36,
      "metadata": {
        "id": "TY9AYxPsThWT"
      },
      "outputs": [],
      "source": [
        "X_train, X_val, y_train, y_val = train_test_split(X, y, random_state=0, shuffle=True, stratify=y)"
      ]
    },
    {
      "cell_type": "code",
      "execution_count": 37,
      "metadata": {
        "colab": {
          "base_uri": "https://localhost:8080/"
        },
        "id": "XqOsy6a1ThT3",
        "outputId": "32f20f45-1bda-4b41-9f21-60ad82efd30c"
      },
      "outputs": [
        {
          "data": {
            "text/plain": [
              "((376463, 58), (125488, 58), (376463, 1), (125488, 1))"
            ]
          },
          "execution_count": 37,
          "metadata": {},
          "output_type": "execute_result"
        }
      ],
      "source": [
        "X_train.shape, X_val.shape, y_train.shape, y_val.shape"
      ]
    },
    {
      "cell_type": "markdown",
      "metadata": {
        "id": "XVD0SgoqskOy"
      },
      "source": [
        "# 모델 훈련/예측"
      ]
    },
    {
      "cell_type": "code",
      "execution_count": 38,
      "metadata": {
        "id": "riP5zP9mi5RN"
      },
      "outputs": [],
      "source": [
        "cat = CatBoostClassifier(random_state=0, task_type=\"GPU\", iterations=1000, \n",
        "                         cat_features=cat_f, eval_metric='F1')"
      ]
    },
    {
      "cell_type": "code",
      "execution_count": 39,
      "metadata": {
        "colab": {
          "base_uri": "https://localhost:8080/"
        },
        "id": "VRa6Bkr_skOr",
        "outputId": "d9886ead-8581-4660-fd4d-ba34cf032a37"
      },
      "outputs": [
        {
          "name": "stdout",
          "output_type": "stream",
          "text": [
            "Learning rate set to 0.043012\n",
            "0:\tlearn: 0.6198105\ttest: 0.6215183\tbest: 0.6215183 (0)\ttotal: 457ms\tremaining: 7m 36s\n",
            "100:\tlearn: 0.6479143\ttest: 0.6602426\tbest: 0.6640623 (24)\ttotal: 28.4s\tremaining: 4m 12s\n",
            "200:\tlearn: 0.6543445\ttest: 0.6635824\tbest: 0.6640623 (24)\ttotal: 57.2s\tremaining: 3m 47s\n",
            "300:\tlearn: 0.6595880\ttest: 0.6688754\tbest: 0.6688754 (300)\ttotal: 1m 26s\tremaining: 3m 20s\n",
            "400:\tlearn: 0.6638454\ttest: 0.6715247\tbest: 0.6715989 (399)\ttotal: 1m 54s\tremaining: 2m 51s\n",
            "500:\tlearn: 0.6672418\ttest: 0.6736326\tbest: 0.6736645 (499)\ttotal: 2m 22s\tremaining: 2m 22s\n",
            "600:\tlearn: 0.6696785\ttest: 0.6758396\tbest: 0.6759388 (598)\ttotal: 2m 50s\tremaining: 1m 52s\n",
            "700:\tlearn: 0.6714812\ttest: 0.6762474\tbest: 0.6762996 (697)\ttotal: 3m 17s\tremaining: 1m 24s\n",
            "800:\tlearn: 0.6729356\ttest: 0.6766266\tbest: 0.6767736 (799)\ttotal: 3m 43s\tremaining: 55.6s\n",
            "900:\tlearn: 0.6746601\ttest: 0.6767930\tbest: 0.6768991 (847)\ttotal: 4m 10s\tremaining: 27.5s\n",
            "999:\tlearn: 0.6758813\ttest: 0.6772766\tbest: 0.6774888 (964)\ttotal: 4m 36s\tremaining: 0us\n",
            "bestTest = 0.6774887821\n",
            "bestIteration = 964\n",
            "Shrink model to first 965 iterations.\n"
          ]
        },
        {
          "data": {
            "text/plain": [
              "<catboost.core.CatBoostClassifier at 0x7f50fe8d6ad0>"
            ]
          },
          "execution_count": 39,
          "metadata": {},
          "output_type": "execute_result"
        }
      ],
      "source": [
        "cat.fit(X_train, y_train, eval_set=(X_val, y_val), verbose=100)\n",
        "# 47s"
      ]
    },
    {
      "cell_type": "code",
      "execution_count": 40,
      "metadata": {
        "colab": {
          "base_uri": "https://localhost:8080/"
        },
        "id": "jnBPYdIsi5RN",
        "outputId": "77800365-6b95-453c-de21-f110df9500df"
      },
      "outputs": [
        {
          "data": {
            "text/plain": [
              "{'learn': {'F1': 0.6759309325547025, 'Logloss': 0.6055279253870899},\n",
              " 'validation': {'F1': 0.6774887821149188, 'Logloss': 0.597770242473384}}"
            ]
          },
          "execution_count": 40,
          "metadata": {},
          "output_type": "execute_result"
        }
      ],
      "source": [
        "cat.best_score_"
      ]
    },
    {
      "cell_type": "markdown",
      "metadata": {
        "id": "QRAzKZ5n4KCE"
      },
      "source": [
        "## 자체 평가"
      ]
    },
    {
      "cell_type": "markdown",
      "metadata": {
        "id": "0Ow3oM-u4jjL"
      },
      "source": [
        "### 기본 평가"
      ]
    },
    {
      "cell_type": "code",
      "execution_count": 41,
      "metadata": {
        "colab": {
          "base_uri": "https://localhost:8080/"
        },
        "id": "63E6SfWut8TZ",
        "outputId": "de4d1005-7503-474e-e579-258215478ab9"
      },
      "outputs": [
        {
          "name": "stdout",
          "output_type": "stream",
          "text": [
            "              precision    recall  f1-score   support\n",
            "\n",
            "           0       0.68      0.67      0.68     62777\n",
            "           1       0.67      0.68      0.68     62711\n",
            "\n",
            "    accuracy                           0.68    125488\n",
            "   macro avg       0.68      0.68      0.68    125488\n",
            "weighted avg       0.68      0.68      0.68    125488\n",
            "\n"
          ]
        }
      ],
      "source": [
        "val_pred = cat.predict(X_val)\n",
        "print(classification_report(y_val, val_pred))"
      ]
    },
    {
      "cell_type": "code",
      "execution_count": 51,
      "metadata": {
        "colab": {
          "base_uri": "https://localhost:8080/"
        },
        "id": "005q0xhR5O3x",
        "outputId": "e4661973-d7c9-43f1-b1f5-7ad4aa7d5d3e"
      },
      "outputs": [
        {
          "data": {
            "text/plain": [
              "0.6774887821149188"
            ]
          },
          "execution_count": 51,
          "metadata": {},
          "output_type": "execute_result"
        }
      ],
      "source": [
        "f1_score(y_val, val_pred)"
      ]
    },
    {
      "cell_type": "code",
      "execution_count": 42,
      "metadata": {
        "id": "4PRk37WYi5RN"
      },
      "outputs": [],
      "source": [
        "from sklearn.metrics import roc_curve"
      ]
    },
    {
      "cell_type": "code",
      "execution_count": 43,
      "metadata": {
        "id": "1gAfcYikuzsz"
      },
      "outputs": [],
      "source": [
        "val_pred_proba = cat.predict_proba(X_val)"
      ]
    },
    {
      "cell_type": "code",
      "execution_count": 44,
      "metadata": {
        "colab": {
          "base_uri": "https://localhost:8080/"
        },
        "id": "Ro19aLKmvU_q",
        "outputId": "3b07c572-8ec3-446d-8563-7d932a4a54ed"
      },
      "outputs": [
        {
          "data": {
            "text/plain": [
              "array([[0.47759898, 0.52240102],\n",
              "       [0.33091306, 0.66908694],\n",
              "       [0.56676231, 0.43323769],\n",
              "       ...,\n",
              "       [0.76884342, 0.23115658],\n",
              "       [0.89297384, 0.10702616],\n",
              "       [0.33363569, 0.66636431]])"
            ]
          },
          "execution_count": 44,
          "metadata": {},
          "output_type": "execute_result"
        }
      ],
      "source": [
        "val_pred_proba"
      ]
    },
    {
      "cell_type": "code",
      "execution_count": 45,
      "metadata": {
        "colab": {
          "base_uri": "https://localhost:8080/"
        },
        "id": "Ze31eleJ8EII",
        "outputId": "dc00abf7-fbc7-46ca-de7c-71d1438a2c83"
      },
      "outputs": [
        {
          "data": {
            "text/plain": [
              "array([0.52240102, 0.66908694, 0.43323769, ..., 0.23115658, 0.10702616,\n",
              "       0.66636431])"
            ]
          },
          "execution_count": 45,
          "metadata": {},
          "output_type": "execute_result"
        }
      ],
      "source": [
        "val_pred_proba[:,1]"
      ]
    },
    {
      "cell_type": "markdown",
      "metadata": {
        "id": "wC6E_v6F4pOw"
      },
      "source": [
        "### roc curve"
      ]
    },
    {
      "cell_type": "code",
      "execution_count": 46,
      "metadata": {
        "colab": {
          "base_uri": "https://localhost:8080/",
          "height": 424
        },
        "id": "Fuw4OG1k7_NB",
        "outputId": "1ffee095-2834-4128-d0fb-8963205b15e8"
      },
      "outputs": [
        {
          "data": {
            "text/html": [
              "\n",
              "  <div id=\"df-c39bd396-27ad-4a6c-9d5a-f3a532cff10f\">\n",
              "    <div class=\"colab-df-container\">\n",
              "      <div>\n",
              "<style scoped>\n",
              "    .dataframe tbody tr th:only-of-type {\n",
              "        vertical-align: middle;\n",
              "    }\n",
              "\n",
              "    .dataframe tbody tr th {\n",
              "        vertical-align: top;\n",
              "    }\n",
              "\n",
              "    .dataframe thead th {\n",
              "        text-align: right;\n",
              "    }\n",
              "</style>\n",
              "<table border=\"1\" class=\"dataframe\">\n",
              "  <thead>\n",
              "    <tr style=\"text-align: right;\">\n",
              "      <th></th>\n",
              "      <th>FPR(Fall-out)</th>\n",
              "      <th>TPRate(Recall)</th>\n",
              "      <th>Threshold</th>\n",
              "    </tr>\n",
              "  </thead>\n",
              "  <tbody>\n",
              "    <tr>\n",
              "      <th>0</th>\n",
              "      <td>0.000000</td>\n",
              "      <td>0.000000</td>\n",
              "      <td>1.933486</td>\n",
              "    </tr>\n",
              "    <tr>\n",
              "      <th>1</th>\n",
              "      <td>0.000000</td>\n",
              "      <td>0.000016</td>\n",
              "      <td>0.933486</td>\n",
              "    </tr>\n",
              "    <tr>\n",
              "      <th>2</th>\n",
              "      <td>0.000000</td>\n",
              "      <td>0.000175</td>\n",
              "      <td>0.920078</td>\n",
              "    </tr>\n",
              "    <tr>\n",
              "      <th>3</th>\n",
              "      <td>0.000016</td>\n",
              "      <td>0.000175</td>\n",
              "      <td>0.918288</td>\n",
              "    </tr>\n",
              "    <tr>\n",
              "      <th>4</th>\n",
              "      <td>0.000016</td>\n",
              "      <td>0.000734</td>\n",
              "      <td>0.904687</td>\n",
              "    </tr>\n",
              "    <tr>\n",
              "      <th>...</th>\n",
              "      <td>...</td>\n",
              "      <td>...</td>\n",
              "      <td>...</td>\n",
              "    </tr>\n",
              "    <tr>\n",
              "      <th>51591</th>\n",
              "      <td>0.998471</td>\n",
              "      <td>0.999968</td>\n",
              "      <td>0.012749</td>\n",
              "    </tr>\n",
              "    <tr>\n",
              "      <th>51592</th>\n",
              "      <td>0.998471</td>\n",
              "      <td>0.999984</td>\n",
              "      <td>0.012734</td>\n",
              "    </tr>\n",
              "    <tr>\n",
              "      <th>51593</th>\n",
              "      <td>0.998550</td>\n",
              "      <td>0.999984</td>\n",
              "      <td>0.012616</td>\n",
              "    </tr>\n",
              "    <tr>\n",
              "      <th>51594</th>\n",
              "      <td>0.998550</td>\n",
              "      <td>1.000000</td>\n",
              "      <td>0.012587</td>\n",
              "    </tr>\n",
              "    <tr>\n",
              "      <th>51595</th>\n",
              "      <td>1.000000</td>\n",
              "      <td>1.000000</td>\n",
              "      <td>0.002915</td>\n",
              "    </tr>\n",
              "  </tbody>\n",
              "</table>\n",
              "<p>51596 rows × 3 columns</p>\n",
              "</div>\n",
              "      <button class=\"colab-df-convert\" onclick=\"convertToInteractive('df-c39bd396-27ad-4a6c-9d5a-f3a532cff10f')\"\n",
              "              title=\"Convert this dataframe to an interactive table.\"\n",
              "              style=\"display:none;\">\n",
              "        \n",
              "  <svg xmlns=\"http://www.w3.org/2000/svg\" height=\"24px\"viewBox=\"0 0 24 24\"\n",
              "       width=\"24px\">\n",
              "    <path d=\"M0 0h24v24H0V0z\" fill=\"none\"/>\n",
              "    <path d=\"M18.56 5.44l.94 2.06.94-2.06 2.06-.94-2.06-.94-.94-2.06-.94 2.06-2.06.94zm-11 1L8.5 8.5l.94-2.06 2.06-.94-2.06-.94L8.5 2.5l-.94 2.06-2.06.94zm10 10l.94 2.06.94-2.06 2.06-.94-2.06-.94-.94-2.06-.94 2.06-2.06.94z\"/><path d=\"M17.41 7.96l-1.37-1.37c-.4-.4-.92-.59-1.43-.59-.52 0-1.04.2-1.43.59L10.3 9.45l-7.72 7.72c-.78.78-.78 2.05 0 2.83L4 21.41c.39.39.9.59 1.41.59.51 0 1.02-.2 1.41-.59l7.78-7.78 2.81-2.81c.8-.78.8-2.07 0-2.86zM5.41 20L4 18.59l7.72-7.72 1.47 1.35L5.41 20z\"/>\n",
              "  </svg>\n",
              "      </button>\n",
              "      \n",
              "  <style>\n",
              "    .colab-df-container {\n",
              "      display:flex;\n",
              "      flex-wrap:wrap;\n",
              "      gap: 12px;\n",
              "    }\n",
              "\n",
              "    .colab-df-convert {\n",
              "      background-color: #E8F0FE;\n",
              "      border: none;\n",
              "      border-radius: 50%;\n",
              "      cursor: pointer;\n",
              "      display: none;\n",
              "      fill: #1967D2;\n",
              "      height: 32px;\n",
              "      padding: 0 0 0 0;\n",
              "      width: 32px;\n",
              "    }\n",
              "\n",
              "    .colab-df-convert:hover {\n",
              "      background-color: #E2EBFA;\n",
              "      box-shadow: 0px 1px 2px rgba(60, 64, 67, 0.3), 0px 1px 3px 1px rgba(60, 64, 67, 0.15);\n",
              "      fill: #174EA6;\n",
              "    }\n",
              "\n",
              "    [theme=dark] .colab-df-convert {\n",
              "      background-color: #3B4455;\n",
              "      fill: #D2E3FC;\n",
              "    }\n",
              "\n",
              "    [theme=dark] .colab-df-convert:hover {\n",
              "      background-color: #434B5C;\n",
              "      box-shadow: 0px 1px 3px 1px rgba(0, 0, 0, 0.15);\n",
              "      filter: drop-shadow(0px 1px 2px rgba(0, 0, 0, 0.3));\n",
              "      fill: #FFFFFF;\n",
              "    }\n",
              "  </style>\n",
              "\n",
              "      <script>\n",
              "        const buttonEl =\n",
              "          document.querySelector('#df-c39bd396-27ad-4a6c-9d5a-f3a532cff10f button.colab-df-convert');\n",
              "        buttonEl.style.display =\n",
              "          google.colab.kernel.accessAllowed ? 'block' : 'none';\n",
              "\n",
              "        async function convertToInteractive(key) {\n",
              "          const element = document.querySelector('#df-c39bd396-27ad-4a6c-9d5a-f3a532cff10f');\n",
              "          const dataTable =\n",
              "            await google.colab.kernel.invokeFunction('convertToInteractive',\n",
              "                                                     [key], {});\n",
              "          if (!dataTable) return;\n",
              "\n",
              "          const docLinkHtml = 'Like what you see? Visit the ' +\n",
              "            '<a target=\"_blank\" href=https://colab.research.google.com/notebooks/data_table.ipynb>data table notebook</a>'\n",
              "            + ' to learn more about interactive tables.';\n",
              "          element.innerHTML = '';\n",
              "          dataTable['output_type'] = 'display_data';\n",
              "          await google.colab.output.renderOutput(dataTable, element);\n",
              "          const docLink = document.createElement('div');\n",
              "          docLink.innerHTML = docLinkHtml;\n",
              "          element.appendChild(docLink);\n",
              "        }\n",
              "      </script>\n",
              "    </div>\n",
              "  </div>\n",
              "  "
            ],
            "text/plain": [
              "       FPR(Fall-out)  TPRate(Recall)  Threshold\n",
              "0           0.000000        0.000000   1.933486\n",
              "1           0.000000        0.000016   0.933486\n",
              "2           0.000000        0.000175   0.920078\n",
              "3           0.000016        0.000175   0.918288\n",
              "4           0.000016        0.000734   0.904687\n",
              "...              ...             ...        ...\n",
              "51591       0.998471        0.999968   0.012749\n",
              "51592       0.998471        0.999984   0.012734\n",
              "51593       0.998550        0.999984   0.012616\n",
              "51594       0.998550        1.000000   0.012587\n",
              "51595       1.000000        1.000000   0.002915\n",
              "\n",
              "[51596 rows x 3 columns]"
            ]
          },
          "execution_count": 46,
          "metadata": {},
          "output_type": "execute_result"
        }
      ],
      "source": [
        "from sklearn.metrics import roc_curve\n",
        "# roc_curve(타겟값, prob of 1)\n",
        "fpr, tpr, thresholds = roc_curve(y_val, val_pred_proba[:,1])\n",
        "\n",
        "roc = pd.DataFrame({\n",
        "    'FPR(Fall-out)': fpr, \n",
        "    'TPRate(Recall)': tpr, \n",
        "    'Threshold': thresholds\n",
        "})\n",
        "roc"
      ]
    },
    {
      "cell_type": "code",
      "execution_count": 47,
      "metadata": {
        "id": "Odku72x48e_9"
      },
      "outputs": [],
      "source": [
        "import matplotlib.pyplot as plt"
      ]
    },
    {
      "cell_type": "code",
      "execution_count": 59,
      "metadata": {
        "colab": {
          "base_uri": "https://localhost:8080/",
          "height": 518
        },
        "id": "-nyWsArn8tKc",
        "outputId": "010fc38d-9f09-48d3-c06a-da1d0dfc46f1"
      },
      "outputs": [
        {
          "data": {
            "text/plain": [
              "Text(0, 0.5, 'TPRate')"
            ]
          },
          "execution_count": 59,
          "metadata": {},
          "output_type": "execute_result"
        },
        {
          "data": {
            "image/png": "[encoded data removed]",
            "text/plain": [
              "<Figure size 720x576 with 1 Axes>"
            ]
          },
          "metadata": {
            "needs_background": "light"
          },
          "output_type": "display_data"
        }
      ],
      "source": [
        "plt.figure(figsize=(10,8))\n",
        "plt.plot(roc['FPR(Fall-out)'], roc['TPRate(Recall)'])\n",
        "plt.xlabel('FPR', fontsize=12)\n",
        "plt.ylabel('TPRate', fontsize=12)"
      ]
    },
    {
      "cell_type": "markdown",
      "metadata": {
        "id": "87UY-2pT43hw"
      },
      "source": [
        "### threshold제한 평가"
      ]
    },
    {
      "cell_type": "code",
      "execution_count": 52,
      "metadata": {
        "colab": {
          "base_uri": "https://localhost:8080/"
        },
        "id": "cK3cBFJF8T5O",
        "outputId": "55e3a473-9f67-4f41-ffcf-c6e4afbf7c70"
      },
      "outputs": [
        {
          "name": "stdout",
          "output_type": "stream",
          "text": [
            "idx: 28194 , threshold: 0.4869006643732843\n"
          ]
        }
      ],
      "source": [
        "# threshold 최대값의 인덱스, np.argmax()\n",
        "optimal_idx = np.argmax(tpr - fpr)\n",
        "optimal_threshold = thresholds[optimal_idx]\n",
        "\n",
        "print('idx:', optimal_idx, ', threshold:', optimal_threshold)"
      ]
    },
    {
      "cell_type": "code",
      "execution_count": 53,
      "metadata": {
        "id": "W1PBSqaZ_9hV"
      },
      "outputs": [],
      "source": [
        "from sklearn.metrics import roc_auc_score\n",
        "\n",
        "pred_proba = cat.predict_proba(X_val)[:,1]\n",
        "roc_score = roc_auc_score(y_val, pred_proba)"
      ]
    },
    {
      "cell_type": "code",
      "execution_count": 54,
      "metadata": {
        "colab": {
          "base_uri": "https://localhost:8080/"
        },
        "id": "arTqiIhlAJhd",
        "outputId": "48d37925-2cb0-4d08-ae80-0ef9a4b642f8"
      },
      "outputs": [
        {
          "data": {
            "text/plain": [
              "0.7407428383319561"
            ]
          },
          "execution_count": 54,
          "metadata": {},
          "output_type": "execute_result"
        }
      ],
      "source": [
        "roc_score"
      ]
    },
    {
      "cell_type": "code",
      "execution_count": 56,
      "metadata": {
        "colab": {
          "base_uri": "https://localhost:8080/"
        },
        "id": "T4ivjGYs3gHC",
        "outputId": "cb750264-b79c-4965-d7b8-51ca32977ecf"
      },
      "outputs": [
        {
          "data": {
            "text/plain": [
              "array([1, 1, 0, ..., 0, 0, 1])"
            ]
          },
          "execution_count": 56,
          "metadata": {},
          "output_type": "execute_result"
        }
      ],
      "source": [
        "val_pred_th =  (cat.predict_proba(X_val)[:,1] >= optimal_threshold)\n",
        "# 1의 예측값만 불러와도 되므로 [:,1]사용\n",
        "val_pred_th = val_pred_th.astype(int)\n",
        "val_pred_th"
      ]
    },
    {
      "cell_type": "code",
      "execution_count": 57,
      "metadata": {
        "colab": {
          "base_uri": "https://localhost:8080/"
        },
        "id": "N2egGkmi3r7B",
        "outputId": "1c1624b5-1286-404d-dd38-41773492b6bd"
      },
      "outputs": [
        {
          "data": {
            "text/plain": [
              "0.6863500678426051"
            ]
          },
          "execution_count": 57,
          "metadata": {},
          "output_type": "execute_result"
        }
      ],
      "source": [
        "f1_score(y_val, val_pred_th)"
      ]
    },
    {
      "cell_type": "markdown",
      "metadata": {
        "id": "0R8HUSfi6N3a"
      },
      "source": [
        "## test 예측"
      ]
    },
    {
      "cell_type": "code",
      "execution_count": 60,
      "metadata": {
        "colab": {
          "base_uri": "https://localhost:8080/"
        },
        "id": "rNm2y1gZkGpw",
        "outputId": "86b3204b-6f5d-436f-b06a-2779eeed4734"
      },
      "outputs": [
        {
          "data": {
            "text/plain": [
              "array([0, 0, 0, ..., 1, 1, 1])"
            ]
          },
          "execution_count": 60,
          "metadata": {},
          "output_type": "execute_result"
        }
      ],
      "source": [
        "pred =  (cat.predict_proba(test)[:,1] >= optimal_threshold)\n",
        "# 1의 예측값만 불러와도 되므로 [:,1]사용\n",
        "pred = pred.astype(int)\n",
        "pred"
      ]
    },
    {
      "cell_type": "markdown",
      "metadata": {
        "id": "_Pj2Qhx1IoC9"
      },
      "source": [
        "# 제출파일 불러오기"
      ]
    },
    {
      "cell_type": "code",
      "execution_count": 61,
      "metadata": {
        "colab": {
          "base_uri": "https://localhost:8080/"
        },
        "id": "4XIcksC_skOz",
        "outputId": "194c8a43-0bca-4ca3-9d60-d6fd6e46727c"
      },
      "outputs": [
        {
          "name": "stdout",
          "output_type": "stream",
          "text": [
            "<class 'pandas.core.frame.DataFrame'>\n",
            "RangeIndex: 46404 entries, 0 to 46403\n",
            "Data columns (total 2 columns):\n",
            " #   Column  Non-Null Count  Dtype\n",
            "---  ------  --------------  -----\n",
            " 0   id      46404 non-null  int64\n",
            " 1   target  46404 non-null  int64\n",
            "dtypes: int64(2)\n",
            "memory usage: 725.2 KB\n"
          ]
        }
      ],
      "source": [
        "# sub = pd.read_csv('../data/sample_submission.csv')\n",
        "sub = pd.read_csv('/content/drive/MyDrive/GitHub/Dacon/TP2(잡케어)/data/sample_submission.csv')\n",
        "sub.info()"
      ]
    },
    {
      "cell_type": "code",
      "execution_count": 62,
      "metadata": {
        "colab": {
          "base_uri": "https://localhost:8080/",
          "height": 206
        },
        "id": "Z8LAl0BVskOz",
        "outputId": "67c91efc-d04d-41e4-b211-4222d6ebda8a"
      },
      "outputs": [
        {
          "data": {
            "text/html": [
              "\n",
              "  <div id=\"df-3f5c48ff-6a93-43a0-980c-5b27a0d9ae57\">\n",
              "    <div class=\"colab-df-container\">\n",
              "      <div>\n",
              "<style scoped>\n",
              "    .dataframe tbody tr th:only-of-type {\n",
              "        vertical-align: middle;\n",
              "    }\n",
              "\n",
              "    .dataframe tbody tr th {\n",
              "        vertical-align: top;\n",
              "    }\n",
              "\n",
              "    .dataframe thead th {\n",
              "        text-align: right;\n",
              "    }\n",
              "</style>\n",
              "<table border=\"1\" class=\"dataframe\">\n",
              "  <thead>\n",
              "    <tr style=\"text-align: right;\">\n",
              "      <th></th>\n",
              "      <th>id</th>\n",
              "      <th>target</th>\n",
              "    </tr>\n",
              "  </thead>\n",
              "  <tbody>\n",
              "    <tr>\n",
              "      <th>0</th>\n",
              "      <td>0</td>\n",
              "      <td>0</td>\n",
              "    </tr>\n",
              "    <tr>\n",
              "      <th>1</th>\n",
              "      <td>1</td>\n",
              "      <td>0</td>\n",
              "    </tr>\n",
              "    <tr>\n",
              "      <th>2</th>\n",
              "      <td>2</td>\n",
              "      <td>0</td>\n",
              "    </tr>\n",
              "    <tr>\n",
              "      <th>3</th>\n",
              "      <td>3</td>\n",
              "      <td>0</td>\n",
              "    </tr>\n",
              "    <tr>\n",
              "      <th>4</th>\n",
              "      <td>4</td>\n",
              "      <td>0</td>\n",
              "    </tr>\n",
              "  </tbody>\n",
              "</table>\n",
              "</div>\n",
              "      <button class=\"colab-df-convert\" onclick=\"convertToInteractive('df-3f5c48ff-6a93-43a0-980c-5b27a0d9ae57')\"\n",
              "              title=\"Convert this dataframe to an interactive table.\"\n",
              "              style=\"display:none;\">\n",
              "        \n",
              "  <svg xmlns=\"http://www.w3.org/2000/svg\" height=\"24px\"viewBox=\"0 0 24 24\"\n",
              "       width=\"24px\">\n",
              "    <path d=\"M0 0h24v24H0V0z\" fill=\"none\"/>\n",
              "    <path d=\"M18.56 5.44l.94 2.06.94-2.06 2.06-.94-2.06-.94-.94-2.06-.94 2.06-2.06.94zm-11 1L8.5 8.5l.94-2.06 2.06-.94-2.06-.94L8.5 2.5l-.94 2.06-2.06.94zm10 10l.94 2.06.94-2.06 2.06-.94-2.06-.94-.94-2.06-.94 2.06-2.06.94z\"/><path d=\"M17.41 7.96l-1.37-1.37c-.4-.4-.92-.59-1.43-.59-.52 0-1.04.2-1.43.59L10.3 9.45l-7.72 7.72c-.78.78-.78 2.05 0 2.83L4 21.41c.39.39.9.59 1.41.59.51 0 1.02-.2 1.41-.59l7.78-7.78 2.81-2.81c.8-.78.8-2.07 0-2.86zM5.41 20L4 18.59l7.72-7.72 1.47 1.35L5.41 20z\"/>\n",
              "  </svg>\n",
              "      </button>\n",
              "      \n",
              "  <style>\n",
              "    .colab-df-container {\n",
              "      display:flex;\n",
              "      flex-wrap:wrap;\n",
              "      gap: 12px;\n",
              "    }\n",
              "\n",
              "    .colab-df-convert {\n",
              "      background-color: #E8F0FE;\n",
              "      border: none;\n",
              "      border-radius: 50%;\n",
              "      cursor: pointer;\n",
              "      display: none;\n",
              "      fill: #1967D2;\n",
              "      height: 32px;\n",
              "      padding: 0 0 0 0;\n",
              "      width: 32px;\n",
              "    }\n",
              "\n",
              "    .colab-df-convert:hover {\n",
              "      background-color: #E2EBFA;\n",
              "      box-shadow: 0px 1px 2px rgba(60, 64, 67, 0.3), 0px 1px 3px 1px rgba(60, 64, 67, 0.15);\n",
              "      fill: #174EA6;\n",
              "    }\n",
              "\n",
              "    [theme=dark] .colab-df-convert {\n",
              "      background-color: #3B4455;\n",
              "      fill: #D2E3FC;\n",
              "    }\n",
              "\n",
              "    [theme=dark] .colab-df-convert:hover {\n",
              "      background-color: #434B5C;\n",
              "      box-shadow: 0px 1px 3px 1px rgba(0, 0, 0, 0.15);\n",
              "      filter: drop-shadow(0px 1px 2px rgba(0, 0, 0, 0.3));\n",
              "      fill: #FFFFFF;\n",
              "    }\n",
              "  </style>\n",
              "\n",
              "      <script>\n",
              "        const buttonEl =\n",
              "          document.querySelector('#df-3f5c48ff-6a93-43a0-980c-5b27a0d9ae57 button.colab-df-convert');\n",
              "        buttonEl.style.display =\n",
              "          google.colab.kernel.accessAllowed ? 'block' : 'none';\n",
              "\n",
              "        async function convertToInteractive(key) {\n",
              "          const element = document.querySelector('#df-3f5c48ff-6a93-43a0-980c-5b27a0d9ae57');\n",
              "          const dataTable =\n",
              "            await google.colab.kernel.invokeFunction('convertToInteractive',\n",
              "                                                     [key], {});\n",
              "          if (!dataTable) return;\n",
              "\n",
              "          const docLinkHtml = 'Like what you see? Visit the ' +\n",
              "            '<a target=\"_blank\" href=https://colab.research.google.com/notebooks/data_table.ipynb>data table notebook</a>'\n",
              "            + ' to learn more about interactive tables.';\n",
              "          element.innerHTML = '';\n",
              "          dataTable['output_type'] = 'display_data';\n",
              "          await google.colab.output.renderOutput(dataTable, element);\n",
              "          const docLink = document.createElement('div');\n",
              "          docLink.innerHTML = docLinkHtml;\n",
              "          element.appendChild(docLink);\n",
              "        }\n",
              "      </script>\n",
              "    </div>\n",
              "  </div>\n",
              "  "
            ],
            "text/plain": [
              "   id  target\n",
              "0   0       0\n",
              "1   1       0\n",
              "2   2       0\n",
              "3   3       0\n",
              "4   4       0"
            ]
          },
          "execution_count": 62,
          "metadata": {},
          "output_type": "execute_result"
        }
      ],
      "source": [
        "sub.head()"
      ]
    },
    {
      "cell_type": "markdown",
      "metadata": {
        "id": "E3JpXbMuskOz"
      },
      "source": [
        "# 제출파일 생성"
      ]
    },
    {
      "cell_type": "code",
      "execution_count": 63,
      "metadata": {
        "id": "AwIN62eN_jcz"
      },
      "outputs": [],
      "source": [
        "sub['target'] = pred"
      ]
    },
    {
      "cell_type": "code",
      "execution_count": 64,
      "metadata": {
        "colab": {
          "base_uri": "https://localhost:8080/"
        },
        "id": "eTUIUYa9_kaP",
        "outputId": "1e76eddd-c389-48a1-9c24-759297ef4acc"
      },
      "outputs": [
        {
          "data": {
            "text/plain": [
              "0    26785\n",
              "1    19619\n",
              "Name: target, dtype: int64"
            ]
          },
          "execution_count": 64,
          "metadata": {},
          "output_type": "execute_result"
        }
      ],
      "source": [
        "sub['target'].value_counts()"
      ]
    },
    {
      "cell_type": "code",
      "execution_count": 65,
      "metadata": {
        "id": "LhzYAYzwIoC9"
      },
      "outputs": [],
      "source": [
        "# sub.to_csv('sub_ver4.1.csv', index=False)\n",
        "sub.to_csv('/content/drive/MyDrive/GitHub/Dacon/TP2(잡케어)/03_모델선정및개선/sub_ver4.1.csv', index=False)"
      ]
    },
    {
      "cell_type": "markdown",
      "metadata": {
        "id": "U_hgZE0EskO0"
      },
      "source": [
        "# 코드 마지막"
      ]
    }
  ],
  "metadata": {
    "accelerator": "GPU",
    "colab": {
      "collapsed_sections": [],
      "name": "03-02_pycaret_ver4.1.ipynb",
      "provenance": [],
      "toc_visible": true
    },
    "interpreter": {
      "hash": "8ae3dcd19c82398a5ce067019491007897b01e5b53746170904cf60dcf0d8fb4"
    },
    "kernelspec": {
      "display_name": "Python 3",
      "language": "python",
      "name": "python3"
    },
    "language_info": {
      "codemirror_mode": {
        "name": "ipython",
        "version": 3
      },
      "file_extension": ".py",
      "mimetype": "text/x-python",
      "name": "python",
      "nbconvert_exporter": "python",
      "pygments_lexer": "ipython3",
      "version": "3.8.8"
    },
    "toc": {
      "base_numbering": 1,
      "nav_menu": {
        "height": "208px",
        "width": "250px"
      },
      "number_sections": true,
      "sideBar": true,
      "skip_h1_title": false,
      "title_cell": "Table of Contents",
      "title_sidebar": "Contents",
      "toc_cell": false,
      "toc_position": {},
      "toc_section_display": true,
      "toc_window_display": true
    }
  },
  "nbformat": 4,
  "nbformat_minor": 0
}
