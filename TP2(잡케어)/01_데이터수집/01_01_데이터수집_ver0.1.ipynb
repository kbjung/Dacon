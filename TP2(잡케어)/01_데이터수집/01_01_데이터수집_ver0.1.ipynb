{
 "cells": [
  {
   "cell_type": "markdown",
   "metadata": {},
   "source": [
    "# 추가 속성 데이터와 기본 데이터 합치기\n",
    "* Dacon 잡케어\n",
    "* HappyNewYear 님의 코드 참고"
   ]
  },
  {
   "cell_type": "code",
   "execution_count": 4,
   "metadata": {},
   "outputs": [],
   "source": [
    "import pandas as pd"
   ]
  },
  {
   "cell_type": "code",
   "execution_count": 5,
   "metadata": {},
   "outputs": [],
   "source": [
    "def add_code(df, d_code, h_code, l_code):\n",
    "    df = df.copy()   \n",
    "\n",
    "    # D Code\n",
    "    df['person_prefer_d_1_n'] = df['person_prefer_d_1'].apply(lambda x: d_code[x]['속성 D 세분류코드'])\n",
    "    df['person_prefer_d_1_s'] = df['person_prefer_d_1'].apply(lambda x: d_code[x]['속성 D 소분류코드'])\n",
    "    df['person_prefer_d_1_m'] = df['person_prefer_d_1'].apply(lambda x: d_code[x]['속성 D 중분류코드'])\n",
    "    df['person_prefer_d_1_l'] = df['person_prefer_d_1'].apply(lambda x: d_code[x]['속성 D 대분류코드'])\n",
    "\n",
    "    df['person_prefer_d_2_n'] = df['person_prefer_d_2'].apply(lambda x: d_code[x]['속성 D 세분류코드'])\n",
    "    df['person_prefer_d_2_s'] = df['person_prefer_d_2'].apply(lambda x: d_code[x]['속성 D 소분류코드'])\n",
    "    df['person_prefer_d_2_m'] = df['person_prefer_d_2'].apply(lambda x: d_code[x]['속성 D 중분류코드'])\n",
    "    df['person_prefer_d_2_l'] = df['person_prefer_d_2'].apply(lambda x: d_code[x]['속성 D 대분류코드'])\n",
    "\n",
    "    df['person_prefer_d_3_n'] = df['person_prefer_d_3'].apply(lambda x: d_code[x]['속성 D 세분류코드'])\n",
    "    df['person_prefer_d_3_s'] = df['person_prefer_d_3'].apply(lambda x: d_code[x]['속성 D 소분류코드'])\n",
    "    df['person_prefer_d_3_m'] = df['person_prefer_d_3'].apply(lambda x: d_code[x]['속성 D 중분류코드'])\n",
    "    df['person_prefer_d_3_l'] = df['person_prefer_d_3'].apply(lambda x: d_code[x]['속성 D 대분류코드'])\n",
    "\n",
    "    df['contents_attribute_d_n'] = df['contents_attribute_d'].apply(lambda x: d_code[x]['속성 D 세분류코드'])\n",
    "    df['contents_attribute_d_s'] = df['contents_attribute_d'].apply(lambda x: d_code[x]['속성 D 소분류코드'])\n",
    "    df['contents_attribute_d_m'] = df['contents_attribute_d'].apply(lambda x: d_code[x]['속성 D 중분류코드'])\n",
    "    df['contents_attribute_d_l'] = df['contents_attribute_d'].apply(lambda x: d_code[x]['속성 D 대분류코드'])\n",
    "\n",
    "    # H Code\n",
    "    df['person_prefer_h_1_m'] = df['person_prefer_h_1'].apply(lambda x: h_code[x]['속성 H 중분류코드'])\n",
    "    df['person_prefer_h_1_l'] = df['person_prefer_h_1'].apply(lambda x: h_code[x]['속성 H 대분류코드'])\n",
    "\n",
    "    df['person_prefer_h_2_m'] = df['person_prefer_h_2'].apply(lambda x: h_code[x]['속성 H 중분류코드'])\n",
    "    df['person_prefer_h_2_l'] = df['person_prefer_h_2'].apply(lambda x: h_code[x]['속성 H 대분류코드'])\n",
    "\n",
    "    df['person_prefer_h_3_m'] = df['person_prefer_h_3'].apply(lambda x: h_code[x]['속성 H 중분류코드'])\n",
    "    df['person_prefer_h_3_l'] = df['person_prefer_h_3'].apply(lambda x: h_code[x]['속성 H 대분류코드'])\n",
    "\n",
    "    df['contents_attribute_h_m'] = df['contents_attribute_h'].apply(lambda x: h_code[x]['속성 H 중분류코드'])\n",
    "    df['contents_attribute_h_l'] = df['contents_attribute_h'].apply(lambda x: h_code[x]['속성 H 대분류코드'])\n",
    "\n",
    "    # L Code\n",
    "    df['contents_attribute_l_n'] = df['contents_attribute_l'].apply(lambda x: l_code[x]['속성 L 세분류코드'])\n",
    "    df['contents_attribute_l_s'] = df['contents_attribute_l'].apply(lambda x: l_code[x]['속성 L 소분류코드'])\n",
    "    df['contents_attribute_l_m'] = df['contents_attribute_l'].apply(lambda x: l_code[x]['속성 L 중분류코드'])\n",
    "    df['contents_attribute_l_l'] = df['contents_attribute_l'].apply(lambda x: l_code[x]['속성 L 대분류코드'])\n",
    "    return df"
   ]
  },
  {
   "cell_type": "code",
   "execution_count": 6,
   "metadata": {},
   "outputs": [],
   "source": [
    "d_code = pd.read_csv('../data/속성_D_코드.csv', index_col=0).T.to_dict()\n",
    "h_code = pd.read_csv('../data/속성_H_코드.csv', index_col=0).T.to_dict()\n",
    "l_code = pd.read_csv('../data/속성_L_코드.csv', index_col=0).T.to_dict()\n",
    "\n",
    "df_train = pd.read_csv('../data/train.csv')\n",
    "df_test = pd.read_csv('../data/test.csv')\n",
    "\n",
    "df_train = add_code(df_train, d_code, h_code, l_code)\n",
    "df_test = add_code(df_test, d_code, h_code, l_code)"
   ]
  },
  {
   "cell_type": "code",
   "execution_count": 7,
   "metadata": {},
   "outputs": [
    {
     "name": "stdout",
     "output_type": "stream",
     "text": [
      "<class 'pandas.core.frame.DataFrame'>\n",
      "RangeIndex: 501951 entries, 0 to 501950\n",
      "Data columns (total 63 columns):\n",
      " #   Column                  Non-Null Count   Dtype \n",
      "---  ------                  --------------   ----- \n",
      " 0   id                      501951 non-null  int64 \n",
      " 1   d_l_match_yn            501951 non-null  bool  \n",
      " 2   d_m_match_yn            501951 non-null  bool  \n",
      " 3   d_s_match_yn            501951 non-null  bool  \n",
      " 4   h_l_match_yn            501951 non-null  bool  \n",
      " 5   h_m_match_yn            501951 non-null  bool  \n",
      " 6   h_s_match_yn            501951 non-null  bool  \n",
      " 7   person_attribute_a      501951 non-null  int64 \n",
      " 8   person_attribute_a_1    501951 non-null  int64 \n",
      " 9   person_attribute_b      501951 non-null  int64 \n",
      " 10  person_prefer_c         501951 non-null  int64 \n",
      " 11  person_prefer_d_1       501951 non-null  int64 \n",
      " 12  person_prefer_d_2       501951 non-null  int64 \n",
      " 13  person_prefer_d_3       501951 non-null  int64 \n",
      " 14  person_prefer_e         501951 non-null  int64 \n",
      " 15  person_prefer_f         501951 non-null  int64 \n",
      " 16  person_prefer_g         501951 non-null  int64 \n",
      " 17  person_prefer_h_1       501951 non-null  int64 \n",
      " 18  person_prefer_h_2       501951 non-null  int64 \n",
      " 19  person_prefer_h_3       501951 non-null  int64 \n",
      " 20  contents_attribute_i    501951 non-null  int64 \n",
      " 21  contents_attribute_a    501951 non-null  int64 \n",
      " 22  contents_attribute_j_1  501951 non-null  int64 \n",
      " 23  contents_attribute_j    501951 non-null  int64 \n",
      " 24  contents_attribute_c    501951 non-null  int64 \n",
      " 25  contents_attribute_k    501951 non-null  int64 \n",
      " 26  contents_attribute_l    501951 non-null  int64 \n",
      " 27  contents_attribute_d    501951 non-null  int64 \n",
      " 28  contents_attribute_m    501951 non-null  int64 \n",
      " 29  contents_attribute_e    501951 non-null  int64 \n",
      " 30  contents_attribute_h    501951 non-null  int64 \n",
      " 31  person_rn               501951 non-null  int64 \n",
      " 32  contents_rn             501951 non-null  int64 \n",
      " 33  contents_open_dt        501951 non-null  object\n",
      " 34  target                  501951 non-null  int64 \n",
      " 35  person_prefer_d_1_n     501951 non-null  int64 \n",
      " 36  person_prefer_d_1_s     501951 non-null  int64 \n",
      " 37  person_prefer_d_1_m     501951 non-null  int64 \n",
      " 38  person_prefer_d_1_l     501951 non-null  int64 \n",
      " 39  person_prefer_d_2_n     501951 non-null  int64 \n",
      " 40  person_prefer_d_2_s     501951 non-null  int64 \n",
      " 41  person_prefer_d_2_m     501951 non-null  int64 \n",
      " 42  person_prefer_d_2_l     501951 non-null  int64 \n",
      " 43  person_prefer_d_3_n     501951 non-null  int64 \n",
      " 44  person_prefer_d_3_s     501951 non-null  int64 \n",
      " 45  person_prefer_d_3_m     501951 non-null  int64 \n",
      " 46  person_prefer_d_3_l     501951 non-null  int64 \n",
      " 47  contents_attribute_d_n  501951 non-null  int64 \n",
      " 48  contents_attribute_d_s  501951 non-null  int64 \n",
      " 49  contents_attribute_d_m  501951 non-null  int64 \n",
      " 50  contents_attribute_d_l  501951 non-null  int64 \n",
      " 51  person_prefer_h_1_m     501951 non-null  int64 \n",
      " 52  person_prefer_h_1_l     501951 non-null  int64 \n",
      " 53  person_prefer_h_2_m     501951 non-null  int64 \n",
      " 54  person_prefer_h_2_l     501951 non-null  int64 \n",
      " 55  person_prefer_h_3_m     501951 non-null  int64 \n",
      " 56  person_prefer_h_3_l     501951 non-null  int64 \n",
      " 57  contents_attribute_h_m  501951 non-null  int64 \n",
      " 58  contents_attribute_h_l  501951 non-null  int64 \n",
      " 59  contents_attribute_l_n  501951 non-null  int64 \n",
      " 60  contents_attribute_l_s  501951 non-null  int64 \n",
      " 61  contents_attribute_l_m  501951 non-null  int64 \n",
      " 62  contents_attribute_l_l  501951 non-null  int64 \n",
      "dtypes: bool(6), int64(56), object(1)\n",
      "memory usage: 221.2+ MB\n"
     ]
    }
   ],
   "source": [
    "df_train.info()"
   ]
  },
  {
   "cell_type": "code",
   "execution_count": 8,
   "metadata": {},
   "outputs": [
    {
     "name": "stdout",
     "output_type": "stream",
     "text": [
      "<class 'pandas.core.frame.DataFrame'>\n",
      "RangeIndex: 46404 entries, 0 to 46403\n",
      "Data columns (total 62 columns):\n",
      " #   Column                  Non-Null Count  Dtype \n",
      "---  ------                  --------------  ----- \n",
      " 0   id                      46404 non-null  int64 \n",
      " 1   d_l_match_yn            46404 non-null  bool  \n",
      " 2   d_m_match_yn            46404 non-null  bool  \n",
      " 3   d_s_match_yn            46404 non-null  bool  \n",
      " 4   h_l_match_yn            46404 non-null  bool  \n",
      " 5   h_m_match_yn            46404 non-null  bool  \n",
      " 6   h_s_match_yn            46404 non-null  bool  \n",
      " 7   person_attribute_a      46404 non-null  int64 \n",
      " 8   person_attribute_a_1    46404 non-null  int64 \n",
      " 9   person_attribute_b      46404 non-null  int64 \n",
      " 10  person_prefer_c         46404 non-null  int64 \n",
      " 11  person_prefer_d_1       46404 non-null  int64 \n",
      " 12  person_prefer_d_2       46404 non-null  int64 \n",
      " 13  person_prefer_d_3       46404 non-null  int64 \n",
      " 14  person_prefer_e         46404 non-null  int64 \n",
      " 15  person_prefer_f         46404 non-null  int64 \n",
      " 16  person_prefer_g         46404 non-null  int64 \n",
      " 17  person_prefer_h_1       46404 non-null  int64 \n",
      " 18  person_prefer_h_2       46404 non-null  int64 \n",
      " 19  person_prefer_h_3       46404 non-null  int64 \n",
      " 20  contents_attribute_i    46404 non-null  int64 \n",
      " 21  contents_attribute_a    46404 non-null  int64 \n",
      " 22  contents_attribute_j_1  46404 non-null  int64 \n",
      " 23  contents_attribute_j    46404 non-null  int64 \n",
      " 24  contents_attribute_c    46404 non-null  int64 \n",
      " 25  contents_attribute_k    46404 non-null  int64 \n",
      " 26  contents_attribute_l    46404 non-null  int64 \n",
      " 27  contents_attribute_d    46404 non-null  int64 \n",
      " 28  contents_attribute_m    46404 non-null  int64 \n",
      " 29  contents_attribute_e    46404 non-null  int64 \n",
      " 30  contents_attribute_h    46404 non-null  int64 \n",
      " 31  person_rn               46404 non-null  int64 \n",
      " 32  contents_rn             46404 non-null  int64 \n",
      " 33  contents_open_dt        46404 non-null  object\n",
      " 34  person_prefer_d_1_n     46404 non-null  int64 \n",
      " 35  person_prefer_d_1_s     46404 non-null  int64 \n",
      " 36  person_prefer_d_1_m     46404 non-null  int64 \n",
      " 37  person_prefer_d_1_l     46404 non-null  int64 \n",
      " 38  person_prefer_d_2_n     46404 non-null  int64 \n",
      " 39  person_prefer_d_2_s     46404 non-null  int64 \n",
      " 40  person_prefer_d_2_m     46404 non-null  int64 \n",
      " 41  person_prefer_d_2_l     46404 non-null  int64 \n",
      " 42  person_prefer_d_3_n     46404 non-null  int64 \n",
      " 43  person_prefer_d_3_s     46404 non-null  int64 \n",
      " 44  person_prefer_d_3_m     46404 non-null  int64 \n",
      " 45  person_prefer_d_3_l     46404 non-null  int64 \n",
      " 46  contents_attribute_d_n  46404 non-null  int64 \n",
      " 47  contents_attribute_d_s  46404 non-null  int64 \n",
      " 48  contents_attribute_d_m  46404 non-null  int64 \n",
      " 49  contents_attribute_d_l  46404 non-null  int64 \n",
      " 50  person_prefer_h_1_m     46404 non-null  int64 \n",
      " 51  person_prefer_h_1_l     46404 non-null  int64 \n",
      " 52  person_prefer_h_2_m     46404 non-null  int64 \n",
      " 53  person_prefer_h_2_l     46404 non-null  int64 \n",
      " 54  person_prefer_h_3_m     46404 non-null  int64 \n",
      " 55  person_prefer_h_3_l     46404 non-null  int64 \n",
      " 56  contents_attribute_h_m  46404 non-null  int64 \n",
      " 57  contents_attribute_h_l  46404 non-null  int64 \n",
      " 58  contents_attribute_l_n  46404 non-null  int64 \n",
      " 59  contents_attribute_l_s  46404 non-null  int64 \n",
      " 60  contents_attribute_l_m  46404 non-null  int64 \n",
      " 61  contents_attribute_l_l  46404 non-null  int64 \n",
      "dtypes: bool(6), int64(55), object(1)\n",
      "memory usage: 20.1+ MB\n"
     ]
    }
   ],
   "source": [
    "df_test.info()"
   ]
  },
  {
   "cell_type": "code",
   "execution_count": 9,
   "metadata": {},
   "outputs": [
    {
     "data": {
      "text/plain": [
       "Index(['id', 'd_l_match_yn', 'd_m_match_yn', 'd_s_match_yn', 'h_l_match_yn',\n",
       "       'h_m_match_yn', 'h_s_match_yn', 'person_attribute_a',\n",
       "       'person_attribute_a_1', 'person_attribute_b', 'person_prefer_c',\n",
       "       'person_prefer_d_1', 'person_prefer_d_2', 'person_prefer_d_3',\n",
       "       'person_prefer_e', 'person_prefer_f', 'person_prefer_g',\n",
       "       'person_prefer_h_1', 'person_prefer_h_2', 'person_prefer_h_3',\n",
       "       'contents_attribute_i', 'contents_attribute_a',\n",
       "       'contents_attribute_j_1', 'contents_attribute_j',\n",
       "       'contents_attribute_c', 'contents_attribute_k', 'contents_attribute_l',\n",
       "       'contents_attribute_d', 'contents_attribute_m', 'contents_attribute_e',\n",
       "       'contents_attribute_h', 'person_rn', 'contents_rn', 'contents_open_dt',\n",
       "       'target', 'person_prefer_d_1_n', 'person_prefer_d_1_s',\n",
       "       'person_prefer_d_1_m', 'person_prefer_d_1_l', 'person_prefer_d_2_n',\n",
       "       'person_prefer_d_2_s', 'person_prefer_d_2_m', 'person_prefer_d_2_l',\n",
       "       'person_prefer_d_3_n', 'person_prefer_d_3_s', 'person_prefer_d_3_m',\n",
       "       'person_prefer_d_3_l', 'contents_attribute_d_n',\n",
       "       'contents_attribute_d_s', 'contents_attribute_d_m',\n",
       "       'contents_attribute_d_l', 'person_prefer_h_1_m', 'person_prefer_h_1_l',\n",
       "       'person_prefer_h_2_m', 'person_prefer_h_2_l', 'person_prefer_h_3_m',\n",
       "       'person_prefer_h_3_l', 'contents_attribute_h_m',\n",
       "       'contents_attribute_h_l', 'contents_attribute_l_n',\n",
       "       'contents_attribute_l_s', 'contents_attribute_l_m',\n",
       "       'contents_attribute_l_l'],\n",
       "      dtype='object')"
      ]
     },
     "execution_count": 9,
     "metadata": {},
     "output_type": "execute_result"
    }
   ],
   "source": [
    "df_train.columns"
   ]
  },
  {
   "cell_type": "code",
   "execution_count": 10,
   "metadata": {},
   "outputs": [
    {
     "data": {
      "text/plain": [
       "Index(['id', 'd_l_match_yn', 'd_m_match_yn', 'd_s_match_yn', 'h_l_match_yn',\n",
       "       'h_m_match_yn', 'h_s_match_yn', 'person_attribute_a',\n",
       "       'person_attribute_a_1', 'person_attribute_b', 'person_prefer_c',\n",
       "       'person_prefer_d_1', 'person_prefer_d_2', 'person_prefer_d_3',\n",
       "       'person_prefer_e', 'person_prefer_f', 'person_prefer_g',\n",
       "       'person_prefer_h_1', 'person_prefer_h_2', 'person_prefer_h_3',\n",
       "       'contents_attribute_i', 'contents_attribute_a',\n",
       "       'contents_attribute_j_1', 'contents_attribute_j',\n",
       "       'contents_attribute_c', 'contents_attribute_k', 'contents_attribute_l',\n",
       "       'contents_attribute_d', 'contents_attribute_m', 'contents_attribute_e',\n",
       "       'contents_attribute_h', 'person_rn', 'contents_rn', 'contents_open_dt',\n",
       "       'person_prefer_d_1_n', 'person_prefer_d_1_s', 'person_prefer_d_1_m',\n",
       "       'person_prefer_d_1_l', 'person_prefer_d_2_n', 'person_prefer_d_2_s',\n",
       "       'person_prefer_d_2_m', 'person_prefer_d_2_l', 'person_prefer_d_3_n',\n",
       "       'person_prefer_d_3_s', 'person_prefer_d_3_m', 'person_prefer_d_3_l',\n",
       "       'contents_attribute_d_n', 'contents_attribute_d_s',\n",
       "       'contents_attribute_d_m', 'contents_attribute_d_l',\n",
       "       'person_prefer_h_1_m', 'person_prefer_h_1_l', 'person_prefer_h_2_m',\n",
       "       'person_prefer_h_2_l', 'person_prefer_h_3_m', 'person_prefer_h_3_l',\n",
       "       'contents_attribute_h_m', 'contents_attribute_h_l',\n",
       "       'contents_attribute_l_n', 'contents_attribute_l_s',\n",
       "       'contents_attribute_l_m', 'contents_attribute_l_l'],\n",
       "      dtype='object')"
      ]
     },
     "execution_count": 10,
     "metadata": {},
     "output_type": "execute_result"
    }
   ],
   "source": [
    "df_test.columns"
   ]
  },
  {
   "cell_type": "code",
   "execution_count": null,
   "metadata": {},
   "outputs": [],
   "source": [
    "df_train.to_csv('../data/df_train.csv', index=False)\n",
    "df_test.to_csv('../data/df_test.csv', index=False)"
   ]
  }
 ],
 "metadata": {
  "interpreter": {
   "hash": "b3ba2566441a7c06988d0923437866b63cedc61552a5af99d1f4fb67d367b25f"
  },
  "kernelspec": {
   "display_name": "Python 3.8.8 64-bit ('base': conda)",
   "language": "python",
   "name": "python3"
  },
  "language_info": {
   "codemirror_mode": {
    "name": "ipython",
    "version": 3
   },
   "file_extension": ".py",
   "mimetype": "text/x-python",
   "name": "python",
   "nbconvert_exporter": "python",
   "pygments_lexer": "ipython3",
   "version": "3.8.8"
  },
  "orig_nbformat": 4
 },
 "nbformat": 4,
 "nbformat_minor": 2
}
