{
 "cells": [
  {
   "cell_type": "code",
   "execution_count": 3,
   "metadata": {},
   "outputs": [],
   "source": [
    "import pandas as pd\n",
    "from tqdm import tqdm"
   ]
  },
  {
   "cell_type": "code",
   "execution_count": 4,
   "metadata": {},
   "outputs": [],
   "source": [
    "import matplotlib.pyplot as plt"
   ]
  },
  {
   "cell_type": "code",
   "execution_count": 5,
   "metadata": {},
   "outputs": [],
   "source": [
    "import platform\n",
    "from matplotlib import font_manager, rc\n",
    "\n",
    "# 한글 폰트 지정\n",
    "path = \"C:/Windows/Fonts/malgun.ttf\"\n",
    "if platform.system() == \"Windows\":\n",
    "    font_name = font_manager.FontProperties(fname=path).get_name()\n",
    "    rc('font', family=font_name)\n",
    "elif platform.system()==\"Darwin\":\n",
    "    rc('font', family='AppleGothic')\n",
    "else:\n",
    "    print(\"Unknown System\")"
   ]
  },
  {
   "cell_type": "code",
   "execution_count": 6,
   "metadata": {},
   "outputs": [],
   "source": [
    "# 음수 표현\n",
    "plt.rcParams['axes.unicode_minus'] = False"
   ]
  },
  {
   "cell_type": "markdown",
   "metadata": {},
   "source": [
    "# train 파일 확인"
   ]
  },
  {
   "cell_type": "code",
   "execution_count": 7,
   "metadata": {},
   "outputs": [],
   "source": [
    "# d_l_match_yn :  속성 D 대분류 매칭 여부\n",
    "# d_m_match_yn :  속성 D 중분류 매칭 여부\n",
    "# d_s_match_yn :  속성 D 소분류 매칭 여부\n",
    "# h_l_match_yn :  속성 H 대분류 매칭 여부\n",
    "# h_m_match_yn :  속성 H 중분류 매칭 여부\n",
    "# h_s_match_yn :  속성 H 소분류 매칭 여부\n",
    "\n",
    "# person_attribute_a :  회원 속성 A\n",
    "# person_attribute_a_1 :  회원 속성 A 하위 속성 1\n",
    "# person_attribute_b :  회원 속성 B\n",
    "\n",
    "# person_prefer_c :  회원 선호 속성 C\n",
    "# person_prefer_d_1 :  회원 선호 속성 D 1번\n",
    "# person_prefer_d_2 :  회원 선호 속성 D 2번\n",
    "# person_prefer_d_3 :  회원 선호 속성 D 3번\n",
    "# person_prefer_e :  회원 선호 속성 E\n",
    "# person_prefer_f :  회원 선호 속성 F\n",
    "# person_prefer_g :  회원 선호 속성 G\n",
    "# person_prefer_h_1 :  회원 선호 속성 H 1번\n",
    "# person_prefer_h_2 :  회원 선호 속성 H 2번\n",
    "# person_prefer_h_3 :  회원 선호 속성 H 3번\n",
    "\n",
    "# contents_attribute_i :  컨텐츠 속성 I\n",
    "# contents_attribute_a :  컨텐츠 속성 A\n",
    "# contents_attribute_j_1 :  컨텐츠 속성 J 하위 속성 1\n",
    "# contents_attribute_j :  컨텐츠 속성 J\n",
    "# contents_attribute_c :  컨텐츠 속성 C\n",
    "# contents_attribute_k :  컨텐츠 속성 K\n",
    "# contents_attribute_l :  컨텐츠 속성 L\n",
    "# contents_attribute_d :  컨텐츠 속성 D\n",
    "# contents_attribute_m :  컨텐츠 속성 M\n",
    "# contents_attribute_e :  컨텐츠 속성 E\n",
    "# contents_attribute_h :  컨텐츠 속성 H\n",
    "\n",
    "# person_rn :  사용자번호\n",
    "# contents_rn :  컨텐츠번호\n",
    "# contents_open_dt :  컨텐츠 열람 일시\n",
    "# target :  컨텐츠 사용 여부 (라벨)"
   ]
  },
  {
   "cell_type": "code",
   "execution_count": 8,
   "metadata": {},
   "outputs": [
    {
     "data": {
      "text/html": [
       "<div>\n",
       "<style scoped>\n",
       "    .dataframe tbody tr th:only-of-type {\n",
       "        vertical-align: middle;\n",
       "    }\n",
       "\n",
       "    .dataframe tbody tr th {\n",
       "        vertical-align: top;\n",
       "    }\n",
       "\n",
       "    .dataframe thead th {\n",
       "        text-align: right;\n",
       "    }\n",
       "</style>\n",
       "<table border=\"1\" class=\"dataframe\">\n",
       "  <thead>\n",
       "    <tr style=\"text-align: right;\">\n",
       "      <th></th>\n",
       "      <th>id</th>\n",
       "      <th>d_l_match_yn</th>\n",
       "      <th>d_m_match_yn</th>\n",
       "      <th>d_s_match_yn</th>\n",
       "      <th>h_l_match_yn</th>\n",
       "      <th>h_m_match_yn</th>\n",
       "      <th>h_s_match_yn</th>\n",
       "      <th>person_attribute_a</th>\n",
       "      <th>person_attribute_a_1</th>\n",
       "      <th>person_attribute_b</th>\n",
       "      <th>...</th>\n",
       "      <th>contents_attribute_k</th>\n",
       "      <th>contents_attribute_l</th>\n",
       "      <th>contents_attribute_d</th>\n",
       "      <th>contents_attribute_m</th>\n",
       "      <th>contents_attribute_e</th>\n",
       "      <th>contents_attribute_h</th>\n",
       "      <th>person_rn</th>\n",
       "      <th>contents_rn</th>\n",
       "      <th>contents_open_dt</th>\n",
       "      <th>target</th>\n",
       "    </tr>\n",
       "  </thead>\n",
       "  <tbody>\n",
       "    <tr>\n",
       "      <th>0</th>\n",
       "      <td>0</td>\n",
       "      <td>True</td>\n",
       "      <td>True</td>\n",
       "      <td>True</td>\n",
       "      <td>False</td>\n",
       "      <td>False</td>\n",
       "      <td>False</td>\n",
       "      <td>1</td>\n",
       "      <td>4</td>\n",
       "      <td>3</td>\n",
       "      <td>...</td>\n",
       "      <td>2</td>\n",
       "      <td>1608</td>\n",
       "      <td>275</td>\n",
       "      <td>1</td>\n",
       "      <td>4</td>\n",
       "      <td>139</td>\n",
       "      <td>618822</td>\n",
       "      <td>354805</td>\n",
       "      <td>2020-01-17 12:09:36</td>\n",
       "      <td>1</td>\n",
       "    </tr>\n",
       "    <tr>\n",
       "      <th>1</th>\n",
       "      <td>1</td>\n",
       "      <td>False</td>\n",
       "      <td>False</td>\n",
       "      <td>False</td>\n",
       "      <td>True</td>\n",
       "      <td>True</td>\n",
       "      <td>False</td>\n",
       "      <td>1</td>\n",
       "      <td>3</td>\n",
       "      <td>4</td>\n",
       "      <td>...</td>\n",
       "      <td>2</td>\n",
       "      <td>1608</td>\n",
       "      <td>275</td>\n",
       "      <td>1</td>\n",
       "      <td>4</td>\n",
       "      <td>133</td>\n",
       "      <td>571659</td>\n",
       "      <td>346213</td>\n",
       "      <td>2020-06-18 17:48:52</td>\n",
       "      <td>0</td>\n",
       "    </tr>\n",
       "    <tr>\n",
       "      <th>2</th>\n",
       "      <td>2</td>\n",
       "      <td>False</td>\n",
       "      <td>False</td>\n",
       "      <td>False</td>\n",
       "      <td>True</td>\n",
       "      <td>False</td>\n",
       "      <td>False</td>\n",
       "      <td>2</td>\n",
       "      <td>0</td>\n",
       "      <td>3</td>\n",
       "      <td>...</td>\n",
       "      <td>1</td>\n",
       "      <td>1600</td>\n",
       "      <td>94</td>\n",
       "      <td>1</td>\n",
       "      <td>4</td>\n",
       "      <td>53</td>\n",
       "      <td>399816</td>\n",
       "      <td>206408</td>\n",
       "      <td>2020-07-08 20:00:10</td>\n",
       "      <td>0</td>\n",
       "    </tr>\n",
       "    <tr>\n",
       "      <th>3</th>\n",
       "      <td>3</td>\n",
       "      <td>False</td>\n",
       "      <td>False</td>\n",
       "      <td>False</td>\n",
       "      <td>True</td>\n",
       "      <td>False</td>\n",
       "      <td>False</td>\n",
       "      <td>2</td>\n",
       "      <td>0</td>\n",
       "      <td>2</td>\n",
       "      <td>...</td>\n",
       "      <td>2</td>\n",
       "      <td>1608</td>\n",
       "      <td>275</td>\n",
       "      <td>5</td>\n",
       "      <td>3</td>\n",
       "      <td>74</td>\n",
       "      <td>827967</td>\n",
       "      <td>572323</td>\n",
       "      <td>2020-01-13 18:09:34</td>\n",
       "      <td>0</td>\n",
       "    </tr>\n",
       "    <tr>\n",
       "      <th>4</th>\n",
       "      <td>4</td>\n",
       "      <td>True</td>\n",
       "      <td>True</td>\n",
       "      <td>True</td>\n",
       "      <td>False</td>\n",
       "      <td>False</td>\n",
       "      <td>False</td>\n",
       "      <td>1</td>\n",
       "      <td>3</td>\n",
       "      <td>4</td>\n",
       "      <td>...</td>\n",
       "      <td>2</td>\n",
       "      <td>1608</td>\n",
       "      <td>275</td>\n",
       "      <td>1</td>\n",
       "      <td>4</td>\n",
       "      <td>74</td>\n",
       "      <td>831614</td>\n",
       "      <td>573899</td>\n",
       "      <td>2020-03-09 20:39:22</td>\n",
       "      <td>0</td>\n",
       "    </tr>\n",
       "  </tbody>\n",
       "</table>\n",
       "<p>5 rows × 35 columns</p>\n",
       "</div>"
      ],
      "text/plain": [
       "   id  d_l_match_yn  d_m_match_yn  d_s_match_yn  h_l_match_yn  h_m_match_yn  \\\n",
       "0   0          True          True          True         False         False   \n",
       "1   1         False         False         False          True          True   \n",
       "2   2         False         False         False          True         False   \n",
       "3   3         False         False         False          True         False   \n",
       "4   4          True          True          True         False         False   \n",
       "\n",
       "   h_s_match_yn  person_attribute_a  person_attribute_a_1  person_attribute_b  \\\n",
       "0         False                   1                     4                   3   \n",
       "1         False                   1                     3                   4   \n",
       "2         False                   2                     0                   3   \n",
       "3         False                   2                     0                   2   \n",
       "4         False                   1                     3                   4   \n",
       "\n",
       "   ...  contents_attribute_k  contents_attribute_l  contents_attribute_d  \\\n",
       "0  ...                     2                  1608                   275   \n",
       "1  ...                     2                  1608                   275   \n",
       "2  ...                     1                  1600                    94   \n",
       "3  ...                     2                  1608                   275   \n",
       "4  ...                     2                  1608                   275   \n",
       "\n",
       "   contents_attribute_m  contents_attribute_e  contents_attribute_h  \\\n",
       "0                     1                     4                   139   \n",
       "1                     1                     4                   133   \n",
       "2                     1                     4                    53   \n",
       "3                     5                     3                    74   \n",
       "4                     1                     4                    74   \n",
       "\n",
       "   person_rn  contents_rn     contents_open_dt  target  \n",
       "0     618822       354805  2020-01-17 12:09:36       1  \n",
       "1     571659       346213  2020-06-18 17:48:52       0  \n",
       "2     399816       206408  2020-07-08 20:00:10       0  \n",
       "3     827967       572323  2020-01-13 18:09:34       0  \n",
       "4     831614       573899  2020-03-09 20:39:22       0  \n",
       "\n",
       "[5 rows x 35 columns]"
      ]
     },
     "execution_count": 8,
     "metadata": {},
     "output_type": "execute_result"
    }
   ],
   "source": [
    "train = pd.read_csv('../data/train.csv')\n",
    "train.head()"
   ]
  },
  {
   "cell_type": "code",
   "execution_count": 9,
   "metadata": {},
   "outputs": [
    {
     "name": "stdout",
     "output_type": "stream",
     "text": [
      "<class 'pandas.core.frame.DataFrame'>\n",
      "RangeIndex: 501951 entries, 0 to 501950\n",
      "Data columns (total 35 columns):\n",
      " #   Column                  Non-Null Count   Dtype \n",
      "---  ------                  --------------   ----- \n",
      " 0   id                      501951 non-null  int64 \n",
      " 1   d_l_match_yn            501951 non-null  bool  \n",
      " 2   d_m_match_yn            501951 non-null  bool  \n",
      " 3   d_s_match_yn            501951 non-null  bool  \n",
      " 4   h_l_match_yn            501951 non-null  bool  \n",
      " 5   h_m_match_yn            501951 non-null  bool  \n",
      " 6   h_s_match_yn            501951 non-null  bool  \n",
      " 7   person_attribute_a      501951 non-null  int64 \n",
      " 8   person_attribute_a_1    501951 non-null  int64 \n",
      " 9   person_attribute_b      501951 non-null  int64 \n",
      " 10  person_prefer_c         501951 non-null  int64 \n",
      " 11  person_prefer_d_1       501951 non-null  int64 \n",
      " 12  person_prefer_d_2       501951 non-null  int64 \n",
      " 13  person_prefer_d_3       501951 non-null  int64 \n",
      " 14  person_prefer_e         501951 non-null  int64 \n",
      " 15  person_prefer_f         501951 non-null  int64 \n",
      " 16  person_prefer_g         501951 non-null  int64 \n",
      " 17  person_prefer_h_1       501951 non-null  int64 \n",
      " 18  person_prefer_h_2       501951 non-null  int64 \n",
      " 19  person_prefer_h_3       501951 non-null  int64 \n",
      " 20  contents_attribute_i    501951 non-null  int64 \n",
      " 21  contents_attribute_a    501951 non-null  int64 \n",
      " 22  contents_attribute_j_1  501951 non-null  int64 \n",
      " 23  contents_attribute_j    501951 non-null  int64 \n",
      " 24  contents_attribute_c    501951 non-null  int64 \n",
      " 25  contents_attribute_k    501951 non-null  int64 \n",
      " 26  contents_attribute_l    501951 non-null  int64 \n",
      " 27  contents_attribute_d    501951 non-null  int64 \n",
      " 28  contents_attribute_m    501951 non-null  int64 \n",
      " 29  contents_attribute_e    501951 non-null  int64 \n",
      " 30  contents_attribute_h    501951 non-null  int64 \n",
      " 31  person_rn               501951 non-null  int64 \n",
      " 32  contents_rn             501951 non-null  int64 \n",
      " 33  contents_open_dt        501951 non-null  object\n",
      " 34  target                  501951 non-null  int64 \n",
      "dtypes: bool(6), int64(28), object(1)\n",
      "memory usage: 113.9+ MB\n"
     ]
    }
   ],
   "source": [
    "train.info()"
   ]
  },
  {
   "cell_type": "code",
   "execution_count": 10,
   "metadata": {},
   "outputs": [
    {
     "data": {
      "text/plain": [
       "(501951, 35)"
      ]
     },
     "execution_count": 10,
     "metadata": {},
     "output_type": "execute_result"
    }
   ],
   "source": [
    "train.shape"
   ]
  },
  {
   "cell_type": "code",
   "execution_count": 11,
   "metadata": {},
   "outputs": [
    {
     "data": {
      "text/plain": [
       "(35,\n",
       " Index(['id', 'd_l_match_yn', 'd_m_match_yn', 'd_s_match_yn', 'h_l_match_yn',\n",
       "        'h_m_match_yn', 'h_s_match_yn', 'person_attribute_a',\n",
       "        'person_attribute_a_1', 'person_attribute_b', 'person_prefer_c',\n",
       "        'person_prefer_d_1', 'person_prefer_d_2', 'person_prefer_d_3',\n",
       "        'person_prefer_e', 'person_prefer_f', 'person_prefer_g',\n",
       "        'person_prefer_h_1', 'person_prefer_h_2', 'person_prefer_h_3',\n",
       "        'contents_attribute_i', 'contents_attribute_a',\n",
       "        'contents_attribute_j_1', 'contents_attribute_j',\n",
       "        'contents_attribute_c', 'contents_attribute_k', 'contents_attribute_l',\n",
       "        'contents_attribute_d', 'contents_attribute_m', 'contents_attribute_e',\n",
       "        'contents_attribute_h', 'person_rn', 'contents_rn', 'contents_open_dt',\n",
       "        'target'],\n",
       "       dtype='object'))"
      ]
     },
     "execution_count": 11,
     "metadata": {},
     "output_type": "execute_result"
    }
   ],
   "source": [
    "len(train.columns), train.columns"
   ]
  },
  {
   "cell_type": "markdown",
   "metadata": {},
   "source": [
    "# train 타겟 "
   ]
  },
  {
   "cell_type": "code",
   "execution_count": 12,
   "metadata": {},
   "outputs": [
    {
     "data": {
      "text/plain": [
       "0    251106\n",
       "1    250845\n",
       "Name: target, dtype: int64"
      ]
     },
     "execution_count": 12,
     "metadata": {},
     "output_type": "execute_result"
    }
   ],
   "source": [
    "train['target'].value_counts()"
   ]
  },
  {
   "cell_type": "markdown",
   "metadata": {},
   "source": [
    "# test 파일 확인"
   ]
  },
  {
   "cell_type": "code",
   "execution_count": 13,
   "metadata": {},
   "outputs": [
    {
     "name": "stdout",
     "output_type": "stream",
     "text": [
      "<class 'pandas.core.frame.DataFrame'>\n",
      "RangeIndex: 46404 entries, 0 to 46403\n",
      "Data columns (total 34 columns):\n",
      " #   Column                  Non-Null Count  Dtype \n",
      "---  ------                  --------------  ----- \n",
      " 0   id                      46404 non-null  int64 \n",
      " 1   d_l_match_yn            46404 non-null  bool  \n",
      " 2   d_m_match_yn            46404 non-null  bool  \n",
      " 3   d_s_match_yn            46404 non-null  bool  \n",
      " 4   h_l_match_yn            46404 non-null  bool  \n",
      " 5   h_m_match_yn            46404 non-null  bool  \n",
      " 6   h_s_match_yn            46404 non-null  bool  \n",
      " 7   person_attribute_a      46404 non-null  int64 \n",
      " 8   person_attribute_a_1    46404 non-null  int64 \n",
      " 9   person_attribute_b      46404 non-null  int64 \n",
      " 10  person_prefer_c         46404 non-null  int64 \n",
      " 11  person_prefer_d_1       46404 non-null  int64 \n",
      " 12  person_prefer_d_2       46404 non-null  int64 \n",
      " 13  person_prefer_d_3       46404 non-null  int64 \n",
      " 14  person_prefer_e         46404 non-null  int64 \n",
      " 15  person_prefer_f         46404 non-null  int64 \n",
      " 16  person_prefer_g         46404 non-null  int64 \n",
      " 17  person_prefer_h_1       46404 non-null  int64 \n",
      " 18  person_prefer_h_2       46404 non-null  int64 \n",
      " 19  person_prefer_h_3       46404 non-null  int64 \n",
      " 20  contents_attribute_i    46404 non-null  int64 \n",
      " 21  contents_attribute_a    46404 non-null  int64 \n",
      " 22  contents_attribute_j_1  46404 non-null  int64 \n",
      " 23  contents_attribute_j    46404 non-null  int64 \n",
      " 24  contents_attribute_c    46404 non-null  int64 \n",
      " 25  contents_attribute_k    46404 non-null  int64 \n",
      " 26  contents_attribute_l    46404 non-null  int64 \n",
      " 27  contents_attribute_d    46404 non-null  int64 \n",
      " 28  contents_attribute_m    46404 non-null  int64 \n",
      " 29  contents_attribute_e    46404 non-null  int64 \n",
      " 30  contents_attribute_h    46404 non-null  int64 \n",
      " 31  person_rn               46404 non-null  int64 \n",
      " 32  contents_rn             46404 non-null  int64 \n",
      " 33  contents_open_dt        46404 non-null  object\n",
      "dtypes: bool(6), int64(27), object(1)\n",
      "memory usage: 10.2+ MB\n"
     ]
    }
   ],
   "source": [
    "test = pd.read_csv('../data/test.csv')\n",
    "test.info()"
   ]
  },
  {
   "cell_type": "code",
   "execution_count": 14,
   "metadata": {},
   "outputs": [],
   "source": [
    "# d_l_match_yn :  속성 D 대분류 매칭 여부\n",
    "# d_m_match_yn :  속성 D 중분류 매칭 여부\n",
    "# d_s_match_yn :  속성 D 소분류 매칭 여부\n",
    "# h_l_match_yn :  속성 H 대분류 매칭 여부\n",
    "# h_m_match_yn :  속성 H 중분류 매칭 여부\n",
    "# h_s_match_yn :  속성 H 소분류 매칭 여부\n",
    "# person_attribute_a :  회원 속성 A\n",
    "# person_attribute_a_1 :  회원 속성 A 하위 속성 1\n",
    "# person_attribute_b :  회원 속성 B\n",
    "# person_prefer_c :  회원 선호 속성 C\n",
    "# person_prefer_d_1 :  회원 선호 속성 D 1번\n",
    "# person_prefer_d_2 :  회원 선호 속성 D 2번\n",
    "# person_prefer_d_3 :  회원 선호 속성 D 3번\n",
    "# person_prefer_e :  회원 선호 속성 E\n",
    "# person_prefer_f :  회원 선호 속성 F\n",
    "# person_prefer_g :  회원 선호 속성 G\n",
    "# person_prefer_h_1 :  회원 선호 속성 H 1번\n",
    "# person_prefer_h_2 :  회원 선호 속성 H 2번\n",
    "# person_prefer_h_3 :  회원 선호 속성 H 3번\n",
    "# contents_attribute_i :  컨텐츠 속성 I\n",
    "# contents_attribute_a :  컨텐츠 속성 A\n",
    "# contents_attribute_j_1 :  컨텐츠 속성 J 하위 속성 1\n",
    "# contents_attribute_j :  컨텐츠 속성 J\n",
    "# contents_attribute_c :  컨텐츠 속성 C\n",
    "# contents_attribute_k :  컨텐츠 속성 K\n",
    "# contents_attribute_l :  컨텐츠 속성 L\n",
    "# contents_attribute_d :  컨텐츠 속성 D\n",
    "# contents_attribute_m :  컨텐츠 속성 M\n",
    "# contents_attribute_e :  컨텐츠 속성 E\n",
    "# contents_attribute_h :  컨텐츠 속성 H\n",
    "# person_rn :  사용자번호\n",
    "# contents_rn :  컨텐츠번호\n",
    "# contents_open_dt :  컨텐츠 열람 일시"
   ]
  },
  {
   "cell_type": "code",
   "execution_count": 15,
   "metadata": {},
   "outputs": [
    {
     "data": {
      "text/plain": [
       "(46404, 34)"
      ]
     },
     "execution_count": 15,
     "metadata": {},
     "output_type": "execute_result"
    }
   ],
   "source": [
    "test.shape"
   ]
  },
  {
   "cell_type": "code",
   "execution_count": 16,
   "metadata": {},
   "outputs": [
    {
     "data": {
      "text/html": [
       "<div>\n",
       "<style scoped>\n",
       "    .dataframe tbody tr th:only-of-type {\n",
       "        vertical-align: middle;\n",
       "    }\n",
       "\n",
       "    .dataframe tbody tr th {\n",
       "        vertical-align: top;\n",
       "    }\n",
       "\n",
       "    .dataframe thead th {\n",
       "        text-align: right;\n",
       "    }\n",
       "</style>\n",
       "<table border=\"1\" class=\"dataframe\">\n",
       "  <thead>\n",
       "    <tr style=\"text-align: right;\">\n",
       "      <th></th>\n",
       "      <th>id</th>\n",
       "      <th>d_l_match_yn</th>\n",
       "      <th>d_m_match_yn</th>\n",
       "      <th>d_s_match_yn</th>\n",
       "      <th>h_l_match_yn</th>\n",
       "      <th>h_m_match_yn</th>\n",
       "      <th>h_s_match_yn</th>\n",
       "      <th>person_attribute_a</th>\n",
       "      <th>person_attribute_a_1</th>\n",
       "      <th>person_attribute_b</th>\n",
       "      <th>...</th>\n",
       "      <th>contents_attribute_c</th>\n",
       "      <th>contents_attribute_k</th>\n",
       "      <th>contents_attribute_l</th>\n",
       "      <th>contents_attribute_d</th>\n",
       "      <th>contents_attribute_m</th>\n",
       "      <th>contents_attribute_e</th>\n",
       "      <th>contents_attribute_h</th>\n",
       "      <th>person_rn</th>\n",
       "      <th>contents_rn</th>\n",
       "      <th>contents_open_dt</th>\n",
       "    </tr>\n",
       "  </thead>\n",
       "  <tbody>\n",
       "    <tr>\n",
       "      <th>0</th>\n",
       "      <td>0</td>\n",
       "      <td>True</td>\n",
       "      <td>False</td>\n",
       "      <td>False</td>\n",
       "      <td>True</td>\n",
       "      <td>True</td>\n",
       "      <td>True</td>\n",
       "      <td>1</td>\n",
       "      <td>1</td>\n",
       "      <td>2</td>\n",
       "      <td>...</td>\n",
       "      <td>1</td>\n",
       "      <td>2</td>\n",
       "      <td>1147</td>\n",
       "      <td>839</td>\n",
       "      <td>1</td>\n",
       "      <td>5</td>\n",
       "      <td>263</td>\n",
       "      <td>393790</td>\n",
       "      <td>236865</td>\n",
       "      <td>2020-12-01 02:24:18</td>\n",
       "    </tr>\n",
       "    <tr>\n",
       "      <th>1</th>\n",
       "      <td>1</td>\n",
       "      <td>False</td>\n",
       "      <td>False</td>\n",
       "      <td>False</td>\n",
       "      <td>True</td>\n",
       "      <td>False</td>\n",
       "      <td>False</td>\n",
       "      <td>2</td>\n",
       "      <td>0</td>\n",
       "      <td>2</td>\n",
       "      <td>...</td>\n",
       "      <td>1</td>\n",
       "      <td>2</td>\n",
       "      <td>1611</td>\n",
       "      <td>278</td>\n",
       "      <td>1</td>\n",
       "      <td>4</td>\n",
       "      <td>263</td>\n",
       "      <td>394058</td>\n",
       "      <td>236572</td>\n",
       "      <td>2020-12-17 05:42:53</td>\n",
       "    </tr>\n",
       "    <tr>\n",
       "      <th>2</th>\n",
       "      <td>2</td>\n",
       "      <td>True</td>\n",
       "      <td>False</td>\n",
       "      <td>False</td>\n",
       "      <td>True</td>\n",
       "      <td>True</td>\n",
       "      <td>True</td>\n",
       "      <td>2</td>\n",
       "      <td>3</td>\n",
       "      <td>2</td>\n",
       "      <td>...</td>\n",
       "      <td>1</td>\n",
       "      <td>2</td>\n",
       "      <td>1817</td>\n",
       "      <td>490</td>\n",
       "      <td>3</td>\n",
       "      <td>4</td>\n",
       "      <td>177</td>\n",
       "      <td>1002061</td>\n",
       "      <td>704612</td>\n",
       "      <td>2020-12-10 23:33:41</td>\n",
       "    </tr>\n",
       "    <tr>\n",
       "      <th>3</th>\n",
       "      <td>3</td>\n",
       "      <td>True</td>\n",
       "      <td>False</td>\n",
       "      <td>False</td>\n",
       "      <td>True</td>\n",
       "      <td>True</td>\n",
       "      <td>True</td>\n",
       "      <td>1</td>\n",
       "      <td>2</td>\n",
       "      <td>2</td>\n",
       "      <td>...</td>\n",
       "      <td>1</td>\n",
       "      <td>2</td>\n",
       "      <td>101</td>\n",
       "      <td>150</td>\n",
       "      <td>5</td>\n",
       "      <td>3</td>\n",
       "      <td>177</td>\n",
       "      <td>1000813</td>\n",
       "      <td>704652</td>\n",
       "      <td>2020-12-03 19:44:55</td>\n",
       "    </tr>\n",
       "    <tr>\n",
       "      <th>4</th>\n",
       "      <td>4</td>\n",
       "      <td>True</td>\n",
       "      <td>False</td>\n",
       "      <td>False</td>\n",
       "      <td>True</td>\n",
       "      <td>False</td>\n",
       "      <td>False</td>\n",
       "      <td>1</td>\n",
       "      <td>6</td>\n",
       "      <td>4</td>\n",
       "      <td>...</td>\n",
       "      <td>1</td>\n",
       "      <td>1</td>\n",
       "      <td>985</td>\n",
       "      <td>1097</td>\n",
       "      <td>1</td>\n",
       "      <td>4</td>\n",
       "      <td>177</td>\n",
       "      <td>111146</td>\n",
       "      <td>704413</td>\n",
       "      <td>2020-12-11 21:24:34</td>\n",
       "    </tr>\n",
       "  </tbody>\n",
       "</table>\n",
       "<p>5 rows × 34 columns</p>\n",
       "</div>"
      ],
      "text/plain": [
       "   id  d_l_match_yn  d_m_match_yn  d_s_match_yn  h_l_match_yn  h_m_match_yn  \\\n",
       "0   0          True         False         False          True          True   \n",
       "1   1         False         False         False          True         False   \n",
       "2   2          True         False         False          True          True   \n",
       "3   3          True         False         False          True          True   \n",
       "4   4          True         False         False          True         False   \n",
       "\n",
       "   h_s_match_yn  person_attribute_a  person_attribute_a_1  person_attribute_b  \\\n",
       "0          True                   1                     1                   2   \n",
       "1         False                   2                     0                   2   \n",
       "2          True                   2                     3                   2   \n",
       "3          True                   1                     2                   2   \n",
       "4         False                   1                     6                   4   \n",
       "\n",
       "   ...  contents_attribute_c  contents_attribute_k  contents_attribute_l  \\\n",
       "0  ...                     1                     2                  1147   \n",
       "1  ...                     1                     2                  1611   \n",
       "2  ...                     1                     2                  1817   \n",
       "3  ...                     1                     2                   101   \n",
       "4  ...                     1                     1                   985   \n",
       "\n",
       "   contents_attribute_d  contents_attribute_m  contents_attribute_e  \\\n",
       "0                   839                     1                     5   \n",
       "1                   278                     1                     4   \n",
       "2                   490                     3                     4   \n",
       "3                   150                     5                     3   \n",
       "4                  1097                     1                     4   \n",
       "\n",
       "   contents_attribute_h  person_rn  contents_rn     contents_open_dt  \n",
       "0                   263     393790       236865  2020-12-01 02:24:18  \n",
       "1                   263     394058       236572  2020-12-17 05:42:53  \n",
       "2                   177    1002061       704612  2020-12-10 23:33:41  \n",
       "3                   177    1000813       704652  2020-12-03 19:44:55  \n",
       "4                   177     111146       704413  2020-12-11 21:24:34  \n",
       "\n",
       "[5 rows x 34 columns]"
      ]
     },
     "execution_count": 16,
     "metadata": {},
     "output_type": "execute_result"
    }
   ],
   "source": [
    "test.head()"
   ]
  },
  {
   "cell_type": "code",
   "execution_count": 17,
   "metadata": {},
   "outputs": [
    {
     "data": {
      "text/plain": [
       "array([ True, False])"
      ]
     },
     "execution_count": 17,
     "metadata": {},
     "output_type": "execute_result"
    }
   ],
   "source": [
    "train.d_l_match_yn.unique()"
   ]
  },
  {
   "cell_type": "code",
   "execution_count": 18,
   "metadata": {},
   "outputs": [
    {
     "data": {
      "text/plain": [
       "array([ True, False])"
      ]
     },
     "execution_count": 18,
     "metadata": {},
     "output_type": "execute_result"
    }
   ],
   "source": [
    "train.d_m_match_yn.unique()"
   ]
  },
  {
   "cell_type": "code",
   "execution_count": 19,
   "metadata": {},
   "outputs": [
    {
     "data": {
      "text/plain": [
       "array([ True, False])"
      ]
     },
     "execution_count": 19,
     "metadata": {},
     "output_type": "execute_result"
    }
   ],
   "source": [
    "train.d_s_match_yn.unique()"
   ]
  },
  {
   "cell_type": "code",
   "execution_count": 20,
   "metadata": {},
   "outputs": [
    {
     "data": {
      "text/plain": [
       "array([False,  True])"
      ]
     },
     "execution_count": 20,
     "metadata": {},
     "output_type": "execute_result"
    }
   ],
   "source": [
    "train.h_l_match_yn.unique()"
   ]
  },
  {
   "cell_type": "code",
   "execution_count": 21,
   "metadata": {},
   "outputs": [
    {
     "data": {
      "text/plain": [
       "'id'"
      ]
     },
     "execution_count": 21,
     "metadata": {},
     "output_type": "execute_result"
    }
   ],
   "source": [
    "train.columns[0]"
   ]
  },
  {
   "cell_type": "code",
   "execution_count": 22,
   "metadata": {},
   "outputs": [
    {
     "data": {
      "text/plain": [
       "35"
      ]
     },
     "execution_count": 22,
     "metadata": {},
     "output_type": "execute_result"
    }
   ],
   "source": [
    "len(train.columns)"
   ]
  },
  {
   "cell_type": "code",
   "execution_count": 23,
   "metadata": {},
   "outputs": [
    {
     "name": "stdout",
     "output_type": "stream",
     "text": [
      "id\n",
      "[     0      1      2 ... 501948 501949 501950]\n",
      "d_l_match_yn\n",
      "[ True False]\n",
      "d_m_match_yn\n",
      "[ True False]\n",
      "d_s_match_yn\n",
      "[ True False]\n",
      "h_l_match_yn\n",
      "[False  True]\n",
      "h_m_match_yn\n",
      "[False  True]\n",
      "h_s_match_yn\n",
      "[False  True]\n",
      "person_attribute_a\n",
      "[1 2]\n",
      "person_attribute_a_1\n",
      "[4 3 0 1 2 5 6 7]\n",
      "person_attribute_b\n",
      "[3 4 2 5 1 0]\n",
      "person_prefer_c\n",
      "[5 1 3 2 4]\n"
     ]
    }
   ],
   "source": [
    "for col in train.columns[:11]:\n",
    "    print(col)\n",
    "    print(train[col].unique())"
   ]
  },
  {
   "cell_type": "code",
   "execution_count": 24,
   "metadata": {},
   "outputs": [
    {
     "name": "stdout",
     "output_type": "stream",
     "text": [
      "person_prefer_d_1\n",
      "[275 114 464 ... 890 801 633]\n",
      "person_prefer_d_2\n",
      "[370 181 175 ... 193   4 548]\n",
      "person_prefer_d_3\n",
      "[369 175 452 ... 828 914 306]\n",
      "person_prefer_e\n",
      "[ 8  4  3  5  6  0  7 11  9  2  1 10]\n",
      "person_prefer_f\n",
      "[1]\n",
      "person_prefer_g\n",
      "[1]\n"
     ]
    }
   ],
   "source": [
    "for col in train.columns[11:17]:\n",
    "    print(col)\n",
    "    print(train[col].unique())"
   ]
  },
  {
   "cell_type": "code",
   "execution_count": 25,
   "metadata": {},
   "outputs": [
    {
     "data": {
      "text/plain": [
       "1093"
      ]
     },
     "execution_count": 25,
     "metadata": {},
     "output_type": "execute_result"
    }
   ],
   "source": [
    "len(train.person_prefer_d_1.unique())"
   ]
  },
  {
   "cell_type": "code",
   "execution_count": 26,
   "metadata": {},
   "outputs": [
    {
     "data": {
      "text/plain": [
       "1081"
      ]
     },
     "execution_count": 26,
     "metadata": {},
     "output_type": "execute_result"
    }
   ],
   "source": [
    "len(train.person_prefer_d_2.unique())"
   ]
  },
  {
   "cell_type": "code",
   "execution_count": 27,
   "metadata": {},
   "outputs": [
    {
     "data": {
      "text/plain": [
       "1043"
      ]
     },
     "execution_count": 27,
     "metadata": {},
     "output_type": "execute_result"
    }
   ],
   "source": [
    "len(train.person_prefer_d_3.unique())"
   ]
  },
  {
   "cell_type": "code",
   "execution_count": 28,
   "metadata": {},
   "outputs": [
    {
     "data": {
      "text/plain": [
       "12"
      ]
     },
     "execution_count": 28,
     "metadata": {},
     "output_type": "execute_result"
    }
   ],
   "source": [
    "len(train.person_prefer_e.unique())"
   ]
  },
  {
   "cell_type": "code",
   "execution_count": 29,
   "metadata": {},
   "outputs": [],
   "source": [
    "# unique()\n",
    "# person_prefer_d_1 : 1093\n",
    "# person_prefer_d_2 : 1081\n",
    "# person_prefer_d_3 : 1043"
   ]
  },
  {
   "cell_type": "code",
   "execution_count": 30,
   "metadata": {},
   "outputs": [
    {
     "name": "stdout",
     "output_type": "stream",
     "text": [
      "person_prefer_h_1\n",
      "[  4 131  54  72 214  49 126 138 116 285   2  56 119 139  96  20 107  59\n",
      "  22  25  75  76  53  77  27  31 109   9 260 121  64 133  61  68  66 255\n",
      " 114 132  95 258 251 104 288 113 135  74  28 127 120  67  38 170   7   6\n",
      " 254 252 279 282 256  55 174 105  51  63 171  29 156 262 278  82  19  65\n",
      " 210  36  46 189 287 215 209 193  21 192  79 118 281  39 273 186 272 284\n",
      " 190 213 202 137 291 232 158  44  60  34  41  18 263 134 178  24 125 195\n",
      "  10 101  40 124  13 217 290 313  43  86 261  73 128 100 106  52 309 233\n",
      " 152  37  89 280  15  23  97 123 228  91 238 230  42  88 177 227  26 141\n",
      " 122 286  98  35 130 103  99 142  17  33 140  45  69  32 240 148 153 199\n",
      " 259 191  57 295  47 298 253 283 294   8 229 293 246 129 150  16 212 184\n",
      " 301  11 224  90 297  87 311 265 115  93 173 243 194 162  50   5 117 231\n",
      " 163  14 102 264  83 200 175 108 310 183 296 196 206 160  12 211  81 182\n",
      " 270 216 292 257 289 136 299 248 300 154 223 197 234 242 172 143 241 155\n",
      " 151  84 147 203 218 271 225 239 168 204 268 236 205 159 146 157 181 219\n",
      " 185 180  80 244 198 235 201 237 187 267 166 275 269 245 221 167 222 220\n",
      " 161 165 249 164  70 274 276 266 247]\n"
     ]
    }
   ],
   "source": [
    "for col in train.columns[17:18]:\n",
    "    print(col)\n",
    "    print(train[col].unique())"
   ]
  },
  {
   "cell_type": "code",
   "execution_count": 31,
   "metadata": {},
   "outputs": [
    {
     "data": {
      "text/plain": [
       "279"
      ]
     },
     "execution_count": 31,
     "metadata": {},
     "output_type": "execute_result"
    }
   ],
   "source": [
    "len(train.person_prefer_h_1.unique())"
   ]
  },
  {
   "cell_type": "code",
   "execution_count": 32,
   "metadata": {},
   "outputs": [
    {
     "name": "stdout",
     "output_type": "stream",
     "text": [
      "person_prefer_h_2\n",
      "[ 95 101 263 227 210 251 139  68 127 287   4  49  96 135  19 278  27 313\n",
      "  21 130  25  24 238  54  77  52  72 241 119  59 138  79 121  28  18  76\n",
      "  20 122  65 131 109  60  69  67 291 128 114 133   7 230  63 116 288 100\n",
      " 102 279  61  29 231  64  40  44 137  17 253 254 283  50 258 281 150  66\n",
      " 190 126 272   2  22 106  31  34  51  53 189 285 212  73  74  56 113 280\n",
      "  46 293 262 265 177 218 217 194 246 186 252  57 298 309 118  23 134  86\n",
      "  45  36 104 152  43 195  38  12 140 125 260 117 255 256 211 171  33  42\n",
      " 286   6   5 172 213  15 123 295 132 107 282 233 202  99  32 120 284  37\n",
      " 243  88 232 249 228  91 170 141 209 105  98 290 153  41 124  39  75  93\n",
      "  90 196 199 192 191  55 214   8 103  87  16 156 261  35 108 294 184 136\n",
      "  47 159 151 129  97 142 301 292 223  89  26 242 174 115 229 161   9  10\n",
      " 205 273 164  13 234  11  14 187 198  84  80 146 183 289 175 271 245 206\n",
      " 178 185  82 181 163 259 257 300 311 215 299 168 200 173 201 193 270 143\n",
      " 147 240 216  83 310 236 167 203 204 268 225 274 222  70  81 244 166 235\n",
      " 157 297 248 154 237 264 162 197 220 224 275 269 160 180 158 266 148 247\n",
      " 296 276 221 219 165 239 182 155 267]\n"
     ]
    }
   ],
   "source": [
    "for col in train.columns[18:19]:\n",
    "    print(col)\n",
    "    print(train[col].unique())"
   ]
  },
  {
   "cell_type": "code",
   "execution_count": 33,
   "metadata": {},
   "outputs": [
    {
     "data": {
      "text/plain": [
       "279"
      ]
     },
     "execution_count": 33,
     "metadata": {},
     "output_type": "execute_result"
    }
   ],
   "source": [
    "len(train.person_prefer_h_2.unique())"
   ]
  },
  {
   "cell_type": "code",
   "execution_count": 34,
   "metadata": {},
   "outputs": [
    {
     "name": "stdout",
     "output_type": "stream",
     "text": [
      "person_prefer_h_3\n",
      "[ 59  96  56   2 209 258 109 139 279  95 251 131   4 116 128  24 129 106\n",
      " 124  22  23 231 263  74  50 227 238  86  29  17  72  57  67  20  66  68\n",
      " 101  63 133 100 113  49 138 137 103  27 278  15  21 122  77  10  18  65\n",
      "  45  36  79  16 252 293 281 280  55  60 127 114   9 151 257 298 126  26\n",
      "  31  93 189  38  52 130 286 210 213 104 191 288  37 274 184 214 244 190\n",
      " 170 253 132 270  54 229 152 301  75 271 291 309  32 260 177  25  14  44\n",
      "  40 272  51 141 218  41 142  46  43 295  69   5 121 254  39 225 246  98\n",
      " 256 118  53 285 290 117 228 192  76  91 282  33 107 233 242 171 135  61\n",
      " 120  28  99 150 195  73 119 140 186  64   7  42 196  35 247 134 283  19\n",
      " 125  89 310 115  97  34 217 284 313  11 292 287 102 148   6  88 153  80\n",
      " 294 143 255 289 105  47 194  90 273 230 108 243 180  12 205 136 168 215\n",
      " 187 261 202  13  87 182  81 174 232 183 199 185  82 220 146 296 241 212\n",
      " 216  83 235 175 201 264 160 159 172 167 123 181 161 173 193 259 237 236\n",
      "   8 211 262 266 297 269 178 157 204 147 198  84 224 158 234 154 200 268\n",
      " 265 197 311 249 156 245 203 221 206 165 222 299 223 219 300 163 162 166\n",
      " 155 164 240 239 267 275 276 248  70]\n"
     ]
    }
   ],
   "source": [
    "for col in train.columns[19:20]:\n",
    "    print(col)\n",
    "    print(train[col].unique())"
   ]
  },
  {
   "cell_type": "code",
   "execution_count": 35,
   "metadata": {},
   "outputs": [
    {
     "data": {
      "text/plain": [
       "279"
      ]
     },
     "execution_count": 35,
     "metadata": {},
     "output_type": "execute_result"
    }
   ],
   "source": [
    "len(train.person_prefer_h_3.unique())"
   ]
  },
  {
   "cell_type": "code",
   "execution_count": 36,
   "metadata": {},
   "outputs": [],
   "source": [
    "# person_prefer_h_1\n",
    "# person_prefer_h_2\n",
    "# person_prefer_h_3\n",
    "# 모두 279개의 유니크 값 갖는다."
   ]
  },
  {
   "cell_type": "code",
   "execution_count": 37,
   "metadata": {},
   "outputs": [
    {
     "name": "stdout",
     "output_type": "stream",
     "text": [
      "contents_attribute_i\n",
      "[3 1 2]\n",
      "contents_attribute_a\n",
      "[3 1 2]\n",
      "contents_attribute_j_1\n",
      "[10  5  3  6  4  9  2  8  1]\n",
      "contents_attribute_j\n",
      "[2 1]\n",
      "contents_attribute_c\n",
      "[1 3 4 2]\n",
      "contents_attribute_k\n",
      "[2 1]\n"
     ]
    }
   ],
   "source": [
    "for col in train.columns[20:26]:\n",
    "    print(col)\n",
    "    print(train[col].unique())"
   ]
  },
  {
   "cell_type": "code",
   "execution_count": 38,
   "metadata": {},
   "outputs": [
    {
     "data": {
      "text/plain": [
       "9"
      ]
     },
     "execution_count": 38,
     "metadata": {},
     "output_type": "execute_result"
    }
   ],
   "source": [
    "len(train.contents_attribute_j_1.unique())"
   ]
  },
  {
   "cell_type": "code",
   "execution_count": 39,
   "metadata": {},
   "outputs": [
    {
     "name": "stdout",
     "output_type": "stream",
     "text": [
      "contents_attribute_l\n",
      "[1608 1600 1817 ... 1246  751 1905]\n"
     ]
    }
   ],
   "source": [
    "for col in train.columns[26:27]:\n",
    "    print(col)\n",
    "    print(train[col].unique())"
   ]
  },
  {
   "cell_type": "code",
   "execution_count": 40,
   "metadata": {},
   "outputs": [
    {
     "data": {
      "text/plain": [
       "1752"
      ]
     },
     "execution_count": 40,
     "metadata": {},
     "output_type": "execute_result"
    }
   ],
   "source": [
    "len(train.contents_attribute_l.unique())"
   ]
  },
  {
   "cell_type": "code",
   "execution_count": 41,
   "metadata": {},
   "outputs": [
    {
     "name": "stdout",
     "output_type": "stream",
     "text": [
      "contents_attribute_d\n",
      "[ 275   94  492 ...  631 1116  829]\n",
      "contents_attribute_m\n",
      "[1 5 2 4 3]\n",
      "contents_attribute_e\n",
      "[ 4  3  5  6  1 11  8  7  2  0 10  9]\n"
     ]
    }
   ],
   "source": [
    "for col in train.columns[27:30]:\n",
    "    print(col)\n",
    "    print(train[col].unique())"
   ]
  },
  {
   "cell_type": "code",
   "execution_count": 42,
   "metadata": {},
   "outputs": [
    {
     "data": {
      "text/plain": [
       "1065"
      ]
     },
     "execution_count": 42,
     "metadata": {},
     "output_type": "execute_result"
    }
   ],
   "source": [
    "len(train.contents_attribute_d.unique())"
   ]
  },
  {
   "cell_type": "code",
   "execution_count": 43,
   "metadata": {},
   "outputs": [
    {
     "name": "stdout",
     "output_type": "stream",
     "text": [
      "contents_attribute_h\n",
      "[139 133  53  74 285  54 233  21  66 120  68 260  76  32 109 138 134  45\n",
      "  61 262  36  44 187  16 254  41 282  98 256 261  51  19  26  50 156  67\n",
      " 283 123 273 295 130 140 293 280 237  99 215 272 160 213 186 244 105  43\n",
      " 104 258 195  38 287 125   9 298 217 202  75  97 240   7 121 284  42 288\n",
      "  73 228  91 102  14 162  46 127 148 248 291  55 182 173 289  29  22  65\n",
      " 157 142 199 259   8 181 126  10 224 274   5  20 286 108 246 206 178  83\n",
      " 152 192 137 113 129 184  87 297  37 122 117  39 311 230  88 114 174  15\n",
      " 107  63  28 243  13   6 118  80  47 194 163  89  82 124  64 132  25 310\n",
      " 175 103 172 185 219 265 270  34 249 301  35 211 214  52 143  24 136 161\n",
      " 216 229  77 200 255  27 153 290 193 158  57  81 191 197 300 205 180 159\n",
      " 146  12 241 168 196 238 271  93 263 155  18 141 151  23  90  84  17 235\n",
      " 128 135  56 253 236  33 281  69 257 100 269 177  11 231 115 292 242 264\n",
      " 296  70 245 294 154 239 234 167 221 166 164 267 198 222  60  40 212 218\n",
      " 275 203 266 223 225 232 201 204 147 183 220 299 165 268 247 276]\n"
     ]
    }
   ],
   "source": [
    "for col in train.columns[30:31]:\n",
    "    print(col)\n",
    "    print(train[col].unique())"
   ]
  },
  {
   "cell_type": "code",
   "execution_count": 44,
   "metadata": {},
   "outputs": [
    {
     "data": {
      "text/plain": [
       "250"
      ]
     },
     "execution_count": 44,
     "metadata": {},
     "output_type": "execute_result"
    }
   ],
   "source": [
    "len(train.contents_attribute_h.unique())"
   ]
  },
  {
   "cell_type": "code",
   "execution_count": 45,
   "metadata": {},
   "outputs": [],
   "source": [
    "# unique()\n",
    "# contents_attribute_l : 1752\n",
    "# contents_attribute_d : 1065\n",
    "# contents_attribute_h : 250"
   ]
  },
  {
   "cell_type": "code",
   "execution_count": 46,
   "metadata": {},
   "outputs": [
    {
     "name": "stdout",
     "output_type": "stream",
     "text": [
      "person_rn\n",
      "[618822 571659 399816 ... 648140 470285 484528]\n",
      "contents_rn\n",
      "[354805 346213 206408 ... 627471 293258 273797]\n"
     ]
    }
   ],
   "source": [
    "for col in train.columns[31:33]:\n",
    "    print(col)\n",
    "    print(train[col].unique())"
   ]
  },
  {
   "cell_type": "code",
   "execution_count": 47,
   "metadata": {},
   "outputs": [
    {
     "data": {
      "text/plain": [
       "300177"
      ]
     },
     "execution_count": 47,
     "metadata": {},
     "output_type": "execute_result"
    }
   ],
   "source": [
    "len(train.person_rn.unique())"
   ]
  },
  {
   "cell_type": "code",
   "execution_count": 48,
   "metadata": {},
   "outputs": [
    {
     "data": {
      "text/plain": [
       "283359"
      ]
     },
     "execution_count": 48,
     "metadata": {},
     "output_type": "execute_result"
    }
   ],
   "source": [
    "len(train.contents_rn.unique())"
   ]
  },
  {
   "cell_type": "code",
   "execution_count": 49,
   "metadata": {},
   "outputs": [
    {
     "name": "stdout",
     "output_type": "stream",
     "text": [
      "contents_open_dt\n",
      "['2020-01-17 12:09:36' '2020-06-18 17:48:52' '2020-07-08 20:00:10' ...\n",
      " '2020-08-05 17:27:24' '2020-06-15 09:23:21' '2020-05-25 14:34:48']\n",
      "target\n",
      "[1 0]\n"
     ]
    }
   ],
   "source": [
    "for col in train.columns[33:]:\n",
    "    print(col)\n",
    "    print(train[col].unique())"
   ]
  },
  {
   "cell_type": "code",
   "execution_count": 50,
   "metadata": {},
   "outputs": [
    {
     "name": "stdout",
     "output_type": "stream",
     "text": [
      "<class 'pandas.core.frame.DataFrame'>\n",
      "RangeIndex: 501951 entries, 0 to 501950\n",
      "Data columns (total 35 columns):\n",
      " #   Column                  Non-Null Count   Dtype \n",
      "---  ------                  --------------   ----- \n",
      " 0   id                      501951 non-null  int64 \n",
      " 1   d_l_match_yn            501951 non-null  bool  \n",
      " 2   d_m_match_yn            501951 non-null  bool  \n",
      " 3   d_s_match_yn            501951 non-null  bool  \n",
      " 4   h_l_match_yn            501951 non-null  bool  \n",
      " 5   h_m_match_yn            501951 non-null  bool  \n",
      " 6   h_s_match_yn            501951 non-null  bool  \n",
      " 7   person_attribute_a      501951 non-null  int64 \n",
      " 8   person_attribute_a_1    501951 non-null  int64 \n",
      " 9   person_attribute_b      501951 non-null  int64 \n",
      " 10  person_prefer_c         501951 non-null  int64 \n",
      " 11  person_prefer_d_1       501951 non-null  int64 \n",
      " 12  person_prefer_d_2       501951 non-null  int64 \n",
      " 13  person_prefer_d_3       501951 non-null  int64 \n",
      " 14  person_prefer_e         501951 non-null  int64 \n",
      " 15  person_prefer_f         501951 non-null  int64 \n",
      " 16  person_prefer_g         501951 non-null  int64 \n",
      " 17  person_prefer_h_1       501951 non-null  int64 \n",
      " 18  person_prefer_h_2       501951 non-null  int64 \n",
      " 19  person_prefer_h_3       501951 non-null  int64 \n",
      " 20  contents_attribute_i    501951 non-null  int64 \n",
      " 21  contents_attribute_a    501951 non-null  int64 \n",
      " 22  contents_attribute_j_1  501951 non-null  int64 \n",
      " 23  contents_attribute_j    501951 non-null  int64 \n",
      " 24  contents_attribute_c    501951 non-null  int64 \n",
      " 25  contents_attribute_k    501951 non-null  int64 \n",
      " 26  contents_attribute_l    501951 non-null  int64 \n",
      " 27  contents_attribute_d    501951 non-null  int64 \n",
      " 28  contents_attribute_m    501951 non-null  int64 \n",
      " 29  contents_attribute_e    501951 non-null  int64 \n",
      " 30  contents_attribute_h    501951 non-null  int64 \n",
      " 31  person_rn               501951 non-null  int64 \n",
      " 32  contents_rn             501951 non-null  int64 \n",
      " 33  contents_open_dt        501951 non-null  object\n",
      " 34  target                  501951 non-null  int64 \n",
      "dtypes: bool(6), int64(28), object(1)\n",
      "memory usage: 113.9+ MB\n"
     ]
    }
   ],
   "source": [
    "train.info()"
   ]
  },
  {
   "cell_type": "markdown",
   "metadata": {},
   "source": [
    "# train unique값 개수"
   ]
  },
  {
   "cell_type": "code",
   "execution_count": 51,
   "metadata": {},
   "outputs": [],
   "source": [
    "# 총 501951개 샘플\n",
    "# unique()\n",
    "# 총 33개 특성\n",
    "\n",
    "# d_l_match_yn : True, False\n",
    "# d_m_match_yn : True, False\n",
    "# d_s_match_yn : True, False\n",
    "# h_l_match_yn : True, False\n",
    "# h_m_match_yn : True, False\n",
    "# h_s_match_yn : True, False\n",
    "#\n",
    "# person_attribute_a : 2(1~2)\n",
    "# person_attribute_a_1 : 8(0~7)\n",
    "# person_attribute_b : 6(0~5)\n",
    "# person_prefer_c : 5(1~5)\n",
    "# person_prefer_d_1 : 1093\n",
    "# person_prefer_d_2 : 1081\n",
    "# person_prefer_d_3 : 1043\n",
    "# person_prefer_e : 12(0~11)\n",
    "# person_prefer_f : 1(1)\n",
    "# person_prefer_g : 1(1)\n",
    "# person_prefer_h_1 : 279\n",
    "# person_prefer_h_2 : 279\n",
    "# person_prefer_h_3 : 279\n",
    "#####################################\n",
    "# contents_attribute_i : 3(1~3)\n",
    "# contents_attribute_a : 3(1~3)\n",
    "# contents_attribute_j_1 : 9(1~10, 7제외)\n",
    "# contents_attribute_j : 2(1~2)\n",
    "# contents_attribute_c : 4(1~4)\n",
    "# contents_attribute_k : 2(1~2)\n",
    "# contents_attribute_l : 1752\n",
    "# contents_attribute_d : 1065\n",
    "# contents_attribute_m : 5(1~5)\n",
    "# contents_attribute_e : 12(0~11)\n",
    "# contents_attribute_h : 250\n",
    "#\n",
    "# person_rn : 300177\n",
    "# contents_rn : 283359"
   ]
  },
  {
   "cell_type": "code",
   "execution_count": 52,
   "metadata": {},
   "outputs": [
    {
     "name": "stdout",
     "output_type": "stream",
     "text": [
      "id\n",
      "[    0     1     2 ... 46401 46402 46403]\n",
      "d_l_match_yn\n",
      "[ True False]\n",
      "d_m_match_yn\n",
      "[False  True]\n",
      "d_s_match_yn\n",
      "[False  True]\n",
      "h_l_match_yn\n",
      "[ True False]\n",
      "h_m_match_yn\n",
      "[ True False]\n",
      "h_s_match_yn\n",
      "[ True False]\n",
      "person_attribute_a\n",
      "[1 2]\n",
      "person_attribute_a_1\n",
      "[1 0 3 2 6 7 4 5]\n",
      "person_attribute_b\n",
      "[2 4 3 5 1 0]\n",
      "person_prefer_c\n",
      "[1 2 5 4 3]\n"
     ]
    }
   ],
   "source": [
    "for col in test.columns[:11]:\n",
    "    print(col)\n",
    "    print(test[col].unique())"
   ]
  },
  {
   "cell_type": "code",
   "execution_count": 53,
   "metadata": {},
   "outputs": [
    {
     "name": "stdout",
     "output_type": "stream",
     "text": [
      "person_prefer_d_1\n",
      "955\n",
      "person_prefer_d_2\n",
      "863\n",
      "person_prefer_d_3\n",
      "775\n"
     ]
    }
   ],
   "source": [
    "for col in test.columns[11:14]:\n",
    "    print(col)\n",
    "    print(len(test[col].unique()))"
   ]
  },
  {
   "cell_type": "code",
   "execution_count": 54,
   "metadata": {},
   "outputs": [
    {
     "name": "stdout",
     "output_type": "stream",
     "text": [
      "person_prefer_e\n",
      "[ 4  2  0  5  3  6  7  8 11 10  9  1]\n",
      "person_prefer_f\n",
      "[1]\n",
      "person_prefer_g\n",
      "[1]\n"
     ]
    }
   ],
   "source": [
    "for col in test.columns[14:17]:\n",
    "    print(col)\n",
    "    print(test[col].unique())"
   ]
  },
  {
   "cell_type": "code",
   "execution_count": 55,
   "metadata": {},
   "outputs": [
    {
     "name": "stdout",
     "output_type": "stream",
     "text": [
      "person_prefer_h_1\n",
      "271\n",
      "person_prefer_h_2\n",
      "274\n",
      "person_prefer_h_3\n",
      "270\n"
     ]
    }
   ],
   "source": [
    "for col in test.columns[17:20]:\n",
    "    print(col)\n",
    "    print(len(test[col].unique()))"
   ]
  },
  {
   "cell_type": "code",
   "execution_count": 56,
   "metadata": {},
   "outputs": [
    {
     "name": "stdout",
     "output_type": "stream",
     "text": [
      "contents_attribute_i\n",
      "[1 3 2]\n",
      "contents_attribute_a\n",
      "[3 1 2]\n",
      "contents_attribute_j_1\n",
      "[10  5  3  9  4  6  2  8  1]\n",
      "contents_attribute_j\n",
      "[2 1]\n",
      "contents_attribute_c\n",
      "[1 3 4 2]\n",
      "contents_attribute_k\n",
      "[2 1]\n"
     ]
    }
   ],
   "source": [
    "for col in test.columns[20:26]:\n",
    "    print(col)\n",
    "    print(test[col].unique())"
   ]
  },
  {
   "cell_type": "code",
   "execution_count": 57,
   "metadata": {},
   "outputs": [
    {
     "name": "stdout",
     "output_type": "stream",
     "text": [
      "contents_attribute_l\n",
      "1422\n",
      "contents_attribute_d\n",
      "919\n"
     ]
    }
   ],
   "source": [
    "for col in test.columns[26:28]:\n",
    "    print(col)\n",
    "    print(len(test[col].unique()))"
   ]
  },
  {
   "cell_type": "code",
   "execution_count": 58,
   "metadata": {},
   "outputs": [
    {
     "name": "stdout",
     "output_type": "stream",
     "text": [
      "contents_attribute_m\n",
      "[1 3 5 4 2]\n",
      "contents_attribute_e\n",
      "[ 5  4  3  2  6  7  0  1  8  9 10 11]\n"
     ]
    }
   ],
   "source": [
    "for col in test.columns[28:30]:\n",
    "    print(col)\n",
    "    print(test[col].unique())"
   ]
  },
  {
   "cell_type": "code",
   "execution_count": 59,
   "metadata": {},
   "outputs": [
    {
     "name": "stdout",
     "output_type": "stream",
     "text": [
      "contents_attribute_h\n",
      "247\n",
      "person_rn\n",
      "34534\n",
      "contents_rn\n",
      "31489\n",
      "contents_open_dt\n",
      "45813\n"
     ]
    }
   ],
   "source": [
    "for col in test.columns[30:]:\n",
    "    print(col)\n",
    "    print(len(test[col].unique()))"
   ]
  },
  {
   "cell_type": "code",
   "execution_count": 60,
   "metadata": {},
   "outputs": [
    {
     "name": "stdout",
     "output_type": "stream",
     "text": [
      "<class 'pandas.core.frame.DataFrame'>\n",
      "RangeIndex: 46404 entries, 0 to 46403\n",
      "Data columns (total 34 columns):\n",
      " #   Column                  Non-Null Count  Dtype \n",
      "---  ------                  --------------  ----- \n",
      " 0   id                      46404 non-null  int64 \n",
      " 1   d_l_match_yn            46404 non-null  bool  \n",
      " 2   d_m_match_yn            46404 non-null  bool  \n",
      " 3   d_s_match_yn            46404 non-null  bool  \n",
      " 4   h_l_match_yn            46404 non-null  bool  \n",
      " 5   h_m_match_yn            46404 non-null  bool  \n",
      " 6   h_s_match_yn            46404 non-null  bool  \n",
      " 7   person_attribute_a      46404 non-null  int64 \n",
      " 8   person_attribute_a_1    46404 non-null  int64 \n",
      " 9   person_attribute_b      46404 non-null  int64 \n",
      " 10  person_prefer_c         46404 non-null  int64 \n",
      " 11  person_prefer_d_1       46404 non-null  int64 \n",
      " 12  person_prefer_d_2       46404 non-null  int64 \n",
      " 13  person_prefer_d_3       46404 non-null  int64 \n",
      " 14  person_prefer_e         46404 non-null  int64 \n",
      " 15  person_prefer_f         46404 non-null  int64 \n",
      " 16  person_prefer_g         46404 non-null  int64 \n",
      " 17  person_prefer_h_1       46404 non-null  int64 \n",
      " 18  person_prefer_h_2       46404 non-null  int64 \n",
      " 19  person_prefer_h_3       46404 non-null  int64 \n",
      " 20  contents_attribute_i    46404 non-null  int64 \n",
      " 21  contents_attribute_a    46404 non-null  int64 \n",
      " 22  contents_attribute_j_1  46404 non-null  int64 \n",
      " 23  contents_attribute_j    46404 non-null  int64 \n",
      " 24  contents_attribute_c    46404 non-null  int64 \n",
      " 25  contents_attribute_k    46404 non-null  int64 \n",
      " 26  contents_attribute_l    46404 non-null  int64 \n",
      " 27  contents_attribute_d    46404 non-null  int64 \n",
      " 28  contents_attribute_m    46404 non-null  int64 \n",
      " 29  contents_attribute_e    46404 non-null  int64 \n",
      " 30  contents_attribute_h    46404 non-null  int64 \n",
      " 31  person_rn               46404 non-null  int64 \n",
      " 32  contents_rn             46404 non-null  int64 \n",
      " 33  contents_open_dt        46404 non-null  object\n",
      "dtypes: bool(6), int64(27), object(1)\n",
      "memory usage: 10.2+ MB\n"
     ]
    }
   ],
   "source": [
    "test.info()"
   ]
  },
  {
   "cell_type": "markdown",
   "metadata": {},
   "source": [
    "# test unique값 개수"
   ]
  },
  {
   "cell_type": "code",
   "execution_count": 61,
   "metadata": {},
   "outputs": [],
   "source": [
    "# 총 46404개 샘플\n",
    "# unique()\n",
    "# 총 32개 특성\n",
    "\n",
    "# d_l_match_yn : True, False\n",
    "# d_m_match_yn : True, False\n",
    "# d_s_match_yn : True, False\n",
    "# h_l_match_yn : True, False\n",
    "# h_m_match_yn : True, False\n",
    "# h_s_match_yn : True, False\n",
    " \n",
    "# person_attribute_a : 2(1~2)\n",
    "# person_attribute_a_1 : 8(0~7)\n",
    "# person_attribute_b : 6(0~5)\n",
    "# person_prefer_c : 5(1~5)\n",
    "# person_prefer_d_1 : 955\n",
    "# person_prefer_d_2 : 863\n",
    "# person_prefer_d_3 : 775\n",
    "# person_prefer_e : 12(0~11)\n",
    "# person_prefer_f : 1(1)\n",
    "# person_prefer_g : 1(1)\n",
    "# person_prefer_h_1 : 271\n",
    "# person_prefer_h_2 : 274\n",
    "# person_prefer_h_3 : 270\n",
    "################################\n",
    "# contents_attribute_i : 3(1~3)\n",
    "# contents_attribute_a : 3(1~3)\n",
    "# contents_attribute_j_1 : 9(1~10, 7제외)\n",
    "# contents_attribute_j : 2(1~2)\n",
    "# contents_attribute_c : 4(1~4)\n",
    "# contents_attribute_k : 2(1~2)\n",
    "# contents_attribute_l : 1422\n",
    "# contents_attribute_d : 919\n",
    "# contents_attribute_m : 5(1~5)\n",
    "# contents_attribute_e : 12(0~11)\n",
    "# contents_attribute_h : 247\n",
    "\n",
    "# person_rn : 34534\n",
    "# contents_rn : 31489"
   ]
  },
  {
   "cell_type": "markdown",
   "metadata": {},
   "source": [
    "# 데이터 결측치 확인(결측치 없음)"
   ]
  },
  {
   "cell_type": "code",
   "execution_count": 62,
   "metadata": {},
   "outputs": [
    {
     "data": {
      "text/plain": [
       "id                        0\n",
       "d_l_match_yn              0\n",
       "d_m_match_yn              0\n",
       "d_s_match_yn              0\n",
       "h_l_match_yn              0\n",
       "h_m_match_yn              0\n",
       "h_s_match_yn              0\n",
       "person_attribute_a        0\n",
       "person_attribute_a_1      0\n",
       "person_attribute_b        0\n",
       "person_prefer_c           0\n",
       "person_prefer_d_1         0\n",
       "person_prefer_d_2         0\n",
       "person_prefer_d_3         0\n",
       "person_prefer_e           0\n",
       "person_prefer_f           0\n",
       "person_prefer_g           0\n",
       "person_prefer_h_1         0\n",
       "person_prefer_h_2         0\n",
       "person_prefer_h_3         0\n",
       "contents_attribute_i      0\n",
       "contents_attribute_a      0\n",
       "contents_attribute_j_1    0\n",
       "contents_attribute_j      0\n",
       "contents_attribute_c      0\n",
       "contents_attribute_k      0\n",
       "contents_attribute_l      0\n",
       "contents_attribute_d      0\n",
       "contents_attribute_m      0\n",
       "contents_attribute_e      0\n",
       "contents_attribute_h      0\n",
       "person_rn                 0\n",
       "contents_rn               0\n",
       "contents_open_dt          0\n",
       "target                    0\n",
       "dtype: int64"
      ]
     },
     "execution_count": 62,
     "metadata": {},
     "output_type": "execute_result"
    }
   ],
   "source": [
    "train.isnull().sum()"
   ]
  },
  {
   "cell_type": "code",
   "execution_count": 63,
   "metadata": {},
   "outputs": [
    {
     "data": {
      "text/plain": [
       "id                        0\n",
       "d_l_match_yn              0\n",
       "d_m_match_yn              0\n",
       "d_s_match_yn              0\n",
       "h_l_match_yn              0\n",
       "h_m_match_yn              0\n",
       "h_s_match_yn              0\n",
       "person_attribute_a        0\n",
       "person_attribute_a_1      0\n",
       "person_attribute_b        0\n",
       "person_prefer_c           0\n",
       "person_prefer_d_1         0\n",
       "person_prefer_d_2         0\n",
       "person_prefer_d_3         0\n",
       "person_prefer_e           0\n",
       "person_prefer_f           0\n",
       "person_prefer_g           0\n",
       "person_prefer_h_1         0\n",
       "person_prefer_h_2         0\n",
       "person_prefer_h_3         0\n",
       "contents_attribute_i      0\n",
       "contents_attribute_a      0\n",
       "contents_attribute_j_1    0\n",
       "contents_attribute_j      0\n",
       "contents_attribute_c      0\n",
       "contents_attribute_k      0\n",
       "contents_attribute_l      0\n",
       "contents_attribute_d      0\n",
       "contents_attribute_m      0\n",
       "contents_attribute_e      0\n",
       "contents_attribute_h      0\n",
       "person_rn                 0\n",
       "contents_rn               0\n",
       "contents_open_dt          0\n",
       "dtype: int64"
      ]
     },
     "execution_count": 63,
     "metadata": {},
     "output_type": "execute_result"
    }
   ],
   "source": [
    "test.isnull().sum()"
   ]
  },
  {
   "cell_type": "markdown",
   "metadata": {},
   "source": [
    "# 속성 분류 매칭 여부 특성과 타겟\n",
    "    * d_l_match_yn :  속성 D 대분류 매칭 여부\n",
    "    * d_m_match_yn :  속성 D 중분류 매칭 여부\n",
    "    * d_s_match_yn :  속성 D 소분류 매칭 여부\n",
    "    * h_l_match_yn :  속성 H 대분류 매칭 여부\n",
    "    * h_m_match_yn :  속성 H 중분류 매칭 여부\n",
    "    * h_s_match_yn :  속성 H 소분류 매칭 여부"
   ]
  },
  {
   "cell_type": "code",
   "execution_count": 64,
   "metadata": {},
   "outputs": [
    {
     "data": {
      "text/plain": [
       "True     315268\n",
       "False    186683\n",
       "Name: d_l_match_yn, dtype: int64"
      ]
     },
     "execution_count": 64,
     "metadata": {},
     "output_type": "execute_result"
    }
   ],
   "source": [
    "train['d_l_match_yn'].value_counts()"
   ]
  },
  {
   "cell_type": "code",
   "execution_count": 65,
   "metadata": {},
   "outputs": [
    {
     "data": {
      "text/plain": [
       "<BarContainer object of 2 artists>"
      ]
     },
     "execution_count": 65,
     "metadata": {},
     "output_type": "execute_result"
    },
    {
     "data": {
      "image/png": "[encoded data removed]",
      "text/plain": [
       "<Figure size 864x720 with 1 Axes>"
      ]
     },
     "metadata": {
      "needs_background": "light"
     },
     "output_type": "display_data"
    }
   ],
   "source": [
    "plt.figure(figsize=(12,10))\n",
    "plt.xticks(fontsize=20)\n",
    "plt.yticks(fontsize=15)\n",
    "plt.title('test(d_l_match_yn)', fontdict={'fontsize':20})\n",
    "plt.bar(x=['True', 'False'], height=train['d_l_match_yn'].value_counts(), data=train)"
   ]
  },
  {
   "cell_type": "code",
   "execution_count": 66,
   "metadata": {},
   "outputs": [
    {
     "data": {
      "text/plain": [
       "True     28798\n",
       "False    17606\n",
       "Name: d_l_match_yn, dtype: int64"
      ]
     },
     "execution_count": 66,
     "metadata": {},
     "output_type": "execute_result"
    }
   ],
   "source": [
    "test['d_l_match_yn'].value_counts()"
   ]
  },
  {
   "cell_type": "code",
   "execution_count": 67,
   "metadata": {},
   "outputs": [
    {
     "data": {
      "text/plain": [
       "<BarContainer object of 2 artists>"
      ]
     },
     "execution_count": 67,
     "metadata": {},
     "output_type": "execute_result"
    },
    {
     "data": {
      "image/png": "[encoded data removed]",
      "text/plain": [
       "<Figure size 864x720 with 1 Axes>"
      ]
     },
     "metadata": {
      "needs_background": "light"
     },
     "output_type": "display_data"
    }
   ],
   "source": [
    "plt.figure(figsize=(12,10))\n",
    "plt.xticks(fontsize=20)\n",
    "plt.yticks(fontsize=15)\n",
    "plt.title('test(d_l_match_yn)', fontdict={'fontsize':20})\n",
    "plt.bar(x=['True', 'False'], height=test['d_l_match_yn'].value_counts(), data=test)"
   ]
  },
  {
   "cell_type": "code",
   "execution_count": 68,
   "metadata": {},
   "outputs": [
    {
     "data": {
      "text/plain": [
       "False    368324\n",
       "True     133627\n",
       "Name: d_m_match_yn, dtype: int64"
      ]
     },
     "execution_count": 68,
     "metadata": {},
     "output_type": "execute_result"
    }
   ],
   "source": [
    "train.d_m_match_yn.value_counts()"
   ]
  },
  {
   "cell_type": "code",
   "execution_count": 69,
   "metadata": {},
   "outputs": [
    {
     "data": {
      "text/plain": [
       "627445     20\n",
       "1047079    19\n",
       "241140     19\n",
       "827703     19\n",
       "1016996    18\n",
       "           ..\n",
       "798856      1\n",
       "54141       1\n",
       "467843      1\n",
       "988037      1\n",
       "907205      1\n",
       "Name: person_rn, Length: 300177, dtype: int64"
      ]
     },
     "execution_count": 69,
     "metadata": {},
     "output_type": "execute_result"
    }
   ],
   "source": [
    "train_person_rn = train.person_rn.value_counts()\n",
    "train_person_rn"
   ]
  },
  {
   "cell_type": "code",
   "execution_count": 70,
   "metadata": {},
   "outputs": [
    {
     "data": {
      "text/plain": [
       "627445     20\n",
       "1047079    19\n",
       "241140     19\n",
       "827703     19\n",
       "1016996    18\n",
       "           ..\n",
       "217354     10\n",
       "583392     10\n",
       "649969     10\n",
       "259645     10\n",
       "761137     10\n",
       "Name: person_rn, Length: 656, dtype: int64"
      ]
     },
     "execution_count": 70,
     "metadata": {},
     "output_type": "execute_result"
    }
   ],
   "source": [
    "train_person_rn = train_person_rn[train_person_rn > 9]\n",
    "train_person_rn"
   ]
  },
  {
   "cell_type": "code",
   "execution_count": 71,
   "metadata": {},
   "outputs": [
    {
     "data": {
      "text/plain": [
       "0      20\n",
       "1      19\n",
       "2      19\n",
       "3      19\n",
       "4      18\n",
       "       ..\n",
       "651    10\n",
       "652    10\n",
       "653    10\n",
       "654    10\n",
       "655    10\n",
       "Name: person_rn, Length: 656, dtype: int64"
      ]
     },
     "execution_count": 71,
     "metadata": {},
     "output_type": "execute_result"
    }
   ],
   "source": [
    "train_person_rn = train_person_rn.reset_index(drop=True)\n",
    "train_person_rn"
   ]
  },
  {
   "cell_type": "code",
   "execution_count": 72,
   "metadata": {},
   "outputs": [
    {
     "data": {
      "text/plain": [
       "RangeIndex(start=0, stop=656, step=1)"
      ]
     },
     "execution_count": 72,
     "metadata": {},
     "output_type": "execute_result"
    }
   ],
   "source": [
    "train_person_rn.index"
   ]
  },
  {
   "cell_type": "code",
   "execution_count": 73,
   "metadata": {},
   "outputs": [
    {
     "data": {
      "text/plain": [
       "<BarContainer object of 656 artists>"
      ]
     },
     "execution_count": 73,
     "metadata": {},
     "output_type": "execute_result"
    },
    {
     "data": {
      "image/png": "[encoded data removed]",
      "text/plain": [
       "<Figure size 864x720 with 1 Axes>"
      ]
     },
     "metadata": {
      "needs_background": "light"
     },
     "output_type": "display_data"
    }
   ],
   "source": [
    "plt.figure(figsize=(12,10))\n",
    "plt.xticks(fontsize=20)\n",
    "plt.yticks(fontsize=15)\n",
    "plt.title('train_person_rn(사용자 번호 당 개수)', fontdict={'fontsize':20})\n",
    "plt.bar(x=train_person_rn.index, height=train_person_rn)"
   ]
  },
  {
   "cell_type": "code",
   "execution_count": 74,
   "metadata": {},
   "outputs": [
    {
     "data": {
      "text/html": [
       "<div>\n",
       "<style scoped>\n",
       "    .dataframe tbody tr th:only-of-type {\n",
       "        vertical-align: middle;\n",
       "    }\n",
       "\n",
       "    .dataframe tbody tr th {\n",
       "        vertical-align: top;\n",
       "    }\n",
       "\n",
       "    .dataframe thead th {\n",
       "        text-align: right;\n",
       "    }\n",
       "</style>\n",
       "<table border=\"1\" class=\"dataframe\">\n",
       "  <thead>\n",
       "    <tr style=\"text-align: right;\">\n",
       "      <th></th>\n",
       "      <th>id</th>\n",
       "      <th>d_l_match_yn</th>\n",
       "      <th>d_m_match_yn</th>\n",
       "      <th>d_s_match_yn</th>\n",
       "      <th>h_l_match_yn</th>\n",
       "      <th>h_m_match_yn</th>\n",
       "      <th>h_s_match_yn</th>\n",
       "      <th>person_attribute_a</th>\n",
       "      <th>person_attribute_a_1</th>\n",
       "      <th>person_attribute_b</th>\n",
       "      <th>...</th>\n",
       "      <th>contents_attribute_k</th>\n",
       "      <th>contents_attribute_l</th>\n",
       "      <th>contents_attribute_d</th>\n",
       "      <th>contents_attribute_m</th>\n",
       "      <th>contents_attribute_e</th>\n",
       "      <th>contents_attribute_h</th>\n",
       "      <th>person_rn</th>\n",
       "      <th>contents_rn</th>\n",
       "      <th>contents_open_dt</th>\n",
       "      <th>target</th>\n",
       "    </tr>\n",
       "  </thead>\n",
       "  <tbody>\n",
       "    <tr>\n",
       "      <th>3319</th>\n",
       "      <td>3319</td>\n",
       "      <td>False</td>\n",
       "      <td>False</td>\n",
       "      <td>False</td>\n",
       "      <td>True</td>\n",
       "      <td>False</td>\n",
       "      <td>False</td>\n",
       "      <td>1</td>\n",
       "      <td>6</td>\n",
       "      <td>2</td>\n",
       "      <td>...</td>\n",
       "      <td>2</td>\n",
       "      <td>1151</td>\n",
       "      <td>756</td>\n",
       "      <td>5</td>\n",
       "      <td>4</td>\n",
       "      <td>108</td>\n",
       "      <td>627445</td>\n",
       "      <td>414363</td>\n",
       "      <td>2020-02-13 02:03:32</td>\n",
       "      <td>1</td>\n",
       "    </tr>\n",
       "    <tr>\n",
       "      <th>4843</th>\n",
       "      <td>4843</td>\n",
       "      <td>False</td>\n",
       "      <td>False</td>\n",
       "      <td>False</td>\n",
       "      <td>True</td>\n",
       "      <td>False</td>\n",
       "      <td>False</td>\n",
       "      <td>1</td>\n",
       "      <td>6</td>\n",
       "      <td>2</td>\n",
       "      <td>...</td>\n",
       "      <td>2</td>\n",
       "      <td>361</td>\n",
       "      <td>978</td>\n",
       "      <td>2</td>\n",
       "      <td>5</td>\n",
       "      <td>139</td>\n",
       "      <td>627445</td>\n",
       "      <td>357354</td>\n",
       "      <td>2020-02-09 21:58:11</td>\n",
       "      <td>0</td>\n",
       "    </tr>\n",
       "    <tr>\n",
       "      <th>5752</th>\n",
       "      <td>5752</td>\n",
       "      <td>False</td>\n",
       "      <td>False</td>\n",
       "      <td>False</td>\n",
       "      <td>True</td>\n",
       "      <td>False</td>\n",
       "      <td>False</td>\n",
       "      <td>1</td>\n",
       "      <td>6</td>\n",
       "      <td>2</td>\n",
       "      <td>...</td>\n",
       "      <td>2</td>\n",
       "      <td>749</td>\n",
       "      <td>95</td>\n",
       "      <td>2</td>\n",
       "      <td>3</td>\n",
       "      <td>139</td>\n",
       "      <td>627445</td>\n",
       "      <td>358408</td>\n",
       "      <td>2020-02-19 12:47:33</td>\n",
       "      <td>1</td>\n",
       "    </tr>\n",
       "    <tr>\n",
       "      <th>16588</th>\n",
       "      <td>16588</td>\n",
       "      <td>False</td>\n",
       "      <td>False</td>\n",
       "      <td>False</td>\n",
       "      <td>False</td>\n",
       "      <td>False</td>\n",
       "      <td>False</td>\n",
       "      <td>1</td>\n",
       "      <td>6</td>\n",
       "      <td>2</td>\n",
       "      <td>...</td>\n",
       "      <td>2</td>\n",
       "      <td>702</td>\n",
       "      <td>750</td>\n",
       "      <td>5</td>\n",
       "      <td>4</td>\n",
       "      <td>22</td>\n",
       "      <td>627445</td>\n",
       "      <td>107394</td>\n",
       "      <td>2020-02-19 01:06:53</td>\n",
       "      <td>1</td>\n",
       "    </tr>\n",
       "    <tr>\n",
       "      <th>19979</th>\n",
       "      <td>19979</td>\n",
       "      <td>False</td>\n",
       "      <td>False</td>\n",
       "      <td>False</td>\n",
       "      <td>True</td>\n",
       "      <td>False</td>\n",
       "      <td>False</td>\n",
       "      <td>1</td>\n",
       "      <td>6</td>\n",
       "      <td>2</td>\n",
       "      <td>...</td>\n",
       "      <td>2</td>\n",
       "      <td>1805</td>\n",
       "      <td>38</td>\n",
       "      <td>1</td>\n",
       "      <td>4</td>\n",
       "      <td>127</td>\n",
       "      <td>627445</td>\n",
       "      <td>425267</td>\n",
       "      <td>2020-02-14 11:53:53</td>\n",
       "      <td>1</td>\n",
       "    </tr>\n",
       "    <tr>\n",
       "      <th>52916</th>\n",
       "      <td>52916</td>\n",
       "      <td>False</td>\n",
       "      <td>False</td>\n",
       "      <td>False</td>\n",
       "      <td>True</td>\n",
       "      <td>False</td>\n",
       "      <td>False</td>\n",
       "      <td>1</td>\n",
       "      <td>6</td>\n",
       "      <td>2</td>\n",
       "      <td>...</td>\n",
       "      <td>2</td>\n",
       "      <td>572</td>\n",
       "      <td>978</td>\n",
       "      <td>1</td>\n",
       "      <td>6</td>\n",
       "      <td>128</td>\n",
       "      <td>627445</td>\n",
       "      <td>415662</td>\n",
       "      <td>2020-02-26 21:54:32</td>\n",
       "      <td>1</td>\n",
       "    </tr>\n",
       "    <tr>\n",
       "      <th>94001</th>\n",
       "      <td>94001</td>\n",
       "      <td>False</td>\n",
       "      <td>False</td>\n",
       "      <td>False</td>\n",
       "      <td>True</td>\n",
       "      <td>False</td>\n",
       "      <td>False</td>\n",
       "      <td>1</td>\n",
       "      <td>6</td>\n",
       "      <td>2</td>\n",
       "      <td>...</td>\n",
       "      <td>2</td>\n",
       "      <td>975</td>\n",
       "      <td>768</td>\n",
       "      <td>1</td>\n",
       "      <td>4</td>\n",
       "      <td>107</td>\n",
       "      <td>627445</td>\n",
       "      <td>415479</td>\n",
       "      <td>2020-02-19 22:11:57</td>\n",
       "      <td>1</td>\n",
       "    </tr>\n",
       "    <tr>\n",
       "      <th>117891</th>\n",
       "      <td>117891</td>\n",
       "      <td>False</td>\n",
       "      <td>False</td>\n",
       "      <td>False</td>\n",
       "      <td>False</td>\n",
       "      <td>False</td>\n",
       "      <td>False</td>\n",
       "      <td>1</td>\n",
       "      <td>6</td>\n",
       "      <td>2</td>\n",
       "      <td>...</td>\n",
       "      <td>2</td>\n",
       "      <td>654</td>\n",
       "      <td>748</td>\n",
       "      <td>4</td>\n",
       "      <td>4</td>\n",
       "      <td>22</td>\n",
       "      <td>627445</td>\n",
       "      <td>64968</td>\n",
       "      <td>2020-02-14 18:50:17</td>\n",
       "      <td>1</td>\n",
       "    </tr>\n",
       "    <tr>\n",
       "      <th>124206</th>\n",
       "      <td>124206</td>\n",
       "      <td>False</td>\n",
       "      <td>False</td>\n",
       "      <td>False</td>\n",
       "      <td>True</td>\n",
       "      <td>False</td>\n",
       "      <td>False</td>\n",
       "      <td>1</td>\n",
       "      <td>6</td>\n",
       "      <td>2</td>\n",
       "      <td>...</td>\n",
       "      <td>2</td>\n",
       "      <td>757</td>\n",
       "      <td>978</td>\n",
       "      <td>1</td>\n",
       "      <td>4</td>\n",
       "      <td>109</td>\n",
       "      <td>627445</td>\n",
       "      <td>400244</td>\n",
       "      <td>2020-02-10 16:12:55</td>\n",
       "      <td>0</td>\n",
       "    </tr>\n",
       "    <tr>\n",
       "      <th>129379</th>\n",
       "      <td>129379</td>\n",
       "      <td>False</td>\n",
       "      <td>False</td>\n",
       "      <td>False</td>\n",
       "      <td>False</td>\n",
       "      <td>False</td>\n",
       "      <td>False</td>\n",
       "      <td>1</td>\n",
       "      <td>6</td>\n",
       "      <td>2</td>\n",
       "      <td>...</td>\n",
       "      <td>2</td>\n",
       "      <td>693</td>\n",
       "      <td>46</td>\n",
       "      <td>2</td>\n",
       "      <td>10</td>\n",
       "      <td>43</td>\n",
       "      <td>627445</td>\n",
       "      <td>107568</td>\n",
       "      <td>2020-02-20 22:14:48</td>\n",
       "      <td>0</td>\n",
       "    </tr>\n",
       "    <tr>\n",
       "      <th>145173</th>\n",
       "      <td>145173</td>\n",
       "      <td>False</td>\n",
       "      <td>False</td>\n",
       "      <td>False</td>\n",
       "      <td>True</td>\n",
       "      <td>False</td>\n",
       "      <td>False</td>\n",
       "      <td>1</td>\n",
       "      <td>6</td>\n",
       "      <td>2</td>\n",
       "      <td>...</td>\n",
       "      <td>1</td>\n",
       "      <td>706</td>\n",
       "      <td>978</td>\n",
       "      <td>2</td>\n",
       "      <td>6</td>\n",
       "      <td>109</td>\n",
       "      <td>627445</td>\n",
       "      <td>400173</td>\n",
       "      <td>2020-02-10 15:26:48</td>\n",
       "      <td>1</td>\n",
       "    </tr>\n",
       "    <tr>\n",
       "      <th>190904</th>\n",
       "      <td>190904</td>\n",
       "      <td>True</td>\n",
       "      <td>False</td>\n",
       "      <td>False</td>\n",
       "      <td>True</td>\n",
       "      <td>False</td>\n",
       "      <td>False</td>\n",
       "      <td>1</td>\n",
       "      <td>6</td>\n",
       "      <td>2</td>\n",
       "      <td>...</td>\n",
       "      <td>2</td>\n",
       "      <td>597</td>\n",
       "      <td>246</td>\n",
       "      <td>1</td>\n",
       "      <td>5</td>\n",
       "      <td>108</td>\n",
       "      <td>627445</td>\n",
       "      <td>415171</td>\n",
       "      <td>2020-02-10 08:42:58</td>\n",
       "      <td>0</td>\n",
       "    </tr>\n",
       "    <tr>\n",
       "      <th>194295</th>\n",
       "      <td>194295</td>\n",
       "      <td>False</td>\n",
       "      <td>False</td>\n",
       "      <td>False</td>\n",
       "      <td>False</td>\n",
       "      <td>False</td>\n",
       "      <td>False</td>\n",
       "      <td>1</td>\n",
       "      <td>6</td>\n",
       "      <td>2</td>\n",
       "      <td>...</td>\n",
       "      <td>2</td>\n",
       "      <td>699</td>\n",
       "      <td>978</td>\n",
       "      <td>1</td>\n",
       "      <td>3</td>\n",
       "      <td>199</td>\n",
       "      <td>627445</td>\n",
       "      <td>713963</td>\n",
       "      <td>2020-02-13 22:01:51</td>\n",
       "      <td>0</td>\n",
       "    </tr>\n",
       "    <tr>\n",
       "      <th>224728</th>\n",
       "      <td>224728</td>\n",
       "      <td>False</td>\n",
       "      <td>False</td>\n",
       "      <td>False</td>\n",
       "      <td>True</td>\n",
       "      <td>False</td>\n",
       "      <td>False</td>\n",
       "      <td>1</td>\n",
       "      <td>6</td>\n",
       "      <td>2</td>\n",
       "      <td>...</td>\n",
       "      <td>2</td>\n",
       "      <td>737</td>\n",
       "      <td>978</td>\n",
       "      <td>2</td>\n",
       "      <td>5</td>\n",
       "      <td>139</td>\n",
       "      <td>627445</td>\n",
       "      <td>357882</td>\n",
       "      <td>2020-02-12 17:31:28</td>\n",
       "      <td>1</td>\n",
       "    </tr>\n",
       "    <tr>\n",
       "      <th>317736</th>\n",
       "      <td>317736</td>\n",
       "      <td>False</td>\n",
       "      <td>False</td>\n",
       "      <td>False</td>\n",
       "      <td>True</td>\n",
       "      <td>False</td>\n",
       "      <td>False</td>\n",
       "      <td>1</td>\n",
       "      <td>6</td>\n",
       "      <td>2</td>\n",
       "      <td>...</td>\n",
       "      <td>2</td>\n",
       "      <td>693</td>\n",
       "      <td>978</td>\n",
       "      <td>2</td>\n",
       "      <td>6</td>\n",
       "      <td>127</td>\n",
       "      <td>627445</td>\n",
       "      <td>425259</td>\n",
       "      <td>2020-02-13 12:54:56</td>\n",
       "      <td>0</td>\n",
       "    </tr>\n",
       "    <tr>\n",
       "      <th>335861</th>\n",
       "      <td>335861</td>\n",
       "      <td>False</td>\n",
       "      <td>False</td>\n",
       "      <td>False</td>\n",
       "      <td>True</td>\n",
       "      <td>False</td>\n",
       "      <td>False</td>\n",
       "      <td>1</td>\n",
       "      <td>6</td>\n",
       "      <td>2</td>\n",
       "      <td>...</td>\n",
       "      <td>2</td>\n",
       "      <td>572</td>\n",
       "      <td>978</td>\n",
       "      <td>2</td>\n",
       "      <td>5</td>\n",
       "      <td>127</td>\n",
       "      <td>627445</td>\n",
       "      <td>425380</td>\n",
       "      <td>2020-02-17 13:06:40</td>\n",
       "      <td>1</td>\n",
       "    </tr>\n",
       "    <tr>\n",
       "      <th>374641</th>\n",
       "      <td>374641</td>\n",
       "      <td>False</td>\n",
       "      <td>False</td>\n",
       "      <td>False</td>\n",
       "      <td>True</td>\n",
       "      <td>False</td>\n",
       "      <td>False</td>\n",
       "      <td>1</td>\n",
       "      <td>6</td>\n",
       "      <td>2</td>\n",
       "      <td>...</td>\n",
       "      <td>2</td>\n",
       "      <td>637</td>\n",
       "      <td>1070</td>\n",
       "      <td>1</td>\n",
       "      <td>6</td>\n",
       "      <td>107</td>\n",
       "      <td>627445</td>\n",
       "      <td>414448</td>\n",
       "      <td>2020-02-19 22:19:10</td>\n",
       "      <td>1</td>\n",
       "    </tr>\n",
       "    <tr>\n",
       "      <th>379382</th>\n",
       "      <td>379382</td>\n",
       "      <td>False</td>\n",
       "      <td>False</td>\n",
       "      <td>False</td>\n",
       "      <td>True</td>\n",
       "      <td>False</td>\n",
       "      <td>False</td>\n",
       "      <td>1</td>\n",
       "      <td>6</td>\n",
       "      <td>2</td>\n",
       "      <td>...</td>\n",
       "      <td>2</td>\n",
       "      <td>283</td>\n",
       "      <td>95</td>\n",
       "      <td>3</td>\n",
       "      <td>5</td>\n",
       "      <td>139</td>\n",
       "      <td>627445</td>\n",
       "      <td>357755</td>\n",
       "      <td>2020-02-13 01:21:25</td>\n",
       "      <td>1</td>\n",
       "    </tr>\n",
       "    <tr>\n",
       "      <th>391452</th>\n",
       "      <td>391452</td>\n",
       "      <td>False</td>\n",
       "      <td>False</td>\n",
       "      <td>False</td>\n",
       "      <td>False</td>\n",
       "      <td>False</td>\n",
       "      <td>False</td>\n",
       "      <td>1</td>\n",
       "      <td>6</td>\n",
       "      <td>2</td>\n",
       "      <td>...</td>\n",
       "      <td>2</td>\n",
       "      <td>732</td>\n",
       "      <td>102</td>\n",
       "      <td>2</td>\n",
       "      <td>4</td>\n",
       "      <td>177</td>\n",
       "      <td>627445</td>\n",
       "      <td>701887</td>\n",
       "      <td>2020-02-14 17:26:15</td>\n",
       "      <td>0</td>\n",
       "    </tr>\n",
       "    <tr>\n",
       "      <th>400004</th>\n",
       "      <td>400004</td>\n",
       "      <td>False</td>\n",
       "      <td>False</td>\n",
       "      <td>False</td>\n",
       "      <td>True</td>\n",
       "      <td>False</td>\n",
       "      <td>False</td>\n",
       "      <td>1</td>\n",
       "      <td>6</td>\n",
       "      <td>2</td>\n",
       "      <td>...</td>\n",
       "      <td>2</td>\n",
       "      <td>527</td>\n",
       "      <td>969</td>\n",
       "      <td>1</td>\n",
       "      <td>3</td>\n",
       "      <td>127</td>\n",
       "      <td>627445</td>\n",
       "      <td>425204</td>\n",
       "      <td>2020-02-16 23:11:45</td>\n",
       "      <td>0</td>\n",
       "    </tr>\n",
       "  </tbody>\n",
       "</table>\n",
       "<p>20 rows × 35 columns</p>\n",
       "</div>"
      ],
      "text/plain": [
       "            id  d_l_match_yn  d_m_match_yn  d_s_match_yn  h_l_match_yn  \\\n",
       "3319      3319         False         False         False          True   \n",
       "4843      4843         False         False         False          True   \n",
       "5752      5752         False         False         False          True   \n",
       "16588    16588         False         False         False         False   \n",
       "19979    19979         False         False         False          True   \n",
       "52916    52916         False         False         False          True   \n",
       "94001    94001         False         False         False          True   \n",
       "117891  117891         False         False         False         False   \n",
       "124206  124206         False         False         False          True   \n",
       "129379  129379         False         False         False         False   \n",
       "145173  145173         False         False         False          True   \n",
       "190904  190904          True         False         False          True   \n",
       "194295  194295         False         False         False         False   \n",
       "224728  224728         False         False         False          True   \n",
       "317736  317736         False         False         False          True   \n",
       "335861  335861         False         False         False          True   \n",
       "374641  374641         False         False         False          True   \n",
       "379382  379382         False         False         False          True   \n",
       "391452  391452         False         False         False         False   \n",
       "400004  400004         False         False         False          True   \n",
       "\n",
       "        h_m_match_yn  h_s_match_yn  person_attribute_a  person_attribute_a_1  \\\n",
       "3319           False         False                   1                     6   \n",
       "4843           False         False                   1                     6   \n",
       "5752           False         False                   1                     6   \n",
       "16588          False         False                   1                     6   \n",
       "19979          False         False                   1                     6   \n",
       "52916          False         False                   1                     6   \n",
       "94001          False         False                   1                     6   \n",
       "117891         False         False                   1                     6   \n",
       "124206         False         False                   1                     6   \n",
       "129379         False         False                   1                     6   \n",
       "145173         False         False                   1                     6   \n",
       "190904         False         False                   1                     6   \n",
       "194295         False         False                   1                     6   \n",
       "224728         False         False                   1                     6   \n",
       "317736         False         False                   1                     6   \n",
       "335861         False         False                   1                     6   \n",
       "374641         False         False                   1                     6   \n",
       "379382         False         False                   1                     6   \n",
       "391452         False         False                   1                     6   \n",
       "400004         False         False                   1                     6   \n",
       "\n",
       "        person_attribute_b  ...  contents_attribute_k  contents_attribute_l  \\\n",
       "3319                     2  ...                     2                  1151   \n",
       "4843                     2  ...                     2                   361   \n",
       "5752                     2  ...                     2                   749   \n",
       "16588                    2  ...                     2                   702   \n",
       "19979                    2  ...                     2                  1805   \n",
       "52916                    2  ...                     2                   572   \n",
       "94001                    2  ...                     2                   975   \n",
       "117891                   2  ...                     2                   654   \n",
       "124206                   2  ...                     2                   757   \n",
       "129379                   2  ...                     2                   693   \n",
       "145173                   2  ...                     1                   706   \n",
       "190904                   2  ...                     2                   597   \n",
       "194295                   2  ...                     2                   699   \n",
       "224728                   2  ...                     2                   737   \n",
       "317736                   2  ...                     2                   693   \n",
       "335861                   2  ...                     2                   572   \n",
       "374641                   2  ...                     2                   637   \n",
       "379382                   2  ...                     2                   283   \n",
       "391452                   2  ...                     2                   732   \n",
       "400004                   2  ...                     2                   527   \n",
       "\n",
       "        contents_attribute_d  contents_attribute_m  contents_attribute_e  \\\n",
       "3319                     756                     5                     4   \n",
       "4843                     978                     2                     5   \n",
       "5752                      95                     2                     3   \n",
       "16588                    750                     5                     4   \n",
       "19979                     38                     1                     4   \n",
       "52916                    978                     1                     6   \n",
       "94001                    768                     1                     4   \n",
       "117891                   748                     4                     4   \n",
       "124206                   978                     1                     4   \n",
       "129379                    46                     2                    10   \n",
       "145173                   978                     2                     6   \n",
       "190904                   246                     1                     5   \n",
       "194295                   978                     1                     3   \n",
       "224728                   978                     2                     5   \n",
       "317736                   978                     2                     6   \n",
       "335861                   978                     2                     5   \n",
       "374641                  1070                     1                     6   \n",
       "379382                    95                     3                     5   \n",
       "391452                   102                     2                     4   \n",
       "400004                   969                     1                     3   \n",
       "\n",
       "        contents_attribute_h  person_rn  contents_rn     contents_open_dt  \\\n",
       "3319                     108     627445       414363  2020-02-13 02:03:32   \n",
       "4843                     139     627445       357354  2020-02-09 21:58:11   \n",
       "5752                     139     627445       358408  2020-02-19 12:47:33   \n",
       "16588                     22     627445       107394  2020-02-19 01:06:53   \n",
       "19979                    127     627445       425267  2020-02-14 11:53:53   \n",
       "52916                    128     627445       415662  2020-02-26 21:54:32   \n",
       "94001                    107     627445       415479  2020-02-19 22:11:57   \n",
       "117891                    22     627445        64968  2020-02-14 18:50:17   \n",
       "124206                   109     627445       400244  2020-02-10 16:12:55   \n",
       "129379                    43     627445       107568  2020-02-20 22:14:48   \n",
       "145173                   109     627445       400173  2020-02-10 15:26:48   \n",
       "190904                   108     627445       415171  2020-02-10 08:42:58   \n",
       "194295                   199     627445       713963  2020-02-13 22:01:51   \n",
       "224728                   139     627445       357882  2020-02-12 17:31:28   \n",
       "317736                   127     627445       425259  2020-02-13 12:54:56   \n",
       "335861                   127     627445       425380  2020-02-17 13:06:40   \n",
       "374641                   107     627445       414448  2020-02-19 22:19:10   \n",
       "379382                   139     627445       357755  2020-02-13 01:21:25   \n",
       "391452                   177     627445       701887  2020-02-14 17:26:15   \n",
       "400004                   127     627445       425204  2020-02-16 23:11:45   \n",
       "\n",
       "        target  \n",
       "3319         1  \n",
       "4843         0  \n",
       "5752         1  \n",
       "16588        1  \n",
       "19979        1  \n",
       "52916        1  \n",
       "94001        1  \n",
       "117891       1  \n",
       "124206       0  \n",
       "129379       0  \n",
       "145173       1  \n",
       "190904       0  \n",
       "194295       0  \n",
       "224728       1  \n",
       "317736       0  \n",
       "335861       1  \n",
       "374641       1  \n",
       "379382       1  \n",
       "391452       0  \n",
       "400004       0  \n",
       "\n",
       "[20 rows x 35 columns]"
      ]
     },
     "execution_count": 74,
     "metadata": {},
     "output_type": "execute_result"
    }
   ],
   "source": [
    "train[train['person_rn']==627445]"
   ]
  },
  {
   "cell_type": "code",
   "execution_count": 75,
   "metadata": {},
   "outputs": [
    {
     "data": {
      "text/plain": [
       "array([618822, 571659, 399816, ..., 648140, 470285, 484528], dtype=int64)"
      ]
     },
     "execution_count": 75,
     "metadata": {},
     "output_type": "execute_result"
    }
   ],
   "source": [
    "train.person_rn.unique()"
   ]
  },
  {
   "cell_type": "code",
   "execution_count": 76,
   "metadata": {},
   "outputs": [
    {
     "data": {
      "text/plain": [
       "22078     39\n",
       "76824     36\n",
       "138209    32\n",
       "72025     29\n",
       "402922    28\n",
       "          ..\n",
       "581489     1\n",
       "65397      1\n",
       "59254      1\n",
       "585591     1\n",
       "571531     1\n",
       "Name: contents_rn, Length: 283359, dtype: int64"
      ]
     },
     "execution_count": 76,
     "metadata": {},
     "output_type": "execute_result"
    }
   ],
   "source": [
    "train.contents_rn.value_counts()"
   ]
  },
  {
   "cell_type": "code",
   "execution_count": 77,
   "metadata": {},
   "outputs": [
    {
     "data": {
      "text/html": [
       "<div>\n",
       "<style scoped>\n",
       "    .dataframe tbody tr th:only-of-type {\n",
       "        vertical-align: middle;\n",
       "    }\n",
       "\n",
       "    .dataframe tbody tr th {\n",
       "        vertical-align: top;\n",
       "    }\n",
       "\n",
       "    .dataframe thead th {\n",
       "        text-align: right;\n",
       "    }\n",
       "</style>\n",
       "<table border=\"1\" class=\"dataframe\">\n",
       "  <thead>\n",
       "    <tr style=\"text-align: right;\">\n",
       "      <th></th>\n",
       "      <th>id</th>\n",
       "      <th>d_l_match_yn</th>\n",
       "      <th>d_m_match_yn</th>\n",
       "      <th>d_s_match_yn</th>\n",
       "      <th>h_l_match_yn</th>\n",
       "      <th>h_m_match_yn</th>\n",
       "      <th>h_s_match_yn</th>\n",
       "      <th>person_attribute_a</th>\n",
       "      <th>person_attribute_a_1</th>\n",
       "      <th>person_attribute_b</th>\n",
       "      <th>...</th>\n",
       "      <th>contents_attribute_k</th>\n",
       "      <th>contents_attribute_l</th>\n",
       "      <th>contents_attribute_d</th>\n",
       "      <th>contents_attribute_m</th>\n",
       "      <th>contents_attribute_e</th>\n",
       "      <th>contents_attribute_h</th>\n",
       "      <th>person_rn</th>\n",
       "      <th>contents_rn</th>\n",
       "      <th>contents_open_dt</th>\n",
       "      <th>target</th>\n",
       "    </tr>\n",
       "  </thead>\n",
       "  <tbody>\n",
       "    <tr>\n",
       "      <th>120004</th>\n",
       "      <td>120004</td>\n",
       "      <td>True</td>\n",
       "      <td>True</td>\n",
       "      <td>True</td>\n",
       "      <td>False</td>\n",
       "      <td>False</td>\n",
       "      <td>False</td>\n",
       "      <td>1</td>\n",
       "      <td>3</td>\n",
       "      <td>2</td>\n",
       "      <td>...</td>\n",
       "      <td>2</td>\n",
       "      <td>1681</td>\n",
       "      <td>703</td>\n",
       "      <td>3</td>\n",
       "      <td>4</td>\n",
       "      <td>26</td>\n",
       "      <td>619187</td>\n",
       "      <td>22078</td>\n",
       "      <td>2020-07-22 08:39:13</td>\n",
       "      <td>1</td>\n",
       "    </tr>\n",
       "    <tr>\n",
       "      <th>197073</th>\n",
       "      <td>197073</td>\n",
       "      <td>True</td>\n",
       "      <td>True</td>\n",
       "      <td>True</td>\n",
       "      <td>True</td>\n",
       "      <td>False</td>\n",
       "      <td>False</td>\n",
       "      <td>1</td>\n",
       "      <td>0</td>\n",
       "      <td>4</td>\n",
       "      <td>...</td>\n",
       "      <td>2</td>\n",
       "      <td>1681</td>\n",
       "      <td>703</td>\n",
       "      <td>3</td>\n",
       "      <td>4</td>\n",
       "      <td>26</td>\n",
       "      <td>63459</td>\n",
       "      <td>22078</td>\n",
       "      <td>2020-09-04 16:03:26</td>\n",
       "      <td>1</td>\n",
       "    </tr>\n",
       "    <tr>\n",
       "      <th>197074</th>\n",
       "      <td>197074</td>\n",
       "      <td>True</td>\n",
       "      <td>True</td>\n",
       "      <td>False</td>\n",
       "      <td>True</td>\n",
       "      <td>False</td>\n",
       "      <td>False</td>\n",
       "      <td>1</td>\n",
       "      <td>2</td>\n",
       "      <td>4</td>\n",
       "      <td>...</td>\n",
       "      <td>2</td>\n",
       "      <td>1681</td>\n",
       "      <td>703</td>\n",
       "      <td>3</td>\n",
       "      <td>4</td>\n",
       "      <td>26</td>\n",
       "      <td>43955</td>\n",
       "      <td>22078</td>\n",
       "      <td>2020-07-23 12:20:09</td>\n",
       "      <td>1</td>\n",
       "    </tr>\n",
       "    <tr>\n",
       "      <th>197075</th>\n",
       "      <td>197075</td>\n",
       "      <td>False</td>\n",
       "      <td>False</td>\n",
       "      <td>False</td>\n",
       "      <td>False</td>\n",
       "      <td>False</td>\n",
       "      <td>False</td>\n",
       "      <td>2</td>\n",
       "      <td>0</td>\n",
       "      <td>4</td>\n",
       "      <td>...</td>\n",
       "      <td>2</td>\n",
       "      <td>1681</td>\n",
       "      <td>703</td>\n",
       "      <td>3</td>\n",
       "      <td>4</td>\n",
       "      <td>26</td>\n",
       "      <td>636435</td>\n",
       "      <td>22078</td>\n",
       "      <td>2020-09-11 14:41:37</td>\n",
       "      <td>1</td>\n",
       "    </tr>\n",
       "    <tr>\n",
       "      <th>197076</th>\n",
       "      <td>197076</td>\n",
       "      <td>True</td>\n",
       "      <td>True</td>\n",
       "      <td>False</td>\n",
       "      <td>False</td>\n",
       "      <td>False</td>\n",
       "      <td>False</td>\n",
       "      <td>2</td>\n",
       "      <td>0</td>\n",
       "      <td>4</td>\n",
       "      <td>...</td>\n",
       "      <td>2</td>\n",
       "      <td>1681</td>\n",
       "      <td>703</td>\n",
       "      <td>3</td>\n",
       "      <td>4</td>\n",
       "      <td>26</td>\n",
       "      <td>699027</td>\n",
       "      <td>22078</td>\n",
       "      <td>2020-08-04 18:59:17</td>\n",
       "      <td>1</td>\n",
       "    </tr>\n",
       "    <tr>\n",
       "      <th>207726</th>\n",
       "      <td>207726</td>\n",
       "      <td>True</td>\n",
       "      <td>True</td>\n",
       "      <td>False</td>\n",
       "      <td>True</td>\n",
       "      <td>False</td>\n",
       "      <td>False</td>\n",
       "      <td>1</td>\n",
       "      <td>4</td>\n",
       "      <td>2</td>\n",
       "      <td>...</td>\n",
       "      <td>2</td>\n",
       "      <td>1681</td>\n",
       "      <td>703</td>\n",
       "      <td>3</td>\n",
       "      <td>4</td>\n",
       "      <td>26</td>\n",
       "      <td>5138</td>\n",
       "      <td>22078</td>\n",
       "      <td>2020-08-31 17:10:20</td>\n",
       "      <td>0</td>\n",
       "    </tr>\n",
       "    <tr>\n",
       "      <th>207728</th>\n",
       "      <td>207728</td>\n",
       "      <td>True</td>\n",
       "      <td>True</td>\n",
       "      <td>False</td>\n",
       "      <td>True</td>\n",
       "      <td>False</td>\n",
       "      <td>False</td>\n",
       "      <td>2</td>\n",
       "      <td>0</td>\n",
       "      <td>4</td>\n",
       "      <td>...</td>\n",
       "      <td>2</td>\n",
       "      <td>1681</td>\n",
       "      <td>703</td>\n",
       "      <td>3</td>\n",
       "      <td>4</td>\n",
       "      <td>26</td>\n",
       "      <td>89818</td>\n",
       "      <td>22078</td>\n",
       "      <td>2020-07-21 19:17:09</td>\n",
       "      <td>1</td>\n",
       "    </tr>\n",
       "    <tr>\n",
       "      <th>207729</th>\n",
       "      <td>207729</td>\n",
       "      <td>True</td>\n",
       "      <td>False</td>\n",
       "      <td>False</td>\n",
       "      <td>True</td>\n",
       "      <td>False</td>\n",
       "      <td>False</td>\n",
       "      <td>1</td>\n",
       "      <td>1</td>\n",
       "      <td>5</td>\n",
       "      <td>...</td>\n",
       "      <td>2</td>\n",
       "      <td>1681</td>\n",
       "      <td>703</td>\n",
       "      <td>3</td>\n",
       "      <td>4</td>\n",
       "      <td>26</td>\n",
       "      <td>108598</td>\n",
       "      <td>22078</td>\n",
       "      <td>2020-07-25 23:27:24</td>\n",
       "      <td>1</td>\n",
       "    </tr>\n",
       "    <tr>\n",
       "      <th>258230</th>\n",
       "      <td>258230</td>\n",
       "      <td>True</td>\n",
       "      <td>False</td>\n",
       "      <td>False</td>\n",
       "      <td>True</td>\n",
       "      <td>False</td>\n",
       "      <td>False</td>\n",
       "      <td>2</td>\n",
       "      <td>0</td>\n",
       "      <td>2</td>\n",
       "      <td>...</td>\n",
       "      <td>2</td>\n",
       "      <td>1681</td>\n",
       "      <td>703</td>\n",
       "      <td>3</td>\n",
       "      <td>4</td>\n",
       "      <td>26</td>\n",
       "      <td>94582</td>\n",
       "      <td>22078</td>\n",
       "      <td>2020-09-11 17:35:30</td>\n",
       "      <td>1</td>\n",
       "    </tr>\n",
       "    <tr>\n",
       "      <th>258231</th>\n",
       "      <td>258231</td>\n",
       "      <td>False</td>\n",
       "      <td>False</td>\n",
       "      <td>False</td>\n",
       "      <td>True</td>\n",
       "      <td>False</td>\n",
       "      <td>False</td>\n",
       "      <td>2</td>\n",
       "      <td>6</td>\n",
       "      <td>4</td>\n",
       "      <td>...</td>\n",
       "      <td>2</td>\n",
       "      <td>1681</td>\n",
       "      <td>703</td>\n",
       "      <td>3</td>\n",
       "      <td>4</td>\n",
       "      <td>26</td>\n",
       "      <td>113008</td>\n",
       "      <td>22078</td>\n",
       "      <td>2020-07-22 10:08:01</td>\n",
       "      <td>1</td>\n",
       "    </tr>\n",
       "    <tr>\n",
       "      <th>258232</th>\n",
       "      <td>258232</td>\n",
       "      <td>False</td>\n",
       "      <td>False</td>\n",
       "      <td>False</td>\n",
       "      <td>True</td>\n",
       "      <td>False</td>\n",
       "      <td>False</td>\n",
       "      <td>1</td>\n",
       "      <td>5</td>\n",
       "      <td>2</td>\n",
       "      <td>...</td>\n",
       "      <td>2</td>\n",
       "      <td>1681</td>\n",
       "      <td>703</td>\n",
       "      <td>3</td>\n",
       "      <td>4</td>\n",
       "      <td>26</td>\n",
       "      <td>90544</td>\n",
       "      <td>22078</td>\n",
       "      <td>2020-08-31 10:12:38</td>\n",
       "      <td>0</td>\n",
       "    </tr>\n",
       "    <tr>\n",
       "      <th>258233</th>\n",
       "      <td>258233</td>\n",
       "      <td>True</td>\n",
       "      <td>True</td>\n",
       "      <td>True</td>\n",
       "      <td>False</td>\n",
       "      <td>False</td>\n",
       "      <td>False</td>\n",
       "      <td>1</td>\n",
       "      <td>1</td>\n",
       "      <td>2</td>\n",
       "      <td>...</td>\n",
       "      <td>2</td>\n",
       "      <td>1681</td>\n",
       "      <td>703</td>\n",
       "      <td>3</td>\n",
       "      <td>4</td>\n",
       "      <td>26</td>\n",
       "      <td>682208</td>\n",
       "      <td>22078</td>\n",
       "      <td>2020-07-31 13:41:12</td>\n",
       "      <td>0</td>\n",
       "    </tr>\n",
       "    <tr>\n",
       "      <th>258263</th>\n",
       "      <td>258263</td>\n",
       "      <td>True</td>\n",
       "      <td>True</td>\n",
       "      <td>False</td>\n",
       "      <td>True</td>\n",
       "      <td>False</td>\n",
       "      <td>False</td>\n",
       "      <td>1</td>\n",
       "      <td>2</td>\n",
       "      <td>2</td>\n",
       "      <td>...</td>\n",
       "      <td>2</td>\n",
       "      <td>1681</td>\n",
       "      <td>703</td>\n",
       "      <td>3</td>\n",
       "      <td>4</td>\n",
       "      <td>26</td>\n",
       "      <td>118055</td>\n",
       "      <td>22078</td>\n",
       "      <td>2020-09-01 12:18:52</td>\n",
       "      <td>1</td>\n",
       "    </tr>\n",
       "    <tr>\n",
       "      <th>258265</th>\n",
       "      <td>258265</td>\n",
       "      <td>False</td>\n",
       "      <td>False</td>\n",
       "      <td>False</td>\n",
       "      <td>False</td>\n",
       "      <td>False</td>\n",
       "      <td>False</td>\n",
       "      <td>1</td>\n",
       "      <td>6</td>\n",
       "      <td>3</td>\n",
       "      <td>...</td>\n",
       "      <td>2</td>\n",
       "      <td>1681</td>\n",
       "      <td>703</td>\n",
       "      <td>3</td>\n",
       "      <td>4</td>\n",
       "      <td>26</td>\n",
       "      <td>668538</td>\n",
       "      <td>22078</td>\n",
       "      <td>2020-07-31 21:31:46</td>\n",
       "      <td>1</td>\n",
       "    </tr>\n",
       "    <tr>\n",
       "      <th>268568</th>\n",
       "      <td>268568</td>\n",
       "      <td>True</td>\n",
       "      <td>True</td>\n",
       "      <td>True</td>\n",
       "      <td>True</td>\n",
       "      <td>True</td>\n",
       "      <td>True</td>\n",
       "      <td>2</td>\n",
       "      <td>0</td>\n",
       "      <td>3</td>\n",
       "      <td>...</td>\n",
       "      <td>2</td>\n",
       "      <td>1681</td>\n",
       "      <td>703</td>\n",
       "      <td>3</td>\n",
       "      <td>4</td>\n",
       "      <td>26</td>\n",
       "      <td>69984</td>\n",
       "      <td>22078</td>\n",
       "      <td>2020-09-14 22:11:56</td>\n",
       "      <td>1</td>\n",
       "    </tr>\n",
       "    <tr>\n",
       "      <th>268569</th>\n",
       "      <td>268569</td>\n",
       "      <td>True</td>\n",
       "      <td>False</td>\n",
       "      <td>False</td>\n",
       "      <td>False</td>\n",
       "      <td>False</td>\n",
       "      <td>False</td>\n",
       "      <td>1</td>\n",
       "      <td>3</td>\n",
       "      <td>4</td>\n",
       "      <td>...</td>\n",
       "      <td>2</td>\n",
       "      <td>1681</td>\n",
       "      <td>703</td>\n",
       "      <td>3</td>\n",
       "      <td>4</td>\n",
       "      <td>26</td>\n",
       "      <td>624479</td>\n",
       "      <td>22078</td>\n",
       "      <td>2020-07-21 20:05:59</td>\n",
       "      <td>1</td>\n",
       "    </tr>\n",
       "    <tr>\n",
       "      <th>268626</th>\n",
       "      <td>268626</td>\n",
       "      <td>True</td>\n",
       "      <td>True</td>\n",
       "      <td>True</td>\n",
       "      <td>True</td>\n",
       "      <td>False</td>\n",
       "      <td>False</td>\n",
       "      <td>1</td>\n",
       "      <td>7</td>\n",
       "      <td>3</td>\n",
       "      <td>...</td>\n",
       "      <td>2</td>\n",
       "      <td>1681</td>\n",
       "      <td>703</td>\n",
       "      <td>3</td>\n",
       "      <td>4</td>\n",
       "      <td>26</td>\n",
       "      <td>722827</td>\n",
       "      <td>22078</td>\n",
       "      <td>2020-09-03 21:56:08</td>\n",
       "      <td>1</td>\n",
       "    </tr>\n",
       "    <tr>\n",
       "      <th>274225</th>\n",
       "      <td>274225</td>\n",
       "      <td>True</td>\n",
       "      <td>True</td>\n",
       "      <td>True</td>\n",
       "      <td>True</td>\n",
       "      <td>False</td>\n",
       "      <td>False</td>\n",
       "      <td>1</td>\n",
       "      <td>4</td>\n",
       "      <td>2</td>\n",
       "      <td>...</td>\n",
       "      <td>2</td>\n",
       "      <td>1681</td>\n",
       "      <td>703</td>\n",
       "      <td>3</td>\n",
       "      <td>4</td>\n",
       "      <td>26</td>\n",
       "      <td>56939</td>\n",
       "      <td>22078</td>\n",
       "      <td>2020-07-22 17:00:12</td>\n",
       "      <td>1</td>\n",
       "    </tr>\n",
       "    <tr>\n",
       "      <th>365055</th>\n",
       "      <td>365055</td>\n",
       "      <td>True</td>\n",
       "      <td>False</td>\n",
       "      <td>False</td>\n",
       "      <td>True</td>\n",
       "      <td>False</td>\n",
       "      <td>False</td>\n",
       "      <td>1</td>\n",
       "      <td>2</td>\n",
       "      <td>3</td>\n",
       "      <td>...</td>\n",
       "      <td>2</td>\n",
       "      <td>1681</td>\n",
       "      <td>703</td>\n",
       "      <td>3</td>\n",
       "      <td>4</td>\n",
       "      <td>26</td>\n",
       "      <td>42900</td>\n",
       "      <td>22078</td>\n",
       "      <td>2020-09-03 16:35:18</td>\n",
       "      <td>1</td>\n",
       "    </tr>\n",
       "    <tr>\n",
       "      <th>365121</th>\n",
       "      <td>365121</td>\n",
       "      <td>True</td>\n",
       "      <td>True</td>\n",
       "      <td>True</td>\n",
       "      <td>True</td>\n",
       "      <td>False</td>\n",
       "      <td>False</td>\n",
       "      <td>1</td>\n",
       "      <td>2</td>\n",
       "      <td>3</td>\n",
       "      <td>...</td>\n",
       "      <td>2</td>\n",
       "      <td>1681</td>\n",
       "      <td>703</td>\n",
       "      <td>3</td>\n",
       "      <td>4</td>\n",
       "      <td>26</td>\n",
       "      <td>25931</td>\n",
       "      <td>22078</td>\n",
       "      <td>2020-07-21 15:20:15</td>\n",
       "      <td>1</td>\n",
       "    </tr>\n",
       "    <tr>\n",
       "      <th>370672</th>\n",
       "      <td>370672</td>\n",
       "      <td>True</td>\n",
       "      <td>True</td>\n",
       "      <td>False</td>\n",
       "      <td>True</td>\n",
       "      <td>False</td>\n",
       "      <td>False</td>\n",
       "      <td>1</td>\n",
       "      <td>1</td>\n",
       "      <td>2</td>\n",
       "      <td>...</td>\n",
       "      <td>2</td>\n",
       "      <td>1681</td>\n",
       "      <td>703</td>\n",
       "      <td>3</td>\n",
       "      <td>4</td>\n",
       "      <td>26</td>\n",
       "      <td>78138</td>\n",
       "      <td>22078</td>\n",
       "      <td>2020-07-24 04:44:42</td>\n",
       "      <td>1</td>\n",
       "    </tr>\n",
       "    <tr>\n",
       "      <th>370673</th>\n",
       "      <td>370673</td>\n",
       "      <td>True</td>\n",
       "      <td>True</td>\n",
       "      <td>False</td>\n",
       "      <td>True</td>\n",
       "      <td>False</td>\n",
       "      <td>False</td>\n",
       "      <td>1</td>\n",
       "      <td>2</td>\n",
       "      <td>3</td>\n",
       "      <td>...</td>\n",
       "      <td>2</td>\n",
       "      <td>1681</td>\n",
       "      <td>703</td>\n",
       "      <td>3</td>\n",
       "      <td>4</td>\n",
       "      <td>26</td>\n",
       "      <td>90477</td>\n",
       "      <td>22078</td>\n",
       "      <td>2020-08-13 22:30:04</td>\n",
       "      <td>0</td>\n",
       "    </tr>\n",
       "    <tr>\n",
       "      <th>370674</th>\n",
       "      <td>370674</td>\n",
       "      <td>True</td>\n",
       "      <td>True</td>\n",
       "      <td>False</td>\n",
       "      <td>True</td>\n",
       "      <td>False</td>\n",
       "      <td>False</td>\n",
       "      <td>1</td>\n",
       "      <td>1</td>\n",
       "      <td>3</td>\n",
       "      <td>...</td>\n",
       "      <td>2</td>\n",
       "      <td>1681</td>\n",
       "      <td>703</td>\n",
       "      <td>3</td>\n",
       "      <td>4</td>\n",
       "      <td>26</td>\n",
       "      <td>85125</td>\n",
       "      <td>22078</td>\n",
       "      <td>2020-07-21 23:12:24</td>\n",
       "      <td>1</td>\n",
       "    </tr>\n",
       "    <tr>\n",
       "      <th>370675</th>\n",
       "      <td>370675</td>\n",
       "      <td>True</td>\n",
       "      <td>True</td>\n",
       "      <td>False</td>\n",
       "      <td>False</td>\n",
       "      <td>False</td>\n",
       "      <td>False</td>\n",
       "      <td>1</td>\n",
       "      <td>5</td>\n",
       "      <td>2</td>\n",
       "      <td>...</td>\n",
       "      <td>2</td>\n",
       "      <td>1681</td>\n",
       "      <td>703</td>\n",
       "      <td>3</td>\n",
       "      <td>4</td>\n",
       "      <td>26</td>\n",
       "      <td>573692</td>\n",
       "      <td>22078</td>\n",
       "      <td>2020-08-05 16:29:52</td>\n",
       "      <td>1</td>\n",
       "    </tr>\n",
       "    <tr>\n",
       "      <th>370707</th>\n",
       "      <td>370707</td>\n",
       "      <td>False</td>\n",
       "      <td>False</td>\n",
       "      <td>False</td>\n",
       "      <td>True</td>\n",
       "      <td>False</td>\n",
       "      <td>False</td>\n",
       "      <td>2</td>\n",
       "      <td>0</td>\n",
       "      <td>4</td>\n",
       "      <td>...</td>\n",
       "      <td>2</td>\n",
       "      <td>1681</td>\n",
       "      <td>703</td>\n",
       "      <td>3</td>\n",
       "      <td>4</td>\n",
       "      <td>26</td>\n",
       "      <td>8647</td>\n",
       "      <td>22078</td>\n",
       "      <td>2020-09-14 09:39:20</td>\n",
       "      <td>1</td>\n",
       "    </tr>\n",
       "    <tr>\n",
       "      <th>370709</th>\n",
       "      <td>370709</td>\n",
       "      <td>True</td>\n",
       "      <td>True</td>\n",
       "      <td>True</td>\n",
       "      <td>True</td>\n",
       "      <td>False</td>\n",
       "      <td>False</td>\n",
       "      <td>1</td>\n",
       "      <td>6</td>\n",
       "      <td>2</td>\n",
       "      <td>...</td>\n",
       "      <td>2</td>\n",
       "      <td>1681</td>\n",
       "      <td>703</td>\n",
       "      <td>3</td>\n",
       "      <td>4</td>\n",
       "      <td>26</td>\n",
       "      <td>6781</td>\n",
       "      <td>22078</td>\n",
       "      <td>2020-07-28 17:05:21</td>\n",
       "      <td>0</td>\n",
       "    </tr>\n",
       "    <tr>\n",
       "      <th>370710</th>\n",
       "      <td>370710</td>\n",
       "      <td>False</td>\n",
       "      <td>False</td>\n",
       "      <td>False</td>\n",
       "      <td>False</td>\n",
       "      <td>False</td>\n",
       "      <td>False</td>\n",
       "      <td>1</td>\n",
       "      <td>5</td>\n",
       "      <td>3</td>\n",
       "      <td>...</td>\n",
       "      <td>2</td>\n",
       "      <td>1681</td>\n",
       "      <td>703</td>\n",
       "      <td>3</td>\n",
       "      <td>4</td>\n",
       "      <td>26</td>\n",
       "      <td>116681</td>\n",
       "      <td>22078</td>\n",
       "      <td>2020-08-26 10:14:27</td>\n",
       "      <td>1</td>\n",
       "    </tr>\n",
       "    <tr>\n",
       "      <th>370711</th>\n",
       "      <td>370711</td>\n",
       "      <td>False</td>\n",
       "      <td>False</td>\n",
       "      <td>False</td>\n",
       "      <td>False</td>\n",
       "      <td>False</td>\n",
       "      <td>False</td>\n",
       "      <td>1</td>\n",
       "      <td>1</td>\n",
       "      <td>2</td>\n",
       "      <td>...</td>\n",
       "      <td>2</td>\n",
       "      <td>1681</td>\n",
       "      <td>703</td>\n",
       "      <td>3</td>\n",
       "      <td>4</td>\n",
       "      <td>26</td>\n",
       "      <td>509477</td>\n",
       "      <td>22078</td>\n",
       "      <td>2020-07-26 09:32:48</td>\n",
       "      <td>1</td>\n",
       "    </tr>\n",
       "    <tr>\n",
       "      <th>403809</th>\n",
       "      <td>403809</td>\n",
       "      <td>True</td>\n",
       "      <td>True</td>\n",
       "      <td>False</td>\n",
       "      <td>False</td>\n",
       "      <td>False</td>\n",
       "      <td>False</td>\n",
       "      <td>2</td>\n",
       "      <td>2</td>\n",
       "      <td>4</td>\n",
       "      <td>...</td>\n",
       "      <td>2</td>\n",
       "      <td>1681</td>\n",
       "      <td>703</td>\n",
       "      <td>3</td>\n",
       "      <td>4</td>\n",
       "      <td>26</td>\n",
       "      <td>1045495</td>\n",
       "      <td>22078</td>\n",
       "      <td>2020-08-29 19:45:23</td>\n",
       "      <td>1</td>\n",
       "    </tr>\n",
       "    <tr>\n",
       "      <th>403810</th>\n",
       "      <td>403810</td>\n",
       "      <td>True</td>\n",
       "      <td>True</td>\n",
       "      <td>False</td>\n",
       "      <td>True</td>\n",
       "      <td>False</td>\n",
       "      <td>False</td>\n",
       "      <td>1</td>\n",
       "      <td>4</td>\n",
       "      <td>2</td>\n",
       "      <td>...</td>\n",
       "      <td>2</td>\n",
       "      <td>1681</td>\n",
       "      <td>703</td>\n",
       "      <td>3</td>\n",
       "      <td>4</td>\n",
       "      <td>26</td>\n",
       "      <td>117372</td>\n",
       "      <td>22078</td>\n",
       "      <td>2020-07-22 11:48:46</td>\n",
       "      <td>1</td>\n",
       "    </tr>\n",
       "    <tr>\n",
       "      <th>403811</th>\n",
       "      <td>403811</td>\n",
       "      <td>True</td>\n",
       "      <td>True</td>\n",
       "      <td>True</td>\n",
       "      <td>True</td>\n",
       "      <td>False</td>\n",
       "      <td>False</td>\n",
       "      <td>1</td>\n",
       "      <td>4</td>\n",
       "      <td>1</td>\n",
       "      <td>...</td>\n",
       "      <td>2</td>\n",
       "      <td>1681</td>\n",
       "      <td>703</td>\n",
       "      <td>3</td>\n",
       "      <td>4</td>\n",
       "      <td>26</td>\n",
       "      <td>106263</td>\n",
       "      <td>22078</td>\n",
       "      <td>2020-07-31 09:38:08</td>\n",
       "      <td>1</td>\n",
       "    </tr>\n",
       "    <tr>\n",
       "      <th>405001</th>\n",
       "      <td>405001</td>\n",
       "      <td>True</td>\n",
       "      <td>False</td>\n",
       "      <td>False</td>\n",
       "      <td>True</td>\n",
       "      <td>False</td>\n",
       "      <td>False</td>\n",
       "      <td>1</td>\n",
       "      <td>6</td>\n",
       "      <td>2</td>\n",
       "      <td>...</td>\n",
       "      <td>2</td>\n",
       "      <td>1681</td>\n",
       "      <td>703</td>\n",
       "      <td>3</td>\n",
       "      <td>4</td>\n",
       "      <td>26</td>\n",
       "      <td>592189</td>\n",
       "      <td>22078</td>\n",
       "      <td>2020-07-22 23:15:03</td>\n",
       "      <td>1</td>\n",
       "    </tr>\n",
       "    <tr>\n",
       "      <th>405558</th>\n",
       "      <td>405558</td>\n",
       "      <td>False</td>\n",
       "      <td>False</td>\n",
       "      <td>False</td>\n",
       "      <td>False</td>\n",
       "      <td>False</td>\n",
       "      <td>False</td>\n",
       "      <td>1</td>\n",
       "      <td>4</td>\n",
       "      <td>4</td>\n",
       "      <td>...</td>\n",
       "      <td>2</td>\n",
       "      <td>1681</td>\n",
       "      <td>703</td>\n",
       "      <td>3</td>\n",
       "      <td>4</td>\n",
       "      <td>26</td>\n",
       "      <td>664076</td>\n",
       "      <td>22078</td>\n",
       "      <td>2020-08-03 09:34:30</td>\n",
       "      <td>1</td>\n",
       "    </tr>\n",
       "    <tr>\n",
       "      <th>409125</th>\n",
       "      <td>409125</td>\n",
       "      <td>False</td>\n",
       "      <td>False</td>\n",
       "      <td>False</td>\n",
       "      <td>False</td>\n",
       "      <td>False</td>\n",
       "      <td>False</td>\n",
       "      <td>1</td>\n",
       "      <td>1</td>\n",
       "      <td>2</td>\n",
       "      <td>...</td>\n",
       "      <td>2</td>\n",
       "      <td>1681</td>\n",
       "      <td>703</td>\n",
       "      <td>3</td>\n",
       "      <td>4</td>\n",
       "      <td>26</td>\n",
       "      <td>635728</td>\n",
       "      <td>22078</td>\n",
       "      <td>2020-07-24 15:33:50</td>\n",
       "      <td>1</td>\n",
       "    </tr>\n",
       "    <tr>\n",
       "      <th>414663</th>\n",
       "      <td>414663</td>\n",
       "      <td>False</td>\n",
       "      <td>False</td>\n",
       "      <td>False</td>\n",
       "      <td>True</td>\n",
       "      <td>False</td>\n",
       "      <td>False</td>\n",
       "      <td>1</td>\n",
       "      <td>7</td>\n",
       "      <td>2</td>\n",
       "      <td>...</td>\n",
       "      <td>2</td>\n",
       "      <td>1681</td>\n",
       "      <td>703</td>\n",
       "      <td>3</td>\n",
       "      <td>4</td>\n",
       "      <td>26</td>\n",
       "      <td>67885</td>\n",
       "      <td>22078</td>\n",
       "      <td>2020-07-27 15:08:45</td>\n",
       "      <td>1</td>\n",
       "    </tr>\n",
       "    <tr>\n",
       "      <th>414664</th>\n",
       "      <td>414664</td>\n",
       "      <td>True</td>\n",
       "      <td>True</td>\n",
       "      <td>False</td>\n",
       "      <td>True</td>\n",
       "      <td>False</td>\n",
       "      <td>False</td>\n",
       "      <td>2</td>\n",
       "      <td>0</td>\n",
       "      <td>2</td>\n",
       "      <td>...</td>\n",
       "      <td>2</td>\n",
       "      <td>1681</td>\n",
       "      <td>703</td>\n",
       "      <td>3</td>\n",
       "      <td>4</td>\n",
       "      <td>26</td>\n",
       "      <td>89042</td>\n",
       "      <td>22078</td>\n",
       "      <td>2020-07-27 10:31:34</td>\n",
       "      <td>1</td>\n",
       "    </tr>\n",
       "    <tr>\n",
       "      <th>414665</th>\n",
       "      <td>414665</td>\n",
       "      <td>False</td>\n",
       "      <td>False</td>\n",
       "      <td>False</td>\n",
       "      <td>True</td>\n",
       "      <td>True</td>\n",
       "      <td>True</td>\n",
       "      <td>1</td>\n",
       "      <td>7</td>\n",
       "      <td>2</td>\n",
       "      <td>...</td>\n",
       "      <td>2</td>\n",
       "      <td>1681</td>\n",
       "      <td>703</td>\n",
       "      <td>3</td>\n",
       "      <td>4</td>\n",
       "      <td>26</td>\n",
       "      <td>11605</td>\n",
       "      <td>22078</td>\n",
       "      <td>2020-07-26 14:37:35</td>\n",
       "      <td>1</td>\n",
       "    </tr>\n",
       "    <tr>\n",
       "      <th>428590</th>\n",
       "      <td>428590</td>\n",
       "      <td>True</td>\n",
       "      <td>True</td>\n",
       "      <td>True</td>\n",
       "      <td>True</td>\n",
       "      <td>False</td>\n",
       "      <td>False</td>\n",
       "      <td>1</td>\n",
       "      <td>1</td>\n",
       "      <td>2</td>\n",
       "      <td>...</td>\n",
       "      <td>2</td>\n",
       "      <td>1681</td>\n",
       "      <td>703</td>\n",
       "      <td>3</td>\n",
       "      <td>4</td>\n",
       "      <td>26</td>\n",
       "      <td>636594</td>\n",
       "      <td>22078</td>\n",
       "      <td>2020-08-17 15:11:05</td>\n",
       "      <td>1</td>\n",
       "    </tr>\n",
       "    <tr>\n",
       "      <th>428591</th>\n",
       "      <td>428591</td>\n",
       "      <td>True</td>\n",
       "      <td>True</td>\n",
       "      <td>True</td>\n",
       "      <td>True</td>\n",
       "      <td>False</td>\n",
       "      <td>False</td>\n",
       "      <td>2</td>\n",
       "      <td>0</td>\n",
       "      <td>1</td>\n",
       "      <td>...</td>\n",
       "      <td>2</td>\n",
       "      <td>1681</td>\n",
       "      <td>703</td>\n",
       "      <td>3</td>\n",
       "      <td>4</td>\n",
       "      <td>26</td>\n",
       "      <td>650990</td>\n",
       "      <td>22078</td>\n",
       "      <td>2020-08-21 20:56:29</td>\n",
       "      <td>1</td>\n",
       "    </tr>\n",
       "  </tbody>\n",
       "</table>\n",
       "<p>39 rows × 35 columns</p>\n",
       "</div>"
      ],
      "text/plain": [
       "            id  d_l_match_yn  d_m_match_yn  d_s_match_yn  h_l_match_yn  \\\n",
       "120004  120004          True          True          True         False   \n",
       "197073  197073          True          True          True          True   \n",
       "197074  197074          True          True         False          True   \n",
       "197075  197075         False         False         False         False   \n",
       "197076  197076          True          True         False         False   \n",
       "207726  207726          True          True         False          True   \n",
       "207728  207728          True          True         False          True   \n",
       "207729  207729          True         False         False          True   \n",
       "258230  258230          True         False         False          True   \n",
       "258231  258231         False         False         False          True   \n",
       "258232  258232         False         False         False          True   \n",
       "258233  258233          True          True          True         False   \n",
       "258263  258263          True          True         False          True   \n",
       "258265  258265         False         False         False         False   \n",
       "268568  268568          True          True          True          True   \n",
       "268569  268569          True         False         False         False   \n",
       "268626  268626          True          True          True          True   \n",
       "274225  274225          True          True          True          True   \n",
       "365055  365055          True         False         False          True   \n",
       "365121  365121          True          True          True          True   \n",
       "370672  370672          True          True         False          True   \n",
       "370673  370673          True          True         False          True   \n",
       "370674  370674          True          True         False          True   \n",
       "370675  370675          True          True         False         False   \n",
       "370707  370707         False         False         False          True   \n",
       "370709  370709          True          True          True          True   \n",
       "370710  370710         False         False         False         False   \n",
       "370711  370711         False         False         False         False   \n",
       "403809  403809          True          True         False         False   \n",
       "403810  403810          True          True         False          True   \n",
       "403811  403811          True          True          True          True   \n",
       "405001  405001          True         False         False          True   \n",
       "405558  405558         False         False         False         False   \n",
       "409125  409125         False         False         False         False   \n",
       "414663  414663         False         False         False          True   \n",
       "414664  414664          True          True         False          True   \n",
       "414665  414665         False         False         False          True   \n",
       "428590  428590          True          True          True          True   \n",
       "428591  428591          True          True          True          True   \n",
       "\n",
       "        h_m_match_yn  h_s_match_yn  person_attribute_a  person_attribute_a_1  \\\n",
       "120004         False         False                   1                     3   \n",
       "197073         False         False                   1                     0   \n",
       "197074         False         False                   1                     2   \n",
       "197075         False         False                   2                     0   \n",
       "197076         False         False                   2                     0   \n",
       "207726         False         False                   1                     4   \n",
       "207728         False         False                   2                     0   \n",
       "207729         False         False                   1                     1   \n",
       "258230         False         False                   2                     0   \n",
       "258231         False         False                   2                     6   \n",
       "258232         False         False                   1                     5   \n",
       "258233         False         False                   1                     1   \n",
       "258263         False         False                   1                     2   \n",
       "258265         False         False                   1                     6   \n",
       "268568          True          True                   2                     0   \n",
       "268569         False         False                   1                     3   \n",
       "268626         False         False                   1                     7   \n",
       "274225         False         False                   1                     4   \n",
       "365055         False         False                   1                     2   \n",
       "365121         False         False                   1                     2   \n",
       "370672         False         False                   1                     1   \n",
       "370673         False         False                   1                     2   \n",
       "370674         False         False                   1                     1   \n",
       "370675         False         False                   1                     5   \n",
       "370707         False         False                   2                     0   \n",
       "370709         False         False                   1                     6   \n",
       "370710         False         False                   1                     5   \n",
       "370711         False         False                   1                     1   \n",
       "403809         False         False                   2                     2   \n",
       "403810         False         False                   1                     4   \n",
       "403811         False         False                   1                     4   \n",
       "405001         False         False                   1                     6   \n",
       "405558         False         False                   1                     4   \n",
       "409125         False         False                   1                     1   \n",
       "414663         False         False                   1                     7   \n",
       "414664         False         False                   2                     0   \n",
       "414665          True          True                   1                     7   \n",
       "428590         False         False                   1                     1   \n",
       "428591         False         False                   2                     0   \n",
       "\n",
       "        person_attribute_b  ...  contents_attribute_k  contents_attribute_l  \\\n",
       "120004                   2  ...                     2                  1681   \n",
       "197073                   4  ...                     2                  1681   \n",
       "197074                   4  ...                     2                  1681   \n",
       "197075                   4  ...                     2                  1681   \n",
       "197076                   4  ...                     2                  1681   \n",
       "207726                   2  ...                     2                  1681   \n",
       "207728                   4  ...                     2                  1681   \n",
       "207729                   5  ...                     2                  1681   \n",
       "258230                   2  ...                     2                  1681   \n",
       "258231                   4  ...                     2                  1681   \n",
       "258232                   2  ...                     2                  1681   \n",
       "258233                   2  ...                     2                  1681   \n",
       "258263                   2  ...                     2                  1681   \n",
       "258265                   3  ...                     2                  1681   \n",
       "268568                   3  ...                     2                  1681   \n",
       "268569                   4  ...                     2                  1681   \n",
       "268626                   3  ...                     2                  1681   \n",
       "274225                   2  ...                     2                  1681   \n",
       "365055                   3  ...                     2                  1681   \n",
       "365121                   3  ...                     2                  1681   \n",
       "370672                   2  ...                     2                  1681   \n",
       "370673                   3  ...                     2                  1681   \n",
       "370674                   3  ...                     2                  1681   \n",
       "370675                   2  ...                     2                  1681   \n",
       "370707                   4  ...                     2                  1681   \n",
       "370709                   2  ...                     2                  1681   \n",
       "370710                   3  ...                     2                  1681   \n",
       "370711                   2  ...                     2                  1681   \n",
       "403809                   4  ...                     2                  1681   \n",
       "403810                   2  ...                     2                  1681   \n",
       "403811                   1  ...                     2                  1681   \n",
       "405001                   2  ...                     2                  1681   \n",
       "405558                   4  ...                     2                  1681   \n",
       "409125                   2  ...                     2                  1681   \n",
       "414663                   2  ...                     2                  1681   \n",
       "414664                   2  ...                     2                  1681   \n",
       "414665                   2  ...                     2                  1681   \n",
       "428590                   2  ...                     2                  1681   \n",
       "428591                   1  ...                     2                  1681   \n",
       "\n",
       "        contents_attribute_d  contents_attribute_m  contents_attribute_e  \\\n",
       "120004                   703                     3                     4   \n",
       "197073                   703                     3                     4   \n",
       "197074                   703                     3                     4   \n",
       "197075                   703                     3                     4   \n",
       "197076                   703                     3                     4   \n",
       "207726                   703                     3                     4   \n",
       "207728                   703                     3                     4   \n",
       "207729                   703                     3                     4   \n",
       "258230                   703                     3                     4   \n",
       "258231                   703                     3                     4   \n",
       "258232                   703                     3                     4   \n",
       "258233                   703                     3                     4   \n",
       "258263                   703                     3                     4   \n",
       "258265                   703                     3                     4   \n",
       "268568                   703                     3                     4   \n",
       "268569                   703                     3                     4   \n",
       "268626                   703                     3                     4   \n",
       "274225                   703                     3                     4   \n",
       "365055                   703                     3                     4   \n",
       "365121                   703                     3                     4   \n",
       "370672                   703                     3                     4   \n",
       "370673                   703                     3                     4   \n",
       "370674                   703                     3                     4   \n",
       "370675                   703                     3                     4   \n",
       "370707                   703                     3                     4   \n",
       "370709                   703                     3                     4   \n",
       "370710                   703                     3                     4   \n",
       "370711                   703                     3                     4   \n",
       "403809                   703                     3                     4   \n",
       "403810                   703                     3                     4   \n",
       "403811                   703                     3                     4   \n",
       "405001                   703                     3                     4   \n",
       "405558                   703                     3                     4   \n",
       "409125                   703                     3                     4   \n",
       "414663                   703                     3                     4   \n",
       "414664                   703                     3                     4   \n",
       "414665                   703                     3                     4   \n",
       "428590                   703                     3                     4   \n",
       "428591                   703                     3                     4   \n",
       "\n",
       "        contents_attribute_h  person_rn  contents_rn     contents_open_dt  \\\n",
       "120004                    26     619187        22078  2020-07-22 08:39:13   \n",
       "197073                    26      63459        22078  2020-09-04 16:03:26   \n",
       "197074                    26      43955        22078  2020-07-23 12:20:09   \n",
       "197075                    26     636435        22078  2020-09-11 14:41:37   \n",
       "197076                    26     699027        22078  2020-08-04 18:59:17   \n",
       "207726                    26       5138        22078  2020-08-31 17:10:20   \n",
       "207728                    26      89818        22078  2020-07-21 19:17:09   \n",
       "207729                    26     108598        22078  2020-07-25 23:27:24   \n",
       "258230                    26      94582        22078  2020-09-11 17:35:30   \n",
       "258231                    26     113008        22078  2020-07-22 10:08:01   \n",
       "258232                    26      90544        22078  2020-08-31 10:12:38   \n",
       "258233                    26     682208        22078  2020-07-31 13:41:12   \n",
       "258263                    26     118055        22078  2020-09-01 12:18:52   \n",
       "258265                    26     668538        22078  2020-07-31 21:31:46   \n",
       "268568                    26      69984        22078  2020-09-14 22:11:56   \n",
       "268569                    26     624479        22078  2020-07-21 20:05:59   \n",
       "268626                    26     722827        22078  2020-09-03 21:56:08   \n",
       "274225                    26      56939        22078  2020-07-22 17:00:12   \n",
       "365055                    26      42900        22078  2020-09-03 16:35:18   \n",
       "365121                    26      25931        22078  2020-07-21 15:20:15   \n",
       "370672                    26      78138        22078  2020-07-24 04:44:42   \n",
       "370673                    26      90477        22078  2020-08-13 22:30:04   \n",
       "370674                    26      85125        22078  2020-07-21 23:12:24   \n",
       "370675                    26     573692        22078  2020-08-05 16:29:52   \n",
       "370707                    26       8647        22078  2020-09-14 09:39:20   \n",
       "370709                    26       6781        22078  2020-07-28 17:05:21   \n",
       "370710                    26     116681        22078  2020-08-26 10:14:27   \n",
       "370711                    26     509477        22078  2020-07-26 09:32:48   \n",
       "403809                    26    1045495        22078  2020-08-29 19:45:23   \n",
       "403810                    26     117372        22078  2020-07-22 11:48:46   \n",
       "403811                    26     106263        22078  2020-07-31 09:38:08   \n",
       "405001                    26     592189        22078  2020-07-22 23:15:03   \n",
       "405558                    26     664076        22078  2020-08-03 09:34:30   \n",
       "409125                    26     635728        22078  2020-07-24 15:33:50   \n",
       "414663                    26      67885        22078  2020-07-27 15:08:45   \n",
       "414664                    26      89042        22078  2020-07-27 10:31:34   \n",
       "414665                    26      11605        22078  2020-07-26 14:37:35   \n",
       "428590                    26     636594        22078  2020-08-17 15:11:05   \n",
       "428591                    26     650990        22078  2020-08-21 20:56:29   \n",
       "\n",
       "        target  \n",
       "120004       1  \n",
       "197073       1  \n",
       "197074       1  \n",
       "197075       1  \n",
       "197076       1  \n",
       "207726       0  \n",
       "207728       1  \n",
       "207729       1  \n",
       "258230       1  \n",
       "258231       1  \n",
       "258232       0  \n",
       "258233       0  \n",
       "258263       1  \n",
       "258265       1  \n",
       "268568       1  \n",
       "268569       1  \n",
       "268626       1  \n",
       "274225       1  \n",
       "365055       1  \n",
       "365121       1  \n",
       "370672       1  \n",
       "370673       0  \n",
       "370674       1  \n",
       "370675       1  \n",
       "370707       1  \n",
       "370709       0  \n",
       "370710       1  \n",
       "370711       1  \n",
       "403809       1  \n",
       "403810       1  \n",
       "403811       1  \n",
       "405001       1  \n",
       "405558       1  \n",
       "409125       1  \n",
       "414663       1  \n",
       "414664       1  \n",
       "414665       1  \n",
       "428590       1  \n",
       "428591       1  \n",
       "\n",
       "[39 rows x 35 columns]"
      ]
     },
     "execution_count": 77,
     "metadata": {},
     "output_type": "execute_result"
    }
   ],
   "source": [
    "train[train['contents_rn']==22078]"
   ]
  },
  {
   "cell_type": "markdown",
   "metadata": {},
   "source": [
    "# 사용자별 컨텐츠 이용 수로 분석"
   ]
  },
  {
   "cell_type": "code",
   "execution_count": 78,
   "metadata": {},
   "outputs": [
    {
     "data": {
      "text/plain": [
       "627445     20\n",
       "1047079    19\n",
       "241140     19\n",
       "827703     19\n",
       "1016996    18\n",
       "           ..\n",
       "798856      1\n",
       "54141       1\n",
       "467843      1\n",
       "988037      1\n",
       "907205      1\n",
       "Name: person_rn, Length: 300177, dtype: int64"
      ]
     },
     "execution_count": 78,
     "metadata": {},
     "output_type": "execute_result"
    }
   ],
   "source": [
    "train['person_rn'].value_counts()"
   ]
  },
  {
   "cell_type": "code",
   "execution_count": 79,
   "metadata": {},
   "outputs": [
    {
     "data": {
      "text/html": [
       "<div>\n",
       "<style scoped>\n",
       "    .dataframe tbody tr th:only-of-type {\n",
       "        vertical-align: middle;\n",
       "    }\n",
       "\n",
       "    .dataframe tbody tr th {\n",
       "        vertical-align: top;\n",
       "    }\n",
       "\n",
       "    .dataframe thead th {\n",
       "        text-align: right;\n",
       "    }\n",
       "</style>\n",
       "<table border=\"1\" class=\"dataframe\">\n",
       "  <thead>\n",
       "    <tr style=\"text-align: right;\">\n",
       "      <th></th>\n",
       "      <th>index</th>\n",
       "      <th>person_rn</th>\n",
       "    </tr>\n",
       "  </thead>\n",
       "  <tbody>\n",
       "    <tr>\n",
       "      <th>0</th>\n",
       "      <td>627445</td>\n",
       "      <td>20</td>\n",
       "    </tr>\n",
       "    <tr>\n",
       "      <th>1</th>\n",
       "      <td>1047079</td>\n",
       "      <td>19</td>\n",
       "    </tr>\n",
       "    <tr>\n",
       "      <th>2</th>\n",
       "      <td>241140</td>\n",
       "      <td>19</td>\n",
       "    </tr>\n",
       "    <tr>\n",
       "      <th>3</th>\n",
       "      <td>827703</td>\n",
       "      <td>19</td>\n",
       "    </tr>\n",
       "    <tr>\n",
       "      <th>4</th>\n",
       "      <td>1016996</td>\n",
       "      <td>18</td>\n",
       "    </tr>\n",
       "    <tr>\n",
       "      <th>...</th>\n",
       "      <td>...</td>\n",
       "      <td>...</td>\n",
       "    </tr>\n",
       "    <tr>\n",
       "      <th>300172</th>\n",
       "      <td>798856</td>\n",
       "      <td>1</td>\n",
       "    </tr>\n",
       "    <tr>\n",
       "      <th>300173</th>\n",
       "      <td>54141</td>\n",
       "      <td>1</td>\n",
       "    </tr>\n",
       "    <tr>\n",
       "      <th>300174</th>\n",
       "      <td>467843</td>\n",
       "      <td>1</td>\n",
       "    </tr>\n",
       "    <tr>\n",
       "      <th>300175</th>\n",
       "      <td>988037</td>\n",
       "      <td>1</td>\n",
       "    </tr>\n",
       "    <tr>\n",
       "      <th>300176</th>\n",
       "      <td>907205</td>\n",
       "      <td>1</td>\n",
       "    </tr>\n",
       "  </tbody>\n",
       "</table>\n",
       "<p>300177 rows × 2 columns</p>\n",
       "</div>"
      ],
      "text/plain": [
       "          index  person_rn\n",
       "0        627445         20\n",
       "1       1047079         19\n",
       "2        241140         19\n",
       "3        827703         19\n",
       "4       1016996         18\n",
       "...         ...        ...\n",
       "300172   798856          1\n",
       "300173    54141          1\n",
       "300174   467843          1\n",
       "300175   988037          1\n",
       "300176   907205          1\n",
       "\n",
       "[300177 rows x 2 columns]"
      ]
     },
     "execution_count": 79,
     "metadata": {},
     "output_type": "execute_result"
    }
   ],
   "source": [
    "person_rn_set = train['person_rn'].value_counts().reset_index()\n",
    "person_rn_set"
   ]
  },
  {
   "cell_type": "code",
   "execution_count": 80,
   "metadata": {},
   "outputs": [
    {
     "data": {
      "text/plain": [
       "0    627445\n",
       "Name: index, dtype: int64"
      ]
     },
     "execution_count": 80,
     "metadata": {},
     "output_type": "execute_result"
    }
   ],
   "source": [
    "person_rn_set['index'][:1]"
   ]
  },
  {
   "cell_type": "code",
   "execution_count": 81,
   "metadata": {},
   "outputs": [
    {
     "data": {
      "text/plain": [
       "627445"
      ]
     },
     "execution_count": 81,
     "metadata": {},
     "output_type": "execute_result"
    }
   ],
   "source": [
    "person_rn_set.loc[0, 'index']"
   ]
  },
  {
   "cell_type": "code",
   "execution_count": 82,
   "metadata": {},
   "outputs": [
    {
     "data": {
      "text/plain": [
       "3319      1\n",
       "4843      0\n",
       "5752      1\n",
       "16588     1\n",
       "19979     1\n",
       "52916     1\n",
       "94001     1\n",
       "117891    1\n",
       "124206    0\n",
       "129379    0\n",
       "145173    1\n",
       "190904    0\n",
       "194295    0\n",
       "224728    1\n",
       "317736    0\n",
       "335861    1\n",
       "374641    1\n",
       "379382    1\n",
       "391452    0\n",
       "400004    0\n",
       "Name: target, dtype: int64"
      ]
     },
     "execution_count": 82,
     "metadata": {},
     "output_type": "execute_result"
    }
   ],
   "source": [
    "indx = person_rn_set.loc[0, 'index']\n",
    "train[train['person_rn']==indx]['target']"
   ]
  },
  {
   "cell_type": "code",
   "execution_count": 83,
   "metadata": {},
   "outputs": [
    {
     "data": {
      "text/plain": [
       "1    0.6\n",
       "0    0.4\n",
       "Name: target, dtype: float64"
      ]
     },
     "execution_count": 83,
     "metadata": {},
     "output_type": "execute_result"
    }
   ],
   "source": [
    "indx = person_rn_set.loc[0, 'index']\n",
    "tmp = train[train['person_rn']==indx]['target']\n",
    "tmp.value_counts(normalize=True)"
   ]
  },
  {
   "cell_type": "code",
   "execution_count": 84,
   "metadata": {},
   "outputs": [
    {
     "data": {
      "text/plain": [
       "pandas.core.series.Series"
      ]
     },
     "execution_count": 84,
     "metadata": {},
     "output_type": "execute_result"
    }
   ],
   "source": [
    "type(tmp.value_counts(normalize=True))"
   ]
  },
  {
   "cell_type": "code",
   "execution_count": 85,
   "metadata": {},
   "outputs": [
    {
     "data": {
      "text/plain": [
       "<BarContainer object of 2 artists>"
      ]
     },
     "execution_count": 85,
     "metadata": {},
     "output_type": "execute_result"
    },
    {
     "data": {
      "image/png": "[encoded data removed]",
      "text/plain": [
       "<Figure size 288x288 with 1 Axes>"
      ]
     },
     "metadata": {
      "needs_background": "light"
     },
     "output_type": "display_data"
    }
   ],
   "source": [
    "plt.figure(figsize=(4,4))\n",
    "plt.xticks(fontsize=15)\n",
    "plt.yticks(fontsize=15)\n",
    "plt.title(f'컨텐츠 이용 수 = {len(tmp)}인 \\n 사용자의 target 비율', fontdict={'fontsize':15})\n",
    "plt.bar(x=['1', '0'], height=tmp.value_counts(normalize=True), data=tmp, width=0.2)"
   ]
  },
  {
   "cell_type": "code",
   "execution_count": 86,
   "metadata": {},
   "outputs": [
    {
     "data": {
      "text/html": [
       "<div>\n",
       "<style scoped>\n",
       "    .dataframe tbody tr th:only-of-type {\n",
       "        vertical-align: middle;\n",
       "    }\n",
       "\n",
       "    .dataframe tbody tr th {\n",
       "        vertical-align: top;\n",
       "    }\n",
       "\n",
       "    .dataframe thead th {\n",
       "        text-align: right;\n",
       "    }\n",
       "</style>\n",
       "<table border=\"1\" class=\"dataframe\">\n",
       "  <thead>\n",
       "    <tr style=\"text-align: right;\">\n",
       "      <th></th>\n",
       "      <th>index</th>\n",
       "      <th>person_rn</th>\n",
       "    </tr>\n",
       "  </thead>\n",
       "  <tbody>\n",
       "    <tr>\n",
       "      <th>0</th>\n",
       "      <td>627445</td>\n",
       "      <td>20</td>\n",
       "    </tr>\n",
       "    <tr>\n",
       "      <th>1</th>\n",
       "      <td>1047079</td>\n",
       "      <td>19</td>\n",
       "    </tr>\n",
       "    <tr>\n",
       "      <th>2</th>\n",
       "      <td>241140</td>\n",
       "      <td>19</td>\n",
       "    </tr>\n",
       "    <tr>\n",
       "      <th>3</th>\n",
       "      <td>827703</td>\n",
       "      <td>19</td>\n",
       "    </tr>\n",
       "    <tr>\n",
       "      <th>4</th>\n",
       "      <td>1016996</td>\n",
       "      <td>18</td>\n",
       "    </tr>\n",
       "  </tbody>\n",
       "</table>\n",
       "</div>"
      ],
      "text/plain": [
       "     index  person_rn\n",
       "0   627445         20\n",
       "1  1047079         19\n",
       "2   241140         19\n",
       "3   827703         19\n",
       "4  1016996         18"
      ]
     },
     "execution_count": 86,
     "metadata": {},
     "output_type": "execute_result"
    }
   ],
   "source": [
    "person_rn_set.head()"
   ]
  },
  {
   "cell_type": "code",
   "execution_count": 87,
   "metadata": {},
   "outputs": [
    {
     "data": {
      "text/plain": [
       "0    0.0\n",
       "1    1.0\n",
       "Name: target, dtype: float64"
      ]
     },
     "execution_count": 87,
     "metadata": {},
     "output_type": "execute_result"
    }
   ],
   "source": [
    "basic = pd.Series([0,1], name='target')\n",
    "basic = basic.astype(float)\n",
    "basic"
   ]
  },
  {
   "cell_type": "code",
   "execution_count": 88,
   "metadata": {},
   "outputs": [
    {
     "data": {
      "text/plain": [
       "1    1.0\n",
       "Name: target, dtype: float64"
      ]
     },
     "execution_count": 88,
     "metadata": {},
     "output_type": "execute_result"
    }
   ],
   "source": [
    "indx = person_rn_set.loc[3, 'index']\n",
    "tmp = train[train['person_rn']==indx]['target']\n",
    "tmp.value_counts(normalize=True)"
   ]
  },
  {
   "cell_type": "code",
   "execution_count": 89,
   "metadata": {},
   "outputs": [
    {
     "data": {
      "text/plain": [
       "1    1.0\n",
       "Name: target, dtype: float64"
      ]
     },
     "execution_count": 89,
     "metadata": {},
     "output_type": "execute_result"
    }
   ],
   "source": [
    "rate = tmp.value_counts(normalize=True)\n",
    "rate"
   ]
  },
  {
   "cell_type": "code",
   "execution_count": 90,
   "metadata": {},
   "outputs": [
    {
     "data": {
      "text/html": [
       "<div>\n",
       "<style scoped>\n",
       "    .dataframe tbody tr th:only-of-type {\n",
       "        vertical-align: middle;\n",
       "    }\n",
       "\n",
       "    .dataframe tbody tr th {\n",
       "        vertical-align: top;\n",
       "    }\n",
       "\n",
       "    .dataframe thead th {\n",
       "        text-align: right;\n",
       "    }\n",
       "</style>\n",
       "<table border=\"1\" class=\"dataframe\">\n",
       "  <thead>\n",
       "    <tr style=\"text-align: right;\">\n",
       "      <th></th>\n",
       "      <th>target</th>\n",
       "    </tr>\n",
       "  </thead>\n",
       "  <tbody>\n",
       "    <tr>\n",
       "      <th>0</th>\n",
       "      <td>1.0</td>\n",
       "    </tr>\n",
       "    <tr>\n",
       "      <th>1</th>\n",
       "      <td>0.0</td>\n",
       "    </tr>\n",
       "  </tbody>\n",
       "</table>\n",
       "</div>"
      ],
      "text/plain": [
       "   target\n",
       "0     1.0\n",
       "1     0.0"
      ]
     },
     "execution_count": 90,
     "metadata": {},
     "output_type": "execute_result"
    }
   ],
   "source": [
    "tmp = pd.merge(rate, basic, how='outer')\n",
    "tmp"
   ]
  },
  {
   "cell_type": "code",
   "execution_count": 91,
   "metadata": {},
   "outputs": [
    {
     "data": {
      "text/html": [
       "<div>\n",
       "<style scoped>\n",
       "    .dataframe tbody tr th:only-of-type {\n",
       "        vertical-align: middle;\n",
       "    }\n",
       "\n",
       "    .dataframe tbody tr th {\n",
       "        vertical-align: top;\n",
       "    }\n",
       "\n",
       "    .dataframe thead th {\n",
       "        text-align: right;\n",
       "    }\n",
       "</style>\n",
       "<table border=\"1\" class=\"dataframe\">\n",
       "  <thead>\n",
       "    <tr style=\"text-align: right;\">\n",
       "      <th></th>\n",
       "      <th>0</th>\n",
       "      <th>1</th>\n",
       "    </tr>\n",
       "  </thead>\n",
       "  <tbody>\n",
       "    <tr>\n",
       "      <th>0</th>\n",
       "      <td>0.0</td>\n",
       "      <td>0.0</td>\n",
       "    </tr>\n",
       "    <tr>\n",
       "      <th>1</th>\n",
       "      <td>1.0</td>\n",
       "      <td>1.0</td>\n",
       "    </tr>\n",
       "  </tbody>\n",
       "</table>\n",
       "</div>"
      ],
      "text/plain": [
       "     0    1\n",
       "0  0.0  0.0\n",
       "1  1.0  1.0"
      ]
     },
     "execution_count": 91,
     "metadata": {},
     "output_type": "execute_result"
    }
   ],
   "source": [
    "tmp2 = pd.concat([rate, basic], axis=1, ignore_index=True)\n",
    "tmp2 = tmp2.fillna(0)\n",
    "tmp2"
   ]
  },
  {
   "cell_type": "code",
   "execution_count": 92,
   "metadata": {},
   "outputs": [
    {
     "data": {
      "text/plain": [
       "0    0.0\n",
       "1    1.0\n",
       "Name: 0, dtype: float64"
      ]
     },
     "execution_count": 92,
     "metadata": {},
     "output_type": "execute_result"
    }
   ],
   "source": [
    "tmp2[0]"
   ]
  },
  {
   "cell_type": "markdown",
   "metadata": {},
   "source": [
    "## 6개씩 그래프 그리기"
   ]
  },
  {
   "cell_type": "code",
   "execution_count": 93,
   "metadata": {},
   "outputs": [
    {
     "data": {
      "text/html": [
       "<div>\n",
       "<style scoped>\n",
       "    .dataframe tbody tr th:only-of-type {\n",
       "        vertical-align: middle;\n",
       "    }\n",
       "\n",
       "    .dataframe tbody tr th {\n",
       "        vertical-align: top;\n",
       "    }\n",
       "\n",
       "    .dataframe thead th {\n",
       "        text-align: right;\n",
       "    }\n",
       "</style>\n",
       "<table border=\"1\" class=\"dataframe\">\n",
       "  <thead>\n",
       "    <tr style=\"text-align: right;\">\n",
       "      <th></th>\n",
       "      <th>index</th>\n",
       "      <th>person_rn</th>\n",
       "    </tr>\n",
       "  </thead>\n",
       "  <tbody>\n",
       "    <tr>\n",
       "      <th>0</th>\n",
       "      <td>627445</td>\n",
       "      <td>20</td>\n",
       "    </tr>\n",
       "    <tr>\n",
       "      <th>1</th>\n",
       "      <td>1047079</td>\n",
       "      <td>19</td>\n",
       "    </tr>\n",
       "    <tr>\n",
       "      <th>2</th>\n",
       "      <td>241140</td>\n",
       "      <td>19</td>\n",
       "    </tr>\n",
       "    <tr>\n",
       "      <th>3</th>\n",
       "      <td>827703</td>\n",
       "      <td>19</td>\n",
       "    </tr>\n",
       "    <tr>\n",
       "      <th>4</th>\n",
       "      <td>1016996</td>\n",
       "      <td>18</td>\n",
       "    </tr>\n",
       "  </tbody>\n",
       "</table>\n",
       "</div>"
      ],
      "text/plain": [
       "     index  person_rn\n",
       "0   627445         20\n",
       "1  1047079         19\n",
       "2   241140         19\n",
       "3   827703         19\n",
       "4  1016996         18"
      ]
     },
     "execution_count": 93,
     "metadata": {},
     "output_type": "execute_result"
    }
   ],
   "source": [
    "# 사용자 별 컨텐츠 이용수 \n",
    "person_rn_set = train['person_rn'].value_counts().reset_index()\n",
    "person_rn_set.head()"
   ]
  },
  {
   "cell_type": "code",
   "execution_count": 94,
   "metadata": {},
   "outputs": [
    {
     "data": {
      "image/png": "[encoded data removed]",
      "text/plain": [
       "<Figure size 720x576 with 6 Axes>"
      ]
     },
     "metadata": {
      "needs_background": "light"
     },
     "output_type": "display_data"
    }
   ],
   "source": [
    "plt.figure(figsize=(10,8))\n",
    "j = 1\n",
    "for i in range(6):\n",
    "    # 이용자 번호 별 타겟 비율 구하기\n",
    "    indx = person_rn_set.loc[i, 'index']\n",
    "    tmp = train[train['person_rn']==indx]['target']\n",
    "    rate = tmp.value_counts(normalize=True)\n",
    "    # \n",
    "    basic = pd.Series([0,1], name='target')\n",
    "    basic = basic.astype(float)\n",
    "    tmp2 = pd.concat([rate, basic], axis=1, ignore_index=True)\n",
    "    tmp2 = tmp2.fillna(0)\n",
    "    tmp2[0]\n",
    "    \n",
    "    ax = plt.subplot(3,2,j)\n",
    "    plt.xticks(range(2), fontsize=15)\n",
    "    plt.yticks(fontsize=15)\n",
    "    plt.title(f'컨텐츠 이용 수 = {len(tmp)}인 \\n 사용자의 target 비율', fontdict={'fontsize':15})\n",
    "    ax.bar(x=tmp2[0].index, height=tmp2[0], width=0.2)\n",
    "    j += 1\n",
    "plt.tight_layout()"
   ]
  },
  {
   "cell_type": "code",
   "execution_count": 95,
   "metadata": {},
   "outputs": [
    {
     "name": "stdout",
     "output_type": "stream",
     "text": [
      "627445\n",
      "1    12\n",
      "0     8\n",
      "Name: target, dtype: int64\n",
      "1047079\n",
      "1    16\n",
      "0     3\n",
      "Name: target, dtype: int64\n",
      "241140\n",
      "1    13\n",
      "0     6\n",
      "Name: target, dtype: int64\n",
      "827703\n",
      "1    19\n",
      "Name: target, dtype: int64\n",
      "1016996\n",
      "1    14\n",
      "0     4\n",
      "Name: target, dtype: int64\n",
      "53891\n",
      "0    11\n",
      "1     7\n",
      "Name: target, dtype: int64\n"
     ]
    }
   ],
   "source": [
    "for i in range(6):\n",
    "    indx = person_rn_set.loc[i, 'index']\n",
    "    tmp = train[train['person_rn']==indx]['target']\n",
    "    print(indx)\n",
    "    print(tmp.value_counts())"
   ]
  },
  {
   "cell_type": "code",
   "execution_count": 96,
   "metadata": {},
   "outputs": [
    {
     "data": {
      "image/png": "[encoded data removed]",
      "text/plain": [
       "<Figure size 720x576 with 6 Axes>"
      ]
     },
     "metadata": {
      "needs_background": "light"
     },
     "output_type": "display_data"
    }
   ],
   "source": [
    "plt.figure(figsize=(10,8))\n",
    "j = 1\n",
    "for i in range(6,12):\n",
    "    # 이용자 번호 별 타겟 비율 구하기\n",
    "    indx = person_rn_set.loc[i, 'index']\n",
    "    tmp = train[train['person_rn']==indx]['target']\n",
    "    rate = tmp.value_counts(normalize=True)\n",
    "    # \n",
    "    basic = pd.Series([0,1], name='target')\n",
    "    basic = basic.astype(float)\n",
    "    tmp2 = pd.concat([rate, basic], axis=1, ignore_index=True)\n",
    "    tmp2 = tmp2.fillna(0)\n",
    "    tmp2[0]\n",
    "    \n",
    "    ax = plt.subplot(3,2,j)\n",
    "    plt.xticks(range(2), fontsize=15)\n",
    "    plt.yticks(fontsize=15)\n",
    "    plt.title(f'컨텐츠 이용 수 = {len(tmp)}인 \\n 사용자의 target 비율', fontdict={'fontsize':15})\n",
    "    ax.bar(x=tmp2[0].index, height=tmp2[0], width=0.2)\n",
    "    j += 1\n",
    "plt.tight_layout()"
   ]
  },
  {
   "cell_type": "code",
   "execution_count": 97,
   "metadata": {},
   "outputs": [
    {
     "name": "stdout",
     "output_type": "stream",
     "text": [
      "217730\n",
      "1    11\n",
      "0     6\n",
      "Name: target, dtype: int64\n",
      "77829\n",
      "1    12\n",
      "0     5\n",
      "Name: target, dtype: int64\n",
      "139379\n",
      "1    17\n",
      "Name: target, dtype: int64\n",
      "358803\n",
      "1    12\n",
      "0     4\n",
      "Name: target, dtype: int64\n",
      "314186\n",
      "1    12\n",
      "0     4\n",
      "Name: target, dtype: int64\n",
      "267877\n",
      "1    13\n",
      "0     3\n",
      "Name: target, dtype: int64\n"
     ]
    }
   ],
   "source": [
    "for i in range(6,12):\n",
    "    indx = person_rn_set.loc[i, 'index']\n",
    "    tmp = train[train['person_rn']==indx]['target']\n",
    "    print(indx)\n",
    "    print(tmp.value_counts())"
   ]
  },
  {
   "cell_type": "code",
   "execution_count": 98,
   "metadata": {},
   "outputs": [
    {
     "data": {
      "image/png": "[encoded data removed]",
      "text/plain": [
       "<Figure size 720x576 with 6 Axes>"
      ]
     },
     "metadata": {
      "needs_background": "light"
     },
     "output_type": "display_data"
    }
   ],
   "source": [
    "plt.figure(figsize=(10,8))\n",
    "j = 1\n",
    "for i in range(12,18):\n",
    "    # 이용자 번호 별 타겟 비율 구하기\n",
    "    indx = person_rn_set.loc[i, 'index']\n",
    "    tmp = train[train['person_rn']==indx]['target']\n",
    "    rate = tmp.value_counts(normalize=True)\n",
    "    # \n",
    "    basic = pd.Series([0,1], name='target')\n",
    "    basic = basic.astype(float)\n",
    "    tmp2 = pd.concat([rate, basic], axis=1, ignore_index=True)\n",
    "    tmp2 = tmp2.fillna(0)\n",
    "    tmp2[0]\n",
    "    \n",
    "    ax = plt.subplot(3,2,j)\n",
    "    plt.xticks(range(2), fontsize=15)\n",
    "    plt.yticks(fontsize=15)\n",
    "    plt.title(f'컨텐츠 이용 수 = {len(tmp)}인 \\n 사용자의 target 비율', fontdict={'fontsize':15})\n",
    "    ax.bar(x=tmp2[0].index, height=tmp2[0], width=0.2)\n",
    "    j += 1\n",
    "plt.tight_layout()"
   ]
  },
  {
   "cell_type": "code",
   "execution_count": 99,
   "metadata": {},
   "outputs": [
    {
     "name": "stdout",
     "output_type": "stream",
     "text": [
      "658174\n",
      "1    11\n",
      "0     4\n",
      "Name: target, dtype: int64\n",
      "490691\n",
      "0    8\n",
      "1    7\n",
      "Name: target, dtype: int64\n",
      "134513\n",
      "1    13\n",
      "0     2\n",
      "Name: target, dtype: int64\n",
      "255445\n",
      "1    12\n",
      "0     3\n",
      "Name: target, dtype: int64\n",
      "476761\n",
      "1    9\n",
      "0    6\n",
      "Name: target, dtype: int64\n",
      "177296\n",
      "1    11\n",
      "0     4\n",
      "Name: target, dtype: int64\n"
     ]
    }
   ],
   "source": [
    "for i in range(12,18):\n",
    "    indx = person_rn_set.loc[i, 'index']\n",
    "    tmp = train[train['person_rn']==indx]['target']\n",
    "    print(indx)\n",
    "    print(tmp.value_counts())"
   ]
  },
  {
   "cell_type": "markdown",
   "metadata": {},
   "source": [
    "# target 값 별로 각 특성 개수 확인"
   ]
  },
  {
   "cell_type": "code",
   "execution_count": 100,
   "metadata": {},
   "outputs": [],
   "source": [
    "# 차이가 비교적 많이 나는 특성(22개)\n",
    "\n",
    "# d_l_match_yn\n",
    "# d_m_match_yn\n",
    "# d_s_match_yn\n",
    "\n",
    "# person_attribute_a\n",
    "# person_attribute_a_1\n",
    "# person_attribute_b\n",
    "# person_prefer_c\n",
    "\n",
    "# person_prefer_d_1\n",
    "# person_prefer_d_2\n",
    "# person_prefer_d_3\n",
    "\n",
    "# person_prefer_e\n",
    "\n",
    "# person_prefer_h_1\n",
    "# person_prefer_h_2\n",
    "# person_prefer_h_3\n",
    "##############################\n",
    "# contents_attribute_j\n",
    "# contents_attribute_j_1\n",
    "# contents_attribute_c\n",
    "\n",
    "# contents_attribute_l\n",
    "# contents_attribute_d\n",
    "\n",
    "# contents_attribute_m\n",
    "# contents_attribute_e\n",
    "\n",
    "# contents_attribute_h"
   ]
  },
  {
   "cell_type": "code",
   "execution_count": 102,
   "metadata": {},
   "outputs": [
    {
     "data": {
      "text/html": [
       "<div>\n",
       "<style scoped>\n",
       "    .dataframe tbody tr th:only-of-type {\n",
       "        vertical-align: middle;\n",
       "    }\n",
       "\n",
       "    .dataframe tbody tr th {\n",
       "        vertical-align: top;\n",
       "    }\n",
       "\n",
       "    .dataframe thead th {\n",
       "        text-align: right;\n",
       "    }\n",
       "</style>\n",
       "<table border=\"1\" class=\"dataframe\">\n",
       "  <thead>\n",
       "    <tr style=\"text-align: right;\">\n",
       "      <th></th>\n",
       "      <th>d_l_match_yn</th>\n",
       "      <th>d_m_match_yn</th>\n",
       "      <th>d_s_match_yn</th>\n",
       "      <th>h_l_match_yn</th>\n",
       "      <th>h_m_match_yn</th>\n",
       "      <th>h_s_match_yn</th>\n",
       "      <th>person_attribute_a</th>\n",
       "      <th>person_attribute_a_1</th>\n",
       "      <th>person_attribute_b</th>\n",
       "      <th>person_prefer_c</th>\n",
       "      <th>...</th>\n",
       "      <th>contents_attribute_c</th>\n",
       "      <th>contents_attribute_k</th>\n",
       "      <th>contents_attribute_l</th>\n",
       "      <th>contents_attribute_d</th>\n",
       "      <th>contents_attribute_m</th>\n",
       "      <th>contents_attribute_e</th>\n",
       "      <th>contents_attribute_h</th>\n",
       "      <th>person_rn</th>\n",
       "      <th>contents_rn</th>\n",
       "      <th>target</th>\n",
       "    </tr>\n",
       "  </thead>\n",
       "  <tbody>\n",
       "    <tr>\n",
       "      <th>0</th>\n",
       "      <td>True</td>\n",
       "      <td>True</td>\n",
       "      <td>True</td>\n",
       "      <td>False</td>\n",
       "      <td>False</td>\n",
       "      <td>False</td>\n",
       "      <td>1</td>\n",
       "      <td>4</td>\n",
       "      <td>3</td>\n",
       "      <td>5</td>\n",
       "      <td>...</td>\n",
       "      <td>1</td>\n",
       "      <td>2</td>\n",
       "      <td>1608</td>\n",
       "      <td>275</td>\n",
       "      <td>1</td>\n",
       "      <td>4</td>\n",
       "      <td>139</td>\n",
       "      <td>618822</td>\n",
       "      <td>354805</td>\n",
       "      <td>1</td>\n",
       "    </tr>\n",
       "    <tr>\n",
       "      <th>1</th>\n",
       "      <td>False</td>\n",
       "      <td>False</td>\n",
       "      <td>False</td>\n",
       "      <td>True</td>\n",
       "      <td>False</td>\n",
       "      <td>False</td>\n",
       "      <td>1</td>\n",
       "      <td>1</td>\n",
       "      <td>2</td>\n",
       "      <td>5</td>\n",
       "      <td>...</td>\n",
       "      <td>1</td>\n",
       "      <td>2</td>\n",
       "      <td>1608</td>\n",
       "      <td>275</td>\n",
       "      <td>1</td>\n",
       "      <td>4</td>\n",
       "      <td>74</td>\n",
       "      <td>836994</td>\n",
       "      <td>580234</td>\n",
       "      <td>1</td>\n",
       "    </tr>\n",
       "    <tr>\n",
       "      <th>2</th>\n",
       "      <td>True</td>\n",
       "      <td>False</td>\n",
       "      <td>False</td>\n",
       "      <td>True</td>\n",
       "      <td>False</td>\n",
       "      <td>False</td>\n",
       "      <td>1</td>\n",
       "      <td>2</td>\n",
       "      <td>2</td>\n",
       "      <td>1</td>\n",
       "      <td>...</td>\n",
       "      <td>1</td>\n",
       "      <td>2</td>\n",
       "      <td>1608</td>\n",
       "      <td>275</td>\n",
       "      <td>5</td>\n",
       "      <td>4</td>\n",
       "      <td>133</td>\n",
       "      <td>763441</td>\n",
       "      <td>348156</td>\n",
       "      <td>1</td>\n",
       "    </tr>\n",
       "    <tr>\n",
       "      <th>3</th>\n",
       "      <td>True</td>\n",
       "      <td>False</td>\n",
       "      <td>False</td>\n",
       "      <td>True</td>\n",
       "      <td>True</td>\n",
       "      <td>True</td>\n",
       "      <td>1</td>\n",
       "      <td>3</td>\n",
       "      <td>2</td>\n",
       "      <td>5</td>\n",
       "      <td>...</td>\n",
       "      <td>1</td>\n",
       "      <td>2</td>\n",
       "      <td>527</td>\n",
       "      <td>1230</td>\n",
       "      <td>1</td>\n",
       "      <td>6</td>\n",
       "      <td>139</td>\n",
       "      <td>584136</td>\n",
       "      <td>364871</td>\n",
       "      <td>1</td>\n",
       "    </tr>\n",
       "    <tr>\n",
       "      <th>4</th>\n",
       "      <td>True</td>\n",
       "      <td>False</td>\n",
       "      <td>False</td>\n",
       "      <td>True</td>\n",
       "      <td>False</td>\n",
       "      <td>False</td>\n",
       "      <td>1</td>\n",
       "      <td>6</td>\n",
       "      <td>2</td>\n",
       "      <td>5</td>\n",
       "      <td>...</td>\n",
       "      <td>1</td>\n",
       "      <td>2</td>\n",
       "      <td>527</td>\n",
       "      <td>1230</td>\n",
       "      <td>1</td>\n",
       "      <td>6</td>\n",
       "      <td>139</td>\n",
       "      <td>549183</td>\n",
       "      <td>364871</td>\n",
       "      <td>1</td>\n",
       "    </tr>\n",
       "  </tbody>\n",
       "</table>\n",
       "<p>5 rows × 31 columns</p>\n",
       "</div>"
      ],
      "text/plain": [
       "   d_l_match_yn  d_m_match_yn  d_s_match_yn  h_l_match_yn  h_m_match_yn  \\\n",
       "0          True          True          True         False         False   \n",
       "1         False         False         False          True         False   \n",
       "2          True         False         False          True         False   \n",
       "3          True         False         False          True          True   \n",
       "4          True         False         False          True         False   \n",
       "\n",
       "   h_s_match_yn  person_attribute_a  person_attribute_a_1  person_attribute_b  \\\n",
       "0         False                   1                     4                   3   \n",
       "1         False                   1                     1                   2   \n",
       "2         False                   1                     2                   2   \n",
       "3          True                   1                     3                   2   \n",
       "4         False                   1                     6                   2   \n",
       "\n",
       "   person_prefer_c  ...  contents_attribute_c  contents_attribute_k  \\\n",
       "0                5  ...                     1                     2   \n",
       "1                5  ...                     1                     2   \n",
       "2                1  ...                     1                     2   \n",
       "3                5  ...                     1                     2   \n",
       "4                5  ...                     1                     2   \n",
       "\n",
       "   contents_attribute_l  contents_attribute_d  contents_attribute_m  \\\n",
       "0                  1608                   275                     1   \n",
       "1                  1608                   275                     1   \n",
       "2                  1608                   275                     5   \n",
       "3                   527                  1230                     1   \n",
       "4                   527                  1230                     1   \n",
       "\n",
       "   contents_attribute_e  contents_attribute_h  person_rn  contents_rn  target  \n",
       "0                     4                   139     618822       354805       1  \n",
       "1                     4                    74     836994       580234       1  \n",
       "2                     4                   133     763441       348156       1  \n",
       "3                     6                   139     584136       364871       1  \n",
       "4                     6                   139     549183       364871       1  \n",
       "\n",
       "[5 rows x 31 columns]"
      ]
     },
     "execution_count": 102,
     "metadata": {},
     "output_type": "execute_result"
    }
   ],
   "source": [
    "# train 셋에서 target값이 '1'인 샘플만 추출\n",
    "train_target_true = train[train['target'] == True].reset_index(drop=True)\n",
    "train_target_true = train_target_true.drop(['id', 'contents_open_dt', 'person_prefer_f', 'person_prefer_g'], axis=1)\n",
    "train_target_true.head()"
   ]
  },
  {
   "cell_type": "code",
   "execution_count": 103,
   "metadata": {},
   "outputs": [
    {
     "data": {
      "text/html": [
       "<div>\n",
       "<style scoped>\n",
       "    .dataframe tbody tr th:only-of-type {\n",
       "        vertical-align: middle;\n",
       "    }\n",
       "\n",
       "    .dataframe tbody tr th {\n",
       "        vertical-align: top;\n",
       "    }\n",
       "\n",
       "    .dataframe thead th {\n",
       "        text-align: right;\n",
       "    }\n",
       "</style>\n",
       "<table border=\"1\" class=\"dataframe\">\n",
       "  <thead>\n",
       "    <tr style=\"text-align: right;\">\n",
       "      <th></th>\n",
       "      <th>d_l_match_yn</th>\n",
       "      <th>d_m_match_yn</th>\n",
       "      <th>d_s_match_yn</th>\n",
       "      <th>h_l_match_yn</th>\n",
       "      <th>h_m_match_yn</th>\n",
       "      <th>h_s_match_yn</th>\n",
       "      <th>person_attribute_a</th>\n",
       "      <th>person_attribute_a_1</th>\n",
       "      <th>person_attribute_b</th>\n",
       "      <th>person_prefer_c</th>\n",
       "      <th>...</th>\n",
       "      <th>contents_attribute_c</th>\n",
       "      <th>contents_attribute_k</th>\n",
       "      <th>contents_attribute_l</th>\n",
       "      <th>contents_attribute_d</th>\n",
       "      <th>contents_attribute_m</th>\n",
       "      <th>contents_attribute_e</th>\n",
       "      <th>contents_attribute_h</th>\n",
       "      <th>person_rn</th>\n",
       "      <th>contents_rn</th>\n",
       "      <th>target</th>\n",
       "    </tr>\n",
       "  </thead>\n",
       "  <tbody>\n",
       "    <tr>\n",
       "      <th>0</th>\n",
       "      <td>False</td>\n",
       "      <td>False</td>\n",
       "      <td>False</td>\n",
       "      <td>True</td>\n",
       "      <td>True</td>\n",
       "      <td>False</td>\n",
       "      <td>1</td>\n",
       "      <td>3</td>\n",
       "      <td>4</td>\n",
       "      <td>1</td>\n",
       "      <td>...</td>\n",
       "      <td>1</td>\n",
       "      <td>2</td>\n",
       "      <td>1608</td>\n",
       "      <td>275</td>\n",
       "      <td>1</td>\n",
       "      <td>4</td>\n",
       "      <td>133</td>\n",
       "      <td>571659</td>\n",
       "      <td>346213</td>\n",
       "      <td>0</td>\n",
       "    </tr>\n",
       "    <tr>\n",
       "      <th>1</th>\n",
       "      <td>False</td>\n",
       "      <td>False</td>\n",
       "      <td>False</td>\n",
       "      <td>True</td>\n",
       "      <td>False</td>\n",
       "      <td>False</td>\n",
       "      <td>2</td>\n",
       "      <td>0</td>\n",
       "      <td>3</td>\n",
       "      <td>5</td>\n",
       "      <td>...</td>\n",
       "      <td>1</td>\n",
       "      <td>1</td>\n",
       "      <td>1600</td>\n",
       "      <td>94</td>\n",
       "      <td>1</td>\n",
       "      <td>4</td>\n",
       "      <td>53</td>\n",
       "      <td>399816</td>\n",
       "      <td>206408</td>\n",
       "      <td>0</td>\n",
       "    </tr>\n",
       "    <tr>\n",
       "      <th>2</th>\n",
       "      <td>False</td>\n",
       "      <td>False</td>\n",
       "      <td>False</td>\n",
       "      <td>True</td>\n",
       "      <td>False</td>\n",
       "      <td>False</td>\n",
       "      <td>2</td>\n",
       "      <td>0</td>\n",
       "      <td>2</td>\n",
       "      <td>5</td>\n",
       "      <td>...</td>\n",
       "      <td>1</td>\n",
       "      <td>2</td>\n",
       "      <td>1608</td>\n",
       "      <td>275</td>\n",
       "      <td>5</td>\n",
       "      <td>3</td>\n",
       "      <td>74</td>\n",
       "      <td>827967</td>\n",
       "      <td>572323</td>\n",
       "      <td>0</td>\n",
       "    </tr>\n",
       "    <tr>\n",
       "      <th>3</th>\n",
       "      <td>True</td>\n",
       "      <td>True</td>\n",
       "      <td>True</td>\n",
       "      <td>False</td>\n",
       "      <td>False</td>\n",
       "      <td>False</td>\n",
       "      <td>1</td>\n",
       "      <td>3</td>\n",
       "      <td>4</td>\n",
       "      <td>5</td>\n",
       "      <td>...</td>\n",
       "      <td>1</td>\n",
       "      <td>2</td>\n",
       "      <td>1608</td>\n",
       "      <td>275</td>\n",
       "      <td>1</td>\n",
       "      <td>4</td>\n",
       "      <td>74</td>\n",
       "      <td>831614</td>\n",
       "      <td>573899</td>\n",
       "      <td>0</td>\n",
       "    </tr>\n",
       "    <tr>\n",
       "      <th>4</th>\n",
       "      <td>False</td>\n",
       "      <td>False</td>\n",
       "      <td>False</td>\n",
       "      <td>True</td>\n",
       "      <td>False</td>\n",
       "      <td>False</td>\n",
       "      <td>2</td>\n",
       "      <td>0</td>\n",
       "      <td>3</td>\n",
       "      <td>5</td>\n",
       "      <td>...</td>\n",
       "      <td>3</td>\n",
       "      <td>2</td>\n",
       "      <td>1817</td>\n",
       "      <td>492</td>\n",
       "      <td>5</td>\n",
       "      <td>5</td>\n",
       "      <td>53</td>\n",
       "      <td>380340</td>\n",
       "      <td>204014</td>\n",
       "      <td>0</td>\n",
       "    </tr>\n",
       "  </tbody>\n",
       "</table>\n",
       "<p>5 rows × 31 columns</p>\n",
       "</div>"
      ],
      "text/plain": [
       "   d_l_match_yn  d_m_match_yn  d_s_match_yn  h_l_match_yn  h_m_match_yn  \\\n",
       "0         False         False         False          True          True   \n",
       "1         False         False         False          True         False   \n",
       "2         False         False         False          True         False   \n",
       "3          True          True          True         False         False   \n",
       "4         False         False         False          True         False   \n",
       "\n",
       "   h_s_match_yn  person_attribute_a  person_attribute_a_1  person_attribute_b  \\\n",
       "0         False                   1                     3                   4   \n",
       "1         False                   2                     0                   3   \n",
       "2         False                   2                     0                   2   \n",
       "3         False                   1                     3                   4   \n",
       "4         False                   2                     0                   3   \n",
       "\n",
       "   person_prefer_c  ...  contents_attribute_c  contents_attribute_k  \\\n",
       "0                1  ...                     1                     2   \n",
       "1                5  ...                     1                     1   \n",
       "2                5  ...                     1                     2   \n",
       "3                5  ...                     1                     2   \n",
       "4                5  ...                     3                     2   \n",
       "\n",
       "   contents_attribute_l  contents_attribute_d  contents_attribute_m  \\\n",
       "0                  1608                   275                     1   \n",
       "1                  1600                    94                     1   \n",
       "2                  1608                   275                     5   \n",
       "3                  1608                   275                     1   \n",
       "4                  1817                   492                     5   \n",
       "\n",
       "   contents_attribute_e  contents_attribute_h  person_rn  contents_rn  target  \n",
       "0                     4                   133     571659       346213       0  \n",
       "1                     4                    53     399816       206408       0  \n",
       "2                     3                    74     827967       572323       0  \n",
       "3                     4                    74     831614       573899       0  \n",
       "4                     5                    53     380340       204014       0  \n",
       "\n",
       "[5 rows x 31 columns]"
      ]
     },
     "execution_count": 103,
     "metadata": {},
     "output_type": "execute_result"
    }
   ],
   "source": [
    "# train 셋에서 target값이 '0'인 샘플만 추출\n",
    "train_target_false = train[train['target'] == False].reset_index(drop=True)\n",
    "train_target_false = train_target_false.drop(['id', 'contents_open_dt', 'person_prefer_f', 'person_prefer_g'], axis=1)\n",
    "train_target_false.head()"
   ]
  },
  {
   "cell_type": "markdown",
   "metadata": {},
   "source": [
    "## target 값 기준 특성별 카운터 값 시각화"
   ]
  },
  {
   "cell_type": "code",
   "execution_count": 104,
   "metadata": {},
   "outputs": [
    {
     "data": {
      "text/plain": [
       "0    251106\n",
       "1    250845\n",
       "Name: target, dtype: int64"
      ]
     },
     "execution_count": 104,
     "metadata": {},
     "output_type": "execute_result"
    }
   ],
   "source": [
    "train['target'].value_counts()"
   ]
  },
  {
   "cell_type": "markdown",
   "metadata": {},
   "source": [
    "## d_l_match_yn 특성"
   ]
  },
  {
   "cell_type": "code",
   "execution_count": 105,
   "metadata": {},
   "outputs": [
    {
     "data": {
      "text/html": [
       "<div>\n",
       "<style scoped>\n",
       "    .dataframe tbody tr th:only-of-type {\n",
       "        vertical-align: middle;\n",
       "    }\n",
       "\n",
       "    .dataframe tbody tr th {\n",
       "        vertical-align: top;\n",
       "    }\n",
       "\n",
       "    .dataframe thead th {\n",
       "        text-align: right;\n",
       "    }\n",
       "</style>\n",
       "<table border=\"1\" class=\"dataframe\">\n",
       "  <thead>\n",
       "    <tr style=\"text-align: right;\">\n",
       "      <th></th>\n",
       "      <th>0</th>\n",
       "    </tr>\n",
       "  </thead>\n",
       "  <tbody>\n",
       "    <tr>\n",
       "      <th>0</th>\n",
       "      <td>False</td>\n",
       "    </tr>\n",
       "    <tr>\n",
       "      <th>1</th>\n",
       "      <td>True</td>\n",
       "    </tr>\n",
       "  </tbody>\n",
       "</table>\n",
       "</div>"
      ],
      "text/plain": [
       "       0\n",
       "0  False\n",
       "1   True"
      ]
     },
     "execution_count": 105,
     "metadata": {},
     "output_type": "execute_result"
    }
   ],
   "source": [
    "col = 'd_l_match_yn'\n",
    "tmp = train_target_false[col].unique()\n",
    "tmp.sort()\n",
    "tmp_df = pd.DataFrame(tmp)\n",
    "tmp_df"
   ]
  },
  {
   "cell_type": "code",
   "execution_count": 106,
   "metadata": {},
   "outputs": [
    {
     "data": {
      "text/html": [
       "<div>\n",
       "<style scoped>\n",
       "    .dataframe tbody tr th:only-of-type {\n",
       "        vertical-align: middle;\n",
       "    }\n",
       "\n",
       "    .dataframe tbody tr th {\n",
       "        vertical-align: top;\n",
       "    }\n",
       "\n",
       "    .dataframe thead th {\n",
       "        text-align: right;\n",
       "    }\n",
       "</style>\n",
       "<table border=\"1\" class=\"dataframe\">\n",
       "  <thead>\n",
       "    <tr style=\"text-align: right;\">\n",
       "      <th></th>\n",
       "      <th>index</th>\n",
       "      <th>d_l_match_yn</th>\n",
       "    </tr>\n",
       "  </thead>\n",
       "  <tbody>\n",
       "    <tr>\n",
       "      <th>0</th>\n",
       "      <td>True</td>\n",
       "      <td>140410</td>\n",
       "    </tr>\n",
       "    <tr>\n",
       "      <th>1</th>\n",
       "      <td>False</td>\n",
       "      <td>110696</td>\n",
       "    </tr>\n",
       "  </tbody>\n",
       "</table>\n",
       "</div>"
      ],
      "text/plain": [
       "   index  d_l_match_yn\n",
       "0   True        140410\n",
       "1  False        110696"
      ]
     },
     "execution_count": 106,
     "metadata": {},
     "output_type": "execute_result"
    }
   ],
   "source": [
    "tmp_value = train_target_false[col].value_counts()\n",
    "tmp_value_df = pd.DataFrame(tmp_value).reset_index()\n",
    "tmp_value_df"
   ]
  },
  {
   "cell_type": "code",
   "execution_count": 107,
   "metadata": {},
   "outputs": [
    {
     "data": {
      "text/plain": [
       "0     True\n",
       "1    False\n",
       "Name: index, dtype: bool"
      ]
     },
     "execution_count": 107,
     "metadata": {},
     "output_type": "execute_result"
    }
   ],
   "source": [
    "tmp_value_df['index']"
   ]
  },
  {
   "cell_type": "code",
   "execution_count": 108,
   "metadata": {},
   "outputs": [],
   "source": [
    "tmpf = pd.merge(tmp_df, tmp_value_df, left_on=0, right_on='index')"
   ]
  },
  {
   "cell_type": "code",
   "execution_count": 109,
   "metadata": {},
   "outputs": [
    {
     "data": {
      "text/html": [
       "<div>\n",
       "<style scoped>\n",
       "    .dataframe tbody tr th:only-of-type {\n",
       "        vertical-align: middle;\n",
       "    }\n",
       "\n",
       "    .dataframe tbody tr th {\n",
       "        vertical-align: top;\n",
       "    }\n",
       "\n",
       "    .dataframe thead th {\n",
       "        text-align: right;\n",
       "    }\n",
       "</style>\n",
       "<table border=\"1\" class=\"dataframe\">\n",
       "  <thead>\n",
       "    <tr style=\"text-align: right;\">\n",
       "      <th></th>\n",
       "      <th>0</th>\n",
       "      <th>index</th>\n",
       "      <th>d_l_match_yn</th>\n",
       "    </tr>\n",
       "  </thead>\n",
       "  <tbody>\n",
       "    <tr>\n",
       "      <th>0</th>\n",
       "      <td>False</td>\n",
       "      <td>False</td>\n",
       "      <td>110696</td>\n",
       "    </tr>\n",
       "    <tr>\n",
       "      <th>1</th>\n",
       "      <td>True</td>\n",
       "      <td>True</td>\n",
       "      <td>140410</td>\n",
       "    </tr>\n",
       "  </tbody>\n",
       "</table>\n",
       "</div>"
      ],
      "text/plain": [
       "       0  index  d_l_match_yn\n",
       "0  False  False        110696\n",
       "1   True   True        140410"
      ]
     },
     "execution_count": 109,
     "metadata": {},
     "output_type": "execute_result"
    }
   ],
   "source": [
    "tmpf"
   ]
  },
  {
   "cell_type": "code",
   "execution_count": 110,
   "metadata": {},
   "outputs": [
    {
     "data": {
      "text/html": [
       "<div>\n",
       "<style scoped>\n",
       "    .dataframe tbody tr th:only-of-type {\n",
       "        vertical-align: middle;\n",
       "    }\n",
       "\n",
       "    .dataframe tbody tr th {\n",
       "        vertical-align: top;\n",
       "    }\n",
       "\n",
       "    .dataframe thead th {\n",
       "        text-align: right;\n",
       "    }\n",
       "</style>\n",
       "<table border=\"1\" class=\"dataframe\">\n",
       "  <thead>\n",
       "    <tr style=\"text-align: right;\">\n",
       "      <th></th>\n",
       "      <th>0</th>\n",
       "      <th>index</th>\n",
       "      <th>d_l_match_yn</th>\n",
       "    </tr>\n",
       "  </thead>\n",
       "  <tbody>\n",
       "    <tr>\n",
       "      <th>0</th>\n",
       "      <td>False</td>\n",
       "      <td>False</td>\n",
       "      <td>110696</td>\n",
       "    </tr>\n",
       "    <tr>\n",
       "      <th>1</th>\n",
       "      <td>True</td>\n",
       "      <td>True</td>\n",
       "      <td>140410</td>\n",
       "    </tr>\n",
       "  </tbody>\n",
       "</table>\n",
       "</div>"
      ],
      "text/plain": [
       "       0  index  d_l_match_yn\n",
       "0  False  False        110696\n",
       "1   True   True        140410"
      ]
     },
     "execution_count": 110,
     "metadata": {},
     "output_type": "execute_result"
    }
   ],
   "source": [
    "col = 'd_l_match_yn'\n",
    "\n",
    "x0_df = pd.DataFrame(train_target_false[col].unique())\n",
    "y0_df = pd.DataFrame(train_target_false[col].value_counts()).reset_index()\n",
    "\n",
    "false_total_df = pd.merge(x0_df, y0_df, left_on=0, right_on='index')\n",
    "false_total_df"
   ]
  },
  {
   "cell_type": "code",
   "execution_count": 111,
   "metadata": {},
   "outputs": [
    {
     "data": {
      "text/html": [
       "<div>\n",
       "<style scoped>\n",
       "    .dataframe tbody tr th:only-of-type {\n",
       "        vertical-align: middle;\n",
       "    }\n",
       "\n",
       "    .dataframe tbody tr th {\n",
       "        vertical-align: top;\n",
       "    }\n",
       "\n",
       "    .dataframe thead th {\n",
       "        text-align: right;\n",
       "    }\n",
       "</style>\n",
       "<table border=\"1\" class=\"dataframe\">\n",
       "  <thead>\n",
       "    <tr style=\"text-align: right;\">\n",
       "      <th></th>\n",
       "      <th>0</th>\n",
       "      <th>index</th>\n",
       "      <th>d_l_match_yn</th>\n",
       "    </tr>\n",
       "  </thead>\n",
       "  <tbody>\n",
       "    <tr>\n",
       "      <th>0</th>\n",
       "      <td>True</td>\n",
       "      <td>True</td>\n",
       "      <td>174858</td>\n",
       "    </tr>\n",
       "    <tr>\n",
       "      <th>1</th>\n",
       "      <td>False</td>\n",
       "      <td>False</td>\n",
       "      <td>75987</td>\n",
       "    </tr>\n",
       "  </tbody>\n",
       "</table>\n",
       "</div>"
      ],
      "text/plain": [
       "       0  index  d_l_match_yn\n",
       "0   True   True        174858\n",
       "1  False  False         75987"
      ]
     },
     "execution_count": 111,
     "metadata": {},
     "output_type": "execute_result"
    }
   ],
   "source": [
    "col = 'd_l_match_yn'\n",
    "\n",
    "x1_df = pd.DataFrame(train_target_true[col].unique())\n",
    "y1_df = pd.DataFrame(train_target_true[col].value_counts()).reset_index()\n",
    "\n",
    "true_total_df = pd.merge(x1_df, y1_df, left_on=0, right_on='index')\n",
    "true_total_df"
   ]
  },
  {
   "cell_type": "code",
   "execution_count": 112,
   "metadata": {},
   "outputs": [
    {
     "data": {
      "text/plain": [
       "<matplotlib.legend.Legend at 0x189af284dc0>"
      ]
     },
     "execution_count": 112,
     "metadata": {},
     "output_type": "execute_result"
    },
    {
     "data": {
      "image/png": "[encoded data removed]",
      "text/plain": [
       "<Figure size 576x432 with 1 Axes>"
      ]
     },
     "metadata": {
      "needs_background": "light"
     },
     "output_type": "display_data"
    }
   ],
   "source": [
    "x0 = false_total_df.iloc[:,1]\n",
    "y0 = false_total_df.iloc[:,2]\n",
    "\n",
    "x1 = true_total_df.iloc[:,1]\n",
    "y1 = true_total_df.iloc[:,2]\n",
    "\n",
    "plt.figure(figsize=(8,6))\n",
    "plt.title(f'{col}의 target 값 기준 분포', fontdict={'size':15})\n",
    "\n",
    "plt.xticks(x0, fontsize=15)\n",
    "plt.yticks(fontsize=15)\n",
    "\n",
    "plt.bar(x1, y1, color='blue', label='True', width=0.3)\n",
    "plt.bar(x0+0.3, y0, color='red', label='False', width=0.3)\n",
    "\n",
    "plt.legend(fontsize=13)"
   ]
  },
  {
   "cell_type": "markdown",
   "metadata": {},
   "source": [
    "## 모든 특성"
   ]
  },
  {
   "cell_type": "code",
   "execution_count": 113,
   "metadata": {},
   "outputs": [
    {
     "name": "stderr",
     "output_type": "stream",
     "text": [
      "100%|██████████| 6/6 [00:00<00:00, 15.67it/s]\n"
     ]
    },
    {
     "data": {
      "image/png": "[encoded data removed]",
      "text/plain": [
       "<Figure size 576x432 with 1 Axes>"
      ]
     },
     "metadata": {
      "needs_background": "light"
     },
     "output_type": "display_data"
    },
    {
     "data": {
      "image/png": "[encoded data removed]",
      "text/plain": [
       "<Figure size 576x432 with 1 Axes>"
      ]
     },
     "metadata": {
      "needs_background": "light"
     },
     "output_type": "display_data"
    },
    {
     "data": {
      "image/png": "[encoded data removed]",
      "text/plain": [
       "<Figure size 576x432 with 1 Axes>"
      ]
     },
     "metadata": {
      "needs_background": "light"
     },
     "output_type": "display_data"
    },
    {
     "data": {
      "image/png": "[encoded data removed]",
      "text/plain": [
       "<Figure size 576x432 with 1 Axes>"
      ]
     },
     "metadata": {
      "needs_background": "light"
     },
     "output_type": "display_data"
    },
    {
     "data": {
      "image/png": "[encoded data removed]",
      "text/plain": [
       "<Figure size 576x432 with 1 Axes>"
      ]
     },
     "metadata": {
      "needs_background": "light"
     },
     "output_type": "display_data"
    },
    {
     "data": {
      "image/png": "[encoded data removed]",
      "text/plain": [
       "<Figure size 576x432 with 1 Axes>"
      ]
     },
     "metadata": {
      "needs_background": "light"
     },
     "output_type": "display_data"
    }
   ],
   "source": [
    "for col in tqdm(train_target_true.columns[:6]):\n",
    "\n",
    "    x0_df = pd.DataFrame(train_target_false[col].unique())\n",
    "    y0_df = pd.DataFrame(train_target_false[col].value_counts()).reset_index()\n",
    "    false_total_df = pd.merge(x0_df, y0_df, left_on=0, right_on='index')\n",
    "    \n",
    "    x1_df = pd.DataFrame(train_target_true[col].unique())\n",
    "    y1_df = pd.DataFrame(train_target_true[col].value_counts()).reset_index()\n",
    "    true_total_df = pd.merge(x1_df, y1_df, left_on=0, right_on='index')\n",
    "\n",
    "    x0 = false_total_df.iloc[:,1]\n",
    "    y0 = false_total_df.iloc[:,2]\n",
    "\n",
    "    x1 = true_total_df.iloc[:,1]\n",
    "    y1 = true_total_df.iloc[:,2]\n",
    "\n",
    "    plt.figure(figsize=(8,6))\n",
    "    plt.title(f'{col}의 target 값 기준 분포', fontdict={'size':15})\n",
    "\n",
    "    plt.xticks(x0, fontsize=15)\n",
    "    plt.yticks(fontsize=15)\n",
    "\n",
    "    plt.bar(x1, y1, color='blue', label='True', width=0.3)\n",
    "    plt.bar(x0+0.3, y0, color='red', label='False', width=0.3)\n",
    "\n",
    "    plt.legend(fontsize=13)"
   ]
  },
  {
   "cell_type": "code",
   "execution_count": 114,
   "metadata": {},
   "outputs": [
    {
     "name": "stderr",
     "output_type": "stream",
     "text": [
      "100%|██████████| 4/4 [00:00<00:00, 19.28it/s]\n"
     ]
    },
    {
     "data": {
      "image/png": "[encoded data removed]",
      "text/plain": [
       "<Figure size 576x432 with 1 Axes>"
      ]
     },
     "metadata": {
      "needs_background": "light"
     },
     "output_type": "display_data"
    },
    {
     "data": {
      "image/png": "[encoded data removed]",
      "text/plain": [
       "<Figure size 576x432 with 1 Axes>"
      ]
     },
     "metadata": {
      "needs_background": "light"
     },
     "output_type": "display_data"
    },
    {
     "data": {
      "image/png": "[encoded data removed]",
      "text/plain": [
       "<Figure size 576x432 with 1 Axes>"
      ]
     },
     "metadata": {
      "needs_background": "light"
     },
     "output_type": "display_data"
    },
    {
     "data": {
      "image/png": "[encoded data removed]",
      "text/plain": [
       "<Figure size 576x432 with 1 Axes>"
      ]
     },
     "metadata": {
      "needs_background": "light"
     },
     "output_type": "display_data"
    }
   ],
   "source": [
    "for col in tqdm(train_target_true.columns[6:10]):\n",
    "\n",
    "    x0_df = pd.DataFrame(train_target_false[col].unique())\n",
    "    y0_df = pd.DataFrame(train_target_false[col].value_counts()).reset_index()\n",
    "    false_total_df = pd.merge(x0_df, y0_df, left_on=0, right_on='index')\n",
    "    \n",
    "    x1_df = pd.DataFrame(train_target_true[col].unique())\n",
    "    y1_df = pd.DataFrame(train_target_true[col].value_counts()).reset_index()\n",
    "    true_total_df = pd.merge(x1_df, y1_df, left_on=0, right_on='index')\n",
    "\n",
    "    x0 = false_total_df.iloc[:,1]\n",
    "    y0 = false_total_df.iloc[:,2]\n",
    "\n",
    "    x1 = true_total_df.iloc[:,1]\n",
    "    y1 = true_total_df.iloc[:,2]\n",
    "\n",
    "    plt.figure(figsize=(8,6))\n",
    "    plt.title(f'{col}의 target 값 기준 분포', fontdict={'size':15})\n",
    "\n",
    "    plt.xticks(x0, fontsize=15)\n",
    "    plt.yticks(fontsize=15)\n",
    "\n",
    "    plt.bar(x1, y1, color='blue', label='True', width=0.3)\n",
    "    plt.bar(x0+0.3, y0, color='red', label='False', width=0.3)\n",
    "\n",
    "    plt.legend(fontsize=13)"
   ]
  },
  {
   "cell_type": "code",
   "execution_count": 115,
   "metadata": {},
   "outputs": [
    {
     "name": "stderr",
     "output_type": "stream",
     "text": [
      "100%|██████████| 3/3 [00:08<00:00,  2.76s/it]\n"
     ]
    },
    {
     "data": {
      "image/png": "[encoded data removed]",
      "text/plain": [
       "<Figure size 864x432 with 1 Axes>"
      ]
     },
     "metadata": {
      "needs_background": "light"
     },
     "output_type": "display_data"
    },
    {
     "data": {
      "image/png": "[encoded data removed]",
      "text/plain": [
       "<Figure size 864x432 with 1 Axes>"
      ]
     },
     "metadata": {
      "needs_background": "light"
     },
     "output_type": "display_data"
    }
   ],
   "source": [
    "for col in tqdm(train_target_true.columns[10:13]):\n",
    "\n",
    "    x0_df = pd.DataFrame(train_target_false[col].unique())\n",
    "    y0_df = pd.DataFrame(train_target_false[col].value_counts()).reset_index()\n",
    "    false_total_df = pd.merge(x0_df, y0_df, left_on=0, right_on='index')\n",
    "    \n",
    "    x1_df = pd.DataFrame(train_target_true[col].unique())\n",
    "    y1_df = pd.DataFrame(train_target_true[col].value_counts()).reset_index()\n",
    "    true_total_df = pd.merge(x1_df, y1_df, left_on=0, right_on='index')\n",
    "\n",
    "    x0 = false_total_df.iloc[:,1]\n",
    "    y0 = false_total_df.iloc[:,2]\n",
    "\n",
    "    x1 = true_total_df.iloc[:,1]\n",
    "    y1 = true_total_df.iloc[:,2]\n",
    "\n",
    "    plt.figure(figsize=(12,6))\n",
    "    plt.title(f'{col}의 target 값 기준 분포', fontdict={'size':15})\n",
    "\n",
    "    plt.xticks(x0, fontsize=15)\n",
    "    plt.yticks(fontsize=15)\n",
    "\n",
    "    plt.bar(x1, y1, color='blue', label='True', width=0.3)\n",
    "    plt.bar(x0+0.3, y0, color='red', label='False', width=0.3)\n",
    "\n",
    "    plt.legend(fontsize=13)\n",
    "# 1m 33s"
   ]
  },
  {
   "cell_type": "code",
   "execution_count": null,
   "metadata": {},
   "outputs": [
    {
     "name": "stderr",
     "output_type": "stream",
     "text": [
      "100%|██████████| 4/4 [00:02<00:00,  1.59it/s]\n"
     ]
    },
    {
     "data": {
      "image/png": "[encoded data removed]",
      "text/plain": [
       "<Figure size 576x432 with 1 Axes>"
      ]
     },
     "metadata": {
      "needs_background": "light"
     },
     "output_type": "display_data"
    },
    {
     "data": {
      "image/png": "[encoded data removed]",
      "text/plain": [
       "<Figure size 576x432 with 1 Axes>"
      ]
     },
     "metadata": {
      "needs_background": "light"
     },
     "output_type": "display_data"
    },
    {
     "data": {
      "image/png": "[encoded data removed]",
      "text/plain": [
       "<Figure size 576x432 with 1 Axes>"
      ]
     },
     "metadata": {
      "needs_background": "light"
     },
     "output_type": "display_data"
    },
    {
     "data": {
      "image/png": "[encoded data removed]",
      "text/plain": [
       "<Figure size 576x432 with 1 Axes>"
      ]
     },
     "metadata": {
      "needs_background": "light"
     },
     "output_type": "display_data"
    }
   ],
   "source": [
    "for col in tqdm(train_target_true.columns[13:17]):\n",
    "\n",
    "    x0_df = pd.DataFrame(train_target_false[col].unique())\n",
    "    y0_df = pd.DataFrame(train_target_false[col].value_counts()).reset_index()\n",
    "    false_total_df = pd.merge(x0_df, y0_df, left_on=0, right_on='index')\n",
    "    \n",
    "    x1_df = pd.DataFrame(train_target_true[col].unique())\n",
    "    y1_df = pd.DataFrame(train_target_true[col].value_counts()).reset_index()\n",
    "    true_total_df = pd.merge(x1_df, y1_df, left_on=0, right_on='index')\n",
    "\n",
    "    x0 = false_total_df.iloc[:,1]\n",
    "    y0 = false_total_df.iloc[:,2]\n",
    "\n",
    "    x1 = true_total_df.iloc[:,1]\n",
    "    y1 = true_total_df.iloc[:,2]\n",
    "\n",
    "    plt.figure(figsize=(8,6))\n",
    "    plt.title(f'{col}의 target 값 기준 분포', fontdict={'size':15})\n",
    "\n",
    "    plt.xticks(x0, fontsize=15)\n",
    "    plt.yticks(fontsize=15)\n",
    "\n",
    "    plt.bar(x1, y1, color='blue', label='True', width=0.3)\n",
    "    plt.bar(x0+0.3, y0, color='red', label='False', width=0.3)\n",
    "\n",
    "    plt.legend(fontsize=13)\n",
    "# 24s"
   ]
  },
  {
   "cell_type": "code",
   "execution_count": null,
   "metadata": {},
   "outputs": [
    {
     "name": "stderr",
     "output_type": "stream",
     "text": [
      "100%|██████████| 6/6 [00:00<00:00,  6.06it/s]\n"
     ]
    },
    {
     "data": {
      "image/png": "[encoded data removed]",
      "text/plain": [
       "<Figure size 576x432 with 1 Axes>"
      ]
     },
     "metadata": {
      "needs_background": "light"
     },
     "output_type": "display_data"
    },
    {
     "data": {
      "image/png": "[encoded data removed]",
      "text/plain": [
       "<Figure size 576x432 with 1 Axes>"
      ]
     },
     "metadata": {
      "needs_background": "light"
     },
     "output_type": "display_data"
    },
    {
     "data": {
      "image/png": "[encoded data removed]",
      "text/plain": [
       "<Figure size 576x432 with 1 Axes>"
      ]
     },
     "metadata": {
      "needs_background": "light"
     },
     "output_type": "display_data"
    },
    {
     "data": {
      "image/png": "[encoded data removed]",
      "text/plain": [
       "<Figure size 576x432 with 1 Axes>"
      ]
     },
     "metadata": {
      "needs_background": "light"
     },
     "output_type": "display_data"
    },
    {
     "data": {
      "image/png": "[encoded data removed]",
      "text/plain": [
       "<Figure size 576x432 with 1 Axes>"
      ]
     },
     "metadata": {
      "needs_background": "light"
     },
     "output_type": "display_data"
    },
    {
     "data": {
      "image/png": "[encoded data removed]",
      "text/plain": [
       "<Figure size 576x432 with 1 Axes>"
      ]
     },
     "metadata": {
      "needs_background": "light"
     },
     "output_type": "display_data"
    }
   ],
   "source": [
    "for col in tqdm(train_target_true.columns[17:23]):\n",
    "\n",
    "    x0_df = pd.DataFrame(train_target_false[col].unique())\n",
    "    y0_df = pd.DataFrame(train_target_false[col].value_counts()).reset_index()\n",
    "    false_total_df = pd.merge(x0_df, y0_df, left_on=0, right_on='index')\n",
    "    \n",
    "    x1_df = pd.DataFrame(train_target_true[col].unique())\n",
    "    y1_df = pd.DataFrame(train_target_true[col].value_counts()).reset_index()\n",
    "    true_total_df = pd.merge(x1_df, y1_df, left_on=0, right_on='index')\n",
    "\n",
    "    x0 = false_total_df.iloc[:,1]\n",
    "    y0 = false_total_df.iloc[:,2]\n",
    "\n",
    "    x1 = true_total_df.iloc[:,1]\n",
    "    y1 = true_total_df.iloc[:,2]\n",
    "\n",
    "    plt.figure(figsize=(8,6))\n",
    "    plt.title(f'{col}의 target 값 기준 분포', fontdict={'size':15})\n",
    "\n",
    "    plt.xticks(x0, fontsize=15)\n",
    "    plt.yticks(fontsize=15)\n",
    "\n",
    "    plt.bar(x1, y1, color='blue', label='True', width=0.3)\n",
    "    plt.bar(x0+0.3, y0, color='red', label='False', width=0.3)\n",
    "\n",
    "    plt.legend(fontsize=13)"
   ]
  },
  {
   "cell_type": "code",
   "execution_count": null,
   "metadata": {},
   "outputs": [
    {
     "name": "stderr",
     "output_type": "stream",
     "text": [
      "100%|██████████| 2/2 [00:09<00:00,  4.85s/it]\n"
     ]
    },
    {
     "data": {
      "image/png": "[encoded data removed]",
      "text/plain": [
       "<Figure size 864x432 with 1 Axes>"
      ]
     },
     "metadata": {
      "needs_background": "light"
     },
     "output_type": "display_data"
    },
    {
     "data": {
      "image/png": "[encoded data removed]",
      "text/plain": [
       "<Figure size 864x432 with 1 Axes>"
      ]
     },
     "metadata": {
      "needs_background": "light"
     },
     "output_type": "display_data"
    }
   ],
   "source": [
    "for col in tqdm(train_target_true.columns[23:25]):\n",
    "\n",
    "    x0_df = pd.DataFrame(train_target_false[col].unique())\n",
    "    y0_df = pd.DataFrame(train_target_false[col].value_counts()).reset_index()\n",
    "    false_total_df = pd.merge(x0_df, y0_df, left_on=0, right_on='index')\n",
    "    \n",
    "    x1_df = pd.DataFrame(train_target_true[col].unique())\n",
    "    y1_df = pd.DataFrame(train_target_true[col].value_counts()).reset_index()\n",
    "    true_total_df = pd.merge(x1_df, y1_df, left_on=0, right_on='index')\n",
    "\n",
    "    x0 = false_total_df.iloc[:,1]\n",
    "    y0 = false_total_df.iloc[:,2]\n",
    "\n",
    "    x1 = true_total_df.iloc[:,1]\n",
    "    y1 = true_total_df.iloc[:,2]\n",
    "\n",
    "    plt.figure(figsize=(12,6))\n",
    "    plt.title(f'{col}의 target 값 기준 분포', fontdict={'size':15})\n",
    "\n",
    "    plt.xticks(x0, fontsize=15)\n",
    "    plt.yticks(fontsize=15)\n",
    "\n",
    "    plt.bar(x1, y1, color='blue', label='True', width=0.3)\n",
    "    plt.bar(x0+0.3, y0, color='red', label='False', width=0.3)\n",
    "\n",
    "    plt.legend(fontsize=13)\n",
    "# 1m 14s"
   ]
  },
  {
   "cell_type": "code",
   "execution_count": null,
   "metadata": {},
   "outputs": [
    {
     "name": "stderr",
     "output_type": "stream",
     "text": [
      "100%|██████████| 2/2 [00:00<00:00, 12.08it/s]\n"
     ]
    },
    {
     "data": {
      "image/png": "[encoded data removed]",
      "text/plain": [
       "<Figure size 576x432 with 1 Axes>"
      ]
     },
     "metadata": {
      "needs_background": "light"
     },
     "output_type": "display_data"
    },
    {
     "data": {
      "image/png": "[encoded data removed]",
      "text/plain": [
       "<Figure size 576x432 with 1 Axes>"
      ]
     },
     "metadata": {
      "needs_background": "light"
     },
     "output_type": "display_data"
    }
   ],
   "source": [
    "for col in tqdm(train_target_true.columns[25:27]):\n",
    "\n",
    "    x0_df = pd.DataFrame(train_target_false[col].unique())\n",
    "    y0_df = pd.DataFrame(train_target_false[col].value_counts()).reset_index()\n",
    "    false_total_df = pd.merge(x0_df, y0_df, left_on=0, right_on='index')\n",
    "    \n",
    "    x1_df = pd.DataFrame(train_target_true[col].unique())\n",
    "    y1_df = pd.DataFrame(train_target_true[col].value_counts()).reset_index()\n",
    "    true_total_df = pd.merge(x1_df, y1_df, left_on=0, right_on='index')\n",
    "\n",
    "    x0 = false_total_df.iloc[:,1]\n",
    "    y0 = false_total_df.iloc[:,2]\n",
    "\n",
    "    x1 = true_total_df.iloc[:,1]\n",
    "    y1 = true_total_df.iloc[:,2]\n",
    "\n",
    "    plt.figure(figsize=(8,6))\n",
    "    plt.title(f'{col}의 target 값 기준 분포', fontdict={'size':15})\n",
    "\n",
    "    plt.xticks(x0, fontsize=15)\n",
    "    plt.yticks(fontsize=15)\n",
    "\n",
    "    plt.bar(x1, y1, color='blue', label='True', width=0.3)\n",
    "    plt.bar(x0+0.3, y0, color='red', label='False', width=0.3)\n",
    "\n",
    "    plt.legend(fontsize=13)"
   ]
  },
  {
   "cell_type": "code",
   "execution_count": null,
   "metadata": {},
   "outputs": [
    {
     "name": "stderr",
     "output_type": "stream",
     "text": [
      "100%|██████████| 1/1 [00:01<00:00,  1.49s/it]\n"
     ]
    },
    {
     "data": {
      "image/png": "[encoded data removed]",
      "text/plain": [
       "<Figure size 864x432 with 1 Axes>"
      ]
     },
     "metadata": {
      "needs_background": "light"
     },
     "output_type": "display_data"
    }
   ],
   "source": [
    "for col in tqdm(train_target_true.columns[27:28]):\n",
    "\n",
    "    x0_df = pd.DataFrame(train_target_false[col].unique())\n",
    "    y0_df = pd.DataFrame(train_target_false[col].value_counts()).reset_index()\n",
    "    false_total_df = pd.merge(x0_df, y0_df, left_on=0, right_on='index')\n",
    "    \n",
    "    x1_df = pd.DataFrame(train_target_true[col].unique())\n",
    "    y1_df = pd.DataFrame(train_target_true[col].value_counts()).reset_index()\n",
    "    true_total_df = pd.merge(x1_df, y1_df, left_on=0, right_on='index')\n",
    "\n",
    "    x0 = false_total_df.iloc[:,1]\n",
    "    y0 = false_total_df.iloc[:,2]\n",
    "\n",
    "    x1 = true_total_df.iloc[:,1]\n",
    "    y1 = true_total_df.iloc[:,2]\n",
    "\n",
    "    plt.figure(figsize=(12,6))\n",
    "    plt.title(f'{col}의 target 값 기준 분포', fontdict={'size':15})\n",
    "\n",
    "    plt.xticks(x0, fontsize=15)\n",
    "    plt.yticks(fontsize=15)\n",
    "\n",
    "    plt.bar(x1, y1, color='blue', label='True', width=0.3)\n",
    "    plt.bar(x0+0.3, y0, color='red', label='False', width=0.3)\n",
    "\n",
    "    plt.legend(fontsize=13)"
   ]
  },
  {
   "cell_type": "markdown",
   "metadata": {},
   "source": [
    "# 마지막 부분"
   ]
  }
 ],
 "metadata": {
  "interpreter": {
   "hash": "8ae3dcd19c82398a5ce067019491007897b01e5b53746170904cf60dcf0d8fb4"
  },
  "kernelspec": {
   "display_name": "Python 3",
   "language": "python",
   "name": "python3"
  },
  "language_info": {
   "codemirror_mode": {
    "name": "ipython",
    "version": 3
   },
   "file_extension": ".py",
   "mimetype": "text/x-python",
   "name": "python",
   "nbconvert_exporter": "python",
   "pygments_lexer": "ipython3",
   "version": "3.8.8"
  }
 },
 "nbformat": 4,
 "nbformat_minor": 2
}
