{
 "cells": [
  {
   "cell_type": "code",
   "execution_count": 1,
   "metadata": {},
   "outputs": [],
   "source": [
    "import pandas as pd\n",
    "from tqdm import tqdm"
   ]
  },
  {
   "cell_type": "code",
   "execution_count": null,
   "metadata": {},
   "outputs": [],
   "source": [
    "import matplotlib.pyplot as plt"
   ]
  },
  {
   "cell_type": "code",
   "execution_count": null,
   "metadata": {},
   "outputs": [],
   "source": [
    "import platform\n",
    "from matplotlib import font_manager, rc\n",
    "\n",
    "# 한글 폰트 지정\n",
    "path = \"C:/Windows/Fonts/malgun.ttf\"\n",
    "if platform.system() == \"Windows\":\n",
    "    font_name = font_manager.FontProperties(fname=path).get_name()\n",
    "    rc('font', family=font_name)\n",
    "elif platform.system()==\"Darwin\":\n",
    "    rc('font', family='AppleGothic')\n",
    "else:\n",
    "    print(\"Unknown System\")"
   ]
  },
  {
   "cell_type": "code",
   "execution_count": null,
   "metadata": {},
   "outputs": [],
   "source": [
    "# 음수 표현\n",
    "plt.rcParams['axes.unicode_minus'] = False"
   ]
  },
  {
   "cell_type": "markdown",
   "metadata": {},
   "source": [
    "# 파일 확인"
   ]
  },
  {
   "cell_type": "code",
   "execution_count": 5,
   "metadata": {},
   "outputs": [],
   "source": [
    "# d_l_match_yn :  속성 D 대분류 매칭 여부\n",
    "# d_m_match_yn :  속성 D 중분류 매칭 여부\n",
    "# d_s_match_yn :  속성 D 소분류 매칭 여부\n",
    "# h_l_match_yn :  속성 H 대분류 매칭 여부\n",
    "# h_m_match_yn :  속성 H 중분류 매칭 여부\n",
    "# h_s_match_yn :  속성 H 소분류 매칭 여부\n",
    "\n",
    "# person_attribute_a :  회원 속성 A\n",
    "# person_attribute_a_1 :  회원 속성 A 하위 속성 1\n",
    "# person_attribute_b :  회원 속성 B\n",
    "\n",
    "# person_prefer_c :  회원 선호 속성 C\n",
    "# person_prefer_d_1 :  회원 선호 속성 D 1번\n",
    "# person_prefer_d_2 :  회원 선호 속성 D 2번\n",
    "# person_prefer_d_3 :  회원 선호 속성 D 3번\n",
    "# person_prefer_e :  회원 선호 속성 E\n",
    "# person_prefer_f :  회원 선호 속성 F\n",
    "# person_prefer_g :  회원 선호 속성 G\n",
    "# person_prefer_h_1 :  회원 선호 속성 H 1번\n",
    "# person_prefer_h_2 :  회원 선호 속성 H 2번\n",
    "# person_prefer_h_3 :  회원 선호 속성 H 3번\n",
    "\n",
    "# contents_attribute_i :  컨텐츠 속성 I\n",
    "# contents_attribute_a :  컨텐츠 속성 A\n",
    "# contents_attribute_j_1 :  컨텐츠 속성 J 하위 속성 1\n",
    "# contents_attribute_j :  컨텐츠 속성 J\n",
    "# contents_attribute_c :  컨텐츠 속성 C\n",
    "# contents_attribute_k :  컨텐츠 속성 K\n",
    "# contents_attribute_l :  컨텐츠 속성 L\n",
    "# contents_attribute_d :  컨텐츠 속성 D\n",
    "# contents_attribute_m :  컨텐츠 속성 M\n",
    "# contents_attribute_e :  컨텐츠 속성 E\n",
    "# contents_attribute_h :  컨텐츠 속성 H\n",
    "\n",
    "# person_rn :  사용자번호\n",
    "# contents_rn :  컨텐츠번호\n",
    "# contents_open_dt :  컨텐츠 열람 일시\n",
    "# target :  컨텐츠 사용 여부 (라벨)"
   ]
  },
  {
   "cell_type": "code",
   "execution_count": 6,
   "metadata": {},
   "outputs": [],
   "source": [
    "train = pd.read_csv('../data/train.csv')\n",
    "test = pd.read_csv('../data/test.csv')"
   ]
  },
  {
   "cell_type": "markdown",
   "metadata": {},
   "source": [
    "# 매칭 6개 특성 별 데이터 확인"
   ]
  },
  {
   "cell_type": "code",
   "execution_count": 7,
   "metadata": {},
   "outputs": [],
   "source": [
    "import itertools"
   ]
  },
  {
   "cell_type": "code",
   "execution_count": 8,
   "metadata": {},
   "outputs": [
    {
     "data": {
      "text/plain": [
       "[(0, 0, 0, 0, 0, 0),\n",
       " (0, 0, 0, 0, 0, 1),\n",
       " (0, 0, 0, 0, 1, 0),\n",
       " (0, 0, 0, 0, 1, 1),\n",
       " (0, 0, 0, 1, 0, 0),\n",
       " (0, 0, 0, 1, 0, 1),\n",
       " (0, 0, 0, 1, 1, 0),\n",
       " (0, 0, 0, 1, 1, 1),\n",
       " (0, 0, 1, 0, 0, 0),\n",
       " (0, 0, 1, 0, 0, 1),\n",
       " (0, 0, 1, 0, 1, 0),\n",
       " (0, 0, 1, 0, 1, 1),\n",
       " (0, 0, 1, 1, 0, 0),\n",
       " (0, 0, 1, 1, 0, 1),\n",
       " (0, 0, 1, 1, 1, 0),\n",
       " (0, 0, 1, 1, 1, 1),\n",
       " (0, 1, 0, 0, 0, 0),\n",
       " (0, 1, 0, 0, 0, 1),\n",
       " (0, 1, 0, 0, 1, 0),\n",
       " (0, 1, 0, 0, 1, 1),\n",
       " (0, 1, 0, 1, 0, 0),\n",
       " (0, 1, 0, 1, 0, 1),\n",
       " (0, 1, 0, 1, 1, 0),\n",
       " (0, 1, 0, 1, 1, 1),\n",
       " (0, 1, 1, 0, 0, 0),\n",
       " (0, 1, 1, 0, 0, 1),\n",
       " (0, 1, 1, 0, 1, 0),\n",
       " (0, 1, 1, 0, 1, 1),\n",
       " (0, 1, 1, 1, 0, 0),\n",
       " (0, 1, 1, 1, 0, 1),\n",
       " (0, 1, 1, 1, 1, 0),\n",
       " (0, 1, 1, 1, 1, 1),\n",
       " (1, 0, 0, 0, 0, 0),\n",
       " (1, 0, 0, 0, 0, 1),\n",
       " (1, 0, 0, 0, 1, 0),\n",
       " (1, 0, 0, 0, 1, 1),\n",
       " (1, 0, 0, 1, 0, 0),\n",
       " (1, 0, 0, 1, 0, 1),\n",
       " (1, 0, 0, 1, 1, 0),\n",
       " (1, 0, 0, 1, 1, 1),\n",
       " (1, 0, 1, 0, 0, 0),\n",
       " (1, 0, 1, 0, 0, 1),\n",
       " (1, 0, 1, 0, 1, 0),\n",
       " (1, 0, 1, 0, 1, 1),\n",
       " (1, 0, 1, 1, 0, 0),\n",
       " (1, 0, 1, 1, 0, 1),\n",
       " (1, 0, 1, 1, 1, 0),\n",
       " (1, 0, 1, 1, 1, 1),\n",
       " (1, 1, 0, 0, 0, 0),\n",
       " (1, 1, 0, 0, 0, 1),\n",
       " (1, 1, 0, 0, 1, 0),\n",
       " (1, 1, 0, 0, 1, 1),\n",
       " (1, 1, 0, 1, 0, 0),\n",
       " (1, 1, 0, 1, 0, 1),\n",
       " (1, 1, 0, 1, 1, 0),\n",
       " (1, 1, 0, 1, 1, 1),\n",
       " (1, 1, 1, 0, 0, 0),\n",
       " (1, 1, 1, 0, 0, 1),\n",
       " (1, 1, 1, 0, 1, 0),\n",
       " (1, 1, 1, 0, 1, 1),\n",
       " (1, 1, 1, 1, 0, 0),\n",
       " (1, 1, 1, 1, 0, 1),\n",
       " (1, 1, 1, 1, 1, 0),\n",
       " (1, 1, 1, 1, 1, 1)]"
      ]
     },
     "execution_count": 8,
     "metadata": {},
     "output_type": "execute_result"
    }
   ],
   "source": [
    "# 단계(6단계)별로 [0, 1]의 선택지 있는 모든 경우의 수 출력\n",
    "match_cases = list(itertools.product(*[[0,1] for i in range(6)]))\n",
    "match_cases"
   ]
  },
  {
   "cell_type": "markdown",
   "metadata": {},
   "source": [
    "# 유효한 경우의 수"
   ]
  },
  {
   "cell_type": "markdown",
   "metadata": {},
   "source": [
    "## train"
   ]
  },
  {
   "cell_type": "code",
   "execution_count": 30,
   "metadata": {},
   "outputs": [],
   "source": [
    "# 0 (0, 0, 0, 0, 0, 0) (36913, 35)\n",
    "# 4 (0, 0, 0, 1, 0, 0) (78861, 35)\n",
    "# 6 (0, 0, 0, 1, 1, 0) (17818, 35)\n",
    "# 7 (0, 0, 0, 1, 1, 1) (53091, 35)\n",
    "# 32 (1, 0, 0, 0, 0, 0) (32635, 35)\n",
    "# 36 (1, 0, 0, 1, 0, 0) (78338, 35)\n",
    "# 38 (1, 0, 0, 1, 1, 0) (17818, 35)\n",
    "# 39 (1, 0, 0, 1, 1, 1) (52850, 35)\n",
    "# 48 (1, 1, 0, 0, 0, 0) (12804, 35)\n",
    "# 52 (1, 1, 0, 1, 0, 0) (25894, 35)\n",
    "# 54 (1, 1, 0, 1, 1, 0) (5162, 35)\n",
    "# 55 (1, 1, 0, 1, 1, 1) (14510, 35)\n",
    "# 56 (1, 1, 1, 0, 0, 0) (20261, 35)\n",
    "# 60 (1, 1, 1, 1, 0, 0) (33112, 35)\n",
    "# 62 (1, 1, 1, 1, 1, 0) (5706, 35)\n",
    "# 63 (1, 1, 1, 1, 1, 1) (16178, 35)"
   ]
  },
  {
   "cell_type": "markdown",
   "metadata": {},
   "source": [
    "## test"
   ]
  },
  {
   "cell_type": "code",
   "execution_count": 31,
   "metadata": {},
   "outputs": [],
   "source": [
    "# 0 (0, 0, 0, 0, 0, 0) (3343, 34)\n",
    "# 4 (0, 0, 0, 1, 0, 0) (7196, 34)\n",
    "# 6 (0, 0, 0, 1, 1, 0) (1843, 34)\n",
    "# 7 (0, 0, 0, 1, 1, 1) (5224, 34)\n",
    "# 32 (1, 0, 0, 0, 0, 0) (2821, 34)\n",
    "# 36 (1, 0, 0, 1, 0, 0) (7051, 34)\n",
    "# 38 (1, 0, 0, 1, 1, 0) (1600, 34)\n",
    "# 39 (1, 0, 0, 1, 1, 1) (4826, 34)\n",
    "# 48 (1, 1, 0, 0, 0, 0) (1137, 34)\n",
    "# 52 (1, 1, 0, 1, 0, 0) (2474, 34)\n",
    "# 54 (1, 1, 0, 1, 1, 0) (455, 34)\n",
    "# 55 (1, 1, 0, 1, 1, 1) (1358, 34)\n",
    "# 56 (1, 1, 1, 0, 0, 0) (1788, 34)\n",
    "# 60 (1, 1, 1, 1, 0, 0) (3147, 34)\n",
    "# 62 (1, 1, 1, 1, 1, 0) (575, 34)\n",
    "# 63 (1, 1, 1, 1, 1, 1) (1566, 34)"
   ]
  },
  {
   "cell_type": "markdown",
   "metadata": {},
   "source": [
    "# 매칭 별 시각화"
   ]
  },
  {
   "cell_type": "code",
   "execution_count": 75,
   "metadata": {},
   "outputs": [],
   "source": [
    "# 단계(6단계)별로 [0, 1]의 선택지 있는 모든 경우의 수 출력\n",
    "match_cases = list(itertools.product(*[[0,1] for i in range(6)]))"
   ]
  },
  {
   "cell_type": "code",
   "execution_count": 76,
   "metadata": {},
   "outputs": [
    {
     "name": "stderr",
     "output_type": "stream",
     "text": [
      "100%|██████████| 16/16 [00:00<00:00, 39.71it/s]\n"
     ]
    },
    {
     "data": {
      "text/html": [
       "<div>\n",
       "<style scoped>\n",
       "    .dataframe tbody tr th:only-of-type {\n",
       "        vertical-align: middle;\n",
       "    }\n",
       "\n",
       "    .dataframe tbody tr th {\n",
       "        vertical-align: top;\n",
       "    }\n",
       "\n",
       "    .dataframe thead th {\n",
       "        text-align: right;\n",
       "    }\n",
       "</style>\n",
       "<table border=\"1\" class=\"dataframe\">\n",
       "  <thead>\n",
       "    <tr style=\"text-align: right;\">\n",
       "      <th></th>\n",
       "      <th>train_df1</th>\n",
       "      <th>train_df2</th>\n",
       "      <th>train_df3</th>\n",
       "      <th>train_df4</th>\n",
       "      <th>train_df5</th>\n",
       "      <th>train_df6</th>\n",
       "      <th>train_df7</th>\n",
       "      <th>train_df8</th>\n",
       "      <th>train_df9</th>\n",
       "      <th>train_df10</th>\n",
       "      <th>train_df11</th>\n",
       "      <th>train_df12</th>\n",
       "      <th>train_df13</th>\n",
       "      <th>train_df14</th>\n",
       "      <th>train_df15</th>\n",
       "      <th>train_df16</th>\n",
       "    </tr>\n",
       "  </thead>\n",
       "  <tbody>\n",
       "    <tr>\n",
       "      <th>0</th>\n",
       "      <td>0.582342</td>\n",
       "      <td>0.585866</td>\n",
       "      <td>0.610338</td>\n",
       "      <td>0.605055</td>\n",
       "      <td>0.508779</td>\n",
       "      <td>0.477457</td>\n",
       "      <td>0.473622</td>\n",
       "      <td>0.458846</td>\n",
       "      <td>0.457045</td>\n",
       "      <td>0.405847</td>\n",
       "      <td>0.39229</td>\n",
       "      <td>0.380979</td>\n",
       "      <td>0.459158</td>\n",
       "      <td>0.381674</td>\n",
       "      <td>0.370662</td>\n",
       "      <td>0.35505</td>\n",
       "    </tr>\n",
       "    <tr>\n",
       "      <th>1</th>\n",
       "      <td>0.417658</td>\n",
       "      <td>0.414134</td>\n",
       "      <td>0.389662</td>\n",
       "      <td>0.394945</td>\n",
       "      <td>0.491221</td>\n",
       "      <td>0.522543</td>\n",
       "      <td>0.526378</td>\n",
       "      <td>0.541154</td>\n",
       "      <td>0.542955</td>\n",
       "      <td>0.594153</td>\n",
       "      <td>0.60771</td>\n",
       "      <td>0.619021</td>\n",
       "      <td>0.540842</td>\n",
       "      <td>0.618326</td>\n",
       "      <td>0.629338</td>\n",
       "      <td>0.64495</td>\n",
       "    </tr>\n",
       "  </tbody>\n",
       "</table>\n",
       "</div>"
      ],
      "text/plain": [
       "   train_df1  train_df2  train_df3  train_df4  train_df5  train_df6  \\\n",
       "0   0.582342   0.585866   0.610338   0.605055   0.508779   0.477457   \n",
       "1   0.417658   0.414134   0.389662   0.394945   0.491221   0.522543   \n",
       "\n",
       "   train_df7  train_df8  train_df9  train_df10  train_df11  train_df12  \\\n",
       "0   0.473622   0.458846   0.457045    0.405847     0.39229    0.380979   \n",
       "1   0.526378   0.541154   0.542955    0.594153     0.60771    0.619021   \n",
       "\n",
       "   train_df13  train_df14  train_df15  train_df16  \n",
       "0    0.459158    0.381674    0.370662     0.35505  \n",
       "1    0.540842    0.618326    0.629338     0.64495  "
      ]
     },
     "execution_count": 76,
     "metadata": {},
     "output_type": "execute_result"
    }
   ],
   "source": [
    "train_df = pd.DataFrame()\n",
    "num_list = [0, 4, 6, 7, 32, 36, 38, 39, 48, 52, 54, 55, 56, 60, 62, 63]\n",
    "\n",
    "for num in tqdm(num_list):\n",
    "  c0, c1, c2, c3, c4, c5 = match_cases[num]\n",
    "  tmp = train[(train['d_l_match_yn']==c0)&(train['d_m_match_yn']==c1)&(train['d_s_match_yn']==c2)&\n",
    "    (train['h_l_match_yn']==c3)&(train['h_m_match_yn']==c4)&(train['h_s_match_yn']==c5)]\n",
    "  tmp_target = tmp['target'].value_counts(normalize=True)\n",
    "  tmp_df = pd.DataFrame(tmp_target)\n",
    "  train_df = pd.concat([train_df, tmp_df], axis=1)\n",
    "\n",
    "train_df.columns = ['train_df1', 'train_df2', 'train_df3', 'train_df4',\n",
    "        'train_df5', 'train_df6', 'train_df7', 'train_df8',\n",
    "        'train_df9', 'train_df10', 'train_df11', 'train_df12',\n",
    "        'train_df13', 'train_df14', 'train_df15', 'train_df16']\n",
    "train_df"
   ]
  },
  {
   "cell_type": "markdown",
   "metadata": {},
   "source": [
    "## 시각화"
   ]
  },
  {
   "cell_type": "code",
   "execution_count": 78,
   "metadata": {},
   "outputs": [
    {
     "data": {
      "text/plain": [
       "<matplotlib.legend.Legend at 0x1e2cf094850>"
      ]
     },
     "execution_count": 78,
     "metadata": {},
     "output_type": "execute_result"
    },
    {
     "data": {
      "image/png": "[encoded data removed]",
      "text/plain": [
       "<Figure size 1080x432 with 1 Axes>"
      ]
     },
     "metadata": {
      "needs_background": "light"
     },
     "output_type": "display_data"
    }
   ],
   "source": [
    "plt.figure(figsize=(15,6))\n",
    "plt.title('train의 경우의 수 별, target비율', fontdict={'size':20})\n",
    "plt.xticks(fontsize=15, rotation=-45)\n",
    "plt.yticks(fontsize=15)\n",
    "plt.grid(True)\n",
    "plt.plot(target_df.iloc[0,:], label='False', color='red')\n",
    "plt.plot(target_df.iloc[1,:], label='True', color='blue')\n",
    "plt.legend(fontsize=13)"
   ]
  },
  {
   "cell_type": "markdown",
   "metadata": {},
   "source": [
    "# 25개 특성에서 d,h large 매칭 별로 시각화 "
   ]
  },
  {
   "cell_type": "code",
   "execution_count": 64,
   "metadata": {},
   "outputs": [],
   "source": [
    "train = pd.read_csv('../data/train.csv')\n",
    "test = pd.read_csv('../data/test.csv')"
   ]
  },
  {
   "cell_type": "code",
   "execution_count": 65,
   "metadata": {},
   "outputs": [
    {
     "data": {
      "text/plain": [
       "(24, 23)"
      ]
     },
     "execution_count": 65,
     "metadata": {},
     "output_type": "execute_result"
    }
   ],
   "source": [
    "test_col = ['d_l_match_yn', 'h_l_match_yn',\n",
    " 'person_attribute_a', 'person_attribute_a_1', 'person_attribute_b', 'person_prefer_c',\n",
    "  'person_prefer_d_1', 'person_prefer_d_2', 'person_prefer_d_3',\n",
    "   'person_prefer_e',\n",
    "    'person_prefer_h_1', 'person_prefer_h_2', 'person_prefer_h_3', \n",
    "     'contents_attribute_i', 'contents_attribute_a',\n",
    "      'contents_attribute_j', 'contents_attribute_j_1', 'contents_attribute_c',\n",
    "       'contents_attribute_l', 'contents_attribute_d',\n",
    "        'contents_attribute_m', 'contents_attribute_e',\n",
    "         'contents_attribute_h']\n",
    "target = ['target']\n",
    "train_col = test_col + target\n",
    "len(train_col), len(test_col)"
   ]
  },
  {
   "cell_type": "code",
   "execution_count": 66,
   "metadata": {
    "id": "KYS9TrPAIoC4"
   },
   "outputs": [],
   "source": [
    "train25 = train[train_col]\n",
    "test25 = test[test_col]"
   ]
  },
  {
   "cell_type": "code",
   "execution_count": 67,
   "metadata": {
    "colab": {
     "base_uri": "https://localhost:8080/",
     "height": 270
    },
    "id": "7RkuVrfSKCQ0",
    "outputId": "7a35df0e-600d-4953-e725-ee6c4f21fb1e"
   },
   "outputs": [
    {
     "data": {
      "text/html": [
       "<div>\n",
       "<style scoped>\n",
       "    .dataframe tbody tr th:only-of-type {\n",
       "        vertical-align: middle;\n",
       "    }\n",
       "\n",
       "    .dataframe tbody tr th {\n",
       "        vertical-align: top;\n",
       "    }\n",
       "\n",
       "    .dataframe thead th {\n",
       "        text-align: right;\n",
       "    }\n",
       "</style>\n",
       "<table border=\"1\" class=\"dataframe\">\n",
       "  <thead>\n",
       "    <tr style=\"text-align: right;\">\n",
       "      <th></th>\n",
       "      <th>d_l_match_yn</th>\n",
       "      <th>h_l_match_yn</th>\n",
       "      <th>person_attribute_a</th>\n",
       "      <th>person_attribute_a_a</th>\n",
       "      <th>person_attribute_b</th>\n",
       "      <th>person_prefer_c</th>\n",
       "      <th>person_prefer_d_1</th>\n",
       "      <th>person_prefer_d_2</th>\n",
       "      <th>person_prefer_d_3</th>\n",
       "      <th>person_prefer_e</th>\n",
       "      <th>...</th>\n",
       "      <th>contents_attribute_a</th>\n",
       "      <th>contents_attribute_j</th>\n",
       "      <th>contents_attribute_j_1</th>\n",
       "      <th>contents_attribute_c</th>\n",
       "      <th>contents_attribute_l</th>\n",
       "      <th>contents_attribute_d</th>\n",
       "      <th>contents_attribute_m</th>\n",
       "      <th>contents_attribute_e</th>\n",
       "      <th>contents_attribute_h</th>\n",
       "      <th>target</th>\n",
       "    </tr>\n",
       "  </thead>\n",
       "  <tbody>\n",
       "    <tr>\n",
       "      <th>0</th>\n",
       "      <td>True</td>\n",
       "      <td>False</td>\n",
       "      <td>1</td>\n",
       "      <td>4</td>\n",
       "      <td>3</td>\n",
       "      <td>5</td>\n",
       "      <td>275</td>\n",
       "      <td>370</td>\n",
       "      <td>369</td>\n",
       "      <td>8</td>\n",
       "      <td>...</td>\n",
       "      <td>3</td>\n",
       "      <td>2</td>\n",
       "      <td>10</td>\n",
       "      <td>1</td>\n",
       "      <td>1608</td>\n",
       "      <td>275</td>\n",
       "      <td>1</td>\n",
       "      <td>4</td>\n",
       "      <td>139</td>\n",
       "      <td>1</td>\n",
       "    </tr>\n",
       "    <tr>\n",
       "      <th>1</th>\n",
       "      <td>False</td>\n",
       "      <td>True</td>\n",
       "      <td>1</td>\n",
       "      <td>3</td>\n",
       "      <td>4</td>\n",
       "      <td>1</td>\n",
       "      <td>114</td>\n",
       "      <td>181</td>\n",
       "      <td>175</td>\n",
       "      <td>4</td>\n",
       "      <td>...</td>\n",
       "      <td>3</td>\n",
       "      <td>1</td>\n",
       "      <td>5</td>\n",
       "      <td>1</td>\n",
       "      <td>1608</td>\n",
       "      <td>275</td>\n",
       "      <td>1</td>\n",
       "      <td>4</td>\n",
       "      <td>133</td>\n",
       "      <td>0</td>\n",
       "    </tr>\n",
       "    <tr>\n",
       "      <th>2</th>\n",
       "      <td>False</td>\n",
       "      <td>True</td>\n",
       "      <td>2</td>\n",
       "      <td>0</td>\n",
       "      <td>3</td>\n",
       "      <td>5</td>\n",
       "      <td>464</td>\n",
       "      <td>175</td>\n",
       "      <td>452</td>\n",
       "      <td>3</td>\n",
       "      <td>...</td>\n",
       "      <td>1</td>\n",
       "      <td>2</td>\n",
       "      <td>10</td>\n",
       "      <td>1</td>\n",
       "      <td>1600</td>\n",
       "      <td>94</td>\n",
       "      <td>1</td>\n",
       "      <td>4</td>\n",
       "      <td>53</td>\n",
       "      <td>0</td>\n",
       "    </tr>\n",
       "    <tr>\n",
       "      <th>3</th>\n",
       "      <td>False</td>\n",
       "      <td>True</td>\n",
       "      <td>2</td>\n",
       "      <td>0</td>\n",
       "      <td>2</td>\n",
       "      <td>5</td>\n",
       "      <td>703</td>\n",
       "      <td>705</td>\n",
       "      <td>704</td>\n",
       "      <td>3</td>\n",
       "      <td>...</td>\n",
       "      <td>3</td>\n",
       "      <td>1</td>\n",
       "      <td>5</td>\n",
       "      <td>1</td>\n",
       "      <td>1608</td>\n",
       "      <td>275</td>\n",
       "      <td>5</td>\n",
       "      <td>3</td>\n",
       "      <td>74</td>\n",
       "      <td>0</td>\n",
       "    </tr>\n",
       "    <tr>\n",
       "      <th>4</th>\n",
       "      <td>True</td>\n",
       "      <td>False</td>\n",
       "      <td>1</td>\n",
       "      <td>3</td>\n",
       "      <td>4</td>\n",
       "      <td>5</td>\n",
       "      <td>275</td>\n",
       "      <td>370</td>\n",
       "      <td>369</td>\n",
       "      <td>4</td>\n",
       "      <td>...</td>\n",
       "      <td>1</td>\n",
       "      <td>2</td>\n",
       "      <td>10</td>\n",
       "      <td>1</td>\n",
       "      <td>1608</td>\n",
       "      <td>275</td>\n",
       "      <td>1</td>\n",
       "      <td>4</td>\n",
       "      <td>74</td>\n",
       "      <td>0</td>\n",
       "    </tr>\n",
       "  </tbody>\n",
       "</table>\n",
       "<p>5 rows × 24 columns</p>\n",
       "</div>"
      ],
      "text/plain": [
       "   d_l_match_yn  h_l_match_yn  person_attribute_a  person_attribute_a_a  \\\n",
       "0          True         False                   1                     4   \n",
       "1         False          True                   1                     3   \n",
       "2         False          True                   2                     0   \n",
       "3         False          True                   2                     0   \n",
       "4          True         False                   1                     3   \n",
       "\n",
       "   person_attribute_b  person_prefer_c  person_prefer_d_1  person_prefer_d_2  \\\n",
       "0                   3                5                275                370   \n",
       "1                   4                1                114                181   \n",
       "2                   3                5                464                175   \n",
       "3                   2                5                703                705   \n",
       "4                   4                5                275                370   \n",
       "\n",
       "   person_prefer_d_3  person_prefer_e  ...  contents_attribute_a  \\\n",
       "0                369                8  ...                     3   \n",
       "1                175                4  ...                     3   \n",
       "2                452                3  ...                     1   \n",
       "3                704                3  ...                     3   \n",
       "4                369                4  ...                     1   \n",
       "\n",
       "   contents_attribute_j  contents_attribute_j_1  contents_attribute_c  \\\n",
       "0                     2                      10                     1   \n",
       "1                     1                       5                     1   \n",
       "2                     2                      10                     1   \n",
       "3                     1                       5                     1   \n",
       "4                     2                      10                     1   \n",
       "\n",
       "   contents_attribute_l  contents_attribute_d  contents_attribute_m  \\\n",
       "0                  1608                   275                     1   \n",
       "1                  1608                   275                     1   \n",
       "2                  1600                    94                     1   \n",
       "3                  1608                   275                     5   \n",
       "4                  1608                   275                     1   \n",
       "\n",
       "   contents_attribute_e  contents_attribute_h  target  \n",
       "0                     4                   139       1  \n",
       "1                     4                   133       0  \n",
       "2                     4                    53       0  \n",
       "3                     3                    74       0  \n",
       "4                     4                    74       0  \n",
       "\n",
       "[5 rows x 24 columns]"
      ]
     },
     "execution_count": 67,
     "metadata": {},
     "output_type": "execute_result"
    }
   ],
   "source": [
    "# 카테고리형 특성 원핫인코딩시 컬럼 명 겹치는 문제 해결위해 특성명 변경\n",
    "train25 = train25.rename(columns={'person_attribute_a_1':'person_attribute_a_a'})\n",
    "train25.head()"
   ]
  },
  {
   "cell_type": "code",
   "execution_count": 68,
   "metadata": {
    "colab": {
     "base_uri": "https://localhost:8080/",
     "height": 270
    },
    "id": "h6q0HvoqKCM5",
    "outputId": "b7d5026c-1e47-494e-8eb0-990fc7152843"
   },
   "outputs": [
    {
     "data": {
      "text/html": [
       "<div>\n",
       "<style scoped>\n",
       "    .dataframe tbody tr th:only-of-type {\n",
       "        vertical-align: middle;\n",
       "    }\n",
       "\n",
       "    .dataframe tbody tr th {\n",
       "        vertical-align: top;\n",
       "    }\n",
       "\n",
       "    .dataframe thead th {\n",
       "        text-align: right;\n",
       "    }\n",
       "</style>\n",
       "<table border=\"1\" class=\"dataframe\">\n",
       "  <thead>\n",
       "    <tr style=\"text-align: right;\">\n",
       "      <th></th>\n",
       "      <th>d_l_match_yn</th>\n",
       "      <th>h_l_match_yn</th>\n",
       "      <th>person_attribute_a</th>\n",
       "      <th>person_attribute_a_a</th>\n",
       "      <th>person_attribute_b</th>\n",
       "      <th>person_prefer_c</th>\n",
       "      <th>person_prefer_d_1</th>\n",
       "      <th>person_prefer_d_2</th>\n",
       "      <th>person_prefer_d_3</th>\n",
       "      <th>person_prefer_e</th>\n",
       "      <th>...</th>\n",
       "      <th>contents_attribute_i</th>\n",
       "      <th>contents_attribute_a</th>\n",
       "      <th>contents_attribute_j</th>\n",
       "      <th>contents_attribute_j_1</th>\n",
       "      <th>contents_attribute_c</th>\n",
       "      <th>contents_attribute_l</th>\n",
       "      <th>contents_attribute_d</th>\n",
       "      <th>contents_attribute_m</th>\n",
       "      <th>contents_attribute_e</th>\n",
       "      <th>contents_attribute_h</th>\n",
       "    </tr>\n",
       "  </thead>\n",
       "  <tbody>\n",
       "    <tr>\n",
       "      <th>0</th>\n",
       "      <td>True</td>\n",
       "      <td>True</td>\n",
       "      <td>1</td>\n",
       "      <td>1</td>\n",
       "      <td>2</td>\n",
       "      <td>1</td>\n",
       "      <td>857</td>\n",
       "      <td>851</td>\n",
       "      <td>1227</td>\n",
       "      <td>4</td>\n",
       "      <td>...</td>\n",
       "      <td>1</td>\n",
       "      <td>3</td>\n",
       "      <td>2</td>\n",
       "      <td>10</td>\n",
       "      <td>1</td>\n",
       "      <td>1147</td>\n",
       "      <td>839</td>\n",
       "      <td>1</td>\n",
       "      <td>5</td>\n",
       "      <td>263</td>\n",
       "    </tr>\n",
       "    <tr>\n",
       "      <th>1</th>\n",
       "      <td>False</td>\n",
       "      <td>True</td>\n",
       "      <td>2</td>\n",
       "      <td>0</td>\n",
       "      <td>2</td>\n",
       "      <td>2</td>\n",
       "      <td>683</td>\n",
       "      <td>1086</td>\n",
       "      <td>662</td>\n",
       "      <td>2</td>\n",
       "      <td>...</td>\n",
       "      <td>1</td>\n",
       "      <td>3</td>\n",
       "      <td>1</td>\n",
       "      <td>5</td>\n",
       "      <td>1</td>\n",
       "      <td>1611</td>\n",
       "      <td>278</td>\n",
       "      <td>1</td>\n",
       "      <td>4</td>\n",
       "      <td>263</td>\n",
       "    </tr>\n",
       "    <tr>\n",
       "      <th>2</th>\n",
       "      <td>True</td>\n",
       "      <td>True</td>\n",
       "      <td>2</td>\n",
       "      <td>3</td>\n",
       "      <td>2</td>\n",
       "      <td>1</td>\n",
       "      <td>514</td>\n",
       "      <td>790</td>\n",
       "      <td>1233</td>\n",
       "      <td>0</td>\n",
       "      <td>...</td>\n",
       "      <td>3</td>\n",
       "      <td>3</td>\n",
       "      <td>1</td>\n",
       "      <td>3</td>\n",
       "      <td>1</td>\n",
       "      <td>1817</td>\n",
       "      <td>490</td>\n",
       "      <td>3</td>\n",
       "      <td>4</td>\n",
       "      <td>177</td>\n",
       "    </tr>\n",
       "    <tr>\n",
       "      <th>3</th>\n",
       "      <td>True</td>\n",
       "      <td>True</td>\n",
       "      <td>1</td>\n",
       "      <td>2</td>\n",
       "      <td>2</td>\n",
       "      <td>5</td>\n",
       "      <td>114</td>\n",
       "      <td>181</td>\n",
       "      <td>175</td>\n",
       "      <td>4</td>\n",
       "      <td>...</td>\n",
       "      <td>3</td>\n",
       "      <td>3</td>\n",
       "      <td>1</td>\n",
       "      <td>5</td>\n",
       "      <td>1</td>\n",
       "      <td>101</td>\n",
       "      <td>150</td>\n",
       "      <td>5</td>\n",
       "      <td>3</td>\n",
       "      <td>177</td>\n",
       "    </tr>\n",
       "    <tr>\n",
       "      <th>4</th>\n",
       "      <td>True</td>\n",
       "      <td>True</td>\n",
       "      <td>1</td>\n",
       "      <td>6</td>\n",
       "      <td>4</td>\n",
       "      <td>5</td>\n",
       "      <td>1082</td>\n",
       "      <td>1078</td>\n",
       "      <td>1056</td>\n",
       "      <td>5</td>\n",
       "      <td>...</td>\n",
       "      <td>3</td>\n",
       "      <td>1</td>\n",
       "      <td>1</td>\n",
       "      <td>5</td>\n",
       "      <td>1</td>\n",
       "      <td>985</td>\n",
       "      <td>1097</td>\n",
       "      <td>1</td>\n",
       "      <td>4</td>\n",
       "      <td>177</td>\n",
       "    </tr>\n",
       "  </tbody>\n",
       "</table>\n",
       "<p>5 rows × 23 columns</p>\n",
       "</div>"
      ],
      "text/plain": [
       "   d_l_match_yn  h_l_match_yn  person_attribute_a  person_attribute_a_a  \\\n",
       "0          True          True                   1                     1   \n",
       "1         False          True                   2                     0   \n",
       "2          True          True                   2                     3   \n",
       "3          True          True                   1                     2   \n",
       "4          True          True                   1                     6   \n",
       "\n",
       "   person_attribute_b  person_prefer_c  person_prefer_d_1  person_prefer_d_2  \\\n",
       "0                   2                1                857                851   \n",
       "1                   2                2                683               1086   \n",
       "2                   2                1                514                790   \n",
       "3                   2                5                114                181   \n",
       "4                   4                5               1082               1078   \n",
       "\n",
       "   person_prefer_d_3  person_prefer_e  ...  contents_attribute_i  \\\n",
       "0               1227                4  ...                     1   \n",
       "1                662                2  ...                     1   \n",
       "2               1233                0  ...                     3   \n",
       "3                175                4  ...                     3   \n",
       "4               1056                5  ...                     3   \n",
       "\n",
       "   contents_attribute_a  contents_attribute_j  contents_attribute_j_1  \\\n",
       "0                     3                     2                      10   \n",
       "1                     3                     1                       5   \n",
       "2                     3                     1                       3   \n",
       "3                     3                     1                       5   \n",
       "4                     1                     1                       5   \n",
       "\n",
       "   contents_attribute_c  contents_attribute_l  contents_attribute_d  \\\n",
       "0                     1                  1147                   839   \n",
       "1                     1                  1611                   278   \n",
       "2                     1                  1817                   490   \n",
       "3                     1                   101                   150   \n",
       "4                     1                   985                  1097   \n",
       "\n",
       "   contents_attribute_m  contents_attribute_e  contents_attribute_h  \n",
       "0                     1                     5                   263  \n",
       "1                     1                     4                   263  \n",
       "2                     3                     4                   177  \n",
       "3                     5                     3                   177  \n",
       "4                     1                     4                   177  \n",
       "\n",
       "[5 rows x 23 columns]"
      ]
     },
     "execution_count": 68,
     "metadata": {},
     "output_type": "execute_result"
    }
   ],
   "source": [
    "# 카테고리형 특성 원핫인코딩시 컬럼 명 겹치는 문제 해결위해 특성명 변경\n",
    "test25 = test25.rename(columns={'person_attribute_a_1':'person_attribute_a_a'})\n",
    "test25.head()"
   ]
  },
  {
   "cell_type": "code",
   "execution_count": 69,
   "metadata": {},
   "outputs": [
    {
     "data": {
      "text/plain": [
       "[(0, 0), (0, 1), (1, 0), (1, 1)]"
      ]
     },
     "execution_count": 69,
     "metadata": {},
     "output_type": "execute_result"
    }
   ],
   "source": [
    "# 단계(4단계)별로 [0, 1]의 선택지 있는 모든 경우의 수 출력\n",
    "match_cases = list(itertools.product(*[[0,1] for i in range(2)]))\n",
    "match_cases"
   ]
  },
  {
   "cell_type": "markdown",
   "metadata": {},
   "source": [
    "## train"
   ]
  },
  {
   "cell_type": "code",
   "execution_count": 71,
   "metadata": {},
   "outputs": [
    {
     "name": "stdout",
     "output_type": "stream",
     "text": [
      "0 (0, 0) (36913, 35)\n",
      "1 (0, 1) (149770, 35)\n",
      "2 (1, 0) (65700, 35)\n",
      "3 (1, 1) (249568, 35)\n"
     ]
    }
   ],
   "source": [
    "for num in range(4):\n",
    "    c0, c1 = match_cases[num]\n",
    "    tmp = train[(train['d_l_match_yn']==c0)&(train['h_l_match_yn']==c1)]\n",
    "    print(num, match_cases[num], tmp.shape)"
   ]
  },
  {
   "cell_type": "code",
   "execution_count": 134,
   "metadata": {},
   "outputs": [],
   "source": [
    "# 0 (0, 0) (36913, 35)\n",
    "# 1 (0, 1) (149770, 35)\n",
    "# 2 (1, 0) (65700, 35)\n",
    "# 3 (1, 1) (249568, 35)"
   ]
  },
  {
   "cell_type": "code",
   "execution_count": 72,
   "metadata": {},
   "outputs": [
    {
     "name": "stderr",
     "output_type": "stream",
     "text": [
      "100%|██████████| 4/4 [00:00<00:00, 20.15it/s]\n"
     ]
    },
    {
     "data": {
      "text/html": [
       "<div>\n",
       "<style scoped>\n",
       "    .dataframe tbody tr th:only-of-type {\n",
       "        vertical-align: middle;\n",
       "    }\n",
       "\n",
       "    .dataframe tbody tr th {\n",
       "        vertical-align: top;\n",
       "    }\n",
       "\n",
       "    .dataframe thead th {\n",
       "        text-align: right;\n",
       "    }\n",
       "</style>\n",
       "<table border=\"1\" class=\"dataframe\">\n",
       "  <thead>\n",
       "    <tr style=\"text-align: right;\">\n",
       "      <th></th>\n",
       "      <th>train25_df1</th>\n",
       "      <th>train25_df2</th>\n",
       "      <th>train25_df3</th>\n",
       "      <th>train25_df4</th>\n",
       "    </tr>\n",
       "  </thead>\n",
       "  <tbody>\n",
       "    <tr>\n",
       "      <th>0</th>\n",
       "      <td>0.582342</td>\n",
       "      <td>0.59558</td>\n",
       "      <td>0.483394</td>\n",
       "      <td>0.435356</td>\n",
       "    </tr>\n",
       "    <tr>\n",
       "      <th>1</th>\n",
       "      <td>0.417658</td>\n",
       "      <td>0.40442</td>\n",
       "      <td>0.516606</td>\n",
       "      <td>0.564644</td>\n",
       "    </tr>\n",
       "  </tbody>\n",
       "</table>\n",
       "</div>"
      ],
      "text/plain": [
       "   train25_df1  train25_df2  train25_df3  train25_df4\n",
       "0     0.582342      0.59558     0.483394     0.435356\n",
       "1     0.417658      0.40442     0.516606     0.564644"
      ]
     },
     "execution_count": 72,
     "metadata": {},
     "output_type": "execute_result"
    }
   ],
   "source": [
    "train_df = pd.DataFrame()\n",
    "num_list = [0, 1, 2, 3]\n",
    "\n",
    "for num in tqdm(num_list):\n",
    "  c0, c1 = match_cases[num]\n",
    "  tmp = train[(train['d_l_match_yn']==c0)&(train['h_l_match_yn']==c1)]\n",
    "  tmp_target = tmp['target'].value_counts(normalize=True)\n",
    "  tmp_df = pd.DataFrame(tmp_target)\n",
    "  train_df = pd.concat([train_df, tmp_df], axis=1)\n",
    "\n",
    "train_df.columns = ['train25_df1', 'train25_df2', 'train25_df3', 'train25_df4']\n",
    "train_df"
   ]
  },
  {
   "cell_type": "markdown",
   "metadata": {},
   "source": [
    "## 매칭 경우의 수별 시각화"
   ]
  },
  {
   "cell_type": "code",
   "execution_count": 73,
   "metadata": {},
   "outputs": [
    {
     "data": {
      "text/plain": [
       "<matplotlib.legend.Legend at 0x1e2e9b81e20>"
      ]
     },
     "execution_count": 73,
     "metadata": {},
     "output_type": "execute_result"
    },
    {
     "data": {
      "image/png": "[encoded data removed]",
      "text/plain": [
       "<Figure size 1080x432 with 1 Axes>"
      ]
     },
     "metadata": {
      "needs_background": "light"
     },
     "output_type": "display_data"
    }
   ],
   "source": [
    "plt.figure(figsize=(15,6))\n",
    "plt.title('train25의 경우의 수 별, target비율', fontdict={'size':20})\n",
    "plt.xticks(fontsize=15, rotation=-45)\n",
    "plt.yticks(fontsize=15)\n",
    "plt.grid(True)\n",
    "plt.plot(train_df.iloc[0,:], label='False', color='red')\n",
    "plt.plot(train_df.iloc[1,:], label='True', color='blue')\n",
    "plt.legend(fontsize=13)"
   ]
  },
  {
   "cell_type": "markdown",
   "metadata": {},
   "source": [
    "## test"
   ]
  },
  {
   "cell_type": "markdown",
   "metadata": {},
   "source": [
    "# 마지막 부분"
   ]
  }
 ],
 "metadata": {
  "interpreter": {
   "hash": "8ae3dcd19c82398a5ce067019491007897b01e5b53746170904cf60dcf0d8fb4"
  },
  "kernelspec": {
   "display_name": "Python 3",
   "language": "python",
   "name": "python3"
  },
  "language_info": {
   "codemirror_mode": {
    "name": "ipython",
    "version": 3
   },
   "file_extension": ".py",
   "mimetype": "text/x-python",
   "name": "python",
   "nbconvert_exporter": "python",
   "pygments_lexer": "ipython3",
   "version": "3.8.8"
  }
 },
 "nbformat": 4,
 "nbformat_minor": 2
}
