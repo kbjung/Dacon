{
 "cells": [
  {
   "cell_type": "code",
   "execution_count": 182,
   "metadata": {},
   "outputs": [],
   "source": [
    "import pandas as pd\n",
    "from tqdm import tqdm"
   ]
  },
  {
   "cell_type": "code",
   "execution_count": 183,
   "metadata": {},
   "outputs": [],
   "source": [
    "import matplotlib.pyplot as plt"
   ]
  },
  {
   "cell_type": "code",
   "execution_count": 184,
   "metadata": {},
   "outputs": [],
   "source": [
    "import platform\n",
    "from matplotlib import font_manager, rc\n",
    "\n",
    "# 한글 폰트 지정\n",
    "path = \"C:/Windows/Fonts/malgun.ttf\"\n",
    "if platform.system() == \"Windows\":\n",
    "    font_name = font_manager.FontProperties(fname=path).get_name()\n",
    "    rc('font', family=font_name)\n",
    "elif platform.system()==\"Darwin\":\n",
    "    rc('font', family='AppleGothic')\n",
    "else:\n",
    "    print(\"Unknown System\")"
   ]
  },
  {
   "cell_type": "code",
   "execution_count": 185,
   "metadata": {},
   "outputs": [],
   "source": [
    "# 음수 표현\n",
    "plt.rcParams['axes.unicode_minus'] = False"
   ]
  },
  {
   "cell_type": "markdown",
   "metadata": {},
   "source": [
    "# 파일 확인"
   ]
  },
  {
   "cell_type": "code",
   "execution_count": 186,
   "metadata": {},
   "outputs": [],
   "source": [
    "# d_l_match_yn :  속성 D 대분류 매칭 여부\n",
    "# d_m_match_yn :  속성 D 중분류 매칭 여부\n",
    "# d_s_match_yn :  속성 D 소분류 매칭 여부\n",
    "# h_l_match_yn :  속성 H 대분류 매칭 여부\n",
    "# h_m_match_yn :  속성 H 중분류 매칭 여부\n",
    "# h_s_match_yn :  속성 H 소분류 매칭 여부\n",
    "\n",
    "# person_attribute_a :  회원 속성 A\n",
    "# person_attribute_a_1 :  회원 속성 A 하위 속성 1\n",
    "# person_attribute_b :  회원 속성 B\n",
    "\n",
    "# person_prefer_c :  회원 선호 속성 C\n",
    "# person_prefer_d_1 :  회원 선호 속성 D 1번\n",
    "# person_prefer_d_2 :  회원 선호 속성 D 2번\n",
    "# person_prefer_d_3 :  회원 선호 속성 D 3번\n",
    "# person_prefer_e :  회원 선호 속성 E\n",
    "# person_prefer_f :  회원 선호 속성 F\n",
    "# person_prefer_g :  회원 선호 속성 G\n",
    "# person_prefer_h_1 :  회원 선호 속성 H 1번\n",
    "# person_prefer_h_2 :  회원 선호 속성 H 2번\n",
    "# person_prefer_h_3 :  회원 선호 속성 H 3번\n",
    "\n",
    "# contents_attribute_i :  컨텐츠 속성 I\n",
    "# contents_attribute_a :  컨텐츠 속성 A\n",
    "# contents_attribute_j_1 :  컨텐츠 속성 J 하위 속성 1\n",
    "# contents_attribute_j :  컨텐츠 속성 J\n",
    "# contents_attribute_c :  컨텐츠 속성 C\n",
    "# contents_attribute_k :  컨텐츠 속성 K\n",
    "# contents_attribute_l :  컨텐츠 속성 L\n",
    "# contents_attribute_d :  컨텐츠 속성 D\n",
    "# contents_attribute_m :  컨텐츠 속성 M\n",
    "# contents_attribute_e :  컨텐츠 속성 E\n",
    "# contents_attribute_h :  컨텐츠 속성 H\n",
    "\n",
    "# person_rn :  사용자번호\n",
    "# contents_rn :  컨텐츠번호\n",
    "# contents_open_dt :  컨텐츠 열람 일시\n",
    "# target :  컨텐츠 사용 여부 (라벨)"
   ]
  },
  {
   "cell_type": "code",
   "execution_count": 187,
   "metadata": {},
   "outputs": [],
   "source": [
    "train = pd.read_csv('../data/train.csv')\n",
    "test = pd.read_csv('../data/test.csv')"
   ]
  },
  {
   "cell_type": "markdown",
   "metadata": {},
   "source": [
    "# 매칭 6개 특성 별 데이터 확인"
   ]
  },
  {
   "cell_type": "code",
   "execution_count": 188,
   "metadata": {},
   "outputs": [],
   "source": [
    "import itertools"
   ]
  },
  {
   "cell_type": "code",
   "execution_count": 189,
   "metadata": {},
   "outputs": [
    {
     "data": {
      "text/plain": [
       "[(0, 0, 0, 0, 0, 0),\n",
       " (0, 0, 0, 0, 0, 1),\n",
       " (0, 0, 0, 0, 1, 0),\n",
       " (0, 0, 0, 0, 1, 1),\n",
       " (0, 0, 0, 1, 0, 0),\n",
       " (0, 0, 0, 1, 0, 1),\n",
       " (0, 0, 0, 1, 1, 0),\n",
       " (0, 0, 0, 1, 1, 1),\n",
       " (0, 0, 1, 0, 0, 0),\n",
       " (0, 0, 1, 0, 0, 1),\n",
       " (0, 0, 1, 0, 1, 0),\n",
       " (0, 0, 1, 0, 1, 1),\n",
       " (0, 0, 1, 1, 0, 0),\n",
       " (0, 0, 1, 1, 0, 1),\n",
       " (0, 0, 1, 1, 1, 0),\n",
       " (0, 0, 1, 1, 1, 1),\n",
       " (0, 1, 0, 0, 0, 0),\n",
       " (0, 1, 0, 0, 0, 1),\n",
       " (0, 1, 0, 0, 1, 0),\n",
       " (0, 1, 0, 0, 1, 1),\n",
       " (0, 1, 0, 1, 0, 0),\n",
       " (0, 1, 0, 1, 0, 1),\n",
       " (0, 1, 0, 1, 1, 0),\n",
       " (0, 1, 0, 1, 1, 1),\n",
       " (0, 1, 1, 0, 0, 0),\n",
       " (0, 1, 1, 0, 0, 1),\n",
       " (0, 1, 1, 0, 1, 0),\n",
       " (0, 1, 1, 0, 1, 1),\n",
       " (0, 1, 1, 1, 0, 0),\n",
       " (0, 1, 1, 1, 0, 1),\n",
       " (0, 1, 1, 1, 1, 0),\n",
       " (0, 1, 1, 1, 1, 1),\n",
       " (1, 0, 0, 0, 0, 0),\n",
       " (1, 0, 0, 0, 0, 1),\n",
       " (1, 0, 0, 0, 1, 0),\n",
       " (1, 0, 0, 0, 1, 1),\n",
       " (1, 0, 0, 1, 0, 0),\n",
       " (1, 0, 0, 1, 0, 1),\n",
       " (1, 0, 0, 1, 1, 0),\n",
       " (1, 0, 0, 1, 1, 1),\n",
       " (1, 0, 1, 0, 0, 0),\n",
       " (1, 0, 1, 0, 0, 1),\n",
       " (1, 0, 1, 0, 1, 0),\n",
       " (1, 0, 1, 0, 1, 1),\n",
       " (1, 0, 1, 1, 0, 0),\n",
       " (1, 0, 1, 1, 0, 1),\n",
       " (1, 0, 1, 1, 1, 0),\n",
       " (1, 0, 1, 1, 1, 1),\n",
       " (1, 1, 0, 0, 0, 0),\n",
       " (1, 1, 0, 0, 0, 1),\n",
       " (1, 1, 0, 0, 1, 0),\n",
       " (1, 1, 0, 0, 1, 1),\n",
       " (1, 1, 0, 1, 0, 0),\n",
       " (1, 1, 0, 1, 0, 1),\n",
       " (1, 1, 0, 1, 1, 0),\n",
       " (1, 1, 0, 1, 1, 1),\n",
       " (1, 1, 1, 0, 0, 0),\n",
       " (1, 1, 1, 0, 0, 1),\n",
       " (1, 1, 1, 0, 1, 0),\n",
       " (1, 1, 1, 0, 1, 1),\n",
       " (1, 1, 1, 1, 0, 0),\n",
       " (1, 1, 1, 1, 0, 1),\n",
       " (1, 1, 1, 1, 1, 0),\n",
       " (1, 1, 1, 1, 1, 1)]"
      ]
     },
     "execution_count": 189,
     "metadata": {},
     "output_type": "execute_result"
    }
   ],
   "source": [
    "# 단계(6단계)별로 [0, 1]의 선택지 있는 모든 경우의 수 출력\n",
    "match_cases = list(itertools.product(*[[0,1] for i in range(6)]))\n",
    "match_cases"
   ]
  },
  {
   "cell_type": "code",
   "execution_count": 190,
   "metadata": {},
   "outputs": [
    {
     "name": "stdout",
     "output_type": "stream",
     "text": [
      "<class 'pandas.core.frame.DataFrame'>\n",
      "RangeIndex: 501951 entries, 0 to 501950\n",
      "Data columns (total 35 columns):\n",
      " #   Column                  Non-Null Count   Dtype \n",
      "---  ------                  --------------   ----- \n",
      " 0   id                      501951 non-null  int64 \n",
      " 1   d_l_match_yn            501951 non-null  bool  \n",
      " 2   d_m_match_yn            501951 non-null  bool  \n",
      " 3   d_s_match_yn            501951 non-null  bool  \n",
      " 4   h_l_match_yn            501951 non-null  bool  \n",
      " 5   h_m_match_yn            501951 non-null  bool  \n",
      " 6   h_s_match_yn            501951 non-null  bool  \n",
      " 7   person_attribute_a      501951 non-null  int64 \n",
      " 8   person_attribute_a_1    501951 non-null  int64 \n",
      " 9   person_attribute_b      501951 non-null  int64 \n",
      " 10  person_prefer_c         501951 non-null  int64 \n",
      " 11  person_prefer_d_1       501951 non-null  int64 \n",
      " 12  person_prefer_d_2       501951 non-null  int64 \n",
      " 13  person_prefer_d_3       501951 non-null  int64 \n",
      " 14  person_prefer_e         501951 non-null  int64 \n",
      " 15  person_prefer_f         501951 non-null  int64 \n",
      " 16  person_prefer_g         501951 non-null  int64 \n",
      " 17  person_prefer_h_1       501951 non-null  int64 \n",
      " 18  person_prefer_h_2       501951 non-null  int64 \n",
      " 19  person_prefer_h_3       501951 non-null  int64 \n",
      " 20  contents_attribute_i    501951 non-null  int64 \n",
      " 21  contents_attribute_a    501951 non-null  int64 \n",
      " 22  contents_attribute_j_1  501951 non-null  int64 \n",
      " 23  contents_attribute_j    501951 non-null  int64 \n",
      " 24  contents_attribute_c    501951 non-null  int64 \n",
      " 25  contents_attribute_k    501951 non-null  int64 \n",
      " 26  contents_attribute_l    501951 non-null  int64 \n",
      " 27  contents_attribute_d    501951 non-null  int64 \n",
      " 28  contents_attribute_m    501951 non-null  int64 \n",
      " 29  contents_attribute_e    501951 non-null  int64 \n",
      " 30  contents_attribute_h    501951 non-null  int64 \n",
      " 31  person_rn               501951 non-null  int64 \n",
      " 32  contents_rn             501951 non-null  int64 \n",
      " 33  contents_open_dt        501951 non-null  object\n",
      " 34  target                  501951 non-null  int64 \n",
      "dtypes: bool(6), int64(28), object(1)\n",
      "memory usage: 113.9+ MB\n"
     ]
    }
   ],
   "source": [
    "train.info()"
   ]
  },
  {
   "cell_type": "code",
   "execution_count": 191,
   "metadata": {},
   "outputs": [
    {
     "data": {
      "text/html": [
       "<div>\n",
       "<style scoped>\n",
       "    .dataframe tbody tr th:only-of-type {\n",
       "        vertical-align: middle;\n",
       "    }\n",
       "\n",
       "    .dataframe tbody tr th {\n",
       "        vertical-align: top;\n",
       "    }\n",
       "\n",
       "    .dataframe thead th {\n",
       "        text-align: right;\n",
       "    }\n",
       "</style>\n",
       "<table border=\"1\" class=\"dataframe\">\n",
       "  <thead>\n",
       "    <tr style=\"text-align: right;\">\n",
       "      <th></th>\n",
       "      <th>id</th>\n",
       "      <th>d_l_match_yn</th>\n",
       "      <th>d_m_match_yn</th>\n",
       "      <th>d_s_match_yn</th>\n",
       "      <th>h_l_match_yn</th>\n",
       "      <th>h_m_match_yn</th>\n",
       "      <th>h_s_match_yn</th>\n",
       "      <th>person_attribute_a</th>\n",
       "      <th>person_attribute_a_1</th>\n",
       "      <th>person_attribute_b</th>\n",
       "      <th>...</th>\n",
       "      <th>contents_attribute_k</th>\n",
       "      <th>contents_attribute_l</th>\n",
       "      <th>contents_attribute_d</th>\n",
       "      <th>contents_attribute_m</th>\n",
       "      <th>contents_attribute_e</th>\n",
       "      <th>contents_attribute_h</th>\n",
       "      <th>person_rn</th>\n",
       "      <th>contents_rn</th>\n",
       "      <th>contents_open_dt</th>\n",
       "      <th>target</th>\n",
       "    </tr>\n",
       "  </thead>\n",
       "  <tbody>\n",
       "    <tr>\n",
       "      <th>0</th>\n",
       "      <td>0</td>\n",
       "      <td>True</td>\n",
       "      <td>True</td>\n",
       "      <td>True</td>\n",
       "      <td>False</td>\n",
       "      <td>False</td>\n",
       "      <td>False</td>\n",
       "      <td>1</td>\n",
       "      <td>4</td>\n",
       "      <td>3</td>\n",
       "      <td>...</td>\n",
       "      <td>2</td>\n",
       "      <td>1608</td>\n",
       "      <td>275</td>\n",
       "      <td>1</td>\n",
       "      <td>4</td>\n",
       "      <td>139</td>\n",
       "      <td>618822</td>\n",
       "      <td>354805</td>\n",
       "      <td>2020-01-17 12:09:36</td>\n",
       "      <td>1</td>\n",
       "    </tr>\n",
       "    <tr>\n",
       "      <th>1</th>\n",
       "      <td>1</td>\n",
       "      <td>False</td>\n",
       "      <td>False</td>\n",
       "      <td>False</td>\n",
       "      <td>True</td>\n",
       "      <td>True</td>\n",
       "      <td>False</td>\n",
       "      <td>1</td>\n",
       "      <td>3</td>\n",
       "      <td>4</td>\n",
       "      <td>...</td>\n",
       "      <td>2</td>\n",
       "      <td>1608</td>\n",
       "      <td>275</td>\n",
       "      <td>1</td>\n",
       "      <td>4</td>\n",
       "      <td>133</td>\n",
       "      <td>571659</td>\n",
       "      <td>346213</td>\n",
       "      <td>2020-06-18 17:48:52</td>\n",
       "      <td>0</td>\n",
       "    </tr>\n",
       "    <tr>\n",
       "      <th>2</th>\n",
       "      <td>2</td>\n",
       "      <td>False</td>\n",
       "      <td>False</td>\n",
       "      <td>False</td>\n",
       "      <td>True</td>\n",
       "      <td>False</td>\n",
       "      <td>False</td>\n",
       "      <td>2</td>\n",
       "      <td>0</td>\n",
       "      <td>3</td>\n",
       "      <td>...</td>\n",
       "      <td>1</td>\n",
       "      <td>1600</td>\n",
       "      <td>94</td>\n",
       "      <td>1</td>\n",
       "      <td>4</td>\n",
       "      <td>53</td>\n",
       "      <td>399816</td>\n",
       "      <td>206408</td>\n",
       "      <td>2020-07-08 20:00:10</td>\n",
       "      <td>0</td>\n",
       "    </tr>\n",
       "    <tr>\n",
       "      <th>3</th>\n",
       "      <td>3</td>\n",
       "      <td>False</td>\n",
       "      <td>False</td>\n",
       "      <td>False</td>\n",
       "      <td>True</td>\n",
       "      <td>False</td>\n",
       "      <td>False</td>\n",
       "      <td>2</td>\n",
       "      <td>0</td>\n",
       "      <td>2</td>\n",
       "      <td>...</td>\n",
       "      <td>2</td>\n",
       "      <td>1608</td>\n",
       "      <td>275</td>\n",
       "      <td>5</td>\n",
       "      <td>3</td>\n",
       "      <td>74</td>\n",
       "      <td>827967</td>\n",
       "      <td>572323</td>\n",
       "      <td>2020-01-13 18:09:34</td>\n",
       "      <td>0</td>\n",
       "    </tr>\n",
       "    <tr>\n",
       "      <th>4</th>\n",
       "      <td>4</td>\n",
       "      <td>True</td>\n",
       "      <td>True</td>\n",
       "      <td>True</td>\n",
       "      <td>False</td>\n",
       "      <td>False</td>\n",
       "      <td>False</td>\n",
       "      <td>1</td>\n",
       "      <td>3</td>\n",
       "      <td>4</td>\n",
       "      <td>...</td>\n",
       "      <td>2</td>\n",
       "      <td>1608</td>\n",
       "      <td>275</td>\n",
       "      <td>1</td>\n",
       "      <td>4</td>\n",
       "      <td>74</td>\n",
       "      <td>831614</td>\n",
       "      <td>573899</td>\n",
       "      <td>2020-03-09 20:39:22</td>\n",
       "      <td>0</td>\n",
       "    </tr>\n",
       "  </tbody>\n",
       "</table>\n",
       "<p>5 rows × 35 columns</p>\n",
       "</div>"
      ],
      "text/plain": [
       "   id  d_l_match_yn  d_m_match_yn  d_s_match_yn  h_l_match_yn  h_m_match_yn  \\\n",
       "0   0          True          True          True         False         False   \n",
       "1   1         False         False         False          True          True   \n",
       "2   2         False         False         False          True         False   \n",
       "3   3         False         False         False          True         False   \n",
       "4   4          True          True          True         False         False   \n",
       "\n",
       "   h_s_match_yn  person_attribute_a  person_attribute_a_1  person_attribute_b  \\\n",
       "0         False                   1                     4                   3   \n",
       "1         False                   1                     3                   4   \n",
       "2         False                   2                     0                   3   \n",
       "3         False                   2                     0                   2   \n",
       "4         False                   1                     3                   4   \n",
       "\n",
       "   ...  contents_attribute_k  contents_attribute_l  contents_attribute_d  \\\n",
       "0  ...                     2                  1608                   275   \n",
       "1  ...                     2                  1608                   275   \n",
       "2  ...                     1                  1600                    94   \n",
       "3  ...                     2                  1608                   275   \n",
       "4  ...                     2                  1608                   275   \n",
       "\n",
       "   contents_attribute_m  contents_attribute_e  contents_attribute_h  \\\n",
       "0                     1                     4                   139   \n",
       "1                     1                     4                   133   \n",
       "2                     1                     4                    53   \n",
       "3                     5                     3                    74   \n",
       "4                     1                     4                    74   \n",
       "\n",
       "   person_rn  contents_rn     contents_open_dt  target  \n",
       "0     618822       354805  2020-01-17 12:09:36       1  \n",
       "1     571659       346213  2020-06-18 17:48:52       0  \n",
       "2     399816       206408  2020-07-08 20:00:10       0  \n",
       "3     827967       572323  2020-01-13 18:09:34       0  \n",
       "4     831614       573899  2020-03-09 20:39:22       0  \n",
       "\n",
       "[5 rows x 35 columns]"
      ]
     },
     "execution_count": 191,
     "metadata": {},
     "output_type": "execute_result"
    }
   ],
   "source": [
    "train.head()"
   ]
  },
  {
   "cell_type": "code",
   "execution_count": 192,
   "metadata": {},
   "outputs": [
    {
     "data": {
      "text/plain": [
       "(0, 0, 0, 0, 0, 0)"
      ]
     },
     "execution_count": 192,
     "metadata": {},
     "output_type": "execute_result"
    }
   ],
   "source": [
    "match_cases[0]"
   ]
  },
  {
   "cell_type": "code",
   "execution_count": 193,
   "metadata": {},
   "outputs": [
    {
     "data": {
      "text/html": [
       "<div>\n",
       "<style scoped>\n",
       "    .dataframe tbody tr th:only-of-type {\n",
       "        vertical-align: middle;\n",
       "    }\n",
       "\n",
       "    .dataframe tbody tr th {\n",
       "        vertical-align: top;\n",
       "    }\n",
       "\n",
       "    .dataframe thead th {\n",
       "        text-align: right;\n",
       "    }\n",
       "</style>\n",
       "<table border=\"1\" class=\"dataframe\">\n",
       "  <thead>\n",
       "    <tr style=\"text-align: right;\">\n",
       "      <th></th>\n",
       "      <th>0</th>\n",
       "    </tr>\n",
       "  </thead>\n",
       "  <tbody>\n",
       "    <tr>\n",
       "      <th>0</th>\n",
       "      <td>0</td>\n",
       "    </tr>\n",
       "    <tr>\n",
       "      <th>1</th>\n",
       "      <td>0</td>\n",
       "    </tr>\n",
       "    <tr>\n",
       "      <th>2</th>\n",
       "      <td>0</td>\n",
       "    </tr>\n",
       "    <tr>\n",
       "      <th>3</th>\n",
       "      <td>0</td>\n",
       "    </tr>\n",
       "    <tr>\n",
       "      <th>4</th>\n",
       "      <td>0</td>\n",
       "    </tr>\n",
       "    <tr>\n",
       "      <th>5</th>\n",
       "      <td>0</td>\n",
       "    </tr>\n",
       "  </tbody>\n",
       "</table>\n",
       "</div>"
      ],
      "text/plain": [
       "   0\n",
       "0  0\n",
       "1  0\n",
       "2  0\n",
       "3  0\n",
       "4  0\n",
       "5  0"
      ]
     },
     "execution_count": 193,
     "metadata": {},
     "output_type": "execute_result"
    }
   ],
   "source": [
    "a = match_cases[0]\n",
    "set_a = pd.DataFrame(a)\n",
    "set_a"
   ]
  },
  {
   "cell_type": "code",
   "execution_count": 194,
   "metadata": {},
   "outputs": [
    {
     "data": {
      "text/html": [
       "<div>\n",
       "<style scoped>\n",
       "    .dataframe tbody tr th:only-of-type {\n",
       "        vertical-align: middle;\n",
       "    }\n",
       "\n",
       "    .dataframe tbody tr th {\n",
       "        vertical-align: top;\n",
       "    }\n",
       "\n",
       "    .dataframe thead th {\n",
       "        text-align: right;\n",
       "    }\n",
       "</style>\n",
       "<table border=\"1\" class=\"dataframe\">\n",
       "  <thead>\n",
       "    <tr style=\"text-align: right;\">\n",
       "      <th></th>\n",
       "      <th>0</th>\n",
       "    </tr>\n",
       "  </thead>\n",
       "  <tbody>\n",
       "    <tr>\n",
       "      <th>0</th>\n",
       "      <td>1</td>\n",
       "    </tr>\n",
       "    <tr>\n",
       "      <th>1</th>\n",
       "      <td>1</td>\n",
       "    </tr>\n",
       "    <tr>\n",
       "      <th>2</th>\n",
       "      <td>1</td>\n",
       "    </tr>\n",
       "    <tr>\n",
       "      <th>3</th>\n",
       "      <td>0</td>\n",
       "    </tr>\n",
       "    <tr>\n",
       "      <th>4</th>\n",
       "      <td>0</td>\n",
       "    </tr>\n",
       "    <tr>\n",
       "      <th>5</th>\n",
       "      <td>0</td>\n",
       "    </tr>\n",
       "  </tbody>\n",
       "</table>\n",
       "</div>"
      ],
      "text/plain": [
       "   0\n",
       "0  1\n",
       "1  1\n",
       "2  1\n",
       "3  0\n",
       "4  0\n",
       "5  0"
      ]
     },
     "execution_count": 194,
     "metadata": {},
     "output_type": "execute_result"
    }
   ],
   "source": [
    "tmp_set = pd.DataFrame(train.iloc[0, 1:7]).reset_index(drop=True)\n",
    "tmp_set = tmp_set.astype('int64')\n",
    "tmp_set"
   ]
  },
  {
   "cell_type": "code",
   "execution_count": 195,
   "metadata": {},
   "outputs": [
    {
     "name": "stdout",
     "output_type": "stream",
     "text": [
      "<class 'pandas.core.frame.DataFrame'>\n",
      "RangeIndex: 6 entries, 0 to 5\n",
      "Data columns (total 1 columns):\n",
      " #   Column  Non-Null Count  Dtype\n",
      "---  ------  --------------  -----\n",
      " 0   0       6 non-null      int64\n",
      "dtypes: int64(1)\n",
      "memory usage: 176.0 bytes\n"
     ]
    }
   ],
   "source": [
    "set_a.info()"
   ]
  },
  {
   "cell_type": "code",
   "execution_count": 196,
   "metadata": {},
   "outputs": [
    {
     "name": "stdout",
     "output_type": "stream",
     "text": [
      "<class 'pandas.core.frame.DataFrame'>\n",
      "RangeIndex: 6 entries, 0 to 5\n",
      "Data columns (total 1 columns):\n",
      " #   Column  Non-Null Count  Dtype\n",
      "---  ------  --------------  -----\n",
      " 0   0       6 non-null      int64\n",
      "dtypes: int64(1)\n",
      "memory usage: 176.0 bytes\n"
     ]
    }
   ],
   "source": [
    "tmp_set.info()"
   ]
  },
  {
   "cell_type": "code",
   "execution_count": 197,
   "metadata": {},
   "outputs": [
    {
     "data": {
      "text/plain": [
       "(1, 1, 1, 0, 0, 0)"
      ]
     },
     "execution_count": 197,
     "metadata": {},
     "output_type": "execute_result"
    }
   ],
   "source": [
    "match_cases[56]"
   ]
  },
  {
   "cell_type": "code",
   "execution_count": 198,
   "metadata": {},
   "outputs": [],
   "source": [
    "c0, c1, c2, c3, c4, c5 = match_cases[56]"
   ]
  },
  {
   "cell_type": "code",
   "execution_count": 199,
   "metadata": {},
   "outputs": [
    {
     "data": {
      "text/plain": [
       "int"
      ]
     },
     "execution_count": 199,
     "metadata": {},
     "output_type": "execute_result"
    }
   ],
   "source": [
    "type(c0)"
   ]
  },
  {
   "cell_type": "code",
   "execution_count": 200,
   "metadata": {},
   "outputs": [
    {
     "data": {
      "text/html": [
       "<div>\n",
       "<style scoped>\n",
       "    .dataframe tbody tr th:only-of-type {\n",
       "        vertical-align: middle;\n",
       "    }\n",
       "\n",
       "    .dataframe tbody tr th {\n",
       "        vertical-align: top;\n",
       "    }\n",
       "\n",
       "    .dataframe thead th {\n",
       "        text-align: right;\n",
       "    }\n",
       "</style>\n",
       "<table border=\"1\" class=\"dataframe\">\n",
       "  <thead>\n",
       "    <tr style=\"text-align: right;\">\n",
       "      <th></th>\n",
       "      <th>id</th>\n",
       "      <th>d_l_match_yn</th>\n",
       "      <th>d_m_match_yn</th>\n",
       "      <th>d_s_match_yn</th>\n",
       "      <th>h_l_match_yn</th>\n",
       "      <th>h_m_match_yn</th>\n",
       "      <th>h_s_match_yn</th>\n",
       "      <th>person_attribute_a</th>\n",
       "      <th>person_attribute_a_1</th>\n",
       "      <th>person_attribute_b</th>\n",
       "      <th>...</th>\n",
       "      <th>contents_attribute_k</th>\n",
       "      <th>contents_attribute_l</th>\n",
       "      <th>contents_attribute_d</th>\n",
       "      <th>contents_attribute_m</th>\n",
       "      <th>contents_attribute_e</th>\n",
       "      <th>contents_attribute_h</th>\n",
       "      <th>person_rn</th>\n",
       "      <th>contents_rn</th>\n",
       "      <th>contents_open_dt</th>\n",
       "      <th>target</th>\n",
       "    </tr>\n",
       "  </thead>\n",
       "  <tbody>\n",
       "    <tr>\n",
       "      <th>0</th>\n",
       "      <td>0</td>\n",
       "      <td>True</td>\n",
       "      <td>True</td>\n",
       "      <td>True</td>\n",
       "      <td>False</td>\n",
       "      <td>False</td>\n",
       "      <td>False</td>\n",
       "      <td>1</td>\n",
       "      <td>4</td>\n",
       "      <td>3</td>\n",
       "      <td>...</td>\n",
       "      <td>2</td>\n",
       "      <td>1608</td>\n",
       "      <td>275</td>\n",
       "      <td>1</td>\n",
       "      <td>4</td>\n",
       "      <td>139</td>\n",
       "      <td>618822</td>\n",
       "      <td>354805</td>\n",
       "      <td>2020-01-17 12:09:36</td>\n",
       "      <td>1</td>\n",
       "    </tr>\n",
       "    <tr>\n",
       "      <th>4</th>\n",
       "      <td>4</td>\n",
       "      <td>True</td>\n",
       "      <td>True</td>\n",
       "      <td>True</td>\n",
       "      <td>False</td>\n",
       "      <td>False</td>\n",
       "      <td>False</td>\n",
       "      <td>1</td>\n",
       "      <td>3</td>\n",
       "      <td>4</td>\n",
       "      <td>...</td>\n",
       "      <td>2</td>\n",
       "      <td>1608</td>\n",
       "      <td>275</td>\n",
       "      <td>1</td>\n",
       "      <td>4</td>\n",
       "      <td>74</td>\n",
       "      <td>831614</td>\n",
       "      <td>573899</td>\n",
       "      <td>2020-03-09 20:39:22</td>\n",
       "      <td>0</td>\n",
       "    </tr>\n",
       "    <tr>\n",
       "      <th>19</th>\n",
       "      <td>19</td>\n",
       "      <td>True</td>\n",
       "      <td>True</td>\n",
       "      <td>True</td>\n",
       "      <td>False</td>\n",
       "      <td>False</td>\n",
       "      <td>False</td>\n",
       "      <td>2</td>\n",
       "      <td>0</td>\n",
       "      <td>2</td>\n",
       "      <td>...</td>\n",
       "      <td>2</td>\n",
       "      <td>933</td>\n",
       "      <td>159</td>\n",
       "      <td>1</td>\n",
       "      <td>4</td>\n",
       "      <td>233</td>\n",
       "      <td>55023</td>\n",
       "      <td>578347</td>\n",
       "      <td>2020-06-15 18:01:22</td>\n",
       "      <td>0</td>\n",
       "    </tr>\n",
       "    <tr>\n",
       "      <th>60</th>\n",
       "      <td>60</td>\n",
       "      <td>True</td>\n",
       "      <td>True</td>\n",
       "      <td>True</td>\n",
       "      <td>False</td>\n",
       "      <td>False</td>\n",
       "      <td>False</td>\n",
       "      <td>1</td>\n",
       "      <td>7</td>\n",
       "      <td>4</td>\n",
       "      <td>...</td>\n",
       "      <td>2</td>\n",
       "      <td>534</td>\n",
       "      <td>142</td>\n",
       "      <td>1</td>\n",
       "      <td>4</td>\n",
       "      <td>138</td>\n",
       "      <td>526057</td>\n",
       "      <td>306376</td>\n",
       "      <td>2020-04-20 15:34:50</td>\n",
       "      <td>0</td>\n",
       "    </tr>\n",
       "    <tr>\n",
       "      <th>77</th>\n",
       "      <td>77</td>\n",
       "      <td>True</td>\n",
       "      <td>True</td>\n",
       "      <td>True</td>\n",
       "      <td>False</td>\n",
       "      <td>False</td>\n",
       "      <td>False</td>\n",
       "      <td>2</td>\n",
       "      <td>0</td>\n",
       "      <td>2</td>\n",
       "      <td>...</td>\n",
       "      <td>2</td>\n",
       "      <td>677</td>\n",
       "      <td>114</td>\n",
       "      <td>2</td>\n",
       "      <td>3</td>\n",
       "      <td>109</td>\n",
       "      <td>501438</td>\n",
       "      <td>401123</td>\n",
       "      <td>2020-03-09 18:50:05</td>\n",
       "      <td>0</td>\n",
       "    </tr>\n",
       "    <tr>\n",
       "      <th>...</th>\n",
       "      <td>...</td>\n",
       "      <td>...</td>\n",
       "      <td>...</td>\n",
       "      <td>...</td>\n",
       "      <td>...</td>\n",
       "      <td>...</td>\n",
       "      <td>...</td>\n",
       "      <td>...</td>\n",
       "      <td>...</td>\n",
       "      <td>...</td>\n",
       "      <td>...</td>\n",
       "      <td>...</td>\n",
       "      <td>...</td>\n",
       "      <td>...</td>\n",
       "      <td>...</td>\n",
       "      <td>...</td>\n",
       "      <td>...</td>\n",
       "      <td>...</td>\n",
       "      <td>...</td>\n",
       "      <td>...</td>\n",
       "      <td>...</td>\n",
       "    </tr>\n",
       "    <tr>\n",
       "      <th>501853</th>\n",
       "      <td>501853</td>\n",
       "      <td>True</td>\n",
       "      <td>True</td>\n",
       "      <td>True</td>\n",
       "      <td>False</td>\n",
       "      <td>False</td>\n",
       "      <td>False</td>\n",
       "      <td>1</td>\n",
       "      <td>7</td>\n",
       "      <td>3</td>\n",
       "      <td>...</td>\n",
       "      <td>2</td>\n",
       "      <td>589</td>\n",
       "      <td>147</td>\n",
       "      <td>3</td>\n",
       "      <td>7</td>\n",
       "      <td>65</td>\n",
       "      <td>660974</td>\n",
       "      <td>286222</td>\n",
       "      <td>2020-03-20 14:15:35</td>\n",
       "      <td>1</td>\n",
       "    </tr>\n",
       "    <tr>\n",
       "      <th>501870</th>\n",
       "      <td>501870</td>\n",
       "      <td>True</td>\n",
       "      <td>True</td>\n",
       "      <td>True</td>\n",
       "      <td>False</td>\n",
       "      <td>False</td>\n",
       "      <td>False</td>\n",
       "      <td>1</td>\n",
       "      <td>6</td>\n",
       "      <td>4</td>\n",
       "      <td>...</td>\n",
       "      <td>2</td>\n",
       "      <td>99</td>\n",
       "      <td>102</td>\n",
       "      <td>1</td>\n",
       "      <td>4</td>\n",
       "      <td>114</td>\n",
       "      <td>819352</td>\n",
       "      <td>520115</td>\n",
       "      <td>2020-08-26 20:41:14</td>\n",
       "      <td>1</td>\n",
       "    </tr>\n",
       "    <tr>\n",
       "      <th>501880</th>\n",
       "      <td>501880</td>\n",
       "      <td>True</td>\n",
       "      <td>True</td>\n",
       "      <td>True</td>\n",
       "      <td>False</td>\n",
       "      <td>False</td>\n",
       "      <td>False</td>\n",
       "      <td>1</td>\n",
       "      <td>3</td>\n",
       "      <td>4</td>\n",
       "      <td>...</td>\n",
       "      <td>2</td>\n",
       "      <td>758</td>\n",
       "      <td>305</td>\n",
       "      <td>1</td>\n",
       "      <td>6</td>\n",
       "      <td>288</td>\n",
       "      <td>342562</td>\n",
       "      <td>172466</td>\n",
       "      <td>2020-11-09 14:31:27</td>\n",
       "      <td>1</td>\n",
       "    </tr>\n",
       "    <tr>\n",
       "      <th>501887</th>\n",
       "      <td>501887</td>\n",
       "      <td>True</td>\n",
       "      <td>True</td>\n",
       "      <td>True</td>\n",
       "      <td>False</td>\n",
       "      <td>False</td>\n",
       "      <td>False</td>\n",
       "      <td>1</td>\n",
       "      <td>0</td>\n",
       "      <td>4</td>\n",
       "      <td>...</td>\n",
       "      <td>2</td>\n",
       "      <td>981</td>\n",
       "      <td>102</td>\n",
       "      <td>1</td>\n",
       "      <td>4</td>\n",
       "      <td>228</td>\n",
       "      <td>906184</td>\n",
       "      <td>634904</td>\n",
       "      <td>2020-07-24 16:44:03</td>\n",
       "      <td>1</td>\n",
       "    </tr>\n",
       "    <tr>\n",
       "      <th>501915</th>\n",
       "      <td>501915</td>\n",
       "      <td>True</td>\n",
       "      <td>True</td>\n",
       "      <td>True</td>\n",
       "      <td>False</td>\n",
       "      <td>False</td>\n",
       "      <td>False</td>\n",
       "      <td>1</td>\n",
       "      <td>3</td>\n",
       "      <td>2</td>\n",
       "      <td>...</td>\n",
       "      <td>2</td>\n",
       "      <td>107</td>\n",
       "      <td>857</td>\n",
       "      <td>1</td>\n",
       "      <td>4</td>\n",
       "      <td>140</td>\n",
       "      <td>719761</td>\n",
       "      <td>505109</td>\n",
       "      <td>2020-03-18 04:10:37</td>\n",
       "      <td>1</td>\n",
       "    </tr>\n",
       "  </tbody>\n",
       "</table>\n",
       "<p>20261 rows × 35 columns</p>\n",
       "</div>"
      ],
      "text/plain": [
       "            id  d_l_match_yn  d_m_match_yn  d_s_match_yn  h_l_match_yn  \\\n",
       "0            0          True          True          True         False   \n",
       "4            4          True          True          True         False   \n",
       "19          19          True          True          True         False   \n",
       "60          60          True          True          True         False   \n",
       "77          77          True          True          True         False   \n",
       "...        ...           ...           ...           ...           ...   \n",
       "501853  501853          True          True          True         False   \n",
       "501870  501870          True          True          True         False   \n",
       "501880  501880          True          True          True         False   \n",
       "501887  501887          True          True          True         False   \n",
       "501915  501915          True          True          True         False   \n",
       "\n",
       "        h_m_match_yn  h_s_match_yn  person_attribute_a  person_attribute_a_1  \\\n",
       "0              False         False                   1                     4   \n",
       "4              False         False                   1                     3   \n",
       "19             False         False                   2                     0   \n",
       "60             False         False                   1                     7   \n",
       "77             False         False                   2                     0   \n",
       "...              ...           ...                 ...                   ...   \n",
       "501853         False         False                   1                     7   \n",
       "501870         False         False                   1                     6   \n",
       "501880         False         False                   1                     3   \n",
       "501887         False         False                   1                     0   \n",
       "501915         False         False                   1                     3   \n",
       "\n",
       "        person_attribute_b  ...  contents_attribute_k  contents_attribute_l  \\\n",
       "0                        3  ...                     2                  1608   \n",
       "4                        4  ...                     2                  1608   \n",
       "19                       2  ...                     2                   933   \n",
       "60                       4  ...                     2                   534   \n",
       "77                       2  ...                     2                   677   \n",
       "...                    ...  ...                   ...                   ...   \n",
       "501853                   3  ...                     2                   589   \n",
       "501870                   4  ...                     2                    99   \n",
       "501880                   4  ...                     2                   758   \n",
       "501887                   4  ...                     2                   981   \n",
       "501915                   2  ...                     2                   107   \n",
       "\n",
       "        contents_attribute_d  contents_attribute_m  contents_attribute_e  \\\n",
       "0                        275                     1                     4   \n",
       "4                        275                     1                     4   \n",
       "19                       159                     1                     4   \n",
       "60                       142                     1                     4   \n",
       "77                       114                     2                     3   \n",
       "...                      ...                   ...                   ...   \n",
       "501853                   147                     3                     7   \n",
       "501870                   102                     1                     4   \n",
       "501880                   305                     1                     6   \n",
       "501887                   102                     1                     4   \n",
       "501915                   857                     1                     4   \n",
       "\n",
       "        contents_attribute_h  person_rn  contents_rn     contents_open_dt  \\\n",
       "0                        139     618822       354805  2020-01-17 12:09:36   \n",
       "4                         74     831614       573899  2020-03-09 20:39:22   \n",
       "19                       233      55023       578347  2020-06-15 18:01:22   \n",
       "60                       138     526057       306376  2020-04-20 15:34:50   \n",
       "77                       109     501438       401123  2020-03-09 18:50:05   \n",
       "...                      ...        ...          ...                  ...   \n",
       "501853                    65     660974       286222  2020-03-20 14:15:35   \n",
       "501870                   114     819352       520115  2020-08-26 20:41:14   \n",
       "501880                   288     342562       172466  2020-11-09 14:31:27   \n",
       "501887                   228     906184       634904  2020-07-24 16:44:03   \n",
       "501915                   140     719761       505109  2020-03-18 04:10:37   \n",
       "\n",
       "        target  \n",
       "0            1  \n",
       "4            0  \n",
       "19           0  \n",
       "60           0  \n",
       "77           0  \n",
       "...        ...  \n",
       "501853       1  \n",
       "501870       1  \n",
       "501880       1  \n",
       "501887       1  \n",
       "501915       1  \n",
       "\n",
       "[20261 rows x 35 columns]"
      ]
     },
     "execution_count": 200,
     "metadata": {},
     "output_type": "execute_result"
    }
   ],
   "source": [
    "train[(train['d_l_match_yn']==1)&(train['d_m_match_yn']==1)&(train['d_s_match_yn']==1)&\n",
    "    (train['h_l_match_yn']==0)&(train['h_m_match_yn']==0)&(train['h_s_match_yn']==0)]"
   ]
  },
  {
   "cell_type": "code",
   "execution_count": 201,
   "metadata": {},
   "outputs": [
    {
     "data": {
      "text/plain": [
       "(0, 0, 0, 0, 0, 0)"
      ]
     },
     "execution_count": 201,
     "metadata": {},
     "output_type": "execute_result"
    }
   ],
   "source": [
    "c0, c1, c2, c3, c4, c5 = match_cases[0]\n",
    "match_cases[0]"
   ]
  },
  {
   "cell_type": "code",
   "execution_count": 202,
   "metadata": {},
   "outputs": [],
   "source": [
    "# (0, 0, 0, 0, 0, 0)\n",
    "df0 = train[(train['d_l_match_yn']==c0)&(train['d_m_match_yn']==c1)&(train['d_s_match_yn']==c2)&\n",
    "    (train['h_l_match_yn']==c3)&(train['h_m_match_yn']==c4)&(train['h_s_match_yn']==c5)]"
   ]
  },
  {
   "cell_type": "code",
   "execution_count": 203,
   "metadata": {},
   "outputs": [
    {
     "data": {
      "text/plain": [
       "(36913, 35)"
      ]
     },
     "execution_count": 203,
     "metadata": {},
     "output_type": "execute_result"
    }
   ],
   "source": [
    "df0.shape"
   ]
  },
  {
   "cell_type": "code",
   "execution_count": 204,
   "metadata": {},
   "outputs": [
    {
     "data": {
      "text/plain": [
       "(0, 35)"
      ]
     },
     "execution_count": 204,
     "metadata": {},
     "output_type": "execute_result"
    }
   ],
   "source": [
    "num = 1\n",
    "c0, c1, c2, c3, c4, c5 = match_cases[num]\n",
    "df1 = train[(train['d_l_match_yn']==c0)&(train['d_m_match_yn']==c1)&(train['d_s_match_yn']==c2)&\n",
    "    (train['h_l_match_yn']==c3)&(train['h_m_match_yn']==c4)&(train['h_s_match_yn']==c5)]\n",
    "df1.shape"
   ]
  },
  {
   "cell_type": "code",
   "execution_count": 205,
   "metadata": {},
   "outputs": [
    {
     "data": {
      "text/plain": [
       "(0, 35)"
      ]
     },
     "execution_count": 205,
     "metadata": {},
     "output_type": "execute_result"
    }
   ],
   "source": [
    "num = 2\n",
    "c0, c1, c2, c3, c4, c5 = match_cases[num]\n",
    "df2 = train[(train['d_l_match_yn']==c0)&(train['d_m_match_yn']==c1)&(train['d_s_match_yn']==c2)&\n",
    "    (train['h_l_match_yn']==c3)&(train['h_m_match_yn']==c4)&(train['h_s_match_yn']==c5)]\n",
    "df2.shape"
   ]
  },
  {
   "cell_type": "code",
   "execution_count": 206,
   "metadata": {},
   "outputs": [
    {
     "data": {
      "text/plain": [
       "((0, 0, 0, 0, 1, 1), (0, 35))"
      ]
     },
     "execution_count": 206,
     "metadata": {},
     "output_type": "execute_result"
    }
   ],
   "source": [
    "num = 3\n",
    "c0, c1, c2, c3, c4, c5 = match_cases[num]\n",
    "df3 = train[(train['d_l_match_yn']==c0)&(train['d_m_match_yn']==c1)&(train['d_s_match_yn']==c2)&\n",
    "    (train['h_l_match_yn']==c3)&(train['h_m_match_yn']==c4)&(train['h_s_match_yn']==c5)]\n",
    "match_cases[num], df3.shape"
   ]
  },
  {
   "cell_type": "code",
   "execution_count": 207,
   "metadata": {},
   "outputs": [
    {
     "data": {
      "text/plain": [
       "((0, 0, 0, 1, 0, 0), (78861, 35))"
      ]
     },
     "execution_count": 207,
     "metadata": {},
     "output_type": "execute_result"
    }
   ],
   "source": [
    "num = 4\n",
    "c0, c1, c2, c3, c4, c5 = match_cases[num]\n",
    "df4 = train[(train['d_l_match_yn']==c0)&(train['d_m_match_yn']==c1)&(train['d_s_match_yn']==c2)&\n",
    "    (train['h_l_match_yn']==c3)&(train['h_m_match_yn']==c4)&(train['h_s_match_yn']==c5)]\n",
    "match_cases[num], df4.shape"
   ]
  },
  {
   "cell_type": "code",
   "execution_count": 208,
   "metadata": {},
   "outputs": [
    {
     "data": {
      "text/plain": [
       "((0, 0, 0, 1, 0, 1), (0, 35))"
      ]
     },
     "execution_count": 208,
     "metadata": {},
     "output_type": "execute_result"
    }
   ],
   "source": [
    "num = 5\n",
    "c0, c1, c2, c3, c4, c5 = match_cases[num]\n",
    "df5 = train[(train['d_l_match_yn']==c0)&(train['d_m_match_yn']==c1)&(train['d_s_match_yn']==c2)&\n",
    "    (train['h_l_match_yn']==c3)&(train['h_m_match_yn']==c4)&(train['h_s_match_yn']==c5)]\n",
    "match_cases[num], df5.shape"
   ]
  },
  {
   "cell_type": "code",
   "execution_count": 209,
   "metadata": {},
   "outputs": [
    {
     "name": "stdout",
     "output_type": "stream",
     "text": [
      "0 (0, 0, 0, 0, 0, 0) (36913, 35)\n",
      "1 (0, 0, 0, 0, 0, 1) (0, 35)\n",
      "2 (0, 0, 0, 0, 1, 0) (0, 35)\n",
      "3 (0, 0, 0, 0, 1, 1) (0, 35)\n",
      "4 (0, 0, 0, 1, 0, 0) (78861, 35)\n",
      "5 (0, 0, 0, 1, 0, 1) (0, 35)\n",
      "6 (0, 0, 0, 1, 1, 0) (17818, 35)\n",
      "7 (0, 0, 0, 1, 1, 1) (53091, 35)\n",
      "8 (0, 0, 1, 0, 0, 0) (0, 35)\n",
      "9 (0, 0, 1, 0, 0, 1) (0, 35)\n",
      "10 (0, 0, 1, 0, 1, 0) (0, 35)\n",
      "11 (0, 0, 1, 0, 1, 1) (0, 35)\n",
      "12 (0, 0, 1, 1, 0, 0) (0, 35)\n",
      "13 (0, 0, 1, 1, 0, 1) (0, 35)\n",
      "14 (0, 0, 1, 1, 1, 0) (0, 35)\n",
      "15 (0, 0, 1, 1, 1, 1) (0, 35)\n",
      "16 (0, 1, 0, 0, 0, 0) (0, 35)\n",
      "17 (0, 1, 0, 0, 0, 1) (0, 35)\n",
      "18 (0, 1, 0, 0, 1, 0) (0, 35)\n",
      "19 (0, 1, 0, 0, 1, 1) (0, 35)\n",
      "20 (0, 1, 0, 1, 0, 0) (0, 35)\n",
      "21 (0, 1, 0, 1, 0, 1) (0, 35)\n",
      "22 (0, 1, 0, 1, 1, 0) (0, 35)\n",
      "23 (0, 1, 0, 1, 1, 1) (0, 35)\n",
      "24 (0, 1, 1, 0, 0, 0) (0, 35)\n",
      "25 (0, 1, 1, 0, 0, 1) (0, 35)\n",
      "26 (0, 1, 1, 0, 1, 0) (0, 35)\n",
      "27 (0, 1, 1, 0, 1, 1) (0, 35)\n",
      "28 (0, 1, 1, 1, 0, 0) (0, 35)\n",
      "29 (0, 1, 1, 1, 0, 1) (0, 35)\n",
      "30 (0, 1, 1, 1, 1, 0) (0, 35)\n",
      "31 (0, 1, 1, 1, 1, 1) (0, 35)\n",
      "32 (1, 0, 0, 0, 0, 0) (32635, 35)\n",
      "33 (1, 0, 0, 0, 0, 1) (0, 35)\n",
      "34 (1, 0, 0, 0, 1, 0) (0, 35)\n",
      "35 (1, 0, 0, 0, 1, 1) (0, 35)\n",
      "36 (1, 0, 0, 1, 0, 0) (78338, 35)\n",
      "37 (1, 0, 0, 1, 0, 1) (0, 35)\n",
      "38 (1, 0, 0, 1, 1, 0) (17818, 35)\n",
      "39 (1, 0, 0, 1, 1, 1) (52850, 35)\n",
      "40 (1, 0, 1, 0, 0, 0) (0, 35)\n",
      "41 (1, 0, 1, 0, 0, 1) (0, 35)\n",
      "42 (1, 0, 1, 0, 1, 0) (0, 35)\n",
      "43 (1, 0, 1, 0, 1, 1) (0, 35)\n",
      "44 (1, 0, 1, 1, 0, 0) (0, 35)\n",
      "45 (1, 0, 1, 1, 0, 1) (0, 35)\n",
      "46 (1, 0, 1, 1, 1, 0) (0, 35)\n",
      "47 (1, 0, 1, 1, 1, 1) (0, 35)\n",
      "48 (1, 1, 0, 0, 0, 0) (12804, 35)\n",
      "49 (1, 1, 0, 0, 0, 1) (0, 35)\n",
      "50 (1, 1, 0, 0, 1, 0) (0, 35)\n",
      "51 (1, 1, 0, 0, 1, 1) (0, 35)\n",
      "52 (1, 1, 0, 1, 0, 0) (25894, 35)\n",
      "53 (1, 1, 0, 1, 0, 1) (0, 35)\n",
      "54 (1, 1, 0, 1, 1, 0) (5162, 35)\n",
      "55 (1, 1, 0, 1, 1, 1) (14510, 35)\n",
      "56 (1, 1, 1, 0, 0, 0) (20261, 35)\n",
      "57 (1, 1, 1, 0, 0, 1) (0, 35)\n",
      "58 (1, 1, 1, 0, 1, 0) (0, 35)\n",
      "59 (1, 1, 1, 0, 1, 1) (0, 35)\n",
      "60 (1, 1, 1, 1, 0, 0) (33112, 35)\n",
      "61 (1, 1, 1, 1, 0, 1) (0, 35)\n",
      "62 (1, 1, 1, 1, 1, 0) (5706, 35)\n",
      "63 (1, 1, 1, 1, 1, 1) (16178, 35)\n"
     ]
    }
   ],
   "source": [
    "for num in range(64):\n",
    "    c0, c1, c2, c3, c4, c5 = match_cases[num]\n",
    "    tmp_df = train[(train['d_l_match_yn']==c0)&(train['d_m_match_yn']==c1)&(train['d_s_match_yn']==c2)&\n",
    "        (train['h_l_match_yn']==c3)&(train['h_m_match_yn']==c4)&(train['h_s_match_yn']==c5)]\n",
    "    print(num, match_cases[num], tmp_df.shape)"
   ]
  },
  {
   "cell_type": "code",
   "execution_count": 210,
   "metadata": {},
   "outputs": [
    {
     "name": "stdout",
     "output_type": "stream",
     "text": [
      "0 (0, 0, 0, 0, 0, 0) (3343, 34)\n",
      "1 (0, 0, 0, 0, 0, 1) (0, 34)\n",
      "2 (0, 0, 0, 0, 1, 0) (0, 34)\n",
      "3 (0, 0, 0, 0, 1, 1) (0, 34)\n",
      "4 (0, 0, 0, 1, 0, 0) (7196, 34)\n",
      "5 (0, 0, 0, 1, 0, 1) (0, 34)\n",
      "6 (0, 0, 0, 1, 1, 0) (1843, 34)\n",
      "7 (0, 0, 0, 1, 1, 1) (5224, 34)\n",
      "8 (0, 0, 1, 0, 0, 0) (0, 34)\n",
      "9 (0, 0, 1, 0, 0, 1) (0, 34)\n",
      "10 (0, 0, 1, 0, 1, 0) (0, 34)\n",
      "11 (0, 0, 1, 0, 1, 1) (0, 34)\n",
      "12 (0, 0, 1, 1, 0, 0) (0, 34)\n",
      "13 (0, 0, 1, 1, 0, 1) (0, 34)\n",
      "14 (0, 0, 1, 1, 1, 0) (0, 34)\n",
      "15 (0, 0, 1, 1, 1, 1) (0, 34)\n",
      "16 (0, 1, 0, 0, 0, 0) (0, 34)\n",
      "17 (0, 1, 0, 0, 0, 1) (0, 34)\n",
      "18 (0, 1, 0, 0, 1, 0) (0, 34)\n",
      "19 (0, 1, 0, 0, 1, 1) (0, 34)\n",
      "20 (0, 1, 0, 1, 0, 0) (0, 34)\n",
      "21 (0, 1, 0, 1, 0, 1) (0, 34)\n",
      "22 (0, 1, 0, 1, 1, 0) (0, 34)\n",
      "23 (0, 1, 0, 1, 1, 1) (0, 34)\n",
      "24 (0, 1, 1, 0, 0, 0) (0, 34)\n",
      "25 (0, 1, 1, 0, 0, 1) (0, 34)\n",
      "26 (0, 1, 1, 0, 1, 0) (0, 34)\n",
      "27 (0, 1, 1, 0, 1, 1) (0, 34)\n",
      "28 (0, 1, 1, 1, 0, 0) (0, 34)\n",
      "29 (0, 1, 1, 1, 0, 1) (0, 34)\n",
      "30 (0, 1, 1, 1, 1, 0) (0, 34)\n",
      "31 (0, 1, 1, 1, 1, 1) (0, 34)\n",
      "32 (1, 0, 0, 0, 0, 0) (2821, 34)\n",
      "33 (1, 0, 0, 0, 0, 1) (0, 34)\n",
      "34 (1, 0, 0, 0, 1, 0) (0, 34)\n",
      "35 (1, 0, 0, 0, 1, 1) (0, 34)\n",
      "36 (1, 0, 0, 1, 0, 0) (7051, 34)\n",
      "37 (1, 0, 0, 1, 0, 1) (0, 34)\n",
      "38 (1, 0, 0, 1, 1, 0) (1600, 34)\n",
      "39 (1, 0, 0, 1, 1, 1) (4826, 34)\n",
      "40 (1, 0, 1, 0, 0, 0) (0, 34)\n",
      "41 (1, 0, 1, 0, 0, 1) (0, 34)\n",
      "42 (1, 0, 1, 0, 1, 0) (0, 34)\n",
      "43 (1, 0, 1, 0, 1, 1) (0, 34)\n",
      "44 (1, 0, 1, 1, 0, 0) (0, 34)\n",
      "45 (1, 0, 1, 1, 0, 1) (0, 34)\n",
      "46 (1, 0, 1, 1, 1, 0) (0, 34)\n",
      "47 (1, 0, 1, 1, 1, 1) (0, 34)\n",
      "48 (1, 1, 0, 0, 0, 0) (1137, 34)\n",
      "49 (1, 1, 0, 0, 0, 1) (0, 34)\n",
      "50 (1, 1, 0, 0, 1, 0) (0, 34)\n",
      "51 (1, 1, 0, 0, 1, 1) (0, 34)\n",
      "52 (1, 1, 0, 1, 0, 0) (2474, 34)\n",
      "53 (1, 1, 0, 1, 0, 1) (0, 34)\n",
      "54 (1, 1, 0, 1, 1, 0) (455, 34)\n",
      "55 (1, 1, 0, 1, 1, 1) (1358, 34)\n",
      "56 (1, 1, 1, 0, 0, 0) (1788, 34)\n",
      "57 (1, 1, 1, 0, 0, 1) (0, 34)\n",
      "58 (1, 1, 1, 0, 1, 0) (0, 34)\n",
      "59 (1, 1, 1, 0, 1, 1) (0, 34)\n",
      "60 (1, 1, 1, 1, 0, 0) (3147, 34)\n",
      "61 (1, 1, 1, 1, 0, 1) (0, 34)\n",
      "62 (1, 1, 1, 1, 1, 0) (575, 34)\n",
      "63 (1, 1, 1, 1, 1, 1) (1566, 34)\n"
     ]
    }
   ],
   "source": [
    "for num in range(64):\n",
    "    c0, c1, c2, c3, c4, c5 = match_cases[num]\n",
    "    tmp_df = test[(test['d_l_match_yn']==c0)&(test['d_m_match_yn']==c1)&(test['d_s_match_yn']==c2)&\n",
    "        (test['h_l_match_yn']==c3)&(test['h_m_match_yn']==c4)&(test['h_s_match_yn']==c5)]\n",
    "    print(num, match_cases[num], tmp_df.shape)"
   ]
  },
  {
   "cell_type": "markdown",
   "metadata": {},
   "source": [
    "# 유효한 경우의 수"
   ]
  },
  {
   "cell_type": "markdown",
   "metadata": {},
   "source": [
    "## train"
   ]
  },
  {
   "cell_type": "code",
   "execution_count": 211,
   "metadata": {},
   "outputs": [],
   "source": [
    "# 0 (0, 0, 0, 0, 0, 0) (36913, 35)\n",
    "# 4 (0, 0, 0, 1, 0, 0) (78861, 35)\n",
    "# 6 (0, 0, 0, 1, 1, 0) (17818, 35)\n",
    "# 7 (0, 0, 0, 1, 1, 1) (53091, 35)\n",
    "# 32 (1, 0, 0, 0, 0, 0) (32635, 35)\n",
    "# 36 (1, 0, 0, 1, 0, 0) (78338, 35)\n",
    "# 38 (1, 0, 0, 1, 1, 0) (17818, 35)\n",
    "# 39 (1, 0, 0, 1, 1, 1) (52850, 35)\n",
    "# 48 (1, 1, 0, 0, 0, 0) (12804, 35)\n",
    "# 52 (1, 1, 0, 1, 0, 0) (25894, 35)\n",
    "# 54 (1, 1, 0, 1, 1, 0) (5162, 35)\n",
    "# 55 (1, 1, 0, 1, 1, 1) (14510, 35)\n",
    "# 56 (1, 1, 1, 0, 0, 0) (20261, 35)\n",
    "# 60 (1, 1, 1, 1, 0, 0) (33112, 35)\n",
    "# 62 (1, 1, 1, 1, 1, 0) (5706, 35)\n",
    "# 63 (1, 1, 1, 1, 1, 1) (16178, 35)"
   ]
  },
  {
   "cell_type": "markdown",
   "metadata": {},
   "source": [
    "## test"
   ]
  },
  {
   "cell_type": "code",
   "execution_count": 212,
   "metadata": {},
   "outputs": [],
   "source": [
    "# 0 (0, 0, 0, 0, 0, 0) (3343, 34)\n",
    "# 4 (0, 0, 0, 1, 0, 0) (7196, 34)\n",
    "# 6 (0, 0, 0, 1, 1, 0) (1843, 34)\n",
    "# 7 (0, 0, 0, 1, 1, 1) (5224, 34)\n",
    "# 32 (1, 0, 0, 0, 0, 0) (2821, 34)\n",
    "# 36 (1, 0, 0, 1, 0, 0) (7051, 34)\n",
    "# 38 (1, 0, 0, 1, 1, 0) (1600, 34)\n",
    "# 39 (1, 0, 0, 1, 1, 1) (4826, 34)\n",
    "# 48 (1, 1, 0, 0, 0, 0) (1137, 34)\n",
    "# 52 (1, 1, 0, 1, 0, 0) (2474, 34)\n",
    "# 54 (1, 1, 0, 1, 1, 0) (455, 34)\n",
    "# 55 (1, 1, 0, 1, 1, 1) (1358, 34)\n",
    "# 56 (1, 1, 1, 0, 0, 0) (1788, 34)\n",
    "# 60 (1, 1, 1, 1, 0, 0) (3147, 34)\n",
    "# 62 (1, 1, 1, 1, 1, 0) (575, 34)\n",
    "# 63 (1, 1, 1, 1, 1, 1) (1566, 34)"
   ]
  },
  {
   "cell_type": "markdown",
   "metadata": {},
   "source": [
    "# 시각화 위해 경우의 수 별로 데이터 셋 생성"
   ]
  },
  {
   "cell_type": "code",
   "execution_count": 213,
   "metadata": {},
   "outputs": [
    {
     "data": {
      "text/plain": [
       "((0, 0, 0, 0, 0, 0), (36913, 35))"
      ]
     },
     "execution_count": 213,
     "metadata": {},
     "output_type": "execute_result"
    }
   ],
   "source": [
    "num = 0\n",
    "c0, c1, c2, c3, c4, c5 = match_cases[num]\n",
    "train_df1 = train[(train['d_l_match_yn']==c0)&(train['d_m_match_yn']==c1)&(train['d_s_match_yn']==c2)&\n",
    "    (train['h_l_match_yn']==c3)&(train['h_m_match_yn']==c4)&(train['h_s_match_yn']==c5)]\n",
    "match_cases[num], train_df1.shape"
   ]
  },
  {
   "cell_type": "code",
   "execution_count": 214,
   "metadata": {},
   "outputs": [
    {
     "data": {
      "text/plain": [
       "((0, 0, 0, 1, 0, 0), (78861, 35))"
      ]
     },
     "execution_count": 214,
     "metadata": {},
     "output_type": "execute_result"
    }
   ],
   "source": [
    "num = 4\n",
    "c0, c1, c2, c3, c4, c5 = match_cases[num]\n",
    "train_df2 = train[(train['d_l_match_yn']==c0)&(train['d_m_match_yn']==c1)&(train['d_s_match_yn']==c2)&\n",
    "    (train['h_l_match_yn']==c3)&(train['h_m_match_yn']==c4)&(train['h_s_match_yn']==c5)]\n",
    "match_cases[num], train_df2.shape"
   ]
  },
  {
   "cell_type": "code",
   "execution_count": 215,
   "metadata": {},
   "outputs": [
    {
     "data": {
      "text/plain": [
       "((0, 0, 0, 1, 1, 0), (17818, 35))"
      ]
     },
     "execution_count": 215,
     "metadata": {},
     "output_type": "execute_result"
    }
   ],
   "source": [
    "num = 6\n",
    "c0, c1, c2, c3, c4, c5 = match_cases[num]\n",
    "train_df3 = train[(train['d_l_match_yn']==c0)&(train['d_m_match_yn']==c1)&(train['d_s_match_yn']==c2)&\n",
    "    (train['h_l_match_yn']==c3)&(train['h_m_match_yn']==c4)&(train['h_s_match_yn']==c5)]\n",
    "match_cases[num], train_df3.shape"
   ]
  },
  {
   "cell_type": "code",
   "execution_count": 216,
   "metadata": {},
   "outputs": [
    {
     "data": {
      "text/plain": [
       "((0, 0, 0, 1, 1, 1), (53091, 35))"
      ]
     },
     "execution_count": 216,
     "metadata": {},
     "output_type": "execute_result"
    }
   ],
   "source": [
    "num = 7\n",
    "c0, c1, c2, c3, c4, c5 = match_cases[num]\n",
    "train_df4 = train[(train['d_l_match_yn']==c0)&(train['d_m_match_yn']==c1)&(train['d_s_match_yn']==c2)&\n",
    "    (train['h_l_match_yn']==c3)&(train['h_m_match_yn']==c4)&(train['h_s_match_yn']==c5)]\n",
    "match_cases[num], train_df4.shape"
   ]
  },
  {
   "cell_type": "code",
   "execution_count": 217,
   "metadata": {},
   "outputs": [
    {
     "data": {
      "text/plain": [
       "((1, 0, 0, 0, 0, 0), (32635, 35))"
      ]
     },
     "execution_count": 217,
     "metadata": {},
     "output_type": "execute_result"
    }
   ],
   "source": [
    "num = 32\n",
    "c0, c1, c2, c3, c4, c5 = match_cases[num]\n",
    "train_df5 = train[(train['d_l_match_yn']==c0)&(train['d_m_match_yn']==c1)&(train['d_s_match_yn']==c2)&\n",
    "    (train['h_l_match_yn']==c3)&(train['h_m_match_yn']==c4)&(train['h_s_match_yn']==c5)]\n",
    "match_cases[num], train_df5.shape"
   ]
  },
  {
   "cell_type": "code",
   "execution_count": 218,
   "metadata": {},
   "outputs": [
    {
     "data": {
      "text/plain": [
       "((1, 0, 0, 1, 0, 0), (78338, 35))"
      ]
     },
     "execution_count": 218,
     "metadata": {},
     "output_type": "execute_result"
    }
   ],
   "source": [
    "num = 36\n",
    "c0, c1, c2, c3, c4, c5 = match_cases[num]\n",
    "train_df6 = train[(train['d_l_match_yn']==c0)&(train['d_m_match_yn']==c1)&(train['d_s_match_yn']==c2)&\n",
    "    (train['h_l_match_yn']==c3)&(train['h_m_match_yn']==c4)&(train['h_s_match_yn']==c5)]\n",
    "match_cases[num], train_df6.shape"
   ]
  },
  {
   "cell_type": "code",
   "execution_count": 219,
   "metadata": {},
   "outputs": [
    {
     "data": {
      "text/plain": [
       "((1, 0, 0, 1, 1, 0), (17818, 35))"
      ]
     },
     "execution_count": 219,
     "metadata": {},
     "output_type": "execute_result"
    }
   ],
   "source": [
    "num = 38\n",
    "c0, c1, c2, c3, c4, c5 = match_cases[num]\n",
    "train_df7 = train[(train['d_l_match_yn']==c0)&(train['d_m_match_yn']==c1)&(train['d_s_match_yn']==c2)&\n",
    "    (train['h_l_match_yn']==c3)&(train['h_m_match_yn']==c4)&(train['h_s_match_yn']==c5)]\n",
    "match_cases[num], train_df7.shape"
   ]
  },
  {
   "cell_type": "code",
   "execution_count": 220,
   "metadata": {},
   "outputs": [
    {
     "data": {
      "text/plain": [
       "((1, 0, 0, 1, 1, 1), (52850, 35))"
      ]
     },
     "execution_count": 220,
     "metadata": {},
     "output_type": "execute_result"
    }
   ],
   "source": [
    "num = 39\n",
    "c0, c1, c2, c3, c4, c5 = match_cases[num]\n",
    "train_df8 = train[(train['d_l_match_yn']==c0)&(train['d_m_match_yn']==c1)&(train['d_s_match_yn']==c2)&\n",
    "    (train['h_l_match_yn']==c3)&(train['h_m_match_yn']==c4)&(train['h_s_match_yn']==c5)]\n",
    "match_cases[num], train_df8.shape"
   ]
  },
  {
   "cell_type": "code",
   "execution_count": 221,
   "metadata": {},
   "outputs": [
    {
     "data": {
      "text/plain": [
       "((1, 1, 0, 0, 0, 0), (12804, 35))"
      ]
     },
     "execution_count": 221,
     "metadata": {},
     "output_type": "execute_result"
    }
   ],
   "source": [
    "num = 48\n",
    "c0, c1, c2, c3, c4, c5 = match_cases[num]\n",
    "train_df9 = train[(train['d_l_match_yn']==c0)&(train['d_m_match_yn']==c1)&(train['d_s_match_yn']==c2)&\n",
    "    (train['h_l_match_yn']==c3)&(train['h_m_match_yn']==c4)&(train['h_s_match_yn']==c5)]\n",
    "match_cases[num], train_df9.shape"
   ]
  },
  {
   "cell_type": "code",
   "execution_count": 222,
   "metadata": {},
   "outputs": [
    {
     "data": {
      "text/plain": [
       "((1, 1, 0, 1, 0, 0), (25894, 35))"
      ]
     },
     "execution_count": 222,
     "metadata": {},
     "output_type": "execute_result"
    }
   ],
   "source": [
    "num = 52\n",
    "c0, c1, c2, c3, c4, c5 = match_cases[num]\n",
    "train_df10 = train[(train['d_l_match_yn']==c0)&(train['d_m_match_yn']==c1)&(train['d_s_match_yn']==c2)&\n",
    "    (train['h_l_match_yn']==c3)&(train['h_m_match_yn']==c4)&(train['h_s_match_yn']==c5)]\n",
    "match_cases[num], train_df10.shape"
   ]
  },
  {
   "cell_type": "code",
   "execution_count": 223,
   "metadata": {},
   "outputs": [
    {
     "data": {
      "text/plain": [
       "((1, 1, 0, 1, 1, 0), (5162, 35))"
      ]
     },
     "execution_count": 223,
     "metadata": {},
     "output_type": "execute_result"
    }
   ],
   "source": [
    "num = 54\n",
    "c0, c1, c2, c3, c4, c5 = match_cases[num]\n",
    "train_df11 = train[(train['d_l_match_yn']==c0)&(train['d_m_match_yn']==c1)&(train['d_s_match_yn']==c2)&\n",
    "    (train['h_l_match_yn']==c3)&(train['h_m_match_yn']==c4)&(train['h_s_match_yn']==c5)]\n",
    "match_cases[num], train_df11.shape"
   ]
  },
  {
   "cell_type": "code",
   "execution_count": 224,
   "metadata": {},
   "outputs": [
    {
     "data": {
      "text/plain": [
       "((1, 1, 0, 1, 1, 1), (14510, 35))"
      ]
     },
     "execution_count": 224,
     "metadata": {},
     "output_type": "execute_result"
    }
   ],
   "source": [
    "num = 55\n",
    "c0, c1, c2, c3, c4, c5 = match_cases[num]\n",
    "train_df12 = train[(train['d_l_match_yn']==c0)&(train['d_m_match_yn']==c1)&(train['d_s_match_yn']==c2)&\n",
    "    (train['h_l_match_yn']==c3)&(train['h_m_match_yn']==c4)&(train['h_s_match_yn']==c5)]\n",
    "match_cases[num], train_df12.shape"
   ]
  },
  {
   "cell_type": "code",
   "execution_count": 225,
   "metadata": {},
   "outputs": [
    {
     "data": {
      "text/plain": [
       "((1, 1, 1, 0, 0, 0), (20261, 35))"
      ]
     },
     "execution_count": 225,
     "metadata": {},
     "output_type": "execute_result"
    }
   ],
   "source": [
    "num = 56\n",
    "c0, c1, c2, c3, c4, c5 = match_cases[num]\n",
    "train_df13 = train[(train['d_l_match_yn']==c0)&(train['d_m_match_yn']==c1)&(train['d_s_match_yn']==c2)&\n",
    "    (train['h_l_match_yn']==c3)&(train['h_m_match_yn']==c4)&(train['h_s_match_yn']==c5)]\n",
    "match_cases[num], train_df13.shape"
   ]
  },
  {
   "cell_type": "code",
   "execution_count": 226,
   "metadata": {},
   "outputs": [
    {
     "data": {
      "text/plain": [
       "((1, 1, 1, 1, 0, 0), (33112, 35))"
      ]
     },
     "execution_count": 226,
     "metadata": {},
     "output_type": "execute_result"
    }
   ],
   "source": [
    "num = 60\n",
    "c0, c1, c2, c3, c4, c5 = match_cases[num]\n",
    "train_df14 = train[(train['d_l_match_yn']==c0)&(train['d_m_match_yn']==c1)&(train['d_s_match_yn']==c2)&\n",
    "    (train['h_l_match_yn']==c3)&(train['h_m_match_yn']==c4)&(train['h_s_match_yn']==c5)]\n",
    "match_cases[num], train_df14.shape"
   ]
  },
  {
   "cell_type": "code",
   "execution_count": 227,
   "metadata": {},
   "outputs": [
    {
     "data": {
      "text/plain": [
       "((1, 1, 1, 1, 1, 0), (5706, 35))"
      ]
     },
     "execution_count": 227,
     "metadata": {},
     "output_type": "execute_result"
    }
   ],
   "source": [
    "num = 62\n",
    "c0, c1, c2, c3, c4, c5 = match_cases[num]\n",
    "train_df15 = train[(train['d_l_match_yn']==c0)&(train['d_m_match_yn']==c1)&(train['d_s_match_yn']==c2)&\n",
    "    (train['h_l_match_yn']==c3)&(train['h_m_match_yn']==c4)&(train['h_s_match_yn']==c5)]\n",
    "match_cases[num], train_df15.shape"
   ]
  },
  {
   "cell_type": "code",
   "execution_count": 228,
   "metadata": {},
   "outputs": [
    {
     "data": {
      "text/plain": [
       "((1, 1, 1, 1, 1, 1), (16178, 35))"
      ]
     },
     "execution_count": 228,
     "metadata": {},
     "output_type": "execute_result"
    }
   ],
   "source": [
    "num = 63\n",
    "c0, c1, c2, c3, c4, c5 = match_cases[num]\n",
    "train_df16 = train[(train['d_l_match_yn']==c0)&(train['d_m_match_yn']==c1)&(train['d_s_match_yn']==c2)&\n",
    "    (train['h_l_match_yn']==c3)&(train['h_m_match_yn']==c4)&(train['h_s_match_yn']==c5)]\n",
    "match_cases[num], train_df16.shape"
   ]
  },
  {
   "cell_type": "code",
   "execution_count": 229,
   "metadata": {},
   "outputs": [
    {
     "data": {
      "text/html": [
       "<div>\n",
       "<style scoped>\n",
       "    .dataframe tbody tr th:only-of-type {\n",
       "        vertical-align: middle;\n",
       "    }\n",
       "\n",
       "    .dataframe tbody tr th {\n",
       "        vertical-align: top;\n",
       "    }\n",
       "\n",
       "    .dataframe thead th {\n",
       "        text-align: right;\n",
       "    }\n",
       "</style>\n",
       "<table border=\"1\" class=\"dataframe\">\n",
       "  <thead>\n",
       "    <tr style=\"text-align: right;\">\n",
       "      <th></th>\n",
       "      <th>target</th>\n",
       "    </tr>\n",
       "  </thead>\n",
       "  <tbody>\n",
       "    <tr>\n",
       "      <th>0</th>\n",
       "      <td>0.582342</td>\n",
       "    </tr>\n",
       "    <tr>\n",
       "      <th>1</th>\n",
       "      <td>0.417658</td>\n",
       "    </tr>\n",
       "  </tbody>\n",
       "</table>\n",
       "</div>"
      ],
      "text/plain": [
       "     target\n",
       "0  0.582342\n",
       "1  0.417658"
      ]
     },
     "execution_count": 229,
     "metadata": {},
     "output_type": "execute_result"
    }
   ],
   "source": [
    "tmp = train_df1['target'].value_counts(normalize=True)\n",
    "tmp_df = pd.DataFrame(tmp)\n",
    "tmp_df"
   ]
  },
  {
   "cell_type": "code",
   "execution_count": 230,
   "metadata": {},
   "outputs": [
    {
     "data": {
      "text/plain": [
       "<BarContainer object of 2 artists>"
      ]
     },
     "execution_count": 230,
     "metadata": {},
     "output_type": "execute_result"
    },
    {
     "data": {
      "image/png": "[encoded data removed]",
      "text/plain": [
       "<Figure size 576x432 with 1 Axes>"
      ]
     },
     "metadata": {
      "needs_background": "light"
     },
     "output_type": "display_data"
    }
   ],
   "source": [
    "plt.figure(figsize=(8,6))\n",
    "plt.title('train_df1의 target비율', fontdict={'size':20})\n",
    "plt.xticks(tmp_df.index, fontsize=15)\n",
    "plt.yticks(fontsize=15)\n",
    "plt.bar(x=tmp_df.index, height=tmp_df['target'], width=0.3)"
   ]
  },
  {
   "cell_type": "code",
   "execution_count": 231,
   "metadata": {},
   "outputs": [
    {
     "data": {
      "text/html": [
       "<div>\n",
       "<style scoped>\n",
       "    .dataframe tbody tr th:only-of-type {\n",
       "        vertical-align: middle;\n",
       "    }\n",
       "\n",
       "    .dataframe tbody tr th {\n",
       "        vertical-align: top;\n",
       "    }\n",
       "\n",
       "    .dataframe thead th {\n",
       "        text-align: right;\n",
       "    }\n",
       "</style>\n",
       "<table border=\"1\" class=\"dataframe\">\n",
       "  <thead>\n",
       "    <tr style=\"text-align: right;\">\n",
       "      <th></th>\n",
       "      <th>target</th>\n",
       "    </tr>\n",
       "  </thead>\n",
       "  <tbody>\n",
       "    <tr>\n",
       "      <th>0</th>\n",
       "      <td>0.582342</td>\n",
       "    </tr>\n",
       "    <tr>\n",
       "      <th>1</th>\n",
       "      <td>0.417658</td>\n",
       "    </tr>\n",
       "  </tbody>\n",
       "</table>\n",
       "</div>"
      ],
      "text/plain": [
       "     target\n",
       "0  0.582342\n",
       "1  0.417658"
      ]
     },
     "execution_count": 231,
     "metadata": {},
     "output_type": "execute_result"
    }
   ],
   "source": [
    "tmp = train_df1['target'].value_counts(normalize=True)\n",
    "tmp_df = pd.DataFrame(tmp)\n",
    "tmp_df"
   ]
  },
  {
   "cell_type": "code",
   "execution_count": 232,
   "metadata": {},
   "outputs": [
    {
     "data": {
      "text/html": [
       "<div>\n",
       "<style scoped>\n",
       "    .dataframe tbody tr th:only-of-type {\n",
       "        vertical-align: middle;\n",
       "    }\n",
       "\n",
       "    .dataframe tbody tr th {\n",
       "        vertical-align: top;\n",
       "    }\n",
       "\n",
       "    .dataframe thead th {\n",
       "        text-align: right;\n",
       "    }\n",
       "</style>\n",
       "<table border=\"1\" class=\"dataframe\">\n",
       "  <thead>\n",
       "    <tr style=\"text-align: right;\">\n",
       "      <th></th>\n",
       "      <th>train_df1</th>\n",
       "    </tr>\n",
       "  </thead>\n",
       "  <tbody>\n",
       "    <tr>\n",
       "      <th>0</th>\n",
       "      <td>0.582342</td>\n",
       "    </tr>\n",
       "    <tr>\n",
       "      <th>1</th>\n",
       "      <td>0.417658</td>\n",
       "    </tr>\n",
       "  </tbody>\n",
       "</table>\n",
       "</div>"
      ],
      "text/plain": [
       "   train_df1\n",
       "0   0.582342\n",
       "1   0.417658"
      ]
     },
     "execution_count": 232,
     "metadata": {},
     "output_type": "execute_result"
    }
   ],
   "source": [
    "tmp_df = tmp_df.rename(columns={'target':'train_df1'})\n",
    "tmp_df"
   ]
  },
  {
   "cell_type": "code",
   "execution_count": 233,
   "metadata": {},
   "outputs": [
    {
     "data": {
      "text/html": [
       "<div>\n",
       "<style scoped>\n",
       "    .dataframe tbody tr th:only-of-type {\n",
       "        vertical-align: middle;\n",
       "    }\n",
       "\n",
       "    .dataframe tbody tr th {\n",
       "        vertical-align: top;\n",
       "    }\n",
       "\n",
       "    .dataframe thead th {\n",
       "        text-align: right;\n",
       "    }\n",
       "</style>\n",
       "<table border=\"1\" class=\"dataframe\">\n",
       "  <thead>\n",
       "    <tr style=\"text-align: right;\">\n",
       "      <th></th>\n",
       "      <th>target</th>\n",
       "    </tr>\n",
       "  </thead>\n",
       "  <tbody>\n",
       "    <tr>\n",
       "      <th>0</th>\n",
       "      <td>0.585866</td>\n",
       "    </tr>\n",
       "    <tr>\n",
       "      <th>1</th>\n",
       "      <td>0.414134</td>\n",
       "    </tr>\n",
       "  </tbody>\n",
       "</table>\n",
       "</div>"
      ],
      "text/plain": [
       "     target\n",
       "0  0.585866\n",
       "1  0.414134"
      ]
     },
     "execution_count": 233,
     "metadata": {},
     "output_type": "execute_result"
    }
   ],
   "source": [
    "tmp = train_df2['target'].value_counts(normalize=True)\n",
    "tmp_df2 = pd.DataFrame(tmp)\n",
    "tmp_df2"
   ]
  },
  {
   "cell_type": "code",
   "execution_count": 234,
   "metadata": {},
   "outputs": [
    {
     "data": {
      "text/html": [
       "<div>\n",
       "<style scoped>\n",
       "    .dataframe tbody tr th:only-of-type {\n",
       "        vertical-align: middle;\n",
       "    }\n",
       "\n",
       "    .dataframe tbody tr th {\n",
       "        vertical-align: top;\n",
       "    }\n",
       "\n",
       "    .dataframe thead th {\n",
       "        text-align: right;\n",
       "    }\n",
       "</style>\n",
       "<table border=\"1\" class=\"dataframe\">\n",
       "  <thead>\n",
       "    <tr style=\"text-align: right;\">\n",
       "      <th></th>\n",
       "      <th>train_df2</th>\n",
       "    </tr>\n",
       "  </thead>\n",
       "  <tbody>\n",
       "    <tr>\n",
       "      <th>0</th>\n",
       "      <td>0.585866</td>\n",
       "    </tr>\n",
       "    <tr>\n",
       "      <th>1</th>\n",
       "      <td>0.414134</td>\n",
       "    </tr>\n",
       "  </tbody>\n",
       "</table>\n",
       "</div>"
      ],
      "text/plain": [
       "   train_df2\n",
       "0   0.585866\n",
       "1   0.414134"
      ]
     },
     "execution_count": 234,
     "metadata": {},
     "output_type": "execute_result"
    }
   ],
   "source": [
    "tmp_df2 = tmp_df2.rename(columns={'target':'train_df2'})\n",
    "tmp_df2"
   ]
  },
  {
   "cell_type": "code",
   "execution_count": 235,
   "metadata": {},
   "outputs": [
    {
     "data": {
      "text/html": [
       "<div>\n",
       "<style scoped>\n",
       "    .dataframe tbody tr th:only-of-type {\n",
       "        vertical-align: middle;\n",
       "    }\n",
       "\n",
       "    .dataframe tbody tr th {\n",
       "        vertical-align: top;\n",
       "    }\n",
       "\n",
       "    .dataframe thead th {\n",
       "        text-align: right;\n",
       "    }\n",
       "</style>\n",
       "<table border=\"1\" class=\"dataframe\">\n",
       "  <thead>\n",
       "    <tr style=\"text-align: right;\">\n",
       "      <th></th>\n",
       "      <th>train_df3</th>\n",
       "    </tr>\n",
       "  </thead>\n",
       "  <tbody>\n",
       "    <tr>\n",
       "      <th>0</th>\n",
       "      <td>0.610338</td>\n",
       "    </tr>\n",
       "    <tr>\n",
       "      <th>1</th>\n",
       "      <td>0.389662</td>\n",
       "    </tr>\n",
       "  </tbody>\n",
       "</table>\n",
       "</div>"
      ],
      "text/plain": [
       "   train_df3\n",
       "0   0.610338\n",
       "1   0.389662"
      ]
     },
     "execution_count": 235,
     "metadata": {},
     "output_type": "execute_result"
    }
   ],
   "source": [
    "tmp = train_df3['target'].value_counts(normalize=True)\n",
    "tmp_df3 = pd.DataFrame(tmp)\n",
    "tmp_df3 = tmp_df3.rename(columns={'target':'train_df3'})\n",
    "tmp_df3"
   ]
  },
  {
   "cell_type": "code",
   "execution_count": 236,
   "metadata": {},
   "outputs": [
    {
     "data": {
      "text/html": [
       "<div>\n",
       "<style scoped>\n",
       "    .dataframe tbody tr th:only-of-type {\n",
       "        vertical-align: middle;\n",
       "    }\n",
       "\n",
       "    .dataframe tbody tr th {\n",
       "        vertical-align: top;\n",
       "    }\n",
       "\n",
       "    .dataframe thead th {\n",
       "        text-align: right;\n",
       "    }\n",
       "</style>\n",
       "<table border=\"1\" class=\"dataframe\">\n",
       "  <thead>\n",
       "    <tr style=\"text-align: right;\">\n",
       "      <th></th>\n",
       "      <th>train_df4</th>\n",
       "    </tr>\n",
       "  </thead>\n",
       "  <tbody>\n",
       "    <tr>\n",
       "      <th>0</th>\n",
       "      <td>0.605055</td>\n",
       "    </tr>\n",
       "    <tr>\n",
       "      <th>1</th>\n",
       "      <td>0.394945</td>\n",
       "    </tr>\n",
       "  </tbody>\n",
       "</table>\n",
       "</div>"
      ],
      "text/plain": [
       "   train_df4\n",
       "0   0.605055\n",
       "1   0.394945"
      ]
     },
     "execution_count": 236,
     "metadata": {},
     "output_type": "execute_result"
    }
   ],
   "source": [
    "tmp = train_df4['target'].value_counts(normalize=True)\n",
    "tmp_df4 = pd.DataFrame(tmp)\n",
    "tmp_df4 = tmp_df4.rename(columns={'target':'train_df4'})\n",
    "tmp_df4"
   ]
  },
  {
   "cell_type": "code",
   "execution_count": 237,
   "metadata": {},
   "outputs": [
    {
     "data": {
      "text/html": [
       "<div>\n",
       "<style scoped>\n",
       "    .dataframe tbody tr th:only-of-type {\n",
       "        vertical-align: middle;\n",
       "    }\n",
       "\n",
       "    .dataframe tbody tr th {\n",
       "        vertical-align: top;\n",
       "    }\n",
       "\n",
       "    .dataframe thead th {\n",
       "        text-align: right;\n",
       "    }\n",
       "</style>\n",
       "<table border=\"1\" class=\"dataframe\">\n",
       "  <thead>\n",
       "    <tr style=\"text-align: right;\">\n",
       "      <th></th>\n",
       "      <th>train_df5</th>\n",
       "    </tr>\n",
       "  </thead>\n",
       "  <tbody>\n",
       "    <tr>\n",
       "      <th>0</th>\n",
       "      <td>0.508779</td>\n",
       "    </tr>\n",
       "    <tr>\n",
       "      <th>1</th>\n",
       "      <td>0.491221</td>\n",
       "    </tr>\n",
       "  </tbody>\n",
       "</table>\n",
       "</div>"
      ],
      "text/plain": [
       "   train_df5\n",
       "0   0.508779\n",
       "1   0.491221"
      ]
     },
     "execution_count": 237,
     "metadata": {},
     "output_type": "execute_result"
    }
   ],
   "source": [
    "tmp = train_df5['target'].value_counts(normalize=True)\n",
    "tmp_df5 = pd.DataFrame(tmp)\n",
    "tmp_df5 = tmp_df5.rename(columns={'target':'train_df5'})\n",
    "tmp_df5"
   ]
  },
  {
   "cell_type": "code",
   "execution_count": 238,
   "metadata": {},
   "outputs": [
    {
     "data": {
      "text/html": [
       "<div>\n",
       "<style scoped>\n",
       "    .dataframe tbody tr th:only-of-type {\n",
       "        vertical-align: middle;\n",
       "    }\n",
       "\n",
       "    .dataframe tbody tr th {\n",
       "        vertical-align: top;\n",
       "    }\n",
       "\n",
       "    .dataframe thead th {\n",
       "        text-align: right;\n",
       "    }\n",
       "</style>\n",
       "<table border=\"1\" class=\"dataframe\">\n",
       "  <thead>\n",
       "    <tr style=\"text-align: right;\">\n",
       "      <th></th>\n",
       "      <th>train_df6</th>\n",
       "    </tr>\n",
       "  </thead>\n",
       "  <tbody>\n",
       "    <tr>\n",
       "      <th>1</th>\n",
       "      <td>0.522543</td>\n",
       "    </tr>\n",
       "    <tr>\n",
       "      <th>0</th>\n",
       "      <td>0.477457</td>\n",
       "    </tr>\n",
       "  </tbody>\n",
       "</table>\n",
       "</div>"
      ],
      "text/plain": [
       "   train_df6\n",
       "1   0.522543\n",
       "0   0.477457"
      ]
     },
     "execution_count": 238,
     "metadata": {},
     "output_type": "execute_result"
    }
   ],
   "source": [
    "tmp = train_df6['target'].value_counts(normalize=True)\n",
    "tmp_df6 = pd.DataFrame(tmp)\n",
    "tmp_df6 = tmp_df6.rename(columns={'target':'train_df6'})\n",
    "tmp_df6"
   ]
  },
  {
   "cell_type": "code",
   "execution_count": 239,
   "metadata": {},
   "outputs": [
    {
     "data": {
      "text/html": [
       "<div>\n",
       "<style scoped>\n",
       "    .dataframe tbody tr th:only-of-type {\n",
       "        vertical-align: middle;\n",
       "    }\n",
       "\n",
       "    .dataframe tbody tr th {\n",
       "        vertical-align: top;\n",
       "    }\n",
       "\n",
       "    .dataframe thead th {\n",
       "        text-align: right;\n",
       "    }\n",
       "</style>\n",
       "<table border=\"1\" class=\"dataframe\">\n",
       "  <thead>\n",
       "    <tr style=\"text-align: right;\">\n",
       "      <th></th>\n",
       "      <th>train_df4</th>\n",
       "      <th>train_df5</th>\n",
       "      <th>train_df6</th>\n",
       "    </tr>\n",
       "  </thead>\n",
       "  <tbody>\n",
       "    <tr>\n",
       "      <th>0</th>\n",
       "      <td>0.605055</td>\n",
       "      <td>0.508779</td>\n",
       "      <td>0.477457</td>\n",
       "    </tr>\n",
       "    <tr>\n",
       "      <th>1</th>\n",
       "      <td>0.394945</td>\n",
       "      <td>0.491221</td>\n",
       "      <td>0.522543</td>\n",
       "    </tr>\n",
       "  </tbody>\n",
       "</table>\n",
       "</div>"
      ],
      "text/plain": [
       "   train_df4  train_df5  train_df6\n",
       "0   0.605055   0.508779   0.477457\n",
       "1   0.394945   0.491221   0.522543"
      ]
     },
     "execution_count": 239,
     "metadata": {},
     "output_type": "execute_result"
    }
   ],
   "source": [
    "test = pd.DataFrame()\n",
    "test = pd.concat([tmp_df4, tmp_df5, tmp_df6], axis=1)\n",
    "test"
   ]
  },
  {
   "cell_type": "code",
   "execution_count": 240,
   "metadata": {},
   "outputs": [],
   "source": [
    "df_list= [train_df1, train_df2, train_df3, train_df4,\n",
    "        train_df5, train_df6, train_df7, train_df8,\n",
    "        train_df9, train_df10, train_df11, train_df12,\n",
    "        train_df13, train_df14, train_df15, train_df16]"
   ]
  },
  {
   "cell_type": "code",
   "execution_count": 241,
   "metadata": {},
   "outputs": [],
   "source": [
    "target_df = pd.DataFrame()\n",
    "for df in df_list:\n",
    "    tmp = df['target'].value_counts(normalize=True)\n",
    "    tmp_df = pd.DataFrame(tmp)\n",
    "    target_df = pd.concat([target_df, tmp_df], axis=1)"
   ]
  },
  {
   "cell_type": "code",
   "execution_count": 242,
   "metadata": {},
   "outputs": [
    {
     "data": {
      "text/html": [
       "<div>\n",
       "<style scoped>\n",
       "    .dataframe tbody tr th:only-of-type {\n",
       "        vertical-align: middle;\n",
       "    }\n",
       "\n",
       "    .dataframe tbody tr th {\n",
       "        vertical-align: top;\n",
       "    }\n",
       "\n",
       "    .dataframe thead th {\n",
       "        text-align: right;\n",
       "    }\n",
       "</style>\n",
       "<table border=\"1\" class=\"dataframe\">\n",
       "  <thead>\n",
       "    <tr style=\"text-align: right;\">\n",
       "      <th></th>\n",
       "      <th>target</th>\n",
       "      <th>target</th>\n",
       "      <th>target</th>\n",
       "      <th>target</th>\n",
       "      <th>target</th>\n",
       "      <th>target</th>\n",
       "      <th>target</th>\n",
       "      <th>target</th>\n",
       "      <th>target</th>\n",
       "      <th>target</th>\n",
       "      <th>target</th>\n",
       "      <th>target</th>\n",
       "      <th>target</th>\n",
       "      <th>target</th>\n",
       "      <th>target</th>\n",
       "      <th>target</th>\n",
       "    </tr>\n",
       "  </thead>\n",
       "  <tbody>\n",
       "    <tr>\n",
       "      <th>0</th>\n",
       "      <td>0.582342</td>\n",
       "      <td>0.585866</td>\n",
       "      <td>0.610338</td>\n",
       "      <td>0.605055</td>\n",
       "      <td>0.508779</td>\n",
       "      <td>0.477457</td>\n",
       "      <td>0.473622</td>\n",
       "      <td>0.458846</td>\n",
       "      <td>0.457045</td>\n",
       "      <td>0.405847</td>\n",
       "      <td>0.39229</td>\n",
       "      <td>0.380979</td>\n",
       "      <td>0.459158</td>\n",
       "      <td>0.381674</td>\n",
       "      <td>0.370662</td>\n",
       "      <td>0.35505</td>\n",
       "    </tr>\n",
       "    <tr>\n",
       "      <th>1</th>\n",
       "      <td>0.417658</td>\n",
       "      <td>0.414134</td>\n",
       "      <td>0.389662</td>\n",
       "      <td>0.394945</td>\n",
       "      <td>0.491221</td>\n",
       "      <td>0.522543</td>\n",
       "      <td>0.526378</td>\n",
       "      <td>0.541154</td>\n",
       "      <td>0.542955</td>\n",
       "      <td>0.594153</td>\n",
       "      <td>0.60771</td>\n",
       "      <td>0.619021</td>\n",
       "      <td>0.540842</td>\n",
       "      <td>0.618326</td>\n",
       "      <td>0.629338</td>\n",
       "      <td>0.64495</td>\n",
       "    </tr>\n",
       "  </tbody>\n",
       "</table>\n",
       "</div>"
      ],
      "text/plain": [
       "     target    target    target    target    target    target    target  \\\n",
       "0  0.582342  0.585866  0.610338  0.605055  0.508779  0.477457  0.473622   \n",
       "1  0.417658  0.414134  0.389662  0.394945  0.491221  0.522543  0.526378   \n",
       "\n",
       "     target    target    target   target    target    target    target  \\\n",
       "0  0.458846  0.457045  0.405847  0.39229  0.380979  0.459158  0.381674   \n",
       "1  0.541154  0.542955  0.594153  0.60771  0.619021  0.540842  0.618326   \n",
       "\n",
       "     target   target  \n",
       "0  0.370662  0.35505  \n",
       "1  0.629338  0.64495  "
      ]
     },
     "execution_count": 242,
     "metadata": {},
     "output_type": "execute_result"
    }
   ],
   "source": [
    "target_df"
   ]
  },
  {
   "cell_type": "code",
   "execution_count": 243,
   "metadata": {},
   "outputs": [
    {
     "data": {
      "text/html": [
       "<div>\n",
       "<style scoped>\n",
       "    .dataframe tbody tr th:only-of-type {\n",
       "        vertical-align: middle;\n",
       "    }\n",
       "\n",
       "    .dataframe tbody tr th {\n",
       "        vertical-align: top;\n",
       "    }\n",
       "\n",
       "    .dataframe thead th {\n",
       "        text-align: right;\n",
       "    }\n",
       "</style>\n",
       "<table border=\"1\" class=\"dataframe\">\n",
       "  <thead>\n",
       "    <tr style=\"text-align: right;\">\n",
       "      <th></th>\n",
       "      <th>train_df1</th>\n",
       "      <th>train_df2</th>\n",
       "      <th>train_df3</th>\n",
       "      <th>train_df4</th>\n",
       "      <th>train_df5</th>\n",
       "      <th>train_df6</th>\n",
       "      <th>train_df7</th>\n",
       "      <th>train_df8</th>\n",
       "      <th>train_df9</th>\n",
       "      <th>train_df10</th>\n",
       "      <th>train_df11</th>\n",
       "      <th>train_df12</th>\n",
       "      <th>train_df13</th>\n",
       "      <th>train_df14</th>\n",
       "      <th>train_df15</th>\n",
       "      <th>train_df16</th>\n",
       "    </tr>\n",
       "  </thead>\n",
       "  <tbody>\n",
       "    <tr>\n",
       "      <th>0</th>\n",
       "      <td>0.582342</td>\n",
       "      <td>0.585866</td>\n",
       "      <td>0.610338</td>\n",
       "      <td>0.605055</td>\n",
       "      <td>0.508779</td>\n",
       "      <td>0.477457</td>\n",
       "      <td>0.473622</td>\n",
       "      <td>0.458846</td>\n",
       "      <td>0.457045</td>\n",
       "      <td>0.405847</td>\n",
       "      <td>0.39229</td>\n",
       "      <td>0.380979</td>\n",
       "      <td>0.459158</td>\n",
       "      <td>0.381674</td>\n",
       "      <td>0.370662</td>\n",
       "      <td>0.35505</td>\n",
       "    </tr>\n",
       "    <tr>\n",
       "      <th>1</th>\n",
       "      <td>0.417658</td>\n",
       "      <td>0.414134</td>\n",
       "      <td>0.389662</td>\n",
       "      <td>0.394945</td>\n",
       "      <td>0.491221</td>\n",
       "      <td>0.522543</td>\n",
       "      <td>0.526378</td>\n",
       "      <td>0.541154</td>\n",
       "      <td>0.542955</td>\n",
       "      <td>0.594153</td>\n",
       "      <td>0.60771</td>\n",
       "      <td>0.619021</td>\n",
       "      <td>0.540842</td>\n",
       "      <td>0.618326</td>\n",
       "      <td>0.629338</td>\n",
       "      <td>0.64495</td>\n",
       "    </tr>\n",
       "  </tbody>\n",
       "</table>\n",
       "</div>"
      ],
      "text/plain": [
       "   train_df1  train_df2  train_df3  train_df4  train_df5  train_df6  \\\n",
       "0   0.582342   0.585866   0.610338   0.605055   0.508779   0.477457   \n",
       "1   0.417658   0.414134   0.389662   0.394945   0.491221   0.522543   \n",
       "\n",
       "   train_df7  train_df8  train_df9  train_df10  train_df11  train_df12  \\\n",
       "0   0.473622   0.458846   0.457045    0.405847     0.39229    0.380979   \n",
       "1   0.526378   0.541154   0.542955    0.594153     0.60771    0.619021   \n",
       "\n",
       "   train_df13  train_df14  train_df15  train_df16  \n",
       "0    0.459158    0.381674    0.370662     0.35505  \n",
       "1    0.540842    0.618326    0.629338     0.64495  "
      ]
     },
     "execution_count": 243,
     "metadata": {},
     "output_type": "execute_result"
    }
   ],
   "source": [
    "target_df.columns = ['train_df1', 'train_df2', 'train_df3', 'train_df4',\n",
    "        'train_df5', 'train_df6', 'train_df7', 'train_df8',\n",
    "        'train_df9', 'train_df10', 'train_df11', 'train_df12',\n",
    "        'train_df13', 'train_df14', 'train_df15', 'train_df16']\n",
    "target_df"
   ]
  },
  {
   "cell_type": "markdown",
   "metadata": {},
   "source": [
    "## 매칭 경우의 수별 시각화"
   ]
  },
  {
   "cell_type": "code",
   "execution_count": 272,
   "metadata": {},
   "outputs": [
    {
     "data": {
      "text/plain": [
       "<matplotlib.legend.Legend at 0x1aba53d06a0>"
      ]
     },
     "execution_count": 272,
     "metadata": {},
     "output_type": "execute_result"
    },
    {
     "data": {
      "image/png": "[encoded data removed]",
      "text/plain": [
       "<Figure size 1080x432 with 1 Axes>"
      ]
     },
     "metadata": {
      "needs_background": "light"
     },
     "output_type": "display_data"
    }
   ],
   "source": [
    "plt.figure(figsize=(15,6))\n",
    "plt.title('train의 경우의 수 별, target비율', fontdict={'size':20})\n",
    "plt.xticks(fontsize=15, rotation=-45)\n",
    "plt.yticks(fontsize=15)\n",
    "plt.grid(True)\n",
    "plt.plot(target_df.iloc[0,:], label='False')\n",
    "plt.plot(target_df.iloc[1,:], label='True')\n",
    "plt.legend(fontsize=13)"
   ]
  },
  {
   "cell_type": "markdown",
   "metadata": {},
   "source": [
    "# 25개 특성에서 매칭 별로 데이터셋 생성"
   ]
  },
  {
   "cell_type": "code",
   "execution_count": 247,
   "metadata": {},
   "outputs": [],
   "source": [
    "train = pd.read_csv('../data/train.csv')\n",
    "test = pd.read_csv('../data/test.csv')"
   ]
  },
  {
   "cell_type": "code",
   "execution_count": 248,
   "metadata": {},
   "outputs": [
    {
     "data": {
      "text/plain": [
       "(26, 25)"
      ]
     },
     "execution_count": 248,
     "metadata": {},
     "output_type": "execute_result"
    }
   ],
   "source": [
    "test_col = ['d_l_match_yn', 'd_m_match_yn', 'd_s_match_yn', 'h_l_match_yn',\n",
    " 'person_attribute_a', 'person_attribute_a_1', 'person_attribute_b', 'person_prefer_c',\n",
    "  'person_prefer_d_1', 'person_prefer_d_2', 'person_prefer_d_3',\n",
    "   'person_prefer_e',\n",
    "    'person_prefer_h_1', 'person_prefer_h_2', 'person_prefer_h_3', \n",
    "     'contents_attribute_i', 'contents_attribute_a',\n",
    "      'contents_attribute_j', 'contents_attribute_j_1', 'contents_attribute_c',\n",
    "       'contents_attribute_l', 'contents_attribute_d',\n",
    "        'contents_attribute_m', 'contents_attribute_e',\n",
    "         'contents_attribute_h']\n",
    "target = ['target']\n",
    "train_col = test_col + target\n",
    "len(train_col), len(test_col)"
   ]
  },
  {
   "cell_type": "code",
   "execution_count": 249,
   "metadata": {
    "id": "KYS9TrPAIoC4"
   },
   "outputs": [],
   "source": [
    "train25 = train[train_col]\n",
    "test25 = test[test_col]"
   ]
  },
  {
   "cell_type": "code",
   "execution_count": 250,
   "metadata": {
    "colab": {
     "base_uri": "https://localhost:8080/",
     "height": 270
    },
    "id": "7RkuVrfSKCQ0",
    "outputId": "7a35df0e-600d-4953-e725-ee6c4f21fb1e"
   },
   "outputs": [
    {
     "data": {
      "text/html": [
       "<div>\n",
       "<style scoped>\n",
       "    .dataframe tbody tr th:only-of-type {\n",
       "        vertical-align: middle;\n",
       "    }\n",
       "\n",
       "    .dataframe tbody tr th {\n",
       "        vertical-align: top;\n",
       "    }\n",
       "\n",
       "    .dataframe thead th {\n",
       "        text-align: right;\n",
       "    }\n",
       "</style>\n",
       "<table border=\"1\" class=\"dataframe\">\n",
       "  <thead>\n",
       "    <tr style=\"text-align: right;\">\n",
       "      <th></th>\n",
       "      <th>d_l_match_yn</th>\n",
       "      <th>d_m_match_yn</th>\n",
       "      <th>d_s_match_yn</th>\n",
       "      <th>h_l_match_yn</th>\n",
       "      <th>person_attribute_a</th>\n",
       "      <th>person_attribute_a_a</th>\n",
       "      <th>person_attribute_b</th>\n",
       "      <th>person_prefer_c</th>\n",
       "      <th>person_prefer_d_1</th>\n",
       "      <th>person_prefer_d_2</th>\n",
       "      <th>...</th>\n",
       "      <th>contents_attribute_a</th>\n",
       "      <th>contents_attribute_j</th>\n",
       "      <th>contents_attribute_j_1</th>\n",
       "      <th>contents_attribute_c</th>\n",
       "      <th>contents_attribute_l</th>\n",
       "      <th>contents_attribute_d</th>\n",
       "      <th>contents_attribute_m</th>\n",
       "      <th>contents_attribute_e</th>\n",
       "      <th>contents_attribute_h</th>\n",
       "      <th>target</th>\n",
       "    </tr>\n",
       "  </thead>\n",
       "  <tbody>\n",
       "    <tr>\n",
       "      <th>0</th>\n",
       "      <td>True</td>\n",
       "      <td>True</td>\n",
       "      <td>True</td>\n",
       "      <td>False</td>\n",
       "      <td>1</td>\n",
       "      <td>4</td>\n",
       "      <td>3</td>\n",
       "      <td>5</td>\n",
       "      <td>275</td>\n",
       "      <td>370</td>\n",
       "      <td>...</td>\n",
       "      <td>3</td>\n",
       "      <td>2</td>\n",
       "      <td>10</td>\n",
       "      <td>1</td>\n",
       "      <td>1608</td>\n",
       "      <td>275</td>\n",
       "      <td>1</td>\n",
       "      <td>4</td>\n",
       "      <td>139</td>\n",
       "      <td>1</td>\n",
       "    </tr>\n",
       "    <tr>\n",
       "      <th>1</th>\n",
       "      <td>False</td>\n",
       "      <td>False</td>\n",
       "      <td>False</td>\n",
       "      <td>True</td>\n",
       "      <td>1</td>\n",
       "      <td>3</td>\n",
       "      <td>4</td>\n",
       "      <td>1</td>\n",
       "      <td>114</td>\n",
       "      <td>181</td>\n",
       "      <td>...</td>\n",
       "      <td>3</td>\n",
       "      <td>1</td>\n",
       "      <td>5</td>\n",
       "      <td>1</td>\n",
       "      <td>1608</td>\n",
       "      <td>275</td>\n",
       "      <td>1</td>\n",
       "      <td>4</td>\n",
       "      <td>133</td>\n",
       "      <td>0</td>\n",
       "    </tr>\n",
       "    <tr>\n",
       "      <th>2</th>\n",
       "      <td>False</td>\n",
       "      <td>False</td>\n",
       "      <td>False</td>\n",
       "      <td>True</td>\n",
       "      <td>2</td>\n",
       "      <td>0</td>\n",
       "      <td>3</td>\n",
       "      <td>5</td>\n",
       "      <td>464</td>\n",
       "      <td>175</td>\n",
       "      <td>...</td>\n",
       "      <td>1</td>\n",
       "      <td>2</td>\n",
       "      <td>10</td>\n",
       "      <td>1</td>\n",
       "      <td>1600</td>\n",
       "      <td>94</td>\n",
       "      <td>1</td>\n",
       "      <td>4</td>\n",
       "      <td>53</td>\n",
       "      <td>0</td>\n",
       "    </tr>\n",
       "    <tr>\n",
       "      <th>3</th>\n",
       "      <td>False</td>\n",
       "      <td>False</td>\n",
       "      <td>False</td>\n",
       "      <td>True</td>\n",
       "      <td>2</td>\n",
       "      <td>0</td>\n",
       "      <td>2</td>\n",
       "      <td>5</td>\n",
       "      <td>703</td>\n",
       "      <td>705</td>\n",
       "      <td>...</td>\n",
       "      <td>3</td>\n",
       "      <td>1</td>\n",
       "      <td>5</td>\n",
       "      <td>1</td>\n",
       "      <td>1608</td>\n",
       "      <td>275</td>\n",
       "      <td>5</td>\n",
       "      <td>3</td>\n",
       "      <td>74</td>\n",
       "      <td>0</td>\n",
       "    </tr>\n",
       "    <tr>\n",
       "      <th>4</th>\n",
       "      <td>True</td>\n",
       "      <td>True</td>\n",
       "      <td>True</td>\n",
       "      <td>False</td>\n",
       "      <td>1</td>\n",
       "      <td>3</td>\n",
       "      <td>4</td>\n",
       "      <td>5</td>\n",
       "      <td>275</td>\n",
       "      <td>370</td>\n",
       "      <td>...</td>\n",
       "      <td>1</td>\n",
       "      <td>2</td>\n",
       "      <td>10</td>\n",
       "      <td>1</td>\n",
       "      <td>1608</td>\n",
       "      <td>275</td>\n",
       "      <td>1</td>\n",
       "      <td>4</td>\n",
       "      <td>74</td>\n",
       "      <td>0</td>\n",
       "    </tr>\n",
       "  </tbody>\n",
       "</table>\n",
       "<p>5 rows × 26 columns</p>\n",
       "</div>"
      ],
      "text/plain": [
       "   d_l_match_yn  d_m_match_yn  d_s_match_yn  h_l_match_yn  person_attribute_a  \\\n",
       "0          True          True          True         False                   1   \n",
       "1         False         False         False          True                   1   \n",
       "2         False         False         False          True                   2   \n",
       "3         False         False         False          True                   2   \n",
       "4          True          True          True         False                   1   \n",
       "\n",
       "   person_attribute_a_a  person_attribute_b  person_prefer_c  \\\n",
       "0                     4                   3                5   \n",
       "1                     3                   4                1   \n",
       "2                     0                   3                5   \n",
       "3                     0                   2                5   \n",
       "4                     3                   4                5   \n",
       "\n",
       "   person_prefer_d_1  person_prefer_d_2  ...  contents_attribute_a  \\\n",
       "0                275                370  ...                     3   \n",
       "1                114                181  ...                     3   \n",
       "2                464                175  ...                     1   \n",
       "3                703                705  ...                     3   \n",
       "4                275                370  ...                     1   \n",
       "\n",
       "   contents_attribute_j  contents_attribute_j_1  contents_attribute_c  \\\n",
       "0                     2                      10                     1   \n",
       "1                     1                       5                     1   \n",
       "2                     2                      10                     1   \n",
       "3                     1                       5                     1   \n",
       "4                     2                      10                     1   \n",
       "\n",
       "   contents_attribute_l  contents_attribute_d  contents_attribute_m  \\\n",
       "0                  1608                   275                     1   \n",
       "1                  1608                   275                     1   \n",
       "2                  1600                    94                     1   \n",
       "3                  1608                   275                     5   \n",
       "4                  1608                   275                     1   \n",
       "\n",
       "   contents_attribute_e  contents_attribute_h  target  \n",
       "0                     4                   139       1  \n",
       "1                     4                   133       0  \n",
       "2                     4                    53       0  \n",
       "3                     3                    74       0  \n",
       "4                     4                    74       0  \n",
       "\n",
       "[5 rows x 26 columns]"
      ]
     },
     "execution_count": 250,
     "metadata": {},
     "output_type": "execute_result"
    }
   ],
   "source": [
    "# 카테고리형 특성 원핫인코딩시 컬럼 명 겹치는 문제 해결위해 특성명 변경\n",
    "train25 = train25.rename(columns={'person_attribute_a_1':'person_attribute_a_a'})\n",
    "train25.head()"
   ]
  },
  {
   "cell_type": "code",
   "execution_count": 251,
   "metadata": {
    "colab": {
     "base_uri": "https://localhost:8080/",
     "height": 270
    },
    "id": "h6q0HvoqKCM5",
    "outputId": "b7d5026c-1e47-494e-8eb0-990fc7152843"
   },
   "outputs": [
    {
     "data": {
      "text/html": [
       "<div>\n",
       "<style scoped>\n",
       "    .dataframe tbody tr th:only-of-type {\n",
       "        vertical-align: middle;\n",
       "    }\n",
       "\n",
       "    .dataframe tbody tr th {\n",
       "        vertical-align: top;\n",
       "    }\n",
       "\n",
       "    .dataframe thead th {\n",
       "        text-align: right;\n",
       "    }\n",
       "</style>\n",
       "<table border=\"1\" class=\"dataframe\">\n",
       "  <thead>\n",
       "    <tr style=\"text-align: right;\">\n",
       "      <th></th>\n",
       "      <th>d_l_match_yn</th>\n",
       "      <th>d_m_match_yn</th>\n",
       "      <th>d_s_match_yn</th>\n",
       "      <th>h_l_match_yn</th>\n",
       "      <th>person_attribute_a</th>\n",
       "      <th>person_attribute_a_a</th>\n",
       "      <th>person_attribute_b</th>\n",
       "      <th>person_prefer_c</th>\n",
       "      <th>person_prefer_d_1</th>\n",
       "      <th>person_prefer_d_2</th>\n",
       "      <th>...</th>\n",
       "      <th>contents_attribute_i</th>\n",
       "      <th>contents_attribute_a</th>\n",
       "      <th>contents_attribute_j</th>\n",
       "      <th>contents_attribute_j_1</th>\n",
       "      <th>contents_attribute_c</th>\n",
       "      <th>contents_attribute_l</th>\n",
       "      <th>contents_attribute_d</th>\n",
       "      <th>contents_attribute_m</th>\n",
       "      <th>contents_attribute_e</th>\n",
       "      <th>contents_attribute_h</th>\n",
       "    </tr>\n",
       "  </thead>\n",
       "  <tbody>\n",
       "    <tr>\n",
       "      <th>0</th>\n",
       "      <td>True</td>\n",
       "      <td>False</td>\n",
       "      <td>False</td>\n",
       "      <td>True</td>\n",
       "      <td>1</td>\n",
       "      <td>1</td>\n",
       "      <td>2</td>\n",
       "      <td>1</td>\n",
       "      <td>857</td>\n",
       "      <td>851</td>\n",
       "      <td>...</td>\n",
       "      <td>1</td>\n",
       "      <td>3</td>\n",
       "      <td>2</td>\n",
       "      <td>10</td>\n",
       "      <td>1</td>\n",
       "      <td>1147</td>\n",
       "      <td>839</td>\n",
       "      <td>1</td>\n",
       "      <td>5</td>\n",
       "      <td>263</td>\n",
       "    </tr>\n",
       "    <tr>\n",
       "      <th>1</th>\n",
       "      <td>False</td>\n",
       "      <td>False</td>\n",
       "      <td>False</td>\n",
       "      <td>True</td>\n",
       "      <td>2</td>\n",
       "      <td>0</td>\n",
       "      <td>2</td>\n",
       "      <td>2</td>\n",
       "      <td>683</td>\n",
       "      <td>1086</td>\n",
       "      <td>...</td>\n",
       "      <td>1</td>\n",
       "      <td>3</td>\n",
       "      <td>1</td>\n",
       "      <td>5</td>\n",
       "      <td>1</td>\n",
       "      <td>1611</td>\n",
       "      <td>278</td>\n",
       "      <td>1</td>\n",
       "      <td>4</td>\n",
       "      <td>263</td>\n",
       "    </tr>\n",
       "    <tr>\n",
       "      <th>2</th>\n",
       "      <td>True</td>\n",
       "      <td>False</td>\n",
       "      <td>False</td>\n",
       "      <td>True</td>\n",
       "      <td>2</td>\n",
       "      <td>3</td>\n",
       "      <td>2</td>\n",
       "      <td>1</td>\n",
       "      <td>514</td>\n",
       "      <td>790</td>\n",
       "      <td>...</td>\n",
       "      <td>3</td>\n",
       "      <td>3</td>\n",
       "      <td>1</td>\n",
       "      <td>3</td>\n",
       "      <td>1</td>\n",
       "      <td>1817</td>\n",
       "      <td>490</td>\n",
       "      <td>3</td>\n",
       "      <td>4</td>\n",
       "      <td>177</td>\n",
       "    </tr>\n",
       "    <tr>\n",
       "      <th>3</th>\n",
       "      <td>True</td>\n",
       "      <td>False</td>\n",
       "      <td>False</td>\n",
       "      <td>True</td>\n",
       "      <td>1</td>\n",
       "      <td>2</td>\n",
       "      <td>2</td>\n",
       "      <td>5</td>\n",
       "      <td>114</td>\n",
       "      <td>181</td>\n",
       "      <td>...</td>\n",
       "      <td>3</td>\n",
       "      <td>3</td>\n",
       "      <td>1</td>\n",
       "      <td>5</td>\n",
       "      <td>1</td>\n",
       "      <td>101</td>\n",
       "      <td>150</td>\n",
       "      <td>5</td>\n",
       "      <td>3</td>\n",
       "      <td>177</td>\n",
       "    </tr>\n",
       "    <tr>\n",
       "      <th>4</th>\n",
       "      <td>True</td>\n",
       "      <td>False</td>\n",
       "      <td>False</td>\n",
       "      <td>True</td>\n",
       "      <td>1</td>\n",
       "      <td>6</td>\n",
       "      <td>4</td>\n",
       "      <td>5</td>\n",
       "      <td>1082</td>\n",
       "      <td>1078</td>\n",
       "      <td>...</td>\n",
       "      <td>3</td>\n",
       "      <td>1</td>\n",
       "      <td>1</td>\n",
       "      <td>5</td>\n",
       "      <td>1</td>\n",
       "      <td>985</td>\n",
       "      <td>1097</td>\n",
       "      <td>1</td>\n",
       "      <td>4</td>\n",
       "      <td>177</td>\n",
       "    </tr>\n",
       "  </tbody>\n",
       "</table>\n",
       "<p>5 rows × 25 columns</p>\n",
       "</div>"
      ],
      "text/plain": [
       "   d_l_match_yn  d_m_match_yn  d_s_match_yn  h_l_match_yn  person_attribute_a  \\\n",
       "0          True         False         False          True                   1   \n",
       "1         False         False         False          True                   2   \n",
       "2          True         False         False          True                   2   \n",
       "3          True         False         False          True                   1   \n",
       "4          True         False         False          True                   1   \n",
       "\n",
       "   person_attribute_a_a  person_attribute_b  person_prefer_c  \\\n",
       "0                     1                   2                1   \n",
       "1                     0                   2                2   \n",
       "2                     3                   2                1   \n",
       "3                     2                   2                5   \n",
       "4                     6                   4                5   \n",
       "\n",
       "   person_prefer_d_1  person_prefer_d_2  ...  contents_attribute_i  \\\n",
       "0                857                851  ...                     1   \n",
       "1                683               1086  ...                     1   \n",
       "2                514                790  ...                     3   \n",
       "3                114                181  ...                     3   \n",
       "4               1082               1078  ...                     3   \n",
       "\n",
       "   contents_attribute_a  contents_attribute_j  contents_attribute_j_1  \\\n",
       "0                     3                     2                      10   \n",
       "1                     3                     1                       5   \n",
       "2                     3                     1                       3   \n",
       "3                     3                     1                       5   \n",
       "4                     1                     1                       5   \n",
       "\n",
       "   contents_attribute_c  contents_attribute_l  contents_attribute_d  \\\n",
       "0                     1                  1147                   839   \n",
       "1                     1                  1611                   278   \n",
       "2                     1                  1817                   490   \n",
       "3                     1                   101                   150   \n",
       "4                     1                   985                  1097   \n",
       "\n",
       "   contents_attribute_m  contents_attribute_e  contents_attribute_h  \n",
       "0                     1                     5                   263  \n",
       "1                     1                     4                   263  \n",
       "2                     3                     4                   177  \n",
       "3                     5                     3                   177  \n",
       "4                     1                     4                   177  \n",
       "\n",
       "[5 rows x 25 columns]"
      ]
     },
     "execution_count": 251,
     "metadata": {},
     "output_type": "execute_result"
    }
   ],
   "source": [
    "# 카테고리형 특성 원핫인코딩시 컬럼 명 겹치는 문제 해결위해 특성명 변경\n",
    "test25 = test25.rename(columns={'person_attribute_a_1':'person_attribute_a_a'})\n",
    "test25.head()"
   ]
  },
  {
   "cell_type": "code",
   "execution_count": 252,
   "metadata": {},
   "outputs": [
    {
     "data": {
      "text/plain": [
       "[(0, 0, 0, 0),\n",
       " (0, 0, 0, 1),\n",
       " (0, 0, 1, 0),\n",
       " (0, 0, 1, 1),\n",
       " (0, 1, 0, 0),\n",
       " (0, 1, 0, 1),\n",
       " (0, 1, 1, 0),\n",
       " (0, 1, 1, 1),\n",
       " (1, 0, 0, 0),\n",
       " (1, 0, 0, 1),\n",
       " (1, 0, 1, 0),\n",
       " (1, 0, 1, 1),\n",
       " (1, 1, 0, 0),\n",
       " (1, 1, 0, 1),\n",
       " (1, 1, 1, 0),\n",
       " (1, 1, 1, 1)]"
      ]
     },
     "execution_count": 252,
     "metadata": {},
     "output_type": "execute_result"
    }
   ],
   "source": [
    "# 단계(4단계)별로 [0, 1]의 선택지 있는 모든 경우의 수 출력\n",
    "match_cases = list(itertools.product(*[[0,1] for i in range(4)]))\n",
    "match_cases"
   ]
  },
  {
   "cell_type": "markdown",
   "metadata": {},
   "source": [
    "## train"
   ]
  },
  {
   "cell_type": "code",
   "execution_count": 253,
   "metadata": {},
   "outputs": [
    {
     "name": "stdout",
     "output_type": "stream",
     "text": [
      "0 (0, 0, 0, 0) (36913, 35)\n",
      "1 (0, 0, 0, 1) (149770, 35)\n",
      "2 (0, 0, 1, 0) (0, 35)\n",
      "3 (0, 0, 1, 1) (0, 35)\n",
      "4 (0, 1, 0, 0) (0, 35)\n",
      "5 (0, 1, 0, 1) (0, 35)\n",
      "6 (0, 1, 1, 0) (0, 35)\n",
      "7 (0, 1, 1, 1) (0, 35)\n",
      "8 (1, 0, 0, 0) (32635, 35)\n",
      "9 (1, 0, 0, 1) (149006, 35)\n",
      "10 (1, 0, 1, 0) (0, 35)\n",
      "11 (1, 0, 1, 1) (0, 35)\n",
      "12 (1, 1, 0, 0) (12804, 35)\n",
      "13 (1, 1, 0, 1) (45566, 35)\n",
      "14 (1, 1, 1, 0) (20261, 35)\n",
      "15 (1, 1, 1, 1) (54996, 35)\n"
     ]
    }
   ],
   "source": [
    "for num in range(16):\n",
    "    c0, c1, c2, c3 = match_cases[num]\n",
    "    tmp = train[(train['d_l_match_yn']==c0)&(train['d_m_match_yn']==c1)&(train['d_s_match_yn']==c2)&\n",
    "        (train['h_l_match_yn']==c3)]\n",
    "    print(num, match_cases[num], tmp.shape)"
   ]
  },
  {
   "cell_type": "code",
   "execution_count": 293,
   "metadata": {},
   "outputs": [],
   "source": [
    "# 0 (0, 0, 0, 0) (36913, 26)\n",
    "# 1 (0, 0, 0, 1) (149770, 26)\n",
    "# 8 (1, 0, 0, 0) (32635, 26)\n",
    "# 9 (1, 0, 0, 1) (149006, 26)\n",
    "# 12 (1, 1, 0, 0) (12804, 26)\n",
    "# 13 (1, 1, 0, 1) (45566, 26)\n",
    "# 14 (1, 1, 1, 0) (20261, 26)\n",
    "# 15 (1, 1, 1, 1) (54996, 26)"
   ]
  },
  {
   "cell_type": "code",
   "execution_count": 255,
   "metadata": {},
   "outputs": [
    {
     "data": {
      "text/plain": [
       "((0, 0, 0, 0), (36913, 26))"
      ]
     },
     "execution_count": 255,
     "metadata": {},
     "output_type": "execute_result"
    }
   ],
   "source": [
    "num = 0\n",
    "c0, c1, c2, c3 = match_cases[num]\n",
    "train25_df1 = train25[(train25['d_l_match_yn']==c0)&(train25['d_m_match_yn']==c1)&(train25['d_s_match_yn']==c2)&\n",
    "    (train25['h_l_match_yn']==c3)]\n",
    "match_cases[num], train25_df1.shape"
   ]
  },
  {
   "cell_type": "code",
   "execution_count": 256,
   "metadata": {},
   "outputs": [
    {
     "data": {
      "text/plain": [
       "((0, 0, 0, 1), (149770, 26))"
      ]
     },
     "execution_count": 256,
     "metadata": {},
     "output_type": "execute_result"
    }
   ],
   "source": [
    "num = 1\n",
    "c0, c1, c2, c3 = match_cases[num]\n",
    "train25_df2 = train25[(train25['d_l_match_yn']==c0)&(train25['d_m_match_yn']==c1)&(train25['d_s_match_yn']==c2)&\n",
    "    (train25['h_l_match_yn']==c3)]\n",
    "match_cases[num], train25_df2.shape"
   ]
  },
  {
   "cell_type": "code",
   "execution_count": 257,
   "metadata": {},
   "outputs": [
    {
     "data": {
      "text/plain": [
       "((1, 0, 0, 0), (32635, 26))"
      ]
     },
     "execution_count": 257,
     "metadata": {},
     "output_type": "execute_result"
    }
   ],
   "source": [
    "num = 8\n",
    "c0, c1, c2, c3 = match_cases[num]\n",
    "train25_df3 = train25[(train25['d_l_match_yn']==c0)&(train25['d_m_match_yn']==c1)&(train25['d_s_match_yn']==c2)&\n",
    "    (train25['h_l_match_yn']==c3)]\n",
    "match_cases[num], train25_df3.shape"
   ]
  },
  {
   "cell_type": "code",
   "execution_count": 258,
   "metadata": {},
   "outputs": [
    {
     "data": {
      "text/plain": [
       "((1, 0, 0, 1), (149006, 26))"
      ]
     },
     "execution_count": 258,
     "metadata": {},
     "output_type": "execute_result"
    }
   ],
   "source": [
    "num = 9\n",
    "c0, c1, c2, c3 = match_cases[num]\n",
    "train25_df4 = train25[(train25['d_l_match_yn']==c0)&(train25['d_m_match_yn']==c1)&(train25['d_s_match_yn']==c2)&\n",
    "    (train25['h_l_match_yn']==c3)]\n",
    "match_cases[num], train25_df4.shape"
   ]
  },
  {
   "cell_type": "code",
   "execution_count": 259,
   "metadata": {},
   "outputs": [
    {
     "data": {
      "text/plain": [
       "((1, 1, 0, 0), (12804, 26))"
      ]
     },
     "execution_count": 259,
     "metadata": {},
     "output_type": "execute_result"
    }
   ],
   "source": [
    "num = 12\n",
    "c0, c1, c2, c3 = match_cases[num]\n",
    "train25_df5 = train25[(train25['d_l_match_yn']==c0)&(train25['d_m_match_yn']==c1)&(train25['d_s_match_yn']==c2)&\n",
    "    (train25['h_l_match_yn']==c3)]\n",
    "match_cases[num], train25_df5.shape"
   ]
  },
  {
   "cell_type": "code",
   "execution_count": 260,
   "metadata": {},
   "outputs": [
    {
     "data": {
      "text/plain": [
       "((1, 1, 0, 1), (45566, 26))"
      ]
     },
     "execution_count": 260,
     "metadata": {},
     "output_type": "execute_result"
    }
   ],
   "source": [
    "num = 13\n",
    "c0, c1, c2, c3 = match_cases[num]\n",
    "train25_df6 = train25[(train25['d_l_match_yn']==c0)&(train25['d_m_match_yn']==c1)&(train25['d_s_match_yn']==c2)&\n",
    "    (train25['h_l_match_yn']==c3)]\n",
    "match_cases[num], train25_df6.shape"
   ]
  },
  {
   "cell_type": "code",
   "execution_count": 261,
   "metadata": {},
   "outputs": [
    {
     "data": {
      "text/plain": [
       "((1, 1, 1, 0), (20261, 26))"
      ]
     },
     "execution_count": 261,
     "metadata": {},
     "output_type": "execute_result"
    }
   ],
   "source": [
    "num = 14\n",
    "c0, c1, c2, c3 = match_cases[num]\n",
    "train25_df7 = train25[(train25['d_l_match_yn']==c0)&(train25['d_m_match_yn']==c1)&(train25['d_s_match_yn']==c2)&\n",
    "    (train25['h_l_match_yn']==c3)]\n",
    "match_cases[num], train25_df7.shape"
   ]
  },
  {
   "cell_type": "code",
   "execution_count": 262,
   "metadata": {},
   "outputs": [
    {
     "data": {
      "text/plain": [
       "((1, 1, 1, 1), (54996, 26))"
      ]
     },
     "execution_count": 262,
     "metadata": {},
     "output_type": "execute_result"
    }
   ],
   "source": [
    "num = 15\n",
    "c0, c1, c2, c3 = match_cases[num]\n",
    "train25_df8 = train25[(train25['d_l_match_yn']==c0)&(train25['d_m_match_yn']==c1)&(train25['d_s_match_yn']==c2)&\n",
    "    (train25['h_l_match_yn']==c3)]\n",
    "match_cases[num], train25_df8.shape"
   ]
  },
  {
   "cell_type": "code",
   "execution_count": 266,
   "metadata": {},
   "outputs": [],
   "source": [
    "df_list= [train25_df1, train25_df2, train25_df3, train25_df4,\n",
    "        train25_df5, train25_df6, train25_df7, train25_df8]"
   ]
  },
  {
   "cell_type": "code",
   "execution_count": 269,
   "metadata": {},
   "outputs": [
    {
     "data": {
      "text/html": [
       "<div>\n",
       "<style scoped>\n",
       "    .dataframe tbody tr th:only-of-type {\n",
       "        vertical-align: middle;\n",
       "    }\n",
       "\n",
       "    .dataframe tbody tr th {\n",
       "        vertical-align: top;\n",
       "    }\n",
       "\n",
       "    .dataframe thead th {\n",
       "        text-align: right;\n",
       "    }\n",
       "</style>\n",
       "<table border=\"1\" class=\"dataframe\">\n",
       "  <thead>\n",
       "    <tr style=\"text-align: right;\">\n",
       "      <th></th>\n",
       "      <th>train25_df1</th>\n",
       "      <th>train25_df2</th>\n",
       "      <th>train25_df3</th>\n",
       "      <th>train25_df4</th>\n",
       "      <th>train25_df5</th>\n",
       "      <th>train25_df6</th>\n",
       "      <th>train25_df7</th>\n",
       "      <th>train25_df8</th>\n",
       "    </tr>\n",
       "  </thead>\n",
       "  <tbody>\n",
       "    <tr>\n",
       "      <th>0</th>\n",
       "      <td>0.582342</td>\n",
       "      <td>0.59558</td>\n",
       "      <td>0.508779</td>\n",
       "      <td>0.470397</td>\n",
       "      <td>0.457045</td>\n",
       "      <td>0.396392</td>\n",
       "      <td>0.459158</td>\n",
       "      <td>0.3727</td>\n",
       "    </tr>\n",
       "    <tr>\n",
       "      <th>1</th>\n",
       "      <td>0.417658</td>\n",
       "      <td>0.40442</td>\n",
       "      <td>0.491221</td>\n",
       "      <td>0.529603</td>\n",
       "      <td>0.542955</td>\n",
       "      <td>0.603608</td>\n",
       "      <td>0.540842</td>\n",
       "      <td>0.6273</td>\n",
       "    </tr>\n",
       "  </tbody>\n",
       "</table>\n",
       "</div>"
      ],
      "text/plain": [
       "   train25_df1  train25_df2  train25_df3  train25_df4  train25_df5  \\\n",
       "0     0.582342      0.59558     0.508779     0.470397     0.457045   \n",
       "1     0.417658      0.40442     0.491221     0.529603     0.542955   \n",
       "\n",
       "   train25_df6  train25_df7  train25_df8  \n",
       "0     0.396392     0.459158       0.3727  \n",
       "1     0.603608     0.540842       0.6273  "
      ]
     },
     "execution_count": 269,
     "metadata": {},
     "output_type": "execute_result"
    }
   ],
   "source": [
    "target_df = pd.DataFrame()\n",
    "for df in df_list:\n",
    "    tmp = df['target'].value_counts(normalize=True)\n",
    "    tmp_df = pd.DataFrame(tmp)\n",
    "    target_df = pd.concat([target_df, tmp_df], axis=1)\n",
    "\n",
    "target_df.columns = ['train25_df1', 'train25_df2', 'train25_df3', 'train25_df4',\n",
    "        'train25_df5', 'train25_df6', 'train25_df7', 'train25_df8']\n",
    "target_df"
   ]
  },
  {
   "cell_type": "code",
   "execution_count": null,
   "metadata": {},
   "outputs": [
    {
     "name": "stderr",
     "output_type": "stream",
     "text": [
      "100%|██████████| 8/8 [00:00<00:00, 14.97it/s]\n"
     ]
    },
    {
     "data": {
      "text/html": [
       "<div>\n",
       "<style scoped>\n",
       "    .dataframe tbody tr th:only-of-type {\n",
       "        vertical-align: middle;\n",
       "    }\n",
       "\n",
       "    .dataframe tbody tr th {\n",
       "        vertical-align: top;\n",
       "    }\n",
       "\n",
       "    .dataframe thead th {\n",
       "        text-align: right;\n",
       "    }\n",
       "</style>\n",
       "<table border=\"1\" class=\"dataframe\">\n",
       "  <thead>\n",
       "    <tr style=\"text-align: right;\">\n",
       "      <th></th>\n",
       "      <th>train25_df1</th>\n",
       "      <th>train25_df2</th>\n",
       "      <th>train25_df3</th>\n",
       "      <th>train25_df4</th>\n",
       "      <th>train25_df5</th>\n",
       "      <th>train25_df6</th>\n",
       "      <th>train25_df7</th>\n",
       "      <th>train25_df8</th>\n",
       "    </tr>\n",
       "  </thead>\n",
       "  <tbody>\n",
       "    <tr>\n",
       "      <th>0</th>\n",
       "      <td>0.582342</td>\n",
       "      <td>0.59558</td>\n",
       "      <td>0.508779</td>\n",
       "      <td>0.470397</td>\n",
       "      <td>0.457045</td>\n",
       "      <td>0.396392</td>\n",
       "      <td>0.459158</td>\n",
       "      <td>0.3727</td>\n",
       "    </tr>\n",
       "    <tr>\n",
       "      <th>1</th>\n",
       "      <td>0.417658</td>\n",
       "      <td>0.40442</td>\n",
       "      <td>0.491221</td>\n",
       "      <td>0.529603</td>\n",
       "      <td>0.542955</td>\n",
       "      <td>0.603608</td>\n",
       "      <td>0.540842</td>\n",
       "      <td>0.6273</td>\n",
       "    </tr>\n",
       "  </tbody>\n",
       "</table>\n",
       "</div>"
      ],
      "text/plain": [
       "   train25_df1  train25_df2  train25_df3  train25_df4  train25_df5  \\\n",
       "0     0.582342      0.59558     0.508779     0.470397     0.457045   \n",
       "1     0.417658      0.40442     0.491221     0.529603     0.542955   \n",
       "\n",
       "   train25_df6  train25_df7  train25_df8  \n",
       "0     0.396392     0.459158       0.3727  \n",
       "1     0.603608     0.540842       0.6273  "
      ]
     },
     "metadata": {},
     "output_type": "display_data"
    }
   ],
   "source": [
    "train_df = pd.DataFrame()\n",
    "num_list = [0, 1, 8, 9, 12, 13, 14, 15]\n",
    "\n",
    "for num in tqdm(num_list):\n",
    "  c0, c1, c2, c3 = match_cases[num]\n",
    "  tmp = train[(train['d_l_match_yn']==c0)&(train['d_m_match_yn']==c1)&(train['d_s_match_yn']==c2)&\n",
    "  (train['h_l_match_yn']==c3)]\n",
    "  tmp_target = tmp['target'].value_counts(normalize=True)\n",
    "  tmp_df = pd.DataFrame(tmp_target)\n",
    "  train_df = pd.concat([train_df, tmp_df], axis=1)\n",
    "\n",
    "train_df.columns = ['train25_df1', 'train25_df2', 'train25_df3', 'train25_df4',\n",
    "        'train25_df5', 'train25_df6', 'train25_df7', 'train25_df8']\n",
    "train_df"
   ]
  },
  {
   "cell_type": "markdown",
   "metadata": {},
   "source": [
    "## 매칭 경우의 수별 시각화"
   ]
  },
  {
   "cell_type": "code",
   "execution_count": 299,
   "metadata": {},
   "outputs": [
    {
     "data": {
      "text/plain": [
       "<matplotlib.legend.Legend at 0x1abb8f93f40>"
      ]
     },
     "execution_count": 299,
     "metadata": {},
     "output_type": "execute_result"
    },
    {
     "data": {
      "image/png": "[encoded data removed]",
      "text/plain": [
       "<Figure size 1080x432 with 1 Axes>"
      ]
     },
     "metadata": {
      "needs_background": "light"
     },
     "output_type": "display_data"
    }
   ],
   "source": [
    "plt.figure(figsize=(15,6))\n",
    "plt.title('train25의 경우의 수 별, target비율', fontdict={'size':20})\n",
    "plt.xticks(fontsize=15, rotation=-45)\n",
    "plt.yticks(fontsize=15)\n",
    "plt.grid(True)\n",
    "plt.plot(train_df.iloc[0,:], label='False', color='red')\n",
    "plt.plot(train_df.iloc[1,:], label='True', color='blue')\n",
    "plt.legend(fontsize=13)"
   ]
  },
  {
   "cell_type": "markdown",
   "metadata": {},
   "source": [
    "## test"
   ]
  },
  {
   "cell_type": "code",
   "execution_count": 274,
   "metadata": {},
   "outputs": [
    {
     "name": "stdout",
     "output_type": "stream",
     "text": [
      "0 (0, 0, 0, 0) (3343, 34)\n",
      "1 (0, 0, 0, 1) (14263, 34)\n",
      "2 (0, 0, 1, 0) (0, 34)\n",
      "3 (0, 0, 1, 1) (0, 34)\n",
      "4 (0, 1, 0, 0) (0, 34)\n",
      "5 (0, 1, 0, 1) (0, 34)\n",
      "6 (0, 1, 1, 0) (0, 34)\n",
      "7 (0, 1, 1, 1) (0, 34)\n",
      "8 (1, 0, 0, 0) (2821, 34)\n",
      "9 (1, 0, 0, 1) (13477, 34)\n",
      "10 (1, 0, 1, 0) (0, 34)\n",
      "11 (1, 0, 1, 1) (0, 34)\n",
      "12 (1, 1, 0, 0) (1137, 34)\n",
      "13 (1, 1, 0, 1) (4287, 34)\n",
      "14 (1, 1, 1, 0) (1788, 34)\n",
      "15 (1, 1, 1, 1) (5288, 34)\n"
     ]
    }
   ],
   "source": [
    "for num in range(16):\n",
    "    c0, c1, c2, c3 = match_cases[num]\n",
    "    tmp = test[(test['d_l_match_yn']==c0)&(test['d_m_match_yn']==c1)&(test['d_s_match_yn']==c2)&\n",
    "        (test['h_l_match_yn']==c3)]\n",
    "    print(num, match_cases[num], tmp.shape)"
   ]
  },
  {
   "cell_type": "code",
   "execution_count": null,
   "metadata": {},
   "outputs": [],
   "source": [
    "# 0 (0, 0, 0, 0) (3343, 25)\n",
    "# 1 (0, 0, 0, 1) (14263, 25)\n",
    "# 8 (1, 0, 0, 0) (2821, 25)\n",
    "# 9 (1, 0, 0, 1) (13477, 25)\n",
    "# 12 (1, 1, 0, 0) (1137, 25)\n",
    "# 13 (1, 1, 0, 1) (4287, 25)\n",
    "# 14 (1, 1, 1, 0) (1788, 25)\n",
    "# 15 (1, 1, 1, 1) (5288, 25)"
   ]
  },
  {
   "cell_type": "code",
   "execution_count": 284,
   "metadata": {},
   "outputs": [
    {
     "data": {
      "text/plain": [
       "((0, 0, 0, 0), (3343, 25))"
      ]
     },
     "execution_count": 284,
     "metadata": {},
     "output_type": "execute_result"
    }
   ],
   "source": [
    "num = 0\n",
    "c0, c1, c2, c3 = match_cases[num]\n",
    "test25_df1 = test25[(test25['d_l_match_yn']==c0)&(test25['d_m_match_yn']==c1)&(test25['d_s_match_yn']==c2)&\n",
    "    (test25['h_l_match_yn']==c3)]\n",
    "match_cases[num], test25_df1.shape"
   ]
  },
  {
   "cell_type": "code",
   "execution_count": 285,
   "metadata": {},
   "outputs": [
    {
     "data": {
      "text/plain": [
       "((0, 0, 0, 1), (14263, 25))"
      ]
     },
     "execution_count": 285,
     "metadata": {},
     "output_type": "execute_result"
    }
   ],
   "source": [
    "num = 1\n",
    "c0, c1, c2, c3 = match_cases[num]\n",
    "test25_df2 = test25[(test25['d_l_match_yn']==c0)&(test25['d_m_match_yn']==c1)&(test25['d_s_match_yn']==c2)&\n",
    "    (test25['h_l_match_yn']==c3)]\n",
    "match_cases[num], test25_df2.shape"
   ]
  },
  {
   "cell_type": "code",
   "execution_count": 286,
   "metadata": {},
   "outputs": [
    {
     "data": {
      "text/plain": [
       "((1, 0, 0, 0), (2821, 25))"
      ]
     },
     "execution_count": 286,
     "metadata": {},
     "output_type": "execute_result"
    }
   ],
   "source": [
    "num = 8\n",
    "c0, c1, c2, c3 = match_cases[num]\n",
    "test25_df3 = test25[(test25['d_l_match_yn']==c0)&(test25['d_m_match_yn']==c1)&(test25['d_s_match_yn']==c2)&\n",
    "    (test25['h_l_match_yn']==c3)]\n",
    "match_cases[num], test25_df3.shape"
   ]
  },
  {
   "cell_type": "code",
   "execution_count": 287,
   "metadata": {},
   "outputs": [
    {
     "data": {
      "text/plain": [
       "((1, 0, 0, 1), (13477, 25))"
      ]
     },
     "execution_count": 287,
     "metadata": {},
     "output_type": "execute_result"
    }
   ],
   "source": [
    "num = 9\n",
    "c0, c1, c2, c3 = match_cases[num]\n",
    "test25_df4 = test25[(test25['d_l_match_yn']==c0)&(test25['d_m_match_yn']==c1)&(test25['d_s_match_yn']==c2)&\n",
    "    (test25['h_l_match_yn']==c3)]\n",
    "match_cases[num], test25_df4.shape"
   ]
  },
  {
   "cell_type": "code",
   "execution_count": 288,
   "metadata": {},
   "outputs": [
    {
     "data": {
      "text/plain": [
       "((1, 1, 0, 0), (1137, 25))"
      ]
     },
     "execution_count": 288,
     "metadata": {},
     "output_type": "execute_result"
    }
   ],
   "source": [
    "num = 12\n",
    "c0, c1, c2, c3 = match_cases[num]\n",
    "test25_df5 = test25[(test25['d_l_match_yn']==c0)&(test25['d_m_match_yn']==c1)&(test25['d_s_match_yn']==c2)&\n",
    "    (test25['h_l_match_yn']==c3)]\n",
    "match_cases[num], test25_df5.shape"
   ]
  },
  {
   "cell_type": "code",
   "execution_count": 289,
   "metadata": {},
   "outputs": [
    {
     "data": {
      "text/plain": [
       "((1, 1, 0, 1), (4287, 25))"
      ]
     },
     "execution_count": 289,
     "metadata": {},
     "output_type": "execute_result"
    }
   ],
   "source": [
    "num = 13\n",
    "c0, c1, c2, c3 = match_cases[num]\n",
    "test25_df6 = test25[(test25['d_l_match_yn']==c0)&(test25['d_m_match_yn']==c1)&(test25['d_s_match_yn']==c2)&\n",
    "    (test25['h_l_match_yn']==c3)]\n",
    "match_cases[num], test25_df6.shape"
   ]
  },
  {
   "cell_type": "code",
   "execution_count": 290,
   "metadata": {},
   "outputs": [
    {
     "data": {
      "text/plain": [
       "((1, 1, 1, 0), (1788, 25))"
      ]
     },
     "execution_count": 290,
     "metadata": {},
     "output_type": "execute_result"
    }
   ],
   "source": [
    "num = 14\n",
    "c0, c1, c2, c3 = match_cases[num]\n",
    "test25_df7 = test25[(test25['d_l_match_yn']==c0)&(test25['d_m_match_yn']==c1)&(test25['d_s_match_yn']==c2)&\n",
    "    (test25['h_l_match_yn']==c3)]\n",
    "match_cases[num], test25_df7.shape"
   ]
  },
  {
   "cell_type": "code",
   "execution_count": 291,
   "metadata": {},
   "outputs": [
    {
     "data": {
      "text/plain": [
       "((1, 1, 1, 1), (5288, 25))"
      ]
     },
     "execution_count": 291,
     "metadata": {},
     "output_type": "execute_result"
    }
   ],
   "source": [
    "num = 15\n",
    "c0, c1, c2, c3 = match_cases[num]\n",
    "test25_df8 = test25[(test25['d_l_match_yn']==c0)&(test25['d_m_match_yn']==c1)&(test25['d_s_match_yn']==c2)&\n",
    "    (test25['h_l_match_yn']==c3)]\n",
    "match_cases[num], test25_df8.shape"
   ]
  },
  {
   "cell_type": "code",
   "execution_count": 292,
   "metadata": {},
   "outputs": [],
   "source": [
    "test_df_list= [test25_df1, test25_df2, test25_df3, test25_df4,\n",
    "        test25_df5, test25_df6, test25_df7, test25_df8]"
   ]
  },
  {
   "cell_type": "markdown",
   "metadata": {},
   "source": [
    "# 마지막 부분"
   ]
  }
 ],
 "metadata": {
  "interpreter": {
   "hash": "8ae3dcd19c82398a5ce067019491007897b01e5b53746170904cf60dcf0d8fb4"
  },
  "kernelspec": {
   "display_name": "Python 3",
   "language": "python",
   "name": "python3"
  },
  "language_info": {
   "codemirror_mode": {
    "name": "ipython",
    "version": 3
   },
   "file_extension": ".py",
   "mimetype": "text/x-python",
   "name": "python",
   "nbconvert_exporter": "python",
   "pygments_lexer": "ipython3",
   "version": "3.8.8"
  }
 },
 "nbformat": 4,
 "nbformat_minor": 2
}
